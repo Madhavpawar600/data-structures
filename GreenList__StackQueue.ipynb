{
 "cells": [
  {
   "cell_type": "markdown",
   "metadata": {},
   "source": [
    "# Circular Tour\n",
    "https://www.geeksforgeeks.org/find-a-tour-that-visits-all-stations/"
   ]
  },
  {
   "cell_type": "code",
   "execution_count": 1,
   "metadata": {},
   "outputs": [
    {
     "data": {
      "text/plain": [
       "2"
      ]
     },
     "execution_count": 1,
     "metadata": {},
     "output_type": "execute_result"
    }
   ],
   "source": [
    "class Pair:\n",
    "    def __init__(self,petrol,distance):\n",
    "        self.petrol=petrol\n",
    "        self.distance=distance\n",
    "def CircularTour(arr):\n",
    "    n=len(arr)\n",
    "    start=0\n",
    "    end=1\n",
    "    currPetrol=arr[start].petrol-arr[start].distance\n",
    "    while start!=end or currPetrol<0:\n",
    "        \n",
    "        while currPetrol<0 and start!=end:\n",
    "            currPetrol-=arr[start].petrol-arr[start].distance #it remove previous ans\n",
    "            start=(start+1)%n\n",
    "            \n",
    "            if start==0:\n",
    "                return -1\n",
    "        currPetrol+=arr[end].petrol-arr[end].distance\n",
    "        end=(end+1)%n\n",
    "    return start\n",
    "CircularTour([Pair(6,4),Pair(3,6),Pair(7,3)])"
   ]
  },
  {
   "cell_type": "markdown",
   "metadata": {},
   "source": [
    "# Length of Longest valid Substring\n",
    "https://www.geeksforgeeks.org/length-of-the-longest-valid-substring/"
   ]
  },
  {
   "cell_type": "code",
   "execution_count": 26,
   "metadata": {},
   "outputs": [
    {
     "data": {
      "text/plain": [
       "12"
      ]
     },
     "execution_count": 26,
     "metadata": {},
     "output_type": "execute_result"
    }
   ],
   "source": [
    "#approach store string and idx if (-push if )-if last ( then pop \n",
    "#len=i-stack[-2][1]\n",
    "def LongestValid(string):\n",
    "    stack=[(')',-1)]\n",
    "    maxlen=0\n",
    "    for i in range(0,len(string)):\n",
    "        ch=string[i]\n",
    "        if ch=='(':\n",
    "            stack.append((ch,i))\n",
    "        else:\n",
    "            if len(stack)!=0 and stack[-1][0]=='(':\n",
    "                length=i-(stack[-2][1])\n",
    "                maxlen=max(maxlen,length)\n",
    "                stack.pop()\n",
    "            else:\n",
    "                stack.append((ch,i))\n",
    "    return maxlen\n",
    "LongestValid('()()(((())))')"
   ]
  },
  {
   "cell_type": "markdown",
   "metadata": {},
   "source": [
    "# Print Binary number till N"
   ]
  },
  {
   "cell_type": "code",
   "execution_count": 5,
   "metadata": {},
   "outputs": [
    {
     "name": "stdout",
     "output_type": "stream",
     "text": [
      "1 10 11 100 101 110 111 "
     ]
    }
   ],
   "source": [
    "#given N print its binary numbers\n",
    "def printBinary(N):\n",
    "    queue=['1']\n",
    "    i=1\n",
    "    while N!=1:\n",
    "        peek=queue.pop(0)\n",
    "        print(peek,end=' ')\n",
    "        queue.append((peek+'0'))\n",
    "        queue.append((peek+'1'))\n",
    "        N-=1\n",
    "printBinary(8)"
   ]
  },
  {
   "cell_type": "markdown",
   "metadata": {},
   "source": [
    "# String Compare after deletion\n",
    "compare two strings s and t. if # comes ie backspace del previous element"
   ]
  },
  {
   "cell_type": "code",
   "execution_count": 6,
   "metadata": {},
   "outputs": [
    {
     "data": {
      "text/plain": [
       "True"
      ]
     },
     "execution_count": 6,
     "metadata": {},
     "output_type": "execute_result"
    }
   ],
   "source": [
    "def stringCompare(s,t):\n",
    "    stack1=[]\n",
    "    stack2=[]\n",
    "    for i in s:\n",
    "        if i=='#':\n",
    "            stack1.pop()\n",
    "        else:\n",
    "            stack1.append(i)\n",
    "    for i in t:\n",
    "        if i=='#':\n",
    "            stack2.pop()\n",
    "        else:\n",
    "            stack2.append(i)\n",
    "    return stack1==stack2\n",
    "stringCompare('abc#t','abdff###t')"
   ]
  },
  {
   "cell_type": "markdown",
   "metadata": {},
   "source": [
    "# Adjacent twins\n",
    "given string if two adjacents are same then del these elements"
   ]
  },
  {
   "cell_type": "code",
   "execution_count": 10,
   "metadata": {},
   "outputs": [
    {
     "data": {
      "text/plain": [
       "'ca'"
      ]
     },
     "execution_count": 10,
     "metadata": {},
     "output_type": "execute_result"
    }
   ],
   "source": [
    "def adjacentTwins(string):\n",
    "    stack=[]\n",
    "    for i in string:\n",
    "        if len(stack)!=0 and i==stack[-1]:\n",
    "            stack.pop()\n",
    "        else:\n",
    "            stack.append(i)\n",
    "    return ''.join(stack)\n",
    "adjacentTwins('abaabaca')"
   ]
  },
  {
   "cell_type": "markdown",
   "metadata": {},
   "source": [
    "# Consecutive pairs in an array\n",
    "check weather the pairs are consecutive or not. if len(arr) is odd then we can neglect last element."
   ]
  },
  {
   "cell_type": "code",
   "execution_count": 16,
   "metadata": {},
   "outputs": [
    {
     "name": "stdout",
     "output_type": "stream",
     "text": [
      "[]\n"
     ]
    },
    {
     "data": {
      "text/plain": [
       "True"
      ]
     },
     "execution_count": 16,
     "metadata": {},
     "output_type": "execute_result"
    }
   ],
   "source": [
    "def consecutivePairs(arr):\n",
    "    stack=[]\n",
    "    for i in range(0,len(arr)):\n",
    "        if i%2==0:\n",
    "            stack.append(arr[i])\n",
    "        else:\n",
    "            if stack[-1]==arr[i]-1:\n",
    "                stack.pop()\n",
    "    print(stack)\n",
    "    if len(arr)%2==1 and len(stack)==1:\n",
    "        return True\n",
    "    return len(stack)==0\n",
    "consecutivePairs([1,2,-3,-2,4,5])"
   ]
  },
  {
   "cell_type": "markdown",
   "metadata": {},
   "source": [
    "# Sort the stack\n",
    "while inserting the elements"
   ]
  },
  {
   "cell_type": "code",
   "execution_count": 19,
   "metadata": {},
   "outputs": [
    {
     "data": {
      "text/plain": [
       "[-11, 0, 1, 2, 3, 5, 7, 9]"
      ]
     },
     "execution_count": 19,
     "metadata": {},
     "output_type": "execute_result"
    }
   ],
   "source": [
    "def SortStack(arr):\n",
    "    mainStack=[arr[0]]\n",
    "    helperStack=[]\n",
    "    for element in arr[1:]:\n",
    "        if mainStack[-1]<element:\n",
    "            mainStack.append(element)\n",
    "        else:\n",
    "            helperStack.append(mainStack.pop())\n",
    "            while len(mainStack)!=0:\n",
    "                if mainStack[-1]<element:\n",
    "                    break\n",
    "                else:\n",
    "                    helperStack.append(mainStack.pop())\n",
    "            mainStack.append(element)\n",
    "            while len(helperStack)!=0:\n",
    "                mainStack.append(helperStack.pop())\n",
    "    return mainStack\n",
    "SortStack([2,5,1,7,3,9,0,-11])\n",
    "                    "
   ]
  },
  {
   "cell_type": "markdown",
   "metadata": {},
   "source": [
    "# Next Greater Element"
   ]
  },
  {
   "cell_type": "code",
   "execution_count": 52,
   "metadata": {},
   "outputs": [
    {
     "data": {
      "text/plain": [
       "[23, 34, 34, -1, -1]"
      ]
     },
     "execution_count": 52,
     "metadata": {},
     "output_type": "execute_result"
    }
   ],
   "source": [
    "def NextGE(arr):\n",
    "    n=len(arr)-1\n",
    "    stack=[arr[n]]\n",
    "    store=[-1]*len(arr)\n",
    "    for idx in range(n-1,-1,-1):\n",
    "        element=arr[idx]\n",
    "        peek=stack[-1]\n",
    "        if peek>element: # if peek is greater than append peek\n",
    "            store[idx]=peek\n",
    "            stack.append(element)\n",
    "        else:\n",
    "            while len(stack)!=0 and peek<element:\n",
    "                stack.pop()\n",
    "                if len(stack)!=0:\n",
    "                    peek=stack[-1]\n",
    "            if len(stack)==0:\n",
    "                store[idx]=-1\n",
    "            else:\n",
    "                store[idx]=peek\n",
    "            stack.append(element)\n",
    "    return store\n",
    "NextGE([2,23,1,34,5])"
   ]
  },
  {
   "cell_type": "markdown",
   "metadata": {},
   "source": [
    "# Last Greater Element"
   ]
  },
  {
   "cell_type": "code",
   "execution_count": 26,
   "metadata": {},
   "outputs": [
    {
     "data": {
      "text/plain": [
       "[-1, 3, 3, -1, 44, 44]"
      ]
     },
     "execution_count": 26,
     "metadata": {},
     "output_type": "execute_result"
    }
   ],
   "source": [
    "def LastGE(arr):\n",
    "    stack=[arr[0]]\n",
    "    store=[-1]\n",
    "    for idx in range(1,len(arr)):\n",
    "        element=arr[idx]\n",
    "        peek=stack[-1]\n",
    "        if peek>element:\n",
    "            stack.append(element)\n",
    "            store.append(peek)\n",
    "        else:\n",
    "            while len(stack)!=0 and peek<element:\n",
    "                stack.pop()\n",
    "                if len(stack)!=0:\n",
    "                    peek=stack[-1]\n",
    "            if len(stack)==0:\n",
    "                store.append(-1)\n",
    "            else:\n",
    "                store.append(peek)\n",
    "            stack.append(element)\n",
    "    return store\n",
    "LastGE([3,1,2,44,5,12])"
   ]
  },
  {
   "cell_type": "markdown",
   "metadata": {},
   "source": [
    "# Next Greater Element in Circular Array"
   ]
  },
  {
   "cell_type": "code",
   "execution_count": 53,
   "metadata": {},
   "outputs": [
    {
     "data": {
      "text/plain": [
       "[5, 9, 9, 9, 9, 5, 5]"
      ]
     },
     "execution_count": 53,
     "metadata": {},
     "output_type": "execute_result"
    }
   ],
   "source": [
    "# if we assume double arr ie [1,2,3]=[1,2,3,1,2,3] then we can apply operation.\n",
    "def NextGECArr(arr):\n",
    "    actuallen=len(arr)\n",
    "    virtuallen=len(arr)*2\n",
    "    stack=[arr[-1]]\n",
    "    store=[-1]*len(arr)\n",
    "    \n",
    "    for i in range(virtuallen-2,-1,-1):\n",
    "        idx=i%actuallen\n",
    "        element=arr[idx]\n",
    "        peek=stack[-1]\n",
    "        if peek>element:\n",
    "            stack.append(element)\n",
    "            store[idx]=peek\n",
    "        else:\n",
    "            while len(stack)!=0 and peek<element:\n",
    "                stack.pop()\n",
    "                if len(stack)!=0:\n",
    "                    peek=stack[-1]\n",
    "            if len(stack)==0:\n",
    "                store[idx]=-1\n",
    "            else:\n",
    "                store[idx]=peek\n",
    "            stack.append(element)\n",
    "    return store\n",
    "NextGECArr([2,5,2,9,7,4,3])"
   ]
  },
  {
   "cell_type": "markdown",
   "metadata": {},
   "source": [
    "# Maximum Abs diff of left and right smaller"
   ]
  },
  {
   "cell_type": "code",
   "execution_count": 58,
   "metadata": {},
   "outputs": [
    {
     "name": "stdout",
     "output_type": "stream",
     "text": [
      "[0, 1, 1, 2, 4, 4, 4, 5, 0]\n",
      "[0, 2, 1, 1, 6, 5, 1, 1, 0]\n",
      "4\n"
     ]
    }
   ],
   "source": [
    "def nextSmallestL(arr):\n",
    "    store=[0]*len(arr)\n",
    "    stack=[arr[0]]\n",
    "    for idx in range(1,len(arr)-1):\n",
    "        element=arr[idx]\n",
    "        peek=stack[-1]\n",
    "        if peek<element:\n",
    "            stack.append(element)\n",
    "            store[idx]=peek\n",
    "        else:\n",
    "            while len(stack)!=0 and peek>element:\n",
    "                stack.pop()\n",
    "                if len(stack)!=0:\n",
    "                    peek=stack[-1]\n",
    "            if len(stack)==0:\n",
    "                store[idx]=0\n",
    "            else:\n",
    "                store[idx]=peek\n",
    "            stack.append(element)\n",
    "    return store\n",
    "\n",
    "def nextSmallestR(arr):\n",
    "    store=[0]*len(arr)\n",
    "    stack=[arr[-1]]\n",
    "    n=len(arr)\n",
    "    \n",
    "    for idx in range(n-2,0,-1):\n",
    "        peek=stack[-1]\n",
    "        element=arr[idx]\n",
    "        if peek<element:\n",
    "            store[idx]=peek\n",
    "            stack.append(element)\n",
    "        else:\n",
    "            while len(stack)!=0 and peek>element:\n",
    "                stack.pop()\n",
    "                if len(stack)!=0:\n",
    "                    peek=stack[-1]\n",
    "            if len(stack)==0:\n",
    "                store[idx]=0\n",
    "            else:\n",
    "                store[idx]=peek\n",
    "            stack.append(element)\n",
    "    return store\n",
    "\n",
    "def maxAbsLR(arr):\n",
    "    nsl=nextSmallestL(arr)\n",
    "    nsr=nextSmallestR(arr)\n",
    "    print(nsl)\n",
    "    print(nsr)\n",
    "    max1=0\n",
    "    for i in range(0,len(arr)):\n",
    "        diff=abs(nsl[i]-nsr[i])\n",
    "        max1=max(max1,diff)\n",
    "    print(max1)\n",
    "maxAbsLR([1,3,2,4,8,6,5,9,1])"
   ]
  },
  {
   "cell_type": "markdown",
   "metadata": {},
   "source": [
    "# Merge Intervals\n",
    "merge meeting time"
   ]
  },
  {
   "cell_type": "code",
   "execution_count": 62,
   "metadata": {},
   "outputs": [
    {
     "data": {
      "text/plain": [
       "[[1, 4], [5, 8]]"
      ]
     },
     "execution_count": 62,
     "metadata": {},
     "output_type": "execute_result"
    }
   ],
   "source": [
    "def mergeIntervals(arr):\n",
    "    arr=sorted(arr,key=lambda x:x[0])\n",
    "    stack=[arr[0]]\n",
    "    \n",
    "    for i in range(1,len(arr)):\n",
    "        peek=stack.pop()\n",
    "        if peek[1]>arr[i][0]:\n",
    "            if peek[1]<arr[i][1]:\n",
    "                peek[1]=arr[i][1]\n",
    "            stack.append(peek)    \n",
    "        else:\n",
    "            stack.append(peek)\n",
    "            stack.append(arr[i])\n",
    "    return stack\n",
    "mergeIntervals([[1,3],[2,4],[5,7],[6,8]])"
   ]
  },
  {
   "cell_type": "markdown",
   "metadata": {},
   "source": [
    "# Maximum Rectangle Area Histogram\n",
    "width=RSEindex-LSEindex-1 area=arr[i] * width"
   ]
  },
  {
   "cell_type": "code",
   "execution_count": 1,
   "metadata": {},
   "outputs": [
    {
     "name": "stdout",
     "output_type": "stream",
     "text": [
      "Area of Rectangle 14\n"
     ]
    }
   ],
   "source": [
    "def LeftSmallest(arr):\n",
    "    store=[-1]\n",
    "    stack=[0]\n",
    "    for i in range(1,len(arr)):\n",
    "        peekidx=stack[-1]\n",
    "        element=arr[i]\n",
    "        if arr[peekidx]<element:\n",
    "            stack.append(i)\n",
    "            store.append(peekidx)\n",
    "        else:\n",
    "            while len(stack)!=0 and arr[peekidx]>element:\n",
    "                stack.pop()\n",
    "                if len(stack)!=0:\n",
    "                    peekidx=stack[-1]\n",
    "            if len(stack)==0:\n",
    "                store.append(-1)\n",
    "            else:\n",
    "                store.append(peekidx)\n",
    "            stack.append(i)\n",
    "    return store\n",
    "        \n",
    "def RightSmallest(arr):\n",
    "    stack=[len(arr)-1]\n",
    "    store=[len(arr)]*len(arr)\n",
    "    for i in range(len(arr)-2,-1,-1):\n",
    "        peekidx=stack[-1]\n",
    "        element=arr[i]\n",
    "        if arr[peekidx]<element:\n",
    "            stack.append(i)\n",
    "            store[i]=peekidx\n",
    "        else:\n",
    "            while len(stack)!=0 and arr[peekidx]>element:\n",
    "                stack.pop()\n",
    "                if len(stack)!=0:\n",
    "                    peekidx=stack[-1]\n",
    "            if len(stack)==0:\n",
    "                store[i]=len(arr)\n",
    "            else:\n",
    "                store[i]=peekidx\n",
    "            stack.append(i)\n",
    "    return store\n",
    "def maxAreaHist(arr):\n",
    "    rse=RightSmallest(arr)\n",
    "    lse=LeftSmallest(arr)\n",
    "    maxarea=0\n",
    "    for i in range(0,len(arr)):\n",
    "        width=rse[i]-lse[i]-1\n",
    "        area=arr[i]*width\n",
    "        maxarea=max(area,maxarea)\n",
    "    print('Area of Rectangle',maxarea)\n",
    "maxAreaHist([4,6,5,2,4,6,5])"
   ]
  },
  {
   "cell_type": "markdown",
   "metadata": {},
   "source": [
    "# Rectangle in a Matrix\n",
    "given a Matrix of 0 and 1 area of the largest rectangle by its 1's"
   ]
  },
  {
   "cell_type": "code",
   "execution_count": null,
   "metadata": {},
   "outputs": [],
   "source": []
  },
  {
   "cell_type": "markdown",
   "metadata": {},
   "source": [
    "# Bracket Position"
   ]
  },
  {
   "cell_type": "code",
   "execution_count": 39,
   "metadata": {},
   "outputs": [
    {
     "name": "stdout",
     "output_type": "stream",
     "text": [
      "1 1 2 3 3 2 "
     ]
    }
   ],
   "source": [
    "#approach store counter if str is ( \n",
    "def Bracketposition(string):\n",
    "    stack=[]\n",
    "    hashmap={}\n",
    "    counter=0\n",
    "    for i in range(0,len(string)):\n",
    "        ch=string[i]\n",
    "        if ch=='(':\n",
    "            counter+=1\n",
    "            stack.append((counter,i))\n",
    "        else:\n",
    "            peek=stack.pop()\n",
    "            hashmap[peek[1]]=peek[0]\n",
    "            hashmap[i]=peek[0]\n",
    "    for i in range(0,len(string)):\n",
    "        print(hashmap[i],end=' ')       \n",
    "Bracketposition('()(())')                    "
   ]
  },
  {
   "cell_type": "code",
   "execution_count": null,
   "metadata": {},
   "outputs": [],
   "source": []
  }
 ],
 "metadata": {
  "kernelspec": {
   "display_name": "Python 3",
   "language": "python",
   "name": "python3"
  },
  "language_info": {
   "codemirror_mode": {
    "name": "ipython",
    "version": 3
   },
   "file_extension": ".py",
   "mimetype": "text/x-python",
   "name": "python",
   "nbconvert_exporter": "python",
   "pygments_lexer": "ipython3",
   "version": "3.6.8"
  }
 },
 "nbformat": 4,
 "nbformat_minor": 2
}
