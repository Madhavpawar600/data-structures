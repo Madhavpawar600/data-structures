{
 "cells": [
  {
   "cell_type": "markdown",
   "metadata": {},
   "source": [
    "# Merge Two Sorted arr "
   ]
  },
  {
   "cell_type": "code",
   "execution_count": 16,
   "metadata": {},
   "outputs": [
    {
     "data": {
      "text/plain": [
       "[1, 2, 3, 5, 6]"
      ]
     },
     "execution_count": 16,
     "metadata": {},
     "output_type": "execute_result"
    }
   ],
   "source": [
    "def mergetwoSorted(a,b,idx1,idx2):\n",
    "    if idx1==len(a):\n",
    "        return b[idx2:]\n",
    "    if idx2==len(b):\n",
    "        return a[idx1:]\n",
    "    result=[]\n",
    "    if a[idx1]<b[idx2]:\n",
    "        result.append(a[idx1])\n",
    "        ab=mergetwoSorted(a,b,idx1+1,idx2)\n",
    "        result.extend(ab)\n",
    "    else:\n",
    "        result.append(b[idx2])\n",
    "        ab=mergetwoSorted(a,b,idx1,idx2+1)\n",
    "        result.extend(ab)\n",
    "    return result\n",
    "mergetwoSorted([1,3,6],[2,5],0,0)"
   ]
  },
  {
   "cell_type": "code",
   "execution_count": 18,
   "metadata": {},
   "outputs": [
    {
     "data": {
      "text/plain": [
       "[0, 1, 2, 3, 5, 6]"
      ]
     },
     "execution_count": 18,
     "metadata": {},
     "output_type": "execute_result"
    }
   ],
   "source": [
    "def mergesort(arr,low,high):\n",
    "    if low>high:\n",
    "        return\n",
    "    if low==high:\n",
    "        return [arr[low]]\n",
    "    \n",
    "    mid=(low+high)//2\n",
    "    first=mergesort(arr,low,mid)\n",
    "    second=mergesort(arr,mid+1,high)\n",
    "    sortedlist=mergetwoSorted(first,second,0,0)\n",
    "    return sortedlist\n",
    "mergesort([1,3,6,2,5,0],0,5)"
   ]
  },
  {
   "cell_type": "markdown",
   "metadata": {},
   "source": [
    "# Partition an arr"
   ]
  },
  {
   "cell_type": "code",
   "execution_count": 22,
   "metadata": {},
   "outputs": [
    {
     "data": {
      "text/plain": [
       "1"
      ]
     },
     "execution_count": 22,
     "metadata": {},
     "output_type": "execute_result"
    }
   ],
   "source": [
    "def partition(arr,pivot,l,h):\n",
    "    i=l\n",
    "    j=l\n",
    "    while i<=h:\n",
    "        if arr[i]>pivot:\n",
    "            i+=1\n",
    "        else: #swap\n",
    "            arr[i],arr[j]=arr[j],arr[i]\n",
    "            i+=1\n",
    "            j+=1\n",
    "    return j-1\n",
    "partition([5,4,3,1,2],2,0,4)"
   ]
  },
  {
   "cell_type": "code",
   "execution_count": 24,
   "metadata": {},
   "outputs": [],
   "source": [
    "#quick sort\n",
    "def quickSort(arr,lo,hi):\n",
    "    if lo>hi:\n",
    "        return\n",
    "    pivot=arr[hi]\n",
    "    pi=partition(arr,pivot,lo,hi)\n",
    "    quickSort(arr,lo,pi-1)\n",
    "    quickSort(arr,pi+1,hi)\n",
    "unsort=[5,3,1,2,0,4]\n",
    "quickSort(unsort,0,5)"
   ]
  },
  {
   "cell_type": "code",
   "execution_count": 26,
   "metadata": {},
   "outputs": [],
   "source": [
    "a=['a','a','a','a','b','b']"
   ]
  },
  {
   "cell_type": "code",
   "execution_count": 33,
   "metadata": {},
   "outputs": [],
   "source": [
    "a=''.join(a)"
   ]
  },
  {
   "cell_type": "code",
   "execution_count": 34,
   "metadata": {},
   "outputs": [
    {
     "data": {
      "text/plain": [
       "'aaaab'"
      ]
     },
     "execution_count": 34,
     "metadata": {},
     "output_type": "execute_result"
    }
   ],
   "source": [
    "a[:5]+a[6:]"
   ]
  },
  {
   "cell_type": "code",
   "execution_count": 36,
   "metadata": {},
   "outputs": [],
   "source": [
    "import collections"
   ]
  },
  {
   "cell_type": "code",
   "execution_count": 39,
   "metadata": {},
   "outputs": [
    {
     "name": "stdout",
     "output_type": "stream",
     "text": [
      "defaultdict(<class 'list'>, {'a': [0, 2], 'b': [1]})\n",
      "[-1, 0, 2, 3]\n",
      "[-1, 1, 3]\n"
     ]
    }
   ],
   "source": [
    "def unique(s):\n",
    "    index=collections.defaultdict(list)\n",
    "    for i,c in enumerate(s):\n",
    "        index[c].append(i)\n",
    "    print(index)\n",
    "    for A in index.values():\n",
    "        A=[-1]+A+[len(s)]\n",
    "        \n",
    "        print(A)\n",
    "unique('aba')"
   ]
  },
  {
   "cell_type": "code",
   "execution_count": null,
   "metadata": {},
   "outputs": [],
   "source": [
    "class Solution(object):\n",
    "    def uniqueLetterString(self, S):\n",
    "        index = collections.defaultdict(list)\n",
    "        for i, c in enumerate(S):\n",
    "            index[c].append(i)\n",
    "\n",
    "        ans = 0\n",
    "        for A in index.values():\n",
    "            A = [-1] + A + [len(S)]\n",
    "            for i in xrange(1, len(A) - 1):\n",
    "                ans += (A[i] - A[i-1]) * (A[i+1] - A[i])\n",
    "        return ans % (10**9 + 7)"
   ]
  },
  {
   "cell_type": "code",
   "execution_count": 40,
   "metadata": {},
   "outputs": [
    {
     "data": {
      "text/plain": [
       "['a', 'b', 'c']"
      ]
     },
     "execution_count": 40,
     "metadata": {},
     "output_type": "execute_result"
    }
   ],
   "source": [
    "a=['a','c','b']\n",
    "sorted(a)"
   ]
  },
  {
   "cell_type": "code",
   "execution_count": 84,
   "metadata": {},
   "outputs": [
    {
     "name": "stdout",
     "output_type": "stream",
     "text": [
      "['{', 'a,b']\n",
      "['{', 'a,b', ',', 'd,c']\n",
      "['a,bd,c']\n"
     ]
    }
   ],
   "source": [
    "#expression=\"{{a,z},a{b,c},{ab,z}}\"\n",
    "expression=\"{{a,b}{d,c}}\"\n",
    "stack=[]\n",
    "for i in expression:\n",
    "    if i!=\"}\":\n",
    "        stack.append(i)\n",
    "    else:\n",
    "        if len(stack[-1])>1 and stack[-2]==',':\n",
    "            newS=''\n",
    "            while stack[-1]!='{':\n",
    "                ele=stack.pop()\n",
    "                if ele!=',' and ele not in newS:\n",
    "                    newS=ele+newS\n",
    "            stack.pop()\n",
    "            stack.append(newS)\n",
    "        else:\n",
    "            newS=''\n",
    "            while stack[-1]!='{':\n",
    "                newS=stack.pop()+newS\n",
    "                \n",
    "            stack.pop()\n",
    "            stack.append(newS)\n",
    "            print(stack)\n",
    "print(stack)"
   ]
  },
  {
   "cell_type": "code",
   "execution_count": 77,
   "metadata": {},
   "outputs": [
    {
     "data": {
      "text/plain": [
       "['a,zb,cab,z']"
      ]
     },
     "execution_count": 77,
     "metadata": {},
     "output_type": "execute_result"
    }
   ],
   "source": [
    "result"
   ]
  },
  {
   "cell_type": "code",
   "execution_count": 103,
   "metadata": {},
   "outputs": [],
   "source": [
    "maxcost=0\n",
    "def baloonbrust(baloons,cost):\n",
    "    global maxcost\n",
    "    if len(baloons)==1:\n",
    "        cost+=baloons[0]\n",
    "        maxcost=max(maxcost,cost)\n",
    "        return\n",
    "    for i in range(0,len(baloons)):\n",
    "        if i==0:\n",
    "            baloonbrust(baloons[i+1:],cost+baloons[i]*baloons[i+1])\n",
    "            \n",
    "        elif i==len(baloons)-1:\n",
    "            baloonbrust(baloons[:i],cost+baloons[i]*baloons[i-1])\n",
    "        else:\n",
    "            baloonbrust(baloons[:i]+baloons[i+1:],cost+baloons[i-1]*baloons[i]*baloons[i+1])\n",
    "            \n",
    "baloonbrust([2,3,1,5,6],0)"
   ]
  },
  {
   "cell_type": "code",
   "execution_count": 104,
   "metadata": {},
   "outputs": [
    {
     "data": {
      "text/plain": [
       "159"
      ]
     },
     "execution_count": 104,
     "metadata": {},
     "output_type": "execute_result"
    }
   ],
   "source": [
    "maxcost"
   ]
  },
  {
   "cell_type": "code",
   "execution_count": 92,
   "metadata": {},
   "outputs": [
    {
     "data": {
      "text/plain": [
       "[1, 7, 3, 4]"
      ]
     },
     "execution_count": 92,
     "metadata": {},
     "output_type": "execute_result"
    }
   ],
   "source": [
    "a=[1,2,3,4]\n",
    "a[:1]+[7]+a[2:]"
   ]
  },
  {
   "cell_type": "code",
   "execution_count": null,
   "metadata": {},
   "outputs": [],
   "source": []
  }
 ],
 "metadata": {
  "kernelspec": {
   "display_name": "Python 3",
   "language": "python",
   "name": "python3"
  },
  "language_info": {
   "codemirror_mode": {
    "name": "ipython",
    "version": 3
   },
   "file_extension": ".py",
   "mimetype": "text/x-python",
   "name": "python",
   "nbconvert_exporter": "python",
   "pygments_lexer": "ipython3",
   "version": "3.6.8"
  }
 },
 "nbformat": 4,
 "nbformat_minor": 2
}
