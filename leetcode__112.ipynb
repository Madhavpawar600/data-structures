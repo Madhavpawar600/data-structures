{
 "cells": [
  {
   "cell_type": "markdown",
   "metadata": {},
   "source": [
    "# FizzBuzz \n",
    "(Google)"
   ]
  },
  {
   "cell_type": "code",
   "execution_count": 7,
   "metadata": {},
   "outputs": [],
   "source": [
    "class Solution(object):\n",
    "    def fizzBuzz(self, n):\n",
    "        ls=list()\n",
    "        for i in range(1,n+1):\n",
    "            if i%3==0 and i%5==0:\n",
    "                ls.append('FizzBuzz')\n",
    "            elif i%3==0:\n",
    "                ls.append('Fizz')\n",
    "            elif i%5==0:\n",
    "                ls.append('Buzz')\n",
    "            else:\n",
    "                ls.append(str(i))\n",
    "        return ls\n",
    "        "
   ]
  },
  {
   "cell_type": "markdown",
   "metadata": {},
   "source": [
    "# Backspace string compare\n",
    "(Google)"
   ]
  },
  {
   "cell_type": "code",
   "execution_count": 23,
   "metadata": {},
   "outputs": [
    {
     "name": "stdout",
     "output_type": "stream",
     "text": [
      "xywrrm\n"
     ]
    }
   ],
   "source": [
    "class Solution(object):\n",
    "    def backspaceCompare(self, S, T):\n",
    "        nS=''\n",
    "        for i in S:\n",
    "            if i=='#':\n",
    "                nS=nS[:len(nS)-1]\n",
    "            else:\n",
    "                nS+=i\n",
    "        nT=''\n",
    "        for i in T:\n",
    "            if i=='#':\n",
    "                print(nT)\n",
    "                nT=nT[:len(nT)-1]\n",
    "            else:\n",
    "                nT+=i\n",
    "        return nS==nT\n",
    "s1=Solution()\n",
    "s1.backspaceCompare(\"xywrrmp\",\"xywrrm#p\")\n",
    "\n",
    "##stacked based approach\n",
    "class Solution(object):\n",
    "    def backspaceCompare(self, S, T):\n",
    "        def build(S):\n",
    "            ans = []\n",
    "            for c in S:\n",
    "                if c != '#':\n",
    "                    ans.append(c)\n",
    "                elif ans:\n",
    "                    ans.pop()\n",
    "            return \"\".join(ans)\n",
    "        return build(S) == build(T)"
   ]
  },
  {
   "cell_type": "markdown",
   "metadata": {},
   "source": [
    "# Sum of left leaves\n",
    "(facebook)"
   ]
  },
  {
   "cell_type": "code",
   "execution_count": 25,
   "metadata": {},
   "outputs": [],
   "source": [
    "class Solution(object):\n",
    "    def sumOfLeftLeaves(self, root):\n",
    "        if root==None:\n",
    "            return 0\n",
    "        elif root.left!=None and root.left.left==None and root.left.right==None:\n",
    "            return root.left.val+self.sumOfLeftLeaves(root.right)\n",
    "    \n",
    "        return self.sumOfLeftLeaves(root.left)+self.sumOfLeftLeaves(root.right)"
   ]
  },
  {
   "cell_type": "markdown",
   "metadata": {},
   "source": [
    "# FloodFill\n",
    "(Amazon)"
   ]
  },
  {
   "cell_type": "code",
   "execution_count": 28,
   "metadata": {},
   "outputs": [],
   "source": [
    "class Solution(object):\n",
    "    def floodFill(self, image, sr, sc, newColor):\n",
    "        R, C = len(image), len(image[0])\n",
    "        color = image[sr][sc]\n",
    "        if color == newColor: return image\n",
    "        def dfs(r, c):\n",
    "            if image[r][c] == color:\n",
    "                image[r][c] = newColor\n",
    "                if r >= 1: dfs(r-1, c)\n",
    "                if r+1 < R: dfs(r+1, c)\n",
    "                if c >= 1: dfs(r, c-1)\n",
    "                if c+1 < C: dfs(r, c+1)\n",
    "\n",
    "        dfs(sr, sc)\n",
    "        return image"
   ]
  },
  {
   "cell_type": "markdown",
   "metadata": {},
   "source": [
    "# Intersection of an array\n",
    "(facebook)"
   ]
  },
  {
   "cell_type": "code",
   "execution_count": 1,
   "metadata": {},
   "outputs": [],
   "source": [
    "class Solution(object):\n",
    "    \n",
    "    def set_intersection(self,s1,s2):\n",
    "        return [x for x in s1 if x in s2]\n",
    "    \n",
    "    def intersection(self, nums1, nums2):\n",
    "        s1=set(nums1)\n",
    "        s2=set(nums2)\n",
    "        if len(s1)<len(s2):\n",
    "            return self.set_intersection(s1,s2)\n",
    "        else:\n",
    "            return self.set_intersection(s2,s1)\n",
    "        \n",
    "#built in solun\n",
    "class Solution:\n",
    "    def intersection(self, nums1, nums2):  \n",
    "        set1 = set(nums1)\n",
    "        set2 = set(nums2)\n",
    "        return list(set2 & set1)"
   ]
  },
  {
   "cell_type": "markdown",
   "metadata": {},
   "source": [
    "# Monotonic Array\n",
    "(facebook)"
   ]
  },
  {
   "cell_type": "code",
   "execution_count": 2,
   "metadata": {},
   "outputs": [],
   "source": [
    "class Solution(object):\n",
    "    def isMonotonic(self, A):\n",
    "        inc=dec=True\n",
    "        \n",
    "        for i in range(0,len(A)-1):\n",
    "            if A[i]>A[i+1]:\n",
    "                inc=False\n",
    "            if A[i]<A[i+1]:\n",
    "                dec=False\n",
    "        \n",
    "        return inc or dec"
   ]
  },
  {
   "cell_type": "markdown",
   "metadata": {},
   "source": [
    "# Right View of binary tree\n",
    "(facebook)"
   ]
  },
  {
   "cell_type": "code",
   "execution_count": 3,
   "metadata": {},
   "outputs": [],
   "source": [
    "class Solution(object):\n",
    "    def rightview(self,root,cl):\n",
    "        if root is None:\n",
    "            return\n",
    "        \n",
    "        if cl>self.maxlevel:\n",
    "            self.maxlevel=cl\n",
    "            self.ls.append(root.val)\n",
    "        \n",
    "        self.rightview(root.right,cl+1)\n",
    "        self.rightview(root.left,cl+1)\n",
    "        \n",
    "    \n",
    "    def rightSideView(self, root):\n",
    "        self.maxlevel=-1\n",
    "        self.ls=list()\n",
    "        self.rightview(root,0)\n",
    "        return self.ls\n",
    "        "
   ]
  },
  {
   "cell_type": "markdown",
   "metadata": {},
   "source": [
    "# Battleship in a board "
   ]
  },
  {
   "cell_type": "code",
   "execution_count": 1,
   "metadata": {},
   "outputs": [],
   "source": [
    "#Got valid board\n",
    "class Solution(object):\n",
    "    def helper(self,i,j,row,col,board):\n",
    "        if i<0 or j<0 or i>=row or j>=col or board[i][j]!='X':\n",
    "            return\n",
    "        board[i][j]='*'\n",
    "        self.helper(i+1,j,row,col,board)\n",
    "        self.helper(i,j+1,row,col,board)\n",
    "    \n",
    "    def countBattleships(self, board):\n",
    "        row=len(board)\n",
    "        col=len(board[0])\n",
    "        ship=0\n",
    "        for i in range(0,row):\n",
    "            for j in range(0,col):\n",
    "                if board[i][j]=='X':\n",
    "                    self.helper(i,j,row,col,board)\n",
    "                    ship+=1\n",
    "        return ship"
   ]
  },
  {
   "cell_type": "markdown",
   "metadata": {},
   "source": [
    "# Find Peek element"
   ]
  },
  {
   "cell_type": "code",
   "execution_count": 2,
   "metadata": {},
   "outputs": [],
   "source": [
    "#O(n)\n",
    "class Solution(object):\n",
    "    def findPeakElement(self, nums):\n",
    "        if len(nums)==1:\n",
    "            return 0\n",
    "        if nums[0]>nums[1]:\n",
    "            return 0\n",
    "        \n",
    "        for i in range(1,len(nums)-1):\n",
    "            if nums[i]>nums[i-1] and nums[i]>nums[i+1]:\n",
    "                return i\n",
    "        if nums[-1]>nums[-2]:\n",
    "            return len(nums)-1"
   ]
  },
  {
   "cell_type": "code",
   "execution_count": 4,
   "metadata": {},
   "outputs": [],
   "source": [
    "#log(n) use binary search\n",
    "class Solution(object):\n",
    "    def findPeakElement(self, nums):\n",
    "        l=0\n",
    "        r=len(nums)-1\n",
    "        while l<r:\n",
    "            mid=(l+r)//2\n",
    "            if nums[mid]>nums[mid+1]:\n",
    "                r=mid\n",
    "            else:\n",
    "                l=mid+1    \n",
    "        return l"
   ]
  },
  {
   "cell_type": "markdown",
   "metadata": {},
   "source": [
    "# Path sum II"
   ]
  },
  {
   "cell_type": "code",
   "execution_count": 5,
   "metadata": {},
   "outputs": [],
   "source": [
    "# Definition for a binary tree node.\n",
    "# class TreeNode(object):\n",
    "#     def __init__(self, val=0, left=None, right=None):\n",
    "#         self.val = val\n",
    "#         self.left = left\n",
    "#         self.right = right\n",
    "class Solution(object):\n",
    "    def helper(self,root,k,sum,ls):\n",
    "        if root==None:\n",
    "            return\n",
    "        if root.left==None and root.right==None:\n",
    "            k+=root.val\n",
    "            if k==sum:\n",
    "                ls.append(root.val)\n",
    "                self.result.append(ls[:])\n",
    "                print(ls)\n",
    "                ls.pop()\n",
    "            k-=root.val\n",
    "            return\n",
    "        if root.left:\n",
    "            ls.append(root.val)\n",
    "            self.helper(root.left,k+root.val,sum,ls)\n",
    "            ls.pop()\n",
    "        if root.right:\n",
    "            ls.append(root.val)\n",
    "            self.helper(root.right,k+root.val,sum,ls)\n",
    "            ls.pop()\n",
    "    \n",
    "    def pathSum(self, root, sum):\n",
    "        self.result=list()\n",
    "        if root==None:\n",
    "            return self.result\n",
    "        self.helper(root,0,sum,[])\n",
    "        return self.result"
   ]
  },
  {
   "cell_type": "markdown",
   "metadata": {},
   "source": [
    "# Maximum product of splited binary tree\n",
    "max((totalsum-subtree)*subtree)"
   ]
  },
  {
   "cell_type": "code",
   "execution_count": 1,
   "metadata": {},
   "outputs": [],
   "source": [
    "class Solution(object):\n",
    "    def maxProduct(self, root):\n",
    "        if root ==None:\n",
    "            return\n",
    "        sums=[]\n",
    "        def findsum(root):\n",
    "            if root==None:\n",
    "                return 0\n",
    "            ans=root.val+findsum(root.left)+findsum(root.right)\n",
    "            sums.append(ans)\n",
    "            \n",
    "            return ans\n",
    "        total=findsum(root)\n",
    "        max_=0\n",
    "        for x in sums:\n",
    "            max_=max(max_,(total-x)*x)\n",
    "        return max_%(10**9+7)"
   ]
  },
  {
   "cell_type": "code",
   "execution_count": null,
   "metadata": {},
   "outputs": [],
   "source": []
  }
 ],
 "metadata": {
  "kernelspec": {
   "display_name": "Python 3",
   "language": "python",
   "name": "python3"
  },
  "language_info": {
   "codemirror_mode": {
    "name": "ipython",
    "version": 3
   },
   "file_extension": ".py",
   "mimetype": "text/x-python",
   "name": "python",
   "nbconvert_exporter": "python",
   "pygments_lexer": "ipython3",
   "version": "3.8.5"
  }
 },
 "nbformat": 4,
 "nbformat_minor": 2
}
