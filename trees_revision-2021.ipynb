{
 "cells": [
  {
   "cell_type": "code",
   "execution_count": 1,
   "metadata": {},
   "outputs": [],
   "source": [
    "class Tree:\n",
    "    def __init__(self,data):\n",
    "        self.data=data\n",
    "        self.left=None\n",
    "        self.right=None"
   ]
  },
  {
   "cell_type": "code",
   "execution_count": 2,
   "metadata": {},
   "outputs": [],
   "source": [
    "t1=Tree(8)\n",
    "t1.left=Tree(3)\n",
    "t1.right=Tree(10)\n",
    "t1.left.left=Tree(1)\n",
    "t1.right.right=Tree(14)\n",
    "t1.right.left=Tree(6)\n",
    "t1.right.right.left=Tree(13)\n",
    "t1.right.left.left=Tree(4)\n",
    "t1.right.left.right=Tree(7)"
   ]
  },
  {
   "cell_type": "markdown",
   "metadata": {},
   "source": [
    "# Inorder traversal "
   ]
  },
  {
   "cell_type": "code",
   "execution_count": 4,
   "metadata": {},
   "outputs": [
    {
     "name": "stdout",
     "output_type": "stream",
     "text": [
      "1 3 8 4 6 7 10 13 14 "
     ]
    }
   ],
   "source": [
    "def inorder(root):\n",
    "    if not root:\n",
    "        return\n",
    "    \n",
    "    inorder(root.left)\n",
    "    print(root.data, end = \" \")\n",
    "    inorder(root.right)\n",
    "inorder(t1)"
   ]
  },
  {
   "cell_type": "markdown",
   "metadata": {},
   "source": [
    "# Digonal traversal "
   ]
  },
  {
   "cell_type": "code",
   "execution_count": 6,
   "metadata": {},
   "outputs": [
    {
     "name": "stdout",
     "output_type": "stream",
     "text": [
      "[8, 10, 14]\n",
      "[3, 6, 7, 13]\n",
      "[1, 4]\n"
     ]
    }
   ],
   "source": [
    "def diagonal(root):\n",
    "    if not root:\n",
    "        return\n",
    "    hashmap = dict()\n",
    "    \n",
    "    def helper(d, root, hashmap):\n",
    "        if not root:\n",
    "            return\n",
    "        \n",
    "        if d not in hashmap:\n",
    "            hashmap[d] = list()\n",
    "        hashmap[d].append(root.data)\n",
    "        \n",
    "        helper(d+1, root.left, hashmap)\n",
    "        helper(d, root.right, hashmap)\n",
    "    \n",
    "    helper(0, root, hashmap)\n",
    "    for key in hashmap:\n",
    "        print(hashmap[key])\n",
    "diagonal(t1)\n",
    "    "
   ]
  },
  {
   "cell_type": "markdown",
   "metadata": {},
   "source": [
    "# Vertical Order"
   ]
  },
  {
   "cell_type": "code",
   "execution_count": 17,
   "metadata": {},
   "outputs": [
    {
     "name": "stdout",
     "output_type": "stream",
     "text": [
      "[8, 6]\n",
      "[10, 13, 7]\n",
      "[14]\n",
      "[4, 3]\n",
      "[1]\n"
     ]
    }
   ],
   "source": [
    "def vertical(root):\n",
    "    if not root:\n",
    "        return -1\n",
    "    hashmap = dict()\n",
    "    def helper(d, root, hashmap):\n",
    "        if not root:\n",
    "            return\n",
    "        \n",
    "        if d not in hashmap:\n",
    "            hashmap[d] = list()\n",
    "        hashmap[d].append(root.data)\n",
    "        \n",
    "        helper(d-1, root.left, hashmap)\n",
    "        helper(d+1, root.right, hashmap)\n",
    "    helper(0, root, hashmap)\n",
    "    for key in hashmap:\n",
    "        print(hashmap[key])\n",
    "vertical(t1)"
   ]
  },
  {
   "cell_type": "markdown",
   "metadata": {},
   "source": [
    "# Horizontal "
   ]
  },
  {
   "cell_type": "code",
   "execution_count": 8,
   "metadata": {},
   "outputs": [
    {
     "name": "stdout",
     "output_type": "stream",
     "text": [
      "[8]\n",
      "[3, 10]\n",
      "[1, 6, 14]\n",
      "[4, 7, 13]\n"
     ]
    }
   ],
   "source": [
    "def horizontal(root):\n",
    "    if not root:\n",
    "        return -1\n",
    "    hashmap = dict()\n",
    "    \n",
    "    def helper(d, root, hashmap):\n",
    "        if not root:\n",
    "            return\n",
    "        if d not in hashmap:\n",
    "            hashmap[d] = list()\n",
    "        hashmap[d].append(root.data)\n",
    "        \n",
    "        helper(d+1, root.left, hashmap)\n",
    "        helper(d+1, root.right, hashmap)\n",
    "    helper(0, root, hashmap)\n",
    "    \n",
    "    for key in hashmap:\n",
    "        print(hashmap[key])\n",
    "horizontal(t1)"
   ]
  },
  {
   "cell_type": "markdown",
   "metadata": {},
   "source": [
    "# Invert binary tree "
   ]
  },
  {
   "cell_type": "code",
   "execution_count": 9,
   "metadata": {},
   "outputs": [],
   "source": [
    "def invert(root):\n",
    "    if not root:\n",
    "        return\n",
    "    root.left, root.right = invert(root.right), invert(root.left)\n",
    "    return root\n",
    "t2 = invert(t1)"
   ]
  },
  {
   "cell_type": "code",
   "execution_count": 10,
   "metadata": {},
   "outputs": [
    {
     "name": "stdout",
     "output_type": "stream",
     "text": [
      "14 13 10 7 6 4 8 3 1 "
     ]
    }
   ],
   "source": [
    "inorder(t2)"
   ]
  },
  {
   "cell_type": "markdown",
   "metadata": {},
   "source": [
    "# Bottom tree "
   ]
  },
  {
   "cell_type": "code",
   "execution_count": 15,
   "metadata": {},
   "outputs": [
    {
     "name": "stdout",
     "output_type": "stream",
     "text": [
      "{0: 6, -1: 7, -2: 14, 1: 3, 2: 1}\n",
      "6 7 14 3 1 "
     ]
    }
   ],
   "source": [
    "def bottom(root):\n",
    "    if not root:\n",
    "        return -1\n",
    "    hashmap = dict()\n",
    "    \n",
    "    def helper(d, root, hashmap):\n",
    "        if not root:\n",
    "            return\n",
    "        if d not in hashmap:\n",
    "            hashmap[d] = None\n",
    "        \n",
    "        hashmap[d] = root.data\n",
    "        helper(d-1, root.left, hashmap)\n",
    "        helper(d+1, root.right, hashmap)\n",
    "        \n",
    "    helper(0, root, hashmap)\n",
    "    print(hashmap)\n",
    "    for value in hashmap.values():\n",
    "        print(value, end = \" \")\n",
    "bottom(t1)"
   ]
  },
  {
   "cell_type": "code",
   "execution_count": null,
   "metadata": {},
   "outputs": [],
   "source": []
  }
 ],
 "metadata": {
  "kernelspec": {
   "display_name": "Python 3",
   "language": "python",
   "name": "python3"
  },
  "language_info": {
   "codemirror_mode": {
    "name": "ipython",
    "version": 3
   },
   "file_extension": ".py",
   "mimetype": "text/x-python",
   "name": "python",
   "nbconvert_exporter": "python",
   "pygments_lexer": "ipython3",
   "version": "3.8.10"
  }
 },
 "nbformat": 4,
 "nbformat_minor": 4
}
