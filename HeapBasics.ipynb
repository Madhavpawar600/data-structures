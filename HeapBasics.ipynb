{
 "cells": [
  {
   "cell_type": "raw",
   "metadata": {},
   "source": [
    "maxheap- in maxheap node<= parent node.\n",
    "parent(i)=i//2\n",
    "leftchild(i)=i*2\n",
    "rightchild(i)=i*2+1\n",
    "\n",
    "minheap= node>=parent Node\n",
    "\n",
    "working of maxheap--------------\n",
    "push-> add value to end of array or node then float it up to its proper position where node<=parent node\n",
    "\n",
    "peek-> return maxheap[1]\n",
    "\n",
    "pop-> move max to end in tree. delete it. Bubble down the item at index 1 to its proper position compare node with its both child and swap with which is maximum."
   ]
  },
  {
   "cell_type": "code",
   "execution_count": 24,
   "metadata": {},
   "outputs": [
    {
     "name": "stdout",
     "output_type": "stream",
     "text": [
      "[0, 95, 10, 21, 3]\n",
      "95\n"
     ]
    }
   ],
   "source": [
    "class Maxheap:\n",
    "    \n",
    "    def __init__(self,items=[]):\n",
    "        self.heap=[0]\n",
    "        \n",
    "        for i in items:\n",
    "            self.heap.append(i)\n",
    "            self.__floatup(len(self.heap)-1)\n",
    "    \n",
    "    def push(self,data):\n",
    "        self.heap.append(data)\n",
    "        self.__floatup(len(self.heap)-1)\n",
    "        \n",
    "    def peek(self):\n",
    "        if self.heap[1]:\n",
    "            return self.heap[1]\n",
    "        else:\n",
    "            return False\n",
    "    def pop(self):\n",
    "        if len(self.heap)>2:\n",
    "            self.__swap(1,len(self.heap)-1)\n",
    "            max=self.heap.pop()\n",
    "            self.__bubbleDown(1)\n",
    "            \n",
    "        elif len(self.heap)==2:\n",
    "            max=self.heap.pop()\n",
    "        else:\n",
    "            max=False\n",
    "        return max\n",
    "    \n",
    "    def __swap(self,i,j):\n",
    "        self.heap[i],self.heap[j]=self.heap[j],self.heap[i]\n",
    "        \n",
    "    def __floatup(self,index):\n",
    "        parent=index//2\n",
    "        if index<=1:\n",
    "            return\n",
    "        elif self.heap[index]>self.heap[parent]:\n",
    "            self.__swap(index,parent)\n",
    "            self.__floatup(parent)\n",
    "        \n",
    "    def __bubbleDown(self,index):\n",
    "        left=index*2\n",
    "        right=index*2+1\n",
    "        largest=index\n",
    "        if len(self.heap)>left and self.heap[largest]<self.heap[left]:\n",
    "            largest=left\n",
    "        if len(self.heap)>right and self.heap[largest]<self.heap[right]:\n",
    "            largest=right\n",
    "        if largest!=index:\n",
    "            self.__swap(index,largest)\n",
    "            self.__bubbleDown(largest)\n",
    "        \n",
    "m=Maxheap([95,3,21])\n",
    "m.push(10)\n",
    "print(str(m.heap[0:len(m.heap)]))\n",
    "print(str(m.pop()))"
   ]
  },
  {
   "cell_type": "code",
   "execution_count": 25,
   "metadata": {},
   "outputs": [
    {
     "data": {
      "text/plain": [
       "[0, 21, 10, 3]"
      ]
     },
     "execution_count": 25,
     "metadata": {},
     "output_type": "execute_result"
    }
   ],
   "source": [
    "m.heap"
   ]
  },
  {
   "cell_type": "raw",
   "metadata": {},
   "source": [
    "minheap node>=parent\n",
    "working of minheap-----------------\n",
    "push->\n",
    "\n",
    "pop->\n",
    "\n",
    "peek->"
   ]
  },
  {
   "cell_type": "code",
   "execution_count": 55,
   "metadata": {},
   "outputs": [
    {
     "name": "stdout",
     "output_type": "stream",
     "text": [
      "[0, 3, 10, 21, 95]\n",
      "3\n"
     ]
    }
   ],
   "source": [
    "class Minheap:\n",
    "    \n",
    "    def __init__(self,items):\n",
    "        self.heap=[0]\n",
    "        \n",
    "        for i in items:\n",
    "            self.heap.append(i)\n",
    "            self.__floatup(len(self.heap)-1)\n",
    "            \n",
    "    def peek(self):\n",
    "        if self.heap[1]:\n",
    "            return self.heap[1]\n",
    "        else:\n",
    "            return False\n",
    "    \n",
    "    def push(self,data):\n",
    "        self.heap.append(data)\n",
    "        self.__floatup(len(self.heap)-1)\n",
    "    \n",
    "    def pop(self):\n",
    "        if len(self.heap)>2:\n",
    "            self.__swap(1,len(self.heap)-1)\n",
    "            min=self.heap.pop()\n",
    "            self.__bubbledown(1)\n",
    "            \n",
    "        elif len(self.heap)==2:\n",
    "            min=self.heap.pop()  \n",
    "        else:\n",
    "            min=False\n",
    "        return min\n",
    "    \n",
    "    def __swap(self,i,j):\n",
    "        self.heap[i],self.heap[j]=self.heap[j],self.heap[i]\n",
    "    \n",
    "    def __bubbledown(self,index):\n",
    "        left=index*2\n",
    "        right=index*2+1\n",
    "        smallest=index\n",
    "        if len(self.heap)>left and self.heap[smallest]>self.heap[left]:\n",
    "            smallest=left\n",
    "        if len(self.heap)>right and self.heap[smallest]>self.heap[right]:\n",
    "            smallest=right\n",
    "        if smallest!=index:\n",
    "            self.__swap(index,smallest)\n",
    "            self.__bubbledown(smallest)\n",
    "        \n",
    "    def __floatup(self,index):\n",
    "        parent=index//2\n",
    "        if index<=1:\n",
    "            return\n",
    "        elif self.heap[parent]>self.heap[index]:\n",
    "            self.__swap(index,parent)\n",
    "            self.__floatup(parent)\n",
    "            \n",
    "m=Minheap([95,3,21])\n",
    "m.push(10)\n",
    "print(str(m.heap[0:len(m.heap)]))\n",
    "#print(str(m.pop()))\n",
    "print(str(m.peek()))"
   ]
  },
  {
   "cell_type": "code",
   "execution_count": 56,
   "metadata": {},
   "outputs": [
    {
     "data": {
      "text/plain": [
       "[0, 3, 10, 21, 95]"
      ]
     },
     "execution_count": 56,
     "metadata": {},
     "output_type": "execute_result"
    }
   ],
   "source": [
    "m.heap"
   ]
  },
  {
   "cell_type": "code",
   "execution_count": 57,
   "metadata": {},
   "outputs": [
    {
     "data": {
      "text/plain": [
       "3"
      ]
     },
     "execution_count": 57,
     "metadata": {},
     "output_type": "execute_result"
    }
   ],
   "source": [
    "m.pop()"
   ]
  },
  {
   "cell_type": "markdown",
   "metadata": {},
   "source": [
    "# Heapq module "
   ]
  },
  {
   "cell_type": "raw",
   "metadata": {},
   "source": [
    "heapify-> convert iterable into heap data Structure\n",
    "heappush(heap,ele)->insert the element\n",
    "heappop(heap)-> remove and return the smallest element from heap\n",
    "heappushpop(heap,item)-> insert the element then pop and return smallest\n",
    "heapreplace(heap,item)-> first pop the element then insert"
   ]
  },
  {
   "cell_type": "code",
   "execution_count": 67,
   "metadata": {},
   "outputs": [],
   "source": [
    "import heapq\n",
    "li=[3,5,7,2,9]\n",
    "heapq.heapify(li)"
   ]
  },
  {
   "cell_type": "code",
   "execution_count": 69,
   "metadata": {},
   "outputs": [
    {
     "data": {
      "text/plain": [
       "[2, 3, 7, 5, 9]"
      ]
     },
     "execution_count": 69,
     "metadata": {},
     "output_type": "execute_result"
    }
   ],
   "source": [
    "li"
   ]
  },
  {
   "cell_type": "code",
   "execution_count": 70,
   "metadata": {},
   "outputs": [],
   "source": [
    "heapq.heappush(li,1)"
   ]
  },
  {
   "cell_type": "code",
   "execution_count": 73,
   "metadata": {},
   "outputs": [
    {
     "data": {
      "text/plain": [
       "1"
      ]
     },
     "execution_count": 73,
     "metadata": {},
     "output_type": "execute_result"
    }
   ],
   "source": [
    "heapq.heappop(li)"
   ]
  },
  {
   "cell_type": "code",
   "execution_count": 74,
   "metadata": {},
   "outputs": [
    {
     "data": {
      "text/plain": [
       "0"
      ]
     },
     "execution_count": 74,
     "metadata": {},
     "output_type": "execute_result"
    }
   ],
   "source": [
    "heapq.heappushpop(li,0)"
   ]
  },
  {
   "cell_type": "code",
   "execution_count": 75,
   "metadata": {},
   "outputs": [
    {
     "data": {
      "text/plain": [
       "[2, 3, 7, 5, 9]"
      ]
     },
     "execution_count": 75,
     "metadata": {},
     "output_type": "execute_result"
    }
   ],
   "source": [
    "li"
   ]
  },
  {
   "cell_type": "code",
   "execution_count": 76,
   "metadata": {},
   "outputs": [
    {
     "data": {
      "text/plain": [
       "2"
      ]
     },
     "execution_count": 76,
     "metadata": {},
     "output_type": "execute_result"
    }
   ],
   "source": [
    "heapq.heapreplace(li,0)"
   ]
  },
  {
   "cell_type": "code",
   "execution_count": 77,
   "metadata": {},
   "outputs": [
    {
     "data": {
      "text/plain": [
       "[0, 3, 7, 5, 9]"
      ]
     },
     "execution_count": 77,
     "metadata": {},
     "output_type": "execute_result"
    }
   ],
   "source": [
    "li"
   ]
  },
  {
   "cell_type": "markdown",
   "metadata": {},
   "source": [
    "# Priority queue desi style nlogn*n "
   ]
  },
  {
   "cell_type": "code",
   "execution_count": 9,
   "metadata": {},
   "outputs": [],
   "source": [
    "queue=[1,4,3,9]\n",
    "queue.sort(reverse=True)"
   ]
  },
  {
   "cell_type": "code",
   "execution_count": 12,
   "metadata": {},
   "outputs": [
    {
     "data": {
      "text/plain": [
       "[9, 4]"
      ]
     },
     "execution_count": 12,
     "metadata": {},
     "output_type": "execute_result"
    }
   ],
   "source": [
    "queue.pop()\n",
    "queue"
   ]
  },
  {
   "cell_type": "markdown",
   "metadata": {},
   "source": [
    "# Will use heap for priority queue for logn complexity "
   ]
  },
  {
   "cell_type": "code",
   "execution_count": 89,
   "metadata": {},
   "outputs": [
    {
     "name": "stdout",
     "output_type": "stream",
     "text": [
      "9\n"
     ]
    }
   ],
   "source": [
    "#kth largest element\n",
    "def klargest(arr,k):\n",
    "    ls=arr[:k]\n",
    "    heapq.heapify(ls)\n",
    "    for i in range(k,len(arr)):\n",
    "        if arr[i]>ls[0]:\n",
    "            heapq.heapreplace(ls,arr[i])\n",
    "    print(ls[0])\n",
    "klargest([3,6,1,32,5,12,4,9,10],4)"
   ]
  },
  {
   "cell_type": "code",
   "execution_count": null,
   "metadata": {},
   "outputs": [],
   "source": []
  }
 ],
 "metadata": {
  "kernelspec": {
   "display_name": "Python 3",
   "language": "python",
   "name": "python3"
  },
  "language_info": {
   "codemirror_mode": {
    "name": "ipython",
    "version": 3
   },
   "file_extension": ".py",
   "mimetype": "text/x-python",
   "name": "python",
   "nbconvert_exporter": "python",
   "pygments_lexer": "ipython3",
   "version": "3.8.5"
  }
 },
 "nbformat": 4,
 "nbformat_minor": 2
}
