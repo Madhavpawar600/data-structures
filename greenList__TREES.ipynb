{
 "cells": [
  {
   "cell_type": "code",
   "execution_count": 1,
   "metadata": {},
   "outputs": [],
   "source": [
    "class NarrNode:\n",
    "    def __init__(self,data):\n",
    "        self.data=data\n",
    "        self.children=[]"
   ]
  },
  {
   "cell_type": "markdown",
   "metadata": {},
   "source": [
    "# Serialize Deserialize N arry Tree\n",
    "https://www.geeksforgeeks.org/serialize-deserialize-n-ary-tree/"
   ]
  },
  {
   "cell_type": "raw",
   "metadata": {},
   "source": [
    "Serialization is to store tree in a file so that it can be later restored. The structure of tree must be maintained. Deserialization is reading tree back from file."
   ]
  },
  {
   "cell_type": "code",
   "execution_count": 21,
   "metadata": {},
   "outputs": [
    {
     "name": "stdout",
     "output_type": "stream",
     "text": [
      "0 1 1 5 0 2 0 3 3 3 3 0\n"
     ]
    }
   ],
   "source": [
    "def DeSerialize(arr):\n",
    "    root=NarrNode(arr[0])\n",
    "    stack=[root]\n",
    "    idx=1\n",
    "    while len(stack)!=0 and idx<len(arr):\n",
    "        parent=stack[-1]\n",
    "        element=arr[idx]\n",
    "        if element==-1:\n",
    "            stack.pop()\n",
    "        else:\n",
    "            newNode=NarrNode(element)\n",
    "            parent.children.append(newNode)\n",
    "            stack.append(newNode)\n",
    "            print(parent.data,end=' ')\n",
    "        idx+=1\n",
    "    print(len(stack))\n",
    "    return root\n",
    "fntree=DeSerialize([0,1,4,-1,5,6,-1,-1,-1,2,7,-1,-1,3,8,-1,9,-1,10,-1,11,-1,-1,-1])"
   ]
  },
  {
   "cell_type": "code",
   "execution_count": 26,
   "metadata": {},
   "outputs": [
    {
     "name": "stdout",
     "output_type": "stream",
     "text": [
      "[0, 1, 4, -1, 5, 6, -1, -1, -1, 2, 7, -1, -1, 3, 8, -1, 9, -1, 10, -1, 11, -1, -1, -1]\n"
     ]
    }
   ],
   "source": [
    "def SerializeN(root):\n",
    "    global ls\n",
    "    ls.append(root.data)\n",
    "    for child in root.children:\n",
    "        SerializeN(child)\n",
    "    ls.append(-1)\n",
    "ls=[]\n",
    "SerializeN(fntree)\n",
    "print(ls)"
   ]
  },
  {
   "cell_type": "markdown",
   "metadata": {},
   "source": [
    "# Level Order Traversal"
   ]
  },
  {
   "cell_type": "code",
   "execution_count": 27,
   "metadata": {},
   "outputs": [
    {
     "name": "stdout",
     "output_type": "stream",
     "text": [
      "0 \n",
      "1 2 3 \n",
      "4 5 7 8 9 10 11 \n",
      "6 \n"
     ]
    }
   ],
   "source": [
    "#display level wise Traversal\n",
    "def LevelWiseNarr(root):\n",
    "    queue=[root]\n",
    "    while len(queue)!=0:\n",
    "        count=len(queue)\n",
    "        for _ in range(count):\n",
    "            node=queue.pop(0)\n",
    "            print(node.data,end=' ')\n",
    "            if len(node.children)!=0:\n",
    "                for child in node.children:\n",
    "                    queue.append(child)\n",
    "        print('')\n",
    "LevelWiseNarr(fntree)"
   ]
  },
  {
   "cell_type": "markdown",
   "metadata": {},
   "source": [
    "# Immdiate smaller N ary tree\n",
    "https://www.geeksforgeeks.org/immediate-smaller-element-n-ary-tree/"
   ]
  },
  {
   "cell_type": "code",
   "execution_count": 28,
   "metadata": {},
   "outputs": [
    {
     "name": "stdout",
     "output_type": "stream",
     "text": [
      "6\n"
     ]
    }
   ],
   "source": [
    "#travel and change strategy\n",
    "def immdiateSmaller(root,k):\n",
    "    global ans\n",
    "    \n",
    "    if root.data<k:\n",
    "        if root.data>ans:\n",
    "            ans=root.data\n",
    "    for child in root.children:\n",
    "        immdiateSmaller(child,k)\n",
    "ans=-999\n",
    "immdiateSmaller(fntree,7)\n",
    "print(ans)"
   ]
  },
  {
   "cell_type": "markdown",
   "metadata": {},
   "source": [
    "# Second largest value \n",
    "https://www.geeksforgeeks.org/second-largest-element-n-ary-tree/"
   ]
  },
  {
   "cell_type": "code",
   "execution_count": 29,
   "metadata": {},
   "outputs": [
    {
     "name": "stdout",
     "output_type": "stream",
     "text": [
      "10\n"
     ]
    }
   ],
   "source": [
    "#travel and change strategy\n",
    "def SecondLargest(root):\n",
    "    global first,second\n",
    "    if root.data>first:\n",
    "        second=first\n",
    "        first=root.data\n",
    "    elif root.data>second:\n",
    "        second=root.data\n",
    "    for child in root.children:\n",
    "        SecondLargest(child)\n",
    "first=-999\n",
    "second=-999\n",
    "SecondLargest(fntree)\n",
    "print(second)"
   ]
  },
  {
   "cell_type": "markdown",
   "metadata": {},
   "source": [
    "# Nodes which has more child than parents child\n",
    "https://www.geeksforgeeks.org/given-n-ary-tree-count-number-nodes-number-children-parent/"
   ]
  },
  {
   "cell_type": "code",
   "execution_count": 33,
   "metadata": {},
   "outputs": [
    {
     "data": {
      "text/plain": [
       "1"
      ]
     },
     "execution_count": 33,
     "metadata": {},
     "output_type": "execute_result"
    }
   ],
   "source": [
    "def countNodeParent(root):\n",
    "    queue=[root]\n",
    "    count=0\n",
    "    while len(queue)!=0:\n",
    "        node=queue.pop(0)\n",
    "        for child in node.children:\n",
    "            if len(child.children)>len(node.children):\n",
    "                count+=1\n",
    "                #res=child.data\n",
    "            queue.append(child)\n",
    "    return count\n",
    "countNodeParent(fntree)"
   ]
  },
  {
   "cell_type": "markdown",
   "metadata": {},
   "source": [
    "# Node which has maximum sum\n",
    "https://www.geeksforgeeks.org/node-maximum-sum-immediate-children-n-ary-tree/"
   ]
  },
  {
   "cell_type": "code",
   "execution_count": 36,
   "metadata": {},
   "outputs": [
    {
     "name": "stdout",
     "output_type": "stream",
     "text": [
      "3 with sum 38\n"
     ]
    }
   ],
   "source": [
    "#apply BFS travel and change strategy\n",
    "def maxNodeSum(root):\n",
    "    node=None\n",
    "    maxsum=-999\n",
    "    queue=[root]\n",
    "    while len(queue)!=0:\n",
    "        root=queue.pop(0)\n",
    "        currsum=0\n",
    "        for child in root.children:\n",
    "            currsum+=child.data\n",
    "            queue.append(child)\n",
    "        if currsum>maxsum:\n",
    "            maxsum=currsum\n",
    "            node=root.data\n",
    "    print(node,'with sum',maxsum)\n",
    "maxNodeSum(fntree)"
   ]
  },
  {
   "cell_type": "markdown",
   "metadata": {},
   "source": [
    "# Amazon Resources\n",
    "https://www.careercup.com/question?id=10508082"
   ]
  },
  {
   "cell_type": "code",
   "execution_count": 37,
   "metadata": {},
   "outputs": [],
   "source": [
    "#islock(), lock(),unlock()\n",
    "class Resources:\n",
    "    def __init__(self):\n",
    "        self.root=None\n",
    "        self.lockHashmap={} #boolean value for ntree keys\n",
    "    \n",
    "    def lock(self,data):\n",
    "        if self.root==None:\n",
    "            return 'No resources Found'\n",
    "        pass\n",
    "    \n",
    "    def unlock(self,data):\n",
    "        if self.root==None:\n",
    "            return 'No resources found'\n",
    "        \n",
    "    def islock(self,data):\n",
    "        if data not in self.lockHashmap:\n",
    "            return 'Key not found'\n",
    "        else:\n",
    "            return \n",
    "        \n",
    "    ####### To be continued"
   ]
  },
  {
   "cell_type": "markdown",
   "metadata": {},
   "source": [
    "#  Left child right sibling tree representation\n",
    "https://www.geeksforgeeks.org/creating-tree-left-child-right-sibling-representation/"
   ]
  },
  {
   "cell_type": "code",
   "execution_count": 38,
   "metadata": {},
   "outputs": [],
   "source": [
    "class NodeLCRS:\n",
    "    def __init__(self,data):\n",
    "        self.data=data\n",
    "        self.next=None\n",
    "        self.child=None"
   ]
  },
  {
   "cell_type": "markdown",
   "metadata": {},
   "source": [
    "# Longest path in Undirected tree \n",
    "https://www.geeksforgeeks.org/longest-path-undirected-tree/"
   ]
  },
  {
   "cell_type": "raw",
   "metadata": {},
   "source": [
    "undirected tree means graphs use dfs from src to destination.\n",
    "To find source you can use dfs from root to src."
   ]
  },
  {
   "cell_type": "markdown",
   "metadata": {},
   "source": [
    "# Diameter of nrr tree"
   ]
  },
  {
   "cell_type": "code",
   "execution_count": null,
   "metadata": {},
   "outputs": [],
   "source": []
  },
  {
   "cell_type": "markdown",
   "metadata": {},
   "source": [
    "# Binary Trees"
   ]
  },
  {
   "cell_type": "code",
   "execution_count": 7,
   "metadata": {},
   "outputs": [],
   "source": [
    "#binary tree\n",
    "class BinTree:\n",
    "    def __init__(self,val):\n",
    "        self.val=val\n",
    "        self.left=None\n",
    "        self.right=None"
   ]
  },
  {
   "cell_type": "code",
   "execution_count": 49,
   "metadata": {},
   "outputs": [],
   "source": [
    "#initialize a tree\n",
    "root=BinTree(2)\n",
    "a1=BinTree(4)\n",
    "a2=BinTree(6)\n",
    "b1=BinTree(8)\n",
    "b2=BinTree(3)\n",
    "b3=BinTree(14)\n",
    "b4=BinTree(15)\n",
    "c1=BinTree(7)\n",
    "c2=BinTree(22)\n",
    "root.left=a1\n",
    "root.right=a2\n",
    "a1.left=b1\n",
    "a1.right=b2\n",
    "a2.left=b3\n",
    "a2.right=b4\n",
    "b1.left=c1\n",
    "b1.right=c2"
   ]
  },
  {
   "cell_type": "code",
   "execution_count": 3,
   "metadata": {},
   "outputs": [
    {
     "name": "stdout",
     "output_type": "stream",
     "text": [
      "2 4 8 7 22 3 6 14 15 "
     ]
    }
   ],
   "source": [
    "#display preorder\n",
    "def displayPre(root):\n",
    "    if root==None:\n",
    "        return\n",
    "    print(root.val,end=' ')\n",
    "    if root.left:\n",
    "        displayPre(root.left)\n",
    "    if root.right:\n",
    "        displayPre(root.right)\n",
    "displayPre(root)"
   ]
  },
  {
   "cell_type": "markdown",
   "metadata": {},
   "source": [
    "# Count Subtree given sum\n",
    "https://www.geeksforgeeks.org/count-subtress-sum-given-value-x/"
   ]
  },
  {
   "cell_type": "code",
   "execution_count": 5,
   "metadata": {},
   "outputs": [
    {
     "name": "stdout",
     "output_type": "stream",
     "text": [
      "2\n"
     ]
    }
   ],
   "source": [
    "#recursive\n",
    "def CountSubtree(root,k):\n",
    "    global count\n",
    "    if root==None:\n",
    "        return 0\n",
    "    lc=CountSubtree(root.left,k)\n",
    "    rc=CountSubtree(root.right,k)\n",
    "    Ssum=lc+rc+root.val\n",
    "    if Ssum==k:\n",
    "        count+=1\n",
    "    return Ssum\n",
    "    \n",
    "count=0\n",
    "CountSubtree(root,15)\n",
    "print(count)"
   ]
  },
  {
   "cell_type": "markdown",
   "metadata": {},
   "source": [
    "# Iterative Postorder\n",
    "https://www.geeksforgeeks.org/iterative-postorder-traversal/"
   ]
  },
  {
   "cell_type": "code",
   "execution_count": 8,
   "metadata": {},
   "outputs": [
    {
     "data": {
      "text/plain": [
       "[8, 3, 4, 14, 15, 6, 2]"
      ]
     },
     "execution_count": 8,
     "metadata": {},
     "output_type": "execute_result"
    }
   ],
   "source": [
    "#dfs result reversed is equal to post order traversal.\n",
    "def PostorderItr(root):\n",
    "    if root==None:\n",
    "        return\n",
    "    stack=[root]\n",
    "    result=[]\n",
    "    while len(stack)!=0:\n",
    "        node=stack.pop()\n",
    "        result.append(node.val)\n",
    "        if node.left:\n",
    "            stack.append(node.left)\n",
    "        if node.right:\n",
    "            stack.append(node.right)\n",
    "    return result[::-1]\n",
    "PostorderItr(root)"
   ]
  },
  {
   "cell_type": "markdown",
   "metadata": {},
   "source": [
    "# Iterative Pre order\n",
    "https://www.geeksforgeeks.org/iterative-preorder-traversal/"
   ]
  },
  {
   "cell_type": "code",
   "execution_count": 10,
   "metadata": {},
   "outputs": [
    {
     "data": {
      "text/plain": [
       "[2, 4, 8, 3, 6, 14, 15]"
      ]
     },
     "execution_count": 10,
     "metadata": {},
     "output_type": "execute_result"
    }
   ],
   "source": [
    "#same as post order but not reversed just add right child before left child\n",
    "def PreOrderIter(root):\n",
    "    if root==None:\n",
    "        return\n",
    "    stack=[root]\n",
    "    result=[]\n",
    "    while len(stack)!=0:\n",
    "        node=stack.pop()\n",
    "        result.append(node.val)\n",
    "        if node.right:\n",
    "            stack.append(node.right)\n",
    "        if node.left:\n",
    "            stack.append(node.left)\n",
    "    return result\n",
    "PreOrderIter(root)"
   ]
  },
  {
   "cell_type": "markdown",
   "metadata": {},
   "source": [
    "# Inorder Traversal\n",
    "https://www.geeksforgeeks.org/inorder-tree-traversal-without-recursion/"
   ]
  },
  {
   "cell_type": "code",
   "execution_count": 11,
   "metadata": {},
   "outputs": [
    {
     "name": "stdout",
     "output_type": "stream",
     "text": [
      "8 4 3 2 14 6 15 "
     ]
    }
   ],
   "source": [
    "#acquire left till root is not None then print/append then root=right\n",
    "def InorderIter(root):\n",
    "    if root==None:\n",
    "        return\n",
    "    stack=[]\n",
    "    curr=root\n",
    "    while True:\n",
    "        if curr != None:\n",
    "            stack.append(curr)\n",
    "            curr=curr.left\n",
    "        elif len(stack)!=0:\n",
    "            curr=stack.pop()\n",
    "            print(curr.val,end=' ')\n",
    "            curr=curr.right\n",
    "        else:\n",
    "            break\n",
    "InorderIter(root)\n",
    "            "
   ]
  },
  {
   "cell_type": "markdown",
   "metadata": {},
   "source": [
    "# Distance btw 2 nodes\n",
    "https://www.geeksforgeeks.org/find-distance-between-two-nodes-of-a-binary-tree/"
   ]
  },
  {
   "cell_type": "code",
   "execution_count": 24,
   "metadata": {},
   "outputs": [
    {
     "name": "stdout",
     "output_type": "stream",
     "text": [
      "[8, 4, 2]\n",
      "[15, 6, 2]\n",
      "4\n"
     ]
    }
   ],
   "source": [
    "#Dist(n1, n2) = Dist(root, n1) + Dist(root, n2) - 2*Dist(root, lca)\n",
    "#desi approach path1 + path2 after removal of same ancesstor\n",
    "def rootTonode(root,n1):\n",
    "    if root==None:\n",
    "        return []\n",
    "    if root.val==n1:\n",
    "        return [root.val]\n",
    "    lc=rootTonode(root.left,n1)\n",
    "    if lc:\n",
    "        lc.append(root.val)\n",
    "        return lc\n",
    "    rc=rootTonode(root.right,n1)\n",
    "    if rc:\n",
    "        rc.append(root.val)\n",
    "        return rc\n",
    "    return []\n",
    "\n",
    "def DistanceBtwNodes(root,node1,node2):\n",
    "    if root==None:\n",
    "        return\n",
    "    path1=rootTonode(root,node1)\n",
    "    path2=rootTonode(root,node2)\n",
    "    print(path1)\n",
    "    print(path2)\n",
    "    n1=len(path1)-1\n",
    "    n2=len(path2)-1\n",
    "    while path1 and path2:\n",
    "        if path1[n1]!=path2[n2]:\n",
    "            break\n",
    "        n1-=1\n",
    "        n2-=1\n",
    "        path1.pop()\n",
    "        path2.pop()\n",
    "    print(len(path1)+len(path2))\n",
    "DistanceBtwNodes(root,8,15)"
   ]
  },
  {
   "cell_type": "markdown",
   "metadata": {},
   "source": [
    "# Lowest Common Ancesstor\n",
    "https://www.geeksforgeeks.org/lowest-common-ancestor-binary-tree-set-1/"
   ]
  },
  {
   "cell_type": "code",
   "execution_count": 25,
   "metadata": {},
   "outputs": [
    {
     "data": {
      "text/plain": [
       "4"
      ]
     },
     "execution_count": 25,
     "metadata": {},
     "output_type": "execute_result"
    }
   ],
   "source": [
    "#two approaches\n",
    "#first-> root to path approach it takes On but it requires spaces complx as well\n",
    "#second-> find lca both side if match then return\n",
    "def LCABT(root,n1,n2):\n",
    "    if root==None:\n",
    "        return\n",
    "    if root.val==n1 or root.val==n2:\n",
    "        return root.val\n",
    "    lc=LCABT(root.left,n1,n2)\n",
    "    rc=LCABT(root.right,n1,n2)\n",
    "    if lc and rc:\n",
    "        return root.val\n",
    "    return lc if lc is not None else rc\n",
    "LCABT(root,8,3)"
   ]
  },
  {
   "cell_type": "markdown",
   "metadata": {},
   "source": [
    "# Construct BT from array representation\n",
    "https://www.geeksforgeeks.org/construct-a-binary-tree-from-parent-array-representation/"
   ]
  },
  {
   "cell_type": "code",
   "execution_count": 46,
   "metadata": {},
   "outputs": [
    {
     "name": "stdout",
     "output_type": "stream",
     "text": [
      "{1: [0], 5: [1, 2], 2: [3, 4], -1: [5], 3: [6]}\n"
     ]
    }
   ],
   "source": [
    "def BTparentArr(arr):\n",
    "    hashmap={}\n",
    "    for i in range(0,len(arr)):\n",
    "        if arr[i] not in hashmap:\n",
    "            hashmap[arr[i]]=[i]\n",
    "        else:\n",
    "            hashmap[arr[i]].append(i)\n",
    "    print(hashmap)\n",
    "    root=BinTree(hashmap[-1][0])\n",
    "    queue=[root]\n",
    "    while len(queue)!=0:\n",
    "        node=queue.pop(0)\n",
    "        if node.val in hashmap:\n",
    "            if len(hashmap[node.val])==2:\n",
    "                node.left=BinTree(hashmap[node.val][0])\n",
    "                queue.append(node.left)\n",
    "                node.right=BinTree(hashmap[node.val][1])\n",
    "                queue.append(node.right)\n",
    "            else:\n",
    "                node.left=BinTree(hashmap[node.val][0])\n",
    "                queue.append(node.left)\n",
    "    return root\n",
    "        \n",
    "nT=BTparentArr([1, 5, 5, 2, 2, -1, 3])"
   ]
  },
  {
   "cell_type": "code",
   "execution_count": 45,
   "metadata": {},
   "outputs": [
    {
     "name": "stdout",
     "output_type": "stream",
     "text": [
      "5 1 0 2 3 6 4 "
     ]
    }
   ],
   "source": [
    "displayPre(nT)"
   ]
  },
  {
   "cell_type": "markdown",
   "metadata": {},
   "source": [
    "# Change BT so that every node stores sum of all nodes\n",
    "https://www.geeksforgeeks.org/change-a-binary-tree-so-that-every-node-stores-sum-of-all-nodes-in-left-subtree/"
   ]
  },
  {
   "cell_type": "code",
   "execution_count": 48,
   "metadata": {},
   "outputs": [
    {
     "data": {
      "text/plain": [
       "52"
      ]
     },
     "execution_count": 48,
     "metadata": {},
     "output_type": "execute_result"
    }
   ],
   "source": [
    "def changeBT(root):\n",
    "    if root==None:\n",
    "        return 0\n",
    "    if root.left==None and root.right==None:\n",
    "        return root.val\n",
    "    lc=changeBT(root.left)\n",
    "    rc=changeBT(root.right)\n",
    "    \n",
    "    root.val+=lc\n",
    "    return root.val+rc\n",
    "changeBT(root)"
   ]
  },
  {
   "cell_type": "code",
   "execution_count": 49,
   "metadata": {},
   "outputs": [
    {
     "name": "stdout",
     "output_type": "stream",
     "text": [
      "17 12 8 3 20 14 15 "
     ]
    }
   ],
   "source": [
    "displayPre(root)"
   ]
  },
  {
   "cell_type": "markdown",
   "metadata": {},
   "source": [
    "# Remove leaf nodes length = k\n",
    "https://www.geeksforgeeks.org/remove-nodes-root-leaf-paths-length-k/"
   ]
  },
  {
   "cell_type": "code",
   "execution_count": 52,
   "metadata": {},
   "outputs": [],
   "source": [
    "def removeLeavesK(root,k):\n",
    "    if root==None:\n",
    "        return\n",
    "    def helper(root,level,k):\n",
    "        if root==None:\n",
    "            return None\n",
    "        root.left=helper(root.left,level+1,k)\n",
    "        root.right=helper(root.right,level+1,k)\n",
    "        \n",
    "        if root.left==None and root.right==None and level==k:\n",
    "            return None\n",
    "        return root\n",
    "    root=helper(root,1,k)\n",
    "    return root\n",
    "root=removeLeavesK(root,4)"
   ]
  },
  {
   "cell_type": "code",
   "execution_count": 53,
   "metadata": {},
   "outputs": [
    {
     "name": "stdout",
     "output_type": "stream",
     "text": [
      "2 4 8 3 6 14 15 "
     ]
    }
   ],
   "source": [
    "displayPre(root)"
   ]
  },
  {
   "cell_type": "markdown",
   "metadata": {},
   "source": [
    "# Invert a Binary Tree"
   ]
  },
  {
   "cell_type": "code",
   "execution_count": 12,
   "metadata": {},
   "outputs": [
    {
     "data": {
      "text/plain": [
       "<__main__.BinTree at 0x7f4ff4daeb70>"
      ]
     },
     "execution_count": 12,
     "metadata": {},
     "output_type": "execute_result"
    }
   ],
   "source": [
    "def InvertBT(root):\n",
    "    if root==None:\n",
    "        return None\n",
    "    lc=InvertBT(root.left)\n",
    "    rc=InvertBT(root.right)\n",
    "    temp=lc\n",
    "    root.left=rc\n",
    "    root.right=temp\n",
    "    return root\n",
    "    \n",
    "InvertBT(root)"
   ]
  },
  {
   "cell_type": "code",
   "execution_count": 13,
   "metadata": {},
   "outputs": [
    {
     "name": "stdout",
     "output_type": "stream",
     "text": [
      "2 6 15 14 4 3 8 22 7 "
     ]
    }
   ],
   "source": [
    "displayPre(root)"
   ]
  },
  {
   "cell_type": "markdown",
   "metadata": {},
   "source": [
    "# Reverse Alternate Levels\n",
    "https://www.geeksforgeeks.org/reverse-alternate-levels-binary-tree/"
   ]
  },
  {
   "cell_type": "code",
   "execution_count": 14,
   "metadata": {},
   "outputs": [],
   "source": [
    "#use 2 preorder traversal one from right one from left. then change alternate levels data\n",
    "def preorderTwo(root1,root2,lvl):\n",
    "    if root1==None or root2==None:\n",
    "        return\n",
    "    if lvl%2==0:\n",
    "        temp=root1.val\n",
    "        root1.val=root2.val\n",
    "        root2.val=temp\n",
    "    preorderTwo(root1.left,root2.right,lvl+1)\n",
    "    preorderTwo(root1.right,root2.left,lvl+1)\n",
    "        \n",
    "def reverseAlternate(root):\n",
    "    if root == None:\n",
    "        return\n",
    "    preorderTwo(root.left,root.right,0)\n",
    "reverseAlternate(root)"
   ]
  },
  {
   "cell_type": "code",
   "execution_count": 19,
   "metadata": {},
   "outputs": [
    {
     "name": "stdout",
     "output_type": "stream",
     "text": [
      "2 4 15 14 2 3 2 2 7 "
     ]
    }
   ],
   "source": [
    "displayPre(root)"
   ]
  },
  {
   "cell_type": "markdown",
   "metadata": {},
   "source": [
    "# Reverse Tree Path\n",
    "https://www.geeksforgeeks.org/reverse-tree-path/"
   ]
  },
  {
   "cell_type": "code",
   "execution_count": 52,
   "metadata": {},
   "outputs": [
    {
     "name": "stdout",
     "output_type": "stream",
     "text": [
      "{0: 2, 1: 6, 2: 15, 3: 22}\n"
     ]
    }
   ],
   "source": [
    "def reverseUtil(root,k,idx,hashmap):\n",
    "    if root==None:\n",
    "        return None\n",
    "    if root.val==k:\n",
    "        hashmap[idx]=root.val\n",
    "        root.val=hashmap[ReverseTreePath.nextpos]\n",
    "        ReverseTreePath.nextpos+=1\n",
    "        return root\n",
    "    hashmap[idx]=root.val\n",
    "    left=reverseUtil(root.left,k,idx+1,hashmap)\n",
    "    right=reverseUtil(root.right,k,idx+1,hashmap)\n",
    "    \n",
    "    if left:\n",
    "        root.val=hashmap[ReverseTreePath.nextpos]\n",
    "        ReverseTreePath.nextpos+=1\n",
    "        return root\n",
    "    if right:\n",
    "        root.val=hashmap[ReverseTreePath.nextpos]\n",
    "        ReverseTreePath.nextpos+=1\n",
    "        return root\n",
    "       \n",
    "def ReverseTreePath(root,k):\n",
    "    if root==None:\n",
    "        return\n",
    "    ReverseTreePath.nextpos=0\n",
    "    r1=reverseUtil(root,k,0,{})\n",
    "    print(hashmap)\n",
    "ReverseTreePath(root,2)\n",
    "    "
   ]
  },
  {
   "cell_type": "code",
   "execution_count": 53,
   "metadata": {},
   "outputs": [
    {
     "name": "stdout",
     "output_type": "stream",
     "text": [
      "15 4 8 7 22 3 6 15 15 "
     ]
    }
   ],
   "source": [
    "displayPre(root)"
   ]
  },
  {
   "cell_type": "code",
   "execution_count": 35,
   "metadata": {},
   "outputs": [
    {
     "name": "stdout",
     "output_type": "stream",
     "text": [
      "2 4 8 7 22 3 6 14 15 "
     ]
    }
   ],
   "source": [
    "displayPre(root)"
   ]
  },
  {
   "cell_type": "code",
   "execution_count": 47,
   "metadata": {},
   "outputs": [
    {
     "name": "stdout",
     "output_type": "stream",
     "text": [
      "1 1 2 3 "
     ]
    },
    {
     "data": {
      "text/plain": [
       "<__main__.BinTree at 0x7f4ff452bc18>"
      ]
     },
     "execution_count": 47,
     "metadata": {},
     "output_type": "execute_result"
    }
   ],
   "source": [
    "def reverseUtil(root,k,idx,hashmap):\n",
    "    global nextpos\n",
    "    if root==None:\n",
    "        return None\n",
    "    if root.val==k:\n",
    "        hashmap[idx]=root.val\n",
    "        root.val=hashmap[nextpos]\n",
    "        nextpos+=1\n",
    "        print(nextpos,end=' ')\n",
    "        return root\n",
    "    hashmap[idx]=root.val\n",
    "    left=reverseUtil(root.left,k,idx+1,hashmap)\n",
    "    right=reverseUtil(root.right,k,idx+1,hashmap)\n",
    "    \n",
    "    if left:\n",
    "        root.val=hashmap[nextpos]\n",
    "        nextpos+=1\n",
    "        return root\n",
    "    if right:\n",
    "        root.val=hashmap[nextpos]\n",
    "        nextpos+=1\n",
    "        return root\n",
    "nextpos=0\n",
    "hashmap={}\n",
    "reverseUtil(root,22,0,hashmap)"
   ]
  },
  {
   "cell_type": "code",
   "execution_count": 48,
   "metadata": {},
   "outputs": [
    {
     "name": "stdout",
     "output_type": "stream",
     "text": [
      "22 3 4 7 2 3 6 14 15 "
     ]
    }
   ],
   "source": [
    "displayPre(root)"
   ]
  },
  {
   "cell_type": "code",
   "execution_count": null,
   "metadata": {},
   "outputs": [],
   "source": []
  }
 ],
 "metadata": {
  "kernelspec": {
   "display_name": "Python 3",
   "language": "python",
   "name": "python3"
  },
  "language_info": {
   "codemirror_mode": {
    "name": "ipython",
    "version": 3
   },
   "file_extension": ".py",
   "mimetype": "text/x-python",
   "name": "python",
   "nbconvert_exporter": "python",
   "pygments_lexer": "ipython3",
   "version": "3.6.8"
  }
 },
 "nbformat": 4,
 "nbformat_minor": 2
}
