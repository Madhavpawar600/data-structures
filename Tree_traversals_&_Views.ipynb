{
 "cells": [
  {
   "cell_type": "code",
   "execution_count": 1,
   "metadata": {},
   "outputs": [],
   "source": [
    "class Tree:\n",
    "    def __init__(self,data):\n",
    "        self.data=data\n",
    "        self.left=None\n",
    "        self.right=None\n",
    "        \n",
    "class Pair:\n",
    "    def __init__(self,data,state):\n",
    "        self.state=state\n",
    "        self.node=data\n",
    "        \n",
    "def create_tree(arr):\n",
    "    stack=[]\n",
    "    root=Tree(arr[0])\n",
    "    p1=Pair(root,1)\n",
    "    stack.append(p1)\n",
    "    idx=0\n",
    "    while len(stack)!=0:\n",
    "        top=stack[-1]\n",
    "        if top.state==1:\n",
    "            idx+=1\n",
    "            if arr[idx]!=None:\n",
    "                new_node=Tree(arr[idx])\n",
    "                top.node.left=new_node\n",
    "                p1=Pair(top.node.left,1)\n",
    "                stack.append(p1)\n",
    "            else:\n",
    "                top.node.right=None\n",
    "            top.state+=1\n",
    "        elif top.state==2:\n",
    "            idx+=1\n",
    "            if arr[idx]!=None:\n",
    "                new_node=Tree(arr[idx])\n",
    "                top.node.right=new_node\n",
    "                p1=Pair(top.node.right,1)\n",
    "                stack.append(p1)\n",
    "            else:\n",
    "                top.node.right=None\n",
    "            top.state+=1\n",
    "        elif top.state==3:\n",
    "            stack.pop()        \n",
    "    return root\n",
    "\n",
    "arr=[50,25,12,None,None,37,30,None,None,None,75,62,None,70,None,None,87,None,None]\n",
    "arr2=[25,12,40,None,None,15,30,None,None,20,None,None,36,29,26,None,None,31,None,None,40,37,None,None,45,None,None]\n",
    "tree1=create_tree(arr)\n",
    "tree2=create_tree(arr2)"
   ]
  },
  {
   "cell_type": "markdown",
   "metadata": {},
   "source": [
    "# recursive traversals (pre,in and post orders) "
   ]
  },
  {
   "cell_type": "code",
   "execution_count": 2,
   "metadata": {},
   "outputs": [
    {
     "name": "stdout",
     "output_type": "stream",
     "text": [
      "inorder traversal:\n",
      "12 25 30 37 50 62 70 75 87 \n",
      "preorder traversal:\n",
      "50 25 12 37 30 75 62 70 87 \n",
      "postorder traversal:\n",
      "12 30 37 25 70 62 87 75 50 "
     ]
    }
   ],
   "source": [
    "def inorder(root):\n",
    "    if root==None:\n",
    "        return\n",
    "    if root.left:\n",
    "        inorder(root.left)\n",
    "    print(root.data,end=' ')\n",
    "    if root.right:\n",
    "        inorder(root.right)  \n",
    "print('inorder traversal:')\n",
    "inorder(tree1)\n",
    "\n",
    "def preorder(root):\n",
    "    if root==None:\n",
    "        return\n",
    "    print(root.data,end=' ')\n",
    "    if root.left:\n",
    "        preorder(root.left)\n",
    "    if root.right:\n",
    "        preorder(root.right)\n",
    "print('\\npreorder traversal:')\n",
    "preorder(tree1)\n",
    "\n",
    "def postorder(root):\n",
    "    if root==None:\n",
    "        return\n",
    "    if root.left:\n",
    "        postorder(root.left)\n",
    "    if root.right:\n",
    "        postorder(root.right)\n",
    "    print(root.data,end=' ')\n",
    "print('\\npostorder traversal:')\n",
    "postorder(tree1)"
   ]
  },
  {
   "cell_type": "markdown",
   "metadata": {},
   "source": [
    "# Level traversal"
   ]
  },
  {
   "cell_type": "code",
   "execution_count": 3,
   "metadata": {},
   "outputs": [
    {
     "name": "stdout",
     "output_type": "stream",
     "text": [
      "50 25 75 12 37 62 87 30 70 "
     ]
    }
   ],
   "source": [
    "queue=[tree1]\n",
    "while len(queue)!=0:\n",
    "    root=queue.pop(0)\n",
    "    print(root.data,end=' ')\n",
    "    if root.left:\n",
    "        queue.append(root.left)\n",
    "    if root.right:\n",
    "        queue.append(root.right)"
   ]
  },
  {
   "cell_type": "markdown",
   "metadata": {},
   "source": [
    "# Level Line traversal"
   ]
  },
  {
   "cell_type": "code",
   "execution_count": 20,
   "metadata": {},
   "outputs": [
    {
     "name": "stdout",
     "output_type": "stream",
     "text": [
      "50 \n",
      "\n",
      "25 75 \n",
      "\n",
      "12 37 62 87 \n",
      "\n",
      "30 70 \n",
      "\n"
     ]
    }
   ],
   "source": [
    "queue=[tree1]\n",
    "while len(queue)!=0:\n",
    "    count=len(queue)\n",
    "    for i in range(0,count):\n",
    "        root=queue.pop(0)\n",
    "        print(root.data,end=' ')\n",
    "        \n",
    "        if root.left:\n",
    "            queue.append(root.left)\n",
    "        if root.right:\n",
    "            queue.append(root.right)\n",
    "    print('\\n')"
   ]
  },
  {
   "cell_type": "markdown",
   "metadata": {},
   "source": [
    "# Zigzag Level Traversal"
   ]
  },
  {
   "cell_type": "code",
   "execution_count": 26,
   "metadata": {},
   "outputs": [
    {
     "name": "stdout",
     "output_type": "stream",
     "text": [
      "50 \n",
      "75 25 \n",
      "12 37 62 87 \n",
      "70 30 \n"
     ]
    }
   ],
   "source": [
    "def zigzag(root):\n",
    "    if root==None:\n",
    "        return\n",
    "    stack=[root]\n",
    "    zigzag=False\n",
    "    while len(stack)!=0:\n",
    "        count=len(stack)\n",
    "        childstack=[]\n",
    "        for _ in range(count):\n",
    "            if zigzag:\n",
    "                node=stack.pop()\n",
    "                print(node.data,end=' ')\n",
    "                if node.right:\n",
    "                    childstack.append(node.right)\n",
    "                if node.left:\n",
    "                    childstack.append(node.left)\n",
    "            else:\n",
    "                node=stack.pop()\n",
    "                print(node.data,end=' ')\n",
    "                if node.left:\n",
    "                    childstack.append(node.left)\n",
    "                if node.right:\n",
    "                    childstack.append(node.right)\n",
    "        zigzag=not zigzag\n",
    "        stack=childstack\n",
    "        print(\"\")\n",
    "zigzag(tree1)"
   ]
  },
  {
   "cell_type": "markdown",
   "metadata": {},
   "source": [
    "# Left veiw of tree recursive"
   ]
  },
  {
   "cell_type": "code",
   "execution_count": 6,
   "metadata": {},
   "outputs": [
    {
     "name": "stdout",
     "output_type": "stream",
     "text": [
      "50\n",
      "25\n",
      "12\n",
      "30\n"
     ]
    }
   ],
   "source": [
    "max_level=-1\n",
    "def left_view(root,curr_level):\n",
    "    global max_level\n",
    "    \n",
    "    if root==None:\n",
    "        return\n",
    "    if curr_level>max_level:\n",
    "        print(root.data)\n",
    "        max_level=curr_level\n",
    "        \n",
    "    left_view(root.left,curr_level+1)\n",
    "    left_view(root.right,curr_level+1)\n",
    "left_view(tree1,0)\n",
    "        "
   ]
  },
  {
   "cell_type": "markdown",
   "metadata": {},
   "source": [
    "# Left view iterative"
   ]
  },
  {
   "cell_type": "code",
   "execution_count": 8,
   "metadata": {},
   "outputs": [
    {
     "name": "stdout",
     "output_type": "stream",
     "text": [
      "50\n",
      "25\n",
      "12\n",
      "30\n"
     ]
    }
   ],
   "source": [
    "def leftviewiter(root): #algo remove print append\n",
    "    queue=[root]\n",
    "    while len(queue)!=0:\n",
    "        ele=queue[0]\n",
    "        print(ele.data)\n",
    "        for i in range(0,len(queue)):\n",
    "            root=queue.pop(0)\n",
    "            if root.left:\n",
    "                queue.append(root.left)\n",
    "            if root.right:\n",
    "                queue.append(root.right)\n",
    "leftviewiter(tree1)"
   ]
  },
  {
   "cell_type": "markdown",
   "metadata": {},
   "source": [
    "# Right veiw of tree recursive"
   ]
  },
  {
   "cell_type": "code",
   "execution_count": 26,
   "metadata": {},
   "outputs": [
    {
     "name": "stdout",
     "output_type": "stream",
     "text": [
      "50\n",
      "75\n",
      "87\n",
      "70\n"
     ]
    }
   ],
   "source": [
    "max_level=-1\n",
    "def right_view(root,curr_level):\n",
    "    global max_level\n",
    "    if root==None:\n",
    "        return\n",
    "    if curr_level>max_level:\n",
    "        print(root.data)\n",
    "        max_level=curr_level\n",
    "    right_view(root.right,curr_level+1)\n",
    "    right_view(root.left,curr_level+1)\n",
    "right_view(tree1,0)"
   ]
  },
  {
   "cell_type": "markdown",
   "metadata": {},
   "source": [
    "# Right view of tree iterative"
   ]
  },
  {
   "cell_type": "code",
   "execution_count": 9,
   "metadata": {},
   "outputs": [
    {
     "name": "stdout",
     "output_type": "stream",
     "text": [
      "50\n",
      "75\n",
      "87\n",
      "70\n"
     ]
    }
   ],
   "source": [
    "def rightviewiter(root): #algo print[-1] ele remove append\n",
    "    queue=[root]\n",
    "    while len(queue)!=0:\n",
    "        ele=queue[-1]\n",
    "        print(ele.data)\n",
    "        for i in range(0,len(queue)):\n",
    "            root=queue.pop(0)\n",
    "            if root.left:\n",
    "                queue.append(root.left)\n",
    "            if root.right:\n",
    "                queue.append(root.right)\n",
    "rightviewiter(tree1)\n",
    "        "
   ]
  },
  {
   "cell_type": "markdown",
   "metadata": {},
   "source": [
    "# Top Veiw"
   ]
  },
  {
   "cell_type": "code",
   "execution_count": 24,
   "metadata": {},
   "outputs": [
    {
     "name": "stdout",
     "output_type": "stream",
     "text": [
      "50 25 75 12 87 "
     ]
    }
   ],
   "source": [
    "leftmin=0\n",
    "rightmax=0\n",
    "def width(root,curr_level):\n",
    "    global leftmin,rightmax\n",
    "    if root==None:\n",
    "        return \n",
    "    leftmin=min(leftmin,curr_level)\n",
    "    rightmax=max(rightmax,curr_level)\n",
    "    \n",
    "    width(root.left,curr_level-1)\n",
    "    width(root.left,curr_level+1)\n",
    "width(tree1,0)\n",
    "\n",
    "visited={i:None for i in range(leftmin,rightmax+1)}\n",
    "\n",
    "def topview(root,cl):\n",
    "    global visited\n",
    "    if root==None:\n",
    "        return\n",
    "    if visited[cl]==None:\n",
    "        visited[cl]=root.data\n",
    "    topview(root.left,cl-1)\n",
    "    topview(root.right,cl+1)\n",
    "topview(tree1,0)\n",
    "visited\n",
    "ptr1=ptr2=0\n",
    "print(visited[ptr2],end=' ')\n",
    "while ptr1<rightmax or ptr2>leftmin:\n",
    "    ptr2-=1\n",
    "    ptr1+=1\n",
    "    print(visited[ptr2],end=' ')\n",
    "    print(visited[ptr1],end=' ')"
   ]
  },
  {
   "cell_type": "markdown",
   "metadata": {},
   "source": [
    "# Bottom view"
   ]
  },
  {
   "cell_type": "code",
   "execution_count": 28,
   "metadata": {},
   "outputs": [
    {
     "name": "stdout",
     "output_type": "stream",
     "text": [
      "12 30 62 70 87 "
     ]
    }
   ],
   "source": [
    "leftmin=0\n",
    "rightmax=0\n",
    "def width(root,curr_level):\n",
    "    global leftmin,rightmax\n",
    "    if root==None:\n",
    "        return \n",
    "    leftmin=min(leftmin,curr_level)\n",
    "    rightmax=max(rightmax,curr_level)\n",
    "    \n",
    "    width(root.left,curr_level-1)\n",
    "    width(root.left,curr_level+1)\n",
    "width(tree1,0)\n",
    "\n",
    "visited={i:None for i in range(leftmin,rightmax+1)}\n",
    "\n",
    "def bottomview(root,cl):\n",
    "    global visited\n",
    "    if root==None:\n",
    "        return\n",
    "    visited[cl]=root.data\n",
    "    bottomview(root.left,cl-1)\n",
    "    bottomview(root.right,cl+1)\n",
    "bottomview(tree1,0)\n",
    "for x in visited.values():\n",
    "    print(x,end=' ')"
   ]
  },
  {
   "cell_type": "markdown",
   "metadata": {},
   "source": [
    "# Vertical order"
   ]
  },
  {
   "cell_type": "code",
   "execution_count": 34,
   "metadata": {},
   "outputs": [
    {
     "name": "stdout",
     "output_type": "stream",
     "text": [
      "[12]\n",
      "[25, 30]\n",
      "[50, 37, 62]\n",
      "[75, 70]\n",
      "[87]\n"
     ]
    }
   ],
   "source": [
    "leftmin=0\n",
    "rightmax=0\n",
    "def width(root,cl):\n",
    "    global leftmin,rightmax\n",
    "    if root==None:\n",
    "        return\n",
    "    leftmin=min(cl,leftmin)\n",
    "    rightmax=max(cl,rightmax)\n",
    "    \n",
    "    width(root.left,cl-1)\n",
    "    width(root.right,cl+1)\n",
    "width(tree1,0)\n",
    "\n",
    "visited={x:[] for x in range(leftmin,rightmax+1)}\n",
    "\n",
    "def vertical_order(root,cl):\n",
    "    global visited\n",
    "    if root==None:\n",
    "        return\n",
    "    visited[cl].append(root.data)\n",
    "    vertical_order(root.left,cl-1)\n",
    "    vertical_order(root.right,cl+1)\n",
    "vertical_order(tree1,0)\n",
    "for x in visited.values():\n",
    "    print(x)"
   ]
  },
  {
   "cell_type": "code",
   "execution_count": null,
   "metadata": {},
   "outputs": [],
   "source": []
  },
  {
   "cell_type": "code",
   "execution_count": null,
   "metadata": {},
   "outputs": [],
   "source": []
  }
 ],
 "metadata": {
  "kernelspec": {
   "display_name": "Python 3",
   "language": "python",
   "name": "python3"
  },
  "language_info": {
   "codemirror_mode": {
    "name": "ipython",
    "version": 3
   },
   "file_extension": ".py",
   "mimetype": "text/x-python",
   "name": "python",
   "nbconvert_exporter": "python",
   "pygments_lexer": "ipython3",
   "version": "3.6.8"
  }
 },
 "nbformat": 4,
 "nbformat_minor": 2
}
