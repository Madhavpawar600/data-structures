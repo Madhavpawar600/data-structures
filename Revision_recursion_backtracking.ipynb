{
 "cells": [
  {
   "cell_type": "markdown",
   "metadata": {},
   "source": [
    "# Get subsequence"
   ]
  },
  {
   "cell_type": "code",
   "execution_count": 2,
   "metadata": {},
   "outputs": [
    {
     "data": {
      "text/plain": [
       "['cba', 'cb', 'ca', 'c', 'ba', 'b', 'a', '']"
      ]
     },
     "execution_count": 2,
     "metadata": {},
     "output_type": "execute_result"
    }
   ],
   "source": [
    "def get_subsequence(string):\n",
    "    if len(string) == 0:\n",
    "        return ['']\n",
    "    currS = string[0]\n",
    "    ros = string[1:]\n",
    "    ans = get_subsequence(ros)\n",
    "    sublist = []\n",
    "    for x in ans:\n",
    "        sublist.append(x + currS)\n",
    "        sublist.append(x)\n",
    "    return sublist\n",
    "get_subsequence('abc')"
   ]
  },
  {
   "cell_type": "markdown",
   "metadata": {},
   "source": [
    "# Print subsequence "
   ]
  },
  {
   "cell_type": "code",
   "execution_count": 3,
   "metadata": {},
   "outputs": [
    {
     "name": "stdout",
     "output_type": "stream",
     "text": [
      "abc ab ac a bc b c  "
     ]
    }
   ],
   "source": [
    "def printsub(string, sub):\n",
    "    if len(string) == 0:\n",
    "        print(sub, end = ' ')\n",
    "        return\n",
    "    currs = string[0]\n",
    "    printsub(string[1:], sub + currs)\n",
    "    printsub(string[1:], sub)\n",
    "printsub('abc', '')"
   ]
  },
  {
   "cell_type": "markdown",
   "metadata": {},
   "source": [
    "# Get keypad combination"
   ]
  },
  {
   "cell_type": "code",
   "execution_count": 6,
   "metadata": {},
   "outputs": [
    {
     "name": "stdout",
     "output_type": "stream",
     "text": [
      "['dg', 'dh', 'di', 'eg', 'eh', 'ei', 'fg', 'fh', 'fi']\n"
     ]
    }
   ],
   "source": [
    "codes={'1':'./*','2':'abc','3':'def','4':'ghi','5':'jkl','6':'mno','7':'pqrs','8':'tuv','9':'wxyz'}\n",
    "def getkeybr(string):\n",
    "    if len(string) == 0:\n",
    "        return ['']\n",
    "    currs = string[0]\n",
    "    ros = string[1:]\n",
    "    ans = getkeybr(ros)\n",
    "    res = []\n",
    "    for ch1 in codes[currs]:\n",
    "        for ch2 in ans:\n",
    "            res.append(ch1 + ch2)\n",
    "    return res\n",
    "print(getkeybr('34'))"
   ]
  },
  {
   "cell_type": "markdown",
   "metadata": {},
   "source": [
    "# print keypad combination "
   ]
  },
  {
   "cell_type": "code",
   "execution_count": 8,
   "metadata": {},
   "outputs": [
    {
     "name": "stdout",
     "output_type": "stream",
     "text": [
      "dg dh di eg eh ei fg fh fi "
     ]
    }
   ],
   "source": [
    "codes={'1':'./*','2':'abc','3':'def','4':'ghi','5':'jkl','6':'mno','7':'pqrs','8':'tuv','9':'wxyz'}\n",
    "def printkeybr(string, res):\n",
    "    if len(string) == 0:\n",
    "        print(res, end = ' ')\n",
    "        return\n",
    "    currch = string[0]\n",
    "    for ch in codes[currch]:\n",
    "        printkeybr(string[1:], res + ch)\n",
    "printkeybr('34', '')"
   ]
  },
  {
   "cell_type": "markdown",
   "metadata": {},
   "source": [
    "# Get Maze path"
   ]
  },
  {
   "cell_type": "code",
   "execution_count": 10,
   "metadata": {},
   "outputs": [
    {
     "name": "stdout",
     "output_type": "stream",
     "text": [
      "['VVH', 'VHV', 'HVV']\n"
     ]
    }
   ],
   "source": [
    "def getmazepath(sr, sc, dr, dc):\n",
    "    if sr == dr and sc == dc:\n",
    "        return ['']\n",
    "    hpath, vpath = [], []\n",
    "    if sr < dr:\n",
    "        vpath = getmazepath(sr + 1, sc, dr, dc)\n",
    "    if sc < dc:\n",
    "        hpath = getmazepath(sr, sc + 1, dr, dc)\n",
    "    paths = []\n",
    "    for ch in vpath:\n",
    "        paths.append('V' + ch)\n",
    "    for ch in hpath:\n",
    "        paths.append('H' + ch)\n",
    "    return paths\n",
    "print(getmazepath(0,0,2,1))"
   ]
  },
  {
   "cell_type": "markdown",
   "metadata": {},
   "source": [
    "# Print Maze path "
   ]
  },
  {
   "cell_type": "code",
   "execution_count": 11,
   "metadata": {},
   "outputs": [
    {
     "name": "stdout",
     "output_type": "stream",
     "text": [
      "VVH VHV HVV "
     ]
    }
   ],
   "source": [
    "def printmazepath(sr, sc ,dr, dc, path):\n",
    "    if sr == dr and sc == dc:\n",
    "        print(path, end = ' ')\n",
    "        return\n",
    "    if sr < dr:\n",
    "        printmazepath(sr + 1, sc, dr, dc, path + 'V')\n",
    "    if sc < dc:\n",
    "        printmazepath(sr, sc + 1, dr, dc, path + 'H')\n",
    "printmazepath(0, 0, 2, 1, '')"
   ]
  },
  {
   "cell_type": "markdown",
   "metadata": {},
   "source": [
    "# Get stairs path "
   ]
  },
  {
   "cell_type": "code",
   "execution_count": 13,
   "metadata": {},
   "outputs": [
    {
     "name": "stdout",
     "output_type": "stream",
     "text": [
      "['1111', '112', '121', '13', '211', '22', '31']\n"
     ]
    }
   ],
   "source": [
    "def getstairpath(n):\n",
    "    if n == 0:\n",
    "        return [\"\"]\n",
    "    if n < 0:\n",
    "        return []\n",
    "    fpath = getstairpath(n - 1)\n",
    "    spath = getstairpath(n - 2)\n",
    "    tpath = getstairpath(n - 3)\n",
    "    res = []\n",
    "    for x in fpath:\n",
    "        res.append(str(1) + x)\n",
    "    for x in spath:\n",
    "        res.append(str(2) + x)\n",
    "    for x in tpath:\n",
    "        res.append(str(3) + x)\n",
    "    return res\n",
    "    \n",
    "print(getstairpath(4))"
   ]
  },
  {
   "cell_type": "markdown",
   "metadata": {},
   "source": [
    "# Get maze path jump "
   ]
  },
  {
   "cell_type": "code",
   "execution_count": 8,
   "metadata": {},
   "outputs": [
    {
     "name": "stdout",
     "output_type": "stream",
     "text": [
      "['h1h1v1v1', 'h1h1v2', 'h1v1h1v1', 'h1v1v1h1', 'h1v1d1', 'h1v2h1', 'h1d1v1', 'h2v1v1', 'h2v2', 'v1h1h1v1', 'v1h1v1h1', 'v1h1d1', 'v1h2v1', 'v1v1h1h1', 'v1v1h2', 'v1d1h1', 'v2h1h1', 'v2h2', 'd1h1v1', 'd1v1h1', 'd1d1', 'd2']\n"
     ]
    }
   ],
   "source": [
    "def getmazejump(sr, sc, dr, dc):\n",
    "    if sr > dr or sc > dc:\n",
    "        return\n",
    "    \n",
    "    if sr == dr and sc == dc:\n",
    "        return [\"\"]\n",
    "    \n",
    "    res = []\n",
    "    \n",
    "    #horizontal jump\n",
    "    for i in range(1, (dr - sr) + 1):\n",
    "        hpath = getmazejump(sr + i, sc, dr, dc)\n",
    "        for ch in hpath:\n",
    "            res.append('h' + str(i) + ch)\n",
    "            \n",
    "    #vertical jump\n",
    "    for i in range(1, (dc - sc) + 1):\n",
    "        vpath = getmazejump(sr, sc + i, dr, dc)\n",
    "        for ch in vpath:\n",
    "            res.append('v' + str(i) + ch)\n",
    "    \n",
    "    #diagonal jump\n",
    "    i = 1\n",
    "    while i <= (dr - sr) and i <= (dc - sc):\n",
    "        dpath = getmazejump(sr + i, sc + i, dr, dc)\n",
    "        for ch in dpath:\n",
    "            res.append('d' + str(i) + ch)\n",
    "        i += 1\n",
    "    return res\n",
    "print(getmazejump(1,1,3,3))"
   ]
  },
  {
   "cell_type": "markdown",
   "metadata": {},
   "source": [
    "# print maze jump path "
   ]
  },
  {
   "cell_type": "code",
   "execution_count": 10,
   "metadata": {},
   "outputs": [
    {
     "name": "stdout",
     "output_type": "stream",
     "text": [
      "h1h1v1v1 h1h1v2 h1v1h1v1 h1v1v1h1 h1v1d1 h1v2h1 h1d1v1 h2v1v1 h2v2 v1h1h1v1 v1h1v1h1 v1h1d1 v1h2v1 v1v1h1h1 v1v1h2 v1d1h1 v2h1h1 v2h2 d1h1v1 d1v1h1 d1d1 d2 "
     ]
    }
   ],
   "source": [
    "def printmazejump(sr, sc, dr, dc, path):\n",
    "    if sr > dr or sc > dc:\n",
    "        return\n",
    "    if sr == dr and sc == dc:\n",
    "        print(path, end = ' ')\n",
    "        return\n",
    "    for i in range(1, (dr - sr) + 1):\n",
    "        printmazejump(sr + i, sc, dr, dc, path + 'h' +str(i))\n",
    "    for i in range(1, (dc - sc) + 1):\n",
    "        printmazejump(sr, sc + i, dr, dc, path + 'v' + str(i))\n",
    "    i = 1\n",
    "    while i <= (dr-sr) and i <= (dc-sc):\n",
    "        printmazejump(sr + i, sc + i, dr, dc, path + 'd' + str(i))\n",
    "        i += 1\n",
    "printmazejump(1,1,3,3,'')"
   ]
  },
  {
   "cell_type": "markdown",
   "metadata": {},
   "source": [
    "# print permutations "
   ]
  },
  {
   "cell_type": "code",
   "execution_count": 14,
   "metadata": {},
   "outputs": [
    {
     "name": "stdout",
     "output_type": "stream",
     "text": [
      "abb abb bab bba bab bba "
     ]
    }
   ],
   "source": [
    "def permutation(string, ans):\n",
    "    if len(string) == 0:\n",
    "        print(ans, end = ' ')\n",
    "        return\n",
    "    \n",
    "    for i in range(0,len(string)):\n",
    "        ch = string[i]\n",
    "        ros = string[:i] + string[i+1:]\n",
    "        permutation(ros, ans + ch)\n",
    "permutation('abb', '')"
   ]
  },
  {
   "cell_type": "markdown",
   "metadata": {},
   "source": [
    "# floodfill "
   ]
  },
  {
   "cell_type": "code",
   "execution_count": 22,
   "metadata": {},
   "outputs": [
    {
     "name": "stdout",
     "output_type": "stream",
     "text": [
      "rbbrbrr\n",
      "rbrbbrr\n"
     ]
    }
   ],
   "source": [
    "def floodfill(arr, row, col, path, visited):\n",
    "    if row == len(arr) - 1 and col == len(arr[0]) -1:\n",
    "        print(path)\n",
    "        return\n",
    "    \n",
    "    if row < 0 or col < 0 or row >= len(arr) or col >= len(arr[0]) or arr[row][col] == 1 or str(row)+'_'+str(col) in visited:\n",
    "        return\n",
    "    visited.add(str(row)+'_'+str(col))\n",
    "    floodfill(arr, row - 1, col, path + 't', visited)#top\n",
    "    floodfill(arr, row + 1, col, path + 'b', visited)#bottom\n",
    "    floodfill(arr, row, col + 1, path + 'r', visited)#right\n",
    "    floodfill(arr, row, col - 1, path + 'l', visited)#left\n",
    "    visited.remove(str(row)+'_'+str(col))\n",
    "arr = [[0,0,1,0,1],[1,0,0,0,0],[0,0,0,1,1],[0,1,0,0,0]]\n",
    "floodfill(arr, 0, 0, '', set())"
   ]
  },
  {
   "cell_type": "markdown",
   "metadata": {},
   "source": [
    "# Target sum subset "
   ]
  },
  {
   "cell_type": "code",
   "execution_count": 17,
   "metadata": {},
   "outputs": [
    {
     "name": "stdout",
     "output_type": "stream",
     "text": [
      "['2', '4', '3'] ['6', '3'] ['9'] "
     ]
    }
   ],
   "source": [
    "def ptargetsumsub(arr, k, sub, csum):\n",
    "    if csum > k:\n",
    "        return\n",
    "    \n",
    "    if len(arr) == 0:\n",
    "        if csum == k:\n",
    "            print(sub.split(',')[1:], end = ' ')\n",
    "        return\n",
    "    \n",
    "    #include\n",
    "    ptargetsumsub(arr[1:], k, sub +','+ str(arr[0]), csum + arr[0])\n",
    "    #exclude\n",
    "    ptargetsumsub(arr[1:], k, sub , csum)\n",
    "ptargetsumsub([2,4,6,9,3], 9, '', 0)"
   ]
  },
  {
   "cell_type": "markdown",
   "metadata": {},
   "source": [
    "# Longest common subsequence "
   ]
  },
  {
   "cell_type": "code",
   "execution_count": 24,
   "metadata": {},
   "outputs": [
    {
     "data": {
      "text/plain": [
       "4"
      ]
     },
     "execution_count": 24,
     "metadata": {},
     "output_type": "execute_result"
    }
   ],
   "source": [
    "def lcs(s1, s2, l1, l2):\n",
    "    if l1 == len(s1) or l2 == len(s2):\n",
    "        return 0\n",
    "    if s1[l1] == s2[l2]:\n",
    "        return 1 + lcs(s1, s2, l1 + 1, l2 + 1)\n",
    "    return max(lcs(s1, s2, l1 + 1, l2), lcs(s1, s2, l1, l2 + 1))\n",
    "lcs('abcde','acbcef',0,0)"
   ]
  },
  {
   "cell_type": "markdown",
   "metadata": {},
   "source": [
    "# Longest common substring"
   ]
  },
  {
   "cell_type": "code",
   "execution_count": 36,
   "metadata": {},
   "outputs": [
    {
     "data": {
      "text/plain": [
       "3"
      ]
     },
     "execution_count": 36,
     "metadata": {},
     "output_type": "execute_result"
    }
   ],
   "source": [
    "def lcsub(s1, s2, l1, l2, countoflcs):\n",
    "    if l1 == len(s1) or l2 == len(s2):\n",
    "        return countoflcs\n",
    "    if s1[l1] == s2[l2]:\n",
    "        countoflcs = lcsub(s1, s2, l1+1, l2+1, countoflcs+1)\n",
    "    count1=lcsub(s1, s2, l1+1, l2, 0)\n",
    "    count2=lcsub(s1, s2, l1, l2+1, 0)\n",
    "    return max(countoflcs, max(count1, count2))\n",
    "lcsub('efabcd', 'abce', 0, 0, 0)"
   ]
  },
  {
   "cell_type": "markdown",
   "metadata": {},
   "source": [
    "# Tug of war"
   ]
  },
  {
   "cell_type": "code",
   "execution_count": 47,
   "metadata": {},
   "outputs": [
    {
     "name": "stdout",
     "output_type": "stream",
     "text": [
      "[1, 3, 6] [2, 4, 5]\n"
     ]
    }
   ],
   "source": [
    "s1 = list()\n",
    "s2 = list()\n",
    "mindiff = 99999 \n",
    "def tow(arr, idx, sos1, sos2, sub1, sub2):\n",
    "    global s1, s2, mindiff\n",
    "    if idx == len(arr):\n",
    "        if abs(sos1 - sos2) < mindiff:\n",
    "            mindiff = abs(sos1 - sos2)\n",
    "            s1 = sub1[:]\n",
    "            s2 = sub2[:]\n",
    "        return\n",
    "    \n",
    "    if len(sub1) < (len(arr)+1)//2:\n",
    "        #include for s1\n",
    "        sub1.append(arr[idx])\n",
    "        tow(arr, idx+1, sos1 + arr[idx], sos2, sub1, sub2)\n",
    "        sub1.pop()\n",
    "\n",
    "    \n",
    "    if len(sub2) < (len(arr)+1)//2:\n",
    "        #include for s2\n",
    "        sub2.append(arr[idx])\n",
    "        tow(arr, idx+1, sos1, sos2 + arr[idx], sub1, sub2)\n",
    "        sub2.pop()\n",
    "        \n",
    "tow([1,2,3,4,5,6], 0, 0, 0, [], [])\n",
    "print(s1,s2)"
   ]
  },
  {
   "cell_type": "markdown",
   "metadata": {},
   "source": [
    "# wordbreak"
   ]
  },
  {
   "cell_type": "code",
   "execution_count": 54,
   "metadata": {},
   "outputs": [
    {
     "name": "stdout",
     "output_type": "stream",
     "text": [
      " micro soft hi ring\n",
      " micro soft hiring\n",
      " microsoft hi ring\n",
      " microsoft hiring\n"
     ]
    }
   ],
   "source": [
    "def wordbreak(string, ans, worddict):\n",
    "    if len(string) == 0:\n",
    "        print(ans)\n",
    "        return\n",
    "    for i in range(0,len(string)):\n",
    "        word = string[:i+1]\n",
    "        if word in worddict:\n",
    "            wordbreak(string[i+1:], ans +' '+ word, worddict)\n",
    "worddict=set(('micro','soft','hi','ring','microsoft','hiring'))\n",
    "wordbreak('microsofthiring','',worddict)"
   ]
  },
  {
   "cell_type": "markdown",
   "metadata": {},
   "source": [
    "# word break 2"
   ]
  },
  {
   "cell_type": "code",
   "execution_count": 55,
   "metadata": {},
   "outputs": [
    {
     "name": "stdout",
     "output_type": "stream",
     "text": [
      "cat sand dog\n",
      "cats and dog\n"
     ]
    }
   ],
   "source": [
    "def wb2(string, sub, wordict):\n",
    "    if len(string) == 0:\n",
    "        print(' '.join(sub))\n",
    "        return \n",
    "    for i in range(0, len(string)):\n",
    "        left = string[:i+1]\n",
    "        if left in wordict:\n",
    "            sub.append(left)\n",
    "            ros = string[i+1:]\n",
    "            wb2(ros, sub, wordict)\n",
    "            sub.pop()\n",
    "wb2('catsanddog',[],['cat','cats','and','sand','dog']) "
   ]
  },
  {
   "cell_type": "markdown",
   "metadata": {},
   "source": [
    "# wordmatching "
   ]
  },
  {
   "cell_type": "code",
   "execution_count": 59,
   "metadata": {},
   "outputs": [
    {
     "name": "stdout",
     "output_type": "stream",
     "text": [
      "{'a': 'm', 'b': 'zaddy', 'c': 't'}\n",
      "{'a': 'mz', 'b': 'addy', 'c': 'tz'}\n",
      "{'a': 'mza', 'b': 'ddy', 'c': 'tza'}\n",
      "{'a': 'mzad', 'b': 'dy', 'c': 'tzad'}\n",
      "{'a': 'mzadd', 'b': 'y', 'c': 'tzadd'}\n"
     ]
    }
   ],
   "source": [
    "def helper(string, ptr, hashset):\n",
    "    if len(ptr) == 0:\n",
    "        if len(string) == 0:\n",
    "            print(hashset)\n",
    "        return\n",
    "    \n",
    "    ch = ptr[0]\n",
    "    rosp = ptr[1:]\n",
    "    if hashset[ch] != None:\n",
    "        prevmap = hashset[ch]\n",
    "        if len(string) >= len(prevmap):\n",
    "            left = string[:len(prevmap)]\n",
    "            right = string[len(prevmap):]\n",
    "            if left == prevmap:\n",
    "                helper(right, rosp, hashset)\n",
    "    else:\n",
    "        for i in range(0, len(string)):\n",
    "            left = string[:i+1]\n",
    "            right = string[i+1:]\n",
    "            hashset[ch] = left\n",
    "            helper(right, rosp, hashset)\n",
    "            hashset[ch] = None\n",
    "def wordmatching(string, ptr):\n",
    "    hashset = {}\n",
    "    for ch in ptr:\n",
    "        if ch not in hashset:\n",
    "            hashset[ch] = None\n",
    "    helper(string, ptr, hashset)\n",
    "wordmatching('mzaddytzaddy','abcb')"
   ]
  },
  {
   "cell_type": "markdown",
   "metadata": {},
   "source": [
    "# all palindromic partitions"
   ]
  },
  {
   "cell_type": "code",
   "execution_count": 60,
   "metadata": {},
   "outputs": [
    {
     "name": "stdout",
     "output_type": "stream",
     "text": [
      " (a) (b) (c) (b) (a) (a)\n",
      " (a) (b) (c) (b) (aa)\n",
      " (a) (bcb) (a) (a)\n",
      " (a) (bcb) (aa)\n",
      " (abcba) (a)\n"
     ]
    }
   ],
   "source": [
    "def ispermute(string):\n",
    "    start = 0\n",
    "    end = len(string) - 1\n",
    "    while start < end:\n",
    "        if string[start] != string[end]:\n",
    "            return False\n",
    "        start += 1\n",
    "        end -= 1\n",
    "    return True\n",
    "def palpermu(string, ans):\n",
    "    if len(string) == 0:\n",
    "        print(ans)\n",
    "        return \n",
    "    for i in range(0,len(string)):\n",
    "        left = string[:i+1]\n",
    "        if ispermute(left):\n",
    "            right = string[i+1:]\n",
    "            palpermu(right, ans + ' ('+left+')' )\n",
    "palpermu('abcbaa', '')"
   ]
  },
  {
   "cell_type": "code",
   "execution_count": 61,
   "metadata": {},
   "outputs": [
    {
     "name": "stdout",
     "output_type": "stream",
     "text": [
      "['a', 'b', 'c', 'b', 'a', 'a']\n",
      "['a', 'b', 'c', 'b', 'aa']\n",
      "['a', 'bcb', 'a', 'a']\n",
      "['a', 'bcb', 'aa']\n",
      "['abcba', 'a']\n"
     ]
    }
   ],
   "source": [
    "def ispermute(string):\n",
    "    start = 0\n",
    "    end = len(string) - 1\n",
    "    while start < end:\n",
    "        if string[start] != string[end]:\n",
    "            return False\n",
    "        start += 1\n",
    "        end -= 1\n",
    "    return True\n",
    "def palpermu(string, ans):\n",
    "    if len(string) == 0:\n",
    "        print(ans)\n",
    "        return \n",
    "    for i in range(0,len(string)):\n",
    "        left = string[:i+1]\n",
    "        if ispermute(left):\n",
    "            right = string[i+1:]\n",
    "            ans.append(left)\n",
    "            palpermu(right, ans)\n",
    "            ans.pop()\n",
    "palpermu('abcbaa', [])"
   ]
  },
  {
   "cell_type": "markdown",
   "metadata": {},
   "source": [
    "# word k selection "
   ]
  },
  {
   "cell_type": "code",
   "execution_count": 67,
   "metadata": {},
   "outputs": [
    {
     "name": "stdout",
     "output_type": "stream",
     "text": [
      "abc abd abe acd ace ade bcd bce bde cde "
     ]
    }
   ],
   "source": [
    "def helper(string, k, ans):\n",
    "    if k == 0:\n",
    "        print(ans, end = ' ')\n",
    "        return\n",
    "    if len(string) == 0:\n",
    "        return\n",
    "    helper(string[1:], k - 1, ans + string[0])\n",
    "    helper(string[1:], k, ans)\n",
    "            \n",
    "def wordselection(string, k):\n",
    "    unstr = ''\n",
    "    for ch in string:\n",
    "        if ch not in unstr:\n",
    "            unstr += ch\n",
    "    helper(unstr, k, '')\n",
    "wordselection('aabccdde', 3)"
   ]
  },
  {
   "cell_type": "markdown",
   "metadata": {},
   "source": [
    "# word k selection another way"
   ]
  },
  {
   "cell_type": "code",
   "execution_count": 72,
   "metadata": {},
   "outputs": [
    {
     "name": "stdout",
     "output_type": "stream",
     "text": [
      "abc abd abe acd ace ade bcd bce bde cde "
     ]
    }
   ],
   "source": [
    "def helper(string, cs, ts, lc, ans):\n",
    "    if cs > ts:\n",
    "        print(ans, end = ' ')\n",
    "        return\n",
    "    for i in range(lc+1,len(string)):\n",
    "        ch = string[i]\n",
    "        helper(string, cs+1, ts, i, ans + ch)\n",
    "    return\n",
    "def wordksel(string, k):\n",
    "    unstr = ''\n",
    "    for ch in string:\n",
    "        if ch not in unstr:\n",
    "            unstr += ch\n",
    "    helper(unstr, 1, k, -1, '')\n",
    "wordksel('aabccdde', 3)"
   ]
  },
  {
   "cell_type": "markdown",
   "metadata": {},
   "source": [
    "# Coin combination"
   ]
  },
  {
   "cell_type": "code",
   "execution_count": 77,
   "metadata": {},
   "outputs": [
    {
     "name": "stdout",
     "output_type": "stream",
     "text": [
      "['1', '2', '4']\n",
      "['1', '6']\n",
      "['2', '5']\n",
      "['3', '4']\n"
     ]
    }
   ],
   "source": [
    "def coincomb(arr, k, sos, sub):\n",
    "    if len(arr) == 0:\n",
    "        if sos == k:\n",
    "            print(sub.split(',')[1:])\n",
    "        return\n",
    "    coincomb(arr[1:], k, sos + arr[0], sub+','+str(arr[0]))\n",
    "    coincomb(arr[1:], k, sos, sub)\n",
    "coincomb([1,2,3,4,5,6], 7,0, '')"
   ]
  },
  {
   "cell_type": "markdown",
   "metadata": {},
   "source": [
    "# Coin change\n",
    "repetition allowed"
   ]
  },
  {
   "cell_type": "code",
   "execution_count": 39,
   "metadata": {},
   "outputs": [
    {
     "name": "stdout",
     "output_type": "stream",
     "text": [
      "1-1-1-1-1-1-1-\n",
      "1-1-1-1-1-2-\n",
      "1-1-1-1-3-\n",
      "1-1-1-2-2-\n",
      "1-1-1-4-\n",
      "1-1-2-3-\n",
      "1-1-5-\n",
      "1-2-2-2-\n",
      "1-2-4-\n",
      "1-3-3-\n",
      "2-2-3-\n",
      "2-5-\n",
      "3-4-\n"
     ]
    }
   ],
   "source": [
    "def coinChangeRep(idx, coins, camt, tamt, asf):\n",
    "    if idx == len(coins):\n",
    "        if camt == tamt:\n",
    "            print(asf)\n",
    "        return\n",
    "    ch = coins[idx]\n",
    "    for i in range(tamt//ch, 0, -1):\n",
    "        part = ''\n",
    "        for j in range(0, i):\n",
    "            part += str(ch) + '-'\n",
    "        coinChangeRep(idx+1, coins, camt + ch * i, tamt, asf + part)\n",
    "    coinChangeRep(idx+1, coins, camt, tamt, asf)\n",
    "    \n",
    "coins = [1, 2, 3, 4, 5]\n",
    "coinChangeRep(0, coins, 0, 7, '')"
   ]
  },
  {
   "cell_type": "code",
   "execution_count": null,
   "metadata": {},
   "outputs": [],
   "source": []
  },
  {
   "cell_type": "markdown",
   "metadata": {},
   "source": [
    "# Permutations"
   ]
  },
  {
   "cell_type": "code",
   "execution_count": 3,
   "metadata": {},
   "outputs": [
    {
     "name": "stdout",
     "output_type": "stream",
     "text": [
      "[1, 2, 0]\n",
      "[1, 0, 2]\n",
      "[2, 1, 0]\n",
      "[0, 1, 2]\n",
      "[2, 0, 1]\n",
      "[0, 2, 1]\n"
     ]
    }
   ],
   "source": [
    "def permutate(boxes, nspot, cidx):\n",
    "    if cidx > nspot:\n",
    "        print(boxes)\n",
    "        return\n",
    "    for i in range(0, len(boxes)):\n",
    "        if boxes[i] == 0:\n",
    "            boxes[i] = cidx\n",
    "            permutate(boxes, nspot, cidx+1)\n",
    "            boxes[i] = 0\n",
    "permutate([0, 0, 0], 2, 1)"
   ]
  },
  {
   "cell_type": "markdown",
   "metadata": {},
   "source": [
    "## Permutations of string"
   ]
  },
  {
   "cell_type": "code",
   "execution_count": 4,
   "metadata": {},
   "outputs": [
    {
     "name": "stdout",
     "output_type": "stream",
     "text": [
      "1112\n",
      "1121\n",
      "1211\n",
      "2111\n"
     ]
    }
   ],
   "source": [
    "from collections import Counter\n",
    "def helper(freqmap, cs, ts, ans):\n",
    "    if cs == ts:\n",
    "        print(ans)\n",
    "        return\n",
    "    for ch in freqmap.keys():\n",
    "        if freqmap[ch] != 0:\n",
    "            freqmap[ch] -= 1\n",
    "            helper(freqmap, cs+1, ts, ans+ch)\n",
    "            freqmap[ch] += 1\n",
    "\n",
    "def permutationstr(string):\n",
    "    freqmap = Counter(string)\n",
    "    helper(freqmap, 0, len(string), '')\n",
    "permutationstr('1211')"
   ]
  },
  {
   "cell_type": "markdown",
   "metadata": {},
   "source": [
    "# Combination "
   ]
  },
  {
   "cell_type": "code",
   "execution_count": 6,
   "metadata": {},
   "outputs": [
    {
     "name": "stdout",
     "output_type": "stream",
     "text": [
      "11-\n",
      "1-1\n",
      "-11\n"
     ]
    }
   ],
   "source": [
    "def combination(cb, tb, ssf, ts, asf):\n",
    "    if cb == tb:\n",
    "        if ssf == ts:\n",
    "            print(asf)\n",
    "        return\n",
    "    combination(cb + 1, 3, ssf + 1, ts, asf+'1')\n",
    "    combination(cb + 1, 3, ssf, ts, asf+'-')\n",
    "combination(0, 3, 0, 2, '')"
   ]
  },
  {
   "cell_type": "markdown",
   "metadata": {},
   "source": [
    "# Combination another problem "
   ]
  },
  {
   "cell_type": "code",
   "execution_count": 12,
   "metadata": {},
   "outputs": [
    {
     "name": "stdout",
     "output_type": "stream",
     "text": [
      "ii-\n",
      "i-i\n",
      "-ii\n"
     ]
    }
   ],
   "source": [
    "def comb2(boxes, cs, ts, lob):\n",
    "    if cs > ts:\n",
    "        for x in boxes:\n",
    "            if x:\n",
    "                print('i',end='')\n",
    "            else:\n",
    "                print('-', end='')\n",
    "        print('')\n",
    "        return\n",
    "    for i in range(lob+1, len(boxes)):\n",
    "        if boxes[i] == False:\n",
    "            boxes[i] = True\n",
    "            comb2(boxes, cs+1, ts, i)\n",
    "            boxes[i] = False\n",
    "comb2([False,False,False], 1, 2, -1)"
   ]
  },
  {
   "cell_type": "markdown",
   "metadata": {},
   "source": [
    "# string permutation 2"
   ]
  },
  {
   "cell_type": "code",
   "execution_count": 16,
   "metadata": {},
   "outputs": [
    {
     "name": "stdout",
     "output_type": "stream",
     "text": [
      "1121\n",
      "1112\n",
      "1211\n",
      "1112\n",
      "2111\n",
      "1112\n"
     ]
    }
   ],
   "source": [
    "def permuteS2(string, ci, spot, lastmap):\n",
    "    if ci == len(string):\n",
    "        print(''.join(spot))\n",
    "        return\n",
    "    \n",
    "    ch = string[ci]\n",
    "    locc = lastmap[ch]\n",
    "    for i in range(locc + 1, len(spot)):\n",
    "        if spot[i] == None:\n",
    "            spot[i] = ch\n",
    "            lastmap[ch] = i\n",
    "            permuteS2(string, ci+1, spot, lastmap)\n",
    "            spot[i] = None\n",
    "            lastmap[ch] = -1\n",
    "string = '1121'\n",
    "spot = [None] * len(string)\n",
    "lastmap = {x : -1 for x in string}\n",
    "permuteS2(string, 0, spot, lastmap)"
   ]
  },
  {
   "cell_type": "markdown",
   "metadata": {},
   "source": [
    "# Largest number after k most swaps my approach "
   ]
  },
  {
   "cell_type": "code",
   "execution_count": 55,
   "metadata": {},
   "outputs": [
    {
     "name": "stdout",
     "output_type": "stream",
     "text": [
      "9731\n"
     ]
    }
   ],
   "source": [
    "def helper(ls, idx, k):\n",
    "    global maxnum\n",
    "    if k == 0 or idx == len(ls):\n",
    "        print(''.join(ls))\n",
    "        return\n",
    "    max_idx = idx\n",
    "    max_num = ls[idx]\n",
    "    for i in range(idx, len(ls)):\n",
    "        if ls[i] > max_num:\n",
    "            max_num = ls[i]\n",
    "            max_idx = i\n",
    "    ls[idx] , ls[max_idx] = ls[max_idx], ls[idx]\n",
    "    helper(ls, idx + 1, k - 1)\n",
    "def largestnumberkswap(string, k):\n",
    "    ls = list(string)\n",
    "    helper(ls, 0, k)\n",
    "largestnumberkswap('7319', 3)"
   ]
  },
  {
   "cell_type": "markdown",
   "metadata": {},
   "source": [
    "# Largest number after k most swaps backtrack approach "
   ]
  },
  {
   "cell_type": "code",
   "execution_count": 68,
   "metadata": {},
   "outputs": [
    {
     "name": "stdout",
     "output_type": "stream",
     "text": [
      "4231\n"
     ]
    }
   ],
   "source": [
    "def swaps(string, pos1, pos2):\n",
    "    left = string[:pos1]\n",
    "    middle = string[pos1+1:pos2]\n",
    "    right = string[pos2+1:]\n",
    "    \n",
    "    return left+string[pos2]+middle+string[pos1]+right\n",
    "\n",
    "def helper(string, k):\n",
    "    if int(string) > Maxnokswaps.maxnum:\n",
    "        Maxnokswaps.maxnum = int(string)\n",
    "    if k == 0:\n",
    "        return\n",
    "    for i in range(0,len(string)):\n",
    "        for j in range(i+1, len(string)):\n",
    "            string = swaps(string, i, j)\n",
    "            helper(string, k-1)\n",
    "            string = swaps(string, i, j)\n",
    "\n",
    "def Maxnokswaps(string, k):\n",
    "    Maxnokswaps.maxnum = -99999\n",
    "    helper(string, k)\n",
    "    print(Maxnokswaps.maxnum)\n",
    "Maxnokswaps('1234', 1)"
   ]
  },
  {
   "cell_type": "markdown",
   "metadata": {},
   "source": [
    "# Lexicographical order "
   ]
  },
  {
   "cell_type": "code",
   "execution_count": 71,
   "metadata": {},
   "outputs": [
    {
     "name": "stdout",
     "output_type": "stream",
     "text": [
      "1 10 100 11 12 13 14 15 16 17 18 19 20 21 22 23 24 25 26 27 28 29 30 31 32 33 34 35 36 37 38 39 40 41 42 43 44 45 46 47 48 49 50 51 52 53 54 55 56 57 58 59 60 61 62 63 64 65 66 67 68 69 70 71 72 73 74 75 76 77 78 79 80 81 82 83 84 85 86 87 88 89 90 91 92 93 94 95 96 97 98 99 100 "
     ]
    }
   ],
   "source": [
    "def lexi(i,n):\n",
    "    if i > n:\n",
    "        return\n",
    "    print(i, end = ' ')\n",
    "    for x in range(0,n):\n",
    "        lexi(10*i+x, n)\n",
    "lexi(1,100)"
   ]
  },
  {
   "cell_type": "markdown",
   "metadata": {},
   "source": [
    "# Palindromic permutation"
   ]
  },
  {
   "cell_type": "code",
   "execution_count": 82,
   "metadata": {},
   "outputs": [
    {
     "name": "stdout",
     "output_type": "stream",
     "text": [
      "{'a': 2, 'b': 1, 'f': 0}\n",
      "aabfbaa\n",
      "abafaba\n",
      "baafaab\n"
     ]
    }
   ],
   "source": [
    "def helper(freqmap, oddC, ssf, length):\n",
    "    if len(ssf) == length:\n",
    "        rev = ssf[::-1]\n",
    "        if oddC:\n",
    "            print(ssf+oddC+rev)\n",
    "        else:\n",
    "            print(ssf+rev)\n",
    "        return\n",
    "    for x in freqmap:\n",
    "        if freqmap[x] != 0:\n",
    "            freqmap[x] -= 1\n",
    "            helper(freqmap, oddC, ssf+x, length)\n",
    "            freqmap[x] += 1\n",
    "\n",
    "def palindromicpermutation(string):\n",
    "    freqmap = {}\n",
    "    for x in string:\n",
    "        if x not in freqmap:\n",
    "            freqmap[x] = 0\n",
    "        freqmap[x] += 1\n",
    "    oddC = None\n",
    "    length = 0\n",
    "    for x in freqmap:\n",
    "        if freqmap[x]%2 != 0:\n",
    "            if not oddC:\n",
    "                oddC = x\n",
    "            else:\n",
    "                print(x)\n",
    "                return -1\n",
    "        freqmap[x] //= 2\n",
    "        length += freqmap[x]\n",
    "    print(freqmap)\n",
    "    helper(freqmap, oddC, '', length)\n",
    "            \n",
    "palindromicpermutation('ababfaa')"
   ]
  },
  {
   "cell_type": "code",
   "execution_count": 86,
   "metadata": {},
   "outputs": [
    {
     "data": {
      "text/plain": [
       "25"
      ]
     },
     "execution_count": 86,
     "metadata": {},
     "output_type": "execute_result"
    }
   ],
   "source": [
    "ord('Z') - 65"
   ]
  },
  {
   "cell_type": "code",
   "execution_count": 99,
   "metadata": {},
   "outputs": [
    {
     "data": {
      "text/plain": [
       "5"
      ]
     },
     "execution_count": 99,
     "metadata": {},
     "output_type": "execute_result"
    }
   ],
   "source": [
    "25 // 5"
   ]
  },
  {
   "cell_type": "code",
   "execution_count": 101,
   "metadata": {},
   "outputs": [
    {
     "data": {
      "text/plain": [
       "1"
      ]
     },
     "execution_count": 101,
     "metadata": {},
     "output_type": "execute_result"
    }
   ],
   "source": [
    "25 % 6"
   ]
  },
  {
   "cell_type": "code",
   "execution_count": 118,
   "metadata": {},
   "outputs": [],
   "source": [
    "ls = [[0 for x in range(6)]  for x in range(5)]"
   ]
  },
  {
   "cell_type": "code",
   "execution_count": 119,
   "metadata": {},
   "outputs": [],
   "source": [
    "x =0\n",
    "for i in range(len(ls)):\n",
    "    for j in range(len(ls[0])):\n",
    "        ls[i][j] = x\n",
    "        x += 1\n",
    "        if x == 26:\n",
    "            break"
   ]
  },
  {
   "cell_type": "code",
   "execution_count": 120,
   "metadata": {},
   "outputs": [
    {
     "data": {
      "text/plain": [
       "[[0, 1, 2, 3, 4, 5],\n",
       " [6, 7, 8, 9, 10, 11],\n",
       " [12, 13, 14, 15, 16, 17],\n",
       " [18, 19, 20, 21, 22, 23],\n",
       " [24, 25, 0, 0, 0, 0]]"
      ]
     },
     "execution_count": 120,
     "metadata": {},
     "output_type": "execute_result"
    }
   ],
   "source": [
    "ls"
   ]
  },
  {
   "cell_type": "code",
   "execution_count": 128,
   "metadata": {},
   "outputs": [],
   "source": [
    "nrow = len(ls)\n",
    "ncol = len(ls[0])"
   ]
  },
  {
   "cell_type": "code",
   "execution_count": 132,
   "metadata": {},
   "outputs": [
    {
     "data": {
      "text/plain": [
       "(0, 2)"
      ]
     },
     "execution_count": 132,
     "metadata": {},
     "output_type": "execute_result"
    }
   ],
   "source": [
    "2 // ncol, 2 % ncol"
   ]
  },
  {
   "cell_type": "code",
   "execution_count": 127,
   "metadata": {},
   "outputs": [
    {
     "data": {
      "text/plain": [
       "(2, 0)"
      ]
     },
     "execution_count": 127,
     "metadata": {},
     "output_type": "execute_result"
    }
   ],
   "source": [
    "8 // 4, 8 % 4 "
   ]
  },
  {
   "cell_type": "code",
   "execution_count": null,
   "metadata": {},
   "outputs": [],
   "source": []
  }
 ],
 "metadata": {
  "kernelspec": {
   "display_name": "Python 3",
   "language": "python",
   "name": "python3"
  },
  "language_info": {
   "codemirror_mode": {
    "name": "ipython",
    "version": 3
   },
   "file_extension": ".py",
   "mimetype": "text/x-python",
   "name": "python",
   "nbconvert_exporter": "python",
   "pygments_lexer": "ipython3",
   "version": "3.8.10"
  }
 },
 "nbformat": 4,
 "nbformat_minor": 4
}
