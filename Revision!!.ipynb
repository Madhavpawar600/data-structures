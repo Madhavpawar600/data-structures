{
 "cells": [
  {
   "cell_type": "markdown",
   "metadata": {},
   "source": [
    "# Multiply digits"
   ]
  },
  {
   "cell_type": "code",
   "execution_count": 7,
   "metadata": {},
   "outputs": [
    {
     "data": {
      "text/plain": [
       "[-4, 0, 3, 2]"
      ]
     },
     "execution_count": 7,
     "metadata": {},
     "output_type": "execute_result"
    }
   ],
   "source": [
    "def multiplyDigi(num1,num2):\n",
    "    sign= -1 if num1[0]<0 or num2[0]<0 else 1\n",
    "    num1[0],num2[0]=abs(num1[0]),abs(num2[0])\n",
    "    result=[0] * (len(num1)+len(num2))\n",
    "    for i in reversed(range(len(num1))):\n",
    "        for j in reversed(range(len(num2))):\n",
    "            result[i+j+1] += num1[i]*num2[j]\n",
    "            result[i+j] += result[i+j+1] // 10\n",
    "            result[i+j+1] %= 10\n",
    "    return [sign * result[0]] + result[1:]\n",
    "multiplyDigi([-5,6],[7,2])"
   ]
  },
  {
   "cell_type": "markdown",
   "metadata": {},
   "source": [
    "# Delete Duplicates"
   ]
  },
  {
   "cell_type": "code",
   "execution_count": 12,
   "metadata": {},
   "outputs": [
    {
     "name": "stdout",
     "output_type": "stream",
     "text": [
      "[1, 2, 3, 4, 3, 3, 4, 4]\n"
     ]
    },
    {
     "data": {
      "text/plain": [
       "[1, 2, 3, 4, 0, 0, 0, 0]"
      ]
     },
     "execution_count": 12,
     "metadata": {},
     "output_type": "execute_result"
    }
   ],
   "source": [
    "def deleteDup(arr):\n",
    "    if not arr:\n",
    "        return 0\n",
    "    writeindex=1\n",
    "    for i in range(1,len(arr)):\n",
    "        if arr[writeindex-1]!=arr[i]:\n",
    "            arr[writeindex]=arr[i]\n",
    "            writeindex+=1\n",
    "    print(arr)\n",
    "    while writeindex < len(arr):\n",
    "        arr[writeindex]=0\n",
    "        writeindex+=1\n",
    "    return arr\n",
    "deleteDup([1,1,1,2,3,3,4,4])"
   ]
  },
  {
   "cell_type": "code",
   "execution_count": 13,
   "metadata": {},
   "outputs": [],
   "source": [
    "a=[1,2,3]"
   ]
  },
  {
   "cell_type": "markdown",
   "metadata": {},
   "source": [
    "# Max consecutive ones k zeros allowed"
   ]
  },
  {
   "cell_type": "code",
   "execution_count": 1,
   "metadata": {},
   "outputs": [
    {
     "data": {
      "text/plain": [
       "6"
      ]
     },
     "execution_count": 1,
     "metadata": {},
     "output_type": "execute_result"
    }
   ],
   "source": [
    "#acquire and release strategy\n",
    "def maxCons(arr,k):\n",
    "    zerocount=0\n",
    "    j=-1\n",
    "    ans=0\n",
    "    for i in range(0,len(arr)):\n",
    "        if arr[i]==0:\n",
    "            zerocount+=1\n",
    "        while zerocount>k:\n",
    "            j+=1\n",
    "            if arr[j]==0:\n",
    "                zerocount-=1\n",
    "        ans=max(ans,i-j)\n",
    "    return ans\n",
    "maxCons([1,1,0,1,1,0,0,0,1,0,1,0,1],2)"
   ]
  },
  {
   "cell_type": "markdown",
   "metadata": {},
   "source": [
    "# Longest substring without repeating chars"
   ]
  },
  {
   "cell_type": "code",
   "execution_count": null,
   "metadata": {},
   "outputs": [],
   "source": []
  },
  {
   "cell_type": "code",
   "execution_count": 11,
   "metadata": {},
   "outputs": [
    {
     "name": "stdout",
     "output_type": "stream",
     "text": [
      "3\n"
     ]
    }
   ],
   "source": [
    "def longestsubs(string):\n",
    "    i=0\n",
    "    j=-1\n",
    "    ans=0\n",
    "    hashset=set()\n",
    "    while i < len(string):\n",
    "        ch=string[i]\n",
    "        #print(ch)\n",
    "        #print(hashset)\n",
    "        while ch in hashset:\n",
    "            j+=1\n",
    "            hashset.remove(string[j])\n",
    "        hashset.add(ch)\n",
    "        ans=max(ans,i-j)\n",
    "        i+=1\n",
    "    return ans\n",
    "longestsubs('babbcabdbb')\n",
    "print(longestsubs('bbabcb'))"
   ]
  },
  {
   "cell_type": "markdown",
   "metadata": {},
   "source": [
    "# String contains all binary codes of k size"
   ]
  },
  {
   "cell_type": "code",
   "execution_count": 15,
   "metadata": {},
   "outputs": [
    {
     "data": {
      "text/plain": [
       "False"
      ]
     },
     "execution_count": 15,
     "metadata": {},
     "output_type": "execute_result"
    }
   ],
   "source": [
    "def allbincodes(string,k):\n",
    "    total=2**k\n",
    "    count=0\n",
    "    hashset=set()\n",
    "    for i in range(0,len(string)-k+1):\n",
    "        ch=string[i:i+k]\n",
    "        if ch not in hashset:\n",
    "            hashset.add(ch)\n",
    "            count+=1\n",
    "    if total==count:\n",
    "        return True\n",
    "    return False\n",
    "allbincodes('0001011100',4)"
   ]
  },
  {
   "cell_type": "markdown",
   "metadata": {},
   "source": [
    "# Largest subarray with zero sum"
   ]
  },
  {
   "cell_type": "code",
   "execution_count": 16,
   "metadata": {},
   "outputs": [
    {
     "data": {
      "text/plain": [
       "6"
      ]
     },
     "execution_count": 16,
     "metadata": {},
     "output_type": "execute_result"
    }
   ],
   "source": [
    "def largesub(arr):\n",
    "    hashmap={0:-1}\n",
    "    currindex=0\n",
    "    currsum=0\n",
    "    ans=0\n",
    "    while currindex < len(arr):\n",
    "        currsum+=arr[currindex]\n",
    "        if currsum in hashmap:\n",
    "            ans=max(ans,currindex-hashmap[currsum])\n",
    "        else:\n",
    "            hashmap[currsum]=currindex\n",
    "        currindex+=1\n",
    "    return ans\n",
    "largesub([8,7,3,-10,4,5,-9,8])"
   ]
  },
  {
   "cell_type": "code",
   "execution_count": null,
   "metadata": {},
   "outputs": [],
   "source": []
  }
 ],
 "metadata": {
  "kernelspec": {
   "display_name": "Python 3",
   "language": "python",
   "name": "python3"
  },
  "language_info": {
   "codemirror_mode": {
    "name": "ipython",
    "version": 3
   },
   "file_extension": ".py",
   "mimetype": "text/x-python",
   "name": "python",
   "nbconvert_exporter": "python",
   "pygments_lexer": "ipython3",
   "version": "3.8.5"
  }
 },
 "nbformat": 4,
 "nbformat_minor": 4
}
