{
 "cells": [
  {
   "cell_type": "code",
   "execution_count": 1,
   "id": "276bb478",
   "metadata": {},
   "outputs": [
    {
     "name": "stdout",
     "output_type": "stream",
     "text": [
      "*******\n",
      " *****\n",
      "  ***\n",
      "   *\n"
     ]
    }
   ],
   "source": [
    "def pattern(n):\n",
    "    for i in range(n):\n",
    "        for j in range(i):\n",
    "            print(' ', end='')\n",
    "        \n",
    "        for j in range((2*n) - (2*i+1)):\n",
    "            print('*', end='')\n",
    "        print()\n",
    "pattern(4)"
   ]
  },
  {
   "cell_type": "code",
   "execution_count": 3,
   "id": "5a256184",
   "metadata": {},
   "outputs": [
    {
     "name": "stdout",
     "output_type": "stream",
     "text": [
      "   *\n",
      "  ***\n",
      " *****\n",
      "*******\n"
     ]
    }
   ],
   "source": [
    "def pattern(n):\n",
    "    for i in range(n):\n",
    "        for j in range(n-i-1):\n",
    "            print(' ', end = '')\n",
    "        for j in range(2*i + 1):\n",
    "            print('*', end = '')\n",
    "        print()\n",
    "pattern(4)"
   ]
  },
  {
   "cell_type": "code",
   "execution_count": 7,
   "id": "2454bdb6",
   "metadata": {},
   "outputs": [
    {
     "name": "stdout",
     "output_type": "stream",
     "text": [
      "  *\n",
      " ***\n",
      "*****\n",
      "*****\n",
      " ***\n",
      "  *\n"
     ]
    }
   ],
   "source": [
    "def pattern(n):\n",
    "    nn = 2 * n\n",
    "    for i in range(nn):\n",
    "        if i // n == 0:\n",
    "            # upper part\n",
    "            i = i % n\n",
    "            for j in range(n - i - 1):\n",
    "                print(' ', end='')\n",
    "            for j in range(2*i + 1):\n",
    "                print('*', end = '')\n",
    "        else:\n",
    "            # lower part\n",
    "            i = i % n\n",
    "            for j in range(i):\n",
    "                print(' ', end='')\n",
    "            for j in range((2*n) - (2 * i + 1)):\n",
    "                print('*', end = '')\n",
    "        print()\n",
    "pattern(3)"
   ]
  },
  {
   "cell_type": "code",
   "execution_count": 14,
   "id": "c0a3576b",
   "metadata": {},
   "outputs": [
    {
     "name": "stdout",
     "output_type": "stream",
     "text": [
      "*\n",
      "**\n",
      "***\n",
      "****\n",
      "***\n",
      "**\n",
      "*\n"
     ]
    }
   ],
   "source": [
    "def pattern(n):\n",
    "    nn = 2 * n\n",
    "    for i in range(nn-1):\n",
    "        if i // n == 0:\n",
    "            i = i % n\n",
    "            for j in range(i+1):\n",
    "                print('*', end='')\n",
    "        else:\n",
    "            for j in range(nn - i - 1):\n",
    "                print('*', end='')\n",
    "        print()\n",
    "pattern(4)"
   ]
  },
  {
   "cell_type": "code",
   "execution_count": 17,
   "id": "95a73ee4",
   "metadata": {},
   "outputs": [
    {
     "name": "stdout",
     "output_type": "stream",
     "text": [
      "1\n",
      "01\n",
      "101\n",
      "0101\n",
      "10101\n"
     ]
    }
   ],
   "source": [
    "def pattern(n):\n",
    "    for i in range(n):\n",
    "        curr = 0 if i % 2 != 0 else 1\n",
    "        for j in range(i+1):\n",
    "            print(curr, end = '')\n",
    "            curr = 1 - curr\n",
    "        print()\n",
    "pattern(5)"
   ]
  },
  {
   "cell_type": "code",
   "execution_count": 18,
   "id": "dffaf66e",
   "metadata": {},
   "outputs": [
    {
     "name": "stdout",
     "output_type": "stream",
     "text": [
      "****\n",
      "*  *\n",
      "*  *\n",
      "****\n"
     ]
    }
   ],
   "source": [
    "def pattern(n):\n",
    "    for i in range(n):\n",
    "        if i == 0 or i == n-1:\n",
    "            for j in range(n):\n",
    "                print('*', end = '')\n",
    "        else:\n",
    "            for j in range(n):\n",
    "                if j == 0 or j == n - 1:\n",
    "                    print('*', end = '')\n",
    "                else:\n",
    "                    print(' ', end = '')\n",
    "        print()\n",
    "pattern(4)"
   ]
  },
  {
   "cell_type": "code",
   "execution_count": 21,
   "id": "173fd2da",
   "metadata": {},
   "outputs": [
    {
     "name": "stdout",
     "output_type": "stream",
     "text": [
      "1      1\n",
      "12    21\n",
      "123  321\n",
      "12344321\n"
     ]
    }
   ],
   "source": [
    "def pattern(n):\n",
    "    for i in range(n):\n",
    "        for j in range(n):\n",
    "            if j <= i:\n",
    "                print(j+1, end = '')\n",
    "            else:\n",
    "                print(' ', end = '')\n",
    "        \n",
    "        for j in range(n, 0, -1):\n",
    "            if j <= i + 1:\n",
    "                print(j, end = '')\n",
    "            else:\n",
    "                print(' ', end = '')\n",
    "            \n",
    "        print()\n",
    "pattern(4)"
   ]
  },
  {
   "cell_type": "code",
   "execution_count": 69,
   "id": "14fa3aab",
   "metadata": {},
   "outputs": [
    {
     "name": "stdout",
     "output_type": "stream",
     "text": [
      "********\n",
      "***  ***\n",
      "**    **\n",
      "*      *\n",
      "**    **\n",
      "***  ***\n",
      "********\n"
     ]
    }
   ],
   "source": [
    "def pattern(n):\n",
    "    nn = n * 2\n",
    "    for i in range(nn-1):\n",
    "        if i // n == 0:\n",
    "            i = i % n\n",
    "            # left part\n",
    "            for j in range(n):\n",
    "                if j < n - i:\n",
    "                    print(\"*\", end = '')\n",
    "                else:\n",
    "                    print(' ', end = '')\n",
    "            # right part\n",
    "            for j in range(n):\n",
    "                if j >= i:\n",
    "                    print('*', end = '')\n",
    "                else:\n",
    "                    print(' ', end = '')\n",
    "                    \n",
    "        else:\n",
    "            i = (i % n) + 1\n",
    "            # left part\n",
    "            for j in range(n):\n",
    "                if j <= i :\n",
    "                    print('*', end = '')\n",
    "                else:\n",
    "                    print(' ', end = '')\n",
    "                    \n",
    "            # right part\n",
    "            for j in range(n):\n",
    "                if j < n - i - 1:\n",
    "                    print(' ',end = '')\n",
    "                else:\n",
    "                    print('*', end = '')\n",
    "        print()\n",
    "pattern(4)        \n",
    "            "
   ]
  },
  {
   "cell_type": "code",
   "execution_count": 46,
   "id": "96bb634e",
   "metadata": {},
   "outputs": [
    {
     "data": {
      "text/plain": [
       "0"
      ]
     },
     "execution_count": 46,
     "metadata": {},
     "output_type": "execute_result"
    }
   ],
   "source": [
    "3 % 3"
   ]
  },
  {
   "cell_type": "code",
   "execution_count": 94,
   "id": "aae5a236",
   "metadata": {},
   "outputs": [
    {
     "name": "stdout",
     "output_type": "stream",
     "text": [
      "*----*\n",
      "**--**\n",
      "******\n",
      "**--**\n",
      "*----*\n"
     ]
    }
   ],
   "source": [
    "def pattern(n):\n",
    "    nn = 2 * n\n",
    "    for i in range(nn-1):\n",
    "        if i // n == 0:\n",
    "            for j in range(n):\n",
    "                if j <= i:\n",
    "                    print('*', end='')\n",
    "                else:\n",
    "                    print('-', end='')\n",
    "\n",
    "            for j in range(n):\n",
    "                if j < n - i-1:\n",
    "                    print('-', end = '')\n",
    "                else:\n",
    "                    print('*', end = '')\n",
    "        else:\n",
    "            i = (i % n) + 1\n",
    "            for j in range(n):\n",
    "                if j < (n - i):\n",
    "                    print('*', end = '')\n",
    "                else:\n",
    "                    print('-', end = '')\n",
    "            \n",
    "            for j in range(n):\n",
    "                if j < i:\n",
    "                    print('-', end = '')\n",
    "                else:\n",
    "                    print('*', end = '')\n",
    "        print()\n",
    "pattern(3)"
   ]
  },
  {
   "cell_type": "code",
   "execution_count": null,
   "id": "8c71bebd",
   "metadata": {},
   "outputs": [],
   "source": []
  }
 ],
 "metadata": {
  "kernelspec": {
   "display_name": "Python 3 (ipykernel)",
   "language": "python",
   "name": "python3"
  },
  "language_info": {
   "codemirror_mode": {
    "name": "ipython",
    "version": 3
   },
   "file_extension": ".py",
   "mimetype": "text/x-python",
   "name": "python",
   "nbconvert_exporter": "python",
   "pygments_lexer": "ipython3",
   "version": "3.8.10"
  }
 },
 "nbformat": 4,
 "nbformat_minor": 5
}
