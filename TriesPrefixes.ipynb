{
 "cells": [
  {
   "cell_type": "code",
   "execution_count": 5,
   "metadata": {},
   "outputs": [
    {
     "name": "stdout",
     "output_type": "stream",
     "text": [
      "True\n",
      "False\n",
      "True\n",
      "False\n",
      "True\n"
     ]
    }
   ],
   "source": [
    "class TrieNode:\n",
    "    def __init__(self,letter):\n",
    "        self.letter=letter\n",
    "        self.children={}\n",
    "        self.isendofword=False\n",
    "class trie:\n",
    "    def __init__(self):\n",
    "        self.root=TrieNode('*')\n",
    "        \n",
    "    def addWord(self,word):\n",
    "        currNode=self.root\n",
    "        for letter in word:\n",
    "            if letter not in currNode.children:\n",
    "                currNode.children[letter]=TrieNode(letter)\n",
    "            currNode=currNode.children[letter]\n",
    "        currNode.isendofword=True\n",
    "    \n",
    "    def wordExist(self,word):\n",
    "        if word=='':\n",
    "            return True\n",
    "        currNode=self.root\n",
    "        for letter in word:\n",
    "            if letter not in currNode.children:\n",
    "                return False\n",
    "            currNode=currNode.children[letter]\n",
    "        return currNode.isendofword\n",
    "t1=trie()\n",
    "wordlist=['wait','waiter','stop','stoppers']\n",
    "for word in wordlist:\n",
    "    t1.addWord(word)\n",
    "print(t1.wordExist('wait'))\n",
    "print(t1.wordExist('water'))\n",
    "print(t1.wordExist('stop'))\n",
    "print(t1.wordExist('st'))\n",
    "print(t1.wordExist(''))"
   ]
  },
  {
   "cell_type": "code",
   "execution_count": 15,
   "metadata": {},
   "outputs": [
    {
     "data": {
      "text/plain": [
       "['world', 'wor', 'wo', 'w']"
      ]
     },
     "execution_count": 15,
     "metadata": {},
     "output_type": "execute_result"
    }
   ],
   "source": [
    "word=['w','wo','wor','world']\n",
    "sorted(set(word),key=lambda word:(-len(word),word))"
   ]
  },
  {
   "cell_type": "code",
   "execution_count": null,
   "metadata": {},
   "outputs": [],
   "source": [
    "words = sorted(set(words), key = lambda word:(-len(word), word))"
   ]
  },
  {
   "cell_type": "code",
   "execution_count": 24,
   "metadata": {},
   "outputs": [
    {
     "name": "stdout",
     "output_type": "stream",
     "text": [
      "{}\n",
      "{}\n"
     ]
    },
    {
     "ename": "AttributeError",
     "evalue": "type object 'TrieNode' has no attribute 'children'",
     "output_type": "error",
     "traceback": [
      "\u001b[0;31m---------------------------------------------------------------------------\u001b[0m",
      "\u001b[0;31mAttributeError\u001b[0m                            Traceback (most recent call last)",
      "\u001b[0;32m<ipython-input-24-6f67c2e8cb0d>\u001b[0m in \u001b[0;36m<module>\u001b[0;34m()\u001b[0m\n\u001b[1;32m     30\u001b[0m             \u001b[0;32mreturn\u001b[0m \u001b[0mw\u001b[0m\u001b[0;34m\u001b[0m\u001b[0;34m\u001b[0m\u001b[0m\n\u001b[1;32m     31\u001b[0m     \u001b[0;32mreturn\u001b[0m \u001b[0;34m''\u001b[0m\u001b[0;34m\u001b[0m\u001b[0;34m\u001b[0m\u001b[0m\n\u001b[0;32m---> 32\u001b[0;31m \u001b[0mlongestword\u001b[0m\u001b[0;34m(\u001b[0m\u001b[0;34m[\u001b[0m\u001b[0;34m\"w\"\u001b[0m\u001b[0;34m,\u001b[0m\u001b[0;34m\"wo\"\u001b[0m\u001b[0;34m,\u001b[0m\u001b[0;34m\"wor\"\u001b[0m\u001b[0;34m,\u001b[0m\u001b[0;34m\"worl\"\u001b[0m\u001b[0;34m,\u001b[0m \u001b[0;34m\"world\"\u001b[0m\u001b[0;34m]\u001b[0m\u001b[0;34m)\u001b[0m\u001b[0;34m\u001b[0m\u001b[0;34m\u001b[0m\u001b[0m\n\u001b[0m",
      "\u001b[0;32m<ipython-input-24-6f67c2e8cb0d>\u001b[0m in \u001b[0;36mlongestword\u001b[0;34m(word)\u001b[0m\n\u001b[1;32m     12\u001b[0m         \u001b[0mprint\u001b[0m\u001b[0;34m(\u001b[0m\u001b[0mcurr\u001b[0m\u001b[0;34m.\u001b[0m\u001b[0mchildren\u001b[0m\u001b[0;34m)\u001b[0m\u001b[0;34m\u001b[0m\u001b[0;34m\u001b[0m\u001b[0m\n\u001b[1;32m     13\u001b[0m         \u001b[0;32mfor\u001b[0m \u001b[0mletter\u001b[0m \u001b[0;32min\u001b[0m \u001b[0mw\u001b[0m\u001b[0;34m:\u001b[0m\u001b[0;34m\u001b[0m\u001b[0;34m\u001b[0m\u001b[0m\n\u001b[0;32m---> 14\u001b[0;31m             \u001b[0;32mif\u001b[0m \u001b[0mletter\u001b[0m \u001b[0;32mnot\u001b[0m \u001b[0;32min\u001b[0m \u001b[0mcurr\u001b[0m\u001b[0;34m.\u001b[0m\u001b[0mchildren\u001b[0m\u001b[0;34m:\u001b[0m\u001b[0;34m\u001b[0m\u001b[0;34m\u001b[0m\u001b[0m\n\u001b[0m\u001b[1;32m     15\u001b[0m                 \u001b[0mcurr\u001b[0m\u001b[0;34m.\u001b[0m\u001b[0mchildren\u001b[0m\u001b[0;34m[\u001b[0m\u001b[0mletter\u001b[0m\u001b[0;34m]\u001b[0m\u001b[0;34m=\u001b[0m\u001b[0mTrieNode\u001b[0m\u001b[0;34m\u001b[0m\u001b[0;34m\u001b[0m\u001b[0m\n\u001b[1;32m     16\u001b[0m             \u001b[0mcurr\u001b[0m\u001b[0;34m=\u001b[0m\u001b[0mcurr\u001b[0m\u001b[0;34m.\u001b[0m\u001b[0mchildren\u001b[0m\u001b[0;34m[\u001b[0m\u001b[0mletter\u001b[0m\u001b[0;34m]\u001b[0m\u001b[0;34m\u001b[0m\u001b[0;34m\u001b[0m\u001b[0m\n",
      "\u001b[0;31mAttributeError\u001b[0m: type object 'TrieNode' has no attribute 'children'"
     ]
    }
   ],
   "source": [
    "class TrieNode:\n",
    "    def __init__(self):\n",
    "        self.children={}\n",
    "        self.isend=False\n",
    "def longestword(word):\n",
    "    root=TrieNode()\n",
    "    print(root.children)\n",
    "    word=sorted(set(word),key=lambda word:(-len(word),word))\n",
    "    \n",
    "    for w in word:\n",
    "        curr=root\n",
    "        print(curr.children)\n",
    "        for letter in w:\n",
    "            if letter not in curr.children:\n",
    "                curr.children[letter]=TrieNode\n",
    "            curr=curr.children[letter]\n",
    "        curr.isend=True\n",
    "    \n",
    "    for w in word:\n",
    "        flag=True\n",
    "        curr=root\n",
    "        for letter in w:\n",
    "            if curr.children[letter].isend==False:\n",
    "                flag=False\n",
    "                break\n",
    "            else:\n",
    "                curr=curr.children[letter]\n",
    "                \n",
    "        if flag:\n",
    "            return w\n",
    "    return ''\n",
    "longestword([\"w\",\"wo\",\"wor\",\"worl\", \"world\"])"
   ]
  },
  {
   "cell_type": "code",
   "execution_count": 9,
   "metadata": {},
   "outputs": [
    {
     "name": "stdout",
     "output_type": "stream",
     "text": [
      "world\n",
      "apple\n"
     ]
    }
   ],
   "source": [
    "class TrieNode:\n",
    "    def __init__(self):\n",
    "        self.children={}\n",
    "        self.isend=False\n",
    "def longestword(word):\n",
    "    root=TrieNode()\n",
    "    word=sorted(set(word),key=lambda word:(-len(word),word))\n",
    "    \n",
    "    for w in word:\n",
    "        curr=root\n",
    "        for letter in w:\n",
    "            if letter not in curr.children:\n",
    "                curr.children[letter]=TrieNode()\n",
    "            curr=curr.children[letter]\n",
    "        curr.isend=True\n",
    "    \n",
    "    for w in word:\n",
    "        flag=True\n",
    "        curr=root\n",
    "        for letter in w:\n",
    "            if curr.children[letter].isend==False:\n",
    "                flag=False\n",
    "                break\n",
    "            else:\n",
    "                curr=curr.children[letter]\n",
    "                \n",
    "        if flag:\n",
    "            return w\n",
    "    return ''\n",
    "print(longestword([\"w\",\"wo\",\"wor\",\"worl\", \"world\"]))\n",
    "print(longestword([\"a\", \"banana\", \"app\", \"appl\", \"ap\", \"apply\", \"apple\"]))"
   ]
  },
  {
   "cell_type": "code",
   "execution_count": null,
   "metadata": {},
   "outputs": [],
   "source": []
  },
  {
   "cell_type": "code",
   "execution_count": null,
   "metadata": {},
   "outputs": [],
   "source": []
  },
  {
   "cell_type": "code",
   "execution_count": null,
   "metadata": {},
   "outputs": [],
   "source": []
  }
 ],
 "metadata": {
  "kernelspec": {
   "display_name": "Python 3",
   "language": "python",
   "name": "python3"
  },
  "language_info": {
   "codemirror_mode": {
    "name": "ipython",
    "version": 3
   },
   "file_extension": ".py",
   "mimetype": "text/x-python",
   "name": "python",
   "nbconvert_exporter": "python",
   "pygments_lexer": "ipython3",
   "version": "3.6.8"
  }
 },
 "nbformat": 4,
 "nbformat_minor": 2
}
