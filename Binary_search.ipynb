{
 "cells": [
  {
   "cell_type": "markdown",
   "id": "ad2a53bb",
   "metadata": {},
   "source": [
    "low + (high-low)//2 -> inetger overflow"
   ]
  },
  {
   "cell_type": "markdown",
   "id": "99df4665",
   "metadata": {},
   "source": [
    "### Lower Bound "
   ]
  },
  {
   "cell_type": "code",
   "execution_count": 7,
   "id": "4245c34c",
   "metadata": {},
   "outputs": [
    {
     "data": {
      "text/plain": [
       "3"
      ]
     },
     "execution_count": 7,
     "metadata": {},
     "output_type": "execute_result"
    }
   ],
   "source": [
    "def lowerBound(arr, n):\n",
    "    low = 0\n",
    "    high = len(arr) - 1\n",
    "    ans = -1\n",
    "    while low < high:\n",
    "        mid = (low + high)//2\n",
    "        if arr[mid] >= n:\n",
    "            ans = mid\n",
    "            high = mid - 1\n",
    "        else:\n",
    "            low = mid + 1\n",
    "    return ans\n",
    "\n",
    "lowerBound([1,2,4,6,7,9,10,13], 5)"
   ]
  },
  {
   "cell_type": "markdown",
   "id": "37207718",
   "metadata": {},
   "source": [
    "### Upper Bound "
   ]
  },
  {
   "cell_type": "code",
   "execution_count": 10,
   "id": "55454d08",
   "metadata": {},
   "outputs": [
    {
     "data": {
      "text/plain": [
       "5"
      ]
     },
     "execution_count": 10,
     "metadata": {},
     "output_type": "execute_result"
    }
   ],
   "source": [
    "def upperBound(arr, n):\n",
    "    low = 0\n",
    "    high = len(arr) - 1\n",
    "    ans = -1\n",
    "    \n",
    "    while low < high:\n",
    "        mid = (low+high)//2\n",
    "        if arr[mid] > n:\n",
    "            ans = mid\n",
    "            high = mid - 1\n",
    "        else:\n",
    "            low = mid + 1\n",
    "    return ans\n",
    "upperBound([1,2,4,6,7,9,10,13], 7)"
   ]
  },
  {
   "cell_type": "markdown",
   "id": "5a41a5ce",
   "metadata": {},
   "source": [
    "### Floor and ceil in sorted array\n",
    "floor -> largest no in arr <= n\n",
    "ceil -> smallest no in arr >= n"
   ]
  },
  {
   "cell_type": "code",
   "execution_count": null,
   "id": "2252dc45",
   "metadata": {},
   "outputs": [],
   "source": []
  },
  {
   "cell_type": "markdown",
   "id": "6dd2dd43",
   "metadata": {},
   "source": [
    "### Times array rotated "
   ]
  },
  {
   "cell_type": "code",
   "execution_count": 23,
   "id": "f0c37d38",
   "metadata": {},
   "outputs": [
    {
     "data": {
      "text/plain": [
       "(4, -1)"
      ]
     },
     "execution_count": 23,
     "metadata": {},
     "output_type": "execute_result"
    }
   ],
   "source": [
    "def timesRotated(arr):\n",
    "    low = 0\n",
    "    high = len(arr) - 1\n",
    "    ans = float('inf')\n",
    "    index = -1\n",
    "    while low <= high:\n",
    "        mid = (low+high)//2\n",
    "        if mid != 0 and arr[mid] < arr[mid-1]:\n",
    "            index = mid\n",
    "            break\n",
    "        \n",
    "        if arr[low] <= arr[mid]:\n",
    "            low = mid+1\n",
    "        else:\n",
    "            high = mid-1\n",
    "    return arr[index], index\n",
    "timesRotated([0,1,2,3,4])"
   ]
  },
  {
   "cell_type": "code",
   "execution_count": 14,
   "id": "943645eb",
   "metadata": {},
   "outputs": [
    {
     "data": {
      "text/plain": [
       "(5, 0)"
      ]
     },
     "execution_count": 14,
     "metadata": {},
     "output_type": "execute_result"
    }
   ],
   "source": [
    "def findKRotation(arr):\n",
    "    low = 0\n",
    "    high = len(arr) - 1\n",
    "    ans = float('inf')\n",
    "    index = -1\n",
    "    while low <= high:\n",
    "        mid = (low + high) // 2\n",
    "\n",
    "        # If search space is already sorted,\n",
    "        # then arr[low] will always be\n",
    "        # the minimum in that search space\n",
    "        if arr[low] <= arr[high]:\n",
    "            if arr[low] < ans:\n",
    "                index = low\n",
    "                ans = arr[low]\n",
    "            break\n",
    "\n",
    "        # If left part is sorted\n",
    "        if arr[low] <= arr[mid]:\n",
    "            # Keep the minimum\n",
    "            if arr[low] < ans:\n",
    "                index = low\n",
    "                ans = arr[low]\n",
    "\n",
    "            # Eliminate left half\n",
    "            low = mid + 1\n",
    "        else:  # If right part is sorted\n",
    "            # Keep the minimum\n",
    "            if arr[mid] < ans:\n",
    "                index = mid\n",
    "                ans = arr[mid]\n",
    "\n",
    "            # Eliminate right half\n",
    "            high = mid - 1\n",
    "\n",
    "    return index, ans\n",
    "findKRotation([3,4,5,6,7,0,1,2])"
   ]
  },
  {
   "cell_type": "markdown",
   "id": "5ae43fea",
   "metadata": {},
   "source": [
    "### First Occurence "
   ]
  },
  {
   "cell_type": "code",
   "execution_count": 28,
   "id": "efcabfc2",
   "metadata": {},
   "outputs": [
    {
     "data": {
      "text/plain": [
       "2"
      ]
     },
     "execution_count": 28,
     "metadata": {},
     "output_type": "execute_result"
    }
   ],
   "source": [
    "def firstOcc(arr, target):\n",
    "    low = 0\n",
    "    high = len(arr) - 1\n",
    "    res = -1\n",
    "    \n",
    "    while low <= high:\n",
    "        mid = (high + low) // 2\n",
    "        \n",
    "        if arr[mid] == target:\n",
    "            res = mid\n",
    "            high = mid - 1\n",
    "        \n",
    "        elif arr[mid] < target:\n",
    "            low = mid + 1\n",
    "        else:\n",
    "            high = mid - 1\n",
    "    return res\n",
    "firstOcc([2,4,5,5,5,9,10], 5)"
   ]
  },
  {
   "cell_type": "markdown",
   "id": "64949b3e",
   "metadata": {},
   "source": [
    "### Last Occurence "
   ]
  },
  {
   "cell_type": "code",
   "execution_count": 29,
   "id": "39eb8b38",
   "metadata": {},
   "outputs": [
    {
     "data": {
      "text/plain": [
       "4"
      ]
     },
     "execution_count": 29,
     "metadata": {},
     "output_type": "execute_result"
    }
   ],
   "source": [
    "def lastOcc(arr, target):\n",
    "    low = 0\n",
    "    high = len(arr) - 1\n",
    "    res = -1\n",
    "    while low <= high:\n",
    "        mid = (high + low) // 2\n",
    "        \n",
    "        if arr[mid] == target:\n",
    "            res = mid\n",
    "            low = mid + 1\n",
    "            \n",
    "        elif arr[mid] < target:\n",
    "            low = mid + 1\n",
    "        else:\n",
    "            high = mid - 1\n",
    "    return res\n",
    "lastOcc([2,4,5,5,5,9,10], 5)"
   ]
  },
  {
   "cell_type": "markdown",
   "id": "8978f3d4",
   "metadata": {},
   "source": [
    "### Count element in sorted arr\n",
    "find first occurence and last occurence then last_occ - first_occ + 1"
   ]
  },
  {
   "cell_type": "code",
   "execution_count": 33,
   "id": "ad95b151",
   "metadata": {},
   "outputs": [
    {
     "data": {
      "text/plain": [
       "4"
      ]
     },
     "execution_count": 33,
     "metadata": {},
     "output_type": "execute_result"
    }
   ],
   "source": [
    "def countElements(arr, target):\n",
    "    first_occ = firstOcc(arr, target)\n",
    "    last_occ = lastOcc(arr, target)\n",
    "    \n",
    "    return (last_occ - first_occ) + 1\n",
    "countElements([2,4,5,5,5,5,9,10], 5)"
   ]
  },
  {
   "cell_type": "markdown",
   "id": "a8c53e20",
   "metadata": {},
   "source": [
    "### No of times sorted arr is rotated\n",
    "find min element of arr and return index"
   ]
  },
  {
   "cell_type": "code",
   "execution_count": 57,
   "id": "5cb75aba",
   "metadata": {},
   "outputs": [
    {
     "data": {
      "text/plain": [
       "1"
      ]
     },
     "execution_count": 57,
     "metadata": {},
     "output_type": "execute_result"
    }
   ],
   "source": [
    "def timeRotated(arr):\n",
    "    low = 0\n",
    "    high = len(arr) - 1\n",
    "    \n",
    "    while low <= high:\n",
    "        mid = (low + high)//2\n",
    "        prev = (mid + len(arr) - 1) % len(arr)\n",
    "        nexxt = (mid + 1) % len(arr)\n",
    "        \n",
    "        # check mid is minimum\n",
    "        if arr[mid] <= arr[prev] and arr[mid] <= arr[nexxt]:\n",
    "            return mid\n",
    "        \n",
    "        # if arr is sorted\n",
    "        if arr[low]<= arr[mid] and arr[mid] <= arr[high]:\n",
    "            return low\n",
    "        \n",
    "        # check for unsorted arr\n",
    "        if arr[low] <= arr[mid]:\n",
    "            low = mid + 1\n",
    "        elif arr[mid] <= arr[high]:\n",
    "            high = mid - 1\n",
    "        \n",
    "    return 0\n",
    "timeRotated([10,1,2,4,5,7,8,9])"
   ]
  },
  {
   "cell_type": "markdown",
   "id": "a0523530",
   "metadata": {},
   "source": [
    "### Floor of a Binary search \n",
    "if key is present the floor will be key else the smallest element of key"
   ]
  },
  {
   "cell_type": "code",
   "execution_count": 62,
   "id": "c6b11607",
   "metadata": {},
   "outputs": [
    {
     "data": {
      "text/plain": [
       "2"
      ]
     },
     "execution_count": 62,
     "metadata": {},
     "output_type": "execute_result"
    }
   ],
   "source": [
    "def floorBS(arr, target):\n",
    "    low = 0\n",
    "    high = len(arr) - 1\n",
    "    res = -1\n",
    "    while low <= high:\n",
    "        mid = (low + high)//2\n",
    "        if arr[mid] == target:\n",
    "            return arr[mid]\n",
    "        \n",
    "        if arr[mid] < target:\n",
    "            res = arr[mid]\n",
    "            low = mid + 1\n",
    "        else:\n",
    "            high = mid - 1\n",
    "    return res\n",
    "floorBS([1,2,4,7,9,12,15], 3)\n",
    "        "
   ]
  },
  {
   "cell_type": "markdown",
   "id": "d99f2b0f",
   "metadata": {},
   "source": [
    "### Ceil of Binary search\n",
    "if key is present then the ceil would be key else the largest element of the key"
   ]
  },
  {
   "cell_type": "code",
   "execution_count": 65,
   "id": "9be6d3bb",
   "metadata": {},
   "outputs": [
    {
     "data": {
      "text/plain": [
       "7"
      ]
     },
     "execution_count": 65,
     "metadata": {},
     "output_type": "execute_result"
    }
   ],
   "source": [
    "def ceilBS(arr, target):\n",
    "    low = 0\n",
    "    high = len(arr) - 1\n",
    "    res = -1\n",
    "    while low <= high:\n",
    "        mid = (low+high)//2\n",
    "        if arr[mid] == target:\n",
    "            return arr[mid]\n",
    "        if arr[mid] > target:\n",
    "            res = arr[mid]\n",
    "            high = mid - 1\n",
    "        else:\n",
    "            low = mid + 1\n",
    "    return res\n",
    "ceilBS([1,2,4,7,9,12,15], 5)"
   ]
  },
  {
   "cell_type": "markdown",
   "id": "665c0828",
   "metadata": {},
   "source": [
    "### search in sorted infinte array\n",
    "first found out low and high value then apply binary search"
   ]
  },
  {
   "cell_type": "code",
   "execution_count": 66,
   "id": "b4af5abf",
   "metadata": {},
   "outputs": [],
   "source": [
    "infiarr = [x for x in range(0, 1000, 2)]"
   ]
  },
  {
   "cell_type": "code",
   "execution_count": 79,
   "id": "40c76d5a",
   "metadata": {},
   "outputs": [
    {
     "name": "stdout",
     "output_type": "stream",
     "text": [
      "128 256\n"
     ]
    },
    {
     "data": {
      "text/plain": [
       "216"
      ]
     },
     "execution_count": 79,
     "metadata": {},
     "output_type": "execute_result"
    }
   ],
   "source": [
    "def searchInfinte(arr, target):\n",
    "    \n",
    "    # find the low and high value for the binary search\n",
    "    low = 0\n",
    "    high = 1\n",
    "    while arr[high] < target:\n",
    "        low = high\n",
    "        high = 2 * high\n",
    "    print(low, high)\n",
    "    \n",
    "    # now apply binary search\n",
    "    while low <= high:\n",
    "        mid = (low + high)//2\n",
    "                \n",
    "        if arr[mid] == target:\n",
    "            return mid\n",
    "        \n",
    "        if arr[mid] < target:\n",
    "            low = mid + 1\n",
    "        else:\n",
    "            high = mid - 1\n",
    "    return -1\n",
    "\n",
    "searchInfinte(infiarr, 432)"
   ]
  },
  {
   "cell_type": "markdown",
   "id": "748c3968",
   "metadata": {},
   "source": [
    "### Binary Search on Answers\n",
    "in this, array may be sorted or unsorted, and we need to find set a criteria to eliminate left or right "
   ]
  },
  {
   "cell_type": "markdown",
   "id": "b5185d89",
   "metadata": {},
   "source": [
    "### Peek element "
   ]
  },
  {
   "cell_type": "code",
   "execution_count": 93,
   "id": "f78e23ff",
   "metadata": {},
   "outputs": [
    {
     "name": "stdout",
     "output_type": "stream",
     "text": [
      "7\n",
      "4\n"
     ]
    }
   ],
   "source": [
    "# brute force linear search, time: n\n",
    "# however we can reduce this time complexity to log n by using binary search\n",
    "\n",
    "def peekElement(arr):\n",
    "    low = 0\n",
    "    high = len(arr) - 1\n",
    "    \n",
    "    while low <= high:\n",
    "        mid = (low + high)//2\n",
    "        \n",
    "        if mid == 0 and arr[mid] > arr[mid+1]:\n",
    "            return mid\n",
    "        elif mid == len(arr)-1 and arr[mid] > arr[mid-1]:\n",
    "            return mid\n",
    "        elif arr[mid] > arr[mid-1] and arr[mid] > arr[mid+1]:\n",
    "            return mid\n",
    "        elif arr[mid+1] > arr[mid]:\n",
    "            low = mid + 1\n",
    "        else:\n",
    "            high = mid - 1\n",
    "    return -1\n",
    "\n",
    "print(peekElement([5,7,2,4,8,9,12,90,37]))\n",
    "print(peekElement([5,7,9,12,15,7,3]))"
   ]
  },
  {
   "cell_type": "markdown",
   "id": "09f710c5",
   "metadata": {},
   "source": [
    "monotonic -> arr[i+1] is always greater than arr[i]....................\n",
    "biotonic array -> first it is monotonic increase then monotonic decrease after its peak element"
   ]
  },
  {
   "cell_type": "markdown",
   "id": "dd8aaf38",
   "metadata": {},
   "source": [
    "### Search in biotonic array "
   ]
  },
  {
   "cell_type": "code",
   "execution_count": 97,
   "id": "8077456e",
   "metadata": {},
   "outputs": [
    {
     "data": {
      "text/plain": [
       "1"
      ]
     },
     "execution_count": 97,
     "metadata": {},
     "output_type": "execute_result"
    }
   ],
   "source": [
    "# approach find max or peek element in biotonic array\n",
    "# then apply binary search asc (0, peek -1)\n",
    "# binary search desc (peek, n)\n",
    "\n",
    "def binarySearchOrder(low, high, arr, ele, order):\n",
    "    \n",
    "    res = -1\n",
    "    while low <= high:\n",
    "        mid = (low+high)//2\n",
    "        if arr[mid] == ele:\n",
    "            return mid\n",
    "        \n",
    "        if arr[mid] < ele:\n",
    "            if order == 'desc':\n",
    "                high = mid - 1\n",
    "            else:\n",
    "                low = mid + 1\n",
    "        else:\n",
    "            if order == 'desc':\n",
    "                low = mid + 1\n",
    "            else:\n",
    "                high = mid - 1\n",
    "        \n",
    "    return res\n",
    "\n",
    "def searchBiotonicArray(arr, ele):\n",
    "    low = 0\n",
    "    high = len(arr) - 1\n",
    "    peek = peekElement(arr)\n",
    "    left_side = binarySearchOrder(low, peek - 1, arr, ele, 'asc')\n",
    "    right_side = binarySearchOrder(peek, high, arr, ele, 'desc')\n",
    "    \n",
    "    if left_side == -1:\n",
    "        return right_side\n",
    "    return left_side\n",
    "searchBiotonicArray([5,7,9,12,15,7,3], 7)\n",
    "\n",
    "# time: log n + log n + log n"
   ]
  },
  {
   "cell_type": "markdown",
   "id": "cb3c942e",
   "metadata": {},
   "source": [
    "### search in rowwise and colwise sorted array"
   ]
  },
  {
   "cell_type": "code",
   "execution_count": 101,
   "id": "41c1e03c",
   "metadata": {},
   "outputs": [
    {
     "data": {
      "text/plain": [
       "-1"
      ]
     },
     "execution_count": 101,
     "metadata": {},
     "output_type": "execute_result"
    }
   ],
   "source": [
    "def searchMatrix(arr, target):\n",
    "    n = len(arr)\n",
    "    m = len(arr[0])\n",
    "    i = 0\n",
    "    j = m-1\n",
    "    \n",
    "    while i >= 0 and i<n and j>=0 and j<m:\n",
    "        if arr[i][j] == target:\n",
    "            return i,j\n",
    "        elif arr[i][j] > target:\n",
    "            j -= 1\n",
    "        else:\n",
    "            i += 1\n",
    "    return -1\n",
    "\n",
    "searchMatrix([[10, 20, 30, 40], [15, 25, 35, 46], [27, 29, 37, 48], [32, 33, 39, 50]], 23)\n",
    "\n",
    "# time: O(n+m)"
   ]
  },
  {
   "cell_type": "markdown",
   "id": "7e4595eb",
   "metadata": {},
   "source": [
    "### Allocate pages "
   ]
  },
  {
   "cell_type": "code",
   "execution_count": 103,
   "id": "f2f9ce71",
   "metadata": {},
   "outputs": [
    {
     "data": {
      "text/plain": [
       "71"
      ]
     },
     "execution_count": 103,
     "metadata": {},
     "output_type": "execute_result"
    }
   ],
   "source": [
    "def countStudents(arr, pages):\n",
    "    n = len(arr)\n",
    "    students = 1\n",
    "    pageStudent = 0\n",
    "    \n",
    "    for i in range(n):\n",
    "        if pageStudent + arr[i] <= pages:\n",
    "            pageStudent += arr[i]\n",
    "        else:\n",
    "            students += 1\n",
    "            pageStudent = arr[i]\n",
    "    return students\n",
    "\n",
    "def findPages(arr, m):\n",
    "    n = len(arr)\n",
    "    \n",
    "    # if students greater than books\n",
    "    if m > n:\n",
    "        return -1\n",
    "    \n",
    "    low = max(arr)\n",
    "    high = sum(arr)\n",
    "    \n",
    "    while low <= high:\n",
    "        mid = (low+high)//2\n",
    "        students = countStudents(arr, mid)\n",
    "        \n",
    "        if students > m:\n",
    "            low = mid + 1\n",
    "        else:\n",
    "            high = mid - 1\n",
    "    return low\n",
    "    \n",
    "findPages([25, 46, 28, 49, 24], 4)\n",
    "\n",
    "# time: n log n\n",
    "# space: 1"
   ]
  },
  {
   "cell_type": "code",
   "execution_count": null,
   "id": "0429b027",
   "metadata": {},
   "outputs": [],
   "source": []
  }
 ],
 "metadata": {
  "kernelspec": {
   "display_name": "Python 3 (ipykernel)",
   "language": "python",
   "name": "python3"
  },
  "language_info": {
   "codemirror_mode": {
    "name": "ipython",
    "version": 3
   },
   "file_extension": ".py",
   "mimetype": "text/x-python",
   "name": "python",
   "nbconvert_exporter": "python",
   "pygments_lexer": "ipython3",
   "version": "3.8.10"
  }
 },
 "nbformat": 4,
 "nbformat_minor": 5
}
