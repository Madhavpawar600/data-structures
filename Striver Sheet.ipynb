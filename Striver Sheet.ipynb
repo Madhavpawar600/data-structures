{
 "cells": [
  {
   "cell_type": "markdown",
   "id": "b514f3da",
   "metadata": {},
   "source": [
    "# Recursion"
   ]
  },
  {
   "cell_type": "markdown",
   "id": "08833cbb",
   "metadata": {},
   "source": [
    "### Sum of all subsets\n",
    "https://takeuforward.org/data-structure/subset-sum-sum-of-all-subsets/"
   ]
  },
  {
   "cell_type": "code",
   "execution_count": 5,
   "id": "26eaa9d4",
   "metadata": {},
   "outputs": [
    {
     "data": {
      "text/plain": [
       "[0, 1, 2, 3, 5, 6, 7, 8]"
      ]
     },
     "execution_count": 5,
     "metadata": {},
     "output_type": "execute_result"
    }
   ],
   "source": [
    "def solution(N, arr):\n",
    "    res = []\n",
    "    def helper(idx, curr_sum):\n",
    "        if idx == N:\n",
    "            res.append(curr_sum)\n",
    "            return\n",
    "        helper(idx+1, curr_sum + arr[idx])\n",
    "        helper(idx+1, curr_sum)\n",
    "    helper(0, 0)\n",
    "    res.sort()\n",
    "    return res\n",
    "    \n",
    "N = 3\n",
    "arr = [5,2,1]\n",
    "solution(N, arr)"
   ]
  },
  {
   "cell_type": "markdown",
   "id": "c536adcd",
   "metadata": {},
   "source": [
    "### Print all unique subset\n",
    "https://takeuforward.org/data-structure/subset-ii-print-all-the-unique-subsets/"
   ]
  },
  {
   "cell_type": "code",
   "execution_count": 7,
   "id": "4bff7801",
   "metadata": {},
   "outputs": [
    {
     "data": {
      "text/plain": [
       "[[1, 2, 2], [1, 2], [1], [2, 2], [2], []]"
      ]
     },
     "execution_count": 7,
     "metadata": {},
     "output_type": "execute_result"
    }
   ],
   "source": [
    "def solution(arr):\n",
    "    res = []\n",
    "    visited = set()\n",
    "    n = len(arr)\n",
    "    \n",
    "    def helper(idx, sub):\n",
    "        if idx == n:\n",
    "            if str(sub) not in visited:\n",
    "                res.append(sub[:])\n",
    "                visited.add(str(sub))\n",
    "            return\n",
    "        \n",
    "        helper(idx+1, sub+[arr[idx]])\n",
    "        helper(idx+1, sub)\n",
    "    helper(0, [])\n",
    "    return res\n",
    "\n",
    "arr = [1,2,2]\n",
    "solution(arr)"
   ]
  },
  {
   "cell_type": "code",
   "execution_count": 10,
   "id": "463a95e0",
   "metadata": {},
   "outputs": [
    {
     "data": {
      "text/plain": [
       "[[], [1], [1, 2], [1, 2, 2], [2], [2, 2]]"
      ]
     },
     "execution_count": 10,
     "metadata": {},
     "output_type": "execute_result"
    }
   ],
   "source": [
    "# efficient approach\n",
    "def solution(arr):\n",
    "    arr.sort()\n",
    "    res = []\n",
    "    n = len(arr)\n",
    "    def helper(idx, ds):\n",
    "        res.append(ds[:])\n",
    "        \n",
    "        for i in range(idx, n):\n",
    "            if i != idx and arr[i] == arr[i-1]:\n",
    "                continue\n",
    "            ds.append(arr[i])\n",
    "            helper(i+1, ds)\n",
    "            ds.pop()\n",
    "    helper(0, [])\n",
    "    return res\n",
    "arr = [1,2,2]\n",
    "solution(arr)"
   ]
  },
  {
   "cell_type": "markdown",
   "id": "5c02edf0",
   "metadata": {},
   "source": [
    "### combination sum 1\n",
    "https://takeuforward.org/data-structure/combination-sum-1/"
   ]
  },
  {
   "cell_type": "code",
   "execution_count": 18,
   "id": "3b22a122",
   "metadata": {},
   "outputs": [
    {
     "data": {
      "text/plain": [
       "[[2, 2, 3], [7]]"
      ]
     },
     "execution_count": 18,
     "metadata": {},
     "output_type": "execute_result"
    }
   ],
   "source": [
    "# recursive approach\n",
    "def solution(arr, target):\n",
    "    res = []\n",
    "    n = len(arr)\n",
    "    def helper(idx, target, ds):\n",
    "#         print(idx, target, ds)\n",
    "        if idx == n:\n",
    "            if target == 0:\n",
    "                res.append(ds[:])\n",
    "            return\n",
    "        \n",
    "        if arr[idx] <= target:\n",
    "            # include\n",
    "            helper(idx, target - arr[idx], ds + [arr[idx]])\n",
    "            \n",
    "        # exclude\n",
    "        helper(idx+1, target, ds)\n",
    "    helper(0, target, [])\n",
    "    \n",
    "    return res\n",
    "arr = [2, 3, 6, 7]\n",
    "target = 7\n",
    "solution(arr, target)\n",
    "\n",
    "\n",
    "# Time Complexity: O(2^t * k) where t is the target, k is the average length\n",
    "# Space Complexity: O(k*x), k is the average length and x is the no. of combinations"
   ]
  },
  {
   "cell_type": "code",
   "execution_count": 21,
   "id": "d81e6200",
   "metadata": {},
   "outputs": [
    {
     "data": {
      "text/plain": [
       "[[2, 2, 3], [7]]"
      ]
     },
     "execution_count": 21,
     "metadata": {},
     "output_type": "execute_result"
    }
   ],
   "source": [
    "# efficient approach using dp\n",
    "def solution(arr, target):\n",
    "    dp = [[] for x in range(0, target+1)]\n",
    "    n = len(arr)\n",
    "    \n",
    "    for c in arr:\n",
    "        for i in range(c, target+1):\n",
    "            if i == c:\n",
    "                dp[i].append([c])\n",
    "            \n",
    "            for val in dp[i-c]:\n",
    "                dp[i].append(val+ [c])\n",
    "    \n",
    "    return dp[-1]\n",
    "\n",
    "arr = [2, 3, 6, 7]\n",
    "target = 7\n",
    "solution(arr, target)"
   ]
  },
  {
   "cell_type": "markdown",
   "id": "ae7ea218",
   "metadata": {},
   "source": [
    "### Combination Sum 2\n",
    "https://takeuforward.org/data-structure/combination-sum-ii-find-all-unique-combinations/"
   ]
  },
  {
   "cell_type": "code",
   "execution_count": 23,
   "id": "7993142e",
   "metadata": {},
   "outputs": [
    {
     "data": {
      "text/plain": [
       "[[1, 1, 6], [1, 2, 5], [1, 7], [2, 6]]"
      ]
     },
     "execution_count": 23,
     "metadata": {},
     "output_type": "execute_result"
    }
   ],
   "source": [
    "def solution(arr, target):\n",
    "    res = []\n",
    "    n = len(arr)\n",
    "    arr.sort()\n",
    "    def helper(idx, target, ds):\n",
    "        if target == 0:\n",
    "            res.append(ds[:])\n",
    "            return\n",
    "        \n",
    "        for i in range(idx, n):\n",
    "            if arr[i] > target:\n",
    "                break\n",
    "            if i != idx and arr[i] == arr[i-1]:\n",
    "                continue\n",
    "            \n",
    "            helper(i+1, target-arr[i], ds+[arr[i]])\n",
    "    helper(0, target, [])\n",
    "    return res\n",
    "            \n",
    "arr = [10,1,2,7,6,1,5]\n",
    "target = 8\n",
    "solution(arr, target)"
   ]
  },
  {
   "cell_type": "markdown",
   "id": "83defe05",
   "metadata": {},
   "source": [
    "### Palidromic partitioning\n",
    "https://takeuforward.org/data-structure/palindrome-partitioning/"
   ]
  },
  {
   "cell_type": "code",
   "execution_count": 39,
   "id": "a856ed59",
   "metadata": {},
   "outputs": [
    {
     "data": {
      "text/plain": [
       "[['a', 'a', 'b', 'b'], ['a', 'a', 'bb'], ['aa', 'b', 'b'], ['aa', 'bb']]"
      ]
     },
     "execution_count": 39,
     "metadata": {},
     "output_type": "execute_result"
    }
   ],
   "source": [
    "def solution(string):\n",
    "    \n",
    "    def is_valid(s):\n",
    "        left = 0\n",
    "        right = len(s) - 1\n",
    "        \n",
    "        while left < right:\n",
    "            if s[left] != s[right]:\n",
    "                return False\n",
    "            left += 1\n",
    "            right -= 1\n",
    "        return True\n",
    "    \n",
    "    res = []\n",
    "    n = len(string)\n",
    "    \n",
    "    def helper(s, ds):\n",
    "        \n",
    "        if not s:\n",
    "            res.append(ds[:])\n",
    "            return\n",
    "        \n",
    "        for i in range(0, len(s)):\n",
    "            curr_s = s[:i+1]\n",
    "            ros = s[i+1: ]\n",
    "            if is_valid(curr_s):\n",
    "                ds.append(curr_s)\n",
    "                helper(ros, ds)\n",
    "                ds.pop()\n",
    "    helper(string, [])\n",
    "    \n",
    "    return res\n",
    "string = \"aabb\"\n",
    "solution(string)\n",
    "\n",
    "# Time Complexity: O( (2^n) *k*(n/2) )\n",
    "# Space Complexity: O(k * x)"
   ]
  },
  {
   "cell_type": "markdown",
   "id": "0bc86980",
   "metadata": {},
   "source": [
    "### Find Kth permutation\n",
    "https://takeuforward.org/data-structure/find-k-th-permutation-sequence/"
   ]
  },
  {
   "cell_type": "code",
   "execution_count": 52,
   "id": "f3ac9930",
   "metadata": {},
   "outputs": [
    {
     "data": {
      "text/plain": [
       "'213'"
      ]
     },
     "execution_count": 52,
     "metadata": {},
     "output_type": "execute_result"
    }
   ],
   "source": [
    "def solution(n, k):\n",
    "    res = []\n",
    "    \n",
    "    def helper(cl, asf):\n",
    "        if cl == n:\n",
    "            res.append(asf)\n",
    "            return\n",
    "        \n",
    "        for i in range(1, n+1):\n",
    "            if str(i) in asf:\n",
    "                continue\n",
    "            helper(cl+1, f\"{asf}{i}\")\n",
    "        \n",
    "    helper(0, '')\n",
    "    return res[k-1]\n",
    "\n",
    "solution(3, 3)"
   ]
  },
  {
   "cell_type": "code",
   "execution_count": 6,
   "id": "d7733b64",
   "metadata": {},
   "outputs": [
    {
     "data": {
      "text/plain": [
       "'312'"
      ]
     },
     "execution_count": 6,
     "metadata": {},
     "output_type": "execute_result"
    }
   ],
   "source": [
    "# efficient approach\n",
    "def solution(n, k):\n",
    "    numbers = []\n",
    "    fact = 1\n",
    "    \n",
    "    for i in range(1, n):\n",
    "        fact *= i\n",
    "        numbers.append(i)\n",
    "    numbers.append(n)\n",
    "    \n",
    "    ans = \"\"\n",
    "    k -= 1\n",
    "    while True:\n",
    "        ans += str(numbers[k//fact])\n",
    "        numbers.pop(k//fact)\n",
    "        if not numbers:\n",
    "            break\n",
    "        k %= fact\n",
    "        fact //= len(numbers)\n",
    "    return ans\n",
    "\n",
    "solution(3, 5)\n"
   ]
  },
  {
   "cell_type": "markdown",
   "id": "e3cfe8bc",
   "metadata": {},
   "source": [
    "# Recursion and Backtacking\n"
   ]
  },
  {
   "cell_type": "markdown",
   "id": "ec57aa46",
   "metadata": {},
   "source": [
    "### Print all permuatation of string\n",
    "https://takeuforward.org/data-structure/print-all-permutations-of-a-string-array/"
   ]
  },
  {
   "cell_type": "code",
   "execution_count": 78,
   "id": "c9cd7c51",
   "metadata": {},
   "outputs": [
    {
     "data": {
      "text/plain": [
       "[[1, 2, 3], [1, 3, 2], [2, 1, 3], [2, 3, 1], [3, 1, 2], [3, 2, 1]]"
      ]
     },
     "execution_count": 78,
     "metadata": {},
     "output_type": "execute_result"
    }
   ],
   "source": [
    "def solution(arr):\n",
    "    res = []\n",
    "    n = len(arr)\n",
    "    def helper(sub, tl):\n",
    "        if tl == n:\n",
    "            res.append(sub[:])\n",
    "            return\n",
    "        \n",
    "        for i in range(0, len(arr)):\n",
    "            if arr[i] not in sub:\n",
    "                sub.append(arr[i])\n",
    "                helper(sub, tl+1)\n",
    "                sub.pop()\n",
    "    helper([], 0)\n",
    "    \n",
    "    return res\n",
    "\n",
    "arr = [1, 2, 3]\n",
    "solution(arr)"
   ]
  },
  {
   "cell_type": "markdown",
   "id": "c574a4ef",
   "metadata": {},
   "source": [
    "### Solve Sudoku \n",
    "https://takeuforward.org/data-structure/sudoku-solver/"
   ]
  },
  {
   "cell_type": "code",
   "execution_count": 3,
   "id": "f36ad408",
   "metadata": {},
   "outputs": [],
   "source": [
    "board = [\n",
    "        [\"9\", \"5\", \"7\", \".\", \"1\", \"3\", \".\", \"8\", \"4\"],\n",
    "        [\"4\", \"8\", \"3\", \".\", \"5\", \"7\", \"1\", \".\", \"6\"],\n",
    "        [\".\", \"1\", \"2\", \".\", \"4\", \"9\", \"5\", \"3\", \"7\"],\n",
    "        [\"1\", \"7\", \".\", \"3\", \".\", \"4\", \"9\", \".\", \"2\"],\n",
    "        [\"5\", \".\", \"4\", \"9\", \"7\", \".\", \"3\", \"6\", \".\"],\n",
    "        [\"3\", \".\", \"9\", \"5\", \".\", \"8\", \"7\", \".\", \"1\"],\n",
    "        [\"8\", \"4\", \"5\", \"7\", \"9\", \".\", \"6\", \"1\", \"3\"],\n",
    "        [\".\", \"9\", \"1\", \".\", \"3\", \"6\", \".\", \"7\", \"5\"],\n",
    "        [\"7\", \".\", \"6\", \"1\", \"8\", \"5\", \"4\", \".\", \"9\"],\n",
    "    ]"
   ]
  },
  {
   "cell_type": "code",
   "execution_count": 6,
   "id": "034baf6e",
   "metadata": {},
   "outputs": [
    {
     "data": {
      "text/plain": [
       "True"
      ]
     },
     "execution_count": 6,
     "metadata": {},
     "output_type": "execute_result"
    }
   ],
   "source": [
    "def isValid(board, row, col, pos):\n",
    "    for i in range(9):\n",
    "        if board[row][i] == pos:\n",
    "            return False\n",
    "\n",
    "        if board[i][col] == pos:\n",
    "            return False\n",
    "\n",
    "    row_start = (row // 3) * 3\n",
    "    col_start = (col // 3) * 3\n",
    "    for i in range(0, 3):\n",
    "        for j in range(0, 3):\n",
    "            if board[row_start+i][col_start+j] == pos:\n",
    "                return False\n",
    "    return True\n",
    "\n",
    "def solveSudoku(board):\n",
    "    for i in range(0, 9):\n",
    "        for j in range(0, 9):\n",
    "            if board[i][j] == '.':\n",
    "                for c in '123456789':\n",
    "                    if isValid(board, i, j, c):\n",
    "                        board[i][j] = c\n",
    "                        if solveSudoku(board):\n",
    "                            return True\n",
    "                        board[i][j] = '.'\n",
    "                return False\n",
    "    return True\n",
    "\n",
    "solveSudoku(board)\n",
    "\n",
    "# Time Complexity: O(9(n ^ 2)), in the worst case, for each cell in the n2 board, we have 9 possible numbers.\n",
    "# Space Complexity: O(1), since we are refilling the given board itself,\n",
    "# there is no extra space required, so constant space complexity.\n"
   ]
  },
  {
   "cell_type": "code",
   "execution_count": 7,
   "id": "1cb6bb6a",
   "metadata": {},
   "outputs": [
    {
     "data": {
      "text/plain": [
       "[['9', '5', '7', '6', '1', '3', '2', '8', '4'],\n",
       " ['4', '8', '3', '2', '5', '7', '1', '9', '6'],\n",
       " ['6', '1', '2', '8', '4', '9', '5', '3', '7'],\n",
       " ['1', '7', '8', '3', '6', '4', '9', '5', '2'],\n",
       " ['5', '2', '4', '9', '7', '1', '3', '6', '8'],\n",
       " ['3', '6', '9', '5', '2', '8', '7', '4', '1'],\n",
       " ['8', '4', '5', '7', '9', '2', '6', '1', '3'],\n",
       " ['2', '9', '1', '4', '3', '6', '8', '7', '5'],\n",
       " ['7', '3', '6', '1', '8', '5', '4', '2', '9']]"
      ]
     },
     "execution_count": 7,
     "metadata": {},
     "output_type": "execute_result"
    }
   ],
   "source": [
    "board"
   ]
  },
  {
   "cell_type": "markdown",
   "id": "665406be",
   "metadata": {},
   "source": [
    "### NQueen\n"
   ]
  },
  {
   "cell_type": "code",
   "execution_count": 12,
   "id": "ee094488",
   "metadata": {},
   "outputs": [
    {
     "data": {
      "text/plain": [
       "[['.Q..', '...Q', 'Q...', '..Q.'], ['..Q.', 'Q...', '...Q', '.Q..']]"
      ]
     },
     "execution_count": 12,
     "metadata": {},
     "output_type": "execute_result"
    }
   ],
   "source": [
    "def solveNQueens(n):\n",
    "    if n == 0:\n",
    "        return [['.']]\n",
    "\n",
    "    if n == 1:\n",
    "        return [['Q']]\n",
    "    res = []\n",
    "\n",
    "    def validate(board, row, col):\n",
    "\n",
    "        # check top\n",
    "        for x in range(0, row):\n",
    "            if board[x][col] != '.':\n",
    "                return False\n",
    "\n",
    "        # left diagonal\n",
    "        i = row\n",
    "        j = col\n",
    "        while i >= 0 and j >= 0:\n",
    "            if board[i][j] != '.':\n",
    "                return False\n",
    "            i -= 1\n",
    "            j -= 1\n",
    "\n",
    "        # right diagonal\n",
    "        i = row\n",
    "        j = col\n",
    "        while i >= 0 and j < n:\n",
    "            if board[i][j] != '.':\n",
    "                return False\n",
    "            i -= 1\n",
    "            j += 1\n",
    "\n",
    "        return True\n",
    "\n",
    "\n",
    "    def helper(ans, row):\n",
    "        if row == n:\n",
    "            res.append(ans[:])\n",
    "            return\n",
    "\n",
    "        for i in range(0, n):\n",
    "            if validate(ans, row, i) == True:\n",
    "                ans[row] = ans[row][0:i] + 'Q' + ans[row][i+1:]\n",
    "                helper(ans, row+1)\n",
    "                ans[row] = ans[row][0:i] + '.' + ans[row][i+1:]\n",
    "                \n",
    "    ans = ['.'*n for x in range(0, n)]\n",
    "    helper(ans, 0)\n",
    "    return res\n",
    "\n",
    "solveNQueens(4)\n",
    "\n",
    "# Time Complexity: Exponential in nature since we are trying out all ways, to be precise its O(N! * N).\n",
    "# Space Complexity: O( N2 )"
   ]
  },
  {
   "cell_type": "markdown",
   "id": "dec5aee8",
   "metadata": {},
   "source": [
    "### Rat in a Maze\n",
    "https://takeuforward.org/data-structure/rat-in-a-maze/"
   ]
  },
  {
   "cell_type": "code",
   "execution_count": 13,
   "id": "56126c7c",
   "metadata": {},
   "outputs": [],
   "source": [
    "maze =  [[1, 0, 0, 0],\n",
    "        [1, 1, 0, 1], \n",
    "        [1, 1, 0, 0],\n",
    "        [0, 1, 1, 1]]\n",
    "n = 4"
   ]
  },
  {
   "cell_type": "code",
   "execution_count": 18,
   "id": "7fe87c64",
   "metadata": {},
   "outputs": [
    {
     "data": {
      "text/plain": [
       "['DDRDRR', 'DRDDRR']"
      ]
     },
     "execution_count": 18,
     "metadata": {},
     "output_type": "execute_result"
    }
   ],
   "source": [
    "def ratMaze(maze, n):\n",
    "    \n",
    "    def mazehelper(row, col, visited, ans):\n",
    "    \n",
    "        if row == n -1 and col == n - 1:\n",
    "            res.append(ans)\n",
    "            return\n",
    "\n",
    "        if row < 0 or col < 0 or row >= n or col >= n or maze[row][col] == 0 or (row, col) in visited:\n",
    "            return\n",
    "\n",
    "        visited.add((row, col))\n",
    "\n",
    "        # up\n",
    "        mazehelper(row-1, col, visited, ans+'U')\n",
    "\n",
    "        # down\n",
    "        mazehelper(row+1, col, visited, ans+'D')\n",
    "\n",
    "        # left\n",
    "        mazehelper(row, col-1, visited, ans+'L')\n",
    "\n",
    "        # right\n",
    "        mazehelper(row, col+1, visited, ans+'R')\n",
    "\n",
    "        visited.remove((row, col))\n",
    "    \n",
    "    res = []\n",
    "    visited = set()\n",
    "    mazehelper(0, 0, visited, '')\n",
    "    \n",
    "    return res\n",
    "ratMaze(maze, n)"
   ]
  },
  {
   "cell_type": "markdown",
   "id": "dc531459",
   "metadata": {},
   "source": [
    "### M-coloring\n",
    "https://takeuforward.org/data-structure/m-coloring-problem/"
   ]
  },
  {
   "cell_type": "code",
   "execution_count": 252,
   "id": "44903f57",
   "metadata": {},
   "outputs": [
    {
     "data": {
      "text/plain": [
       "True"
      ]
     },
     "execution_count": 252,
     "metadata": {},
     "output_type": "execute_result"
    }
   ],
   "source": [
    "def mColoring(graph, n, m):\n",
    "    \n",
    "    def isSafe(node, color, graph, n, col):\n",
    "        for k in range(n):\n",
    "            if k != node and graph[k][node] == 1 and color[k] == col:\n",
    "                return False\n",
    "        return True\n",
    "    \n",
    "    def solve(node, color, m, n, graph):\n",
    "        if node == n:\n",
    "            return True\n",
    "        \n",
    "        for i in range(1, m+1):\n",
    "            if isSafe(node, color, graph, n, i):\n",
    "                color[node] = i\n",
    "                if solve(node+1, color, m, n, graph):\n",
    "                    return True\n",
    "                color[node] = 0\n",
    "        return False\n",
    "    \n",
    "    color = [0] * n\n",
    "    return solve(0, color, m , n, graph)\n",
    "\n",
    "graph = [[0 for i in range(101)] for i in range(101)]\n",
    "\n",
    "# Edges are (0, 1), (1, 2), (2, 3), (3, 0), (0, 2)\n",
    "graph[0][1] = 1\n",
    "graph[1][0] = 1\n",
    "graph[1][2] = 1\n",
    "graph[2][1] = 1\n",
    "graph[2][3] = 1\n",
    "graph[3][2] = 1\n",
    "graph[3][0] = 1\n",
    "graph[0][3] = 1\n",
    "graph[0][2] = 1\n",
    "graph[2][0] = 1\n",
    "\n",
    "n = 4\n",
    "m = 3\n",
    "\n",
    "mColoring(graph, n, m)\n",
    "\n",
    "# time: O(n*m)\n",
    "# space: O(n) "
   ]
  },
  {
   "cell_type": "markdown",
   "id": "4ed6b6a6",
   "metadata": {},
   "source": [
    "### Word Break "
   ]
  },
  {
   "cell_type": "code",
   "execution_count": 20,
   "id": "864eee72",
   "metadata": {},
   "outputs": [
    {
     "data": {
      "text/plain": [
       "[['god', 'is', 'no', 'where', 'no', 'where'],\n",
       " ['god', 'is', 'no', 'where', 'now', 'here'],\n",
       " ['god', 'is', 'now', 'here', 'no', 'where'],\n",
       " ['god', 'is', 'now', 'here', 'now', 'here']]"
      ]
     },
     "execution_count": 20,
     "metadata": {},
     "output_type": "execute_result"
    }
   ],
   "source": [
    "string = \"godisnowherenowhere\"\n",
    "word_dict = [\"god\", \"is\", \"now\", \"no\", \"where\", \"here\"]\n",
    "\n",
    "def word_break(word_dict, string):\n",
    "    res = []\n",
    "    \n",
    "    def helper(string, sub):\n",
    "        if not string:\n",
    "            res.append(sub[:])\n",
    "            return\n",
    "        \n",
    "        for i in range(0, len(string)):\n",
    "            left = string[:i+1] \n",
    "            ros = string[i+1:]\n",
    "            \n",
    "            if left in word_dict:\n",
    "                sub.append(left)\n",
    "                helper(ros, sub)\n",
    "                sub.pop()\n",
    "                \n",
    "    helper(string, [])\n",
    "    return res\n",
    "word_break(word_dict, string)"
   ]
  },
  {
   "cell_type": "markdown",
   "id": "54a4a3d3",
   "metadata": {},
   "source": [
    "# Linked List "
   ]
  },
  {
   "cell_type": "code",
   "execution_count": 409,
   "id": "e4194344",
   "metadata": {},
   "outputs": [],
   "source": [
    "class Node:\n",
    "    def __init__(self, data):\n",
    "        self.data = data\n",
    "        self.next = None\n",
    "        \n",
    "def create_ll(arr):\n",
    "    head = Node(-999)\n",
    "    temp = head\n",
    "    for val in arr:\n",
    "        temp.next = Node(val)\n",
    "        temp = temp.next\n",
    "    return head.next\n",
    "\n",
    "def display_ll(head):\n",
    "    temp = head\n",
    "    while temp:\n",
    "        print(temp.data, end = '->')\n",
    "        temp = temp.next"
   ]
  },
  {
   "cell_type": "code",
   "execution_count": 39,
   "id": "615bfc05",
   "metadata": {},
   "outputs": [],
   "source": [
    "l1 = create_ll([3, 6, 8, 10])"
   ]
  },
  {
   "cell_type": "code",
   "execution_count": 40,
   "id": "4ecf829e",
   "metadata": {},
   "outputs": [
    {
     "name": "stdout",
     "output_type": "stream",
     "text": [
      "3->6->8->10->"
     ]
    }
   ],
   "source": [
    "display_ll(l1)"
   ]
  },
  {
   "cell_type": "markdown",
   "id": "b747ff40",
   "metadata": {},
   "source": [
    "### Reverse a Linked List\n",
    "https://takeuforward.org/data-structure/reverse-a-linked-list/"
   ]
  },
  {
   "cell_type": "code",
   "execution_count": 32,
   "id": "ebb5a25d",
   "metadata": {},
   "outputs": [
    {
     "name": "stdout",
     "output_type": "stream",
     "text": [
      "10->8->6->3->"
     ]
    }
   ],
   "source": [
    "# iterative\n",
    "def reverseLLI(head):\n",
    "    if not head:\n",
    "        return\n",
    "    temp = head\n",
    "    prev = None\n",
    "    while temp:\n",
    "        next_ = temp.next\n",
    "        temp.next = prev\n",
    "        prev = temp\n",
    "        temp = next_\n",
    "    head = prev\n",
    "    return head\n",
    "\n",
    "nl = reverseLLI(l1)\n",
    "display_ll(nl)"
   ]
  },
  {
   "cell_type": "code",
   "execution_count": 41,
   "id": "43969a28",
   "metadata": {},
   "outputs": [],
   "source": [
    "# recursive\n",
    "def reverseLLR(head):\n",
    "    if not head:\n",
    "        return\n",
    "    \n",
    "    def helper(head):\n",
    "        if head == None or head.next == None:\n",
    "            return head\n",
    "        node = helper(head.next)\n",
    "        head.next.next = head\n",
    "        head.next = None\n",
    "        return node\n",
    "    \n",
    "    nl = helper(head)\n",
    "    return nl\n",
    "\n",
    "nl = reverseLLR(l1)"
   ]
  },
  {
   "cell_type": "code",
   "execution_count": 42,
   "id": "8eb6160a",
   "metadata": {},
   "outputs": [
    {
     "name": "stdout",
     "output_type": "stream",
     "text": [
      "10->8->6->3->"
     ]
    }
   ],
   "source": [
    "display_ll(nl)"
   ]
  },
  {
   "cell_type": "markdown",
   "id": "0f85dfd0",
   "metadata": {},
   "source": [
    "### Middle of the LL\n",
    "https://takeuforward.org/data-structure/find-middle-element-in-a-linked-list/"
   ]
  },
  {
   "cell_type": "code",
   "execution_count": 48,
   "id": "384077c3",
   "metadata": {},
   "outputs": [
    {
     "name": "stdout",
     "output_type": "stream",
     "text": [
      "8\n",
      "8\n"
     ]
    }
   ],
   "source": [
    "def middle_ll(head):\n",
    "    if not head:\n",
    "        return\n",
    "    sl = head\n",
    "    fs = head\n",
    "    \n",
    "    while fs and fs.next:\n",
    "        sl = sl.next\n",
    "        fs = fs.next.next\n",
    "    print(sl.data)\n",
    "    return\n",
    "l1 = create_ll([3, 6, 8, 10])\n",
    "l2 = create_ll([3, 6, 8, 9, 10])\n",
    "\n",
    "middle_ll(l1)\n",
    "middle_ll(l2)"
   ]
  },
  {
   "cell_type": "markdown",
   "id": "9669963a",
   "metadata": {},
   "source": [
    "### Merge two linked list\n",
    "https://takeuforward.org/data-structure/merge-two-sorted-linked-lists/"
   ]
  },
  {
   "cell_type": "code",
   "execution_count": 58,
   "id": "f9d56c47",
   "metadata": {},
   "outputs": [],
   "source": [
    "def merge_ll(head1, head2):\n",
    "    \n",
    "    if not head1:\n",
    "        return head2\n",
    "    if not head2:\n",
    "        return head1\n",
    "    \n",
    "    temp1 = head1\n",
    "    temp2 = head2\n",
    "    nlist = Node(-999)\n",
    "    temp = nlist\n",
    "    while temp1 or temp2:\n",
    "        if temp1 and temp2:\n",
    "            if temp1.data <= temp2.data:\n",
    "                temp.next = Node(temp1.data)\n",
    "                temp1 = temp1.next\n",
    "            else:\n",
    "                temp.next = Node(temp2.data)\n",
    "                temp2 = temp2.next\n",
    "        elif temp1:\n",
    "            temp.next = Node(temp1.data)\n",
    "            temp1 = temp1.next\n",
    "        elif temp2:\n",
    "            temp.next = Node(temp2.data)\n",
    "            temp2 = temp2.next\n",
    "        temp = temp.next\n",
    "    \n",
    "    return nlist.next\n",
    "                \n",
    "\n",
    "l1 = create_ll([3,7,10])\n",
    "l2 = create_ll([1,2,5,8,10])\n",
    "\n",
    "nl = merge_ll(l1, l2)"
   ]
  },
  {
   "cell_type": "code",
   "execution_count": 59,
   "id": "5d0fbf63",
   "metadata": {},
   "outputs": [
    {
     "name": "stdout",
     "output_type": "stream",
     "text": [
      "1->2->3->5->7->8->10->10->"
     ]
    }
   ],
   "source": [
    "display_ll(nl)"
   ]
  },
  {
   "cell_type": "markdown",
   "id": "e557a387",
   "metadata": {},
   "source": [
    "### delete a given node\n",
    "https://takeuforward.org/data-structure/delete-given-node-in-a-linked-list-o1-approach/"
   ]
  },
  {
   "cell_type": "code",
   "execution_count": 64,
   "id": "0deaa603",
   "metadata": {},
   "outputs": [
    {
     "name": "stdout",
     "output_type": "stream",
     "text": [
      "1->3->4->5->"
     ]
    }
   ],
   "source": [
    "def deleteNode(head, n):\n",
    "    if not head:\n",
    "        return\n",
    "    \n",
    "    if head.data == n:\n",
    "        return head.next\n",
    "    \n",
    "    temp = head\n",
    "    while temp:\n",
    "        if temp.next and temp.next.data == n:\n",
    "            temp.next = temp.next.next\n",
    "        temp = temp.next\n",
    "    return head\n",
    "l1 = create_ll([1,2,3,4,5])\n",
    "nl = deleteNode(l1, 2)\n",
    "display_ll(nl)"
   ]
  },
  {
   "cell_type": "markdown",
   "id": "6034b45f",
   "metadata": {},
   "source": [
    "### Remove nth Node from LL\n",
    "https://takeuforward.org/data-structure/remove-n-th-node-from-the-end-of-a-linked-list/"
   ]
  },
  {
   "cell_type": "code",
   "execution_count": 72,
   "id": "58e40535",
   "metadata": {},
   "outputs": [
    {
     "name": "stdout",
     "output_type": "stream",
     "text": [
      "1->2->3->4->"
     ]
    }
   ],
   "source": [
    "def removeN(head, n):\n",
    "    if not head:\n",
    "        return\n",
    "    \n",
    "    temp = head\n",
    "    while n > 0:\n",
    "        temp = temp.next\n",
    "        n -= 1\n",
    "    fs = temp\n",
    "    sl = head\n",
    "    \n",
    "    while fs.next:\n",
    "        sl = sl.next\n",
    "        fs = fs.next\n",
    "    sl.next = sl.next.next\n",
    "    return head\n",
    "\n",
    "l1 = create_ll([1,2,3,4,5])\n",
    "nl = removeN(l1, 1)\n",
    "display_ll(nl)\n",
    "\n",
    "# Time Complexity: O(N)\n",
    "# Space Complexity: O(1)"
   ]
  },
  {
   "cell_type": "markdown",
   "id": "3b05c582",
   "metadata": {},
   "source": [
    "### Add two numbers\n",
    "https://takeuforward.org/data-structure/add-two-numbers-represented-as-linked-lists/"
   ]
  },
  {
   "cell_type": "code",
   "execution_count": 86,
   "id": "61941d48",
   "metadata": {},
   "outputs": [
    {
     "name": "stdout",
     "output_type": "stream",
     "text": [
      "4->6->4->1->"
     ]
    }
   ],
   "source": [
    "def addTwoLL(l1, l2):\n",
    "    if not l1 or not l2:\n",
    "        return\n",
    "    \n",
    "    carry = 0\n",
    "    nlist = Node(-1)\n",
    "    temp = nlist\n",
    "    \n",
    "    while l1 or l2:\n",
    "        if l1 and l2:\n",
    "            val = l1.data + l2.data\n",
    "            l1 = l1.next\n",
    "            l2 = l2.next\n",
    "        elif l1:\n",
    "            val = l1.data\n",
    "            l1 = l1.next\n",
    "        elif l2:\n",
    "            val = l2.data\n",
    "            l2 = l2.next\n",
    "        val += carry\n",
    "        carry = val // 10\n",
    "        new_val = val % 10        \n",
    "        temp.next = Node(new_val)\n",
    "        temp = temp.next\n",
    "    \n",
    "    if carry:\n",
    "        temp.next = Node(carry)\n",
    "        \n",
    "    return nlist.next\n",
    "\n",
    "l1 = create_ll([9,9,9])\n",
    "l2 = create_ll([5,6,4])\n",
    "\n",
    "ans = addTwoLL(l1, l2)\n",
    "display_ll(ans)"
   ]
  },
  {
   "cell_type": "markdown",
   "id": "142455d0",
   "metadata": {},
   "source": [
    "### Intersection between 2 LL\n",
    "https://takeuforward.org/data-structure/find-intersection-of-two-linked-lists/"
   ]
  },
  {
   "cell_type": "code",
   "execution_count": 97,
   "id": "126ace74",
   "metadata": {},
   "outputs": [],
   "source": [
    "l1 = create_ll([1,2,3])\n",
    "l2 = create_ll([0,3])\n",
    "ns = Node(7)\n",
    "l1.next.next.next=ns\n",
    "l2.next.next = ns"
   ]
  },
  {
   "cell_type": "code",
   "execution_count": 98,
   "id": "8a4692f7",
   "metadata": {},
   "outputs": [
    {
     "data": {
      "text/plain": [
       "'intersection pt is 7'"
      ]
     },
     "execution_count": 98,
     "metadata": {},
     "output_type": "execute_result"
    }
   ],
   "source": [
    "# approach 1 use hashing\n",
    "def insersection(l1, l2):\n",
    "    if not l1 and not l2:\n",
    "        return\n",
    "    node_set = set()\n",
    "    \n",
    "    temp = l1\n",
    "    while temp:\n",
    "        node_set.add(temp)\n",
    "        temp = temp.next\n",
    "        \n",
    "    temp = l2\n",
    "    while temp:\n",
    "        if temp in node_set:\n",
    "            return f\"intersection pt is {temp.data}\"\n",
    "        temp = temp.next\n",
    "    return f\"did not find any intersection pt\"\n",
    "insersection(l1, l2)"
   ]
  },
  {
   "cell_type": "code",
   "execution_count": 99,
   "id": "6abc8840",
   "metadata": {},
   "outputs": [
    {
     "data": {
      "text/plain": [
       "'intersection pt is 7'"
      ]
     },
     "execution_count": 99,
     "metadata": {},
     "output_type": "execute_result"
    }
   ],
   "source": [
    "# approach 2 use difference\n",
    "def intersection2(l1, l2):\n",
    "    list_len1 = 0\n",
    "    list_len2 = 0\n",
    "    temp = l1\n",
    "    while temp:\n",
    "        list_len1 += 1\n",
    "        temp = temp.next\n",
    "    \n",
    "    temp = l2\n",
    "    while temp:\n",
    "        list_len2  += 1\n",
    "        temp = temp.next\n",
    "        \n",
    "    diff = abs(list_len1 - list_len2)\n",
    "    if list_len1 >= list_len2:\n",
    "        temp1 = l1\n",
    "        temp2 = l2\n",
    "    else:\n",
    "        temp1 = l2\n",
    "        temp2 = l1\n",
    "        \n",
    "    while diff > 0:\n",
    "        temp1 = temp1.next\n",
    "        diff -= 1\n",
    "        \n",
    "    while temp1 and temp2:\n",
    "        if temp1 == temp2:\n",
    "            return f\"intersection pt is {temp1.data}\"\n",
    "        temp1 = temp1.next\n",
    "        temp2 = temp2.next\n",
    "    return f\"did not find any intersection pt\"\n",
    "intersection2(l1, l2)"
   ]
  },
  {
   "cell_type": "markdown",
   "id": "b0f57186",
   "metadata": {},
   "source": [
    "### Detect a cycle in the linked list\n",
    "https://takeuforward.org/data-structure/detect-a-cycle-in-a-linked-list/"
   ]
  },
  {
   "cell_type": "code",
   "execution_count": 181,
   "id": "bb595b27",
   "metadata": {},
   "outputs": [],
   "source": [
    "cl = create_ll([1,2,3,4,5,6])\n",
    "cl.next.next.next.next.next.next = cl.next.next.next"
   ]
  },
  {
   "cell_type": "code",
   "execution_count": 107,
   "id": "31937d17",
   "metadata": {},
   "outputs": [
    {
     "data": {
      "text/plain": [
       "True"
      ]
     },
     "execution_count": 107,
     "metadata": {},
     "output_type": "execute_result"
    }
   ],
   "source": [
    "def cycle_detect(head):\n",
    "    if not head:\n",
    "        return\n",
    "    \n",
    "    fast = head\n",
    "    slow = head\n",
    "    while fast and fast.next:\n",
    "        if slow == fast:\n",
    "            return True\n",
    "        fast = fast.next.next\n",
    "        slow = slow.next\n",
    "    return False\n",
    "cycle_detect(cl)\n",
    "\n",
    "# another way to do is use hashing"
   ]
  },
  {
   "cell_type": "markdown",
   "id": "4408a964",
   "metadata": {},
   "source": [
    "### Linked List palindrome "
   ]
  },
  {
   "cell_type": "code",
   "execution_count": 112,
   "id": "7562634d",
   "metadata": {},
   "outputs": [
    {
     "data": {
      "text/plain": [
       "False"
      ]
     },
     "execution_count": 112,
     "metadata": {},
     "output_type": "execute_result"
    }
   ],
   "source": [
    "def linkedlist(head):\n",
    "    if not head:\n",
    "        return\n",
    "    sl = head\n",
    "    fs = head\n",
    "    while fs and fs.next:\n",
    "        fs = fs.next.next\n",
    "        sl = sl.next\n",
    "    \n",
    "    mid = sl.next\n",
    "    sl.next = None\n",
    "    temp = mid\n",
    "    prev = None\n",
    "    while temp:\n",
    "        next_ = temp.next\n",
    "        temp.next = prev\n",
    "        prev = temp\n",
    "        temp = next_\n",
    "    mid = prev\n",
    "    \n",
    "    temp = head\n",
    "    while temp and mid:\n",
    "        if temp.data != mid.data:\n",
    "            return False\n",
    "        temp = temp.next\n",
    "        mid = mid.next\n",
    "    return True\n",
    "        \n",
    "l1 = create_ll([1,2,3,3,1])\n",
    "l2 = create_ll([2,2])\n",
    "\n",
    "linkedlist(l1)\n",
    "\n",
    "# Time Complexity: O(N/2)+O(N/2)+O(N/2)\n",
    "# Space Complexity: O(1)"
   ]
  },
  {
   "cell_type": "markdown",
   "id": "eccdae39",
   "metadata": {},
   "source": [
    "### Flattening a  linked list\n",
    "https://takeuforward.org/data-structure/flattening-a-linked-list/"
   ]
  },
  {
   "cell_type": "code",
   "execution_count": 163,
   "id": "386dbef1",
   "metadata": {},
   "outputs": [],
   "source": [
    "class DNode:\n",
    "    def __init__(self, data):\n",
    "        self.data = data\n",
    "        self.next = None\n",
    "        self.down = None\n",
    "        \n",
    "# 5 10 19\n",
    "# 7 20 22 \n",
    "# 8    50\n",
    "# 10     \n",
    "\n",
    "dl = DNode(5)\n",
    "dl.down = DNode(7)\n",
    "dl.down.down = DNode(8)\n",
    "dl.down.down.down = DNode(10)\n",
    "\n",
    "dl.next = DNode(10)\n",
    "dl.next.down = DNode(20)\n",
    "\n",
    "dl.next.next = DNode(19)\n",
    "dl.next.next.down = DNode(22)\n",
    "dl.next.next.down.down = DNode(50)\n",
    "dl.next.next.down.down.down = DNode(70)\n"
   ]
  },
  {
   "cell_type": "code",
   "execution_count": 152,
   "id": "79e8b490",
   "metadata": {},
   "outputs": [
    {
     "name": "stdout",
     "output_type": "stream",
     "text": [
      "5->7->8->10->10->19->20->22->50->70->"
     ]
    }
   ],
   "source": [
    "from heapq import *\n",
    "\n",
    "def FlattenList(head):\n",
    "    if not head:\n",
    "        return\n",
    "    ls = []\n",
    "    \n",
    "    temp = head\n",
    "    while temp:\n",
    "        heappush(ls, (temp.data, 0, temp))\n",
    "        temp = temp.next\n",
    "        \n",
    "        \n",
    "    \n",
    "    new_l = Node(-999)\n",
    "    temp2 = new_l\n",
    "    while ls:\n",
    "        val, idx, node = heappop(ls)\n",
    "        temp2.next = Node(val)\n",
    "        temp2 = temp2.next\n",
    "        node = node.down\n",
    "        if node != None:\n",
    "#             print(node.data)\n",
    "            heappush(ls, (node.data, idx+1, node))\n",
    "        \n",
    "    return new_l.next\n",
    "\n",
    "sl = FlattenList(dl)\n",
    "display_ll(sl)"
   ]
  },
  {
   "cell_type": "code",
   "execution_count": 168,
   "id": "38c8a404",
   "metadata": {},
   "outputs": [],
   "source": [
    "# approach two\n",
    "def FlattenList2(head):\n",
    "    if not head:\n",
    "        return\n",
    "    \n",
    "    def mergeTwoList(l1, l2):\n",
    "        if not l1:\n",
    "            return l2\n",
    "        \n",
    "        if not l2:\n",
    "            return l1\n",
    "        \n",
    "        nl = DNode(-99)\n",
    "        temp = nl\n",
    "        while l1 or l2:\n",
    "            if l1 and l2:\n",
    "                if l1.data <= l2.data:\n",
    "                    new_node = DNode(l1.data)\n",
    "                    l1 = l1.down\n",
    "                else:\n",
    "                    new_node = DNode(l2.data)\n",
    "                    l2 = l2.down\n",
    "            elif l1:\n",
    "                new_node = DNode(l1.data)\n",
    "                l1 = l1.down\n",
    "            elif l2:\n",
    "                new_node = DNode(l2.data)\n",
    "                l2 = l2.down\n",
    "            temp.down = new_node\n",
    "            temp = temp.down\n",
    "        return nl.down\n",
    "    \n",
    "    def Flattenhelper(head):\n",
    "        if not head or not head.next:\n",
    "            return head\n",
    "        \n",
    "        head.next = Flattenhelper(head.next)\n",
    "#         print('head', head.next.data)\n",
    "        \n",
    "        head = mergeTwoList(head, head.next)\n",
    "        return head\n",
    "    ls = Flattenhelper(head)\n",
    "    return ls\n",
    "nn = FlattenList2(dl)\n",
    "\n",
    "# time: 0(n)\n",
    "# space: 0(1)"
   ]
  },
  {
   "cell_type": "code",
   "execution_count": 167,
   "id": "bdeddae9",
   "metadata": {},
   "outputs": [
    {
     "name": "stdout",
     "output_type": "stream",
     "text": [
      "5->7->8->10->10->19->20->22->50->70->"
     ]
    }
   ],
   "source": [
    "temp = nn\n",
    "while temp:\n",
    "    print(temp.data, end = '->')\n",
    "    temp = temp.down"
   ]
  },
  {
   "cell_type": "markdown",
   "id": "bcb581f2",
   "metadata": {},
   "source": [
    "### Reverse LL group of size k\n",
    "https://takeuforward.org/data-structure/reverse-linked-list-in-groups-of-size-k/"
   ]
  },
  {
   "cell_type": "code",
   "execution_count": 179,
   "id": "b7a3101e",
   "metadata": {},
   "outputs": [
    {
     "name": "stdout",
     "output_type": "stream",
     "text": [
      "3->2->1->6->5->4->7->8->"
     ]
    }
   ],
   "source": [
    "def ReverseLLk(head, k, n):\n",
    "    curr = head\n",
    "    prev = None\n",
    "    count = 0\n",
    "    \n",
    "    while curr and n > k:\n",
    "        stack = []\n",
    "        while curr and count<k:\n",
    "            stack.append(curr)\n",
    "            curr = curr.next\n",
    "            count += 1\n",
    "            n -= 1\n",
    "        \n",
    "        while stack:\n",
    "            if prev == None:\n",
    "                prev = stack[-1]\n",
    "                head = prev\n",
    "                stack.pop()\n",
    "            else:\n",
    "                prev.next = stack[-1]\n",
    "                prev = prev.next\n",
    "                stack.pop()\n",
    "            count -= 1\n",
    "        prev.next = None\n",
    "       \n",
    "    prev.next = curr\n",
    "    return head\n",
    "rl = create_ll([1,2,3,4,5,6,7,8])\n",
    "rev_ls = ReverseLLk(rl, 3, 8)\n",
    "display_ll(rev_ls)"
   ]
  },
  {
   "cell_type": "code",
   "execution_count": 180,
   "id": "1695e3ce",
   "metadata": {},
   "outputs": [
    {
     "name": "stdout",
     "output_type": "stream",
     "text": [
      "3->2->1->6->5->4->7->8->"
     ]
    }
   ],
   "source": [
    "# correct approach\n",
    "def Reverselistk(head, k, n):\n",
    "    if head == None or head.next == None:\n",
    "        return head\n",
    "    \n",
    "    dummyHead = Node(0)\n",
    "    dummyHead.next = head\n",
    "    \n",
    "    pre = dummyHead\n",
    "    cur = None\n",
    "    nex = None\n",
    "    \n",
    "    while n >= k:\n",
    "        cur = pre.next\n",
    "        nex = cur.next\n",
    "        for i in range(1, k):\n",
    "            cur.next = nex.next\n",
    "            nex.next = pre.next\n",
    "            pre.next = nex\n",
    "            nex = cur.next\n",
    "        pre = cur\n",
    "        n -= k\n",
    "    return dummyHead.next\n",
    "\n",
    "rl = create_ll([1,2,3,4,5,6,7,8])\n",
    "ss = Reverselistk(rl, 3, 8)\n",
    "display_ll(ss)\n",
    "\n",
    "# Time Complexity: O(N)\n",
    "# Space Complexity: O(1)"
   ]
  },
  {
   "cell_type": "markdown",
   "id": "6af2efed",
   "metadata": {},
   "source": [
    "### Starting point of the loop\n",
    "https://takeuforward.org/data-structure/starting-point-of-loop-in-a-linked-list/"
   ]
  },
  {
   "cell_type": "code",
   "execution_count": 186,
   "id": "3d033c4c",
   "metadata": {},
   "outputs": [
    {
     "data": {
      "text/plain": [
       "4"
      ]
     },
     "execution_count": 186,
     "metadata": {},
     "output_type": "execute_result"
    }
   ],
   "source": [
    "def detect_loop(head):\n",
    "    if not head:\n",
    "        return\n",
    "    \n",
    "    sl = head\n",
    "    fs = head\n",
    "    entry = head\n",
    "    \n",
    "    while fs and fs.next:\n",
    "        fs = fs.next.next\n",
    "        sl = sl.next\n",
    "        if sl == fs:\n",
    "            while sl != entry:\n",
    "                sl = sl.next\n",
    "                entry = entry.next\n",
    "            return sl.data\n",
    "    return -1\n",
    "\n",
    "detect_loop(cl)\n",
    "\n",
    "# time: O(n)\n",
    "# space: O(1)"
   ]
  },
  {
   "cell_type": "code",
   "execution_count": 188,
   "id": "baae90a0",
   "metadata": {},
   "outputs": [
    {
     "data": {
      "text/plain": [
       "4"
      ]
     },
     "execution_count": 188,
     "metadata": {},
     "output_type": "execute_result"
    }
   ],
   "source": [
    "# another approach hashing\n",
    "def detect_loop_hash(head):\n",
    "    if not head:\n",
    "        return\n",
    "    \n",
    "    st = set()\n",
    "    while head != None:\n",
    "        if head in st:\n",
    "            return head.data\n",
    "        st.add(head)\n",
    "        head = head.next\n",
    "    return -1\n",
    "\n",
    "detect_loop_hash(cl)\n",
    "\n",
    "# time: O(n)\n",
    "# space: O(n)"
   ]
  },
  {
   "cell_type": "markdown",
   "id": "c04efbec",
   "metadata": {},
   "source": [
    "# Linked List and Array "
   ]
  },
  {
   "cell_type": "markdown",
   "id": "f738eee7",
   "metadata": {},
   "source": [
    "### Rotate array\n",
    "https://takeuforward.org/data-structure/rotate-a-linked-list/"
   ]
  },
  {
   "cell_type": "code",
   "execution_count": 418,
   "id": "8b4481d2",
   "metadata": {},
   "outputs": [
    {
     "name": "stdout",
     "output_type": "stream",
     "text": [
      "3->4->5->1->2->"
     ]
    }
   ],
   "source": [
    "# my own approach\n",
    "# if the arr size is given then this soln is best\n",
    "def rotateArray(head, k):\n",
    "    fs = head\n",
    "    sl = head\n",
    "    \n",
    "    # find size\n",
    "    temp = head\n",
    "    size = 0\n",
    "    while temp:\n",
    "        temp = temp.next\n",
    "        size += 1\n",
    "    \n",
    "    k = k % size\n",
    "    \n",
    "    for i in range(0, k):\n",
    "        fs = fs.next\n",
    "    \n",
    "    while fs.next:\n",
    "        fs = fs.next\n",
    "        sl = sl.next\n",
    "    \n",
    "    fs.next = head\n",
    "    head = sl.next\n",
    "    sl.next = None\n",
    "    \n",
    "    return head\n",
    "    \n",
    "ll = create_ll([1,2,3,4,5])\n",
    "l2 = rotateArray(ll, 23)\n",
    "display_ll(l2)"
   ]
  },
  {
   "cell_type": "code",
   "execution_count": 415,
   "id": "a328452c",
   "metadata": {},
   "outputs": [
    {
     "name": "stdout",
     "output_type": "stream",
     "text": [
      "4->5->1->2->3->"
     ]
    }
   ],
   "source": [
    "# take you forward\n",
    "def rotateArray2(head, k):\n",
    "    size = 1\n",
    "    temp = head\n",
    "    \n",
    "    while temp.next:\n",
    "        temp = temp.next\n",
    "        size += 1\n",
    "    \n",
    "    temp.next = head\n",
    "    k = k % size\n",
    "    end = size - k\n",
    "    while end:\n",
    "        temp = temp.next\n",
    "        end -= 1\n",
    "        \n",
    "    head = temp.next\n",
    "    temp.next = None\n",
    "    \n",
    "    return head\n",
    "\n",
    "ll = create_ll([1,2,3,4,5]) \n",
    "l3 = rotateArray2(ll, 2)\n",
    "display_ll(l3)\n",
    "\n",
    "# time: O(length of list) + O(length of list – (length of list%k))"
   ]
  },
  {
   "cell_type": "code",
   "execution_count": null,
   "id": "34a2ae5a",
   "metadata": {},
   "outputs": [],
   "source": []
  },
  {
   "cell_type": "markdown",
   "id": "e5f5cf6e",
   "metadata": {},
   "source": [
    "# Array "
   ]
  },
  {
   "cell_type": "markdown",
   "id": "60441dbd",
   "metadata": {},
   "source": [
    "### Pascal Triangle \n",
    "https://takeuforward.org/data-structure/program-to-generate-pascals-triangle/"
   ]
  },
  {
   "cell_type": "code",
   "execution_count": 190,
   "id": "5939f6e8",
   "metadata": {},
   "outputs": [
    {
     "name": "stdout",
     "output_type": "stream",
     "text": [
      "1 \n",
      "1 1 \n",
      "1 2 1 \n",
      "1 3 3 1 \n",
      "1 4 6 4 1 \n"
     ]
    }
   ],
   "source": [
    "# striver approach (did not understand)\n",
    "from typing import *\n",
    "\n",
    "def nCr(n, r):\n",
    "    res = 1\n",
    "\n",
    "    # calculating nCr:\n",
    "    for i in range(r):\n",
    "        res = res * (n - i)\n",
    "        res = res // (i + 1)\n",
    "    return int(res)\n",
    "\n",
    "def pascalTriangle(n : int) -> List[List[int]]:\n",
    "    ans = []\n",
    "\n",
    "    #Store the entire pascal's triangle:\n",
    "    for row in range(1, n+1):\n",
    "        tempLst = [] # temporary list\n",
    "        for col in range(1, row+1):\n",
    "            tempLst.append(nCr(row - 1, col - 1))\n",
    "        ans.append(tempLst)\n",
    "    return ans\n",
    "\n",
    "if __name__ == '__main__':\n",
    "    n = 5\n",
    "    ans = pascalTriangle(n)\n",
    "    for it in ans:\n",
    "        for ele in it:\n",
    "            print(ele, end=\" \")\n",
    "        print()\n"
   ]
  },
  {
   "cell_type": "code",
   "execution_count": 193,
   "id": "3e101713",
   "metadata": {},
   "outputs": [
    {
     "data": {
      "text/plain": [
       "[[1],\n",
       " [1, 1],\n",
       " [1, 2, 1],\n",
       " [1, 3, 3, 1],\n",
       " [1, 4, 6, 4, 1],\n",
       " [1, 5, 10, 10, 5, 1],\n",
       " [1, 6, 15, 20, 15, 6, 1]]"
      ]
     },
     "execution_count": 193,
     "metadata": {},
     "output_type": "execute_result"
    }
   ],
   "source": [
    "# naive approach\n",
    "def generate(numRows):\n",
    "    res = []\n",
    "    for i in range(0, numRows):\n",
    "        sub = []\n",
    "        for j in range(0, i+1):\n",
    "            if j == 0 or j == i:\n",
    "                sub.append(1)\n",
    "            else:\n",
    "                val = res[i-1][j-1] + res[i-1][j]\n",
    "                sub.append(val)\n",
    "\n",
    "        res.append(sub)\n",
    "    return res\n",
    "generate(7)"
   ]
  },
  {
   "cell_type": "markdown",
   "id": "3df97afb",
   "metadata": {},
   "source": [
    "### set matrix zero "
   ]
  },
  {
   "cell_type": "code",
   "execution_count": 196,
   "id": "d5b07f2f",
   "metadata": {},
   "outputs": [],
   "source": [
    "# my leetcode approach not optimal\n",
    "def setZeroes(matrix):\n",
    "    \"\"\"\n",
    "    Do not return anything, modify matrix in-place instead.\n",
    "    \"\"\"\n",
    "    hashset = set()\n",
    "\n",
    "    for i in range(0, len(matrix)):\n",
    "        for j in range(0, len(matrix[0])):\n",
    "            if matrix[i][j] == 0 and (i,j) not in hashset:\n",
    "                row = 0\n",
    "                col = 0\n",
    "\n",
    "                while row < len(matrix) or col < len(matrix[0]):\n",
    "                    if row < len(matrix):\n",
    "                        if matrix[row][j] != 0:\n",
    "                            hashset.add((row, j))\n",
    "\n",
    "                        matrix[row][j] = 0\n",
    "                        row += 1\n",
    "\n",
    "                    if col < len(matrix[0]):\n",
    "                        if matrix[i][col] != 0:\n",
    "                            hashset.add((i, col))\n",
    "                        matrix[i][col] = 0\n",
    "                        col += 1\n",
    "    return matrix\n",
    "\n"
   ]
  },
  {
   "cell_type": "code",
   "execution_count": 231,
   "id": "fcc0af72",
   "metadata": {},
   "outputs": [
    {
     "name": "stdout",
     "output_type": "stream",
     "text": [
      "0 0 0 0 \n",
      "1 1 0 1 \n",
      "1 1 0 1 \n"
     ]
    }
   ],
   "source": [
    "# better approach\n",
    "def setZeroes(board):\n",
    "    n = len(board)\n",
    "    m  = len(board[0])\n",
    "    row = [0] * n\n",
    "    col = [0] * m\n",
    "    \n",
    "    for i in range(0, n):\n",
    "        for j in range(0, m):\n",
    "            if board[i][j] == 0:\n",
    "                row[i] = 1\n",
    "                col[j] = 1\n",
    "    for i in range(0, n):\n",
    "        for j in range(0, m):\n",
    "            if row[i] or col[j]:\n",
    "                board[i][j] = 0\n",
    "    \n",
    "    for i in range(0, len(board)):\n",
    "        for j in range(0, len(board[0])):\n",
    "            print(board[i][j], end=' ')\n",
    "        print()\n",
    "    \n",
    "setZeroes([[1,1,0,1], [1,1,1,1], [1,1,1,1]])        "
   ]
  },
  {
   "cell_type": "code",
   "execution_count": 219,
   "id": "5f403746",
   "metadata": {},
   "outputs": [
    {
     "name": "stdout",
     "output_type": "stream",
     "text": [
      "0 0 0 0 \n",
      "1 1 0 1 \n",
      "1 1 0 1 \n"
     ]
    }
   ],
   "source": [
    "# optimal approach\n",
    "def setZeroes(board):\n",
    "    col0 = 1\n",
    "    for i in range(len(board)):\n",
    "        for j in range(len(board[0])):\n",
    "            if board[i][j] == 0:\n",
    "                # put zero in the first index of current row\n",
    "                board[i][0] = 0\n",
    "                \n",
    "                # mark jth col\n",
    "                if j != 0:\n",
    "                    board[0][j] = 0\n",
    "                else:\n",
    "                    col0 = 0\n",
    "                    \n",
    "    for i in range(1, len(board)):\n",
    "        for j in range(1, len(board[0])):\n",
    "            if board[i][j] != 0:\n",
    "                if board[i][0] == 0 or board[0][j] == 0:\n",
    "                    board[i][j] = 0\n",
    "\n",
    "    # finally mark the 0th row and 0th col\n",
    "    if board[0][0] == 0:\n",
    "        for i in range(len(board[0])):\n",
    "            board[0][i] = 0\n",
    "    if col0 == 0:\n",
    "        for j in range(len(board)):\n",
    "            board[j][0] = 0\n",
    "    \n",
    "    for i in range(0, len(board)):\n",
    "        for j in range(0, len(board[0])):\n",
    "            print(board[i][j], end=' ')\n",
    "        print()\n",
    "\n",
    "setZeroes([[1,1,0,1], [1,1,1,1], [1,1,1,1]])\n",
    "\n",
    "# setZeroes([[1, 1, 1], [1, 0, 1], [1, 1, 1]])"
   ]
  },
  {
   "cell_type": "markdown",
   "id": "c83155f6",
   "metadata": {},
   "source": [
    "### Kandane algorithm: Maximum Subarray\n",
    "https://takeuforward.org/data-structure/kadanes-algorithm-maximum-subarray-sum-in-an-array/"
   ]
  },
  {
   "cell_type": "code",
   "execution_count": 232,
   "id": "d2248c31",
   "metadata": {},
   "outputs": [],
   "source": [
    "def maxSubArray(self, nums: List[int]) -> int:\n",
    "    g_sum = nums[0]\n",
    "    c_sum = nums[0]\n",
    "    for i in range(1, len(nums)):\n",
    "        c_sum = max(c_sum+nums[i], nums[i])\n",
    "        g_sum = max(g_sum, c_sum)\n",
    "    return g_sum"
   ]
  },
  {
   "cell_type": "code",
   "execution_count": 233,
   "id": "73a2386a",
   "metadata": {},
   "outputs": [],
   "source": [
    "# brute force\n",
    "import sys\n",
    "\n",
    "def maxSubarraySum(arr, n):\n",
    "    maxi = -sys.maxsize - 1  # maximum sum\n",
    "\n",
    "    for i in range(n):\n",
    "        for j in range(i, n):\n",
    "            # subarray = arr[i.....j]\n",
    "            summ = 0\n",
    "\n",
    "            # add all the elements of subarray:\n",
    "            for k in range(i, j+1):\n",
    "                summ += arr[k]\n",
    "\n",
    "            maxi = max(maxi, summ)\n",
    "\n",
    "    return maxi"
   ]
  },
  {
   "cell_type": "code",
   "execution_count": 234,
   "id": "f0d892c6",
   "metadata": {},
   "outputs": [],
   "source": [
    "# better approach\n",
    "import sys\n",
    "\n",
    "def maxSubarraySum(arr, n):\n",
    "    maxi = -sys.maxsize - 1 # maximum sum\n",
    "\n",
    "    for i in range(n):\n",
    "        sum = 0\n",
    "        for j in range(i, n):\n",
    "            # current subarray = arr[i.....j]\n",
    "\n",
    "            #add the current element arr[j]\n",
    "            # to the sum i.e. sum of arr[i...j-1]\n",
    "            sum += arr[j]\n",
    "\n",
    "            maxi = max(maxi, sum) # getting the maximum\n",
    "\n",
    "    return maxi"
   ]
  },
  {
   "cell_type": "code",
   "execution_count": 237,
   "id": "332f41e7",
   "metadata": {},
   "outputs": [
    {
     "data": {
      "text/plain": [
       "[4, -1, 2, 1]"
      ]
     },
     "execution_count": 237,
     "metadata": {},
     "output_type": "execute_result"
    }
   ],
   "source": [
    "# follow up question return subarray\n",
    "def maxSubArray2(nums):\n",
    "    g_sum = c_sum = nums[0]\n",
    "    s_index = 0\n",
    "    e_index = 0\n",
    "    for i in range(1, len(nums)):\n",
    "        if c_sum+nums[i] > nums[i]:\n",
    "            c_sum += nums[i]\n",
    "        else:\n",
    "            c_sum = nums[i]\n",
    "            s_index = i\n",
    "        if c_sum > g_sum:\n",
    "            g_sum = c_sum\n",
    "            e_index = i\n",
    "    return nums[s_index:e_index+1]\n",
    "maxSubArray2([-2, 1, -3, 4, -1, 2, 1, -5, 4])"
   ]
  },
  {
   "cell_type": "markdown",
   "id": "a1fb4aa2",
   "metadata": {},
   "source": [
    "### Sort an array of 0s, 1s and 2s \n",
    "https://takeuforward.org/data-structure/sort-an-array-of-0s-1s-and-2s/"
   ]
  },
  {
   "cell_type": "code",
   "execution_count": 241,
   "id": "39940349",
   "metadata": {},
   "outputs": [
    {
     "data": {
      "text/plain": [
       "[0, 0, 0, 1, 1, 1, 1, 2, 2, 2]"
      ]
     },
     "execution_count": 241,
     "metadata": {},
     "output_type": "execute_result"
    }
   ],
   "source": [
    "def sort012(arr):\n",
    "    i = 0\n",
    "    j = 0\n",
    "    k = len(arr) - 1\n",
    "    \n",
    "    while i < k:\n",
    "        if arr[i] == 2:\n",
    "            # swap i with k\n",
    "            arr[i], arr[k] = arr[k], arr[i]\n",
    "            k -= 1\n",
    "        elif arr[i] == 0:\n",
    "            arr[i], arr[j] = arr[j], arr[i]\n",
    "            i += 1\n",
    "            j += 1\n",
    "        else:\n",
    "            i += 1\n",
    "    \n",
    "    return arr\n",
    "\n",
    "sort012([0,1,1,2,0,2,1,2,1,0])\n",
    "\n",
    "# time complexity: O(n)"
   ]
  },
  {
   "cell_type": "code",
   "execution_count": 239,
   "id": "ceef935c",
   "metadata": {},
   "outputs": [],
   "source": [
    "# brute force do sorting\n",
    "# Time Complexity: O(N*logN)\n",
    "# Space Complexity: O(1)"
   ]
  },
  {
   "cell_type": "code",
   "execution_count": 240,
   "id": "7d421919",
   "metadata": {},
   "outputs": [],
   "source": [
    "# better approach\n",
    "def sortArray(arr):\n",
    "    cnt0 = 0\n",
    "    cnt1 = 0\n",
    "    cnt2 = 0\n",
    "\n",
    "    for num in arr:\n",
    "        if num == 0:\n",
    "            cnt0 += 1\n",
    "        elif num == 1:\n",
    "            cnt1 += 1\n",
    "        else:\n",
    "            cnt2 += 1\n",
    "\n",
    "    for i in range(cnt0):\n",
    "        arr[i] = 0\n",
    "\n",
    "    for i in range(cnt0, cnt0 + cnt1):\n",
    "        arr[i] = 1\n",
    "\n",
    "    for i in range(cnt0 + cnt1, len(arr)):\n",
    "        arr[i] = 2\n",
    "\n",
    "# time complexity: O(n)"
   ]
  },
  {
   "cell_type": "markdown",
   "id": "0fdcf3b0",
   "metadata": {},
   "source": [
    "### Stock Buy and Sell\n",
    "https://takeuforward.org/data-structure/stock-buy-and-sell/"
   ]
  },
  {
   "cell_type": "code",
   "execution_count": 244,
   "id": "0bc0bd04",
   "metadata": {},
   "outputs": [
    {
     "data": {
      "text/plain": [
       "0"
      ]
     },
     "execution_count": 244,
     "metadata": {},
     "output_type": "execute_result"
    }
   ],
   "source": [
    "def buyAndSell(arr):\n",
    "    gprofit = -999\n",
    "    min_ = arr[0]\n",
    "    for i in range(0, len(arr)):\n",
    "        min_ = min(min_, arr[i])\n",
    "        gprofit = max(gprofit, arr[i] - min_)\n",
    "    return gprofit\n",
    "# buyAndSell([7,1,5,3,6,4])\n",
    "buyAndSell([7,6,4,3,1])\n",
    "# time: O(n)\n",
    "\n",
    "# brute force using 2 loops\n",
    "# time: O(n^2)"
   ]
  },
  {
   "cell_type": "markdown",
   "id": "2fae91b7",
   "metadata": {},
   "source": [
    "### Next Permutation\n",
    "https://takeuforward.org/data-structure/next_permutation-find-next-lexicographically-greater-permutation/"
   ]
  },
  {
   "cell_type": "code",
   "execution_count": 443,
   "id": "1cc88e2d",
   "metadata": {},
   "outputs": [
    {
     "name": "stdout",
     "output_type": "stream",
     "text": [
      "[3, 2, 1]\n",
      "[3, 2, 4, 1]\n"
     ]
    }
   ],
   "source": [
    "# brute force approach generate all the permutations and do linear search and return the ans\n",
    "# time: O(n!)\n",
    "# space: O(n)\n",
    "\n",
    "# optimal approach\n",
    "# find break point, find next greater element and swap ele, reverse other elements\n",
    "\n",
    "def nextPermuation(arr):\n",
    "    n = len(arr)\n",
    "    ind = -1\n",
    "    \n",
    "    # find break point\n",
    "    for i in range(n-2, -1, -1):\n",
    "        if arr[i] < arr[i+1]:\n",
    "            ind = i\n",
    "            break\n",
    "            \n",
    "    # if no break point then reverse list and return ans\n",
    "    if ind == -1:\n",
    "        arr.reverse()\n",
    "        return arr\n",
    "    \n",
    "    # find next greater element and swap the element\n",
    "    for i in range(n - 1, ind, -1):\n",
    "        if arr[i] > arr[ind]:\n",
    "            arr[i], arr[ind] = arr[ind], arr[i]\n",
    "            break\n",
    "    \n",
    "    # reverse the remaining element\n",
    "    arr[ind+1:] = reversed(arr[ind+1:])\n",
    "    \n",
    "    return arr\n",
    "\n",
    "print(nextPermuation([3,1,2]))\n",
    "print(nextPermuation([3,2,1,4]))\n",
    "\n",
    "# time: O(n)"
   ]
  },
  {
   "cell_type": "markdown",
   "id": "f5e671ff",
   "metadata": {},
   "source": [
    "# Array 2 "
   ]
  },
  {
   "cell_type": "markdown",
   "id": "5e00e0c2",
   "metadata": {},
   "source": [
    "### Rotate Matrix\n",
    "https://takeuforward.org/data-structure/rotate-image-by-90-degree/"
   ]
  },
  {
   "cell_type": "code",
   "execution_count": 254,
   "id": "2a640210",
   "metadata": {},
   "outputs": [
    {
     "name": "stdout",
     "output_type": "stream",
     "text": [
      "[[1, 4, 7], [2, 5, 8], [3, 6, 9]]\n"
     ]
    }
   ],
   "source": [
    "# brute force take dummy matrix, put 1 row in last column then 2 ... so on.\n",
    "# time n^2\n",
    "# space: n^2\n",
    "\n",
    "# optimal approach\n",
    "# first transpose and reverse each row\n",
    "def rotate_matrix(arr):\n",
    "    \n",
    "    # transpose the matrix\n",
    "    for i in range(0, len(arr)):\n",
    "        for j in range(i+1, len(arr[0])):\n",
    "            arr[i][j], arr[j][i] = arr[j][i], arr[i][j]\n",
    "    \n",
    "    # reverse each column\n",
    "    for i in range(0, len(arr)):\n",
    "        start = 0\n",
    "        end = len(arr[0]) - 1\n",
    "        while start > end:\n",
    "            arr[i][start], arr[i][end] = arr[i][end], arr[i][start]\n",
    "            start += 1\n",
    "            end -= 1\n",
    "    print(arr)\n",
    "    \n",
    "arr = [[1,2,3], [4,5,6], [7,8,9]]\n",
    "rotate_matrix(arr)\n",
    "# time: n^2\n",
    "# space: 1"
   ]
  },
  {
   "cell_type": "markdown",
   "id": "6bb1c832",
   "metadata": {},
   "source": [
    "### merge overlapping intervals\n",
    "https://takeuforward.org/data-structure/merge-overlapping-sub-intervals/"
   ]
  },
  {
   "cell_type": "code",
   "execution_count": 260,
   "id": "76fc351e",
   "metadata": {},
   "outputs": [
    {
     "name": "stdout",
     "output_type": "stream",
     "text": [
      "[[1, 6], [8, 10], [15, 18]]\n",
      "[[1, 5]]\n"
     ]
    }
   ],
   "source": [
    "# optimal approach\n",
    "def mergeInterval(arr):\n",
    "    sorted(arr, key = lambda x: x[1])\n",
    "    res = [arr[0]]\n",
    "    \n",
    "    for i in range(1, len(arr)):\n",
    "        if res[-1][1] >= arr[i][0]:\n",
    "            res[-1][1] = max(arr[i][1], res[-1][1])\n",
    "        else:\n",
    "            res.append(arr[i])\n",
    "    \n",
    "    return res\n",
    "print(mergeInterval([[1,3],[2,6],[8,10],[15,18]]))\n",
    "print(mergeInterval([[1,4], [4, 5]]))\n",
    "\n",
    "# time: O(N*logN) + O(N)\n",
    "# space: n"
   ]
  },
  {
   "cell_type": "markdown",
   "id": "b4d0f11e",
   "metadata": {},
   "source": [
    "### merge 2 sorted arrays without taking extra space\n",
    "https://takeuforward.org/data-structure/merge-two-sorted-arrays-without-extra-space/"
   ]
  },
  {
   "cell_type": "code",
   "execution_count": 262,
   "id": "0fca55c9",
   "metadata": {},
   "outputs": [
    {
     "name": "stdout",
     "output_type": "stream",
     "text": [
      "[1, 2, 3, 4] [8, 9, 10]\n"
     ]
    }
   ],
   "source": [
    "def merge2Arr(a, b):\n",
    "    ptr1 = len(a) - 1\n",
    "    ptr2 = 0\n",
    "    \n",
    "    while ptr2 < len(b) and ptr1 > -1:\n",
    "        if a[ptr1] > b[ptr2]:\n",
    "            a[ptr1], b[ptr2] = b[ptr2], a[ptr1]\n",
    "            ptr1 -= 1\n",
    "            ptr2 += 1\n",
    "        else:\n",
    "            ptr1 -= 1\n",
    "    \n",
    "    a.sort()\n",
    "    b.sort()\n",
    "    print(a, b)\n",
    "    \n",
    "merge2Arr([1, 4, 8, 10], [2,3,9])\n",
    "# time: nlogn + n\n",
    "# space: 1"
   ]
  },
  {
   "cell_type": "markdown",
   "id": "b28a1f92",
   "metadata": {},
   "source": [
    "### Repeat and missing number\n",
    "https://takeuforward.org/data-structure/find-the-repeating-and-missing-numbers/"
   ]
  },
  {
   "cell_type": "code",
   "execution_count": 306,
   "id": "6ae9dc5b",
   "metadata": {},
   "outputs": [
    {
     "data": {
      "text/plain": [
       "[1, 5]"
      ]
     },
     "execution_count": 306,
     "metadata": {},
     "output_type": "execute_result"
    }
   ],
   "source": [
    "# brute force using 2 loops\n",
    "# loop will i -> n and check the occurence of that val. time: n^2\n",
    "\n",
    "# better approach\n",
    "# use hashmap and check the freq with 0 and 2. time: n and space: n\n",
    "\n",
    "# optimal approach\n",
    "def findMissingRepeatingNumbers(a):\n",
    "    n = len(a)  # size of the array\n",
    "\n",
    "    # Find Sn and S2n:\n",
    "    SN = (n * (n + 1)) // 2\n",
    "    S2N = (n * (n + 1) * (2 * n + 1)) // 6\n",
    "\n",
    "    # Calculate S and S2:\n",
    "    S, S2 = 0, 0\n",
    "    for i in range(n):\n",
    "        S += a[i]\n",
    "        S2 += a[i] * a[i]\n",
    "\n",
    "    # S-Sn = X-Y:\n",
    "    val1 = S - SN\n",
    "\n",
    "    # S2-S2n = X^2-Y^2:\n",
    "    val2 = S2 - S2N\n",
    "\n",
    "    # Find X+Y = (X^2-Y^2)/(X-Y):\n",
    "    val2 = val2 // val1\n",
    "\n",
    "    # Find X and Y: X = ((X+Y)+(X-Y))/2 and Y = X-(X-Y),\n",
    "    # Here, X-Y = val1 and X+Y = val2:\n",
    "    x = (val1 + val2) // 2\n",
    "    y = x - val1\n",
    "\n",
    "    return [x, y]\n",
    "findMissingRepeatingNumbers([1,1,2,3,4])"
   ]
  },
  {
   "cell_type": "markdown",
   "id": "fa399978",
   "metadata": {},
   "source": [
    "### Count Inversion arr\n",
    "Inversion -> i & j < size of array and if i < j and arr[j] < arr[i]\n",
    "https://takeuforward.org/data-structure/count-inversions-in-an-array/"
   ]
  },
  {
   "cell_type": "code",
   "execution_count": 4,
   "id": "b3dadaca",
   "metadata": {},
   "outputs": [
    {
     "name": "stdout",
     "output_type": "stream",
     "text": [
      "7\n",
      "10\n",
      "0\n"
     ]
    }
   ],
   "source": [
    "# Brute force\n",
    "def countInversion(arr):\n",
    "    res = 0\n",
    "    \n",
    "    for i in range(0, len(arr)):\n",
    "        for j in range(i+1, len(arr)):\n",
    "            if arr[j] < arr[i]:\n",
    "                res += 1\n",
    "    \n",
    "    return res\n",
    "print(countInversion([5,3,2,1,4]))\n",
    "print(countInversion([5,4,3,2,1]))\n",
    "print(countInversion([1,2,3,4,5]))\n",
    "\n",
    "# time: n^2\n",
    "# space: 1"
   ]
  },
  {
   "cell_type": "code",
   "execution_count": 298,
   "id": "f5adebd3",
   "metadata": {},
   "outputs": [
    {
     "name": "stdout",
     "output_type": "stream",
     "text": [
      "10\n",
      "8\n",
      "0\n"
     ]
    }
   ],
   "source": [
    "# optimal approach (merge sort)\n",
    "def ciMerge(arr, low, mid, high):\n",
    "    temp = []\n",
    "    left = low\n",
    "    right = mid + 1\n",
    "    \n",
    "    cnt = 0\n",
    "    while left <= mid and right <= high:\n",
    "        if arr[left] <= arr[right]:\n",
    "            temp.append(arr[left])\n",
    "            left += 1\n",
    "        else:\n",
    "            temp.append(arr[right])\n",
    "            right += 1\n",
    "            cnt += mid - left + 1\n",
    "            \n",
    "    while left <= mid:\n",
    "        temp.append(arr[left])\n",
    "        left += 1\n",
    "    \n",
    "    while right <= high:\n",
    "        temp.append(arr[right])\n",
    "        right += 1\n",
    "    \n",
    "    for i in range(low, high+1):\n",
    "        arr[i] = temp[i - low]\n",
    "    return cnt\n",
    "\n",
    "def ciMergeSort(arr, low, high):\n",
    "    cnt = 0\n",
    "    if low >= high:\n",
    "        return cnt\n",
    "    mid = (low+high)//2\n",
    "    cnt += ciMergeSort(arr, low, mid)\n",
    "    cnt += ciMergeSort(arr, mid+1, high)\n",
    "    cnt += ciMerge(arr, low, mid, high)\n",
    "    return cnt\n",
    "\n",
    "\n",
    "def countInversion2(arr):\n",
    "    n = len(arr)\n",
    "    return ciMergeSort(arr, 0, n-1)\n",
    "print(countInversion2([5,4,3,2,1]))\n",
    "print(countInversion2([5,3,2,4,1]))\n",
    "print(countInversion2([1,2,3,4,5]))\n",
    "\n",
    "# time: n* logn\n",
    "# space: n"
   ]
  },
  {
   "cell_type": "markdown",
   "id": "0cee7b56",
   "metadata": {},
   "source": [
    "### Duplicate in arr of n+1 integers\n",
    "https://takeuforward.org/data-structure/find-the-duplicate-in-an-array-of-n1-integers/"
   ]
  },
  {
   "cell_type": "code",
   "execution_count": 305,
   "id": "92c5bff1",
   "metadata": {},
   "outputs": [
    {
     "data": {
      "text/plain": [
       "3"
      ]
     },
     "execution_count": 305,
     "metadata": {},
     "output_type": "execute_result"
    }
   ],
   "source": [
    "# brute force -> sort arr and traverse 1 -> n and check arr[i] == arr[i-1]; time: nlogn + n; space: 1\n",
    "# another approach -> with help of freqmap; time: N; space: N\n",
    "# optimal approach -> linked list cycle method; time: N; space: 1\n",
    "# this optimal approach will only work if there is duplicate element\n",
    "def dupElement(arr):\n",
    "    slow = arr[0]\n",
    "    fast = arr[0]\n",
    "    while True:\n",
    "        slow = arr[slow]\n",
    "        fast = arr[arr[fast]]\n",
    "        \n",
    "        if slow == fast:\n",
    "            break\n",
    "    \n",
    "    fast = arr[0]\n",
    "    while slow != fast:\n",
    "        slow = arr[slow]\n",
    "        fast = arr[fast]\n",
    "    return slow\n",
    "dupElement([1, 3, 4, 2, 3])"
   ]
  },
  {
   "cell_type": "markdown",
   "id": "4c374601",
   "metadata": {},
   "source": [
    "# Array 3"
   ]
  },
  {
   "cell_type": "markdown",
   "id": "0a48f26c",
   "metadata": {},
   "source": [
    "### search in sorted matrix\n",
    "https://takeuforward.org/data-structure/search-in-a-sorted-2d-matrix/"
   ]
  },
  {
   "cell_type": "code",
   "execution_count": 281,
   "id": "cac1b949",
   "metadata": {},
   "outputs": [
    {
     "data": {
      "text/plain": [
       "False"
      ]
     },
     "execution_count": 281,
     "metadata": {},
     "output_type": "execute_result"
    }
   ],
   "source": [
    "def searchMatrix(matrix, target):\n",
    "    n = len(matrix)\n",
    "    m = len(matrix[0])\n",
    "    \n",
    "    row = 0\n",
    "    while row < n:\n",
    "        if target <= matrix[row][-1]:\n",
    "            i = 0\n",
    "            j = m - 1\n",
    "            \n",
    "            while i < j:\n",
    "                mid = i+j//2\n",
    "                \n",
    "                if matrix[row][mid] == target:\n",
    "                    return True\n",
    "                elif matrix[row][mid] > target:\n",
    "                    i = mid + 1\n",
    "                else:\n",
    "                    j = mid - 1\n",
    "            break\n",
    "        else:\n",
    "            row += 1\n",
    "    return False\n",
    "\n",
    "searchMatrix([[1,3,5,7], [10,11,16,20], [23,30,34,60]], 35)\n",
    "\n",
    "# time: n + log m (n = no of rows and m = no of cols)"
   ]
  },
  {
   "cell_type": "code",
   "execution_count": 294,
   "id": "521a4f3c",
   "metadata": {},
   "outputs": [
    {
     "data": {
      "text/plain": [
       "True"
      ]
     },
     "execution_count": 294,
     "metadata": {},
     "output_type": "execute_result"
    }
   ],
   "source": [
    "# optimal approach\n",
    "# Consider the 2D matrix as a 1D matrix having indices from 0 to (m*n)-1 and apply binary search\n",
    "\n",
    "def searchMatrix2(matrix, target):\n",
    "    n = len(matrix)\n",
    "    m = len(matrix[0])\n",
    "    lo = 0\n",
    "    hi = (len(matrix[0]) * len(matrix)) - 1\n",
    "    \n",
    "    while lo <= hi:\n",
    "        mid = (lo + (hi-lo) //2)\n",
    "#         mid = (lo + hi) // 2\n",
    "#         print(mid)\n",
    "        if matrix[mid//m][mid%m] == target:\n",
    "            return True\n",
    "        elif matrix[mid//m][mid%m] > target:\n",
    "            hi = mid - 1\n",
    "        else:\n",
    "            lo = mid + 1\n",
    "        \n",
    "    return False\n",
    "searchMatrix2([[1,3,5,7], [10,11,16,20], [23,30,34,60]], 3)\n",
    "\n",
    "# time: log(m * n)"
   ]
  },
  {
   "cell_type": "markdown",
   "id": "aa90fd34",
   "metadata": {},
   "source": [
    "### Count Reverse Pairs\n",
    "https://takeuforward.org/data-structure/count-reverse-pairs/"
   ]
  },
  {
   "cell_type": "code",
   "execution_count": 304,
   "id": "e599c5de",
   "metadata": {},
   "outputs": [
    {
     "data": {
      "text/plain": [
       "2"
      ]
     },
     "execution_count": 304,
     "metadata": {},
     "output_type": "execute_result"
    }
   ],
   "source": [
    "def crMerge(arr, low, mid, high):\n",
    "    temp = []\n",
    "    left = low\n",
    "    right = mid + 1\n",
    "    while left <= mid and right<=high:\n",
    "        if arr[left] <= arr[right]:\n",
    "            temp.append(arr[left])\n",
    "            left += 1\n",
    "        else:\n",
    "            temp.append(arr[right])\n",
    "            right += 1\n",
    "            \n",
    "    while left <= mid:\n",
    "        temp.append(arr[left])\n",
    "        left += 1\n",
    "    \n",
    "    while right <= high:\n",
    "        temp.append(arr[right])\n",
    "        right += 1\n",
    "        \n",
    "    for i in range(low, high+1):\n",
    "        arr[i] = temp[i - low]\n",
    "    return\n",
    "\n",
    "def countPairs(arr, low, mid, high):\n",
    "    right = mid+1\n",
    "    cnt = 0\n",
    "    for i in range(low, mid+1):\n",
    "        while right <= high and arr[i] > 2 * arr[right]:\n",
    "            right += 1\n",
    "        cnt += (right - (mid+1))\n",
    "    return cnt\n",
    "        \n",
    "\n",
    "def crMergeSort(arr, low, high):\n",
    "    cnt = 0\n",
    "    if low >= high:\n",
    "        return cnt\n",
    "    mid = (high+low)//2\n",
    "    cnt += crMergeSort(arr, low, mid)\n",
    "    cnt += crMergeSort(arr, mid+1, high)\n",
    "    cnt += countPairs(arr, low, mid, high)\n",
    "    crMerge(arr, low, mid, high)\n",
    "    return cnt\n",
    "\n",
    "def countReversepairs(arr):\n",
    "    n = len(arr) - 1\n",
    "    return crMergeSort(arr, 0, n)\n",
    "\n",
    "countReversepairs([3,2,4,1])"
   ]
  },
  {
   "cell_type": "markdown",
   "id": "44114e02",
   "metadata": {},
   "source": [
    "### Element occur more than n/2 time\n",
    "https://takeuforward.org/data-structure/find-the-majority-element-that-occurs-more-than-n-2-times/"
   ]
  },
  {
   "cell_type": "code",
   "execution_count": 309,
   "id": "ed1ae92e",
   "metadata": {},
   "outputs": [
    {
     "data": {
      "text/plain": [
       "4"
      ]
     },
     "execution_count": 309,
     "metadata": {},
     "output_type": "execute_result"
    }
   ],
   "source": [
    "# better approach; use hashing and check; time: n; space: n;\n",
    "# optimal approach (morre's voting algorithm); time: n; space: 1;\n",
    "def majority2(arr):\n",
    "    ele = None\n",
    "    count = 0\n",
    "    n = len(arr)\n",
    "    for i in range(0, n):\n",
    "        if count == 0:\n",
    "            ele = arr[i]\n",
    "            count = 1\n",
    "        elif arr[i] == ele:\n",
    "            count += 1\n",
    "        else:\n",
    "            count -= 1\n",
    "    \n",
    "    count = 0\n",
    "    for i in range(0, n):\n",
    "        if arr[i] == ele:\n",
    "            count += 1\n",
    "    if count > n//2:\n",
    "        return ele\n",
    "    return -1\n",
    "majority2([4,4,2,4,3,4,4,3,2,4])"
   ]
  },
  {
   "cell_type": "markdown",
   "id": "290e9963",
   "metadata": {},
   "source": [
    "### Element occur more than n/3 times\n",
    "https://takeuforward.org/data-structure/majority-elementsn-3-times-find-the-elements-that-appears-more-than-n-3-times-in-the-array/"
   ]
  },
  {
   "cell_type": "code",
   "execution_count": 310,
   "id": "8face492",
   "metadata": {},
   "outputs": [
    {
     "name": "stdout",
     "output_type": "stream",
     "text": [
      "[2]\n",
      "[11, 33]\n"
     ]
    }
   ],
   "source": [
    "# better approach; use hashing and check; time: n; space: n;\n",
    "# optimal approach (modified morre's voting algorithm); time: n; space: 1;\n",
    "def majority3(arr):\n",
    "    ele1, ele2 = None, None\n",
    "    count1, count2 = 0, 0\n",
    "    n = len(arr)\n",
    "    \n",
    "    for i in range(0, n):\n",
    "        if count1 == 0 and arr[i] != ele2:\n",
    "            ele1 = arr[i]\n",
    "            count1 = 1\n",
    "        elif count2 == 0 and arr[i] != ele1:\n",
    "            ele2 = arr[i]\n",
    "            count2 = 1\n",
    "        elif arr[i] == ele1:\n",
    "            count1 += 1\n",
    "        elif arr[i] == ele2:\n",
    "            count2 += 1\n",
    "        else:\n",
    "            count1 -= 1\n",
    "            count2 -= 1\n",
    "    \n",
    "    count1, count2 = 0, 0\n",
    "    \n",
    "    for i in range(n):\n",
    "        if arr[i] == ele1:\n",
    "            count1 += 1\n",
    "        elif arr[i] == ele2:\n",
    "            count2 += 1\n",
    "    ls = []\n",
    "    \n",
    "    if count1 > n//3:\n",
    "        ls.append(ele1)\n",
    "    \n",
    "    if count2 > n//3:\n",
    "        ls.append(ele2)\n",
    "    \n",
    "    return ls\n",
    "\n",
    "print(majority3([1,2,2,3,2]))\n",
    "print(majority3([11,33,33,11,33,11]))"
   ]
  },
  {
   "cell_type": "markdown",
   "id": "0900d48b",
   "metadata": {},
   "source": [
    "### count grid unique path\n",
    "https://takeuforward.org/data-structure/grid-unique-paths-count-paths-from-left-top-to-the-right-bottom-of-a-matrix/"
   ]
  },
  {
   "cell_type": "code",
   "execution_count": 333,
   "id": "5de7f123",
   "metadata": {},
   "outputs": [
    {
     "name": "stdout",
     "output_type": "stream",
     "text": [
      "6\n"
     ]
    }
   ],
   "source": [
    "def countGridpath(n, m):\n",
    "    res = 0\n",
    "    \n",
    "    def helper(row, col):\n",
    "        nonlocal res\n",
    "        if row == n - 1 and col == m - 1:\n",
    "            res += 1\n",
    "            return\n",
    "        if row > n or col > n:\n",
    "            return\n",
    "        \n",
    "        helper(row + 1, col)\n",
    "        helper(row, col + 1)\n",
    "        \n",
    "    helper(0, 0)\n",
    "    return res\n",
    "print(countGridpath(3, 3))\n",
    "\n",
    "# different style code\n",
    "def uniquePaths(self, m: int, n: int) -> int:\n",
    "    def countPaths(i, j, n, m):\n",
    "        if i == (n - 1) and j == (m - 1):\n",
    "            return 1\n",
    "        if i >= n or j >= m:\n",
    "            return 0\n",
    "        else:\n",
    "            return countPaths(i + 1, j, n, m) + countPaths(i, j + 1, n, m)\n",
    "\n",
    "\n",
    "    return countPaths(0, 0, m, n)\n",
    "# time: 2N\n",
    "# space: 2N"
   ]
  },
  {
   "cell_type": "code",
   "execution_count": 335,
   "id": "42b78095",
   "metadata": {},
   "outputs": [
    {
     "data": {
      "text/plain": [
       "28"
      ]
     },
     "execution_count": 335,
     "metadata": {},
     "output_type": "execute_result"
    }
   ],
   "source": [
    "# dynamic programming soln\n",
    "# we will traverse from last\n",
    "def countGridDP(n, m):\n",
    "    dp = [[-1] * (m+1)] * (n+1)\n",
    "    for i in range(n-1, -1, -1):\n",
    "        for j in range(m-1, -1, -1):\n",
    "            if i == n-1 or j == m-1:\n",
    "                dp[i][j] = 1\n",
    "            else:\n",
    "                dp[i][j] = dp[i][j+1] + dp[i+1][j]\n",
    "    return dp[0][0]\n",
    "countGridDP(3, 7)\n",
    "\n",
    "# time: n * m\n",
    "# space: n * m"
   ]
  },
  {
   "cell_type": "code",
   "execution_count": 337,
   "id": "6441693c",
   "metadata": {},
   "outputs": [],
   "source": [
    "# combinatric solution\n",
    "def uniquePaths(self, m: int, n: int) -> int:\n",
    "    N = n + m - 2\n",
    "    r = m - 1\n",
    "    res = 1\n",
    "    for i in range(1, r + 1):\n",
    "        res = res * (N - r + i) / i\n",
    "    return int(res)\n",
    "# time: n-1 or m-1 (depanding on the formula)\n",
    "# space: 1"
   ]
  },
  {
   "cell_type": "markdown",
   "id": "1d56c518",
   "metadata": {},
   "source": [
    "### x raise to the power n\n",
    "https://takeuforward.org/data-structure/implement-powxn-x-raised-to-the-power-n/"
   ]
  },
  {
   "cell_type": "code",
   "execution_count": 444,
   "id": "6cd602de",
   "metadata": {},
   "outputs": [
    {
     "data": {
      "text/plain": [
       "8.0"
      ]
     },
     "execution_count": 444,
     "metadata": {},
     "output_type": "execute_result"
    }
   ],
   "source": [
    "# brute force; time: n; space: 1;\n",
    "def myPow(x, n):\n",
    "    ans = 1.0\n",
    "    for i in range(n):\n",
    "        ans = ans * x\n",
    "    return ans\n",
    "myPow(2, 3)"
   ]
  },
  {
   "cell_type": "code",
   "execution_count": 355,
   "id": "7d5b2f1d",
   "metadata": {},
   "outputs": [
    {
     "data": {
      "text/plain": [
       "1.8446744073709552e+19"
      ]
     },
     "execution_count": 355,
     "metadata": {},
     "output_type": "execute_result"
    }
   ],
   "source": [
    "# optimal approach: binary exponential; time: logn; space: 1\n",
    "def myPow2(x, n):\n",
    "    ans = 1.0\n",
    "    nn = n\n",
    "    if nn < 0:\n",
    "        nn = -1 * nn\n",
    "    while nn:\n",
    "        if nn % 2 == 1:\n",
    "            ans = ans * x\n",
    "            nn = nn - 1\n",
    "        else:\n",
    "            x = x * x\n",
    "            nn = nn // 2\n",
    "    if n < 0:\n",
    "        ans = 1.0/ans\n",
    "    return ans\n",
    "myPow2(4,32)"
   ]
  },
  {
   "cell_type": "code",
   "execution_count": 342,
   "id": "de04ddc1",
   "metadata": {},
   "outputs": [
    {
     "data": {
      "text/plain": [
       "16.0"
      ]
     },
     "execution_count": 342,
     "metadata": {},
     "output_type": "execute_result"
    }
   ],
   "source": [
    "myPow2(2, 4)"
   ]
  },
  {
   "cell_type": "markdown",
   "id": "00d484aa",
   "metadata": {},
   "source": [
    "# Array 4 "
   ]
  },
  {
   "cell_type": "markdown",
   "id": "ffb6b962",
   "metadata": {},
   "source": [
    "### Longest subarray with zero sum\n",
    "https://takeuforward.org/data-structure/length-of-the-longest-subarray-with-zero-sum/"
   ]
  },
  {
   "cell_type": "code",
   "execution_count": 358,
   "id": "22e02154",
   "metadata": {},
   "outputs": [
    {
     "data": {
      "text/plain": [
       "5"
      ]
     },
     "execution_count": 358,
     "metadata": {},
     "output_type": "execute_result"
    }
   ],
   "source": [
    "# brute force approach two loops and find sum; time: n2; space: 1;\n",
    "# optimal approach hashing and prefix sum; time: n and space: n\n",
    "def longestSubZeroSum(arr):\n",
    "    cumsum=0\n",
    "    hashmap = {0:-1}\n",
    "    res = -1\n",
    "    for i in range(0, len(arr)):\n",
    "        cumsum += arr[i]\n",
    "        if cumsum not in hashmap:\n",
    "            hashmap[cumsum] = i\n",
    "        else:\n",
    "            curr = i - hashmap[cumsum]\n",
    "            res = max(res, curr)\n",
    "    return res\n",
    "longestSubZeroSum([9, -3, 3, -1, 6, -5])"
   ]
  },
  {
   "cell_type": "markdown",
   "id": "336468ef",
   "metadata": {},
   "source": [
    "### longest consecutive sequence in array\n",
    "https://takeuforward.org/data-structure/longest-consecutive-sequence-in-an-array/ "
   ]
  },
  {
   "cell_type": "code",
   "execution_count": 361,
   "id": "d73ac244",
   "metadata": {},
   "outputs": [
    {
     "data": {
      "text/plain": [
       "4"
      ]
     },
     "execution_count": 361,
     "metadata": {},
     "output_type": "execute_result"
    }
   ],
   "source": [
    "# brute force using 2 loops\n",
    "# better approach use sorting and iterate the element and update count variable\n",
    "\n",
    "def longConSeq(arr):\n",
    "    arr.sort()\n",
    "    \n",
    "    cnt = 1\n",
    "    res = 1\n",
    "    for i in range(len(arr) - 1):\n",
    "        if arr[i] + 1 != arr[i+1]:\n",
    "            res = max(res, cnt)\n",
    "            cnt = 1\n",
    "        else:\n",
    "            cnt += 1\n",
    "    return res\n",
    "\n",
    "longConSeq([100, 200, 8, 6, 7, 5])\n",
    "# time: nlogn + n\n",
    "# space: 1"
   ]
  },
  {
   "cell_type": "code",
   "execution_count": 363,
   "id": "3df6ba0d",
   "metadata": {},
   "outputs": [
    {
     "data": {
      "text/plain": [
       "4"
      ]
     },
     "execution_count": 363,
     "metadata": {},
     "output_type": "execute_result"
    }
   ],
   "source": [
    "# optimal approach we will use brute force with set datastructure and check only for cons starting ele\n",
    "def longConSeq2(arr):\n",
    "    res = 1\n",
    "    hashset = set()\n",
    "    for i in range(0, len(arr)):\n",
    "        hashset.add(arr[i])\n",
    "    \n",
    "    for ele in hashset:\n",
    "        if ele - 1 not in hashset:\n",
    "            cnt = 1\n",
    "            while ele + 1 in hashset:\n",
    "                ele += 1\n",
    "                cnt += 1\n",
    "            \n",
    "            res = max(res, cnt)\n",
    "    return res\n",
    "longConSeq2([100, 200, 8, 6, 7, 5])\n",
    "\n",
    "# time: n\n",
    "# space: n"
   ]
  },
  {
   "cell_type": "code",
   "execution_count": 364,
   "id": "fd92940f",
   "metadata": {},
   "outputs": [],
   "source": [
    "a =set([1,2,3])"
   ]
  },
  {
   "cell_type": "markdown",
   "id": "278edf10",
   "metadata": {},
   "source": [
    "### Substring without repeating any character\n",
    "https://takeuforward.org/data-structure/length-of-longest-substring-without-any-repeating-character/"
   ]
  },
  {
   "cell_type": "code",
   "execution_count": 371,
   "id": "37e9a2f8",
   "metadata": {},
   "outputs": [
    {
     "data": {
      "text/plain": [
       "4"
      ]
     },
     "execution_count": 371,
     "metadata": {},
     "output_type": "execute_result"
    }
   ],
   "source": [
    "def solve(string):\n",
    "    if len(string) == 0:\n",
    "        return 0\n",
    "    maxans = float(\"-inf\")\n",
    "    setx = set()\n",
    "    l = -1\n",
    "    for r in range(len(string)):  # outer loop for traversing the string\n",
    "        if string[r] in setx:  # if duplicate element is found\n",
    "            while l < r and string[r] in setx:\n",
    "                setx.remove(string[l])\n",
    "                l += 1\n",
    "        setx.add(string[r])\n",
    "        maxans = max(maxans, r - l)\n",
    "    return maxans\n",
    "solve(\"abcdabc\")\n",
    "\n",
    "# time: N\n",
    "# space: N"
   ]
  },
  {
   "cell_type": "markdown",
   "id": "a6d76fbe",
   "metadata": {},
   "source": [
    "### 2 Sum\n",
    "https://takeuforward.org/data-structure/two-sum-check-if-a-pair-with-given-sum-exists-in-array/"
   ]
  },
  {
   "cell_type": "code",
   "execution_count": 376,
   "id": "3b4e8867",
   "metadata": {},
   "outputs": [
    {
     "data": {
      "text/plain": [
       "True"
      ]
     },
     "execution_count": 376,
     "metadata": {},
     "output_type": "execute_result"
    }
   ],
   "source": [
    "# variant 1 -> return yes or no output\n",
    "def sum2(arr, target):\n",
    "    arr.sort()\n",
    "    l = 0\n",
    "    r = len(arr) - 1\n",
    "    \n",
    "    while l < r:\n",
    "        curr = arr[l] + arr[r]\n",
    "        if curr == target:\n",
    "            return True\n",
    "        elif curr > target:\n",
    "            r -= 1\n",
    "        else:\n",
    "            l += 1\n",
    "    return False\n",
    "sum2([2,4,1,8,9], 10)\n",
    "# time: nlogn\n",
    "# space: n"
   ]
  },
  {
   "cell_type": "code",
   "execution_count": 382,
   "id": "9babc79b",
   "metadata": {},
   "outputs": [
    {
     "data": {
      "text/plain": [
       "[0, 3]"
      ]
     },
     "execution_count": 382,
     "metadata": {},
     "output_type": "execute_result"
    }
   ],
   "source": [
    "# variant 2 -> return indices of given sum, for returning indices we cannot sort\n",
    "# so in this we will use the hashset\n",
    "\n",
    "def sum22(arr, target):\n",
    "    hashmap = {}\n",
    "    ans = [0] * 2\n",
    "    for i in range(0, len(arr)):\n",
    "        needed = target - arr[i]\n",
    "        if needed in hashmap:\n",
    "            ans[0] = hashmap[needed]\n",
    "            ans[1] = i\n",
    "            return ans\n",
    "        hashmap[arr[i]] = i\n",
    "    return ans\n",
    "sum22([2,4,1,8,9], 10)\n",
    "# time: N\n",
    "# space: N"
   ]
  },
  {
   "cell_type": "markdown",
   "id": "74ff3e91",
   "metadata": {},
   "source": [
    "### 3 Sum\n",
    "https://takeuforward.org/data-structure/3-sum-find-triplets-that-add-up-to-a-zero/"
   ]
  },
  {
   "cell_type": "code",
   "execution_count": 384,
   "id": "dd7c864d",
   "metadata": {},
   "outputs": [
    {
     "data": {
      "text/plain": [
       "[[-1, -1, 2], [-1, 0, 1]]"
      ]
     },
     "execution_count": 384,
     "metadata": {},
     "output_type": "execute_result"
    }
   ],
   "source": [
    "# optimal approach; two pointer;\n",
    "def sum3(arr):\n",
    "    ans = []\n",
    "    arr.sort()\n",
    "    for i in range(0, len(arr)-2):\n",
    "        if i != 0 and arr[i] == arr[i-1]:\n",
    "            continue\n",
    "        j = i + 1\n",
    "        k = len(arr) - 1\n",
    "        while j < k:\n",
    "            total_sum = arr[i] + arr[j] + arr[k]\n",
    "            if total_sum == 0:\n",
    "                ans.append([arr[i], arr[j], arr[k]])\n",
    "                j += 1\n",
    "                k -= 1\n",
    "                while j < k and arr[j] == arr[j-1]:\n",
    "                    j += 1\n",
    "                while j < k and arr[k] == arr[k+1]:\n",
    "                    k -= 1\n",
    "            elif total_sum > 0:\n",
    "                k -= 1\n",
    "            else:\n",
    "                j += 1\n",
    "    return ans\n",
    "        \n",
    "sum3([-1, 0, 1, 2, -1, -4])\n",
    "\n",
    "# time: n2 + nlogn\n",
    "# space: 1 because we are not using extra space to solve this problem; we are just using ans list"
   ]
  },
  {
   "cell_type": "code",
   "execution_count": 391,
   "id": "216a27b5",
   "metadata": {},
   "outputs": [
    {
     "data": {
      "text/plain": [
       "[(-1, 0, 1), (-1, -1, 2)]"
      ]
     },
     "execution_count": 391,
     "metadata": {},
     "output_type": "execute_result"
    }
   ],
   "source": [
    "# better approach; hashset\n",
    "def sum32(arr):\n",
    "    st = set()\n",
    "    \n",
    "    for i in range(0, len(arr)):\n",
    "        hashset = set()\n",
    "        for j in range(i+1, len(arr)):\n",
    "            third = -(arr[i] + arr[j])\n",
    "            \n",
    "            if third in hashset:\n",
    "                temp = [arr[i], arr[j], third]\n",
    "                temp.sort()\n",
    "                st.add(tuple(temp))\n",
    "            hashset.add(arr[j])\n",
    "    return list(st)\n",
    "sum32([-1, 0, 1, 2, -1, -4])\n",
    "\n",
    "# time: n2 * logn\n",
    "# space: n"
   ]
  },
  {
   "cell_type": "markdown",
   "id": "7b9fd21b",
   "metadata": {},
   "source": [
    "### sum4\n",
    "https://takeuforward.org/data-structure/4-sum-find-quads-that-add-up-to-a-target-value/"
   ]
  },
  {
   "cell_type": "code",
   "execution_count": 398,
   "id": "0e958be4",
   "metadata": {},
   "outputs": [
    {
     "data": {
      "text/plain": [
       "[(1, 2, 2, 4), (1, 2, 3, 3), (1, 1, 3, 4)]"
      ]
     },
     "execution_count": 398,
     "metadata": {},
     "output_type": "execute_result"
    }
   ],
   "source": [
    "# better approach using 3 loops and set data structure\n",
    "def sum42(arr, target):\n",
    "    n = len(arr)\n",
    "    st = set()\n",
    "    \n",
    "    for i in range(n):\n",
    "        for j in range(i+1, n):\n",
    "            hashset = set()\n",
    "            for k in range(j+1, n):\n",
    "                val = arr[i] + arr[j] + arr[k]\n",
    "                forth = target - val\n",
    "                if forth in hashset:\n",
    "                    temp = [arr[i], arr[j], arr[k], forth]\n",
    "                    temp.sort()\n",
    "                    st.add(tuple(temp))\n",
    "                hashset.add(arr[k])\n",
    "    return list(st)\n",
    "sum42([4, 3, 3, 4, 4, 2, 1, 2, 1, 1], 9)"
   ]
  },
  {
   "cell_type": "code",
   "execution_count": 395,
   "id": "84e21c8f",
   "metadata": {},
   "outputs": [
    {
     "data": {
      "text/plain": [
       "[[1, 1, 3, 4], [1, 2, 2, 4], [1, 2, 3, 3]]"
      ]
     },
     "execution_count": 395,
     "metadata": {},
     "output_type": "execute_result"
    }
   ],
   "source": [
    "# optimal approach using 2 loops and 2 ptr technique\n",
    "def sum4(arr, target):\n",
    "    arr.sort()\n",
    "    ans = []\n",
    "    for i in range(0, len(arr)):\n",
    "        if i != 0 and arr[i] == arr[i-1]:\n",
    "            continue\n",
    "        for j in range(i+1, len(arr)):\n",
    "            if j != i+1 and arr[j] == arr[j-1]:\n",
    "                continue\n",
    "            \n",
    "            k = j + 1\n",
    "            l = len(arr) - 1\n",
    "            \n",
    "            while k < l:\n",
    "                val = arr[i] + arr[j] + arr[k] + arr[l]\n",
    "                if val == target:\n",
    "                    ans.append([arr[i], arr[j], arr[k], arr[l]])\n",
    "                    k += 1\n",
    "                    l -= 1\n",
    "                    while k < l and arr[k] == arr[k-1]:\n",
    "                        k += 1\n",
    "                    while k < l and arr[l] == arr[l+1]:\n",
    "                        l -= 1\n",
    "                elif val > target:\n",
    "                    l -= 1\n",
    "                else:\n",
    "                    k += 1\n",
    "    return ans\n",
    "\n",
    "sum4([4, 3, 3, 4, 4, 2, 1, 2, 1, 1], 9)\n",
    "\n",
    "# time: n3\n",
    "# space: 1 (only space we are using is to store ans)"
   ]
  },
  {
   "cell_type": "markdown",
   "id": "6f6dbdd9",
   "metadata": {},
   "source": [
    "### Maximum consecutive 1's in an arr\n",
    "https://takeuforward.org/data-structure/count-maximum-consecutive-ones-in-the-array/"
   ]
  },
  {
   "cell_type": "code",
   "execution_count": 401,
   "id": "58b5d1c7",
   "metadata": {},
   "outputs": [
    {
     "data": {
      "text/plain": [
       "3"
      ]
     },
     "execution_count": 401,
     "metadata": {},
     "output_type": "execute_result"
    }
   ],
   "source": [
    "def maxOne(arr):\n",
    "    res = -1\n",
    "    cnt = 0\n",
    "    for i in range(len(arr)):\n",
    "        if arr[i] == 1:\n",
    "            cnt += 1\n",
    "        else:\n",
    "            cnt = 0\n",
    "        res = max(res, cnt)\n",
    "    return res\n",
    "maxOne([1, 1, 0, 1, 1, 1])\n",
    "\n",
    "# time: n\n",
    "# space: 1"
   ]
  },
  {
   "cell_type": "markdown",
   "id": "6bff66f2",
   "metadata": {},
   "source": [
    "### remove duplicate from sorted array\n",
    "https://takeuforward.org/data-structure/remove-duplicates-in-place-from-sorted-array/"
   ]
  },
  {
   "cell_type": "code",
   "execution_count": 408,
   "id": "afe2cb42",
   "metadata": {},
   "outputs": [
    {
     "data": {
      "text/plain": [
       "[1, 2, 3, 1, 2, 1]"
      ]
     },
     "execution_count": 408,
     "metadata": {},
     "output_type": "execute_result"
    }
   ],
   "source": [
    "def removeDup(arr):\n",
    "    j = 0\n",
    "    for i in range(1, len(arr)):\n",
    "        if arr[i] != arr[j]:\n",
    "            j += 1\n",
    "            arr[i], arr[j] = arr[j], arr[i]\n",
    "    return arr\n",
    "removeDup([1,1,1,2,2,3])\n",
    "# time: N\n",
    "# space: 1"
   ]
  },
  {
   "cell_type": "markdown",
   "id": "782e034e",
   "metadata": {},
   "source": [
    "### Trapping rainwater\n",
    "https://takeuforward.org/data-structure/trapping-rainwater/"
   ]
  },
  {
   "cell_type": "code",
   "execution_count": 428,
   "id": "d70a4adb",
   "metadata": {},
   "outputs": [
    {
     "data": {
      "text/plain": [
       "6"
      ]
     },
     "execution_count": 428,
     "metadata": {},
     "output_type": "execute_result"
    }
   ],
   "source": [
    "def trapWater(num):\n",
    "    n = len(num)\n",
    "    prefix = [0] * len(num)\n",
    "    suffix = [0] * len(num)\n",
    "    prefix[0] = num[0]\n",
    "    for i in range(1, len(num)):\n",
    "        prefix[i] = max(num[i], prefix[i-1])\n",
    "        \n",
    "    suffix[n-1] = num[-1]\n",
    "    for i in range(n-2,-1, -1):\n",
    "        suffix[i] = max(suffix[i+1], num[i])\n",
    "    waterTrapped = 0\n",
    "    for i in range(0, n):\n",
    "        waterTrapped += min(suffix[i], prefix[i]) - num[i]\n",
    "    return waterTrapped\n",
    "\n",
    "trapWater([0, 1, 0, 2, 1, 0, 1, 3, 2, 1, 2, 1])    \n",
    "# time: n + n + n = n\n",
    "# space: n + n = n"
   ]
  },
  {
   "cell_type": "markdown",
   "id": "184c8f10",
   "metadata": {},
   "source": [
    "### Clone linked list random pointer\n",
    "https://takeuforward.org/data-structure/clone-linked-list-with-random-and-next-pointer/"
   ]
  },
  {
   "cell_type": "code",
   "execution_count": 440,
   "id": "dd598b8f",
   "metadata": {},
   "outputs": [],
   "source": [
    "class RLinkedlist:\n",
    "    def __init__(self, data):\n",
    "        self.data = data\n",
    "        self.next = None\n",
    "        self.random = None\n",
    "        \n",
    "rl = RLinkedlist(1)\n",
    "rl.next = RLinkedlist(2)\n",
    "rl.next.next = RLinkedlist(3)\n",
    "rl.next.next.next = RLinkedlist(4)\n",
    "rl.next.next.next.next = RLinkedlist(5)\n",
    "rl.random = rl.next.next.next\n",
    "rl.next.random = rl\n",
    "rl.next.next.next.random = rl.next.next\n",
    "rl.next.next.next.next.random = rl.next"
   ]
  },
  {
   "cell_type": "code",
   "execution_count": 437,
   "id": "3b3e1e0b",
   "metadata": {},
   "outputs": [],
   "source": [
    "def cloneLL(head):\n",
    "    hashmap = {}\n",
    "    temp = head\n",
    "    \n",
    "    while temp:\n",
    "        new_node = RLinkedlist(temp.data)\n",
    "        hashmap[temp.data] = new_node\n",
    "        temp = temp.next\n",
    "    \n",
    "    temp = head\n",
    "    while temp:\n",
    "        node = hashmap[temp.data]\n",
    "        node.next = temp.next\n",
    "        node.random = temp.random\n",
    "        \n",
    "        temp = temp.next\n",
    "    \n",
    "    return hashmap[head.data]\n",
    "\n",
    "nrl = cloneLL(rl)\n",
    "# time: n\n",
    "# space: n"
   ]
  },
  {
   "cell_type": "code",
   "execution_count": 441,
   "id": "ee7a6ce3",
   "metadata": {},
   "outputs": [],
   "source": [
    "# approach add new node to the next of original node\n",
    "# 1-2-3-4 ==> 1-1-2-2-3-3-4-4\n",
    "\n",
    "def cloneLL2(head):\n",
    "    temp = head\n",
    "    \n",
    "    while temp:\n",
    "        new_node = RLinkedlist(temp.data)\n",
    "        nextt = temp.next\n",
    "        temp.next = new_node\n",
    "        new_node.next = nextt\n",
    "        temp = nextt\n",
    "    \n",
    "    # assign random to temp.next\n",
    "    temp = head\n",
    "    while temp:\n",
    "        if temp and temp.random and temp.next.random == None:\n",
    "            temp.next.random = temp.random.next\n",
    "        temp = temp.next.next\n",
    "    \n",
    "    head = head.next\n",
    "    temp = head\n",
    "    while temp.next:\n",
    "        temp.next = temp.next.next\n",
    "        temp = temp.next\n",
    "    return head\n",
    "nrl2 = cloneLL2(rl)\n",
    "    \n",
    "# time: n\n",
    "# space: 1"
   ]
  },
  {
   "cell_type": "code",
   "execution_count": null,
   "id": "261a6b89",
   "metadata": {},
   "outputs": [],
   "source": []
  },
  {
   "cell_type": "code",
   "execution_count": null,
   "id": "cb1fe79f",
   "metadata": {},
   "outputs": [],
   "source": []
  },
  {
   "cell_type": "markdown",
   "id": "b2c8010d",
   "metadata": {},
   "source": [
    "# Binary Tree "
   ]
  },
  {
   "cell_type": "code",
   "execution_count": 36,
   "id": "7558215b",
   "metadata": {},
   "outputs": [],
   "source": [
    "class Tree:\n",
    "    def __init__(self, data):\n",
    "        self.data = data\n",
    "        self.left = None\n",
    "        self.right = None\n",
    "\n",
    "t1 = Tree(5)\n",
    "t1.left = Tree(4)\n",
    "t1.left.left = Tree(2)\n",
    "t1.left.right = Tree(6)\n",
    "t1.right = Tree(7)\n",
    "t1.right.left = Tree(8)\n",
    "t1.right.right = Tree(9)"
   ]
  },
  {
   "cell_type": "markdown",
   "id": "fbd26a10",
   "metadata": {},
   "source": [
    "### Inorder Traversal\n",
    "https://takeuforward.org/data-structure/inorder-traversal-of-binary-tree/"
   ]
  },
  {
   "cell_type": "code",
   "execution_count": 9,
   "id": "85d1b528",
   "metadata": {},
   "outputs": [
    {
     "name": "stdout",
     "output_type": "stream",
     "text": [
      "2 4 6 5 8 7 9 "
     ]
    }
   ],
   "source": [
    "def inorder(root):\n",
    "    if not root:\n",
    "        return\n",
    "    inorder(root.left)\n",
    "    print(root.data, end = ' ')\n",
    "    inorder(root.right)\n",
    "inorder(t1)\n",
    "\n",
    "# time: n\n",
    "# space: n for recursion stack"
   ]
  },
  {
   "cell_type": "code",
   "execution_count": null,
   "id": "5f885d4a",
   "metadata": {},
   "outputs": [],
   "source": []
  },
  {
   "cell_type": "markdown",
   "id": "63d20d8d",
   "metadata": {},
   "source": [
    "### Morris inorder Traversal \n",
    "https://takeuforward.org/data-structure/morris-inorder-traversal-of-a-binary-tree/"
   ]
  },
  {
   "cell_type": "code",
   "execution_count": 23,
   "id": "49a94d44",
   "metadata": {},
   "outputs": [
    {
     "data": {
      "text/plain": [
       "[2, 4, 6, 5, 8, 7, 9]"
      ]
     },
     "execution_count": 23,
     "metadata": {},
     "output_type": "execute_result"
    }
   ],
   "source": [
    "def morris_inorder_traversal(root):\n",
    "    inorder = []\n",
    "    cur = root\n",
    "\n",
    "    while cur is not None:\n",
    "        if cur.left is None:\n",
    "            inorder.append(cur.data)\n",
    "            cur = cur.right\n",
    "        else:\n",
    "            prev = cur.left\n",
    "            while prev.right is not None and prev.right != cur:\n",
    "                prev = prev.right\n",
    "\n",
    "            if prev.right is None:\n",
    "                prev.right = cur\n",
    "                cur = cur.left\n",
    "            else:\n",
    "                prev.right = None\n",
    "                inorder.append(cur.data)\n",
    "                cur = cur.right\n",
    "\n",
    "    return inorder\n",
    "morris_inorder_traversal(t1)\n",
    "\n",
    "# time: n\n",
    "# space: 1"
   ]
  },
  {
   "cell_type": "markdown",
   "id": "f5d65024",
   "metadata": {},
   "source": [
    "### Morris Preorder Traversal \n",
    "https://takeuforward.org/data-structure/morris-preorder-traversal-of-a-binary-tree/"
   ]
  },
  {
   "cell_type": "code",
   "execution_count": 22,
   "id": "2242bd17",
   "metadata": {},
   "outputs": [
    {
     "data": {
      "text/plain": [
       "[5, 4, 2, 6, 7, 8, 9]"
      ]
     },
     "execution_count": 22,
     "metadata": {},
     "output_type": "execute_result"
    }
   ],
   "source": [
    "def morris_preorder_traversal(root):\n",
    "    preorder = []\n",
    "    curr = root\n",
    "    while curr:\n",
    "        if curr.left is None:\n",
    "            preorder.append(curr.data)\n",
    "            curr = curr.right\n",
    "        else:\n",
    "            prev = curr.left\n",
    "            while prev.right and prev.right != curr:\n",
    "                prev = prev.right\n",
    "            \n",
    "            if prev.right is None:\n",
    "                prev.right = curr\n",
    "                preorder.append(curr.data)\n",
    "                curr = curr.left\n",
    "            else:\n",
    "                prev.right = None\n",
    "                curr = curr.right\n",
    "    return preorder\n",
    "morris_preorder_traversal(t1)\n",
    "\n",
    "# time: n\n",
    "# space: 1"
   ]
  },
  {
   "cell_type": "code",
   "execution_count": 18,
   "id": "a92d2786",
   "metadata": {},
   "outputs": [
    {
     "name": "stdout",
     "output_type": "stream",
     "text": [
      "2 4 6 5 8 7 9 "
     ]
    }
   ],
   "source": [
    "inorder(t1)"
   ]
  },
  {
   "cell_type": "markdown",
   "id": "6bf57b24",
   "metadata": {},
   "source": [
    "### preorder, inorder and postorder traversal \n",
    "https://takeuforward.org/data-structure/preorder-inorder-postorder-traversals-in-one-traversal/"
   ]
  },
  {
   "cell_type": "code",
   "execution_count": 26,
   "id": "d2406d09",
   "metadata": {},
   "outputs": [
    {
     "name": "stdout",
     "output_type": "stream",
     "text": [
      "preorder [5, 4, 2, 6, 7, 8, 9]\n",
      "inorder [2, 4, 6, 5, 8, 7, 9]\n",
      "postorder [2, 6, 4, 8, 9, 7, 5]\n"
     ]
    }
   ],
   "source": [
    "def pre_in_post(root):\n",
    "    pre = []\n",
    "    ino = []\n",
    "    post = []\n",
    "    \n",
    "    stack = [(root, 1)]\n",
    "    \n",
    "    while stack:\n",
    "        node, state = stack.pop()\n",
    "        \n",
    "        # pre-order traversal\n",
    "        if state == 1:\n",
    "            stack.append((node, 2))\n",
    "            pre.append(node.data)\n",
    "            \n",
    "            if node.left:\n",
    "                stack.append((node.left, 1))\n",
    "        \n",
    "        # inorder traversal\n",
    "        elif state == 2:\n",
    "            stack.append((node, 3))\n",
    "            ino.append(node.data)\n",
    "            \n",
    "            if node.right:\n",
    "                stack.append((node.right, 1))\n",
    "        \n",
    "        # postorder\n",
    "        else:\n",
    "            post.append(node.data)\n",
    "    \n",
    "    print(\"preorder\", pre)\n",
    "    print(\"inorder\", ino)\n",
    "    print(\"postorder\", post)\n",
    "    \n",
    "pre_in_post(t1)"
   ]
  },
  {
   "cell_type": "code",
   "execution_count": null,
   "id": "00faf20a",
   "metadata": {},
   "outputs": [],
   "source": []
  },
  {
   "cell_type": "markdown",
   "id": "a1fe12a9",
   "metadata": {},
   "source": [
    "### Maximum sum path in a binary tree\n",
    "https://takeuforward.org/data-structure/maximum-sum-path-in-binary-tree/"
   ]
  },
  {
   "cell_type": "code",
   "execution_count": 31,
   "id": "de0762d6",
   "metadata": {},
   "outputs": [
    {
     "data": {
      "text/plain": [
       "31"
      ]
     },
     "execution_count": 31,
     "metadata": {},
     "output_type": "execute_result"
    }
   ],
   "source": [
    "def MaxSumPath(root):\n",
    "    gmax = -999\n",
    "    \n",
    "    def helper(root):\n",
    "        nonlocal gmax\n",
    "        if not root:\n",
    "            return 0\n",
    "        left = helper(root.left)\n",
    "        right = helper(root.right)\n",
    "        \n",
    "        curr_max = max(left, right) + root.data\n",
    "        gmax = max(gmax, left + right + root.data)\n",
    "        return curr_max\n",
    "    res = helper(root)\n",
    "    return gmax\n",
    "MaxSumPath(t1)\n",
    "\n",
    "# time : n\n",
    "# space: n"
   ]
  },
  {
   "cell_type": "markdown",
   "id": "c196bed0",
   "metadata": {},
   "source": [
    "### Symmetric Binary Tree \n",
    "https://takeuforward.org/data-structure/check-for-symmetrical-binary-tree/"
   ]
  },
  {
   "cell_type": "code",
   "execution_count": 38,
   "id": "23c7767d",
   "metadata": {},
   "outputs": [],
   "source": [
    "m1 = Tree(1)\n",
    "m1.left = Tree(4)\n",
    "m1.left.left = Tree(2)\n",
    "m1.left.right = Tree(8)\n",
    "m1.right = Tree(4)\n",
    "m1.right.left = Tree(8)\n",
    "m1.right.right = Tree(2)"
   ]
  },
  {
   "cell_type": "code",
   "execution_count": 40,
   "id": "4de350ca",
   "metadata": {},
   "outputs": [
    {
     "name": "stdout",
     "output_type": "stream",
     "text": [
      "False\n",
      "True\n"
     ]
    }
   ],
   "source": [
    "def mirrorTree(root1, root2):\n",
    "    if not root1 and not root2:\n",
    "        return True\n",
    "    if not root1 or not root2:\n",
    "        return False\n",
    "    \n",
    "    return (root1.data == root2.data) and mirrorTree(root1.left, root2.right) and mirrorTree(root1.right, root2.left)\n",
    "print(mirrorTree(t1, t1))\n",
    "print(mirrorTree(m1, m1))\n",
    "\n",
    "# time: n\n",
    "# space: n"
   ]
  },
  {
   "cell_type": "markdown",
   "id": "70ae626a",
   "metadata": {},
   "source": [
    "### Flatten Binary tree to linked list\n",
    "https://takeuforward.org/data-structure/flatten-binary-tree-to-linked-list/"
   ]
  },
  {
   "cell_type": "code",
   "execution_count": 41,
   "id": "ac46c464",
   "metadata": {},
   "outputs": [],
   "source": [
    "class Node:\n",
    "    def __init__(self, data):\n",
    "        self.data = data\n",
    "        self.next = None"
   ]
  },
  {
   "cell_type": "code",
   "execution_count": 61,
   "id": "db16533a",
   "metadata": {},
   "outputs": [
    {
     "name": "stdout",
     "output_type": "stream",
     "text": [
      "5 4 2 6 7 8 9 "
     ]
    }
   ],
   "source": [
    "# we need to create a linked list for preorder traversal\n",
    "def FlattenTree(root):\n",
    "    stack = [root]\n",
    "    nl = Node(-1)\n",
    "    temp = nl\n",
    "    i = 0\n",
    "    while stack:\n",
    "        curr = stack.pop()\n",
    "        temp.next = Node(curr.data)\n",
    "        temp = temp.next\n",
    "        \n",
    "        if curr.right:\n",
    "            stack.append(curr.right)\n",
    "            \n",
    "        if curr.left:\n",
    "            stack.append(curr.left)\n",
    "            \n",
    "    return nl.next\n",
    "\n",
    "nl = FlattenTree(t1)\n",
    "temp = nl\n",
    "while temp:\n",
    "    print(temp.data, end = ' ')\n",
    "    temp = temp.next\n",
    "\n",
    "# time: n\n",
    "# space: n"
   ]
  },
  {
   "cell_type": "code",
   "execution_count": 62,
   "id": "8acf8029",
   "metadata": {},
   "outputs": [
    {
     "name": "stdout",
     "output_type": "stream",
     "text": [
      "5 4 2 6 7 8 9 "
     ]
    }
   ],
   "source": [
    "# Recursive approach\n",
    "def FlattenPre(root):\n",
    "    nl = Node(-1)\n",
    "    temp = nl\n",
    "    \n",
    "    def helper(root):\n",
    "        nonlocal temp\n",
    "        if not root:\n",
    "            return\n",
    "        \n",
    "        temp.next = Node(root.data)\n",
    "        temp = temp.next\n",
    "        \n",
    "        helper(root.left)\n",
    "        helper(root.right)\n",
    "    helper(root)\n",
    "    return nl.next\n",
    "\n",
    "nl2 = FlattenPre(t1)\n",
    "temp = nl2\n",
    "while temp:\n",
    "    print(temp.data, end = ' ')\n",
    "    temp = temp.next\n",
    "    \n",
    "# time: n\n",
    "# space: n"
   ]
  },
  {
   "cell_type": "code",
   "execution_count": 65,
   "id": "28d57565",
   "metadata": {},
   "outputs": [
    {
     "name": "stdout",
     "output_type": "stream",
     "text": [
      "5 4 2 6 7 8 9 "
     ]
    }
   ],
   "source": [
    "# morris approach\n",
    "# point left subtree right most to curr's right and so on.\n",
    "\n",
    "def morris_flatten(root):\n",
    "    curr = root\n",
    "    \n",
    "    while curr:\n",
    "        if curr.left:\n",
    "            prev = curr.left\n",
    "            \n",
    "            while prev.right:\n",
    "                prev = prev.right\n",
    "            \n",
    "            prev.right = curr.right\n",
    "            curr.right = curr.left\n",
    "            curr.left = None\n",
    "        curr = curr.right\n",
    "    return root\n",
    "\n",
    "fl = morris_flatten(t1)\n",
    "temp = fl\n",
    "while temp:\n",
    "    print(temp.data, end = ' ')\n",
    "    temp = temp.right\n",
    "    \n",
    "# time: n\n",
    "# space: 1"
   ]
  },
  {
   "cell_type": "markdown",
   "id": "81331134",
   "metadata": {},
   "source": [
    "### Check for Children Sum Property in a Binary Tree\n",
    "https://takeuforward.org/data-structure/check-for-children-sum-property-in-a-binary-tree/"
   ]
  },
  {
   "cell_type": "code",
   "execution_count": 103,
   "id": "e4f24f2d",
   "metadata": {},
   "outputs": [],
   "source": [
    "def reorder(root):\n",
    "    if root is None:\n",
    "        return\n",
    "    child = 0\n",
    "    \n",
    "    if root.left:\n",
    "        child += root.left.data\n",
    "    \n",
    "    if root.right:\n",
    "        child += root.right.data\n",
    "    \n",
    "    # if sum of its child value is less than root then change of the child value\n",
    "    if child < root.data:\n",
    "        if root.left:\n",
    "            root.left.data = root.data\n",
    "        elif root.right:\n",
    "            root.right.data = root.data\n",
    "    \n",
    "    reorder(root.left)\n",
    "    reorder(root.right)\n",
    "    \n",
    "    tot = 0\n",
    "    if root.left:\n",
    "        tot += root.left.data\n",
    "    if root.right:\n",
    "        tot += root.right.data\n",
    "    \n",
    "    if root.left or root.right:\n",
    "        root.data = tot\n",
    "        \n",
    "nt = reorder(t2)\n",
    "\n",
    "# time: n\n",
    "# space: n"
   ]
  },
  {
   "cell_type": "code",
   "execution_count": 104,
   "id": "1a041483",
   "metadata": {},
   "outputs": [],
   "source": [
    "t2 = Tree(2)\n",
    "t2.left = Tree(35)\n",
    "t2.right = Tree(10)\n",
    "t2.left.left = Tree(2)\n",
    "t2.left.right = Tree(3)\n",
    "t2.right.left = Tree(5)\n",
    "t2.right.right = Tree(2)"
   ]
  },
  {
   "cell_type": "code",
   "execution_count": 105,
   "id": "6a9085dc",
   "metadata": {},
   "outputs": [
    {
     "data": {
      "text/plain": [
       "[2, 35, 2, 3, 10, 5, 2]"
      ]
     },
     "execution_count": 105,
     "metadata": {},
     "output_type": "execute_result"
    }
   ],
   "source": [
    "preorder_traversal(t2)"
   ]
  },
  {
   "cell_type": "code",
   "execution_count": 106,
   "id": "99b39a7d",
   "metadata": {},
   "outputs": [],
   "source": [
    "nt = reorder(t2)"
   ]
  },
  {
   "cell_type": "code",
   "execution_count": 107,
   "id": "d2c169d5",
   "metadata": {},
   "outputs": [
    {
     "data": {
      "text/plain": [
       "[50, 38, 35, 3, 12, 10, 2]"
      ]
     },
     "execution_count": 107,
     "metadata": {},
     "output_type": "execute_result"
    }
   ],
   "source": [
    "preorder_traversal(t2)"
   ]
  },
  {
   "cell_type": "markdown",
   "id": "f1e4a04e",
   "metadata": {},
   "source": [
    "### Vertical Order\n",
    "https://takeuforward.org/data-structure/vertical-order-traversal-of-binary-tree/"
   ]
  },
  {
   "cell_type": "code",
   "execution_count": 117,
   "id": "92d74e0e",
   "metadata": {},
   "outputs": [
    {
     "data": {
      "text/plain": [
       "[[35], [38], [50, 3, 10], [12], [2]]"
      ]
     },
     "execution_count": 117,
     "metadata": {},
     "output_type": "execute_result"
    }
   ],
   "source": [
    "from collections import defaultdict, deque\n",
    "\n",
    "def vertical_traversal(root):\n",
    "    if not root:\n",
    "        return []\n",
    "\n",
    "    # Dictionary to store nodes based on their horizontal distance\n",
    "    vertical_map = defaultdict(list)\n",
    "\n",
    "    # Queue to perform BFS\n",
    "    queue = deque([(root, 0)])\n",
    "\n",
    "    while queue:\n",
    "        node, horizontal_dist = queue.popleft()\n",
    "\n",
    "        # Add the node to the dictionary based on its horizontal distance\n",
    "        vertical_map[horizontal_dist].append(node.data)\n",
    "\n",
    "        # Enqueue left and right child nodes with their corresponding horizontal distances\n",
    "        if node.left:\n",
    "            queue.append((node.left, horizontal_dist - 1))\n",
    "        if node.right:\n",
    "            queue.append((node.right, horizontal_dist + 1))\n",
    "\n",
    "    # Sort the nodes within each vertical line based on their values\n",
    "    result = []\n",
    "    for hd in sorted(vertical_map.keys()):\n",
    "        result.append(vertical_map[hd])\n",
    "\n",
    "    return result\n",
    "vertical_traversal(t2)"
   ]
  },
  {
   "cell_type": "markdown",
   "id": "7417f175",
   "metadata": {},
   "source": [
    "### Construct BT from inorder & preorder traversal\n",
    "https://takeuforward.org/data-structure/construct-a-binary-tree-from-inorder-and-preorder-traversal/"
   ]
  },
  {
   "cell_type": "code",
   "execution_count": 139,
   "id": "5868c6ff",
   "metadata": {},
   "outputs": [
    {
     "name": "stdout",
     "output_type": "stream",
     "text": [
      "1\n",
      "2\n",
      "3\n",
      "4\n",
      "5\n",
      "6\n"
     ]
    }
   ],
   "source": [
    "def constructBTINPR(inorder, preorder):\n",
    "    \n",
    "    hashmap = {inorder[i]: i for i in range(0, len(inorder))}\n",
    "    pre_ptr = 0\n",
    "    def helper(st, en):\n",
    "        nonlocal pre_ptr\n",
    "        if st > en:\n",
    "            return \n",
    "        \n",
    "        val = preorder[pre_ptr]\n",
    "        pre_ptr += 1\n",
    "        root = Tree(val)\n",
    "        in_idx = hashmap[val]\n",
    "        root.left = helper(st, in_idx - 1)\n",
    "        root.right = helper(in_idx + 1, en)\n",
    "        return root\n",
    "    \n",
    "    return helper(0, len(inorder)-1)\n",
    "pre = [10,20,40,50,30,60]\n",
    "ino = [40,20,50,10,60,30]\n",
    "nT = constructBTINPR(ino, pre)\n",
    "\n",
    "\n",
    "# time: n\n",
    "# space: n"
   ]
  },
  {
   "cell_type": "code",
   "execution_count": 134,
   "id": "cce5143f",
   "metadata": {},
   "outputs": [
    {
     "data": {
      "text/plain": [
       "[10, 20, 40, 50, 30, 60]"
      ]
     },
     "execution_count": 134,
     "metadata": {},
     "output_type": "execute_result"
    }
   ],
   "source": [
    "preorder_traversal(nT)"
   ]
  },
  {
   "cell_type": "markdown",
   "id": "cedee171",
   "metadata": {},
   "source": [
    "### Construct BT from inorder & postorder traversal"
   ]
  },
  {
   "cell_type": "code",
   "execution_count": 155,
   "id": "d285535a",
   "metadata": {},
   "outputs": [],
   "source": [
    "def constructBTINPOS(inorder, postorder):\n",
    "    hashmap2 = {inorder[i]: i for i in range(0, len(inorder))}\n",
    "    post_ptr = len(postorder) - 1\n",
    "    def helper(st, en):\n",
    "        nonlocal post_ptr\n",
    "        if st > en:\n",
    "            return\n",
    "        val = postorder[post_ptr]\n",
    "        post_ptr -= 1\n",
    "        root = Tree(val)\n",
    "        in_idx = hashmap2[val]\n",
    "        root.right = helper(in_idx + 1, en)\n",
    "        root.left = helper(st, in_idx - 1)\n",
    "        return root\n",
    "    return helper(0, len(inorder)-1)\n",
    "        \n",
    "\n",
    "ino = [4, 8, 2, 5, 1, 6, 3, 7]\n",
    "post = [8, 4, 5, 2, 6, 7, 3, 1]\n",
    "nT2 = constructBTINPOS(ino, post)\n",
    "\n",
    "# time: n\n",
    "# space: n"
   ]
  },
  {
   "cell_type": "code",
   "execution_count": 156,
   "id": "a9816002",
   "metadata": {},
   "outputs": [
    {
     "data": {
      "text/plain": [
       "[1, 2, 4, 8, 5, 3, 6, 7]"
      ]
     },
     "execution_count": 156,
     "metadata": {},
     "output_type": "execute_result"
    }
   ],
   "source": [
    "preorder_traversal(nT2)"
   ]
  },
  {
   "cell_type": "markdown",
   "id": "40aa8372",
   "metadata": {},
   "source": [
    "### Mirror Tree "
   ]
  },
  {
   "cell_type": "code",
   "execution_count": 157,
   "id": "2e373183",
   "metadata": {},
   "outputs": [],
   "source": [
    "mt1 = Tree(1)\n",
    "mt1.left = Tree(3)\n",
    "mt1.right = Tree(2)\n",
    "mt1.right.left = Tree(5)\n",
    "mt1.right.right = Tree(4)\n",
    "\n",
    "\n",
    "mt2 = Tree(1)\n",
    "mt2.left = Tree(2)\n",
    "mt2.right = Tree(3)\n",
    "mt2.left.left = Tree(4)\n",
    "mt2.left.right = Tree(5)\n"
   ]
  },
  {
   "cell_type": "code",
   "execution_count": 158,
   "id": "4559b076",
   "metadata": {},
   "outputs": [
    {
     "data": {
      "text/plain": [
       "True"
      ]
     },
     "execution_count": 158,
     "metadata": {},
     "output_type": "execute_result"
    }
   ],
   "source": [
    "def mirrorTree(root1, root2):\n",
    "    if not root1 and not root2:\n",
    "        return True\n",
    "    if not root1 or not root2:\n",
    "        return False\n",
    "    \n",
    "    return (root1.data == root2.data) and mirrorTree(root1.left, root2.right) and mirrorTree(root1.right, root2.left)\n",
    "mirrorTree(mt1, mt2)"
   ]
  },
  {
   "cell_type": "markdown",
   "id": "ec22324b",
   "metadata": {},
   "source": [
    "### Print root to node path\n",
    "https://takeuforward.org/data-structure/print-root-to-node-path-in-a-binary-tree/"
   ]
  },
  {
   "cell_type": "code",
   "execution_count": 226,
   "id": "4cff3766",
   "metadata": {},
   "outputs": [
    {
     "data": {
      "text/plain": [
       "[1, 2, 4, 8]"
      ]
     },
     "execution_count": 226,
     "metadata": {},
     "output_type": "execute_result"
    }
   ],
   "source": [
    "def rootToNode(root, k):\n",
    "    res = []\n",
    "    def helper(root, k, sub):\n",
    "        nonlocal res\n",
    "        if not root:\n",
    "            return\n",
    "        if root.data == k:\n",
    "            sub += [root.data]\n",
    "            res = sub[:]\n",
    "            return\n",
    "\n",
    "        helper(root.left, k, sub + [root.data])\n",
    "        helper(root.right, k, sub + [root.data])\n",
    "    helper(root, k, [])\n",
    "    return res\n",
    "rootToNode(nT2, 8)\n",
    "\n",
    "# time: n\n",
    "# space: n"
   ]
  },
  {
   "cell_type": "code",
   "execution_count": 171,
   "id": "1aec6474",
   "metadata": {},
   "outputs": [
    {
     "data": {
      "text/plain": [
       "[1, 2, 5]"
      ]
     },
     "execution_count": 171,
     "metadata": {},
     "output_type": "execute_result"
    }
   ],
   "source": [
    "# same approach diff code\n",
    "def rootToNode(root, k):\n",
    "    res = []\n",
    "    def helper(root, k):\n",
    "        if not root:\n",
    "            return False\n",
    "        \n",
    "        res.append(root.data)\n",
    "        if root.data == k:\n",
    "            return True\n",
    "        \n",
    "        if (helper(root.left, k) or helper(root.right, k)):\n",
    "            return True\n",
    "        res.pop()\n",
    "        return False\n",
    "    helper(root, k)\n",
    "    return res\n",
    "rootToNode(nT2, 5)\n",
    "\n",
    "# time: n\n",
    "# space: n"
   ]
  },
  {
   "cell_type": "markdown",
   "id": "10ec66ce",
   "metadata": {},
   "source": [
    "### Left/Right view traversal\n",
    "https://takeuforward.org/data-structure/right-left-view-of-binary-tree/"
   ]
  },
  {
   "cell_type": "code",
   "execution_count": 186,
   "id": "6d8b6512",
   "metadata": {},
   "outputs": [
    {
     "data": {
      "text/plain": [
       "[1, 2, 4, 8]"
      ]
     },
     "execution_count": 186,
     "metadata": {},
     "output_type": "execute_result"
    }
   ],
   "source": [
    "# recursive approach\n",
    "def leftView(root):\n",
    "    ls = []\n",
    "    def helper(root, curr_idx):\n",
    "        nonlocal ls\n",
    "        if not root:\n",
    "            return\n",
    "        \n",
    "        if curr_idx == len(ls):\n",
    "            ls.append(root.data)\n",
    "        \n",
    "        helper(root.left, curr_idx + 1)\n",
    "        helper(root.right, curr_idx + 1)\n",
    "    helper(root, 0)\n",
    "    return ls\n",
    "leftView(nT2)\n",
    "\n",
    "# time: n\n",
    "# space: h (height of tree)"
   ]
  },
  {
   "cell_type": "code",
   "execution_count": 182,
   "id": "0b8d3e4d",
   "metadata": {},
   "outputs": [
    {
     "data": {
      "text/plain": [
       "[1, 3, 7, 8]"
      ]
     },
     "execution_count": 182,
     "metadata": {},
     "output_type": "execute_result"
    }
   ],
   "source": [
    "# recursive approach\n",
    "def rightView(root):\n",
    "    ls = []\n",
    "    def helper(root, curr_idx):\n",
    "        nonlocal ls\n",
    "        if not root:\n",
    "            return\n",
    "        \n",
    "        if curr_idx == len(ls):\n",
    "            ls.append(root.data)\n",
    "        \n",
    "        helper(root.right, curr_idx + 1)\n",
    "        helper(root.left, curr_idx + 1)\n",
    "    helper(root, 0)\n",
    "    return ls\n",
    "rightView(nT2)\n",
    "\n",
    "# time: n\n",
    "# space: h (height of tree)"
   ]
  },
  {
   "cell_type": "code",
   "execution_count": 188,
   "id": "228b0393",
   "metadata": {},
   "outputs": [
    {
     "data": {
      "text/plain": [
       "[1, 2, 4, 8]"
      ]
     },
     "execution_count": 188,
     "metadata": {},
     "output_type": "execute_result"
    }
   ],
   "source": [
    "def leftviewiter(root): #algo remove print append\n",
    "    queue=[root]\n",
    "    res = []\n",
    "    while len(queue)!=0:\n",
    "        ele=queue[0]\n",
    "        res.append(ele.data)\n",
    "        for i in range(0,len(queue)):\n",
    "            root=queue.pop(0)\n",
    "            if root.left:\n",
    "                queue.append(root.left)\n",
    "            if root.right:\n",
    "                queue.append(root.right)\n",
    "    return res\n",
    "leftviewiter(nT2)\n",
    "# time: n\n",
    "# space: h (height of tree)"
   ]
  },
  {
   "cell_type": "code",
   "execution_count": 187,
   "id": "a47c578a",
   "metadata": {},
   "outputs": [
    {
     "data": {
      "text/plain": [
       "[1, 3, 7, 8]"
      ]
     },
     "execution_count": 187,
     "metadata": {},
     "output_type": "execute_result"
    }
   ],
   "source": [
    "def rightviewiter(root): #algo print[-1] ele remove append\n",
    "    queue=[root]\n",
    "    res = []\n",
    "    while len(queue)!=0:\n",
    "        ele=queue[-1]\n",
    "        res.append(ele.data)\n",
    "        for i in range(0,len(queue)):\n",
    "            root=queue.pop(0)\n",
    "            if root.left:\n",
    "                queue.append(root.left)\n",
    "            if root.right:\n",
    "                queue.append(root.right)\n",
    "    return res\n",
    "rightviewiter(nT2)\n",
    "# time: n\n",
    "# space: h (height of tree)"
   ]
  },
  {
   "cell_type": "markdown",
   "id": "54b9aec8",
   "metadata": {},
   "source": [
    "### Bottom View\n",
    "https://takeuforward.org/data-structure/bottom-view-of-a-binary-tree/"
   ]
  },
  {
   "cell_type": "code",
   "execution_count": 191,
   "id": "6663ef74",
   "metadata": {},
   "outputs": [
    {
     "data": {
      "text/plain": [
       "[4, 8, 6, 3, 7]"
      ]
     },
     "execution_count": 191,
     "metadata": {},
     "output_type": "execute_result"
    }
   ],
   "source": [
    "from collections import deque\n",
    "def bottomView(root):\n",
    "    ans = []\n",
    "    h_map = {}\n",
    "    queue = deque([(root, 0)])\n",
    "    while queue:\n",
    "        node, curr_idx = queue.popleft()\n",
    "        h_map[curr_idx] = node.data\n",
    "        if node.left:\n",
    "            queue.append((node.left, curr_idx - 1))\n",
    "        if node.right:\n",
    "            queue.append((node.right, curr_idx + 1))\n",
    "            \n",
    "    for hd, data in sorted(h_map.items()):\n",
    "        ans.append(data)\n",
    "            \n",
    "    return ans\n",
    "    \n",
    "\n",
    "bottomView(nT2)\n",
    "\n",
    "# time: n\n",
    "# space: n"
   ]
  },
  {
   "cell_type": "code",
   "execution_count": 199,
   "id": "8300f8fa",
   "metadata": {},
   "outputs": [
    {
     "data": {
      "text/plain": [
       "[4, 8, 6, 3, 7]"
      ]
     },
     "execution_count": 199,
     "metadata": {},
     "output_type": "execute_result"
    }
   ],
   "source": [
    "def bottomViewRe(root):\n",
    "    hmap = {}\n",
    "    def helper(root, curr):\n",
    "        nonlocal hmap\n",
    "        if not root:\n",
    "            return\n",
    "        hmap[curr] = root.data\n",
    "        helper(root.left, curr - 1)\n",
    "        helper(root.right, curr + 1)\n",
    "    helper(root, 0)\n",
    "    ans = []\n",
    "    for key, value in sorted(hmap.items()):\n",
    "        ans.append(value)\n",
    "    return ans\n",
    "    \n",
    "bottomViewRe(nT2)"
   ]
  },
  {
   "cell_type": "markdown",
   "id": "2ce7fa4f",
   "metadata": {},
   "source": [
    "### Top view\n",
    "https://takeuforward.org/data-structure/top-view-of-a-binary-tree/"
   ]
  },
  {
   "cell_type": "code",
   "execution_count": 201,
   "id": "cff61c2a",
   "metadata": {},
   "outputs": [
    {
     "data": {
      "text/plain": [
       "[4, 2, 1, 3, 7]"
      ]
     },
     "execution_count": 201,
     "metadata": {},
     "output_type": "execute_result"
    }
   ],
   "source": [
    "def TopViewRe(root):\n",
    "    hmap = {}\n",
    "    def helper(root, curr):\n",
    "        nonlocal hmap\n",
    "        if not root:\n",
    "            return\n",
    "        if curr not in hmap:\n",
    "            hmap[curr] = root.data\n",
    "        helper(root.left, curr - 1)\n",
    "        helper(root.right, curr + 1)\n",
    "    helper(root, 0)\n",
    "    ans = []\n",
    "    for key, value in sorted(hmap.items()):\n",
    "        ans.append(value)\n",
    "    return ans\n",
    "    \n",
    "TopViewRe(nT2)"
   ]
  },
  {
   "cell_type": "code",
   "execution_count": 202,
   "id": "8028b219",
   "metadata": {},
   "outputs": [
    {
     "data": {
      "text/plain": [
       "[4, 2, 1, 3, 7]"
      ]
     },
     "execution_count": 202,
     "metadata": {},
     "output_type": "execute_result"
    }
   ],
   "source": [
    "from collections import deque\n",
    "def TopView(root):\n",
    "    ans = []\n",
    "    h_map = {}\n",
    "    queue = deque([(root, 0)])\n",
    "    while queue:\n",
    "        node, curr_idx = queue.popleft()\n",
    "        if curr_idx not in h_map:\n",
    "            h_map[curr_idx] = node.data\n",
    "        if node.left:\n",
    "            queue.append((node.left, curr_idx - 1))\n",
    "        if node.right:\n",
    "            queue.append((node.right, curr_idx + 1))\n",
    "            \n",
    "    for hd, data in sorted(h_map.items()):\n",
    "        ans.append(data)\n",
    "            \n",
    "    return ans\n",
    "    \n",
    "\n",
    "TopView(nT2)\n",
    "\n",
    "# time: n\n",
    "# space: n"
   ]
  },
  {
   "cell_type": "markdown",
   "id": "0ee455bd",
   "metadata": {},
   "source": [
    "### Maximum Width of a Binary Tree\n",
    "https://takeuforward.org/data-structure/maximum-width-of-a-binary-tree/"
   ]
  },
  {
   "cell_type": "code",
   "execution_count": 208,
   "id": "73899630",
   "metadata": {},
   "outputs": [
    {
     "data": {
      "text/plain": [
       "4"
      ]
     },
     "execution_count": 208,
     "metadata": {},
     "output_type": "execute_result"
    }
   ],
   "source": [
    "from collections import deque\n",
    "def maxWidth(root):\n",
    "    if not root:\n",
    "        return\n",
    "    queue = deque([(root, 0)])\n",
    "    maxW = 1\n",
    "    while queue:\n",
    "        n_q = []\n",
    "        leftmost = queue[0][1]\n",
    "        rightmost = queue[-1][1]\n",
    "        maxW = max(maxW, (rightmost - leftmost) + 1)\n",
    "        \n",
    "        for _ in range(len(queue)):\n",
    "            node, curr = queue.popleft()\n",
    "        \n",
    "            if node.left:\n",
    "                n_q.append((node.left, 2 * curr + 1))\n",
    "                \n",
    "            if node.right:\n",
    "                n_q.append((node.right, 2 * curr + 2))\n",
    "        queue += n_q\n",
    "        \n",
    "    return maxW\n",
    "maxWidth(nT2)\n",
    "\n",
    "# time: N\n",
    "# space: N"
   ]
  },
  {
   "cell_type": "markdown",
   "id": "cd7cd75c",
   "metadata": {},
   "source": [
    "### Level Order traversal\n",
    "https://takeuforward.org/data-structure/level-order-traversal-of-a-binary-tree/"
   ]
  },
  {
   "cell_type": "code",
   "execution_count": 225,
   "id": "6829d3ff",
   "metadata": {},
   "outputs": [
    {
     "name": "stdout",
     "output_type": "stream",
     "text": [
      "1 \n",
      "2 3 \n",
      "4 5 6 7 \n",
      "8 \n"
     ]
    },
    {
     "data": {
      "text/plain": [
       "[[1], [2, 3], [4, 5, 6, 7], [8]]"
      ]
     },
     "execution_count": 225,
     "metadata": {},
     "output_type": "execute_result"
    }
   ],
   "source": [
    "def levelOrder(root):\n",
    "    queue = deque([root])\n",
    "    ls = []\n",
    "    while queue:\n",
    "        cnt = len(queue)\n",
    "        nq = []\n",
    "        for _ in range(0, cnt):\n",
    "            node = queue.popleft()\n",
    "            print(node.data, end = ' ')\n",
    "            nq.append(node.data)\n",
    "            if node.left:\n",
    "                queue.append(node.left)\n",
    "            if node.right:\n",
    "                queue.append(node.right)\n",
    "        ls.append(nq)\n",
    "        print()\n",
    "    return ls\n",
    "levelOrder(nT2)\n",
    "\n",
    "# time: n\n",
    "# space: n"
   ]
  },
  {
   "cell_type": "markdown",
   "id": "f2771aad",
   "metadata": {},
   "source": [
    "### Zigzag Traversal\n",
    "https://takeuforward.org/data-structure/zig-zag-traversal-of-binary-tree/"
   ]
  },
  {
   "cell_type": "code",
   "execution_count": 222,
   "id": "6e9f45c7",
   "metadata": {},
   "outputs": [
    {
     "data": {
      "text/plain": [
       "[[1], [3, 2], [4, 5, 6, 7], [8]]"
      ]
     },
     "execution_count": 222,
     "metadata": {},
     "output_type": "execute_result"
    }
   ],
   "source": [
    "def zigzagTraversal(root):\n",
    "    queue = deque([root])\n",
    "    ls = []\n",
    "    leftToRight = True\n",
    "    while queue:\n",
    "        cnt = len(queue)\n",
    "        res = [0] * len(queue)\n",
    "        \n",
    "        for i in range(0, cnt):\n",
    "            node = queue.popleft()\n",
    "            \n",
    "            index = i if leftToRight else cnt - i - 1\n",
    "            res[index] = node.data\n",
    "            if node.left:\n",
    "                queue.append(node.left)\n",
    "                \n",
    "            if node.right:\n",
    "                queue.append(node.right)\n",
    "        leftToRight = not leftToRight\n",
    "        ls.append(res)\n",
    "    return ls\n",
    "zigzagTraversal(nT2)\n",
    "\n",
    "# time: n\n",
    "# space: n"
   ]
  },
  {
   "cell_type": "markdown",
   "id": "1978b624",
   "metadata": {},
   "source": [
    "### Boundary Traversal\n",
    "https://takeuforward.org/data-structure/boundary-traversal-of-a-binary-tree/"
   ]
  },
  {
   "cell_type": "code",
   "execution_count": 231,
   "id": "d1211270",
   "metadata": {},
   "outputs": [
    {
     "data": {
      "text/plain": [
       "[1, 2, 4, 8, 5, 6, 7, 3]"
      ]
     },
     "execution_count": 231,
     "metadata": {},
     "output_type": "execute_result"
    }
   ],
   "source": [
    "# approach\n",
    "# traverse all left ele except leaves\n",
    "# traverse leaves \n",
    "# traverse right ele except leaves\n",
    "\n",
    "def Boundry(root):\n",
    "    if not root:\n",
    "        return\n",
    "    \n",
    "    def left_side(root):\n",
    "        curr = root.left\n",
    "        res = []\n",
    "        while curr:\n",
    "            if curr.left or curr.right:\n",
    "                res.append(curr.data)\n",
    "            if curr.left:\n",
    "                curr = curr.left\n",
    "            else:\n",
    "                curr = curr.right\n",
    "        return res\n",
    "    \n",
    "    def right_side(root):\n",
    "        curr = root.right\n",
    "        res = []\n",
    "        while curr:\n",
    "            if curr.right or curr.left:\n",
    "                res.append(curr.data)\n",
    "            if curr.right:\n",
    "                curr = curr.right\n",
    "            else:\n",
    "                curr = curr.left\n",
    "        return res\n",
    "    \n",
    "    def leaves(root, ll):\n",
    "        if not root:\n",
    "            return\n",
    "        if not root.left and not root.right:\n",
    "            ll.append(root.data)\n",
    "            return\n",
    "        leaves(root.left, ll)\n",
    "        leaves(root.right, ll)\n",
    "        \n",
    "    \n",
    "    lf = left_side(root)\n",
    "    ll = []\n",
    "    leaves(root, ll)\n",
    "    rf = right_side(root)\n",
    "        \n",
    "    return [root.data] + lf + ll + rf\n",
    "Boundry(nT2)\n",
    "            "
   ]
  },
  {
   "cell_type": "markdown",
   "id": "22168834",
   "metadata": {},
   "source": [
    "### check if two trees are identical\n",
    "https://takeuforward.org/data-structure/check-if-two-trees-are-identical/"
   ]
  },
  {
   "cell_type": "code",
   "execution_count": 232,
   "id": "9bfbeb48",
   "metadata": {},
   "outputs": [],
   "source": [
    "def ideTree(root1, root2):\n",
    "    if not root1 and not root2:\n",
    "        return True\n",
    "    if not root1 or not root2:\n",
    "        return False\n",
    "    \n",
    "    return (root1.data == root2.data) and ideTree(root1.left, root2.left) and ideTree(root1.right, root2.right)\n",
    "# print(ideTree(m1, t1))\n",
    "\n",
    "# time: n\n",
    "# space: n"
   ]
  },
  {
   "cell_type": "markdown",
   "id": "0bc880b8",
   "metadata": {},
   "source": [
    "### Lowest Common Ancestor\n",
    "https://takeuforward.org/data-structure/lowest-common-ancestor-for-two-given-nodes/"
   ]
  },
  {
   "cell_type": "code",
   "execution_count": 235,
   "id": "4e09f11c",
   "metadata": {},
   "outputs": [],
   "source": [
    "def LCAbT(root, k, l):\n",
    "    if not root or root.data == k or root.data == l:\n",
    "        return root\n",
    "    \n",
    "    left = LCAbT(root.left, k, l)\n",
    "    right = LCAbT(root.right, k, l)\n",
    "    \n",
    "    if not left:\n",
    "        return right\n",
    "    elif not right:\n",
    "        return left\n",
    "    else:\n",
    "        return root\n",
    "ss = LCAbT(nT2, 8, 5)\n",
    "\n",
    "# time: N\n",
    "# space: N"
   ]
  },
  {
   "cell_type": "code",
   "execution_count": 236,
   "id": "7f0243de",
   "metadata": {},
   "outputs": [
    {
     "data": {
      "text/plain": [
       "2"
      ]
     },
     "execution_count": 236,
     "metadata": {},
     "output_type": "execute_result"
    }
   ],
   "source": [
    "ss.data"
   ]
  },
  {
   "cell_type": "markdown",
   "id": "b7a53635",
   "metadata": {},
   "source": [
    "### Maximum depth of BT\n",
    "https://takeuforward.org/data-structure/maximum-depth-of-a-binary-tree/"
   ]
  },
  {
   "cell_type": "code",
   "execution_count": 239,
   "id": "6ac286c2",
   "metadata": {},
   "outputs": [
    {
     "data": {
      "text/plain": [
       "4"
      ]
     },
     "execution_count": 239,
     "metadata": {},
     "output_type": "execute_result"
    }
   ],
   "source": [
    "def depthBT(root):\n",
    "    if not root:\n",
    "        return 0\n",
    "    \n",
    "    left = depthBT(root.left)\n",
    "    right = depthBT(root.right)\n",
    "    \n",
    "    return max(left, right) + 1\n",
    "depthBT(nT2)\n",
    "\n",
    "# time: N\n",
    "# space: N"
   ]
  },
  {
   "cell_type": "markdown",
   "id": "bbb7fb81",
   "metadata": {},
   "source": [
    "### Diameter of BT\n",
    "https://takeuforward.org/data-structure/calculate-the-diameter-of-a-binary-tree/"
   ]
  },
  {
   "cell_type": "code",
   "execution_count": 250,
   "id": "314f9f72",
   "metadata": {},
   "outputs": [
    {
     "name": "stdout",
     "output_type": "stream",
     "text": [
      "5\n"
     ]
    }
   ],
   "source": [
    "# diameter = left hight + right hight\n",
    "\n",
    "diameter_BT = 0\n",
    "def diameterBT(root):\n",
    "    global diameter_BT\n",
    "    if not root:\n",
    "        return 0\n",
    "    \n",
    "    left = diameterBT(root.left)\n",
    "    right = diameterBT(root.right)\n",
    "    \n",
    "    diameter_BT = max(left+right, diameter_BT)\n",
    "    return max(left, right) + 1\n",
    "\n",
    "diameterBT(nT2)\n",
    "\n",
    "print(diameter_BT)\n",
    "\n",
    "# time: N\n",
    "# space: N"
   ]
  },
  {
   "cell_type": "markdown",
   "id": "d16d0379",
   "metadata": {},
   "source": [
    "### BT is balanced tree\n",
    "https://takeuforward.org/data-structure/check-if-the-binary-tree-is-balanced-binary-tree/"
   ]
  },
  {
   "cell_type": "code",
   "execution_count": 269,
   "id": "9eedbaba",
   "metadata": {},
   "outputs": [
    {
     "data": {
      "text/plain": [
       "False"
      ]
     },
     "execution_count": 269,
     "metadata": {},
     "output_type": "execute_result"
    }
   ],
   "source": [
    "def BTtree(root):\n",
    "    if not root:\n",
    "        return True\n",
    "    \n",
    "    lh = depthBT(root.left)\n",
    "    rh = depthBT(root.right)\n",
    "    \n",
    "    if (abs(lh - rh) <= 1) and BTtree(root.left) and BTtree(root.right):\n",
    "        return True\n",
    "    return False\n",
    "\n",
    "BTtree(st)"
   ]
  },
  {
   "cell_type": "code",
   "execution_count": 270,
   "id": "b0132206",
   "metadata": {},
   "outputs": [],
   "source": [
    "st = Tree(1)\n",
    "st.left = Tree(7)\n",
    "st.right = Tree(3)\n",
    "st.right.left = Tree(6)\n",
    "st.right.right = Tree(7)\n",
    "st.right.left.right = Tree(10)"
   ]
  },
  {
   "cell_type": "code",
   "execution_count": 273,
   "id": "2d93e4a2",
   "metadata": {},
   "outputs": [
    {
     "data": {
      "text/plain": [
       "0"
      ]
     },
     "execution_count": 273,
     "metadata": {},
     "output_type": "execute_result"
    }
   ],
   "source": [
    "# approach 2\n",
    "def BTtree2(root):\n",
    "    if not root:\n",
    "        return True\n",
    "    left = BTtree2(root.left)\n",
    "    \n",
    "    if left == 0:\n",
    "        return 0\n",
    "    \n",
    "    right = BTtree2(root.right)\n",
    "    \n",
    "    if right == 0:\n",
    "        return 0\n",
    "    \n",
    "    if abs(left - right) > 1:\n",
    "        return 0\n",
    "    \n",
    "    return max(left, right) + 1\n",
    "BTtree2(st)\n",
    "\n",
    "# if ans if -1 then it's not balanced"
   ]
  },
  {
   "cell_type": "code",
   "execution_count": null,
   "id": "847c2e00",
   "metadata": {},
   "outputs": [],
   "source": []
  },
  {
   "cell_type": "code",
   "execution_count": null,
   "id": "530e4e1a",
   "metadata": {},
   "outputs": [],
   "source": []
  },
  {
   "cell_type": "markdown",
   "id": "e5ed82c5",
   "metadata": {},
   "source": [
    "# Binary search "
   ]
  },
  {
   "cell_type": "markdown",
   "id": "4f4a8139",
   "metadata": {},
   "source": [
    "### single element in sorted arr\n",
    "https://takeuforward.org/data-structure/search-single-element-in-a-sorted-array/"
   ]
  },
  {
   "cell_type": "code",
   "execution_count": 446,
   "id": "b2bf938b",
   "metadata": {},
   "outputs": [
    {
     "data": {
      "text/plain": [
       "3"
      ]
     },
     "execution_count": 446,
     "metadata": {},
     "output_type": "execute_result"
    }
   ],
   "source": [
    "# brute force technique\n",
    "def singleEle(arr):\n",
    "    if len(arr) == 1:\n",
    "        return arr[0]\n",
    "    \n",
    "    for i in range(0, len(arr)):\n",
    "        if i == 0:\n",
    "            if arr[i] != arr[i+1]:\n",
    "                return arr[i]\n",
    "        elif i == len(arr) - 1:\n",
    "            if arr[i] != arr[i-1]:\n",
    "                return arr[i]\n",
    "        else:\n",
    "            if arr[i] != arr[i+1] and arr[i] != arr[i-1]:\n",
    "                return arr[i]\n",
    "    return -1\n",
    "# time: N\n",
    "\n",
    "singleEle([1,1,2,2,3,4,4])"
   ]
  },
  {
   "cell_type": "code",
   "execution_count": 448,
   "id": "ddf40204",
   "metadata": {},
   "outputs": [
    {
     "data": {
      "text/plain": [
       "3"
      ]
     },
     "execution_count": 448,
     "metadata": {},
     "output_type": "execute_result"
    }
   ],
   "source": [
    "# optimal approach\n",
    "# as we have 2 element so the first element in even index and 2nd in odd index to keep this in mind we will write logic\n",
    "\n",
    "def singleElement(arr):\n",
    "    if len(arr) == 1:\n",
    "        return arr[0]\n",
    "    \n",
    "    if arr[0] != arr[1]:\n",
    "        return arr[0]\n",
    "    \n",
    "    if arr[-1] != arr[-2]:\n",
    "        return arr[-1]\n",
    "    \n",
    "    left = 1\n",
    "    right = len(arr) - 2\n",
    "    \n",
    "    while left < right:\n",
    "        mid = (left + right) // 2\n",
    "        \n",
    "        if arr[mid] != arr[mid-1] and arr[mid] != arr[mid+1]:\n",
    "            return arr[mid]\n",
    "        \n",
    "        # we are in the left\n",
    "        if (mid % 2 == 1 and arr[mid] == arr[mid-1]) or (mid % 2 == 0 and arr[mid] == arr[mid+1]):\n",
    "            left = mid + 1\n",
    "        # we are in the right\n",
    "        else:\n",
    "            right = mid - 1\n",
    "    \n",
    "    return -1\n",
    "\n",
    "# time: log(n)\n",
    "singleElement([1,1,2,2,3,4,4])"
   ]
  },
  {
   "cell_type": "markdown",
   "id": "36db050e",
   "metadata": {},
   "source": [
    "### Allocate number of pages"
   ]
  },
  {
   "cell_type": "code",
   "execution_count": 529,
   "id": "bcbd916e",
   "metadata": {},
   "outputs": [
    {
     "data": {
      "text/plain": [
       "71"
      ]
     },
     "execution_count": 529,
     "metadata": {},
     "output_type": "execute_result"
    }
   ],
   "source": [
    "def countStudents(arr, pages):\n",
    "    n = len(arr)\n",
    "    students = 1\n",
    "    pageStudent = 0\n",
    "    \n",
    "    for i in range(n):\n",
    "        if pageStudent + arr[i] <= pages:\n",
    "            pageStudent += arr[i]\n",
    "        else:\n",
    "            students += 1\n",
    "            pageStudent = arr[i]\n",
    "    return students\n",
    "\n",
    "def findPages(arr, m):\n",
    "    n = len(arr)\n",
    "    \n",
    "    # if students greater than books\n",
    "    if m > n:\n",
    "        return -1\n",
    "    \n",
    "    low = max(arr)\n",
    "    high = sum(arr)\n",
    "    \n",
    "    while low <= high:\n",
    "        mid = (low+high)//2\n",
    "        students = countStudents(arr, mid)\n",
    "        \n",
    "        if students > m:\n",
    "            low = mid + 1\n",
    "        else:\n",
    "            high = mid - 1\n",
    "    return low\n",
    "    \n",
    "findPages([25, 46, 28, 49, 24], 4)\n",
    "\n",
    "# time: n log n\n",
    "# space: 1"
   ]
  },
  {
   "cell_type": "markdown",
   "id": "82de7137",
   "metadata": {},
   "source": [
    "### Aggresive Cows "
   ]
  },
  {
   "cell_type": "code",
   "execution_count": 531,
   "id": "6bc88c23",
   "metadata": {},
   "outputs": [
    {
     "data": {
      "text/plain": [
       "3"
      ]
     },
     "execution_count": 531,
     "metadata": {},
     "output_type": "execute_result"
    }
   ],
   "source": [
    "# brute force approach, sort the stall and check the distance from 1 to limit\n",
    "def canWePlace(stalls, dist, cows):\n",
    "    n = len(stalls)\n",
    "    cntCows = 1\n",
    "    last = stalls[0]\n",
    "    for i in range(1, n):\n",
    "        if stalls[i] - last >= dist:\n",
    "            cntCows += 1\n",
    "            last = stalls[i]\n",
    "        if cntCows >= cows:\n",
    "            return True\n",
    "    return False\n",
    "\n",
    "def aggresiveCowsB(stalls, k):\n",
    "    n = len(stalls)\n",
    "    stalls.sort()\n",
    "    limit = stalls[n-1] - stalls[0]\n",
    "    for i in range(1, limit+1):\n",
    "        if not canWePlace(stalls, i, k):\n",
    "            return i - 1\n",
    "    return limit\n",
    "\n",
    "aggresiveCowsB([0, 3, 4, 7, 10, 9], 4)\n",
    "# time: nlogn + n(max[stall]-min[stall])"
   ]
  },
  {
   "cell_type": "code",
   "execution_count": 534,
   "id": "5a009765",
   "metadata": {},
   "outputs": [
    {
     "data": {
      "text/plain": [
       "3"
      ]
     },
     "execution_count": 534,
     "metadata": {},
     "output_type": "execute_result"
    }
   ],
   "source": [
    "# optimal approach\n",
    "def canWePlace(stalls, dis, cows):\n",
    "    n = len(stalls)\n",
    "    cntCows = 1\n",
    "    last = stalls[0]\n",
    "    for i in range(1, n):\n",
    "        if stalls[i] - last >= dis:\n",
    "            cntCows += 1\n",
    "            last = stalls[i]\n",
    "        if cntCows >= cows:\n",
    "            return True\n",
    "    return False\n",
    "\n",
    "def aggresiveCows(stalls, k):\n",
    "    n = len(stalls)\n",
    "    stalls.sort()\n",
    "    \n",
    "    low = 1\n",
    "    high = stalls[n-1] - stalls[0]\n",
    "    \n",
    "    while low <= high:\n",
    "        mid = (low+high)//2\n",
    "        if canWePlace(stalls, mid, k):\n",
    "            low = mid + 1\n",
    "        else:\n",
    "            high = mid - 1\n",
    "    return high\n",
    "aggresiveCows([0, 3, 4, 7, 10, 9], 4)\n",
    "# time: nlogn + n(max[stall]-min[stall])"
   ]
  },
  {
   "cell_type": "markdown",
   "id": "49b1663b",
   "metadata": {},
   "source": [
    "### Minimum days to make N bouquets "
   ]
  },
  {
   "cell_type": "code",
   "execution_count": 536,
   "id": "0dee614a",
   "metadata": {},
   "outputs": [
    {
     "data": {
      "text/plain": [
       "12"
      ]
     },
     "execution_count": 536,
     "metadata": {},
     "output_type": "execute_result"
    }
   ],
   "source": [
    "# optimal approach\n",
    "def possible(arr, day, m, k):\n",
    "    n = len(arr)\n",
    "    cnt = 0\n",
    "    noofb = 0\n",
    "    \n",
    "    for i in range(n):\n",
    "        if arr[i] <= day:\n",
    "            cnt += 1\n",
    "        else:\n",
    "            noofb += cnt//k\n",
    "            cnt = 0\n",
    "    noofb += cnt//k\n",
    "    return noofb >= m\n",
    "\n",
    "def roseGarden(arr, k, m):\n",
    "    val = m*k\n",
    "    n = len(arr)\n",
    "    if val > n:\n",
    "        return -1\n",
    "    low = min(arr)\n",
    "    high = max(arr)\n",
    "    \n",
    "    while low <= high:\n",
    "        mid = (low+high)//2\n",
    "        if possible(arr, mid, m, k):\n",
    "            high = mid - 1\n",
    "        else:\n",
    "            low = mid + 1\n",
    "    return low\n",
    "roseGarden([7, 7, 7, 7, 13, 11, 12, 7], 3, 2)"
   ]
  },
  {
   "cell_type": "code",
   "execution_count": 537,
   "id": "d7560ccb",
   "metadata": {},
   "outputs": [],
   "source": [
    "# brute force approach\n",
    "def possible(arr, day, m, k):\n",
    "    n = len(arr)  # size of the array\n",
    "    cnt = 0\n",
    "    noOfB = 0\n",
    "    # count the number of bouquets\n",
    "    for i in range(n):\n",
    "        if arr[i] <= day:\n",
    "            cnt += 1\n",
    "        else:\n",
    "            noOfB += cnt // k\n",
    "            cnt = 0\n",
    "    noOfB += cnt // k\n",
    "    return noOfB >= m\n",
    "\n",
    "def roseGarden(arr, k, m):\n",
    "    val = m * k\n",
    "    n = len(arr)  # size of the array\n",
    "    if val > n:\n",
    "        return -1  # impossible case\n",
    "    # find maximum and minimum\n",
    "    mini = float('inf')\n",
    "    maxi = float('-inf')\n",
    "    for i in range(n):\n",
    "        mini = min(mini, arr[i])\n",
    "        maxi = max(maxi, arr[i])\n",
    "\n",
    "    for i in range(mini, maxi+1):\n",
    "        if possible(arr, i, m, k):\n",
    "            return i\n",
    "    return -1"
   ]
  },
  {
   "cell_type": "markdown",
   "id": "395777df",
   "metadata": {},
   "source": [
    "### Split Array Largest Sum\n",
    "same question as book allocation"
   ]
  },
  {
   "cell_type": "code",
   "execution_count": 541,
   "id": "28ab94a6",
   "metadata": {},
   "outputs": [
    {
     "data": {
      "text/plain": [
       "60"
      ]
     },
     "execution_count": 541,
     "metadata": {},
     "output_type": "execute_result"
    }
   ],
   "source": [
    "# optimal approach\n",
    "def countPartition(arr, maxSum):\n",
    "    n = len(arr)\n",
    "    partitions = 1\n",
    "    subarraySum = 0\n",
    "    \n",
    "    for i in range(n):\n",
    "        if subarraySum + arr[i] <= maxSum:\n",
    "            subarraySum += arr[i]\n",
    "        else:\n",
    "            partitions += 1\n",
    "            subarraySum = arr[i]\n",
    "    return partitions\n",
    "\n",
    "def splitArr(arr, k):\n",
    "    low = max(arr)\n",
    "    high = sum(arr)\n",
    "    \n",
    "    while low <= high:\n",
    "        mid = (low+high)//2\n",
    "        partitions = countPartition(arr, mid)\n",
    "        if partitions > k:\n",
    "            low = mid + 1\n",
    "        else:\n",
    "            high = mid - 1\n",
    "    return low\n",
    "splitArr([10, 20, 30, 40], 2)"
   ]
  },
  {
   "cell_type": "code",
   "execution_count": 543,
   "id": "7682b2af",
   "metadata": {},
   "outputs": [
    {
     "name": "stdout",
     "output_type": "stream",
     "text": [
      "The answer is: 60\n"
     ]
    }
   ],
   "source": [
    "# brute force approach\n",
    "def countPartitions(a, maxSum):\n",
    "    n = len(a)  # size of array\n",
    "    partitions = 1\n",
    "    subarraySum = 0\n",
    "    for i in range(n):\n",
    "        if subarraySum + a[i] <= maxSum:\n",
    "            # insert element to current subarray\n",
    "            subarraySum += a[i]\n",
    "        else:\n",
    "            # insert element to next subarray\n",
    "            partitions += 1\n",
    "            subarraySum = a[i]\n",
    "    return partitions\n",
    "\n",
    "def largestSubarraySumMinimized(a, k):\n",
    "    low = max(a)\n",
    "    high = sum(a)\n",
    "\n",
    "    for maxSum in range(low, high+1):\n",
    "        if countPartitions(a, maxSum) == k:\n",
    "            return maxSum\n",
    "    return low\n",
    "\n",
    "a = [10, 20, 30, 40]\n",
    "k = 2\n",
    "ans = largestSubarraySumMinimized(a, k)\n",
    "print(\"The answer is:\", ans)\n"
   ]
  },
  {
   "cell_type": "markdown",
   "id": "0e232162",
   "metadata": {},
   "source": [
    "### Painter Partition\n",
    "same as book allocation"
   ]
  },
  {
   "cell_type": "code",
   "execution_count": 579,
   "id": "1a4bae90",
   "metadata": {},
   "outputs": [
    {
     "data": {
      "text/plain": [
       "60"
      ]
     },
     "execution_count": 579,
     "metadata": {},
     "output_type": "execute_result"
    }
   ],
   "source": [
    "def countPainter(arr, val):\n",
    "    n = len(arr)\n",
    "    painters = 1\n",
    "    curr_sum = 0\n",
    "    \n",
    "    for i in range(n):\n",
    "        if curr_sum + arr[i] <= val:\n",
    "            curr_sum += arr[i]\n",
    "        else:\n",
    "            curr_sum = arr[i]\n",
    "            painters += 1\n",
    "    return painters\n",
    "    \n",
    "def painterPartition(arr, k):\n",
    "    n = len(arr)\n",
    "    low = max(arr)\n",
    "    high = sum(arr)\n",
    "    \n",
    "    while low <= high:\n",
    "        mid = (low+high)//2\n",
    "        \n",
    "        totalPainter = countPainter(arr, mid)\n",
    "        if totalPainter > k:\n",
    "            low = mid + 1\n",
    "        else:\n",
    "            high = mid - 1\n",
    "    \n",
    "    return low\n",
    "            \n",
    "\n",
    "arr = [10, 20, 30, 40]\n",
    "k = 2\n",
    "\n",
    "painterPartition(arr, k)\n",
    "\n",
    "# O(N * log(sum(arr[])-max(arr[])+1))"
   ]
  },
  {
   "cell_type": "code",
   "execution_count": null,
   "id": "b2253b8f",
   "metadata": {},
   "outputs": [],
   "source": [
    "# brute force\n",
    "\n",
    "\n",
    "\n",
    "def countPainters(boards, time):\n",
    "    n = len(boards)  # size of array\n",
    "    painters = 1\n",
    "    boardsPainter = 0\n",
    "    for i in range(n):\n",
    "        if boardsPainter + boards[i] <= time:\n",
    "            # allocate board to current painter\n",
    "            boardsPainter += boards[i]\n",
    "        else:\n",
    "            # allocate board to next painter\n",
    "            painters += 1\n",
    "            boardsPainter = boards[i]\n",
    "    return painters\n",
    "\n",
    "\n",
    "def findLargestMinDistance(boards, k):\n",
    "    low = max(boards)\n",
    "    high = sum(boards)\n",
    "\n",
    "    for time in range(low, high+1):\n",
    "        if countPainters(boards, time) <= k:\n",
    "            return time\n",
    "    return low\n",
    "\n",
    "\n",
    "boards = [10, 20, 30, 40]\n",
    "k = 2\n",
    "ans = findLargestMinDistance(boards, k)\n",
    "print(\"The answer is:\", ans)\n",
    "\n"
   ]
  },
  {
   "cell_type": "markdown",
   "id": "cce95dbc",
   "metadata": {},
   "source": [
    "### Median of two sorted arrays"
   ]
  },
  {
   "cell_type": "code",
   "execution_count": 557,
   "id": "b235d921",
   "metadata": {},
   "outputs": [
    {
     "data": {
      "text/plain": [
       "6"
      ]
     },
     "execution_count": 557,
     "metadata": {},
     "output_type": "execute_result"
    }
   ],
   "source": [
    "def medianTwo(arr1, arr2, m, n):\n",
    "    if m > n:\n",
    "        return medianTwo(arr2, arr1, n, m)\n",
    "    low = 0\n",
    "    high = m\n",
    "    medianPos = (m+n+1)//2\n",
    "    \n",
    "    while low <= high:\n",
    "        cut1 = (low + high)//2\n",
    "        cut2 = medianPos - cut1\n",
    "        \n",
    "        l1 = float('-inf') if cut1 == 0 else arr1[cut1-1]\n",
    "        l2 = float('-inf') if cut2 == 0 else arr2[cut2-1]\n",
    "        r1 = float('inf') if cut1 == m else arr1[cut1]\n",
    "        r2 = float('inf') if cut2 == n else arr2[cut2]\n",
    "        \n",
    "        if l1 <= r2 and l2 <= r1:\n",
    "            if (m+n) % 2 == 0:\n",
    "                return max(l1,l2)\n",
    "            else:\n",
    "                return (max(l1,l2)+min(r1,r2))//2\n",
    "        elif l1 > r2:\n",
    "            high = cut1 - 1\n",
    "        else:\n",
    "            low = cut1 + 1\n",
    "    return 0.0\n",
    "\n",
    "medianTwo([1, 4, 7, 10, 12], [2, 3, 6, 15], 5, 4)\n",
    "\n",
    "# time: O(log(min(m,n)))"
   ]
  },
  {
   "cell_type": "markdown",
   "id": "114cdecc",
   "metadata": {},
   "source": [
    "### Kth element of two sorted arrays "
   ]
  },
  {
   "cell_type": "code",
   "execution_count": 561,
   "id": "2dd04e9f",
   "metadata": {},
   "outputs": [
    {
     "data": {
      "text/plain": [
       "6"
      ]
     },
     "execution_count": 561,
     "metadata": {},
     "output_type": "execute_result"
    }
   ],
   "source": [
    "def kthSorted(arr1, arr2, m, n, k):\n",
    "    \n",
    "    if m > n:\n",
    "        return kthSorted(arr2, arr1, n, m, k)\n",
    "    \n",
    "    low = max(0, k-m)\n",
    "    high = min(k, n)\n",
    "    \n",
    "    while low <= high:\n",
    "        cut1 = (low+high)//2\n",
    "        cut2 = k - cut1\n",
    "        \n",
    "        l1 = float('-inf') if cut1 == 0 else arr1[cut1-1]\n",
    "        l2 = float('-inf') if cut2 == 0 else arr2[cut2-1]\n",
    "        r1 = float('inf') if cut1 == m else arr1[cut1]\n",
    "        r2 = float('inf') if cut2 == n else arr2[cut2]\n",
    "        \n",
    "        if l1 <= r2 and l2 <= r1:\n",
    "            return max(l1, l2)\n",
    "        elif l1 > r2:\n",
    "            high = cut1 - 1\n",
    "        else:\n",
    "            low = cut1 + 1\n",
    "    return 1\n",
    "kthSorted([2, 3, 6, 7, 9], [1, 4, 8, 10], 5, 4, 5)\n",
    "\n",
    "# time: O(log(min(m,n)))"
   ]
  },
  {
   "cell_type": "code",
   "execution_count": null,
   "id": "0f1711eb",
   "metadata": {},
   "outputs": [],
   "source": []
  },
  {
   "cell_type": "markdown",
   "id": "0899b908",
   "metadata": {},
   "source": [
    "### Finding SQRT of number "
   ]
  },
  {
   "cell_type": "code",
   "execution_count": 562,
   "id": "a068fd2b",
   "metadata": {},
   "outputs": [
    {
     "name": "stdout",
     "output_type": "stream",
     "text": [
      "The floor of square root of 28 is: 5\n"
     ]
    }
   ],
   "source": [
    "def floorSqrt(n):\n",
    "    low = 1\n",
    "    high = n\n",
    "    # Binary search on the answers:\n",
    "    while low <= high:\n",
    "        mid = (low + high) // 2\n",
    "        val = mid * mid\n",
    "        if val <= n:\n",
    "            # Eliminate the left half:\n",
    "            low = mid + 1\n",
    "        else:\n",
    "            # Eliminate the right half:\n",
    "            high = mid - 1\n",
    "    return high\n",
    "\n",
    "n = 28\n",
    "ans = floorSqrt(n)\n",
    "print(\"The floor of square root of\", n, \"is:\", ans)\n",
    "\n"
   ]
  },
  {
   "cell_type": "markdown",
   "id": "01d901ad",
   "metadata": {},
   "source": [
    "### Nth root of a binary search"
   ]
  },
  {
   "cell_type": "code",
   "execution_count": 552,
   "id": "313c6eb1",
   "metadata": {},
   "outputs": [
    {
     "data": {
      "text/plain": [
       "3"
      ]
     },
     "execution_count": 552,
     "metadata": {},
     "output_type": "execute_result"
    }
   ],
   "source": [
    "def nthRoot(n, m):\n",
    "    low = 1\n",
    "    high = m\n",
    "    \n",
    "    while low <= high:\n",
    "        mid = (low+high)//2\n",
    "        val = mid * mid * mid\n",
    "        if val == m:\n",
    "            return mid\n",
    "        elif val > m:\n",
    "            high = mid - 1\n",
    "        else:\n",
    "            low = mid + 1\n",
    "    return -1\n",
    "nthRoot(3, 27)\n",
    "\n",
    "# time: log(n)"
   ]
  },
  {
   "cell_type": "markdown",
   "id": "858a0db4",
   "metadata": {},
   "source": [
    "### median of sorted row matrix"
   ]
  },
  {
   "cell_type": "code",
   "execution_count": 565,
   "id": "a9716372",
   "metadata": {},
   "outputs": [
    {
     "data": {
      "text/plain": [
       "5"
      ]
     },
     "execution_count": 565,
     "metadata": {},
     "output_type": "execute_result"
    }
   ],
   "source": [
    "def countSmallerThanMid(arr, ele):\n",
    "    low = 0\n",
    "    high = len(arr) - 1\n",
    "    while low <= high:\n",
    "        mid = (low+high)//2\n",
    "        if arr[mid] <= ele:\n",
    "            low = mid + 1\n",
    "        else:\n",
    "            high = mid - 1\n",
    "    return low\n",
    "\n",
    "def medianRowSort(arr):\n",
    "    n = len(arr)\n",
    "    m = len(arr[0])\n",
    "    medPos = (n * m)//2\n",
    "    \n",
    "    low = 1\n",
    "    high = 1000\n",
    "    \n",
    "    while low <= high:\n",
    "        mid = (low+high)//2\n",
    "        cnt = 0\n",
    "        for i in range(n):\n",
    "            cnt += countSmallerThanMid(arr[i], mid)\n",
    "        if cnt <= medPos:\n",
    "            low = mid + 1\n",
    "        else:\n",
    "            high = mid - 1\n",
    "    return low\n",
    "\n",
    "medianRowSort([[1,4,9], [2,5,6], [3,8,7]])\n",
    "\n",
    "# time: O(row*log col) "
   ]
  },
  {
   "cell_type": "markdown",
   "id": "5f91cbb3",
   "metadata": {},
   "source": [
    "### search element in rotate sorted array"
   ]
  },
  {
   "cell_type": "code",
   "execution_count": 567,
   "id": "f9b5f053",
   "metadata": {},
   "outputs": [
    {
     "name": "stdout",
     "output_type": "stream",
     "text": [
      "The index is: 3\n"
     ]
    }
   ],
   "source": [
    "\n",
    "def search(arr, n, k):\n",
    "    low = 0\n",
    "    high = n - 1\n",
    "    while low <= high:\n",
    "        mid = (low + high) // 2\n",
    "\n",
    "        # if mid points the target\n",
    "        if arr[mid] == k:\n",
    "            return mid\n",
    "\n",
    "        # if left part is sorted\n",
    "        if arr[low] <= arr[mid]:\n",
    "            if arr[low] <= k and k <= arr[mid]:\n",
    "                # element exists\n",
    "                high = mid - 1\n",
    "            else:\n",
    "                # element does not exist\n",
    "                low = mid + 1\n",
    "        else:  # if right part is sorted\n",
    "            if arr[mid] <= k and k <= arr[high]:\n",
    "                # element exists\n",
    "                low = mid + 1\n",
    "            else:\n",
    "                # element does not exist\n",
    "                high = mid - 1\n",
    "    return -1\n",
    "\n",
    "if __name__ == \"__main__\":\n",
    "    arr = [7, 8, 9, 1, 2, 3, 4, 5, 6]\n",
    "    n = 9\n",
    "    k = 1\n",
    "    ans = search(arr, n, k)\n",
    "    if ans == -1:\n",
    "        print(\"Target is not present.\")\n",
    "    else:\n",
    "        print(\"The index is:\", ans)\n",
    "\n",
    "# time: log n"
   ]
  },
  {
   "cell_type": "markdown",
   "id": "d0d2166a",
   "metadata": {},
   "source": [
    "### Kth missing +ve number "
   ]
  },
  {
   "cell_type": "code",
   "execution_count": 572,
   "id": "5fbe3f7d",
   "metadata": {},
   "outputs": [
    {
     "data": {
      "text/plain": [
       "5"
      ]
     },
     "execution_count": 572,
     "metadata": {},
     "output_type": "execute_result"
    }
   ],
   "source": [
    "def kthMissing(arr, k):\n",
    "    n = len(arr)\n",
    "    low = 1\n",
    "    high = n - 1\n",
    "\n",
    "    while low <= high:\n",
    "        mid = (low+high)//2\n",
    "        \n",
    "        val = arr[mid] - (mid+1)\n",
    "        if val < k:\n",
    "            low = mid + 1\n",
    "        else:\n",
    "            high = mid - 1\n",
    "        \n",
    "    return high + k + 1\n",
    "    \n",
    "arr = [4, 7, 9, 10]\n",
    "k = 4\n",
    "kthMissing(arr, k)"
   ]
  },
  {
   "cell_type": "markdown",
   "id": "b5d8cbdd",
   "metadata": {},
   "source": [
    "### Find Smallest Divisor given a threshold "
   ]
  },
  {
   "cell_type": "code",
   "execution_count": 584,
   "id": "4bd90f78",
   "metadata": {},
   "outputs": [
    {
     "data": {
      "text/plain": [
       "3"
      ]
     },
     "execution_count": 584,
     "metadata": {},
     "output_type": "execute_result"
    }
   ],
   "source": [
    "import math\n",
    "def sumByD(arr, div):\n",
    "    ans = 0\n",
    "    n = len(arr)\n",
    "    for i in range(n):\n",
    "        val = math.ceil(arr[i]/div)\n",
    "        ans += val\n",
    "    return ans\n",
    "\n",
    "def smallestDivisor(arr, limit):\n",
    "    n = len(arr)\n",
    "    if n > limit:\n",
    "        return -1\n",
    "    low = 1\n",
    "    high = max(arr)\n",
    "    \n",
    "    while low <= high:\n",
    "        mid = (low+high)//2\n",
    "        val = sumByD(arr, mid)\n",
    "        if val <= limit:\n",
    "            high = mid - 1\n",
    "        else:\n",
    "            low = mid + 1\n",
    "    return low\n",
    "smallestDivisor([1,2,3,4,5], 8)\n",
    "# time: O(log(max(arr[]))*N)"
   ]
  },
  {
   "cell_type": "code",
   "execution_count": null,
   "id": "caa9e1fc",
   "metadata": {},
   "outputs": [],
   "source": []
  },
  {
   "cell_type": "code",
   "execution_count": null,
   "id": "e0588785",
   "metadata": {},
   "outputs": [],
   "source": []
  },
  {
   "cell_type": "code",
   "execution_count": null,
   "id": "b15876e0",
   "metadata": {},
   "outputs": [],
   "source": []
  },
  {
   "cell_type": "markdown",
   "id": "6bfed7a3",
   "metadata": {},
   "source": [
    "### Stack and Queue "
   ]
  },
  {
   "cell_type": "markdown",
   "id": "5ae9908c",
   "metadata": {},
   "source": [
    "### Implementing stack using array "
   ]
  },
  {
   "cell_type": "code",
   "execution_count": 450,
   "id": "b820dc34",
   "metadata": {},
   "outputs": [],
   "source": [
    "class Stack:\n",
    "    def __init__(self):\n",
    "        self.top = -1\n",
    "        self.size = 1000\n",
    "        self.arr = [0] * self.size\n",
    "\n",
    "\n",
    "    def push(self, x: int) -> None:\n",
    "        self.top += 1\n",
    "        self.arr[self.top] = x\n",
    "\n",
    "\n",
    "    def pop(self) -> int:\n",
    "        x = self.arr[self.top]\n",
    "        self.top -= 1\n",
    "        return x\n",
    "\n",
    "\n",
    "    def Top(self) -> int:\n",
    "        return self.arr[self.top]\n",
    "\n",
    "\n",
    "    def Size(self) -> int:\n",
    "        return self.top + 1\n",
    "# time: N\n",
    "# space: N"
   ]
  },
  {
   "cell_type": "markdown",
   "id": "d334bff4",
   "metadata": {},
   "source": [
    "### Implementing queue using array "
   ]
  },
  {
   "cell_type": "code",
   "execution_count": 451,
   "id": "a820f533",
   "metadata": {},
   "outputs": [],
   "source": [
    "class Queue:\n",
    "    def __init__(self):\n",
    "        self.start = -1\n",
    "        self.end = -1\n",
    "        self.currSize = 0\n",
    "        self.maxSize = 16\n",
    "        self.arr = [0] * self.maxSize\n",
    "\n",
    "\n",
    "    def push(self, newElement: int) -> None:\n",
    "        if self.currSize == self.maxSize:\n",
    "            print(\"Queue is full\\nExiting...\")\n",
    "            exit(1)\n",
    "        if self.end == -1:\n",
    "            self.start = 0\n",
    "            self.end = 0\n",
    "        else:\n",
    "            self.end = (self.end + 1) % self.maxSize\n",
    "        self.arr[self.end] = newElement\n",
    "        print(\"The element pushed is\", newElement)\n",
    "        self.currSize += 1\n",
    "\n",
    "\n",
    "    def pop(self) -> int:\n",
    "        if self.start == -1:\n",
    "            print(\"Queue Empty\\nExiting...\")\n",
    "        popped = self.arr[self.start]\n",
    "        if self.currSize == 1:\n",
    "            self.start = -1\n",
    "            self.end = -1\n",
    "        else:\n",
    "            self.start = (self.start + 1) % self.maxSize\n",
    "        self.currSize -= 1\n",
    "        return popped\n",
    "\n",
    "\n",
    "    def top(self) -> int:\n",
    "        if self.start == -1:\n",
    "            print(\"Queue is Empty\")\n",
    "            exit(1)\n",
    "        return self.arr[self.start]\n",
    "\n",
    "\n",
    "    def size(self) -> int:\n",
    "        return self.currSize"
   ]
  },
  {
   "cell_type": "markdown",
   "id": "60650686",
   "metadata": {},
   "source": [
    "### Implement stack using single queue "
   ]
  },
  {
   "cell_type": "code",
   "execution_count": 454,
   "id": "fee9e3c3",
   "metadata": {},
   "outputs": [],
   "source": [
    "from queue import Queue\n",
    "\n",
    "\n",
    "\n",
    "\n",
    "class Stack:\n",
    "    def __init__(self):\n",
    "        self.q = Queue()\n",
    "\n",
    "\n",
    "    def push(self, x):\n",
    "        s = self.q.qsize()\n",
    "        self.q.put(x)\n",
    "        for i in range(s):\n",
    "            self.q.put(self.q.get())\n",
    "\n",
    "\n",
    "    def pop(self):\n",
    "        n = self.q.get()\n",
    "        return n\n",
    "\n",
    "\n",
    "    def top(self):\n",
    "        return self.q.queue[0]\n",
    "\n",
    "\n",
    "    def size(self):\n",
    "        return self.q.qsize()\n"
   ]
  },
  {
   "cell_type": "markdown",
   "id": "c826a4b1",
   "metadata": {},
   "source": [
    "### Check for Balanced Parentheses "
   ]
  },
  {
   "cell_type": "code",
   "execution_count": 461,
   "id": "e32815d4",
   "metadata": {},
   "outputs": [
    {
     "name": "stdout",
     "output_type": "stream",
     "text": [
      "True\n",
      "False\n",
      "False\n"
     ]
    }
   ],
   "source": [
    "def balancedParanthese(string):\n",
    "    stack = []\n",
    "    hashmap = {'}':'{', ']':'[', ')':'('}\n",
    "    for i in range(0, len(string)):\n",
    "        if string[i] in '([{':\n",
    "            stack.append(string[i])\n",
    "        else:\n",
    "            if not stack:\n",
    "                return False\n",
    "            peek = stack[-1]\n",
    "            val = hashmap.get(string[i])\n",
    "            if val == peek:\n",
    "                stack.pop()\n",
    "            else:\n",
    "                return False\n",
    "    return len(stack) == 0\n",
    "print(balancedParanthese('[{()}]'))\n",
    "print(balancedParanthese('()()}'))\n",
    "print(balancedParanthese('[()](}'))\n",
    "\n",
    "# time: n\n",
    "# space: n"
   ]
  },
  {
   "cell_type": "markdown",
   "id": "6fa34a06",
   "metadata": {},
   "source": [
    "### Next greater element using stack in circular array "
   ]
  },
  {
   "cell_type": "code",
   "execution_count": 478,
   "id": "d66e77d6",
   "metadata": {},
   "outputs": [
    {
     "name": "stdout",
     "output_type": "stream",
     "text": [
      "[7, -1, 7, -1, 7, 5]\n",
      "[10, -1, 6, 6, 2, 6, 7, 7, 9, 9, 10]\n"
     ]
    }
   ],
   "source": [
    "def nextGreCir(arr):\n",
    "    n = len(arr)\n",
    "    ans = [-1] * n\n",
    "    virtual_len = 2 * n - 1\n",
    "    stack = [arr[-1]]\n",
    "    \n",
    "    virtual_len -= 1\n",
    "    \n",
    "    while virtual_len >= 0:\n",
    "        peek = stack[-1]\n",
    "        curr_idx = virtual_len % n\n",
    "\n",
    "        while stack and peek <= arr[curr_idx]:\n",
    "            peek = stack.pop()\n",
    "            \n",
    "\n",
    "        if peek > arr[curr_idx]:\n",
    "            stack.append(peek)\n",
    "            ans[curr_idx] = peek\n",
    "                \n",
    "        virtual_len -= 1\n",
    "        stack.append(arr[curr_idx])\n",
    "    \n",
    "    return ans\n",
    "print(nextGreCir([5,7,1,7,6,0]))           \n",
    "print(nextGreCir([3,10,4,2,1,2,6,1,7,2,9]))\n",
    "\n",
    "\n",
    "# time: n\n",
    "# space: n"
   ]
  },
  {
   "cell_type": "code",
   "execution_count": null,
   "id": "c8a2ba1c",
   "metadata": {},
   "outputs": [],
   "source": []
  },
  {
   "cell_type": "markdown",
   "id": "da3fa0ed",
   "metadata": {},
   "source": [
    "# Greedy approach "
   ]
  },
  {
   "cell_type": "markdown",
   "id": "313d6c77",
   "metadata": {},
   "source": [
    "### N meetings in one room "
   ]
  },
  {
   "cell_type": "code",
   "execution_count": 482,
   "id": "53f1e4bc",
   "metadata": {},
   "outputs": [
    {
     "data": {
      "text/plain": [
       "[1, 2, 4, 5]"
      ]
     },
     "execution_count": 482,
     "metadata": {},
     "output_type": "execute_result"
    }
   ],
   "source": [
    "def nMeetings(start, end):\n",
    "    n = len(start)\n",
    "    meetings = [(start[i], end[i], i+1) for i in range(0, n)]\n",
    "    sorted(meetings, key = lambda x: (x[1], x[0]))\n",
    "    ans = []\n",
    "    limit = meetings[0][1]\n",
    "    ans.append(meetings[0][2])\n",
    "    for i in range(1, n):\n",
    "        if meetings[i][0] > limit:\n",
    "            ans.append(meetings[i][2])\n",
    "            limit = meetings[i][1]\n",
    "    return ans\n",
    "nMeetings([1, 3, 0, 5, 8, 5], [2, 4, 5, 7, 9, 9])\n",
    "# time: O(n) +O(n log n) + O(n) ~= O(n log n)\n",
    "# space: O(n)"
   ]
  },
  {
   "cell_type": "markdown",
   "id": "44c10260",
   "metadata": {},
   "source": [
    "### Minimum platforms required "
   ]
  },
  {
   "cell_type": "code",
   "execution_count": 489,
   "id": "ed7ac075",
   "metadata": {},
   "outputs": [
    {
     "data": {
      "text/plain": [
       "3"
      ]
     },
     "execution_count": 489,
     "metadata": {},
     "output_type": "execute_result"
    }
   ],
   "source": [
    "def minPlat(arr, dep):\n",
    "    arr.sort()\n",
    "    dep.sort()\n",
    "    i = 1\n",
    "    j = 0\n",
    "    plat = 1\n",
    "    cnt = 1\n",
    "    while i < len(arr) and j < len(dep):\n",
    "        if arr[i] <= dep[j]:\n",
    "            cnt += 1\n",
    "            i += 1\n",
    "        else:\n",
    "            cnt -= 1\n",
    "            j += 1\n",
    "        plat = max(plat, cnt)\n",
    "    return plat\n",
    "minPlat([900,945,955,1100,1500,1800], [920,1200,1130,1150,1900,2000])\n",
    "\n",
    "# time: nlogn\n",
    "# space: 1"
   ]
  },
  {
   "cell_type": "code",
   "execution_count": 490,
   "id": "917c2185",
   "metadata": {},
   "outputs": [],
   "source": [
    "# brute force\n",
    "def countPlatforms(n, arr, dep):\n",
    "    ans = 1  # final value\n",
    "    for i in range(n):\n",
    "        count = 1  # count of overlapping interval of only this iteration\n",
    "        for j in range(i+1, n):\n",
    "            if (arr[i] >= arr[j] and arr[i] <= dep[j]) or (arr[j] >= arr[i] and arr[j] <= dep[i]):\n",
    "                count += 1\n",
    "        ans = max(ans, count)  # updating the value\n",
    "    return ans\n",
    "\n",
    "# time: n2\n"
   ]
  },
  {
   "cell_type": "markdown",
   "id": "ee7c07df",
   "metadata": {},
   "source": [
    "### Find minimum number of coins"
   ]
  },
  {
   "cell_type": "code",
   "execution_count": 494,
   "id": "186ff564",
   "metadata": {},
   "outputs": [
    {
     "data": {
      "text/plain": [
       "3"
      ]
     },
     "execution_count": 494,
     "metadata": {},
     "output_type": "execute_result"
    }
   ],
   "source": [
    "def minimumCoins(n, arr):\n",
    "    n_len = len(arr)\n",
    "    \n",
    "    def bs(ele):\n",
    "        low = 0\n",
    "        high = n_len\n",
    "        while low <= high:\n",
    "            mid = (low+high)//2\n",
    "            if arr[mid] <= ele:\n",
    "                res = arr[mid]\n",
    "                low = mid + 1\n",
    "            else:\n",
    "                high = mid - 1\n",
    "        return res\n",
    "    cnt = 0\n",
    "    while n > 0:\n",
    "        ele = bs(n)\n",
    "        n -= ele\n",
    "        cnt += 1\n",
    "    return cnt\n",
    "minimumCoins(121, [1, 2, 5, 10, 20, 50, 100, 500, 1000])\n",
    "\n",
    "# time complexity would be n * logn ~= nlogn\n",
    "# my approach"
   ]
  },
  {
   "cell_type": "code",
   "execution_count": 496,
   "id": "e6824ef0",
   "metadata": {},
   "outputs": [
    {
     "data": {
      "text/plain": [
       "(3, [100, 20, 1])"
      ]
     },
     "execution_count": 496,
     "metadata": {},
     "output_type": "execute_result"
    }
   ],
   "source": [
    "# optimal approach\n",
    "def minimumCoins(n, coins):\n",
    "    cnt = 0\n",
    "    ans = []\n",
    "    for i in range(len(coins) - 1,  -1, -1):\n",
    "        while n >= coins[i]:\n",
    "            n -= coins[i]\n",
    "            cnt += 1\n",
    "            ans.append(coins[i])\n",
    "    return cnt, ans\n",
    "minimumCoins(121, [1, 2, 5, 10, 20, 50, 100, 500, 1000])\n",
    "\n",
    "# time: O(n)\n",
    "# space: 1"
   ]
  },
  {
   "cell_type": "markdown",
   "id": "6d61d303",
   "metadata": {},
   "source": [
    "### Fractional Knapsack"
   ]
  },
  {
   "cell_type": "code",
   "execution_count": 520,
   "id": "0e847afd",
   "metadata": {},
   "outputs": [
    {
     "data": {
      "text/plain": [
       "240.0"
      ]
     },
     "execution_count": 520,
     "metadata": {},
     "output_type": "execute_result"
    }
   ],
   "source": [
    "# need to add some fractional weights in the knapsack to increase the value\n",
    "# we will sort based on value/weight\n",
    "\n",
    "class Knapsack:\n",
    "    def __init__(self, value, weight):\n",
    "        self.value = value\n",
    "        self.weight = weight\n",
    "        \n",
    "def gfKnapsack(arr, w, n):\n",
    "    \n",
    "    arr = sorted(arr, key = lambda x: x.value/x.weight, reverse=True)\n",
    "    curWeight = 0\n",
    "    ans = 0\n",
    "    for i in range(n):\n",
    "        if curWeight + arr[i].weight <= w:\n",
    "            curWeight += arr[i].weight\n",
    "            ans += arr[i].value\n",
    "        else:\n",
    "            remain = w - curWeight\n",
    "            ans += (arr[i].value/arr[i].weight) * remain\n",
    "            break\n",
    "    \n",
    "    return ans\n",
    "\n",
    "knap = [Knapsack(60, 10), Knapsack(100, 20), Knapsack(120, 30)]\n",
    "gfKnapsack(knap, 50, 3)\n",
    "\n",
    "# time: n\n",
    "# space: 1"
   ]
  },
  {
   "cell_type": "markdown",
   "id": "7ddc0aa0",
   "metadata": {},
   "source": [
    "### Job sequence"
   ]
  },
  {
   "cell_type": "code",
   "execution_count": 526,
   "id": "e537f7fc",
   "metadata": {},
   "outputs": [
    {
     "data": {
      "text/plain": [
       "(60, [3, -1, -1, 1, -1])"
      ]
     },
     "execution_count": 526,
     "metadata": {},
     "output_type": "execute_result"
    }
   ],
   "source": [
    "# need to do maximum amount of work\n",
    "def jobSequence(arr):\n",
    "    arr.sort(key = lambda x: x[2], reverse = True)\n",
    "    n = len(arr)\n",
    "    \n",
    "    maxi = arr[0][1]\n",
    "    for i in range(1, n):\n",
    "        maxi = max(maxi, arr[i][1])\n",
    "    \n",
    "    jobs = [-1] * (maxi + 1)\n",
    "    ans = 0\n",
    "    for i in range(n):\n",
    "        for j in range(arr[i][1] - 1, -1, -1):\n",
    "            if jobs[j] == -1:\n",
    "                jobs[j] = arr[i][0]\n",
    "                ans += arr[i][2]\n",
    "                break\n",
    "    return ans, jobs\n",
    "                \n",
    "\n",
    "jobSequence([[1,4,20],[2,1,10],[3,1,40],[4,1,30]]) # job id, deadline, points\n",
    "\n",
    "# time: O(N log N) + O(N*M)\n",
    "# space: n"
   ]
  },
  {
   "cell_type": "markdown",
   "id": "a7dd5a31",
   "metadata": {},
   "source": [
    "### Activity Selection (same as n meeting room) \n",
    "check above solution\""
   ]
  },
  {
   "cell_type": "code",
   "execution_count": null,
   "id": "34cdb29d",
   "metadata": {},
   "outputs": [],
   "source": []
  },
  {
   "cell_type": "markdown",
   "id": "03d2edf1",
   "metadata": {},
   "source": [
    "# Graph 1"
   ]
  },
  {
   "cell_type": "markdown",
   "id": "be8fe88a",
   "metadata": {},
   "source": [
    "### Topological Sort using DFS "
   ]
  },
  {
   "cell_type": "code",
   "execution_count": 35,
   "id": "48a10499",
   "metadata": {},
   "outputs": [
    {
     "name": "stdout",
     "output_type": "stream",
     "text": [
      "1 2 3 5 4 "
     ]
    }
   ],
   "source": [
    "def topoDFS(graph, src, visited, stack):\n",
    "    visited.add(src)\n",
    "    \n",
    "    for edge in graph[src]:\n",
    "        if edge not in visited:\n",
    "            topoDFS(graph, edge, visited, stack)\n",
    "            \n",
    "    stack.append(src)\n",
    "\n",
    "def topologicalSort(graph):\n",
    "    visited = set()\n",
    "    stack = []\n",
    "    \n",
    "    for src in graph:\n",
    "        if src not in visited:\n",
    "            topoDFS(graph, src, visited, stack)\n",
    "    \n",
    "    while stack:\n",
    "        print(stack.pop(), end = ' ')\n",
    "\n",
    "topologicalSort({1:[2,3], 2:[3,4], 3:[4,5], 4:[], 5:[]})\n",
    "\n",
    "# time: N+E\n",
    "# space: N+N"
   ]
  },
  {
   "cell_type": "code",
   "execution_count": 36,
   "id": "3d23e2ad",
   "metadata": {},
   "outputs": [
    {
     "name": "stdout",
     "output_type": "stream",
     "text": [
      "1 2 4 3 "
     ]
    }
   ],
   "source": [
    "topologicalSort({1:[2], 2:[4], 3:[], 4:[1,3]})"
   ]
  },
  {
   "cell_type": "markdown",
   "id": "e014f857",
   "metadata": {},
   "source": [
    "### Topological Sort (BFS) Kahn's Algorithm "
   ]
  },
  {
   "cell_type": "code",
   "execution_count": 38,
   "id": "c024af14",
   "metadata": {},
   "outputs": [
    {
     "name": "stdout",
     "output_type": "stream",
     "text": [
      "indegree {1: 0, 2: 1, 3: 2, 4: 2, 5: 1}\n"
     ]
    },
    {
     "data": {
      "text/plain": [
       "[1, 2, 3, 4, 5]"
      ]
     },
     "execution_count": 38,
     "metadata": {},
     "output_type": "execute_result"
    }
   ],
   "source": [
    "from collections import defaultdict, deque\n",
    "def KahnTopologicalSort(graph):\n",
    "    \n",
    "    # create indegree dict\n",
    "    indegree = {x:0 for x in graph}\n",
    "    for node in graph:\n",
    "        for edge in graph[node]:\n",
    "            indegree[edge] += 1\n",
    "    print('indegree', indegree)\n",
    "    # insert nodes having indegree 0\n",
    "    queue = deque()\n",
    "    for x in indegree:\n",
    "        if indegree[x] == 0:\n",
    "            queue.append(x)\n",
    "    \n",
    "    res = []\n",
    "    # now traverse queue till queue become empty\n",
    "    while queue:\n",
    "        node = queue.popleft()\n",
    "        res.append(node)\n",
    "        \n",
    "        for edge in graph[node]:\n",
    "            indegree[edge] -= 1\n",
    "            if indegree[edge] == 0:\n",
    "                queue.append(edge)\n",
    "    return res\n",
    "    \n",
    "    \n",
    "    print(indegree)\n",
    "KahnTopologicalSort({1:[2,3], 2:[3,4], 3:[4,5], 4:[], 5:[]})\n",
    "\n",
    "# time: N+E\n",
    "# space: N"
   ]
  },
  {
   "cell_type": "code",
   "execution_count": 39,
   "id": "95763e5e",
   "metadata": {},
   "outputs": [
    {
     "name": "stdout",
     "output_type": "stream",
     "text": [
      "indegree {1: 1, 2: 1, 3: 1, 4: 1}\n"
     ]
    },
    {
     "data": {
      "text/plain": [
       "[]"
      ]
     },
     "execution_count": 39,
     "metadata": {},
     "output_type": "execute_result"
    }
   ],
   "source": [
    "KahnTopologicalSort({1:[2], 2:[4], 3:[], 4:[1,3]})"
   ]
  },
  {
   "cell_type": "markdown",
   "id": "75f6abe3",
   "metadata": {},
   "source": [
    "### Course Schedule 1 "
   ]
  },
  {
   "cell_type": "code",
   "execution_count": 44,
   "id": "7d050fd8",
   "metadata": {},
   "outputs": [
    {
     "name": "stdout",
     "output_type": "stream",
     "text": [
      "True\n",
      "False\n"
     ]
    }
   ],
   "source": [
    "def courseSchedule1(nums, n):\n",
    "    graph = {}\n",
    "    \n",
    "    for edge1, edge2 in nums:\n",
    "        if edge1 not in graph:\n",
    "            graph[edge1] = []\n",
    "        if edge2 not in graph:\n",
    "            graph[edge2] = []\n",
    "        \n",
    "        graph[edge1].append(edge2)\n",
    "    \n",
    "    # indegree of graph\n",
    "    indegree = {node:0 for node in graph}\n",
    "    for node in graph:\n",
    "        for edge in graph[node]:\n",
    "            indegree[edge] += 1\n",
    "    \n",
    "    # put indegree 0 in the queue\n",
    "    queue = deque()\n",
    "    for node in indegree:\n",
    "        if indegree[node] == 0:\n",
    "            queue.append(node)\n",
    "            \n",
    "    res = []\n",
    "    while queue:\n",
    "        node = queue.popleft()\n",
    "        res.append(node)\n",
    "        \n",
    "        for edge in graph[node]:\n",
    "            indegree[edge] -= 1\n",
    "            \n",
    "            if indegree[edge] == 0:\n",
    "                queue.append(edge)\n",
    "    \n",
    "    return len(res) == n\n",
    "\n",
    "print(courseSchedule1([[1,0],[2,1],[3,2]], 4))\n",
    "print(courseSchedule1([[1,2],[4,3],[2,4],[4,1]], 4))\n",
    "\n",
    "# time: v+e\n",
    "# space: n"
   ]
  },
  {
   "cell_type": "markdown",
   "id": "795ec78e",
   "metadata": {},
   "source": [
    "### Course Schedule 2 "
   ]
  },
  {
   "cell_type": "code",
   "execution_count": 45,
   "id": "dcb87254",
   "metadata": {},
   "outputs": [
    {
     "name": "stdout",
     "output_type": "stream",
     "text": [
      "[3, 2, 1, 0]\n",
      "[]\n"
     ]
    }
   ],
   "source": [
    "def courseSchedule2(nums, n):\n",
    "    graph = {}\n",
    "    \n",
    "    for edge1, edge2 in nums:\n",
    "        if edge1 not in graph:\n",
    "            graph[edge1] = []\n",
    "        if edge2 not in graph:\n",
    "            graph[edge2] = []\n",
    "        \n",
    "        graph[edge1].append(edge2)\n",
    "    \n",
    "    # indegree of graph\n",
    "    indegree = {node:0 for node in graph}\n",
    "    for node in graph:\n",
    "        for edge in graph[node]:\n",
    "            indegree[edge] += 1\n",
    "    \n",
    "    # put indegree 0 in the queue\n",
    "    queue = deque()\n",
    "    for node in indegree:\n",
    "        if indegree[node] == 0:\n",
    "            queue.append(node)\n",
    "            \n",
    "    res = []\n",
    "    while queue:\n",
    "        node = queue.popleft()\n",
    "        res.append(node)\n",
    "        \n",
    "        for edge in graph[node]:\n",
    "            indegree[edge] -= 1\n",
    "            \n",
    "            if indegree[edge] == 0:\n",
    "                queue.append(edge)\n",
    "    \n",
    "    return res\n",
    "\n",
    "print(courseSchedule2([[1,0],[2,1],[3,2]], 4))\n",
    "print(courseSchedule2([[1,2],[4,3],[2,4],[4,1]], 4))\n",
    "\n",
    "# time: v+e\n",
    "# space: n"
   ]
  },
  {
   "cell_type": "markdown",
   "id": "39586b55",
   "metadata": {},
   "source": [
    "### Alien Dict "
   ]
  },
  {
   "cell_type": "code",
   "execution_count": 55,
   "id": "303b56fa",
   "metadata": {},
   "outputs": [
    {
     "name": "stdout",
     "output_type": "stream",
     "text": [
      "bdac\n",
      "cab\n"
     ]
    }
   ],
   "source": [
    "def alTopoSort(adj, k):\n",
    "    \n",
    "    # create indegree\n",
    "    indegree = {node: 0 for node in range(k)}\n",
    "    for node in range(k):\n",
    "        for edge in adj[node]:\n",
    "            indegree[edge] += 1\n",
    "    \n",
    "    # put indegree 0 to queue\n",
    "    queue = deque()\n",
    "    for node in indegree:\n",
    "        if indegree[node] == 0:\n",
    "            queue.append(node)\n",
    "    res = []\n",
    "    while queue:\n",
    "        node = queue.popleft()\n",
    "        res.append(node)\n",
    "        \n",
    "        for edge in adj[node]:\n",
    "            indegree[edge] -= 1\n",
    "            if indegree[edge] == 0:\n",
    "                queue.append(edge)\n",
    "    return res\n",
    "\n",
    "def alienDict(wordDict, n, k):\n",
    "    adj = [[] for _ in range(k)]\n",
    "    \n",
    "    for i in range(n-1):\n",
    "        s1 = wordDict[i]\n",
    "        s2 = wordDict[i+1]\n",
    "        ln = min(len(s1), len(s2))\n",
    "        \n",
    "        for ptr in range(ln):\n",
    "            if s1[ptr] != s2[ptr]:\n",
    "                adj[ord(s1[ptr]) - ord('a')].append(ord(s2[ptr]) - ord('a'))\n",
    "                break\n",
    "                \n",
    "    res = alTopoSort(adj, k)\n",
    "    ans = ''\n",
    "    for node in res:\n",
    "        ans += chr(node + ord('a'))\n",
    "    return ans\n",
    "        \n",
    "print(alienDict([\"baa\", \"abcd\", \"abca\", \"cab\", \"cad\"], 5, 4))\n",
    "print(alienDict([\"caa\",\"aaa\",\"aab\"], 3, 3))\n",
    "\n",
    "# time: O(N*len)+O(K+E)"
   ]
  },
  {
   "cell_type": "code",
   "execution_count": 50,
   "id": "9572c2b9",
   "metadata": {},
   "outputs": [
    {
     "data": {
      "text/plain": [
       "'b'"
      ]
     },
     "execution_count": 50,
     "metadata": {},
     "output_type": "execute_result"
    }
   ],
   "source": [
    "chr(ord('a')+1)"
   ]
  },
  {
   "cell_type": "code",
   "execution_count": null,
   "id": "afb4da64",
   "metadata": {},
   "outputs": [],
   "source": []
  },
  {
   "cell_type": "code",
   "execution_count": 616,
   "id": "1a9062c2",
   "metadata": {},
   "outputs": [],
   "source": [
    "bpt_graph = {\n",
    "    1: [2],\n",
    "    2: [3],\n",
    "    3: [4,5],\n",
    "    4: [6],\n",
    "    5: [7],\n",
    "    6: [8],\n",
    "    7: [8],\n",
    "    8: [9],\n",
    "    9: []\n",
    "}\n",
    "\n",
    "fbpt_graph = {\n",
    "    1: [2],\n",
    "    2: [1,3,6],\n",
    "    3: [2,4],\n",
    "    4: [3,7,5],\n",
    "    5: [4,6],\n",
    "    6: [2,5],\n",
    "    7: [4,8],\n",
    "    8: [7]\n",
    "}"
   ]
  },
  {
   "cell_type": "markdown",
   "id": "426995d5",
   "metadata": {},
   "source": [
    "### Bipartite Graph using DFS "
   ]
  },
  {
   "cell_type": "code",
   "execution_count": 623,
   "id": "0fe751d4",
   "metadata": {},
   "outputs": [
    {
     "name": "stdout",
     "output_type": "stream",
     "text": [
      "True\n",
      "False\n"
     ]
    }
   ],
   "source": [
    "def biDFS(graph, src, color, currcol):\n",
    "    color[src-1] = currcol\n",
    "    for edge in graph[src]:\n",
    "        if color[edge-1] == -1:\n",
    "            if not biDFS(graph, edge, color, 1-currcol):\n",
    "                return False\n",
    "        elif color[edge-1] == currcol:\n",
    "            return False\n",
    "        else:\n",
    "            return True\n",
    "    return True\n",
    "\n",
    "def biPartiteGraphDFS(graph):\n",
    "    color = [-1] * len(graph)\n",
    "    \n",
    "    for src in graph:\n",
    "        if color[src-1] == -1:\n",
    "            if not biDFS(graph, src, color, 0):\n",
    "                return False\n",
    "    return True\n",
    "\n",
    "print(biPartiteGraphDFS(bpt_graph))\n",
    "print(biPartiteGraphDFS(fbpt_graph))\n",
    "\n",
    "# time:  O(V + 2E), Where V = Vertices, 2E is for total degrees as we traverse all adjacent nodes.\n",
    "# space: O(V) for dfs recurrsion call"
   ]
  },
  {
   "cell_type": "markdown",
   "id": "c234ce2e",
   "metadata": {},
   "source": [
    "### Bipartite Graph using BFS"
   ]
  },
  {
   "cell_type": "code",
   "execution_count": 633,
   "id": "c8436b3f",
   "metadata": {},
   "outputs": [
    {
     "name": "stdout",
     "output_type": "stream",
     "text": [
      "True\n",
      "False\n"
     ]
    }
   ],
   "source": [
    "from collections import deque\n",
    "\n",
    "def biBfsHelper(src, graph, color):\n",
    "    queue = deque([(src, 0)])\n",
    "    color[src-1] = 0\n",
    "    while queue:\n",
    "        node, col = queue.popleft()\n",
    "        \n",
    "        for edge in graph[node]:\n",
    "            if color[edge-1] == -1:\n",
    "                queue.append([edge, 1 - col])\n",
    "            elif color[edge-1] == col:\n",
    "                return False\n",
    "    return True\n",
    "\n",
    "def biPartiteBFS(graph):\n",
    "    color = [-1] * len(graph)\n",
    "    \n",
    "    for src in graph:\n",
    "        if color[src-1] == -1:\n",
    "            if not biBfsHelper(src, graph, color):\n",
    "                return False\n",
    "    return True\n",
    "print(biPartiteBFS(bpt_graph))\n",
    "print(biPartiteBFS(fbpt_graph))\n",
    "\n",
    "# time: O(V+2E)\n",
    "# space: O(V) for queue"
   ]
  },
  {
   "cell_type": "markdown",
   "id": "1fd00473",
   "metadata": {},
   "source": [
    "### DFS "
   ]
  },
  {
   "cell_type": "code",
   "execution_count": 637,
   "id": "b0bc9070",
   "metadata": {},
   "outputs": [
    {
     "data": {
      "text/plain": [
       "[1, 2, 3, 4, 6, 8, 9, 5, 7]"
      ]
     },
     "execution_count": 637,
     "metadata": {},
     "output_type": "execute_result"
    }
   ],
   "source": [
    "def dfsGraph(graph, src, visited, lls):\n",
    "    visited.add(src)\n",
    "    lls.append(src)\n",
    "    \n",
    "    for edge in graph[src]:\n",
    "        if edge not in visited:\n",
    "            dfsGraph(graph, edge, visited, lls)\n",
    "\n",
    "def traverseGDFS(graph):\n",
    "    visited = set()\n",
    "    lls = []\n",
    "    \n",
    "    for src in graph:\n",
    "        if src not in visited:\n",
    "            dfsGraph(graph, src, visited, lls)\n",
    "    \n",
    "    return lls\n",
    "traverseGDFS(bpt_graph)\n",
    "# time: N+E (directed graph) and N+2E (Undirected graph)\n",
    "# space: N"
   ]
  },
  {
   "cell_type": "markdown",
   "id": "152adeff",
   "metadata": {},
   "source": [
    "### BFS "
   ]
  },
  {
   "cell_type": "code",
   "execution_count": 643,
   "id": "ef71b7ef",
   "metadata": {},
   "outputs": [
    {
     "data": {
      "text/plain": [
       "[1, 2, 3, 4, 5, 6, 7, 8, 9]"
      ]
     },
     "execution_count": 643,
     "metadata": {},
     "output_type": "execute_result"
    }
   ],
   "source": [
    "def bfsGraph(graph, src, visited, lls):\n",
    "    queue = deque([src])\n",
    "    visited.add(src)\n",
    "    while queue:\n",
    "        node = queue.popleft()\n",
    "        lls.append(node)\n",
    "        for edge in graph[node]:\n",
    "            if edge not in visited:\n",
    "                visited.add(edge)\n",
    "                queue.append(edge)\n",
    "\n",
    "\n",
    "def traverseGBFS(graph):\n",
    "    visited = set()\n",
    "    lls = []\n",
    "    \n",
    "    for src in graph:\n",
    "        if src not in visited:\n",
    "            bfsGraph(graph, src, visited, lls)\n",
    "    return lls\n",
    "traverseGBFS(bpt_graph)\n",
    "# time: N+E (directed graph) and N+2E (Undirected graph)\n",
    "# space: N"
   ]
  },
  {
   "cell_type": "code",
   "execution_count": 644,
   "id": "66650643",
   "metadata": {},
   "outputs": [],
   "source": [
    "c_un_graph = {}\n",
    "c_un_graph[1] = [2, 3]\n",
    "c_un_graph[2] = [1, 5]\n",
    "c_un_graph[3] = [1, 4, 6]\n",
    "c_un_graph[4] = [3]\n",
    "c_un_graph[5] = [2, 7]\n",
    "c_un_graph[6] = [3, 7]\n",
    "c_un_graph[7] = [5, 6]"
   ]
  },
  {
   "cell_type": "markdown",
   "id": "8f9d5eb0",
   "metadata": {},
   "source": [
    "\n",
    "### Detect Cycle in undirected Graph using BFS  "
   ]
  },
  {
   "cell_type": "code",
   "execution_count": 646,
   "id": "0aa72279",
   "metadata": {},
   "outputs": [
    {
     "data": {
      "text/plain": [
       "True"
      ]
     },
     "execution_count": 646,
     "metadata": {},
     "output_type": "execute_result"
    }
   ],
   "source": [
    "from collections import deque\n",
    "def helperBfsUn(graph, src, visited):\n",
    "    queue = deque([(src, -1)])\n",
    "    visited.add(src)\n",
    "    while queue:\n",
    "        node, parent = queue.popleft()\n",
    "        \n",
    "        for edge in graph[node]:\n",
    "            if edge not in visited:\n",
    "                visited.add(edge)\n",
    "                queue.append((edge, node))\n",
    "                \n",
    "#            if adjacent node is visited and is not it's own parent node\n",
    "            elif edge != parent:\n",
    "                return True\n",
    "    return False\n",
    "        \n",
    "\n",
    "def detectCycleUnG(graph):\n",
    "    visited = set()\n",
    "    for src in graph:\n",
    "        if src not in visited:\n",
    "            if helperBfsUn(graph, src, visited):\n",
    "                return True\n",
    "    return False\n",
    "\n",
    "detectCycleUnG(c_un_graph)\n",
    "# time: N+E (directed graph) and N+2E (Undirected graph)\n",
    "# space: N"
   ]
  },
  {
   "cell_type": "code",
   "execution_count": null,
   "id": "4e6b820f",
   "metadata": {},
   "outputs": [],
   "source": []
  },
  {
   "cell_type": "markdown",
   "id": "8edae62e",
   "metadata": {},
   "source": [
    "### Distance of nearest cell 1"
   ]
  },
  {
   "cell_type": "code",
   "execution_count": 670,
   "id": "f10c0576",
   "metadata": {},
   "outputs": [
    {
     "data": {
      "text/plain": [
       "[[0, 1, 0], [0, 0, 1], [0, 1, 2]]"
      ]
     },
     "execution_count": 670,
     "metadata": {},
     "output_type": "execute_result"
    }
   ],
   "source": [
    "from collections import deque\n",
    "def nearestCell(matrix):\n",
    "    n = len(matrix)\n",
    "    m = len(matrix[0])\n",
    "    visited = [[0 for _ in range (m)] for _ in range(n)]\n",
    "    dist = [[0 for _ in range(m)] for _ in range(n)]\n",
    "    \n",
    "    queue = deque()\n",
    "    \n",
    "    for i in range(n):\n",
    "        for j in range(m):\n",
    "            if matrix[i][j] == 1:\n",
    "                queue.append([i, j, 0])\n",
    "                visited[i][j] = 1\n",
    "            else:\n",
    "                visited[i][j] = 0\n",
    "                \n",
    "                \n",
    "    delrow = [-1, 0, 1, 0]\n",
    "    delcol = [0, 1, 0, -1]\n",
    "    \n",
    "    while queue:\n",
    "        row, col, step = queue.popleft()\n",
    "        dist[row][col] = step\n",
    "        \n",
    "        for i in range(4):\n",
    "            nrow = row + delrow[i]\n",
    "            ncol = col + delcol[i]\n",
    "            \n",
    "            if nrow >= 0 and nrow < n and ncol >= 0 and ncol < m and visited[nrow][ncol] == 0:\n",
    "                visited[nrow][ncol] = 1\n",
    "                queue.append([nrow, ncol, step+1])\n",
    "    return dist\n",
    "    \n",
    "nearestCell([[1,0,1], [1,1,0], [1,0,0]])\n",
    "\n",
    "# time: n*m\n",
    "# space: n*m"
   ]
  },
  {
   "cell_type": "markdown",
   "id": "f6723b1f",
   "metadata": {},
   "source": [
    "### Surrounded by regions replace X with 0 bfs"
   ]
  },
  {
   "cell_type": "code",
   "execution_count": 680,
   "id": "47be16b7",
   "metadata": {},
   "outputs": [
    {
     "name": "stdout",
     "output_type": "stream",
     "text": [
      "[[0, 0, 0, 0], [0, 0, 0, 0], [0, 0, 0, 0], [0, 0, 0, 0], [0, 0, 1, 1]] deque([[4, 3], [4, 2]])\n",
      "[[0, 0, 0, 0], [0, 0, 0, 0], [0, 0, 0, 0], [0, 0, 0, 0], [0, 0, 1, 1]]\n"
     ]
    },
    {
     "data": {
      "text/plain": [
       "[['X', 'X', 'X', 'X'],\n",
       " ['X', 'X', 'X', 'X'],\n",
       " ['X', 'X', 'X', 'X'],\n",
       " ['X', 'X', 'X', 'X'],\n",
       " ['X', 'X', 'O', 'O']]"
      ]
     },
     "execution_count": 680,
     "metadata": {},
     "output_type": "execute_result"
    }
   ],
   "source": [
    "matrix = [['X', 'X', 'X', 'X'], \n",
    "        ['X', 'O', 'X', 'X'], \n",
    "        ['X', 'O', 'O', 'X'], \n",
    "        ['X', 'O', 'X', 'X'], \n",
    "        ['X', 'X', 'O', 'O']]\n",
    "\n",
    "\n",
    "def surroundedBFS(matrix):\n",
    "    n = len(matrix)\n",
    "    m = len(matrix[0])\n",
    "    \n",
    "    visited = [[0 for _ in range(m)] for _ in range(n)]\n",
    "    \n",
    "    queue = deque()\n",
    "    \n",
    "    # add first row and last row\n",
    "    for i in range(0, n):\n",
    "        \n",
    "        # first row\n",
    "        if matrix[i][0] == 'O':\n",
    "            queue.append([i, 0])\n",
    "            visited[i][0] = 1\n",
    "        \n",
    "        # last row\n",
    "        if matrix[i][m-1] == 'O':\n",
    "            queue.append([i, m-1])\n",
    "            visited[i][m-1] = 1\n",
    "            \n",
    "        \n",
    "    # add first col and last col\n",
    "    for i in range(1, m-1):\n",
    "        \n",
    "        # first col\n",
    "        if matrix[0][i] == 'O':\n",
    "            queue.append([0, i])\n",
    "            visited[0][i] = 1\n",
    "        \n",
    "        # last col\n",
    "        if matrix[n-1][i] == 'O':\n",
    "            queue.append([n-1, i])\n",
    "            visited[n-1][i] = 1\n",
    "    \n",
    "    print(visited, queue)\n",
    "    delrow = [-1, 0, 1, 0]\n",
    "    delcol = [0, 1, 0, -1]\n",
    "    while queue:\n",
    "        row, col = queue.popleft()\n",
    "        \n",
    "        for i in range(4):\n",
    "            nrow = row + delrow[i]\n",
    "            ncol = col + delcol[i]\n",
    "            \n",
    "            if nrow >= 0 and nrow < n and ncol >= 0 and ncol < m and visited[nrow][ncol] == 0 and matrix[nrow][ncol]=='O':\n",
    "                visited[nrow][ncol] = 1\n",
    "                queue.append([nrow, ncol])\n",
    "                \n",
    "                \n",
    "    print(visited)\n",
    "    for i in range(n):\n",
    "        for j in range(m):\n",
    "            if visited[i][j] == 0:\n",
    "                visited[i][j] = 'X'\n",
    "            else:\n",
    "                visited[i][j] = 'O'\n",
    "    return visited\n",
    "            \n",
    "    \n",
    "\n",
    "surroundedBFS(matrix)"
   ]
  },
  {
   "cell_type": "markdown",
   "id": "d2c10871",
   "metadata": {},
   "source": [
    "### Number of Enclaves "
   ]
  },
  {
   "cell_type": "code",
   "execution_count": 6,
   "id": "565f1c5a",
   "metadata": {},
   "outputs": [
    {
     "data": {
      "text/plain": [
       "3"
      ]
     },
     "execution_count": 6,
     "metadata": {},
     "output_type": "execute_result"
    }
   ],
   "source": [
    "from collections import deque\n",
    "def numEnclaves(matrix):\n",
    "    n = len(matrix)\n",
    "    m = len(matrix[0])\n",
    "\n",
    "    visited = [[0 for _ in range(m)] for _ in range(n)]\n",
    "    queue = deque()\n",
    "    for i in range(n):\n",
    "        for j in range(m):\n",
    "            if (i == 0 or i == n-1) and matrix[i][j]==1:\n",
    "                queue.append([i,j])\n",
    "                visited[i][j] = 1\n",
    "            elif (j == 0 or j == m-1) and matrix[i][j]==1:\n",
    "                queue.append([i,j])\n",
    "                visited[i][j] = 1\n",
    "    drow = [-1, 0, 1, 0]\n",
    "    dcol = [0, -1, 0, 1]\n",
    "    while queue:\n",
    "        row, col = queue.popleft()\n",
    "        for i in range(4):\n",
    "            nrow = row + drow[i]\n",
    "            ncol = col + dcol[i]\n",
    "            \n",
    "            if visited[i][j] == 0 and matrix[i][j] == 1:\n",
    "                queue.append([nrow, ncol])\n",
    "                visited[nrow][ncol] = 1\n",
    "    \n",
    "    cnt = 0\n",
    "    for i in range(n):\n",
    "        for j in range(m):\n",
    "            if visited[i][j] == 0 and matrix[i][j] == 1:\n",
    "                cnt += 1\n",
    "    return cnt\n",
    "                \n",
    "numEnclaves([[0,0,0,0], [1,0,1,0], [0,1,1,0], [0,0,0,0]])"
   ]
  },
  {
   "cell_type": "markdown",
   "id": "8405715a",
   "metadata": {},
   "source": [
    "### Word Ladder"
   ]
  },
  {
   "cell_type": "code",
   "execution_count": 22,
   "id": "6971619c",
   "metadata": {},
   "outputs": [
    {
     "data": {
      "text/plain": [
       "3"
      ]
     },
     "execution_count": 22,
     "metadata": {},
     "output_type": "execute_result"
    }
   ],
   "source": [
    "from collections import deque\n",
    "import string\n",
    "def wordLadder1(startWord, targetWord, wordList):\n",
    "    \n",
    "    # convert wordList to set so that we can make search and remove in O(1)\n",
    "    wordDict = {word for word in wordList}\n",
    "    queue = deque([(startWord, 1)])\n",
    "    while queue:\n",
    "        word, step = queue.popleft()\n",
    "        \n",
    "        if word == targetWord:\n",
    "            return step\n",
    "        \n",
    "        for i in range(0, len(word)):\n",
    "            for ch in string.ascii_lowercase:\n",
    "                wordls = list(word) \n",
    "                wordls[i] = ch\n",
    "                newWord = ''.join(wordls)\n",
    "\n",
    "                if newWord in wordDict:\n",
    "                    queue.append((newWord, step+1))\n",
    "                    wordDict.remove(newWord)\n",
    "    return 0\n",
    "wordLadder1('der', 'dfs', ['des', 'der', 'dfr', 'dgt', 'dfs'])\n",
    "\n",
    "# time: n*m*26 -> n len(wordlist), m len(word), all alphabet\n",
    "# space: n -> set and queue"
   ]
  },
  {
   "cell_type": "markdown",
   "id": "385b6a7a",
   "metadata": {},
   "source": [
    "### Word Ladder 2 "
   ]
  },
  {
   "cell_type": "code",
   "execution_count": 32,
   "id": "5820ce04",
   "metadata": {},
   "outputs": [],
   "source": [
    "# intution we will remove the words from worddict after the curr level complete"
   ]
  },
  {
   "cell_type": "code",
   "execution_count": 34,
   "id": "059b3ea2",
   "metadata": {},
   "outputs": [
    {
     "data": {
      "text/plain": [
       "[['der', 'dfr', 'dfs'], ['der', 'des', 'dfs']]"
      ]
     },
     "execution_count": 34,
     "metadata": {},
     "output_type": "execute_result"
    }
   ],
   "source": [
    "from collections import deque\n",
    "import string\n",
    "\n",
    "def wordLadder2(startWord, targetWord, wordList):\n",
    "    res = []\n",
    "    # convert wordlist to set so that we can make search and remove in O(1)\n",
    "    wordDict = set(wordList)\n",
    "    queue = deque()\n",
    "    queue.append([startWord])\n",
    "    used_on_level = {startWord}\n",
    "    level = 0\n",
    "     \n",
    "    while queue:\n",
    "        path = queue.popleft()\n",
    "        word = path[-1]\n",
    "        \n",
    "        # remove previous level words\n",
    "        if len(path) > level:\n",
    "            level += 1\n",
    "            wordDict -= used_on_level\n",
    "    \n",
    "        \n",
    "        if word == targetWord:\n",
    "            if not res:\n",
    "                res.append(path[:])\n",
    "            elif len(res[0]) == len(path):\n",
    "                res.append(path[:])\n",
    "        \n",
    "        for i in range(len(word)):\n",
    "            for ch in string.ascii_lowercase:\n",
    "                newWord = word[:i] + ch + word[i+1:]\n",
    "                \n",
    "                if newWord in wordDict: \n",
    "                    path.append(newWord)\n",
    "                    queue.append(path[:])\n",
    "                    used_on_level.add(newWord)\n",
    "                    path.pop()\n",
    "        \n",
    "    return res\n",
    "wordLadder2('der', 'dfs', ['des', 'der', 'dfr', 'dgt', 'dfs'])"
   ]
  },
  {
   "cell_type": "code",
   "execution_count": null,
   "id": "812dda20",
   "metadata": {},
   "outputs": [],
   "source": []
  },
  {
   "cell_type": "markdown",
   "id": "7d3e6b13",
   "metadata": {},
   "source": [
    "### Dijkastra Algorithm using Queue "
   ]
  },
  {
   "cell_type": "code",
   "execution_count": 63,
   "id": "20fab5a4",
   "metadata": {},
   "outputs": [
    {
     "data": {
      "text/plain": [
       "[4, 3, 0]"
      ]
     },
     "execution_count": 63,
     "metadata": {},
     "output_type": "execute_result"
    }
   ],
   "source": [
    "def dijkstraQueue(v, adj, s):\n",
    "    queue = deque()\n",
    "    queue.append([0,s])\n",
    "    \n",
    "    dist = [float('inf')] * v\n",
    "    dist[s] = 0\n",
    "    \n",
    "    while queue:\n",
    "        dis, node = queue.popleft()\n",
    "        \n",
    "        for nbr, edW in adj[node]:\n",
    "            if dis + edW < dist[nbr]:\n",
    "                dist[nbr] = dis + edW\n",
    "                queue.append([dist[nbr], nbr])\n",
    "    return dist\n",
    "\n",
    "dijkstraQueue(3, [[[1, 1], [2, 6]], [[2, 3], [0, 1]], [[1, 3], [0, 6]]], 2)\n",
    "\n",
    "# time: V * E"
   ]
  },
  {
   "cell_type": "markdown",
   "id": "ba149a9c",
   "metadata": {},
   "source": [
    "### Dijkastra Algorithm using Priority Queue"
   ]
  },
  {
   "cell_type": "code",
   "execution_count": 59,
   "id": "acd8d3a4",
   "metadata": {},
   "outputs": [
    {
     "data": {
      "text/plain": [
       "[4, 3, 0]"
      ]
     },
     "execution_count": 59,
     "metadata": {},
     "output_type": "execute_result"
    }
   ],
   "source": [
    "import heapq\n",
    "\n",
    "def dijkstra(v, adj, s):\n",
    "    pq = []\n",
    "    dist = [float('inf')] * v\n",
    "    dist[s] = 0\n",
    "    \n",
    "    heapq.heappush(pq, (0, s)) # push the src node with distance 0\n",
    "    \n",
    "    while pq:\n",
    "        dis, node = heapq.heappop(pq)\n",
    "        \n",
    "        for nbr, edgeWeight in adj[node]:\n",
    "            if dis + edgeWeight < dist[nbr]:\n",
    "                dist[nbr] = dis + edgeWeight\n",
    "                heapq.heappush(pq, (dist[nbr], nbr))\n",
    "    return dist\n",
    "\n",
    "dijkstra(3, [[[1, 1], [2, 6]], [[2, 3], [0, 1]], [[1, 3], [0, 6]]], 2)\n",
    "\n",
    "# time: E * log V"
   ]
  },
  {
   "cell_type": "markdown",
   "id": "b8624a65",
   "metadata": {},
   "source": [
    "### As PQ takes less time complexity that's why we prefer to use PQ instead of Q "
   ]
  },
  {
   "cell_type": "markdown",
   "id": "8081a6c0",
   "metadata": {},
   "source": [
    "### Dijkastra Algoritm using Sets "
   ]
  },
  {
   "cell_type": "code",
   "execution_count": 68,
   "id": "b0a7e60a",
   "metadata": {},
   "outputs": [
    {
     "data": {
      "text/plain": [
       "[4, 3, 0]"
      ]
     },
     "execution_count": 68,
     "metadata": {},
     "output_type": "execute_result"
    }
   ],
   "source": [
    "def dijkstraSets(v, adj, s):\n",
    "    hashset = set()\n",
    "    hashset.add((0, s))\n",
    "    \n",
    "    dist = [float('inf')] * v\n",
    "    dist[s] = 0\n",
    "    while hashset:\n",
    "        dis, node = hashset.pop()\n",
    "        \n",
    "        for nbr, edw in adj[node]:\n",
    "            if dis + edw < dist[nbr]:\n",
    "                if (dist[nbr], nbr) in hashset:\n",
    "                    hashset.remove((dist[nbr], nbr))\n",
    "                dist[nbr] = dis+edw\n",
    "                hashset.add((dist[nbr], nbr))\n",
    "    return dist\n",
    "dijkstraSets(3, [[[1, 1], [2, 6]], [[2, 3], [0, 1]], [[1, 3], [0, 6]]], 2)\n",
    "\n",
    "# time: E * log(V)\n",
    "# set takes log n to earse, so if a graph is very big and has alot of edges then use set datastructure"
   ]
  },
  {
   "cell_type": "markdown",
   "id": "a5c34eb0",
   "metadata": {},
   "source": [
    "### Shortest distance in Binary Maze "
   ]
  },
  {
   "cell_type": "code",
   "execution_count": 88,
   "id": "7a1dd759",
   "metadata": {},
   "outputs": [
    {
     "data": {
      "text/plain": [
       "3"
      ]
     },
     "execution_count": 88,
     "metadata": {},
     "output_type": "execute_result"
    }
   ],
   "source": [
    "from heapq import heappush, heappop\n",
    "def shortestDistance(src, dest, grid):\n",
    "    n = len(grid)\n",
    "    m = len(grid[0])\n",
    "    queue = deque()\n",
    "    queue.append((src[0], src[1], 0))\n",
    "    res = -1\n",
    "    visited = [[-1 for _ in range(m)] for _ in range(n)]\n",
    "    visited[src[0]][src[1]] = 1\n",
    "    drow = [-1, 0, 1, 0]\n",
    "    dcol = [0, 1, 0, -1]\n",
    "    \n",
    "    while queue:\n",
    "        row, col, step = queue.popleft()\n",
    "        if [row,col] == dest:\n",
    "            return step\n",
    "        for i in range(4):\n",
    "            nrow = row + drow[i] \n",
    "            ncol = col + dcol[i]\n",
    "            if nrow >= 0 and nrow <= dest[0] and ncol >= 0 and ncol < m and visited[nrow][ncol] == -1 and grid[nrow][ncol] == 1:\n",
    "                queue.append((nrow, ncol, step+1))\n",
    "                visited[nrow][ncol] = 1\n",
    "\n",
    "    \n",
    "    return res\n",
    "grid = [[1, 1, 1, 1],\n",
    "        [1, 1, 0, 1],\n",
    "        [1, 1, 1, 1],\n",
    "        [1, 1, 0, 0],\n",
    "        [1, 0, 0, 1]]\n",
    "shortestDistance([0,1], [2,2], grid)\n",
    "# time: 4 * N * M\n",
    "# space: N * M\n"
   ]
  },
  {
   "cell_type": "markdown",
   "id": "d01ff00d",
   "metadata": {},
   "source": [
    "### No of ways to arrive at destination in shortest path"
   ]
  },
  {
   "cell_type": "code",
   "execution_count": 97,
   "id": "f67e5312",
   "metadata": {},
   "outputs": [
    {
     "name": "stdout",
     "output_type": "stream",
     "text": [
      "[0, 2, 5, 5, 5, 6, 7]\n",
      "[1, 1, 1, 1, 1, 2, 4]\n"
     ]
    },
    {
     "data": {
      "text/plain": [
       "4"
      ]
     },
     "execution_count": 97,
     "metadata": {},
     "output_type": "execute_result"
    }
   ],
   "source": [
    "from heapq import heappush, heappop\n",
    "def nWaysDest(n, edges):\n",
    "    graph = {x:[] for x in range(n)}\n",
    "    for u,v,wt in edges:\n",
    "        graph[u].append([v, wt])\n",
    "        graph[v].append([u, wt])\n",
    "        \n",
    "    dist = [float('inf') for _ in range(n)]\n",
    "    dist[0] = 0\n",
    "    ways = [0 for _ in range(n)]\n",
    "    ways[0] = 1\n",
    "    src = 0\n",
    "    dest = n-1\n",
    "    mod = 10 ** 9 + 7\n",
    "    queue = []\n",
    "    heappush(queue, (src, 0))\n",
    "    \n",
    "    while queue:\n",
    "        node, dis = heappop(queue)\n",
    "        \n",
    "        for edge, wt in graph[node]:\n",
    "            if dis + wt < dist[edge]:\n",
    "                dist[edge] = dis + wt\n",
    "                ways[edge] = ways[node]\n",
    "                heappush(queue, (edge, dist[edge]))\n",
    "                \n",
    "            elif dis + wt == dist[edge]:\n",
    "                ways[edge] = (ways[edge] + ways[node]) % mod\n",
    "                \n",
    "    print(dist)\n",
    "    print(ways)\n",
    "    return ways[n-1] % mod\n",
    "        \n",
    "        \n",
    "edges = [[0,6,7],[0,1,2],[1,2,3],[1,3,3],[6,3,3],[3,5,1],[6,5,1],[2,5,1],[0,4,5],[4,6,2]]\n",
    "nWaysDest(7, edges)\n",
    "\n",
    "# time: e * log v\n",
    "# space: v"
   ]
  },
  {
   "cell_type": "raw",
   "id": "ae340c12",
   "metadata": {},
   "source": [
    "# we use a queue instead of a priority queue for storing the distance-node pairs\n",
    "# distances are increasing monotonically (because of constant edge weights). Since greater distance comes at the top automatically,\n",
    "# so we do not need the priority queue as the pop operation will always pop the smaller distance which is at the front of the queue.\n",
    "# This helps us to eliminate an additional log(N) of time needed to perform insertion-deletion operations in a priority queue."
   ]
  },
  {
   "cell_type": "code",
   "execution_count": 91,
   "id": "04e68a37",
   "metadata": {},
   "outputs": [
    {
     "data": {
      "text/plain": [
       "1000000007"
      ]
     },
     "execution_count": 91,
     "metadata": {},
     "output_type": "execute_result"
    }
   ],
   "source": [
    "10 ** 9 + 7"
   ]
  },
  {
   "cell_type": "markdown",
   "id": "2ed89d2b",
   "metadata": {},
   "source": [
    "### Path with Minimum Effort "
   ]
  },
  {
   "cell_type": "code",
   "execution_count": 107,
   "id": "b3caea57",
   "metadata": {},
   "outputs": [
    {
     "data": {
      "text/plain": [
       "2"
      ]
     },
     "execution_count": 107,
     "metadata": {},
     "output_type": "execute_result"
    }
   ],
   "source": [
    "from heapq import heappush, heappop\n",
    "def pathMinEffort(matrix):\n",
    "    n = len(matrix)\n",
    "    m = len(matrix[0])\n",
    "    queue = []\n",
    "    heappush(queue, (0, 0, 0))\n",
    "    \n",
    "    dist = [[float('inf') for _ in range(m)] for _ in range(n)]\n",
    "    dist[0][0] = 0\n",
    "    drow = [0, -1, 0, 1]\n",
    "    dcol = [-1, 0, 1, 0]\n",
    "    while queue:\n",
    "        effort, row, col = heappop(queue)\n",
    "        \n",
    "        if row == n-1 and col == m-1:\n",
    "            return effort\n",
    "        \n",
    "        for i in range(4):\n",
    "            nrow = row + drow[i]\n",
    "            ncol = col + dcol[i]\n",
    "            \n",
    "            if nrow >= 0 and nrow < n and ncol >= 0 and ncol < m:\n",
    "                \n",
    "                neweffort = max(effort, abs(matrix[row][col] - matrix[nrow][ncol]))\n",
    "                if neweffort < dist[nrow][ncol]:\n",
    "                    dist[nrow][ncol] = neweffort\n",
    "                    heappush(queue, (neweffort, nrow, ncol))\n",
    "    return 0\n",
    "                        \n",
    "    \n",
    "pathMinEffort([[1,2,2], [3,8,2], [5,3,5]])"
   ]
  },
  {
   "cell_type": "code",
   "execution_count": null,
   "id": "aa874c41",
   "metadata": {},
   "outputs": [],
   "source": []
  },
  {
   "cell_type": "markdown",
   "id": "e168d824",
   "metadata": {},
   "source": [
    "dijkstra will fail if it has an negative cycle it will stuck in the loop"
   ]
  },
  {
   "cell_type": "markdown",
   "id": "d9eca717",
   "metadata": {},
   "source": [
    "### Bellman ford Algorithm\n",
    "we iterate this to n-1 edges because in worst case you will take n-1 edges to reach from the first to last node thereby we iterate for n-1 iterations. "
   ]
  },
  {
   "cell_type": "markdown",
   "id": "9f7f4f69",
   "metadata": {},
   "source": [
    "On Nth iteration the relaxtation will be done, and if the dist array get reduced that means graph has -ve cycle "
   ]
  },
  {
   "cell_type": "raw",
   "id": "e4448134",
   "metadata": {},
   "source": [
    "The bellman-Ford algorithm helps to find the shortest distance from the source node to all other nodes\n",
    "Dijkstra’s algorithm failed:\n",
    "-> If the graph contains negative edges.\n",
    "-> If the graph has a negative cycle (In this case Dijkstra’s algorithm fails to minimize the distance, keeps on running, and goes into an infinite loop. As a result it gives TLE error).\n",
    "Bellman-Ford’s algorithm successfully solves these problems. It works fine with negative edges as well as it is able to detect if the graph contains a negative cycle. But this algorithm is only applicable for directed graphs. In order to apply this algorithm to an undirected graph, we just need to convert the undirected edges into directed edges"
   ]
  },
  {
   "cell_type": "code",
   "execution_count": 73,
   "id": "3a65b2c2",
   "metadata": {},
   "outputs": [
    {
     "name": "stdout",
     "output_type": "stream",
     "text": [
      "[-1]\n",
      "[0, 5, 3, 3, 1, 2]\n"
     ]
    }
   ],
   "source": [
    "def bellmanFord(v, edges, s):\n",
    "    dist = [float('inf')] * v\n",
    "    dist[s] = 0\n",
    "    \n",
    "    # run loop for v-1 iteration\n",
    "    for _ in range(v-1):\n",
    "        for u, v, wt in edges:\n",
    "            if dist[u] + wt < dist[v]:\n",
    "                dist[v] = dist[u]+wt\n",
    "    \n",
    "    # check for -ve cycle\n",
    "    for u, v, wt in edges:\n",
    "        if dist[u] != float('inf') and dist[u] + wt < dist[v]:\n",
    "            return [-1]\n",
    "    return dist\n",
    "print(bellmanFord(3, [[0,1,-3], [1,2,4], [2,0,-2]], 0))\n",
    "print(bellmanFord(6, [[3,2,6], [5,3,1], [0,1,5], [1,5,-3], [1,2,-2], [3,4,-2], [2,4,3]], 0))\n",
    "\n",
    "# time: v*e\n",
    "# space: v"
   ]
  },
  {
   "cell_type": "code",
   "execution_count": null,
   "id": "f4f1d7b6",
   "metadata": {},
   "outputs": [],
   "source": []
  },
  {
   "cell_type": "markdown",
   "id": "8970f02c",
   "metadata": {},
   "source": [
    "### Minimum Spanning Tree"
   ]
  },
  {
   "cell_type": "raw",
   "id": "4bfd7438",
   "metadata": {},
   "source": [
    "Spanning Tree in which we have n nodes and n-1 edges and we can traverse all the nodes from any node in the graph."
   ]
  },
  {
   "cell_type": "markdown",
   "id": "46fe29bc",
   "metadata": {},
   "source": [
    "### Prism Algorithm"
   ]
  },
  {
   "cell_type": "code",
   "execution_count": 130,
   "id": "2a663dd4",
   "metadata": {},
   "outputs": [
    {
     "data": {
      "text/plain": [
       "5"
      ]
     },
     "execution_count": 130,
     "metadata": {},
     "output_type": "execute_result"
    }
   ],
   "source": [
    "import heapq\n",
    "def prismAlgo(v, edges):\n",
    "    \n",
    "    adj = {x:[] for x in range(v)}\n",
    "    for node1, node2, wt in edges:\n",
    "        adj[node1].append([node2, wt])\n",
    "        adj[node2].append([node1, wt])\n",
    "        \n",
    "    \n",
    "    pq = []\n",
    "    visited = [0] * v\n",
    "    heapq.heappush(pq, [0, 0])\n",
    "    _sum = 0\n",
    "    \n",
    "    while pq:\n",
    "        wt, node = heapq.heappop(pq)\n",
    "        \n",
    "        if visited[node] == 1:\n",
    "            continue\n",
    "        \n",
    "        visited[node] = 1\n",
    "        _sum += wt\n",
    "        \n",
    "        for nbr, wt in adj[node]:\n",
    "            if visited[nbr] == 0:\n",
    "                heapq.heappush(pq, [wt, nbr])\n",
    "    return _sum\n",
    "\n",
    "prismAlgo(5, [[0, 1, 2], [0, 2, 1], [1, 2, 1], [2, 3, 2], [3, 4, 1], [4, 2, 2]])\n",
    "\n",
    "# time: O(E*logE) + O(E*logE)~ O(E*logE)\n",
    "# space: E + V"
   ]
  },
  {
   "cell_type": "code",
   "execution_count": null,
   "id": "8fc8e8b1",
   "metadata": {},
   "outputs": [],
   "source": []
  },
  {
   "cell_type": "markdown",
   "id": "e17d6085",
   "metadata": {},
   "source": [
    "### Disjoint Set "
   ]
  },
  {
   "cell_type": "code",
   "execution_count": 108,
   "id": "62756ee5",
   "metadata": {},
   "outputs": [],
   "source": [
    "class DisjointSet:\n",
    "    def __init__(self, n):\n",
    "        self.rank = [0] * (n+1)\n",
    "        self.parent = list(range(n+1))\n",
    "        \n",
    "    def find_upar(self, node):\n",
    "        if node == self.parent[node]:\n",
    "            return node\n",
    "        \n",
    "        ulp = self.find_upar(self.parent[node])\n",
    "        self.parent[node] = ulp\n",
    "        return self.parent[node]\n",
    "    \n",
    "    def union_by_rank(self, u, v):\n",
    "        ulp_u = self.find_upar(u)\n",
    "        ulp_v = self.find_upar(v)\n",
    "        \n",
    "        if ulp_u == ulp_v:\n",
    "            return\n",
    "        \n",
    "        if self.rank[ulp_u] < self.rank[ulp_v]:\n",
    "            self.parent[ulp_u] = ulp_v\n",
    "        elif self.rank[ulp_v] < self.rank[ulp_u]:\n",
    "            self.parent[ulp_v] = ulp_u\n",
    "        else:\n",
    "            self.parent[ulp_v] = ulp_u\n",
    "            self.rank[ulp_u] += 1\n",
    "        "
   ]
  },
  {
   "cell_type": "code",
   "execution_count": 119,
   "id": "393681ca",
   "metadata": {},
   "outputs": [
    {
     "name": "stdout",
     "output_type": "stream",
     "text": [
      "1 4\n",
      "4 4\n",
      "[0, 1, 0, 0, 2, 0, 1, 0] [0, 4, 1, 4, 4, 4, 4, 4]\n",
      "4\n",
      "[0, 1, 0, 0, 2, 0, 1, 0] [0, 4, 4, 4, 4, 4, 4, 4]\n"
     ]
    }
   ],
   "source": [
    "ds = DisjointSet(7)\n",
    "\n",
    "ds.union_by_rank(1, 2)\n",
    "ds.union_by_rank(2, 3)\n",
    "ds.union_by_rank(4, 5)\n",
    "ds.union_by_rank(6, 7)\n",
    "ds.union_by_rank(5, 6)\n",
    "print(ds.find_upar(3), ds.find_upar(7))\n",
    "ds.union_by_rank(3, 7)\n",
    "print(ds.find_upar(3), ds.find_upar(7))\n",
    "print(ds.rank, ds.parent)\n",
    "print(ds.find_upar(2))\n",
    "print(ds.rank, ds.parent)"
   ]
  },
  {
   "cell_type": "markdown",
   "id": "74002d5d",
   "metadata": {},
   "source": [
    "### Union By Size "
   ]
  },
  {
   "cell_type": "raw",
   "id": "7df617ee",
   "metadata": {},
   "source": [
    "This is as same as the Union by rank method except this method uses the size to compare the components while connecting. \n",
    "Example -> if we have 2 components, a is have 2 nodes and b have 15 nodes, if we use rank algorithm and if node a will become the parent of node b then it will take time to do path compression, so we rather than using the union by rank, we will connect graph with union by size."
   ]
  },
  {
   "cell_type": "code",
   "execution_count": 195,
   "id": "8e92c2ff",
   "metadata": {},
   "outputs": [
    {
     "name": "stdout",
     "output_type": "stream",
     "text": [
      "Not Same\n",
      "Same\n"
     ]
    }
   ],
   "source": [
    "class DisjointSet:\n",
    "    def __init__(self, n):\n",
    "        self.rank = [0] * (n + 1)\n",
    "        self.parent = list(range(n + 1))\n",
    "        self.size = [1] * (n + 1)\n",
    "        \n",
    "    def find_upar(self, node):\n",
    "        if node == self.parent[node]:\n",
    "            return node\n",
    "        ulp = self.find_upar(self.parent[node])\n",
    "        self.parent[node] = ulp\n",
    "        return self.parent[node]\n",
    "    \n",
    "    def union_by_rank(self, u, v):\n",
    "        ulp_u = self.find_upar(u)\n",
    "        ulp_v = self.find_upar(v)\n",
    "        if ulp_u == ulp_v:\n",
    "            return\n",
    "        if self.rank[ulp_u] < self.rank[ulp_v]:\n",
    "            self.parent[ulp_u] = ulp_v\n",
    "        elif self.rank[ulp_v] < self.rank[ulp_u]:\n",
    "            self.parent[ulp_v] = ulp_u\n",
    "        else:\n",
    "            self.parent[ulp_v] = ulp_u\n",
    "            self.rank[ulp_u] += 1\n",
    "    \n",
    "    def union_by_size(self, u, v):\n",
    "        ulp_u = self.find_upar(u)\n",
    "        ulp_v = self.find_upar(v)\n",
    "        if ulp_u == ulp_v:\n",
    "            return\n",
    "        if self.size[ulp_u] < self.size[ulp_v]:\n",
    "            self.parent[ulp_u] = ulp_v\n",
    "            self.size[ulp_v] += self.size[ulp_u]\n",
    "        else:\n",
    "            self.parent[ulp_v] = ulp_u\n",
    "            self.size[ulp_u] += self.size[ulp_v]\n",
    "\n",
    "if __name__ == \"__main__\":\n",
    "    ds = DisjointSet(7)\n",
    "    ds.union_by_rank(1, 2)\n",
    "    ds.union_by_rank(2, 3)\n",
    "    ds.union_by_rank(4, 5)\n",
    "    ds.union_by_rank(6, 7)\n",
    "    ds.union_by_rank(5, 6)\n",
    "    \n",
    "    if ds.find_upar(3) == ds.find_upar(7):\n",
    "        print(\"Same\")\n",
    "    else:\n",
    "        print(\"Not Same\")\n",
    "\n",
    "    ds.union_by_rank(3, 7)\n",
    "    if ds.find_upar(3) == ds.find_upar(7):\n",
    "        print(\"Same\")\n",
    "    else:\n",
    "        print(\"Not Same\")\n"
   ]
  },
  {
   "cell_type": "markdown",
   "id": "86205689",
   "metadata": {},
   "source": [
    "### Kruskal's Algorithm"
   ]
  },
  {
   "cell_type": "code",
   "execution_count": 136,
   "id": "0c8087e1",
   "metadata": {},
   "outputs": [
    {
     "name": "stdout",
     "output_type": "stream",
     "text": [
      "16\n",
      "5\n"
     ]
    }
   ],
   "source": [
    "def kruskalAlgo(v, edges):\n",
    "    edges = sorted(edges, key = lambda x: x[2])\n",
    "    \n",
    "    ds = DisjointSet(v)\n",
    "    _sum = 0\n",
    "    for u, v, wt in edges:\n",
    "        \n",
    "        if ds.find_upar(u) != ds.find_upar(v):\n",
    "            _sum += wt\n",
    "            ds.union_by_rank(u, v)\n",
    "    return _sum\n",
    "\n",
    "print(kruskalAlgo(5, [[0, 1, 2], [0, 3, 6], [1, 2, 3], [1, 3, 8], [1, 4, 5], [4, 2, 7]]))\n",
    "print(kruskalAlgo(5, [[0, 1, 2], [0, 2, 1], [1, 2, 1], [2, 3, 2], [3, 4, 1], [4, 2, 2]]))\n",
    "\n",
    "# time: O(N+E) + O(E logE) + O(E*4α*2) \n",
    "# space: N + N + E"
   ]
  },
  {
   "cell_type": "markdown",
   "id": "6bfd78e4",
   "metadata": {},
   "source": [
    "### Accounts Merge "
   ]
  },
  {
   "cell_type": "code",
   "execution_count": 162,
   "id": "4f0e8041",
   "metadata": {},
   "outputs": [
    {
     "data": {
      "text/plain": [
       "[['John', 'john00@mail.com', 'john_newyork@mail.com', 'johnsmith@mail.com'],\n",
       " ['Mary', 'mary@mail.com'],\n",
       " ['John', 'johnnybravo@mail.com']]"
      ]
     },
     "execution_count": 162,
     "metadata": {},
     "output_type": "execute_result"
    }
   ],
   "source": [
    "def accounts_merge(details):\n",
    "    n = len(details)\n",
    "    ds = DisjointSet(n)\n",
    "    map_mail_node = {}\n",
    "    \n",
    "    for i in range(n):\n",
    "        for j in range(1, len(details[i])):\n",
    "            mail = details[i][j]\n",
    "            if mail not in map_mail_node:\n",
    "                map_mail_node[mail] = i\n",
    "            else:\n",
    "                ds.union_by_rank(i, map_mail_node[mail])\n",
    "    merged_mail = [[] for _ in range(n)]\n",
    "    for mail, node in map_mail_node.items():\n",
    "        merged_mail[ds.find_upar(node)].append(mail)\n",
    "    \n",
    "    ans = []\n",
    "    for i in range(n):\n",
    "        if not merged_mail[i]:\n",
    "            continue\n",
    "        merged_mail[i].sort()\n",
    "        temp = [details[i][0]] + merged_mail[i]\n",
    "        ans.append(temp)\n",
    "    \n",
    "    return ans\n",
    "\n",
    "accounts_merge([[\"John\",\"johnsmith@mail.com\",\"john_newyork@mail.com\"],\n",
    "[\"John\",\"johnsmith@mail.com\",\"john00@mail.com\"],\n",
    "[\"Mary\",\"mary@mail.com\"],\n",
    "[\"John\",\"johnnybravo@mail.com\"]])"
   ]
  },
  {
   "cell_type": "code",
   "execution_count": null,
   "id": "9d93ad60",
   "metadata": {},
   "outputs": [],
   "source": []
  },
  {
   "cell_type": "code",
   "execution_count": null,
   "id": "2a95c0f7",
   "metadata": {},
   "outputs": [],
   "source": [
    "def isValid(r, c, n, m):\n",
    "    return 0 <= r < n and 0 <= c < m\n",
    "\n",
    "class Solution:\n",
    "    def numOfIslands(self, n, m, operators):\n",
    "        ds = DisjointSet(n * m)\n",
    "        vis = [[0] * m for _ in range(n)]\n",
    "        cnt = 0\n",
    "        ans = []\n",
    "        \n",
    "        for it in operators:\n",
    "            row, col = it[0], it[1]\n",
    "            \n",
    "            if vis[row][col] == 1:\n",
    "                ans.append(cnt)\n",
    "                continue\n",
    "            \n",
    "            vis[row][col] = 1\n",
    "            cnt += 1\n",
    "            \n",
    "            dr = [-1, 0, 1, 0]\n",
    "            dc = [0, 1, 0, -1]\n",
    "            \n",
    "            for ind in range(4):\n",
    "                adjr, adjc = row + dr[ind], col + dc[ind]\n",
    "                \n",
    "                if isValid(adjr, adjc, n, m):\n",
    "                    if vis[adjr][adjc] == 1:\n",
    "                        nodeNo = row * m + col\n",
    "                        adjNodeNo = adjr * m + adjc\n",
    "                        if ds.find_upar(nodeNo) != ds.find_upar(adjNodeNo):\n",
    "                            cnt -= 1\n",
    "                            ds.union_by_size(nodeNo, adjNodeNo)\n",
    "            \n",
    "            ans.append(cnt)\n",
    "        \n",
    "        return ans"
   ]
  },
  {
   "cell_type": "code",
   "execution_count": null,
   "id": "1e2342ad",
   "metadata": {},
   "outputs": [],
   "source": []
  },
  {
   "cell_type": "markdown",
   "id": "d9b78850",
   "metadata": {},
   "source": [
    "### Strongly connected component "
   ]
  },
  {
   "cell_type": "code",
   "execution_count": 160,
   "id": "9a9c101d",
   "metadata": {},
   "outputs": [
    {
     "data": {
      "text/plain": [
       "([[2, 1, 0], [3], [4]], 3)"
      ]
     },
     "execution_count": 160,
     "metadata": {},
     "output_type": "execute_result"
    }
   ],
   "source": [
    "# do dfs, inverse the edges and then do dfs again.\n",
    "from collections import defaultdict\n",
    "def stronglyConnectedComponents(graph):\n",
    "    \n",
    "    def dfs(graph, node, visited, stack):\n",
    "        visited.add(node)\n",
    "        for edge in graph[node]:\n",
    "            if edge not in visited:\n",
    "                dfs(graph, edge, visited, stack)\n",
    "        stack.append(node)\n",
    "        \n",
    "    def inverseGraph(graph):\n",
    "        newGraph = defaultdict(list)\n",
    "        for node in graph:\n",
    "            for edge in graph[node]:\n",
    "                newGraph[edge].append(node)\n",
    "        return newGraph\n",
    "    \n",
    "    visited = set()\n",
    "    stack = []\n",
    "    for node in graph:\n",
    "        if node not in visited:\n",
    "            dfs(graph, node, visited, stack)\n",
    "    \n",
    "    newG = inverseGraph(graph)\n",
    "    \n",
    "    ssc = 0\n",
    "    visited = set()\n",
    "    nodestack = stack.copy()\n",
    "    stack = []\n",
    "    res = []\n",
    "    while nodestack:\n",
    "        src = nodestack.pop()\n",
    "        if src not in visited:\n",
    "            dfs(newG, src, visited, stack)\n",
    "            ssc += 1\n",
    "            res.append(stack[:])\n",
    "            stack = []\n",
    "    return res, ssc\n",
    "            \n",
    "    \n",
    "stronglyConnectedComponents({0:[2,3], 1:[0], 2:[1], 3:[4], 4:[]})\n",
    "\n",
    "# time: V + E\n",
    "# space: V + E"
   ]
  },
  {
   "cell_type": "code",
   "execution_count": null,
   "id": "396bf3b8",
   "metadata": {},
   "outputs": [],
   "source": [
    "def inverseGraph(graph):\n",
    "    inv=defaultdict(set)\n",
    "    for node in graph.keys():\n",
    "        for x in graph[node]:\n",
    "            inv[x.nbr].add(edge(x.nbr,node))\n",
    "    return inv\n"
   ]
  },
  {
   "cell_type": "markdown",
   "id": "36ff871c",
   "metadata": {},
   "source": [
    "### Bridges in graph (Trajan's Algorithm)"
   ]
  },
  {
   "cell_type": "code",
   "execution_count": 142,
   "id": "d71b2135",
   "metadata": {},
   "outputs": [
    {
     "data": {
      "text/plain": [
       "[[3, 1]]"
      ]
     },
     "execution_count": 142,
     "metadata": {},
     "output_type": "execute_result"
    }
   ],
   "source": [
    "def criticalConnections(n, connections):\n",
    "    def dfs(node, parent, vis, adj, tin, low, bridges):\n",
    "        nonlocal timer\n",
    "        vis[node] = 1\n",
    "        tin[node] = low[node] = timer\n",
    "        timer += 1\n",
    "        \n",
    "        for edge in adj[node]:\n",
    "            if edge == parent:\n",
    "                continue\n",
    "            if vis[edge] == 0:\n",
    "                dfs(edge, node, vis, adj, tin, low, bridges)\n",
    "                low[node] = min(low[node], low[edge])\n",
    "                if low[edge] > low[node]:\n",
    "                    bridges.append([edge, node])\n",
    "            else:\n",
    "                low[node] = min(low[node], low[edge])\n",
    "            \n",
    "    adj = [[] for _ in range(n)]\n",
    "    for u, v in connections:\n",
    "        adj[u].append(v)\n",
    "        adj[v].append(u)\n",
    "\n",
    "    vis = [0] * n\n",
    "    tin = [0] * n\n",
    "    low = [0] * n\n",
    "    bridges = []\n",
    "    timer = 1\n",
    "    dfs(0, -1, vis, adj, tin, low, bridges)\n",
    "    return bridges\n",
    "\n",
    "criticalConnections(4, [[0,1],[1,2],[2,0],[1,3]])\n",
    "\n",
    "# time: V+2E"
   ]
  },
  {
   "cell_type": "markdown",
   "id": "85126c28",
   "metadata": {},
   "source": [
    "### Articulation point \n",
    "node whose removal will separte graph in 2 components"
   ]
  },
  {
   "cell_type": "code",
   "execution_count": 155,
   "id": "1c056e9d",
   "metadata": {},
   "outputs": [
    {
     "data": {
      "text/plain": [
       "[0, 2, 5]"
      ]
     },
     "execution_count": 155,
     "metadata": {},
     "output_type": "execute_result"
    }
   ],
   "source": [
    "def criticalNodes(n, edges):\n",
    "    def dfs(node, parent, vis, tin, low, mark, adj):\n",
    "        nonlocal timer\n",
    "        vis[node] = 1\n",
    "        tin[node] = low[node] = timer\n",
    "        timer += 1\n",
    "        child = 0\n",
    "        \n",
    "        for edge in adj[node]:\n",
    "            if edge == parent:\n",
    "                continue\n",
    "            if vis[edge] == 0:\n",
    "                dfs(edge, node, vis, tin, low, mark, adj)\n",
    "                low[node] = min(low[edge], low[node])\n",
    "                \n",
    "                if low[edge] >= tin[node] and parent != -1:\n",
    "                    mark[node] = 1\n",
    "                child += 1\n",
    "            else:\n",
    "                low[node] = min(low[node], tin[edge])\n",
    "        if child > 1 and parent == -1:\n",
    "            mark[node] = 1\n",
    "    \n",
    "    adj = [[] for _ in range(n)]\n",
    "    vis = [0] * n\n",
    "    mark = [0] * n\n",
    "    tin = [0] * n\n",
    "    low = [0] * n\n",
    "    timer = 1\n",
    "    \n",
    "    for u, v in edges:\n",
    "        adj[u].append(v)\n",
    "        adj[v].append(u)\n",
    "    \n",
    "    for i in range(n):\n",
    "        if vis[i] == 0:\n",
    "            dfs(i, -1, vis, tin, low, mark, adj)\n",
    "    critical_nodes = []\n",
    "    for i in range(n):\n",
    "        if mark[i] == 1:\n",
    "            critical_nodes.append(i)\n",
    "\n",
    "    return critical_nodes\n",
    "criticalNodes(7, [[0,1], [0,2], [0,3], [2, 4], [2,5], [5,6]])\n",
    "# time: V+2E"
   ]
  },
  {
   "cell_type": "code",
   "execution_count": null,
   "id": "4341fc8b",
   "metadata": {},
   "outputs": [],
   "source": []
  },
  {
   "cell_type": "code",
   "execution_count": null,
   "id": "a19647ad",
   "metadata": {},
   "outputs": [],
   "source": []
  },
  {
   "cell_type": "markdown",
   "id": "d4bf9f90",
   "metadata": {},
   "source": [
    "### Eventual Safe nodes using DFS "
   ]
  },
  {
   "cell_type": "code",
   "execution_count": 175,
   "id": "e6988a13",
   "metadata": {},
   "outputs": [
    {
     "data": {
      "text/plain": [
       "[2, 4, 5]"
      ]
     },
     "execution_count": 175,
     "metadata": {},
     "output_type": "execute_result"
    }
   ],
   "source": [
    "def eventualNodeDfs(v, adj):\n",
    "    def dfs(src, adj, vis, pathVis, check):\n",
    "        vis.add(src)\n",
    "        pathVis.add(src)\n",
    "        check[src] = 0\n",
    "        \n",
    "        for edge in adj[src]:\n",
    "            if edge not in vis:\n",
    "                if dfs(edge, adj, vis, pathVis, check):\n",
    "                    check[src] = 0\n",
    "                    return True\n",
    "            elif edge in pathVis:\n",
    "                check[src] = 0\n",
    "                return True\n",
    "        \n",
    "        check[src] = 1\n",
    "        pathVis.remove(src)\n",
    "        return False\n",
    "    \n",
    "    vis = set()\n",
    "    pathVis = set()\n",
    "    check = [0] * v\n",
    "    \n",
    "    safeNodes = []\n",
    "        \n",
    "    for i in range(v):\n",
    "        if i not in vis:\n",
    "            dfs(i, adj, vis, pathVis, check)\n",
    "\n",
    "    for i in range(v):\n",
    "        if check[i] == 1:\n",
    "            safeNodes.append(i)\n",
    "\n",
    "    return safeNodes\n",
    "\n",
    "eventualNodeDfs(6, [[1,2], [2,3], [5], [0], [5], []])\n",
    "    "
   ]
  },
  {
   "cell_type": "markdown",
   "id": "cfe3431f",
   "metadata": {},
   "source": [
    "### Eventual Safe nodes using BFS (TS)\n",
    "we will reverse the edge of the graph and do topological sort"
   ]
  },
  {
   "cell_type": "code",
   "execution_count": 194,
   "id": "e12563e5",
   "metadata": {},
   "outputs": [
    {
     "data": {
      "text/plain": [
       "[2, 4, 5]"
      ]
     },
     "execution_count": 194,
     "metadata": {},
     "output_type": "execute_result"
    }
   ],
   "source": [
    "from collections import deque\n",
    "def eventualNodeBfs(v, adj):\n",
    "    revAdj = [[] for _ in range(v)]\n",
    "    indegree = {x:0 for x in range(v)}\n",
    "    \n",
    "    for src in range(v):\n",
    "        for edge in adj[src]:\n",
    "            revAdj[edge].append(src)\n",
    "            indegree[src] += 1\n",
    "    queue = deque()\n",
    "    for src in indegree:\n",
    "        if indegree[src] == 0:\n",
    "            queue.append(src)\n",
    "    res = []\n",
    "    while queue:\n",
    "        node = queue.popleft()\n",
    "        res.append(node)\n",
    "        \n",
    "        for edge in revAdj[node]:\n",
    "            indegree[edge] -= 1\n",
    "#             print(indegree[node])\n",
    "            if indegree[edge] == 0:\n",
    "                queue.append(edge)\n",
    "    return sorted(res)\n",
    "    \n",
    "eventualNodeBfs(6, [[1,2], [2,3], [5], [0], [5], []])"
   ]
  },
  {
   "cell_type": "code",
   "execution_count": null,
   "id": "5d8b77c3",
   "metadata": {},
   "outputs": [],
   "source": []
  },
  {
   "cell_type": "code",
   "execution_count": null,
   "id": "00f9e828",
   "metadata": {},
   "outputs": [],
   "source": []
  },
  {
   "cell_type": "code",
   "execution_count": 199,
   "id": "5f6dbc70",
   "metadata": {},
   "outputs": [
    {
     "name": "stdout",
     "output_type": "stream",
     "text": [
      "defaultdict(<class 'list'>, {0: [[1, 2], [4, 1]], 4: [[5, 4], [2, 2]], 1: [[2, 3]], 2: [[3, 6]], 5: [[3, 1]]})\n"
     ]
    },
    {
     "data": {
      "text/plain": [
       "[0, 2, 3, 6, 1, 5]"
      ]
     },
     "execution_count": 199,
     "metadata": {},
     "output_type": "execute_result"
    }
   ],
   "source": [
    "from collections import defaultdict\n",
    "import heapq\n",
    "def spDag(n, edges):\n",
    "    graph = defaultdict(list)\n",
    "    \n",
    "    for u,v,w in edges:\n",
    "        graph[u].append([v, w])\n",
    "    \n",
    "    print(graph)\n",
    "    \n",
    "    dist = [float('inf')] * n\n",
    "    dist[0] = 0\n",
    "    pq = []\n",
    "    heapq.heappush(pq, (0, 0))\n",
    "    while pq:\n",
    "        wt, node = heapq.heappop(pq)\n",
    "        \n",
    "        for edge, ed_wt in graph[node]:\n",
    "            if wt + ed_wt < dist[edge]:\n",
    "                dist[edge] = wt + ed_wt\n",
    "                heapq.heappush(pq, (dist[edge], edge))\n",
    "    \n",
    "    return dist\n",
    "    \n",
    "spDag(6, [[0,1,2],[0,4,1],[4,5,4],[4,2,2],[1,2,3],[2,3,6],[5,3,1]])"
   ]
  },
  {
   "cell_type": "markdown",
   "id": "e16fb74c",
   "metadata": {},
   "source": [
    "### TopoSort BFS"
   ]
  },
  {
   "cell_type": "code",
   "execution_count": 205,
   "id": "bfd1af6a",
   "metadata": {},
   "outputs": [
    {
     "data": {
      "text/plain": [
       "[0, 2, 3, 6, 1, 5]"
      ]
     },
     "execution_count": 205,
     "metadata": {},
     "output_type": "execute_result"
    }
   ],
   "source": [
    "from collections import deque\n",
    "def spTopoBfs(n , edges):\n",
    "    graph = {x:[] for x in range(n)}\n",
    "    \n",
    "    for u,v,w in edges:\n",
    "        graph[u].append([v, w])\n",
    "    \n",
    "    \n",
    "    indegree = {x:0 for x in graph}\n",
    "    for src in graph:\n",
    "        for edge, wt in graph[src]:\n",
    "            indegree[edge] += 1\n",
    "    \n",
    "    queue = deque()\n",
    "    \n",
    "    for ind in indegree:\n",
    "        if ind == 0:\n",
    "            queue.append((ind, 0))\n",
    "    \n",
    "    dist = [float('inf')] * n\n",
    "    while queue:\n",
    "        node, wt = queue.popleft()\n",
    "        \n",
    "        if wt < dist[node]:\n",
    "            dist[node] = wt\n",
    "            \n",
    "        for edge, nwt in graph[node]:\n",
    "            queue.append((edge, nwt + dist[node]))\n",
    "    return dist\n",
    "spTopoBfs(6, [[0,1,2],[0,4,1],[4,5,4],[4,2,2],[1,2,3],[2,3,6],[5,3,1]])"
   ]
  },
  {
   "cell_type": "code",
   "execution_count": null,
   "id": "9426efa2",
   "metadata": {},
   "outputs": [],
   "source": []
  }
 ],
 "metadata": {
  "kernelspec": {
   "display_name": "Python 3 (ipykernel)",
   "language": "python",
   "name": "python3"
  },
  "language_info": {
   "codemirror_mode": {
    "name": "ipython",
    "version": 3
   },
   "file_extension": ".py",
   "mimetype": "text/x-python",
   "name": "python",
   "nbconvert_exporter": "python",
   "pygments_lexer": "ipython3",
   "version": "3.8.10"
  }
 },
 "nbformat": 4,
 "nbformat_minor": 5
}
