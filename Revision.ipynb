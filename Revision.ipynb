{
 "cells": [
  {
   "cell_type": "markdown",
   "metadata": {},
   "source": [
    "# Word k selection "
   ]
  },
  {
   "cell_type": "code",
   "execution_count": 20,
   "metadata": {},
   "outputs": [],
   "source": [
    "def selectionhelper(string,idx,lstr,k,asf):\n",
    "    if idx==len(string):\n",
    "        if lstr==k:\n",
    "            print(asf)\n",
    "        return\n",
    "    selectionhelper(string,idx+1,lstr+1,k,asf+string[idx])\n",
    "    selectionhelper(string,idx+1,lstr,k,asf)\n",
    "    \n",
    "def wordkselection(string,k):\n",
    "    unstr=''\n",
    "    for i in string:\n",
    "        if i not in unstr:\n",
    "            unstr+=i\n",
    "    #selectionhelper(unstr,0,0,k,'')\n",
    "    wordselectionhelper2(unstr,0,-1,'',k)\n",
    "wordkselection('aabbcbcbdde',3)"
   ]
  },
  {
   "cell_type": "code",
   "execution_count": 30,
   "metadata": {},
   "outputs": [
    {
     "name": "stdout",
     "output_type": "stream",
     "text": [
      "abc\n",
      "abd\n",
      "abe\n",
      "acd\n",
      "ace\n",
      "ade\n",
      "bcd\n",
      "bce\n",
      "bde\n",
      "cde\n"
     ]
    }
   ],
   "source": [
    "def wordselectionhelper2(string,tc,lchar,asf,k):\n",
    "    if tc==k:\n",
    "        print(asf)\n",
    "        return\n",
    "    for idx in range(lchar+1,len(string)):\n",
    "        wordselectionhelper2(string,tc+1,idx,asf+string[idx],k)\n",
    "wordselectionhelper2('abcde',0,-1,'',3)"
   ]
  },
  {
   "cell_type": "markdown",
   "metadata": {},
   "source": [
    "# Permutation of string "
   ]
  },
  {
   "cell_type": "code",
   "execution_count": 32,
   "metadata": {},
   "outputs": [
    {
     "name": "stdout",
     "output_type": "stream",
     "text": [
      "ab\n",
      "ac\n",
      "ba\n",
      "ca\n",
      "bc\n",
      "cb\n"
     ]
    }
   ],
   "source": [
    "def permute(string,cidx,spot,ts,cs):\n",
    "    if cidx==len(string):\n",
    "        if cs==ts:\n",
    "            print(''.join(spot))\n",
    "        return\n",
    "    ch=string[cidx]\n",
    "    for i in range(0,len(spot)):\n",
    "        if spot[i]==None:\n",
    "            spot[i]=ch\n",
    "            permute(string,cidx+1,spot,ts,cs+1)\n",
    "            spot[i]=None\n",
    "    permute(string,cidx+1,spot,ts,cs)\n",
    "spot=[None]*2\n",
    "permute('abc',0,spot,2,0)"
   ]
  },
  {
   "cell_type": "code",
   "execution_count": 33,
   "metadata": {},
   "outputs": [
    {
     "name": "stdout",
     "output_type": "stream",
     "text": [
      "ab\n",
      "ac\n",
      "ba\n",
      "bc\n",
      "ca\n",
      "cb\n"
     ]
    }
   ],
   "source": [
    "def permute(string,cs,ts,used,asf):\n",
    "    if cs==ts:\n",
    "        print(asf)\n",
    "        return\n",
    "    \n",
    "    for i in range(0,len(string)):\n",
    "        ch=string[i]\n",
    "        if ch not in used:\n",
    "            used.add(ch)\n",
    "            permute(string,cs+1,ts,used,asf+ch)\n",
    "            used.remove(ch)\n",
    "permute('abc',0,2,set(),'')"
   ]
  },
  {
   "cell_type": "code",
   "execution_count": 34,
   "metadata": {},
   "outputs": [
    {
     "name": "stdout",
     "output_type": "stream",
     "text": [
      "[1, 2, 0]\n",
      "[1, 0, 2]\n",
      "[2, 1, 0]\n",
      "[0, 1, 2]\n",
      "[2, 0, 1]\n",
      "[0, 2, 1]\n"
     ]
    }
   ],
   "source": [
    "def permuatation(boxes,ti,ci):\n",
    "    if ci>ti:\n",
    "        print(boxes)\n",
    "        return\n",
    "    \n",
    "    for i in range(len(boxes)):\n",
    "        if boxes[i]==0:\n",
    "            boxes[i]=ci\n",
    "            permuatation(boxes,ti,ci+1)\n",
    "            boxes[i]=0\n",
    "\n",
    "permuatation([0,0,0],2,1)"
   ]
  },
  {
   "cell_type": "code",
   "execution_count": 37,
   "metadata": {},
   "outputs": [
    {
     "name": "stdout",
     "output_type": "stream",
     "text": [
      "-11\n",
      "1-1\n",
      "11-\n"
     ]
    }
   ],
   "source": [
    "def combination(cb,tb,ci,ti,asf):\n",
    "    \n",
    "    if cb>tb:\n",
    "        if ci==ti:\n",
    "            print(asf)\n",
    "        return\n",
    "    \n",
    "    combination(cb+1,tb,ci,ti,asf+'-')\n",
    "    combination(cb+1,tb,ci+1,ti,asf+'1')\n",
    "combination(1,3,0,2,'')"
   ]
  },
  {
   "cell_type": "code",
   "execution_count": 40,
   "metadata": {},
   "outputs": [
    {
     "name": "stdout",
     "output_type": "stream",
     "text": [
      "120\n",
      "102\n",
      "210\n",
      "201\n",
      "012\n",
      "021\n"
     ]
    }
   ],
   "source": [
    "def permuu(cb,tb,ti,items,ic,ans):\n",
    "    if cb>tb:\n",
    "        if ic==ti:\n",
    "            print(ans)\n",
    "        return\n",
    "    for i in range(0,ti):\n",
    "        if items[i]==0:\n",
    "            items[i]=1\n",
    "            permuu(cb+1,tb,ti,items,ic+1,ans+str(i+1))\n",
    "            items[i]=0\n",
    "    permuu(cb+1,tb,ti,items,ic,ans+'0')\n",
    "permuu(1,3,2,[0,0],0,'')"
   ]
  },
  {
   "cell_type": "code",
   "execution_count": 45,
   "metadata": {},
   "outputs": [
    {
     "name": "stdout",
     "output_type": "stream",
     "text": [
      "aab\n",
      "aba\n",
      "baa\n"
     ]
    }
   ],
   "source": [
    "def permustr(ci,string,spot,locc):\n",
    "    if ci==len(string):\n",
    "        print(''.join(spot))\n",
    "        return\n",
    "    \n",
    "    ch=string[ci]\n",
    "    lo=locc[ch]\n",
    "    for i in range(lo+1,len(spot)):\n",
    "        if spot[i]==0:\n",
    "            locc[ch]=i\n",
    "            spot[i]=ch\n",
    "            permustr(ci+1,string,spot,locc)\n",
    "            spot[i]=0\n",
    "            locc[ch]=-1\n",
    "permustr(0,'aab',[0,0,0],{'a':-1,'b':-1})"
   ]
  },
  {
   "cell_type": "code",
   "execution_count": 44,
   "metadata": {},
   "outputs": [
    {
     "name": "stdout",
     "output_type": "stream",
     "text": [
      "aabc\n",
      "aacb\n",
      "abac\n",
      "abca\n",
      "acab\n",
      "acba\n",
      "baac\n",
      "baca\n",
      "bcaa\n",
      "caab\n",
      "caba\n",
      "cbaa\n"
     ]
    }
   ],
   "source": [
    "def permutationstr(freqmap,cs,ts,asf):\n",
    "    if cs==ts:\n",
    "        print(asf)\n",
    "        return\n",
    "    \n",
    "    for ch in freqmap.keys():\n",
    "        if freqmap[ch]!=0:\n",
    "            freqmap[ch]-=1\n",
    "            permutationstr(freqmap,cs+1,ts,asf+ch)\n",
    "            freqmap[ch]+=1\n",
    "permutationstr({'a':2,'b':1,'c':1},0,4,'')"
   ]
  },
  {
   "cell_type": "code",
   "execution_count": 61,
   "metadata": {},
   "outputs": [
    {
     "name": "stdout",
     "output_type": "stream",
     "text": [
      "2-2-3-\n",
      "2-5-\n"
     ]
    }
   ],
   "source": [
    "def coinchange(idx,coins,tamt,amt,asf):\n",
    "    if idx==len(coins):\n",
    "        if amt==tamt:\n",
    "            print(asf)\n",
    "        return\n",
    "    for j in range(tamt//coins[idx],0,-1):\n",
    "        part=''\n",
    "        for k in range(0,j):\n",
    "            part+=str(coins[idx])+'-'\n",
    "        coinchange(idx+1,coins,tamt,amt+coins[idx]*j,asf+part)\n",
    "    coinchange(idx+1,coins,tamt,amt,asf)\n",
    "coinchange(0,[2,3,5],7,0,'')"
   ]
  },
  {
   "cell_type": "markdown",
   "metadata": {},
   "source": [
    "# Queen combination "
   ]
  },
  {
   "cell_type": "code",
   "execution_count": 66,
   "metadata": {},
   "outputs": [
    {
     "name": "stdout",
     "output_type": "stream",
     "text": [
      "qq\n",
      "--\n",
      "\n",
      "q-\n",
      "q-\n",
      "\n",
      "q-\n",
      "-q\n",
      "\n",
      "-q\n",
      "q-\n",
      "\n",
      "-q\n",
      "-q\n",
      "\n",
      "--\n",
      "qq\n",
      "\n"
     ]
    }
   ],
   "source": [
    "def queencomb(qsf,tq,row,col,asf):\n",
    "    if row==tq:\n",
    "        if qsf==tq:\n",
    "            print(asf)\n",
    "        return\n",
    "    \n",
    "    nr=0\n",
    "    nc=0\n",
    "    if col==tq-1:\n",
    "        nc=0\n",
    "        nr=row+1\n",
    "        ysf=asf+'q\\n'\n",
    "        nsf=asf+'-\\n'\n",
    "    else:\n",
    "        nc=col+1\n",
    "        nr=row\n",
    "        ysf=asf+'q'\n",
    "        nsf=asf+'-'\n",
    "    queencomb(qsf+1,tq,nr,nc,ysf)\n",
    "    queencomb(qsf,tq,nr,nc,nsf)\n",
    "queencomb(0,2,0,0,'')"
   ]
  },
  {
   "cell_type": "code",
   "execution_count": 73,
   "metadata": {},
   "outputs": [
    {
     "name": "stdout",
     "output_type": "stream",
     "text": [
      "q1,q2,\n",
      "-,-,\n",
      "\n",
      "q1,-,\n",
      "q2,-,\n",
      "\n",
      "q1,-,\n",
      "-,q2,\n",
      "\n",
      "q2,q1,\n",
      "-,-,\n",
      "\n",
      "-,q1,\n",
      "q2,-,\n",
      "\n",
      "-,q1,\n",
      "-,q2,\n",
      "\n",
      "q2,-,\n",
      "q1,-,\n",
      "\n",
      "-,q2,\n",
      "q1,-,\n",
      "\n",
      "-,-,\n",
      "q1,q2,\n",
      "\n",
      "q2,-,\n",
      "-,q1,\n",
      "\n",
      "-,q2,\n",
      "-,q1,\n",
      "\n",
      "-,-,\n",
      "q2,q1,\n",
      "\n"
     ]
    }
   ],
   "source": [
    "def queenpermutation(qsf,board,tq):\n",
    "    if qsf==tq:\n",
    "        for i in range(len(board)):\n",
    "            for j in range(len(board)):\n",
    "                if board[i][j]!=0:\n",
    "                    print(board[i][j],end=',')\n",
    "                else:\n",
    "                    print('-',end=',')\n",
    "            print('')\n",
    "        print('')\n",
    "        return\n",
    "    \n",
    "    #main code\n",
    "    for i in range(len(board)):\n",
    "        for j in range(len(board)):\n",
    "            if board[i][j]==0:\n",
    "                board[i][j]='q'+str(qsf+1)\n",
    "                queenpermutation(qsf+1,board,tq)\n",
    "                board[i][j]=0\n",
    "\n",
    "board=[[0 for x in range(2)]for x in range(2)]\n",
    "queenpermutation(0,board,2)"
   ]
  },
  {
   "cell_type": "code",
   "execution_count": 2,
   "metadata": {},
   "outputs": [
    {
     "name": "stdout",
     "output_type": "stream",
     "text": [
      "ab\n",
      "ac\n",
      "ba\n",
      "ca\n",
      "bc\n",
      "cb\n"
     ]
    }
   ],
   "source": [
    "#revision permuatation of string\n",
    "def pruu(string,idx,cs,ts,spot):\n",
    "    if idx==len(string):\n",
    "        if cs==ts:\n",
    "            print(''.join(spot))\n",
    "        return\n",
    "    \n",
    "    for i in range(0,len(spot)):\n",
    "        if spot[i]==0:\n",
    "            spot[i]=string[idx]\n",
    "            pruu(string,idx+1,cs+1,ts,spot)\n",
    "            spot[i]=0\n",
    "    pruu(string,idx+1,cs,ts,spot)\n",
    "pruu('abc',0,0,2,[0,0])"
   ]
  },
  {
   "cell_type": "code",
   "execution_count": 3,
   "metadata": {},
   "outputs": [
    {
     "data": {
      "text/plain": [
       "0"
      ]
     },
     "execution_count": 3,
     "metadata": {},
     "output_type": "execute_result"
    }
   ],
   "source": [
    "1//6"
   ]
  },
  {
   "cell_type": "code",
   "execution_count": 7,
   "metadata": {},
   "outputs": [
    {
     "data": {
      "text/plain": [
       "1"
      ]
     },
     "execution_count": 7,
     "metadata": {},
     "output_type": "execute_result"
    }
   ],
   "source": [
    "4%3"
   ]
  },
  {
   "cell_type": "code",
   "execution_count": 12,
   "metadata": {},
   "outputs": [
    {
     "name": "stdout",
     "output_type": "stream",
     "text": [
      "qq\n",
      "--\n",
      "\n",
      "q-\n",
      "q-\n",
      "\n",
      "q-\n",
      "-q\n",
      "\n",
      "-q\n",
      "q-\n",
      "\n",
      "-q\n",
      "-q\n",
      "\n",
      "--\n",
      "qq\n",
      "\n"
     ]
    }
   ],
   "source": [
    "def combination(board,pqueen,tqueen,locc):\n",
    "    if pqueen==tqueen:\n",
    "        for i in range(0,len(board)):\n",
    "            for j in range(0,len(board)):\n",
    "                if board[i][j]==True:\n",
    "                    print('q',end='')\n",
    "                else:\n",
    "                    print('-',end='')\n",
    "            print('')\n",
    "        print('')\n",
    "        return\n",
    "    \n",
    "    for cell in range(locc+1,len(board)*len(board)):\n",
    "        row=cell//len(board)\n",
    "        col=cell%len(board)\n",
    "        board[row][col]=True\n",
    "        combination(board,pqueen+1,tqueen,cell)\n",
    "        board[row][col]=False\n",
    "board=[[False for x in range(2)]for x in range(2)]\n",
    "combination(board,0,2,-1)"
   ]
  },
  {
   "cell_type": "code",
   "execution_count": 13,
   "metadata": {},
   "outputs": [
    {
     "name": "stdout",
     "output_type": "stream",
     "text": [
      "qq\n",
      "--\n",
      "\n",
      "q-\n",
      "q-\n",
      "\n",
      "q-\n",
      "-q\n",
      "\n",
      "-q\n",
      "q-\n",
      "\n",
      "-q\n",
      "-q\n",
      "\n",
      "--\n",
      "qq\n",
      "\n"
     ]
    }
   ],
   "source": [
    "def comb2(qp,tq,row,col,asf):\n",
    "    if row==tq:\n",
    "        if qp==tq:\n",
    "            print(asf)\n",
    "        return\n",
    "    nr=0\n",
    "    nc=0\n",
    "    if col==tq-1:\n",
    "        nr=row+1\n",
    "        nc=0\n",
    "        ysf='q\\n'\n",
    "        nsf='-\\n'\n",
    "    else:\n",
    "        nr=row\n",
    "        nc=col+1\n",
    "        ysf='q'\n",
    "        nsf='-'\n",
    "        \n",
    "    #include\n",
    "    comb2(qp+1,tq,nr,nc,asf+ysf)\n",
    "    \n",
    "    #exclude\n",
    "    comb2(qp,tq,nr,nc,asf+nsf)\n",
    "comb2(0,2,0,0,'')"
   ]
  },
  {
   "cell_type": "code",
   "execution_count": 18,
   "metadata": {},
   "outputs": [
    {
     "name": "stdout",
     "output_type": "stream",
     "text": [
      "qq\n",
      "--\n",
      "\n",
      "q-\n",
      "q-\n",
      "\n",
      "q-\n",
      "-q\n",
      "\n",
      "-q\n",
      "q-\n",
      "\n",
      "-q\n",
      "-q\n",
      "\n",
      "--\n",
      "qq\n",
      "\n"
     ]
    }
   ],
   "source": [
    "def comb3(qsf,tq,board,row,col):\n",
    "    if qsf==tq:\n",
    "        for i in range(0,len(board)):\n",
    "            for j in range(0,len(board)):\n",
    "                if board[i][j]==True:\n",
    "                    print('q',end='')\n",
    "                else:\n",
    "                    print('-',end='')\n",
    "            print('')\n",
    "        print('')\n",
    "        return\n",
    "    for j in range(col+1,len(board)): #usi row k next columns\n",
    "        board[row][j]=True\n",
    "        comb3(qsf+1,tq,board,row,j)\n",
    "        board[row][j]=False\n",
    "        \n",
    "    \n",
    "    for i in range(row+1,len(board)): # next row k dabbe\n",
    "        for j in range(0,len(board)):\n",
    "            board[i][j]=True\n",
    "            comb3(qsf+1,tq,board,i,j)\n",
    "            board[i][j]=False\n",
    "    \n",
    "board=[[False for x in range(2)]for x in range(2)]\n",
    "comb3(0,2,board,0,-1)"
   ]
  },
  {
   "cell_type": "code",
   "execution_count": 19,
   "metadata": {},
   "outputs": [
    {
     "name": "stdout",
     "output_type": "stream",
     "text": [
      "q1q2\n",
      "--\n",
      "\n",
      "q1-\n",
      "q2-\n",
      "\n",
      "q1-\n",
      "-q2\n",
      "\n",
      "q2q1\n",
      "--\n",
      "\n",
      "-q1\n",
      "q2-\n",
      "\n",
      "-q1\n",
      "-q2\n",
      "\n",
      "q2-\n",
      "q1-\n",
      "\n",
      "-q2\n",
      "q1-\n",
      "\n",
      "--\n",
      "q1q2\n",
      "\n",
      "q2-\n",
      "-q1\n",
      "\n",
      "-q2\n",
      "-q1\n",
      "\n",
      "--\n",
      "q2q1\n",
      "\n"
     ]
    }
   ],
   "source": [
    "#queen permutation 1\n",
    "def queenpermu(qsf,tq,board):\n",
    "    if qsf==tq:\n",
    "        for i in range(0,len(board)):\n",
    "            for j in range(0,len(board)):\n",
    "                if board[i][j]!=0:\n",
    "                    print('q'+str(board[i][j]),end='')\n",
    "                else:\n",
    "                    print('-',end='')\n",
    "            print('')\n",
    "        print('')\n",
    "        return\n",
    "    \n",
    "    for i in range(0,len(board)):\n",
    "        for j in range(0,len(board)):\n",
    "            if board[i][j]==False:\n",
    "                board[i][j]=qsf+1\n",
    "                queenpermu(qsf+1,tq,board)\n",
    "                board[i][j]=0\n",
    "\n",
    "board=[[0 for x in range(2)] for x in range(2)]\n",
    "queenpermu(0,2,board)"
   ]
  },
  {
   "cell_type": "code",
   "execution_count": 22,
   "metadata": {},
   "outputs": [
    {
     "name": "stdout",
     "output_type": "stream",
     "text": [
      "1 2\n",
      "- -\n",
      "\n",
      "1 -\n",
      "2 -\n",
      "\n",
      "1 -\n",
      "- 2\n",
      "\n",
      "1 2\n",
      "- -\n",
      "\n",
      "1 -\n",
      "2 -\n",
      "\n",
      "1 -\n",
      "- 2\n",
      "\n",
      "- 1\n",
      "2 -\n",
      "\n",
      "- 1\n",
      "- 2\n",
      "\n",
      "- 1\n",
      "2 -\n",
      "\n",
      "- 1\n",
      "- 2\n",
      "\n",
      "- -\n",
      "1 2\n",
      "\n",
      "- -\n",
      "1 2\n",
      "\n"
     ]
    }
   ],
   "source": [
    "def permu2(qsf,row,col,queens,asf):\n",
    "    if row==len(queens):\n",
    "        if qsf==len(queens):\n",
    "            print(asf)\n",
    "        return\n",
    "    \n",
    "    nr=0\n",
    "    nc=0\n",
    "    if col==len(queens)-1:\n",
    "        nr=row+1\n",
    "        nc=0\n",
    "        sep='\\n'\n",
    "    else:\n",
    "        nr=row\n",
    "        nc=col+1\n",
    "        sep=' '\n",
    "    for i in range(0,len(queens)):\n",
    "        if queens[i]==0:\n",
    "            queens[i]=1\n",
    "            permu2(qsf+1,nr,nc,queens,asf+str(qsf+1)+sep)\n",
    "            queens[i]=0\n",
    "    permu2(qsf,nr,nc,queens,asf+'-'+sep)\n",
    "    \n",
    "queens=[0,0]\n",
    "permu2(0,0,0,queens,'')"
   ]
  },
  {
   "cell_type": "code",
   "execution_count": 32,
   "metadata": {},
   "outputs": [
    {
     "name": "stdout",
     "output_type": "stream",
     "text": [
      "0,1 1,3 2,0 3,2 \n",
      "0,2 1,0 2,3 3,1 \n"
     ]
    }
   ],
   "source": [
    "#nqueen\n",
    "def issafe(row,col,board):\n",
    "    #check col\n",
    "    for i in range(row,-1,-1):\n",
    "        if board[i][col]>0:\n",
    "            return False\n",
    "    #left diagonal\n",
    "    i=row\n",
    "    j=col\n",
    "    while i>-1 and j>-1:\n",
    "        if board[i][j]>0:\n",
    "            return False\n",
    "        i-=1\n",
    "        j-=1\n",
    "    #right diagonal\n",
    "    i=row\n",
    "    j=col\n",
    "    while i>-1 and j<len(board):\n",
    "        if board[i][j]>0:\n",
    "            return False\n",
    "        i-=1\n",
    "        j+=1\n",
    "    return True\n",
    "    \n",
    "\n",
    "def nqueen(row,col,board,asf):\n",
    "    if row==len(board):\n",
    "        print(asf)\n",
    "        return\n",
    "    \n",
    "    for col in range(0,len(board)):\n",
    "        if board[row][col]==0 and issafe(row,col,board)==True:\n",
    "            board[row][col]=1\n",
    "            nqueen(row+1,col,board,asf+str(row)+','+str(col)+' ')\n",
    "            board[row][col]=0\n",
    "board=[[0 for x in range(4)] for x in range(4)]\n",
    "nqueen(0,0,board,'')"
   ]
  },
  {
   "cell_type": "code",
   "execution_count": 27,
   "metadata": {},
   "outputs": [
    {
     "name": "stdout",
     "output_type": "stream",
     "text": [
      "0-1,1-3,2-0,3-2,\n",
      "0-2,1-0,2-3,3-1,\n"
     ]
    }
   ],
   "source": [
    "#NQUEEN BRANCH AND BOUND\n",
    "def nqueen(board,row,cols,ldig,rdig,asf):\n",
    "    if row==len(board):\n",
    "        print(asf)\n",
    "        return\n",
    "    for j in range(0,len(board)):\n",
    "        if board[row][j]==0 and cols[j]==0 and ldig[row-j+3]==0 and rdig[row+j]==0:\n",
    "            board[row][j]=1\n",
    "            cols[j]=1\n",
    "            rdig[row+j]=1\n",
    "            ldig[row-j+3]=1\n",
    "            nqueen(board,row+1,cols,ldig,rdig,asf+str(row)+'-'+str(j)+',')\n",
    "            board[row][j]=0\n",
    "            cols[j]=0\n",
    "            rdig[row+j]=0\n",
    "            ldig[row-j+3]=0\n",
    "    \n",
    "board=[[0 for x in range(4)] for x in range(4)]\n",
    "cols=[0 for x in range(4)]\n",
    "ldig=[0 for x in range(2*4-1)]\n",
    "rdig=[0 for x in range(2*4-1)]\n",
    "\n",
    "nqueen(board,0,cols,ldig,rdig,'')"
   ]
  },
  {
   "cell_type": "code",
   "execution_count": 35,
   "metadata": {},
   "outputs": [],
   "source": [
    "def issafe(chess,i,j):\n",
    "    #vertical up\n",
    "    for row in range(i,-1,-1):\n",
    "        if chess[row][j]>0:\n",
    "            return False\n",
    "    #vertical down\n",
    "    for row in range(i,len(chess)):\n",
    "        if chess[row][j]>0:\n",
    "            return False\n",
    "    \n",
    "    #horizontal up\n",
    "    for col in range(j,-1,-1):\n",
    "        if chess[i][col]>0:\n",
    "            return False\n",
    "        \n",
    "    #horizontal down\n",
    "    for col in range(j,len(chess)):\n",
    "        if chess[i][col]>0:\n",
    "            return False\n",
    "    \n",
    "    #left diagonal 1\n",
    "    row=i\n",
    "    col=j\n",
    "    while row>=0 and col>=0:\n",
    "        if chess[row][col]>0:\n",
    "            return False\n",
    "        row-=1\n",
    "        col-=1\n",
    "        \n",
    "    #left diagonal 2\n",
    "    row=i\n",
    "    col=j\n",
    "    while row<len(chess) and col>=0:\n",
    "        if chess[row][col]==True:\n",
    "            return False\n",
    "        row+=1\n",
    "        col-=1\n",
    "    \n",
    "    #right diagonal 1\n",
    "    row=i\n",
    "    col=j\n",
    "    while row>=0 and col<len(chess):\n",
    "        if chess[row][col]>0:\n",
    "            return False\n",
    "        row-=1\n",
    "        col+=1\n",
    "        \n",
    "    #right diagonal 2\n",
    "    row=i\n",
    "    col=j\n",
    "    while row<len(chess) and col<len(chess):\n",
    "        if chess[row][col]>0:\n",
    "            return False\n",
    "        row+=1\n",
    "        col+=1\n",
    "    return True"
   ]
  },
  {
   "cell_type": "code",
   "execution_count": 38,
   "metadata": {},
   "outputs": [
    {
     "name": "stdout",
     "output_type": "stream",
     "text": [
      "- q1 - - \n",
      "- - - q2 \n",
      "q3 - - - \n",
      "- - q4 - \n",
      "\n",
      "- q1 - - \n",
      "- - - q2 \n",
      "q4 - - - \n",
      "- - q3 - \n",
      "\n",
      "- q1 - - \n",
      "- - - q3 \n",
      "q2 - - - \n",
      "- - q4 - \n",
      "\n",
      "- q1 - - \n",
      "- - - q4 \n",
      "q2 - - - \n",
      "- - q3 - \n",
      "\n",
      "- q1 - - \n",
      "- - - q3 \n",
      "- - q2 - \n",
      "q4 - - - \n",
      "\n",
      "- q1 - - \n",
      "- - - q4 \n",
      "- - q2 - \n",
      "q3 - - - \n",
      "\n",
      "- q1 - - \n",
      "- - - q4 \n",
      "- - q3 - \n",
      "q2 - - - \n",
      "\n",
      "- q1 - - \n",
      "- - - q3 \n",
      "q4 - - - \n",
      "- - q2 - \n",
      "\n",
      "- q1 - - \n",
      "- - - q4 \n",
      "q3 - - - \n",
      "- - q2 - \n",
      "\n",
      "- - q1 - \n",
      "q2 - - - \n",
      "- - - q3 \n",
      "- q4 - - \n",
      "\n",
      "- - q1 - \n",
      "q2 - - - \n",
      "- - - q4 \n",
      "- q3 - - \n",
      "\n",
      "- - q1 - \n",
      "q3 - - - \n",
      "- - - q2 \n",
      "- q4 - - \n",
      "\n",
      "- - q1 - \n",
      "q4 - - - \n",
      "- - - q2 \n",
      "- q3 - - \n",
      "\n",
      "- - q1 - \n",
      "q3 - - - \n",
      "- - - q4 \n",
      "- q2 - - \n",
      "\n",
      "- - q1 - \n",
      "q4 - - - \n",
      "- - - q3 \n",
      "- q2 - - \n",
      "\n",
      "- - - q1 \n",
      "q2 - - - \n",
      "- - q4 - \n",
      "- q3 - - \n",
      "\n",
      "- - - q1 \n",
      "- q3 - - \n",
      "q2 - - - \n",
      "- - q4 - \n",
      "\n",
      "- - - q1 \n",
      "- q4 - - \n",
      "q2 - - - \n",
      "- - q3 - \n",
      "\n",
      "- - - q1 \n",
      "q3 - - - \n",
      "- - q4 - \n",
      "- q2 - - \n",
      "\n",
      "- - - q1 \n",
      "q4 - - - \n",
      "- - q3 - \n",
      "- q2 - - \n",
      "\n",
      "- - - q1 \n",
      "- q4 - - \n",
      "q3 - - - \n",
      "- - q2 - \n",
      "\n",
      "- - q2 - \n",
      "q1 - - - \n",
      "- - - q3 \n",
      "- q4 - - \n",
      "\n",
      "- - q2 - \n",
      "q1 - - - \n",
      "- - - q4 \n",
      "- q3 - - \n",
      "\n",
      "- - - q2 \n",
      "q1 - - - \n",
      "- - q4 - \n",
      "- q3 - - \n",
      "\n",
      "- - q3 - \n",
      "q1 - - - \n",
      "- - - q2 \n",
      "- q4 - - \n",
      "\n",
      "- - q4 - \n",
      "q1 - - - \n",
      "- - - q2 \n",
      "- q3 - - \n",
      "\n",
      "- - q3 - \n",
      "q1 - - - \n",
      "- - - q4 \n",
      "- q2 - - \n",
      "\n",
      "- - - q3 \n",
      "q1 - - - \n",
      "- - q4 - \n",
      "- q2 - - \n",
      "\n",
      "- - - q4 \n",
      "q1 - - - \n",
      "- - q3 - \n",
      "- q2 - - \n",
      "\n",
      "- - q4 - \n",
      "q1 - - - \n",
      "- - - q3 \n",
      "- q2 - - \n",
      "\n",
      "- q2 - - \n",
      "- - - q1 \n",
      "q3 - - - \n",
      "- - q4 - \n",
      "\n",
      "- q2 - - \n",
      "- - - q1 \n",
      "q4 - - - \n",
      "- - q3 - \n",
      "\n",
      "- q3 - - \n",
      "- - - q1 \n",
      "q2 - - - \n",
      "- - q4 - \n",
      "\n",
      "- q4 - - \n",
      "- - - q1 \n",
      "q2 - - - \n",
      "- - q3 - \n",
      "\n",
      "- q3 - - \n",
      "- - - q1 \n",
      "q4 - - - \n",
      "- - q2 - \n",
      "\n",
      "- q4 - - \n",
      "- - - q1 \n",
      "q3 - - - \n",
      "- - q2 - \n",
      "\n",
      "- q2 - - \n",
      "- - - q3 \n",
      "q1 - - - \n",
      "- - q4 - \n",
      "\n",
      "- q2 - - \n",
      "- - - q4 \n",
      "q1 - - - \n",
      "- - q3 - \n",
      "\n",
      "- q3 - - \n",
      "- - - q2 \n",
      "q1 - - - \n",
      "- - q4 - \n",
      "\n",
      "- q4 - - \n",
      "- - - q2 \n",
      "q1 - - - \n",
      "- - q3 - \n",
      "\n",
      "- q3 - - \n",
      "- - - q4 \n",
      "q1 - - - \n",
      "- - q2 - \n",
      "\n",
      "- q4 - - \n",
      "- - - q3 \n",
      "q1 - - - \n",
      "- - q2 - \n",
      "\n",
      "- - q2 - \n",
      "q3 - - - \n",
      "- - - q1 \n",
      "- q4 - - \n",
      "\n",
      "- - q2 - \n",
      "q4 - - - \n",
      "- - - q1 \n",
      "- q3 - - \n",
      "\n",
      "- - q3 - \n",
      "q2 - - - \n",
      "- - - q1 \n",
      "- q4 - - \n",
      "\n",
      "- - q4 - \n",
      "q2 - - - \n",
      "- - - q1 \n",
      "- q3 - - \n",
      "\n",
      "- - q3 - \n",
      "- q2 - - \n",
      "- - - q1 \n",
      "q4 - - - \n",
      "\n",
      "- - q4 - \n",
      "- q2 - - \n",
      "- - - q1 \n",
      "q3 - - - \n",
      "\n",
      "- - q4 - \n",
      "- q3 - - \n",
      "- - - q1 \n",
      "q2 - - - \n",
      "\n",
      "- - q3 - \n",
      "q4 - - - \n",
      "- - - q1 \n",
      "- q2 - - \n",
      "\n",
      "- - q4 - \n",
      "q3 - - - \n",
      "- - - q1 \n",
      "- q2 - - \n",
      "\n",
      "- q2 - - \n",
      "- - - q4 \n",
      "- - q3 - \n",
      "q1 - - - \n",
      "\n",
      "- - q3 - \n",
      "- q2 - - \n",
      "- - - q4 \n",
      "q1 - - - \n",
      "\n",
      "- - q4 - \n",
      "- q2 - - \n",
      "- - - q3 \n",
      "q1 - - - \n",
      "\n",
      "- q3 - - \n",
      "- - - q4 \n",
      "- - q2 - \n",
      "q1 - - - \n",
      "\n",
      "- q4 - - \n",
      "- - - q3 \n",
      "- - q2 - \n",
      "q1 - - - \n",
      "\n",
      "- - q4 - \n",
      "- q3 - - \n",
      "- - - q2 \n",
      "q1 - - - \n",
      "\n",
      "- - q2 - \n",
      "q3 - - - \n",
      "- - - q4 \n",
      "- q1 - - \n",
      "\n",
      "- - q2 - \n",
      "q4 - - - \n",
      "- - - q3 \n",
      "- q1 - - \n",
      "\n",
      "- - q3 - \n",
      "q2 - - - \n",
      "- - - q4 \n",
      "- q1 - - \n",
      "\n",
      "- - q4 - \n",
      "q2 - - - \n",
      "- - - q3 \n",
      "- q1 - - \n",
      "\n",
      "- - q3 - \n",
      "q4 - - - \n",
      "- - - q2 \n",
      "- q1 - - \n",
      "\n",
      "- - q4 - \n",
      "q3 - - - \n",
      "- - - q2 \n",
      "- q1 - - \n",
      "\n",
      "- q2 - - \n",
      "- - - q3 \n",
      "q4 - - - \n",
      "- - q1 - \n",
      "\n",
      "- q2 - - \n",
      "- - - q4 \n",
      "q3 - - - \n",
      "- - q1 - \n",
      "\n",
      "- - - q2 \n",
      "- q4 - - \n",
      "q3 - - - \n",
      "- - q1 - \n",
      "\n",
      "- q3 - - \n",
      "- - - q2 \n",
      "q4 - - - \n",
      "- - q1 - \n",
      "\n",
      "- q4 - - \n",
      "- - - q2 \n",
      "q3 - - - \n",
      "- - q1 - \n",
      "\n",
      "- q3 - - \n",
      "- - - q4 \n",
      "q2 - - - \n",
      "- - q1 - \n",
      "\n",
      "- - - q3 \n",
      "- q4 - - \n",
      "q2 - - - \n",
      "- - q1 - \n",
      "\n",
      "- - - q4 \n",
      "- q3 - - \n",
      "q2 - - - \n",
      "- - q1 - \n",
      "\n",
      "- q4 - - \n",
      "- - - q3 \n",
      "q2 - - - \n",
      "- - q1 - \n",
      "\n"
     ]
    }
   ],
   "source": [
    "#permutation\n",
    "def nqueenpermutation(board,qsf,tq):\n",
    "    if qsf==tq:\n",
    "        for i in range(0,len(board)):\n",
    "            for j in range(0,len(board)):\n",
    "                if board[i][j]!=0:\n",
    "                    print('q'+str(board[i][j]),end=' ')\n",
    "                else:\n",
    "                    print('-',end=' ')\n",
    "            print('')\n",
    "        print('')\n",
    "        return\n",
    "    \n",
    "    for cell in range(0,len(board)*len(board)):\n",
    "        row=cell//len(board)\n",
    "        col=cell%len(board)\n",
    "        if board[row][col]==0 and issafe(board,row,col)==True:\n",
    "            board[row][col]=qsf+1\n",
    "            nqueenpermutation(board,qsf+1,tq)\n",
    "            board[row][col]=0\n",
    "        \n",
    "board=[[0 for x in range(4)] for x in range(4)]\n",
    "nqueenpermutation(board,0,4)"
   ]
  },
  {
   "cell_type": "code",
   "execution_count": 41,
   "metadata": {},
   "outputs": [
    {
     "name": "stdout",
     "output_type": "stream",
     "text": [
      "- q - - \n",
      "- - - q \n",
      "q - - - \n",
      "- - q - \n",
      "\n",
      "- - q - \n",
      "q - - - \n",
      "- - - q \n",
      "- q - - \n",
      "\n"
     ]
    }
   ],
   "source": [
    "def nqueencomb(qsf,tq,board,locc):\n",
    "    if qsf==tq:\n",
    "        for i in range(0,len(board)):\n",
    "            for j in range(0,len(board)):\n",
    "                if board[i][j]!=0:\n",
    "                    print('q',end=' ')\n",
    "                else:\n",
    "                    print('-',end=' ')\n",
    "            print('')\n",
    "        print('')\n",
    "        return\n",
    "    \n",
    "    for cell in range(locc+1,len(board)*len(board)):\n",
    "        row=cell//len(board)\n",
    "        col=cell%len(board)\n",
    "        if board[row][col]==0 and issafe(board,row,col)==True:\n",
    "            board[row][col]=1\n",
    "            nqueencomb(qsf+1,tq,board,cell)\n",
    "            board[row][col]=0\n",
    "        \n",
    "board=[[0 for x in range(4)] for x in range(4)]\n",
    "nqueencomb(0,4,board,-1)"
   ]
  },
  {
   "cell_type": "code",
   "execution_count": 42,
   "metadata": {},
   "outputs": [],
   "source": [
    "def displayboard(board):\n",
    "    for i in range(len(board)):\n",
    "        for j in range(len(board)):\n",
    "            print(board[i][j],end=' ')\n",
    "        print('')"
   ]
  },
  {
   "cell_type": "code",
   "execution_count": 57,
   "metadata": {},
   "outputs": [
    {
     "name": "stdout",
     "output_type": "stream",
     "text": [
      "aya\n",
      "5 2 7 12 \n",
      "8 11 4 1 \n",
      "3 6 13 10 \n",
      "14 9 0 0 \n",
      "aya\n",
      "5 2 7 14 \n",
      "8 11 4 1 \n",
      "3 6 13 10 \n",
      "12 9 0 0 \n",
      "aya\n",
      "5 2 7 14 \n",
      "8 11 4 1 \n",
      "3 6 13 10 \n",
      "12 9 0 0 \n",
      "aya\n",
      "5 2 7 12 \n",
      "8 11 4 1 \n",
      "3 6 13 10 \n",
      "14 9 0 0 \n",
      "aya\n",
      "5 2 7 12 \n",
      "8 11 4 1 \n",
      "3 6 13 10 \n",
      "14 9 0 0 \n",
      "aya\n",
      "5 2 7 14 \n",
      "8 11 4 1 \n",
      "3 6 13 10 \n",
      "12 9 0 0 \n",
      "aya\n",
      "5 2 7 14 \n",
      "8 11 4 1 \n",
      "3 6 13 10 \n",
      "12 9 0 0 \n",
      "aya\n",
      "5 2 7 12 \n",
      "8 11 4 1 \n",
      "3 6 13 10 \n",
      "14 9 0 0 \n",
      "aya\n",
      "0 2 7 12 \n",
      "8 11 4 1 \n",
      "3 6 13 10 \n",
      "14 9 0 5 \n",
      "aya\n",
      "0 2 7 14 \n",
      "8 11 4 1 \n",
      "3 6 13 10 \n",
      "12 9 0 5 \n",
      "aya\n",
      "0 2 7 14 \n",
      "8 11 4 1 \n",
      "3 6 13 10 \n",
      "12 9 0 5 \n",
      "aya\n",
      "0 2 7 12 \n",
      "8 11 4 1 \n",
      "3 6 13 10 \n",
      "14 9 0 5 \n",
      "aya\n",
      "0 2 7 12 \n",
      "8 11 4 1 \n",
      "3 6 13 10 \n",
      "14 9 0 5 \n",
      "aya\n",
      "0 2 7 14 \n",
      "8 11 4 1 \n",
      "3 6 13 10 \n",
      "12 9 0 5 \n",
      "aya\n",
      "0 2 7 14 \n",
      "8 11 4 1 \n",
      "3 6 13 10 \n",
      "12 9 0 5 \n",
      "aya\n",
      "0 2 7 12 \n",
      "8 11 4 1 \n",
      "3 6 13 10 \n",
      "14 9 0 5 \n",
      "aya\n",
      "5 2 7 12 \n",
      "8 11 4 1 \n",
      "3 6 13 10 \n",
      "14 9 0 0 \n",
      "aya\n",
      "5 2 7 14 \n",
      "8 11 4 1 \n",
      "3 6 13 10 \n",
      "12 9 0 0 \n",
      "aya\n",
      "5 2 7 14 \n",
      "8 11 4 1 \n",
      "3 6 13 10 \n",
      "12 9 0 0 \n",
      "aya\n",
      "5 2 7 12 \n",
      "8 11 4 1 \n",
      "3 6 13 10 \n",
      "14 9 0 0 \n",
      "aya\n",
      "5 2 7 12 \n",
      "8 11 4 1 \n",
      "3 6 13 10 \n",
      "14 9 0 0 \n",
      "aya\n",
      "5 2 7 14 \n",
      "8 11 4 1 \n",
      "3 6 13 10 \n",
      "12 9 0 0 \n",
      "aya\n",
      "5 2 7 14 \n",
      "8 11 4 1 \n",
      "3 6 13 10 \n",
      "12 9 0 0 \n",
      "aya\n",
      "5 2 7 12 \n",
      "8 11 4 1 \n",
      "3 6 13 10 \n",
      "14 9 0 0 \n",
      "aya\n",
      "0 2 7 12 \n",
      "8 11 4 1 \n",
      "3 6 13 10 \n",
      "14 9 0 5 \n",
      "aya\n",
      "0 2 7 14 \n",
      "8 11 4 1 \n",
      "3 6 13 10 \n",
      "12 9 0 5 \n",
      "aya\n",
      "0 2 7 14 \n",
      "8 11 4 1 \n",
      "3 6 13 10 \n",
      "12 9 0 5 \n",
      "aya\n",
      "0 2 7 12 \n",
      "8 11 4 1 \n",
      "3 6 13 10 \n",
      "14 9 0 5 \n",
      "aya\n",
      "0 2 7 12 \n",
      "8 11 4 1 \n",
      "3 6 13 10 \n",
      "14 9 0 5 \n",
      "aya\n",
      "0 2 7 14 \n",
      "8 11 4 1 \n",
      "3 6 13 10 \n",
      "12 9 0 5 \n",
      "aya\n",
      "0 2 7 14 \n",
      "8 11 4 1 \n",
      "3 6 13 10 \n",
      "12 9 0 5 \n",
      "aya\n",
      "0 2 7 12 \n",
      "8 11 4 1 \n",
      "3 6 13 10 \n",
      "14 9 0 5 \n",
      "aya\n",
      "9 2 11 4 \n",
      "14 5 8 1 \n",
      "7 10 3 12 \n",
      "0 13 6 0 \n",
      "aya\n",
      "9 2 11 4 \n",
      "12 5 8 1 \n",
      "7 10 3 14 \n",
      "0 13 6 0 \n",
      "aya\n",
      "9 2 11 4 \n",
      "12 5 8 1 \n",
      "7 10 3 14 \n",
      "0 13 6 0 \n",
      "aya\n",
      "0 2 11 4 \n",
      "14 5 8 1 \n",
      "7 10 3 12 \n",
      "0 13 6 9 \n",
      "aya\n",
      "0 2 11 4 \n",
      "12 5 8 1 \n",
      "7 10 3 14 \n",
      "0 13 6 9 \n",
      "aya\n",
      "0 2 11 4 \n",
      "12 5 8 1 \n",
      "7 10 3 14 \n",
      "0 13 6 9 \n",
      "aya\n",
      "9 2 11 4 \n",
      "14 5 8 1 \n",
      "7 10 3 12 \n",
      "0 13 6 0 \n",
      "aya\n",
      "9 2 11 4 \n",
      "12 5 8 1 \n",
      "7 10 3 14 \n",
      "0 13 6 0 \n",
      "aya\n",
      "9 2 11 4 \n",
      "12 5 8 1 \n",
      "7 10 3 14 \n",
      "0 13 6 0 \n",
      "aya\n",
      "0 2 11 4 \n",
      "14 5 8 1 \n",
      "7 10 3 12 \n",
      "0 13 6 9 \n",
      "aya\n",
      "0 2 11 4 \n",
      "12 5 8 1 \n",
      "7 10 3 14 \n",
      "0 13 6 9 \n",
      "aya\n",
      "0 2 11 4 \n",
      "12 5 8 1 \n",
      "7 10 3 14 \n",
      "0 13 6 9 \n",
      "aya\n",
      "9 2 11 0 \n",
      "14 5 8 1 \n",
      "7 10 3 12 \n",
      "4 13 6 0 \n",
      "aya\n",
      "9 2 11 0 \n",
      "12 5 8 1 \n",
      "7 10 3 14 \n",
      "4 13 6 0 \n",
      "aya\n",
      "9 2 11 0 \n",
      "12 5 8 1 \n",
      "7 10 3 14 \n",
      "4 13 6 0 \n",
      "aya\n",
      "0 2 11 0 \n",
      "14 5 8 1 \n",
      "7 10 3 12 \n",
      "4 13 6 9 \n",
      "aya\n",
      "0 2 11 0 \n",
      "12 5 8 1 \n",
      "7 10 3 14 \n",
      "4 13 6 9 \n",
      "aya\n",
      "0 2 11 0 \n",
      "12 5 8 1 \n",
      "7 10 3 14 \n",
      "4 13 6 9 \n",
      "aya\n",
      "9 2 11 0 \n",
      "14 5 8 1 \n",
      "7 10 3 12 \n",
      "4 13 6 0 \n",
      "aya\n",
      "9 2 11 0 \n",
      "12 5 8 1 \n",
      "7 10 3 14 \n",
      "4 13 6 0 \n",
      "aya\n",
      "9 2 11 0 \n",
      "12 5 8 1 \n",
      "7 10 3 14 \n",
      "4 13 6 0 \n",
      "aya\n",
      "0 2 11 0 \n",
      "14 5 8 1 \n",
      "7 10 3 12 \n",
      "4 13 6 9 \n",
      "aya\n",
      "0 2 11 0 \n",
      "12 5 8 1 \n",
      "7 10 3 14 \n",
      "4 13 6 9 \n",
      "aya\n",
      "0 2 11 0 \n",
      "12 5 8 1 \n",
      "7 10 3 14 \n",
      "4 13 6 9 \n",
      "aya\n",
      "9 6 11 4 \n",
      "14 3 8 1 \n",
      "7 10 5 12 \n",
      "0 13 2 0 \n",
      "aya\n",
      "9 6 11 4 \n",
      "12 3 8 1 \n",
      "7 10 5 14 \n",
      "0 13 2 0 \n",
      "aya\n",
      "9 6 11 4 \n",
      "12 3 8 1 \n",
      "7 10 5 14 \n",
      "0 13 2 0 \n",
      "aya\n",
      "0 6 11 4 \n",
      "14 3 8 1 \n",
      "7 10 5 12 \n",
      "0 13 2 9 \n",
      "aya\n",
      "0 6 11 4 \n",
      "12 3 8 1 \n",
      "7 10 5 14 \n",
      "0 13 2 9 \n",
      "aya\n",
      "0 6 11 4 \n",
      "12 3 8 1 \n",
      "7 10 5 14 \n",
      "0 13 2 9 \n",
      "aya\n",
      "9 6 11 4 \n",
      "14 3 8 1 \n",
      "7 10 5 12 \n",
      "0 13 2 0 \n",
      "aya\n",
      "9 6 11 4 \n",
      "12 3 8 1 \n",
      "7 10 5 14 \n",
      "0 13 2 0 \n",
      "aya\n",
      "9 6 11 4 \n",
      "12 3 8 1 \n",
      "7 10 5 14 \n",
      "0 13 2 0 \n",
      "aya\n",
      "0 6 11 4 \n",
      "14 3 8 1 \n",
      "7 10 5 12 \n",
      "0 13 2 9 \n",
      "aya\n",
      "0 6 11 4 \n",
      "12 3 8 1 \n",
      "7 10 5 14 \n",
      "0 13 2 9 \n",
      "aya\n",
      "0 6 11 4 \n",
      "12 3 8 1 \n",
      "7 10 5 14 \n",
      "0 13 2 9 \n",
      "aya\n",
      "9 6 11 0 \n",
      "14 3 8 1 \n",
      "7 10 5 12 \n",
      "4 13 2 0 \n",
      "aya\n",
      "9 6 11 0 \n",
      "12 3 8 1 \n",
      "7 10 5 14 \n",
      "4 13 2 0 \n",
      "aya\n",
      "9 6 11 0 \n",
      "12 3 8 1 \n",
      "7 10 5 14 \n",
      "4 13 2 0 \n",
      "aya\n",
      "0 6 11 0 \n",
      "14 3 8 1 \n",
      "7 10 5 12 \n",
      "4 13 2 9 \n",
      "aya\n",
      "0 6 11 0 \n",
      "12 3 8 1 \n",
      "7 10 5 14 \n",
      "4 13 2 9 \n",
      "aya\n",
      "0 6 11 0 \n",
      "12 3 8 1 \n",
      "7 10 5 14 \n",
      "4 13 2 9 \n",
      "aya\n",
      "9 6 11 0 \n",
      "14 3 8 1 \n",
      "7 10 5 12 \n",
      "4 13 2 0 \n",
      "aya\n",
      "9 6 11 0 \n",
      "12 3 8 1 \n",
      "7 10 5 14 \n",
      "4 13 2 0 \n",
      "aya\n",
      "9 6 11 0 \n",
      "12 3 8 1 \n",
      "7 10 5 14 \n",
      "4 13 2 0 \n",
      "aya\n",
      "0 6 11 0 \n",
      "14 3 8 1 \n",
      "7 10 5 12 \n",
      "4 13 2 9 \n",
      "aya\n",
      "0 6 11 0 \n",
      "12 3 8 1 \n",
      "7 10 5 14 \n",
      "4 13 2 9 \n",
      "aya\n",
      "0 6 11 0 \n",
      "12 3 8 1 \n",
      "7 10 5 14 \n",
      "4 13 2 9 \n",
      "aya\n",
      "9 6 11 0 \n",
      "14 3 8 1 \n",
      "7 10 5 12 \n",
      "4 13 2 0 \n",
      "aya\n",
      "9 6 11 0 \n",
      "12 3 8 1 \n",
      "7 10 5 14 \n",
      "4 13 2 0 \n",
      "aya\n",
      "9 6 11 0 \n",
      "12 3 8 1 \n",
      "7 10 5 14 \n",
      "4 13 2 0 \n",
      "aya\n",
      "0 6 11 0 \n",
      "14 3 8 1 \n",
      "7 10 5 12 \n",
      "4 13 2 9 \n",
      "aya\n",
      "0 6 11 0 \n",
      "12 3 8 1 \n",
      "7 10 5 14 \n",
      "4 13 2 9 \n",
      "aya\n",
      "0 6 11 0 \n",
      "12 3 8 1 \n",
      "7 10 5 14 \n",
      "4 13 2 9 \n",
      "aya\n",
      "9 6 11 0 \n",
      "14 3 8 1 \n",
      "7 10 5 12 \n",
      "4 13 2 0 \n",
      "aya\n",
      "9 6 11 0 \n",
      "12 3 8 1 \n",
      "7 10 5 14 \n",
      "4 13 2 0 \n",
      "aya\n",
      "9 6 11 0 \n",
      "12 3 8 1 \n",
      "7 10 5 14 \n",
      "4 13 2 0 \n",
      "aya\n",
      "0 6 11 0 \n",
      "14 3 8 1 \n",
      "7 10 5 12 \n",
      "4 13 2 9 \n",
      "aya\n",
      "0 6 11 0 \n",
      "12 3 8 1 \n",
      "7 10 5 14 \n",
      "4 13 2 9 \n",
      "aya\n",
      "0 6 11 0 \n",
      "12 3 8 1 \n",
      "7 10 5 14 \n",
      "4 13 2 9 \n",
      "aya\n",
      "9 6 11 4 \n",
      "14 3 8 1 \n",
      "7 10 5 12 \n",
      "0 13 2 0 \n",
      "aya\n",
      "9 6 11 4 \n",
      "12 3 8 1 \n",
      "7 10 5 14 \n",
      "0 13 2 0 \n",
      "aya\n",
      "9 6 11 4 \n",
      "12 3 8 1 \n",
      "7 10 5 14 \n",
      "0 13 2 0 \n",
      "aya\n",
      "0 6 11 4 \n",
      "14 3 8 1 \n",
      "7 10 5 12 \n",
      "0 13 2 9 \n",
      "aya\n",
      "0 6 11 4 \n",
      "12 3 8 1 \n",
      "7 10 5 14 \n",
      "0 13 2 9 \n",
      "aya\n",
      "0 6 11 4 \n",
      "12 3 8 1 \n",
      "7 10 5 14 \n",
      "0 13 2 9 \n",
      "aya\n",
      "9 6 11 4 \n",
      "14 3 8 1 \n",
      "7 10 5 12 \n",
      "0 13 2 0 \n",
      "aya\n",
      "9 6 11 4 \n",
      "12 3 8 1 \n",
      "7 10 5 14 \n",
      "0 13 2 0 \n",
      "aya\n",
      "9 6 11 4 \n",
      "12 3 8 1 \n",
      "7 10 5 14 \n",
      "0 13 2 0 \n",
      "aya\n",
      "0 6 11 4 \n",
      "14 3 8 1 \n",
      "7 10 5 12 \n",
      "0 13 2 9 \n",
      "aya\n",
      "0 6 11 4 \n",
      "12 3 8 1 \n",
      "7 10 5 14 \n",
      "0 13 2 9 \n",
      "aya\n",
      "0 6 11 4 \n",
      "12 3 8 1 \n",
      "7 10 5 14 \n",
      "0 13 2 9 \n",
      "aya\n",
      "9 4 11 14 \n",
      "6 13 8 1 \n",
      "3 10 5 12 \n",
      "0 7 2 0 \n",
      "aya\n",
      "9 4 11 0 \n",
      "6 13 8 1 \n",
      "3 10 5 12 \n",
      "14 7 2 0 \n",
      "aya\n",
      "9 4 11 14 \n",
      "6 13 8 1 \n",
      "3 10 5 12 \n",
      "0 7 2 0 \n",
      "aya\n",
      "0 4 11 14 \n",
      "6 13 8 1 \n",
      "3 10 5 12 \n",
      "0 7 2 9 \n",
      "aya\n",
      "0 4 11 0 \n",
      "6 13 8 1 \n",
      "3 10 5 12 \n",
      "14 7 2 9 \n",
      "aya\n",
      "0 4 11 14 \n",
      "6 13 8 1 \n",
      "3 10 5 12 \n",
      "0 7 2 9 \n",
      "aya\n",
      "5 14 7 12 \n",
      "8 11 4 1 \n",
      "3 6 13 10 \n",
      "0 9 2 0 \n",
      "aya\n",
      "5 0 7 12 \n",
      "8 11 4 1 \n",
      "3 6 13 10 \n",
      "14 9 2 0 \n",
      "aya\n",
      "5 0 7 14 \n",
      "8 11 4 1 \n",
      "3 6 13 10 \n",
      "12 9 2 0 \n",
      "aya\n",
      "5 14 7 0 \n",
      "8 11 4 1 \n",
      "3 6 13 10 \n",
      "12 9 2 0 \n",
      "aya\n",
      "5 0 7 14 \n",
      "8 11 4 1 \n",
      "3 6 13 10 \n",
      "12 9 2 0 \n",
      "aya\n",
      "5 14 7 0 \n",
      "8 11 4 1 \n",
      "3 6 13 10 \n",
      "12 9 2 0 \n",
      "aya\n",
      "5 14 7 12 \n",
      "8 11 4 1 \n",
      "3 6 13 10 \n",
      "0 9 2 0 \n",
      "aya\n",
      "5 0 7 12 \n",
      "8 11 4 1 \n",
      "3 6 13 10 \n",
      "14 9 2 0 \n",
      "aya\n",
      "5 14 7 12 \n",
      "8 11 4 1 \n",
      "3 6 13 10 \n",
      "0 9 2 0 \n",
      "aya\n",
      "5 0 7 12 \n",
      "8 11 4 1 \n",
      "3 6 13 10 \n",
      "14 9 2 0 \n",
      "aya\n",
      "5 0 7 14 \n",
      "8 11 4 1 \n",
      "3 6 13 10 \n",
      "12 9 2 0 \n",
      "aya\n",
      "5 14 7 0 \n",
      "8 11 4 1 \n",
      "3 6 13 10 \n",
      "12 9 2 0 \n",
      "aya\n",
      "5 0 7 14 \n",
      "8 11 4 1 \n",
      "3 6 13 10 \n",
      "12 9 2 0 \n",
      "aya\n",
      "5 14 7 0 \n",
      "8 11 4 1 \n",
      "3 6 13 10 \n",
      "12 9 2 0 \n",
      "aya\n",
      "5 14 7 12 \n",
      "8 11 4 1 \n",
      "3 6 13 10 \n",
      "0 9 2 0 \n",
      "aya\n",
      "5 0 7 12 \n",
      "8 11 4 1 \n",
      "3 6 13 10 \n",
      "14 9 2 0 \n",
      "aya\n",
      "0 14 7 12 \n",
      "8 11 4 1 \n",
      "3 6 13 10 \n",
      "0 9 2 5 \n",
      "aya\n",
      "0 0 7 12 \n",
      "8 11 4 1 \n",
      "3 6 13 10 \n",
      "14 9 2 5 \n",
      "aya\n",
      "0 0 7 14 \n",
      "8 11 4 1 \n",
      "3 6 13 10 \n",
      "12 9 2 5 \n",
      "aya\n",
      "0 14 7 0 \n",
      "8 11 4 1 \n",
      "3 6 13 10 \n",
      "12 9 2 5 \n",
      "aya\n",
      "0 0 7 14 \n",
      "8 11 4 1 \n",
      "3 6 13 10 \n",
      "12 9 2 5 \n",
      "aya\n",
      "0 14 7 0 \n",
      "8 11 4 1 \n",
      "3 6 13 10 \n",
      "12 9 2 5 \n",
      "aya\n",
      "0 14 7 12 \n",
      "8 11 4 1 \n",
      "3 6 13 10 \n",
      "0 9 2 5 \n",
      "aya\n",
      "0 0 7 12 \n",
      "8 11 4 1 \n",
      "3 6 13 10 \n",
      "14 9 2 5 \n",
      "aya\n",
      "0 14 7 12 \n",
      "8 11 4 1 \n",
      "3 6 13 10 \n",
      "0 9 2 5 \n",
      "aya\n",
      "0 0 7 12 \n",
      "8 11 4 1 \n",
      "3 6 13 10 \n",
      "14 9 2 5 \n",
      "aya\n",
      "0 0 7 14 \n",
      "8 11 4 1 \n",
      "3 6 13 10 \n",
      "12 9 2 5 \n",
      "aya\n",
      "0 14 7 0 \n",
      "8 11 4 1 \n",
      "3 6 13 10 \n",
      "12 9 2 5 \n",
      "aya\n",
      "0 0 7 14 \n",
      "8 11 4 1 \n",
      "3 6 13 10 \n",
      "12 9 2 5 \n",
      "aya\n",
      "0 14 7 0 \n",
      "8 11 4 1 \n",
      "3 6 13 10 \n",
      "12 9 2 5 \n",
      "aya\n",
      "0 14 7 12 \n",
      "8 11 4 1 \n",
      "3 6 13 10 \n",
      "0 9 2 5 \n",
      "aya\n",
      "0 0 7 12 \n",
      "8 11 4 1 \n",
      "3 6 13 10 \n",
      "14 9 2 5 \n",
      "aya\n",
      "5 14 7 12 \n",
      "8 11 4 1 \n",
      "3 6 13 10 \n",
      "0 9 2 0 \n",
      "aya\n",
      "5 0 7 12 \n",
      "8 11 4 1 \n",
      "3 6 13 10 \n",
      "14 9 2 0 \n",
      "aya\n",
      "5 0 7 14 \n",
      "8 11 4 1 \n",
      "3 6 13 10 \n",
      "12 9 2 0 \n",
      "aya\n",
      "5 14 7 0 \n",
      "8 11 4 1 \n",
      "3 6 13 10 \n",
      "12 9 2 0 \n",
      "aya\n",
      "5 0 7 14 \n",
      "8 11 4 1 \n",
      "3 6 13 10 \n",
      "12 9 2 0 \n",
      "aya\n",
      "5 14 7 0 \n",
      "8 11 4 1 \n",
      "3 6 13 10 \n",
      "12 9 2 0 \n",
      "aya\n",
      "5 14 7 12 \n",
      "8 11 4 1 \n",
      "3 6 13 10 \n",
      "0 9 2 0 \n",
      "aya\n",
      "5 0 7 12 \n",
      "8 11 4 1 \n",
      "3 6 13 10 \n",
      "14 9 2 0 \n",
      "aya\n",
      "5 14 7 12 \n",
      "8 11 4 1 \n",
      "3 6 13 10 \n",
      "0 9 2 0 \n",
      "aya\n",
      "5 0 7 12 \n",
      "8 11 4 1 \n",
      "3 6 13 10 \n",
      "14 9 2 0 \n",
      "aya\n",
      "5 0 7 14 \n",
      "8 11 4 1 \n",
      "3 6 13 10 \n",
      "12 9 2 0 \n",
      "aya\n",
      "5 14 7 0 \n",
      "8 11 4 1 \n",
      "3 6 13 10 \n",
      "12 9 2 0 \n",
      "aya\n",
      "5 0 7 14 \n",
      "8 11 4 1 \n",
      "3 6 13 10 \n",
      "12 9 2 0 \n",
      "aya\n",
      "5 14 7 0 \n",
      "8 11 4 1 \n",
      "3 6 13 10 \n",
      "12 9 2 0 \n",
      "aya\n",
      "5 14 7 12 \n",
      "8 11 4 1 \n",
      "3 6 13 10 \n",
      "0 9 2 0 \n",
      "aya\n",
      "5 0 7 12 \n",
      "8 11 4 1 \n",
      "3 6 13 10 \n",
      "14 9 2 0 \n",
      "aya\n",
      "0 14 7 12 \n",
      "8 11 4 1 \n",
      "3 6 13 10 \n",
      "0 9 2 5 \n",
      "aya\n",
      "0 0 7 12 \n",
      "8 11 4 1 \n",
      "3 6 13 10 \n",
      "14 9 2 5 \n",
      "aya\n",
      "0 0 7 14 \n",
      "8 11 4 1 \n",
      "3 6 13 10 \n",
      "12 9 2 5 \n",
      "aya\n",
      "0 14 7 0 \n",
      "8 11 4 1 \n",
      "3 6 13 10 \n",
      "12 9 2 5 \n",
      "aya\n",
      "0 0 7 14 \n",
      "8 11 4 1 \n",
      "3 6 13 10 \n",
      "12 9 2 5 \n",
      "aya\n",
      "0 14 7 0 \n",
      "8 11 4 1 \n",
      "3 6 13 10 \n",
      "12 9 2 5 \n",
      "aya\n",
      "0 14 7 12 \n",
      "8 11 4 1 \n",
      "3 6 13 10 \n",
      "0 9 2 5 \n",
      "aya\n",
      "0 0 7 12 \n",
      "8 11 4 1 \n",
      "3 6 13 10 \n",
      "14 9 2 5 \n",
      "aya\n",
      "0 14 7 12 \n",
      "8 11 4 1 \n",
      "3 6 13 10 \n",
      "0 9 2 5 \n",
      "aya\n",
      "0 0 7 12 \n",
      "8 11 4 1 \n",
      "3 6 13 10 \n",
      "14 9 2 5 \n",
      "aya\n",
      "0 0 7 14 \n",
      "8 11 4 1 \n",
      "3 6 13 10 \n",
      "12 9 2 5 \n",
      "aya\n",
      "0 14 7 0 \n",
      "8 11 4 1 \n",
      "3 6 13 10 \n",
      "12 9 2 5 \n",
      "aya\n",
      "0 0 7 14 \n",
      "8 11 4 1 \n",
      "3 6 13 10 \n",
      "12 9 2 5 \n",
      "aya\n",
      "0 14 7 0 \n",
      "8 11 4 1 \n",
      "3 6 13 10 \n",
      "12 9 2 5 \n",
      "aya\n",
      "0 14 7 12 \n",
      "8 11 4 1 \n",
      "3 6 13 10 \n",
      "0 9 2 5 \n",
      "aya\n",
      "0 0 7 12 \n",
      "8 11 4 1 \n",
      "3 6 13 10 \n",
      "14 9 2 5 \n"
     ]
    }
   ],
   "source": [
    "#knight tour\n",
    "def knighttour(board,row,col,move):\n",
    "    if row<0 or col<0 or row>=len(board) or col>=len(board[0]) or board[row][col]!=0:\n",
    "        return\n",
    "    \n",
    "    elif move==14:\n",
    "        print('aya')\n",
    "        board[row][col]=move\n",
    "        displayboard(board)\n",
    "        board[row][col]=0\n",
    "    else:\n",
    "        board[row][col]=move\n",
    "        knighttour(board,row-2,col+1,move+1)\n",
    "        knighttour(board,row-2,col-1,move+1)\n",
    "        knighttour(board,row-1,col-2,move+1)\n",
    "        knighttour(board,row-1,col+2,move+1)\n",
    "        knighttour(board,row+2,col-1,move+1)\n",
    "        knighttour(board,row+2,col+1,move+1)\n",
    "        knighttour(board,row-1,col+2,move+1)\n",
    "        knighttour(board,row+1,col-2,move+1)\n",
    "        board[row][col]=0\n",
    "board=[[0 for x in range(4)] for x in range(4)]\n",
    "knighttour(board,1,3,1)"
   ]
  },
  {
   "cell_type": "markdown",
   "metadata": {},
   "source": [
    "# Target Sum subset "
   ]
  },
  {
   "cell_type": "code",
   "execution_count": 20,
   "metadata": {},
   "outputs": [
    {
     "name": "stdout",
     "output_type": "stream",
     "text": [
      "True\n",
      "[[True, False, False, False, False, False, False, False, False, False], [True, False, False, True, False, False, False, False, False, False], [True, False, False, True, False, False, False, False, False, True], [True, False, False, True, False, False, True, False, False, True]]\n"
     ]
    }
   ],
   "source": [
    "def targetsumsubset(arr,k):\n",
    "    dp=[[False for x in range(k+1)] for x in range(len(arr)+1)]\n",
    "    dp[0][0]=True\n",
    "    for i in range(1,len(dp)):\n",
    "        for j in range(0,len(dp[0])):\n",
    "            if j==0:\n",
    "                dp[i][j]=True\n",
    "            else:\n",
    "                if dp[i-1][j]==True:\n",
    "                    dp[i][j]=True\n",
    "                else:\n",
    "                    val=arr[i-1]\n",
    "                    if j>=val:\n",
    "                        dp[i][j]=dp[i-1][j-val]\n",
    "    print(dp[-1][-1])\n",
    "    print(dp)\n",
    "targetsumsubset([3,9,6],9)"
   ]
  },
  {
   "cell_type": "code",
   "execution_count": 9,
   "metadata": {},
   "outputs": [
    {
     "name": "stdout",
     "output_type": "stream",
     "text": [
      "5\n"
     ]
    }
   ],
   "source": [
    "#count of subsets\n",
    "def totalsubsets(arr,k):\n",
    "    dp=[[0 for x in range(k+1)] for x in range(len(arr)+1)]\n",
    "    dp[0][0]=1\n",
    "    for i in range(1,len(dp)):\n",
    "        for j in range(0,len(dp)):\n",
    "            if j==0:\n",
    "                dp[i][j]=1\n",
    "            else:\n",
    "                val=arr[i-1]\n",
    "                if j>=val:\n",
    "                    dp[i][j]=dp[i-1][j]+dp[i-1][j-val]\n",
    "                else:\n",
    "                    dp[i][j]=dp[i-1][j]\n",
    "    print(dp[-1][-1])\n",
    "totalsubsets([1,2,3,4,5,6,7],7)"
   ]
  },
  {
   "cell_type": "code",
   "execution_count": 28,
   "metadata": {},
   "outputs": [
    {
     "data": {
      "text/plain": [
       "False"
      ]
     },
     "execution_count": 28,
     "metadata": {},
     "output_type": "execute_result"
    }
   ],
   "source": [
    "#equal partition of sum of given arr\n",
    "def equalpartition(arr):\n",
    "    target=sum(arr)\n",
    "    if target%2!=0:\n",
    "        print(target)\n",
    "        return False\n",
    "    else:\n",
    "        target=target//2\n",
    "        dp=[[False for x in range(target+1)] for x in range(len(arr)+1)]\n",
    "        dp[0][0]=True\n",
    "        for i in range(1,len(dp)):\n",
    "            for j in range(0,len(dp[0])):\n",
    "                if j==0:\n",
    "                    dp[i][j]=True\n",
    "                else:\n",
    "                    if dp[i-1][j]==True:\n",
    "                        dp[i][j]=True\n",
    "                    else:\n",
    "                        val=arr[i-1]\n",
    "                        if j>=val:\n",
    "                            dp[i][j]=dp[i-1][j-val]        \n",
    "        \n",
    "        return dp[-1][-1]\n",
    "equalpartition([6,12])"
   ]
  },
  {
   "cell_type": "code",
   "execution_count": 31,
   "metadata": {},
   "outputs": [
    {
     "name": "stdout",
     "output_type": "stream",
     "text": [
      "2\n"
     ]
    }
   ],
   "source": [
    "#divide arr with minimum difference in partition sum\n",
    "def mindiff(arr):\n",
    "    target=sum(arr)\n",
    "    half=target//2\n",
    "    dp=[[False for x in range(half+1)]for x in range(len(arr)+1)]\n",
    "    dp[0][0]=True\n",
    "    for i in range(1,len(dp)):\n",
    "        for j in range(0,len(dp[0])):\n",
    "            if j==0:\n",
    "                dp[i][j]=True\n",
    "            else:\n",
    "                if dp[i-1][j]==True:\n",
    "                    dp[i][j]=True\n",
    "                else:\n",
    "                    val=arr[i-1]\n",
    "                    if j>=val:\n",
    "                        dp[i][j]=dp[i-1][j-val]\n",
    "    firstpart=None\n",
    "    for i in range(half,-1,-1):\n",
    "        if dp[-1][i]==True:\n",
    "            firstpart=i\n",
    "            break\n",
    "    #print(firstpart)\n",
    "    otherpart=target-firstpart\n",
    "    diff=abs(firstpart-otherpart)\n",
    "    print(diff)\n",
    "        \n",
    "mindiff([3,4,9])"
   ]
  },
  {
   "cell_type": "code",
   "execution_count": 84,
   "metadata": {},
   "outputs": [
    {
     "name": "stdout",
     "output_type": "stream",
     "text": [
      "[0, 5, 10, 15]\n"
     ]
    }
   ],
   "source": [
    "#unbounded knapsack\n",
    "def unbounded(weight,value,capacity):\n",
    "    dp=[0]*(capacity+1)\n",
    "    for i in range(0,len(dp)):\n",
    "        _max=0\n",
    "        for j in range(0,len(weight)):\n",
    "            wt=weight[j]\n",
    "            if wt<=i:\n",
    "                val=dp[i-wt]+value[j]\n",
    "                _max=max(_max,val)\n",
    "        dp[i]=_max\n",
    "    print(dp)\n",
    "unbounded([1,2,3],[5,7,10],3)"
   ]
  },
  {
   "cell_type": "code",
   "execution_count": 83,
   "metadata": {},
   "outputs": [
    {
     "name": "stdout",
     "output_type": "stream",
     "text": [
      "[0, 10, 20, 45, 55, 65, 90, 100]\n"
     ]
    }
   ],
   "source": [
    "unbounded([2,5,1,3,4],[15,14,10,45,30],7)"
   ]
  },
  {
   "cell_type": "code",
   "execution_count": 43,
   "metadata": {},
   "outputs": [
    {
     "data": {
      "text/plain": [
       "[[0, 0, 0, 10], [0, 5, 5, 10], [0, 5, 7, 12], [0, 5, 7, 12]]"
      ]
     },
     "execution_count": 43,
     "metadata": {},
     "output_type": "execute_result"
    }
   ],
   "source": [
    "#knapsack\n",
    "def knapsack(weight,value,capacity):\n",
    "    dp=[[0 for x in range(capacity+1)] for x in range(len(weight)+1)]\n",
    "    \n",
    "    for i in range(0,len(dp)):\n",
    "        for j in range(0,len(dp[0])):\n",
    "            wt=weight[i-1]\n",
    "            if j>=wt:\n",
    "                dp[i][j]=max(dp[i-1][j],dp[i-1][j-wt]+value[i-1])\n",
    "            else:\n",
    "                dp[i][j]=dp[i-1][j]\n",
    "    return dp\n",
    "    print(dp[-1][-1])\n",
    "    print(dp)\n",
    "knapsack([1,2,3],[5,7,10],3)  "
   ]
  },
  {
   "cell_type": "code",
   "execution_count": 97,
   "metadata": {},
   "outputs": [
    {
     "name": "stdout",
     "output_type": "stream",
     "text": [
      "16\n",
      "[[0, 3, 6, 9, 12, 15], [0, 3, 6, 9, 12, 15], [0, 3, 6, 10, 13, 16], [0, 3, 6, 10, 13, 16], [0, 3, 6, 10, 13, 16]]\n"
     ]
    }
   ],
   "source": [
    "#rod cutting problem\n",
    "def rodcut(pieces,profit,length):\n",
    "    dp=[[0 for x in range(length+1)] for x in range(len(pieces))]\n",
    "    \n",
    "    for i in range(0,len(dp)):\n",
    "        for j in range(0,len(dp[0])):\n",
    "            pc=pieces[i]\n",
    "            if j>=pc:\n",
    "                dp[i][j]=max(dp[i-1][j],dp[i][j-pc]+profit[i])\n",
    "            else:\n",
    "                dp[i][j]=dp[i-1][j]\n",
    "    print(dp[-1][-1])\n",
    "    print(dp)\n",
    "rodcut([1,2,3,4,5],[3,5,10,11,15],5)"
   ]
  },
  {
   "cell_type": "code",
   "execution_count": 98,
   "metadata": {},
   "outputs": [
    {
     "name": "stdout",
     "output_type": "stream",
     "text": [
      "[0, 3, 6, 10, 13, 16]\n"
     ]
    }
   ],
   "source": [
    "def exprodcut(pieces,profit,length):\n",
    "    dp=[0 for x in range(length+1)]\n",
    "    \n",
    "    for i in range(1,len(dp)):\n",
    "        _max=0\n",
    "        for j in range(0,len(pieces)):\n",
    "            if i>=pieces[j]:\n",
    "                val=profit[j]+dp[i-pieces[j]]\n",
    "                _max=max(_max,val)\n",
    "        dp[i]=_max\n",
    "    print(dp)\n",
    "exprodcut([1,2,3,4,5],[3,5,10,11,15],5)"
   ]
  },
  {
   "cell_type": "code",
   "execution_count": 106,
   "metadata": {},
   "outputs": [
    {
     "name": "stdout",
     "output_type": "stream",
     "text": [
      "10\n",
      "[[1, 0, 0, 0, 0, 0], [0, 1, 1, 1, 1, 1], [0, 0, 1, 3, 7, 15], [0, 0, 0, 1, 6, 25], [0, 0, 0, 0, 1, 10]]\n"
     ]
    }
   ],
   "source": [
    "def partition(people,team):\n",
    "    dp=[[0 for x in range(people+1)]for x in range(team+1)]\n",
    "    for k in range(0,len(dp)):\n",
    "        for n in range(0,len(dp[0])):\n",
    "            if n<k:\n",
    "                dp[k][n]=0\n",
    "            elif  n==k:\n",
    "                dp[k][n]=1\n",
    "            elif k==1:\n",
    "                dp[k][n]=1\n",
    "            else:\n",
    "                dp[k][n]=dp[k-1][n-1]+dp[k][n-1]*k\n",
    "    print(dp[-1][-1])\n",
    "    print(dp)\n",
    "partition(5,4)    "
   ]
  },
  {
   "cell_type": "code",
   "execution_count": 110,
   "metadata": {},
   "outputs": [
    {
     "name": "stdout",
     "output_type": "stream",
     "text": [
      "223\n",
      "232\n",
      "25\n",
      "322\n",
      "52\n"
     ]
    }
   ],
   "source": [
    "#backtracking\n",
    "def coinpermutation(target,coins,asf):\n",
    "    if target<0:\n",
    "        return\n",
    "    if target==0:\n",
    "        print(asf)\n",
    "        return\n",
    "    for ch in coins:\n",
    "        target-=ch\n",
    "        coinpermutation(target,coins,asf+str(ch))\n",
    "        target+=ch\n",
    "coinpermutation(7,[2,3,5],'')"
   ]
  },
  {
   "cell_type": "code",
   "execution_count": 115,
   "metadata": {},
   "outputs": [
    {
     "name": "stdout",
     "output_type": "stream",
     "text": [
      "[1, 0, 1, 1, 1, 3, 2, 5]\n",
      "5\n"
     ]
    }
   ],
   "source": [
    "def dpcoinpermu(target,coins):\n",
    "    dp=[0]*(target+1)\n",
    "    dp[0]=1\n",
    "    for amt in range(1,len(dp)):\n",
    "        for c in coins:\n",
    "            if c<=amt:\n",
    "                dp[amt]+=dp[amt-c]\n",
    "    print(dp)\n",
    "    print(dp[-1])\n",
    "dpcoinpermu(7,[2,3,5])"
   ]
  },
  {
   "cell_type": "code",
   "execution_count": 117,
   "metadata": {},
   "outputs": [
    {
     "name": "stdout",
     "output_type": "stream",
     "text": [
      "2-2-3-\n",
      "2-5-\n"
     ]
    }
   ],
   "source": [
    "def coincombination(idx,coins,amt,target,asf):\n",
    "    if idx==len(coins):\n",
    "        if amt==target:\n",
    "            print(asf)\n",
    "        return\n",
    "    \n",
    "    for j in range(target//coins[idx],0,-1):\n",
    "        part=''\n",
    "        for k in range(0,j):\n",
    "            part+=str(coins[idx])+'-'\n",
    "        coincombination(idx+1,coins,amt+coins[idx]*j,target,asf+part)\n",
    "    coincombination(idx+1,coins,amt,target,asf)\n",
    "coincombination(0,[2,3,5],0,7,'')"
   ]
  },
  {
   "cell_type": "code",
   "execution_count": 120,
   "metadata": {},
   "outputs": [
    {
     "name": "stdout",
     "output_type": "stream",
     "text": [
      "[1, 1, 2, 3, 5, 7, 10, 13]\n",
      "13\n"
     ]
    }
   ],
   "source": [
    "def dpcomb(coins,target):\n",
    "    dp=[0]*(target+1)\n",
    "    dp[0]=1\n",
    "    for c in coins:\n",
    "        for amt in range(len(dp)):\n",
    "            if c<=amt:\n",
    "                dp[amt]+=dp[amt-c]\n",
    "    print(dp)\n",
    "    print(dp[-1])\n",
    "dpcomb([1,2,3,4,5],7)"
   ]
  },
  {
   "cell_type": "code",
   "execution_count": 122,
   "metadata": {},
   "outputs": [
    {
     "name": "stdout",
     "output_type": "stream",
     "text": [
      "[0, 1, 1, 1, 1, 1, 2, 2]\n",
      "2\n"
     ]
    }
   ],
   "source": [
    "def mincoins(coins,target):\n",
    "    dp=[99999]*(target+1)\n",
    "    dp[0]=0\n",
    "    for c in coins:\n",
    "        for amt in range(len(dp)):\n",
    "            if c<=amt:\n",
    "                dp[amt]=min(dp[amt],dp[amt-c]+1)\n",
    "    print(dp)\n",
    "    print(dp[-1])\n",
    "mincoins([1,2,3,4,5],7)"
   ]
  },
  {
   "cell_type": "markdown",
   "metadata": {},
   "source": [
    "# Friends pairing "
   ]
  },
  {
   "cell_type": "code",
   "execution_count": 1,
   "metadata": {},
   "outputs": [
    {
     "ename": "IndentationError",
     "evalue": "expected an indented block (<ipython-input-1-9d3b63ca34cd>, line 4)",
     "output_type": "error",
     "traceback": [
      "\u001b[0;36m  File \u001b[0;32m\"<ipython-input-1-9d3b63ca34cd>\"\u001b[0;36m, line \u001b[0;32m4\u001b[0m\n\u001b[0;31m    return friendpairing(n-1)+friendpairing(n-2)*(n-1)\u001b[0m\n\u001b[0m         ^\u001b[0m\n\u001b[0;31mIndentationError\u001b[0m\u001b[0;31m:\u001b[0m expected an indented block\n"
     ]
    }
   ],
   "source": [
    "def friendpairing(n):\n",
    "    if n==0:\n",
    "    \n",
    "    return friendpairing(n-1)+friendpairing(n-2)*(n-1)"
   ]
  },
  {
   "cell_type": "code",
   "execution_count": 2,
   "metadata": {},
   "outputs": [],
   "source": [
    "arr=[[5,7,9,9],[2,12,5,7],[7,9,11,2]]"
   ]
  },
  {
   "cell_type": "code",
   "execution_count": 37,
   "metadata": {},
   "outputs": [
    {
     "data": {
      "text/plain": [
       "[[33, 30, 23, 18], [28, 26, 14, 9], [29, 22, 13, 2]]"
      ]
     },
     "execution_count": 37,
     "metadata": {},
     "output_type": "execute_result"
    }
   ],
   "source": [
    "def mazetraversal(arr):\n",
    "    dp=[[0 for x in range(len(arr[0]))] for x in range(len(arr))]\n",
    "    for i in range(len(dp)-1,-1,-1):\n",
    "        for j in range(len(dp[0])-1,-1,-1):\n",
    "            if i==len(dp)-1 and j==len(dp[0])-1:\n",
    "                dp[i][j]=arr[i][j]\n",
    "            elif i==len(dp)-1:\n",
    "                dp[i][j]=dp[i][j+1]+arr[i][j]\n",
    "            elif j==len(dp[0])-1:\n",
    "                dp[i][j]=dp[i+1][j]+arr[i][j]\n",
    "            else:\n",
    "                dp[i][j]=min(dp[i+1][j],dp[i][j+1])+arr[i][j]\n",
    "    return dp\n",
    "    print(dp[0][0])\n",
    "    print(dp)\n",
    "mazetraversal(arr)"
   ]
  },
  {
   "cell_type": "code",
   "execution_count": 30,
   "metadata": {},
   "outputs": [
    {
     "data": {
      "text/plain": [
       "[[30, 25, 18, 9], [32, 30, 14, 7], [37, 27, 18, 2]]"
      ]
     },
     "execution_count": 30,
     "metadata": {},
     "output_type": "execute_result"
    }
   ],
   "source": [
    "def goldmine(arr):\n",
    "    dp=[[0 for x in range(len(arr[0]))] for x in range(len(arr))]\n",
    "    for i in range(0,len(dp)):\n",
    "        for j in range(len(dp[0])-1,-1,-1):\n",
    "            if j==len(dp[0])-1:\n",
    "                dp[i][j]=arr[i][j]\n",
    "            elif i==len(dp)-1:\n",
    "                dp[i][j]=max(dp[i-1][j+1],dp[i][j+1])+arr[i][j]\n",
    "            elif i==0:\n",
    "                dp[i][j]=max(dp[i+1][j+1],dp[i][j+1])+arr[i][j]\n",
    "            else:\n",
    "                dp[i][j]=max(dp[i][j+1],dp[i-1][j+1],dp[i+1][j+1])+arr[i][j]\n",
    "    \n",
    "    return dp\n",
    "    _max=0\n",
    "    for x in range(0,len(dp)):\n",
    "        _max=max(_max,dp[x][0])\n",
    "    print(_max)\n",
    "    print(dp)\n",
    "goldmine(arr)"
   ]
  },
  {
   "cell_type": "code",
   "execution_count": 10,
   "metadata": {},
   "outputs": [
    {
     "name": "stdout",
     "output_type": "stream",
     "text": [
      "11\n",
      "[0, 1, 2, 3, 6, 11]\n"
     ]
    }
   ],
   "source": [
    "#climb stairs\n",
    "def climbstairsgiven(n):\n",
    "    dp=[0]*(n+1)\n",
    "    dp[0]=0\n",
    "    dp[1]=1\n",
    "    dp[2]=2\n",
    "    for x in range(3,len(dp)):\n",
    "        dp[x]=dp[x-1]+dp[x-2]+dp[x-3]\n",
    "    print(dp[-1])\n",
    "    print(dp)\n",
    "climbstairsgiven(5)"
   ]
  },
  {
   "cell_type": "code",
   "execution_count": 12,
   "metadata": {},
   "outputs": [
    {
     "name": "stdout",
     "output_type": "stream",
     "text": [
      "8\n",
      "[8, 5, 0, 3, 2, 1, 1]\n"
     ]
    }
   ],
   "source": [
    "#climb stairs var(ways)\n",
    "def climbstairsvar(arr):\n",
    "    dp=[0]*(len(arr)+1)\n",
    "    dp[-1]=1\n",
    "    for i in range(len(dp)-2,-1,-1):\n",
    "        j=1\n",
    "        while j<=arr[i] and i+j<len(dp):\n",
    "            dp[i]+=dp[i+j]\n",
    "            j+=1\n",
    "    print(dp[0])\n",
    "    print(dp)\n",
    "climbstairsvar([3,3,0,2,2,3])"
   ]
  },
  {
   "cell_type": "code",
   "execution_count": 14,
   "metadata": {},
   "outputs": [
    {
     "name": "stdout",
     "output_type": "stream",
     "text": [
      "4\n",
      "[4, 4, 3, 4, None, 3, 2, 2, 1, 1, 0]\n"
     ]
    }
   ],
   "source": [
    "#min ways till end\n",
    "def climbmin(arr):\n",
    "    dp=[None]*(len(arr)+1)\n",
    "    dp[-1]=0\n",
    "    for i in range(len(dp)-2,-1,-1):\n",
    "        _min=90999\n",
    "        j=1\n",
    "        while j<=arr[i] and i+j<len(dp):\n",
    "            if dp[i+j]!=None:\n",
    "                _min=min(_min,dp[i+j])\n",
    "            j+=1\n",
    "        if _min!=90999:\n",
    "            dp[i]=_min+1\n",
    "    print(dp[0])\n",
    "    print(dp)\n",
    "climbmin([3,2,4,2,0,2,3,1,2,2])"
   ]
  },
  {
   "cell_type": "code",
   "execution_count": 19,
   "metadata": {},
   "outputs": [
    {
     "data": {
      "text/plain": [
       "[1, 1, 2, 3, 4, 2, 5, 3]"
      ]
     },
     "execution_count": 19,
     "metadata": {},
     "output_type": "execute_result"
    }
   ],
   "source": [
    "#longest increasing subsequence\n",
    "def lis(arr):\n",
    "    dp=[0]*(len(arr))\n",
    "    dp[0]=1\n",
    "    for i in range(1,len(arr)):\n",
    "        max_=0\n",
    "        for j in range(0,i):\n",
    "            if arr[i]>=arr[j]:\n",
    "                max_=max(max_,dp[j])\n",
    "        dp[i]=max_+1\n",
    "    return dp\n",
    "lis([7,1,4,8,11,2,14,3])"
   ]
  },
  {
   "cell_type": "code",
   "execution_count": 24,
   "metadata": {},
   "outputs": [
    {
     "data": {
      "text/plain": [
       "[3, 1, 2, 2, 2, 1, 2, 1]"
      ]
     },
     "execution_count": 24,
     "metadata": {},
     "output_type": "execute_result"
    }
   ],
   "source": [
    "#longest decreasing subsequence\n",
    "def lds(arr):\n",
    "    dp=[0]*len(arr)\n",
    "    dp[-1]=1\n",
    "    for i in range(len(dp)-2,-1,-1):\n",
    "        max_=0\n",
    "        for j in range(len(dp)-1,i,-1):\n",
    "            if arr[i]>=arr[j]:\n",
    "                max_=max(max_,dp[j])\n",
    "        dp[i]=max_+1\n",
    "    return dp\n",
    "lds([7,1,4,8,11,2,14,3])"
   ]
  },
  {
   "cell_type": "code",
   "execution_count": 28,
   "metadata": {},
   "outputs": [
    {
     "name": "stdout",
     "output_type": "stream",
     "text": [
      "[1, 1, 2, 3, 4, 2]\n",
      "[3, 1, 2, 2, 2, 1]\n",
      "5\n"
     ]
    }
   ],
   "source": [
    "#longest bitonic subsequence\n",
    "def lbs(arr):\n",
    "    inc=lis(arr)\n",
    "    dec=lds(arr)\n",
    "    maxlbs=0\n",
    "    print(inc)\n",
    "    print(dec)\n",
    "    for i in range(len(arr)):\n",
    "        maxlbs=max(maxlbs,inc[i]+dec[i]-1)\n",
    "    print(maxlbs)\n",
    "lbs([7,1,4,8,11,2])"
   ]
  },
  {
   "cell_type": "code",
   "execution_count": 36,
   "metadata": {},
   "outputs": [
    {
     "name": "stdout",
     "output_type": "stream",
     "text": [
      "37 1\n",
      "D2-D1-D0-D0-\n",
      "D2-D1-D2-D1-\n"
     ]
    }
   ],
   "source": [
    "class pair:\n",
    "    def __init__(self,i,j,path):\n",
    "        self.i=i\n",
    "        self.j=j\n",
    "        self.path=path\n",
    "    \n",
    "def printgoldmineroute(arr):\n",
    "    dp=goldmine(arr)\n",
    "    _max=0\n",
    "    cntmax=0\n",
    "    for i in range(0,len(dp)):\n",
    "        if _max==dp[i][0]:\n",
    "            cntmax+=1\n",
    "        elif dp[i][0]>_max:\n",
    "            _max=dp[i][0]\n",
    "            cntmax=1\n",
    "    print(_max,cntmax)\n",
    "    queue=[]\n",
    "    for i in range(0,len(dp)):\n",
    "        if dp[i][0]==_max:\n",
    "            queue.append(pair(i,0,'D'+str(i)+'-'))\n",
    "    while len(queue)!=0:\n",
    "        rem=queue.pop(0)\n",
    "        if rem.j==len(dp[0])-1:\n",
    "            print(rem.path)\n",
    "        else:\n",
    "            if rem.i==0:\n",
    "                _max=max(dp[rem.i][rem.j+1],dp[rem.i+1][rem.j+1])\n",
    "                if _max==dp[rem.i][rem.j+1]:\n",
    "                    queue.append(pair(rem.i,rem.j+1,rem.path+'D'+str(rem.i)+'-'))\n",
    "                if _max==dp[rem.i+1][rem.j+1]:\n",
    "                    queue.append(pair(rem.i+1,rem.j+1,rem.path+'D'+str(rem.i+1)+'-'))\n",
    "                \n",
    "            elif rem.i==len(dp)-1:\n",
    "                _max=max(dp[rem.i][rem.j+1],dp[rem.i-1][rem.j+1])\n",
    "                if _max==dp[rem.i][rem.j+1]:\n",
    "                    queue.append(pair(rem.i,rem.j+1,rem.path+'D'+str(rem.i)+'-'))\n",
    "                if _max==dp[rem.i-1][rem.j+1]:\n",
    "                    queue.append(pair(rem.i-1,rem.j+1,rem.path+'D'+str(rem.i-1)+'-'))\n",
    "            else:\n",
    "                _max=max(dp[rem.i][rem.j+1],dp[rem.i+1][rem.j+1],dp[rem.i-1][rem.j+1])\n",
    "                if _max==dp[rem.i][rem.j+1]:\n",
    "                    queue.append(pair(rem.i,rem.j+1,rem.path+'D'+str(rem.i)+'-'))\n",
    "                if _max==dp[rem.i-1][rem.j+1]:\n",
    "                    queue.append(pair(rem.i-1,rem.j+1,rem.path+'D'+str(rem.i-1)+'-'))\n",
    "                if _max==dp[rem.i+1][rem.j+1]:\n",
    "                    queue.append(pair(rem.i+1,rem.j+1,rem.path+'D'+str(rem.i+1)+'-'))\n",
    "    \n",
    "printgoldmineroute(arr)"
   ]
  },
  {
   "cell_type": "code",
   "execution_count": 42,
   "metadata": {},
   "outputs": [
    {
     "name": "stdout",
     "output_type": "stream",
     "text": [
      "S-H-V-V-H-H-\n"
     ]
    }
   ],
   "source": [
    "def printminpath(arr):\n",
    "    dp=mazetraversal(arr)\n",
    "    queue=[]\n",
    "    queue.append(pair(0,0,'S-'))\n",
    "    while len(queue)!=0:\n",
    "        rem=queue.pop(0)\n",
    "        if rem.i==len(dp)-1 and rem.j==len(dp[0])-1:\n",
    "            print(rem.path)\n",
    "        else:\n",
    "            if rem.i==len(dp)-1:\n",
    "                queue.append(pair(rem.i,rem.j+1,rem.path+'H-'))\n",
    "            elif rem.j==len(dp[0])-1:\n",
    "                queue.append(pair(rem.i+1,rem.j,rem.path+'V-'))\n",
    "            else:\n",
    "                _max=max(dp[rem.i][rem.j+1],dp[rem.i+1][rem.j])\n",
    "                if _max==dp[rem.i][rem.j+1]:\n",
    "                    queue.append(pair(rem.i,rem.j+1,rem.path+'H-'))\n",
    "                if _max==dp[rem.i+1][rem.j]:\n",
    "                    queue.append(pair(rem.i+1,rem.j,rem.path+'V-'))\n",
    "printminpath(arr)"
   ]
  },
  {
   "cell_type": "code",
   "execution_count": 56,
   "metadata": {},
   "outputs": [
    {
     "name": "stdout",
     "output_type": "stream",
     "text": [
      "1 2 \n"
     ]
    },
    {
     "data": {
      "text/plain": [
       "[[0, 0, 0, 10], [0, 5, 5, 10], [0, 5, 7, 12], [0, 5, 7, 12]]"
      ]
     },
     "execution_count": 56,
     "metadata": {},
     "output_type": "execute_result"
    }
   ],
   "source": [
    "def printknapsack(weight,value,capacity):\n",
    "    dp=knapsack(weight,value,capacity)\n",
    "    n=len(dp)-1\n",
    "    m=len(dp[0])-1\n",
    "    queue=[]\n",
    "    queue.append(pair(n,m,''))\n",
    "    \n",
    "    while len(queue)!=0:\n",
    "        rem=queue.pop(0)\n",
    "        if rem.i==0 or rem.j==0:\n",
    "            print(rem.path)\n",
    "        else:\n",
    "            inc=dp[rem.i-1][rem.j-weight[rem.i-1]]+value[rem.i-1]\n",
    "            exc=dp[rem.i-1][rem.j]\n",
    "            if dp[rem.i][rem.j]==inc:\n",
    "                queue.append(pair(rem.i-1,rem.j-weight[rem.i-1],str(weight[rem.i-1])+' '+rem.path))\n",
    "            if dp[rem.i][rem.j]==exc:\n",
    "                queue.append(pair(rem.i-1,rem.j,rem.path))\n",
    "    return dp\n",
    "printknapsack([1,2,3],[5,7,10],3)"
   ]
  },
  {
   "cell_type": "code",
   "execution_count": 57,
   "metadata": {},
   "outputs": [
    {
     "name": "stdout",
     "output_type": "stream",
     "text": [
      "3 4 \n",
      "3 \n"
     ]
    },
    {
     "data": {
      "text/plain": [
       "[[0, 0, 0, 0, 30, 30, 30, 30],\n",
       " [0, 0, 15, 15, 30, 30, 45, 45],\n",
       " [0, 0, 15, 15, 30, 30, 45, 45],\n",
       " [0, 10, 15, 25, 30, 40, 45, 55],\n",
       " [0, 10, 15, 45, 55, 60, 70, 75],\n",
       " [0, 10, 15, 45, 55, 60, 70, 75]]"
      ]
     },
     "execution_count": 57,
     "metadata": {},
     "output_type": "execute_result"
    }
   ],
   "source": [
    "printknapsack([2,5,1,3,4],[15,14,10,45,30],7)"
   ]
  },
  {
   "cell_type": "code",
   "execution_count": 1,
   "metadata": {},
   "outputs": [],
   "source": [
    "class tree:\n",
    "    def __init__(self,val):\n",
    "        self.data=val\n",
    "        self.left=None\n",
    "        self.right=None\n",
    "\n",
    "def createTree(arr):\n",
    "    root=tree(arr[0])\n",
    "    queue=[root]\n",
    "    idx=1\n",
    "    while len(queue)!=0 and idx <len(arr):\n",
    "        node=queue.pop(0)\n",
    "        #insert at left\n",
    "        if arr[idx]!=None:\n",
    "            newNode=tree(arr[idx])\n",
    "            node.left=newNode\n",
    "            queue.append(node.left)\n",
    "        idx+=1\n",
    "        #insert at right\n",
    "        if arr[idx]!=None:\n",
    "            newNode=tree(arr[idx])\n",
    "            node.right=newNode\n",
    "            queue.append(node.right)\n",
    "        idx+=1\n",
    "    return root\n",
    "t1=createTree([3,9,20,None,None,15,7,1,5,12,2])"
   ]
  },
  {
   "cell_type": "code",
   "execution_count": 3,
   "metadata": {},
   "outputs": [
    {
     "name": "stdout",
     "output_type": "stream",
     "text": [
      "3 \n",
      "9 20 \n",
      "15 7 \n",
      "1 5 12 2 \n"
     ]
    }
   ],
   "source": [
    "def levelTraversal(root):\n",
    "    if root is None:\n",
    "        return\n",
    "    queue=[root]\n",
    "    \n",
    "    while len(queue)!=0:\n",
    "        count=len(queue)\n",
    "        for _ in range(count):\n",
    "            node=queue.pop(0)\n",
    "            print(node.data,end=' ')\n",
    "            if node.left!=None:\n",
    "                queue.append(node.left)\n",
    "            if node.right!=None:\n",
    "                queue.append(node.right)\n",
    "        print('')\n",
    "levelTraversal(t1)"
   ]
  },
  {
   "cell_type": "code",
   "execution_count": 22,
   "metadata": {},
   "outputs": [
    {
     "data": {
      "text/plain": [
       "[<__main__.tree at 0x7f9ba48901d0>,\n",
       " <__main__.tree at 0x7f9ba4890080>,\n",
       " <__main__.tree at 0x7f9ba48900b8>]"
      ]
     },
     "execution_count": 22,
     "metadata": {},
     "output_type": "execute_result"
    }
   ],
   "source": [
    "#path from node to root\n",
    "def pathToroot(root,val):\n",
    "    if root is None:\n",
    "        return\n",
    "    if root.data==val:\n",
    "        return [root]\n",
    "    \n",
    "    lc=pathToroot(root.left,val)\n",
    "    if lc:\n",
    "        lc.append(root)\n",
    "        return lc\n",
    "    rc=pathToroot(root.right,val)\n",
    "    if rc:\n",
    "        rc.append(root)\n",
    "        return rc\n",
    "    return []\n",
    "pathToroot(t1,7)    "
   ]
  },
  {
   "cell_type": "code",
   "execution_count": 30,
   "metadata": {},
   "outputs": [
    {
     "name": "stdout",
     "output_type": "stream",
     "text": [
      "1 5 12 2 "
     ]
    }
   ],
   "source": [
    "#print k levels down\n",
    "def kLevels(root,k,blocker):\n",
    "    if root is None and k<0 and root==blocker:\n",
    "        return\n",
    "    if k==0 and root is not None and root is not blocker:\n",
    "        print(root.data,end=' ')\n",
    "    if root is not None:    \n",
    "        kLevels(root.left,k-1,blocker)\n",
    "        kLevels(root.right,k-1,blocker)\n",
    "kLevels(t1.right,2,blocker=None)"
   ]
  },
  {
   "cell_type": "code",
   "execution_count": 31,
   "metadata": {},
   "outputs": [],
   "source": [
    "#print k nodes aways\n",
    "def kNodeAway(root,val,k):\n",
    "    if root==None:\n",
    "        return\n",
    "    path=pathToroot(root,val)\n",
    "    for i in range(len(path)):\n",
    "        if i==0:\n",
    "            kLevels(path[i],k-i,blocker=None)\n",
    "        else:\n",
    "            kLevels(path[i],k-i,blocker=path[i-1])"
   ]
  },
  {
   "cell_type": "code",
   "execution_count": 32,
   "metadata": {},
   "outputs": [
    {
     "name": "stdout",
     "output_type": "stream",
     "text": [
      "1 5 12 2 9 "
     ]
    }
   ],
   "source": [
    "kNodeAway(t1,20,2)"
   ]
  },
  {
   "cell_type": "code",
   "execution_count": 2,
   "metadata": {},
   "outputs": [
    {
     "ename": "NameError",
     "evalue": "name 'groupby' is not defined",
     "output_type": "error",
     "traceback": [
      "\u001b[0;31m---------------------------------------------------------------------------\u001b[0m",
      "\u001b[0;31mNameError\u001b[0m                                 Traceback (most recent call last)",
      "\u001b[0;32m<ipython-input-2-599fcf43b39b>\u001b[0m in \u001b[0;36m<module>\u001b[0;34m()\u001b[0m\n\u001b[0;32m----> 1\u001b[0;31m \u001b[0;32mfor\u001b[0m \u001b[0mx\u001b[0m\u001b[0;34m,\u001b[0m\u001b[0mk\u001b[0m \u001b[0;32min\u001b[0m \u001b[0mgroupby\u001b[0m\u001b[0;34m(\u001b[0m\u001b[0;34m'ab'\u001b[0m\u001b[0;34m)\u001b[0m\u001b[0;34m:\u001b[0m\u001b[0;34m\u001b[0m\u001b[0;34m\u001b[0m\u001b[0m\n\u001b[0m\u001b[1;32m      2\u001b[0m     \u001b[0mprint\u001b[0m\u001b[0;34m(\u001b[0m\u001b[0mx\u001b[0m\u001b[0;34m,\u001b[0m\u001b[0mk\u001b[0m\u001b[0;34m)\u001b[0m\u001b[0;34m\u001b[0m\u001b[0;34m\u001b[0m\u001b[0m\n",
      "\u001b[0;31mNameError\u001b[0m: name 'groupby' is not defined"
     ]
    }
   ],
   "source": [
    "for x,k in groupby('ab'):\n",
    "    print(x,k)"
   ]
  },
  {
   "cell_type": "code",
   "execution_count": 4,
   "metadata": {},
   "outputs": [],
   "source": [
    "from collections import Counter"
   ]
  },
  {
   "cell_type": "code",
   "execution_count": 12,
   "metadata": {},
   "outputs": [],
   "source": [
    "count=Counter('211')"
   ]
  },
  {
   "cell_type": "code",
   "execution_count": 13,
   "metadata": {},
   "outputs": [
    {
     "data": {
      "text/plain": [
       "'1221'"
      ]
     },
     "execution_count": 13,
     "metadata": {},
     "output_type": "execute_result"
    }
   ],
   "source": [
    "''.join(str(count[x])+x for x in count)"
   ]
  },
  {
   "cell_type": "code",
   "execution_count": 15,
   "metadata": {},
   "outputs": [
    {
     "data": {
      "text/plain": [
       "1"
      ]
     },
     "execution_count": 15,
     "metadata": {},
     "output_type": "execute_result"
    }
   ],
   "source": [
    "3//2"
   ]
  },
  {
   "cell_type": "code",
   "execution_count": 1,
   "metadata": {},
   "outputs": [],
   "source": [
    "from collections import defaultdict"
   ]
  },
  {
   "cell_type": "code",
   "execution_count": 2,
   "metadata": {},
   "outputs": [],
   "source": [
    "graph=defaultdict(set)"
   ]
  },
  {
   "cell_type": "code",
   "execution_count": 3,
   "metadata": {},
   "outputs": [],
   "source": [
    "class edge:\n",
    "    def __init__(self,node,nbr,weight=0):\n",
    "        self.node=node\n",
    "        self.nbr=nbr\n",
    "        self.weight=weight"
   ]
  },
  {
   "cell_type": "code",
   "execution_count": 7,
   "metadata": {},
   "outputs": [
    {
     "name": "stdout",
     "output_type": "stream",
     "text": [
      "Enter input0,2,3\n",
      "Enter input0,1,3\n",
      "Enter input1,2,5\n",
      "Enter input2,3,3\n",
      "Enter input3,4,1\n",
      "Enter input4,5,2\n",
      "Enter input4,6,4\n",
      "Enter input5,6,3\n"
     ]
    }
   ],
   "source": [
    "#undirected graph\n",
    "for i in range(8):\n",
    "    node=input('Enter input').split(',')\n",
    "    v1=node[0]\n",
    "    v2=node[1]\n",
    "    w=node[2]\n",
    "    graph[v1].add(edge(v1,v2,int(w)))\n",
    "    graph[v2].add(edge(v2,v1,int(w)))\n",
    "    "
   ]
  },
  {
   "cell_type": "code",
   "execution_count": 16,
   "metadata": {},
   "outputs": [
    {
     "name": "stdout",
     "output_type": "stream",
     "text": [
      "1->2->5->\n"
     ]
    }
   ],
   "source": [
    "#bfs\n",
    "def sourcetodest(graph,src,dest):\n",
    "    visited=set()\n",
    "    queue=[(src,src+'->')]\n",
    "    while len(queue)!=0:\n",
    "        node,path=queue.pop(0)\n",
    "        if node==dest:\n",
    "            print(path)\n",
    "            return\n",
    "        \n",
    "        if node not in visited:\n",
    "            visited.add(node)\n",
    "            for edge in graph[node]:\n",
    "                if edge.nbr not in visited:\n",
    "                    queue.append((edge.nbr,path+edge.nbr+'->'))\n",
    "sourcetodest(graph,'1','5')"
   ]
  },
  {
   "cell_type": "code",
   "execution_count": 19,
   "metadata": {},
   "outputs": [
    {
     "name": "stdout",
     "output_type": "stream",
     "text": [
      "4 to 4 @ 4->\n",
      "4 to 2 @ 4->2->\n",
      "4 to 3 @ 4->3->\n",
      "4 to 5 @ 4->2->5->\n",
      "4 to 1 @ 4->2->1->\n"
     ]
    }
   ],
   "source": [
    "def haspath(graph,src):\n",
    "    queue=[(src,src+'->')]\n",
    "    visited=set()\n",
    "    while len(queue)!=0:\n",
    "        node,path=queue.pop(0)\n",
    "        if node not in visited:\n",
    "            visited.add(node)\n",
    "            print(src,'to',node,'@',path)\n",
    "            for edge in graph[node]:\n",
    "                if edge.nbr not in visited:\n",
    "                    queue.append((edge.nbr,path+edge.nbr+'->'))\n",
    "haspath(graph,'4')"
   ]
  },
  {
   "cell_type": "code",
   "execution_count": 32,
   "metadata": {},
   "outputs": [
    {
     "name": "stdout",
     "output_type": "stream",
     "text": [
      "1->3->4->\n"
     ]
    }
   ],
   "source": [
    "#dfs\n",
    "def dfssrctoDest(graph,src,dest):\n",
    "    visited=set()\n",
    "    stack=[(src,src+'->')]\n",
    "    while len(stack)!=0:\n",
    "        node,path=stack.pop()\n",
    "        if node==dest:\n",
    "            print(path)\n",
    "        if node not in visited:\n",
    "            visited.add(node)\n",
    "            for edge in graph[node]:\n",
    "                if edge.nbr not in visited:\n",
    "                    stack.append((edge.nbr,path+edge.nbr+'->'))\n",
    "dfssrctoDest(graph,'1','4')"
   ]
  },
  {
   "cell_type": "code",
   "execution_count": 38,
   "metadata": {},
   "outputs": [
    {
     "name": "stdout",
     "output_type": "stream",
     "text": [
      "minimum cost: 9 @ 1-2-5\n",
      "maximum cost: 13 @ 1-3-4-2-5\n"
     ]
    }
   ],
   "source": [
    "import sys\n",
    "def maxMin(graph,src,dest,visited,cost,path):\n",
    "    global min_,max_,min_path,max_path\n",
    "    if src==dest:\n",
    "        if cost<min_:\n",
    "            min_=cost\n",
    "            min_path=path\n",
    "        if cost>max_:\n",
    "            max_=cost\n",
    "            max_path=path\n",
    "    if src not in visited:\n",
    "        visited.add(src)\n",
    "        for edge in graph[src]:\n",
    "            if edge.nbr not in visited:\n",
    "                maxMin(graph,edge.nbr,dest,visited,cost+edge.weight,path+'-'+edge.nbr)\n",
    "        visited.remove(src)\n",
    "        \n",
    "min_=sys.maxsize\n",
    "min_path,max_path='',''\n",
    "max_=-sys.maxsize\n",
    "visited=set()\n",
    "maxMin(graph,'1','5',visited,0,'1')\n",
    "print('minimum cost:',min_,'@',min_path)\n",
    "print('maximum cost:',max_,'@',max_path)"
   ]
  },
  {
   "cell_type": "code",
   "execution_count": 37,
   "metadata": {},
   "outputs": [
    {
     "name": "stdout",
     "output_type": "stream",
     "text": [
      "9 13\n"
     ]
    }
   ],
   "source": [
    "print(min_,max_)"
   ]
  },
  {
   "cell_type": "code",
   "execution_count": 43,
   "metadata": {},
   "outputs": [
    {
     "name": "stdout",
     "output_type": "stream",
     "text": [
      "{'1': 2, '2': 1, '3': 1, '4': 2, '5': 2}\n"
     ]
    }
   ],
   "source": [
    "def spreadInfection(graph,src):\n",
    "    queue=[(src,0)]\n",
    "    count=0\n",
    "    visited={x:0 for x in graph.keys()}\n",
    "    \n",
    "    while len(queue)!=0:\n",
    "        node,time=queue.pop(0)\n",
    "        if visited[node]==0:\n",
    "            visited[node]=time\n",
    "            for edge in graph[node]:\n",
    "                if visited[edge.nbr]==0:\n",
    "                    queue.append((edge.nbr,time+1))\n",
    "    print(visited)\n",
    "spreadInfection(graph,'1')"
   ]
  },
  {
   "cell_type": "code",
   "execution_count": null,
   "metadata": {},
   "outputs": [],
   "source": []
  },
  {
   "cell_type": "code",
   "execution_count": 27,
   "metadata": {},
   "outputs": [
    {
     "name": "stdout",
     "output_type": "stream",
     "text": [
      "1 to 1 cost:- 0 @ 1\n",
      "1 to 0 cost:- 3 @ 1-0\n",
      "1 to 2 cost:- 5 @ 1-2\n",
      "1 to 3 cost:- 5 @ 1-0-3\n",
      "1 to 4 cost:- 6 @ 1-0-3-4\n",
      "1 to 5 cost:- 8 @ 1-0-3-4-5\n",
      "1 to 6 cost:- 10 @ 1-0-3-4-6\n"
     ]
    }
   ],
   "source": [
    "#dijkastra algorithm uses priority queue\n",
    "from heapq import *\n",
    "def dijkastra(graph,src):\n",
    "    queue=[] #weight, accquired node, path\n",
    "    heappush(queue,(0,src,src))\n",
    "    visited=set()\n",
    "    while len(queue)!=0:\n",
    "        wt,node,path=heappop(queue)\n",
    "        if node not in visited:\n",
    "            visited.add(node)\n",
    "            print(src,'to',node,'cost:-',wt,'@',path)\n",
    "            for edge in graph[node]:\n",
    "                if edge.nbr not in visited:\n",
    "                    heappush(queue,(wt+edge.weight,edge.nbr,path+'-'+edge.nbr))\n",
    "dijkastra(graph2,'1')"
   ]
  },
  {
   "cell_type": "markdown",
   "metadata": {},
   "source": [
    "# mST prism"
   ]
  },
  {
   "cell_type": "code",
   "execution_count": 47,
   "metadata": {},
   "outputs": [
    {
     "name": "stdout",
     "output_type": "stream",
     "text": [
      "2  accquire  1 @ 6\n",
      "4  accquire  2 @ 1\n",
      "3  accquire  4 @ 2\n",
      "5  accquire  2 @ 3\n"
     ]
    }
   ],
   "source": [
    "def prism(graph,src):\n",
    "    queue=[]\n",
    "    heappush(queue,(0,-1,src)) #wt,acnode,node\n",
    "    visited=set()\n",
    "    while len(queue)!=0:\n",
    "        wt,accnode,node=heappop(queue)\n",
    "        if node not in visited:\n",
    "            visited.add(node)\n",
    "            if accnode!=-1:\n",
    "                print(node,' accquire ',accnode,'@',wt)\n",
    "            for edge in graph[node]:\n",
    "                if edge.nbr not in visited:\n",
    "                    heappush(queue,(edge.weight,node,edge.nbr))\n",
    "prism(graph,'1')"
   ]
  },
  {
   "cell_type": "code",
   "execution_count": 4,
   "metadata": {},
   "outputs": [],
   "source": [
    "#directed acylic graph\n",
    "gdag=defaultdict(set)\n",
    "gdag['0'].add(edge('0','3'))\n",
    "gdag['0'].add(edge('0','1'))\n",
    "gdag['1'].add(edge('1','2'))\n",
    "gdag['2'].add(edge('2','3'))\n",
    "gdag['4'].add(edge('4','3'))\n",
    "gdag['4'].add(edge('4','6'))\n",
    "gdag['4'].add(edge('4','5'))\n",
    "gdag['5'].add(edge('5','6'))"
   ]
  },
  {
   "cell_type": "code",
   "execution_count": 55,
   "metadata": {},
   "outputs": [
    {
     "name": "stdout",
     "output_type": "stream",
     "text": [
      "4 5 6 0 1 2 3 "
     ]
    }
   ],
   "source": [
    "def tsortHelper(graph,src,visited,stack):\n",
    "    visited.add(src)\n",
    "    for edge in graph[src]:\n",
    "        if edge.nbr not in visited:\n",
    "            tsortHelper(graph,edge.nbr,visited,stack)\n",
    "    stack.append(src)\n",
    "    \n",
    "def topologicalSort(graph):\n",
    "    stack=[]\n",
    "    visited=set()\n",
    "    for src in graph.keys():\n",
    "        if src not in visited:\n",
    "            tsortHelper(graph,src,visited,stack)\n",
    "    while len(stack)!=0:\n",
    "        print(stack.pop(),end=' ')\n",
    "topologicalSort(gdag)"
   ]
  },
  {
   "cell_type": "code",
   "execution_count": 9,
   "metadata": {},
   "outputs": [
    {
     "data": {
      "text/plain": [
       "2"
      ]
     },
     "execution_count": 9,
     "metadata": {},
     "output_type": "execute_result"
    }
   ],
   "source": [
    "def iscycle(graph,src):\n",
    "    queue=[(src,src)]\n",
    "    visited=set()\n",
    "    count=0\n",
    "    \n",
    "    while len(queue)!=0:\n",
    "        node,path=queue.pop(0)\n",
    "        if node in visited:\n",
    "            count+=1\n",
    "            #print(path)\n",
    "        else:\n",
    "            visited.add(node)\n",
    "            for edge in graph[node]:\n",
    "                if edge.nbr not in visited:\n",
    "                    queue.append((edge.nbr,path+'-'+edge.nbr))\n",
    "    return count\n",
    "iscycle(graph,'1')    "
   ]
  },
  {
   "cell_type": "code",
   "execution_count": 10,
   "metadata": {},
   "outputs": [
    {
     "name": "stdout",
     "output_type": "stream",
     "text": [
      "Enter input0,3,2\n",
      "Enter input0,1,3\n",
      "Enter input1,2,5\n",
      "Enter input2,3,3\n",
      "Enter input3,4,1\n",
      "Enter input4,5,2\n",
      "Enter input4,6,4\n"
     ]
    }
   ],
   "source": [
    "graph2=defaultdict(set)\n",
    "for i in range(7):\n",
    "    node=input('Enter input').split(',')\n",
    "    v1=node[0]\n",
    "    v2=node[1]\n",
    "    w=node[2]\n",
    "    graph2[v1].add(edge(v1,v2,int(w)))\n",
    "    graph2[v2].add(edge(v2,v1,int(w)))"
   ]
  },
  {
   "cell_type": "code",
   "execution_count": 15,
   "metadata": {},
   "outputs": [
    {
     "name": "stdout",
     "output_type": "stream",
     "text": [
      "1\n",
      "0\n",
      "2\n",
      "3\n",
      "3\n",
      "4\n",
      "6\n",
      "5\n"
     ]
    },
    {
     "data": {
      "text/plain": [
       "True"
      ]
     },
     "execution_count": 15,
     "metadata": {},
     "output_type": "execute_result"
    }
   ],
   "source": [
    "def bipartite(graph,src):\n",
    "    colorarr={x:-1 for x in graph.keys()}\n",
    "    colorarr[src]=1\n",
    "    queue=[(src,1)]\n",
    "    visited=set()\n",
    "    \n",
    "    while len(queue)!=0:\n",
    "        node,color=queue.pop(0)\n",
    "        if node not in visited:\n",
    "            visited.add(node)\n",
    "            for edge in graph[node]:\n",
    "                if edge.nbr not in visited:\n",
    "                    color=1-color\n",
    "                    queue.append((edge.nbr,color))\n",
    "        elif colorarr[node]==color:\n",
    "                return False\n",
    "    return True\n",
    "bipartite(graph2,'1')"
   ]
  },
  {
   "cell_type": "code",
   "execution_count": 37,
   "metadata": {},
   "outputs": [
    {
     "name": "stdout",
     "output_type": "stream",
     "text": [
      "bipartite\n",
      "True\n",
      "not bipartite\n",
      "False\n"
     ]
    }
   ],
   "source": [
    "def bipartiteHelper(graph,src,colorarr):\n",
    "    #colorarr={x:-1 for x in graph.keys()}\n",
    "    queue=[src]\n",
    "    colorarr[src]=1\n",
    "    \n",
    "    while len(queue)!=0:\n",
    "        node=queue.pop(0)\n",
    "        \n",
    "        for edge in graph[node]:\n",
    "            if colorarr[edge.nbr]==colorarr[node]:\n",
    "                return False\n",
    "            elif colorarr[edge.nbr]==-1:\n",
    "                colorarr[edge.nbr]=1-colorarr[node]\n",
    "                queue.append(edge.nbr)\n",
    "    return True\n",
    "def bipartite(graph):\n",
    "    colorarr={x:-1 for x in graph.keys()}\n",
    "    for src in graph.keys():\n",
    "        if colorarr[src]==-1:\n",
    "            if bipartiteHelper(graph,src,colorarr)==False:\n",
    "                print('not bipartite')\n",
    "                return False\n",
    "    print('bipartite')\n",
    "    return True\n",
    "print(bipartite(graph2))\n",
    "print(bipartite(graph))"
   ]
  },
  {
   "cell_type": "code",
   "execution_count": 61,
   "metadata": {},
   "outputs": [],
   "source": [
    "indegree={str(x):0 for x in range(7)}"
   ]
  },
  {
   "cell_type": "code",
   "execution_count": 62,
   "metadata": {},
   "outputs": [
    {
     "data": {
      "text/plain": [
       "{'0': 0, '1': 0, '2': 0, '3': 0, '4': 0, '5': 0, '6': 0}"
      ]
     },
     "execution_count": 62,
     "metadata": {},
     "output_type": "execute_result"
    }
   ],
   "source": [
    "indegree"
   ]
  },
  {
   "cell_type": "code",
   "execution_count": 63,
   "metadata": {},
   "outputs": [],
   "source": [
    "for node in gdag.keys():\n",
    "    for edge in gdag[node]:\n",
    "        indegree[edge.nbr]+=1"
   ]
  },
  {
   "cell_type": "code",
   "execution_count": 64,
   "metadata": {},
   "outputs": [
    {
     "data": {
      "text/plain": [
       "{'0': 0, '1': 1, '2': 1, '3': 3, '4': 0, '5': 1, '6': 2}"
      ]
     },
     "execution_count": 64,
     "metadata": {},
     "output_type": "execute_result"
    }
   ],
   "source": [
    "indegree"
   ]
  },
  {
   "cell_type": "code",
   "execution_count": 72,
   "metadata": {},
   "outputs": [],
   "source": [
    "def kahnsAlgo(graph,n):#n=len(nodes)\n",
    "    indegree={str(x):0 for x in range(n)}\n",
    "    for node in gdag.keys():\n",
    "        for edge in gdag[node]:\n",
    "            indegree[edge.nbr]+=1\n",
    "    queue=[]\n",
    "    for x in indegree:\n",
    "        if indegree[x]==0:\n",
    "            queue.append(x)\n",
    "    count=0\n",
    "    result=[]\n",
    "    while len(queue)!=0:\n",
    "        node=queue.pop(0)\n",
    "        result.append(node)\n",
    "        for edge in gdag[node]:\n",
    "            indegree[edge.nbr]-=1\n",
    "            if indegree[edge.nbr]==0:\n",
    "                queue.append(edge.nbr)\n",
    "        count+=1\n",
    "    if count!=7:\n",
    "        print('graph is not acyclic')\n",
    "    else:\n",
    "        print(result)"
   ]
  },
  {
   "cell_type": "code",
   "execution_count": 78,
   "metadata": {},
   "outputs": [
    {
     "name": "stdout",
     "output_type": "stream",
     "text": [
      "['0', '4', '1', '5', '2', '6', '3']\n"
     ]
    }
   ],
   "source": [
    "kahnsAlgo(gdag,7)"
   ]
  },
  {
   "cell_type": "code",
   "execution_count": 96,
   "metadata": {},
   "outputs": [
    {
     "data": {
      "text/plain": [
       "False"
      ]
     },
     "execution_count": 96,
     "metadata": {},
     "output_type": "execute_result"
    }
   ],
   "source": [
    "def cycleutil(graph,src,visited):\n",
    "    visited.add(src)\n",
    "    for edge in graph[src]:\n",
    "        if edge.nbr in visited:\n",
    "            return True\n",
    "        else:\n",
    "            ans=cycleutil(graph,edge.nbr,visited)\n",
    "            if ans:\n",
    "                return True\n",
    "    visited.remove(src)\n",
    "    return False\n",
    "    \n",
    "def cycleDetection(graph):\n",
    "    visited=set()\n",
    "    for src in graph.keys():\n",
    "        if src not in visited:\n",
    "            if cycleutil(graph,src,visited):\n",
    "                return True\n",
    "    return False\n",
    "cycleDetection(gdag)"
   ]
  },
  {
   "cell_type": "code",
   "execution_count": 105,
   "metadata": {},
   "outputs": [],
   "source": [
    "g=defaultdict(set)"
   ]
  },
  {
   "cell_type": "code",
   "execution_count": 108,
   "metadata": {},
   "outputs": [],
   "source": [
    "g['0'].add(edge('0','1'))\n",
    "g['1'].add(edge('1','0'))"
   ]
  },
  {
   "cell_type": "code",
   "execution_count": 6,
   "metadata": {},
   "outputs": [],
   "source": [
    "compgraph=defaultdict(set)\n",
    "compgraph['1'].add(edge('1','2'))\n",
    "compgraph['0'].add(edge('0','1'))\n",
    "compgraph['2'].add(edge('2','0'))\n",
    "compgraph['2'].add(edge('2','3'))\n",
    "compgraph['3'].add(edge('3','4'))\n",
    "compgraph['4'].add(edge('4','5'))\n",
    "compgraph['4'].add(edge('4','7'))\n",
    "compgraph['5'].add(edge('5','6'))\n",
    "compgraph['6'].add(edge('6','4'))\n",
    "compgraph['6'].add(edge('6','7'))"
   ]
  },
  {
   "cell_type": "code",
   "execution_count": 7,
   "metadata": {},
   "outputs": [],
   "source": [
    "#graph transpose\n",
    "invgraph=defaultdict(set)\n",
    "for node in gdag.keys():\n",
    "    for x in gdag[node]:\n",
    "        invgraph[x.nbr].add(edge(x.nbr,node))"
   ]
  },
  {
   "cell_type": "code",
   "execution_count": 9,
   "metadata": {},
   "outputs": [
    {
     "name": "stdout",
     "output_type": "stream",
     "text": [
      "Strongly Components are:-\n",
      "1 0 2 \n",
      "Strongly Components are:-\n",
      "3 \n",
      "Strongly Components are:-\n",
      "4 6 5 \n",
      "Strongly Components are:-\n",
      "7 \n"
     ]
    }
   ],
   "source": [
    "def dfsHelper(graph,node,visited,stack):\n",
    "    if node in visited:\n",
    "        return\n",
    "    visited.add(node)\n",
    "    for edge in graph[node]:\n",
    "        if edge.nbr not in visited:\n",
    "            dfsHelper(graph,edge.nbr,visited,stack)\n",
    "    stack.append(node)\n",
    "def inverseGraph(graph):\n",
    "    inv=defaultdict(set)\n",
    "    for node in graph.keys():\n",
    "        for x in graph[node]:\n",
    "            inv[x.nbr].add(edge(x.nbr,node))\n",
    "    return inv\n",
    "\n",
    "def dfs2(graph,node,visited):\n",
    "    visited.add(node)\n",
    "    print(node,end=' ')\n",
    "    for edge in graph[node]:\n",
    "        if edge.nbr not in visited:\n",
    "            dfs2(graph,edge.nbr,visited)\n",
    "            \n",
    "def kosaraju(graph):\n",
    "    stack=[]\n",
    "    visited=set()\n",
    "    for src in graph.keys():\n",
    "        if src not in visited:\n",
    "            dfsHelper(graph,src,visited,stack)\n",
    "    invgraph=inverseGraph(graph)\n",
    "    visited=set()\n",
    "    while len(stack)!=0:\n",
    "        node=stack.pop()\n",
    "        if node not in visited:\n",
    "            print('Strongly Components are:-')\n",
    "            dfs2(invgraph,node,visited)\n",
    "            print('')              \n",
    "kosaraju(compgraph)"
   ]
  },
  {
   "cell_type": "code",
   "execution_count": 11,
   "metadata": {},
   "outputs": [
    {
     "data": {
      "text/plain": [
       "{'abc', 'bca', 'bvc'}"
      ]
     },
     "execution_count": 11,
     "metadata": {},
     "output_type": "execute_result"
    }
   ],
   "source": [
    "set(('bvc','bca','abc'))"
   ]
  },
  {
   "cell_type": "code",
   "execution_count": 77,
   "metadata": {},
   "outputs": [
    {
     "name": "stdout",
     "output_type": "stream",
     "text": [
      "defaultdict(<class 'list'>, {'JFK': ['ATL', 'SFO'], 'SFO': ['ATL'], 'ATL': ['JFK', 'SFO']})\n"
     ]
    },
    {
     "data": {
      "text/plain": [
       "['JFK', 'ATL', 'JFK', 'SFO', 'ATL', 'SFO']"
      ]
     },
     "execution_count": 77,
     "metadata": {},
     "output_type": "execute_result"
    }
   ],
   "source": [
    "#reconstruct itenary \n",
    "#ds used dict, sorted(list) and stack\n",
    "def findItinerary(tickets):\n",
    "    graph=defaultdict(list)\n",
    "    for path in tickets:\n",
    "        graph[path[0]].append(path[1])\n",
    "        graph[path[0]].sort()\n",
    "    print(graph)\n",
    "    visited=set()\n",
    "    src='JFK'\n",
    "    stack=[src]\n",
    "    result=[]\n",
    "    while len(stack)!=0:\n",
    "        node=stack[-1]\n",
    "        if len(graph[node])==0:\n",
    "            element=stack.pop()\n",
    "            result.append(element)\n",
    "        else:\n",
    "            stack.append(graph[node].pop(0))\n",
    "    return result[::-1]\n",
    "\n",
    "findItinerary(input2)"
   ]
  },
  {
   "cell_type": "code",
   "execution_count": 13,
   "metadata": {},
   "outputs": [],
   "source": [
    "input2=[[\"JFK\",\"SFO\"],[\"JFK\",\"ATL\"],[\"SFO\",\"ATL\"],[\"ATL\",\"JFK\"],[\"ATL\",\"SFO\"]]\n",
    "input1=[[\"MUC\", \"LHR\"], [\"JFK\", \"MUC\"], [\"SFO\", \"SJC\"], [\"LHR\", \"SFO\"]]"
   ]
  },
  {
   "cell_type": "code",
   "execution_count": null,
   "metadata": {},
   "outputs": [],
   "source": [
    "def parent(parent,i):\n",
    "    if parent[i]==i:\n",
    "        return i\n",
    "    parent(parent,parent[i])\n",
    "def kruskal(graph):\n",
    "    parent=[]\n",
    "    nodes\n",
    "    pass\n",
    "kruskal(gdag)"
   ]
  },
  {
   "cell_type": "code",
   "execution_count": 10,
   "metadata": {},
   "outputs": [
    {
     "name": "stdout",
     "output_type": "stream",
     "text": [
      "defaultdict(<class 'set'>, {0: {1, 2}, 1: {3, 4}, 2: {5, 6}, 3: {8, 7}, 4: {9, 10}, 5: {11, 12}, 6: {13, 14}})\n"
     ]
    },
    {
     "data": {
      "text/plain": [
       "3"
      ]
     },
     "execution_count": 10,
     "metadata": {},
     "output_type": "execute_result"
    }
   ],
   "source": [
    "from collections import defaultdict\n",
    "class Solution(object):\n",
    "    def numOfMinutes(self, n, headID, manager, informTime):\n",
    "        tree=defaultdict(set)\n",
    "        \n",
    "        for i,m in enumerate(manager):\n",
    "            if m!=-1:\n",
    "                tree[m].add(i)\n",
    "        if len(tree)==0:\n",
    "            return 0\n",
    "        print(tree)\n",
    "        queue=[(headID,0)]\n",
    "        timetaken=0\n",
    "        while len(queue)!=0:\n",
    "            node,time=queue.pop(0)\n",
    "            timetaken=max(timetaken,time)\n",
    "            for nbr in tree[node]:\n",
    "                queue.append((nbr,time+informTime[node]))\n",
    "        return timetaken\n",
    "s1=Solution()\n",
    "s1.numOfMinutes(15,0,[-1,0,0,1,1,2,2,3,3,4,4,5,5,6,6],[1,1,1,1,1,1,1,0,0,0,0,0,0,0,0])"
   ]
  },
  {
   "cell_type": "code",
   "execution_count": 1,
   "metadata": {},
   "outputs": [],
   "source": [
    "a='abc.ct@leet.com'"
   ]
  },
  {
   "cell_type": "code",
   "execution_count": 6,
   "metadata": {},
   "outputs": [
    {
     "data": {
      "text/plain": [
       "3"
      ]
     },
     "execution_count": 6,
     "metadata": {},
     "output_type": "execute_result"
    }
   ],
   "source": [
    "a.find('.')"
   ]
  },
  {
   "cell_type": "code",
   "execution_count": 8,
   "metadata": {},
   "outputs": [
    {
     "data": {
      "text/plain": [
       "'abcct@leet.com'"
      ]
     },
     "execution_count": 8,
     "metadata": {},
     "output_type": "execute_result"
    }
   ],
   "source": [
    "a[:3]+a[3+1:]"
   ]
  },
  {
   "cell_type": "code",
   "execution_count": 12,
   "metadata": {},
   "outputs": [
    {
     "name": "stdout",
     "output_type": "stream",
     "text": [
      "no\n"
     ]
    }
   ],
   "source": [
    "if '+' in a:\n",
    "    print('yes')\n",
    "else:\n",
    "    print('no')"
   ]
  },
  {
   "cell_type": "code",
   "execution_count": 14,
   "metadata": {},
   "outputs": [
    {
     "data": {
      "text/plain": [
       "'abcct@leetcom'"
      ]
     },
     "execution_count": 14,
     "metadata": {},
     "output_type": "execute_result"
    }
   ],
   "source": [
    "a.replace('.','')"
   ]
  },
  {
   "cell_type": "code",
   "execution_count": 17,
   "metadata": {},
   "outputs": [],
   "source": [
    "a,b=a.split('@')"
   ]
  },
  {
   "cell_type": "code",
   "execution_count": 19,
   "metadata": {},
   "outputs": [
    {
     "data": {
      "text/plain": [
       "'leet.com'"
      ]
     },
     "execution_count": 19,
     "metadata": {},
     "output_type": "execute_result"
    }
   ],
   "source": [
    "b"
   ]
  },
  {
   "cell_type": "code",
   "execution_count": null,
   "metadata": {},
   "outputs": [],
   "source": []
  }
 ],
 "metadata": {
  "kernelspec": {
   "display_name": "Python 3",
   "language": "python",
   "name": "python3"
  },
  "language_info": {
   "codemirror_mode": {
    "name": "ipython",
    "version": 3
   },
   "file_extension": ".py",
   "mimetype": "text/x-python",
   "name": "python",
   "nbconvert_exporter": "python",
   "pygments_lexer": "ipython3",
   "version": "3.6.8"
  }
 },
 "nbformat": 4,
 "nbformat_minor": 2
}
