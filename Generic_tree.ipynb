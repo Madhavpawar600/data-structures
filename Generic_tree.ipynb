{
 "cells": [
  {
   "cell_type": "code",
   "execution_count": 1,
   "metadata": {},
   "outputs": [],
   "source": [
    "#tree constructor and intialization\n",
    "class tree:\n",
    "    def __init__(self,data):\n",
    "        self.data=data\n",
    "        self.children=[]"
   ]
  },
  {
   "cell_type": "code",
   "execution_count": 69,
   "metadata": {},
   "outputs": [],
   "source": [
    "#insert data into generic tree or build generic tree\n",
    "def create(arr):\n",
    "    root=tree(arr[0])\n",
    "    stack=[root]\n",
    "    for i in range(1,len(arr)):\n",
    "        if arr[i]==-1:\n",
    "            stack.pop()\n",
    "        else:\n",
    "            node=tree(arr[i])\n",
    "            stack[-1].children.append(node)\n",
    "            stack.append(node)\n",
    "    return root\n",
    "arr=[10,20,50,-1,60,-1,-1,30,70,-1,80,110,-1,120,-1,-1,90,-1,-1,40,100]\n",
    "gentree=create(arr)"
   ]
  },
  {
   "cell_type": "code",
   "execution_count": 70,
   "metadata": {},
   "outputs": [
    {
     "name": "stdout",
     "output_type": "stream",
     "text": [
      "10 ->20 30 40 .\n",
      "20 ->50 60 .\n",
      "50 ->.\n",
      "60 ->.\n",
      "30 ->70 80 90 .\n",
      "70 ->.\n",
      "80 ->110 120 .\n",
      "110 ->.\n",
      "120 ->.\n",
      "90 ->.\n",
      "40 ->100 .\n",
      "100 ->.\n"
     ]
    }
   ],
   "source": [
    "def display(root):\n",
    "    if root==None:\n",
    "        return\n",
    "    print(root.data,'->',end='')\n",
    "    for node in root.children:\n",
    "        print(node.data,end=' ')\n",
    "    print('.')\n",
    "    \n",
    "    for node in root.children:\n",
    "        display(node)\n",
    "display(gentree)      "
   ]
  },
  {
   "cell_type": "code",
   "execution_count": 56,
   "metadata": {},
   "outputs": [
    {
     "name": "stdout",
     "output_type": "stream",
     "text": [
      "10 "
     ]
    }
   ],
   "source": [
    "def preorder(root):\n",
    "    if root==None:\n",
    "        return\n",
    "    print(root.data,end=' ')\n",
    "    for child in root.children:\n",
    "        preorder(child)\n",
    "preorder(gentree)"
   ]
  },
  {
   "cell_type": "code",
   "execution_count": 32,
   "metadata": {},
   "outputs": [
    {
     "name": "stdout",
     "output_type": "stream",
     "text": [
      "50 60 20 70 110 120 80 90 30 100 40 10 "
     ]
    }
   ],
   "source": [
    "def postorder(root):\n",
    "    if root==None:\n",
    "        return\n",
    "    for child in root.children:\n",
    "        postorder(child)\n",
    "    print(root.data,end=' ')\n",
    "postorder(gentree)"
   ]
  },
  {
   "cell_type": "code",
   "execution_count": 35,
   "metadata": {},
   "outputs": [],
   "source": [
    "def traverse(root):\n",
    "    print('node pre:',root.data)\n",
    "    for child in root.children:\n",
    "        print('edge pre:',root.data,'--',child.data)\n",
    "        traverse(child)\n",
    "        print('edge post:',root.data,'--',child.data)\n",
    "    print('node post:',root.data)\n",
    "#traverse(gentree)"
   ]
  },
  {
   "cell_type": "code",
   "execution_count": 37,
   "metadata": {},
   "outputs": [
    {
     "data": {
      "text/plain": [
       "120"
      ]
     },
     "execution_count": 37,
     "metadata": {},
     "output_type": "execute_result"
    }
   ],
   "source": [
    "import sys\n",
    "def maximum(root):\n",
    "    maxele=-sys.maxsize\n",
    "    for child in root.children:\n",
    "        currmax=maximum(child)\n",
    "        maxele=max(maxele,currmax)\n",
    "    maxele=max(maxele,root.data)\n",
    "    return maxele\n",
    "maximum(gentree) "
   ]
  },
  {
   "cell_type": "code",
   "execution_count": 39,
   "metadata": {},
   "outputs": [
    {
     "data": {
      "text/plain": [
       "4"
      ]
     },
     "execution_count": 39,
     "metadata": {},
     "output_type": "execute_result"
    }
   ],
   "source": [
    "def height(root):\n",
    "    h=0\n",
    "    for child in root.children:\n",
    "        currh=height(child)\n",
    "        h=max(h,currh)\n",
    "    h+=1\n",
    "    return h\n",
    "height(gentree)"
   ]
  },
  {
   "cell_type": "code",
   "execution_count": 41,
   "metadata": {},
   "outputs": [
    {
     "data": {
      "text/plain": [
       "780"
      ]
     },
     "execution_count": 41,
     "metadata": {},
     "output_type": "execute_result"
    }
   ],
   "source": [
    "def sumoftree(root):\n",
    "    s=0\n",
    "    for child in root.children:\n",
    "        currsum=sumoftree(child)\n",
    "        s+=currsum\n",
    "    s+=root.data\n",
    "    return s\n",
    "sumoftree(gentree)"
   ]
  },
  {
   "cell_type": "code",
   "execution_count": 45,
   "metadata": {},
   "outputs": [
    {
     "data": {
      "text/plain": [
       "False"
      ]
     },
     "execution_count": 45,
     "metadata": {},
     "output_type": "execute_result"
    }
   ],
   "source": [
    "def findele(root,k):\n",
    "    if root.data==k:\n",
    "        return True\n",
    "    for child in root.children:\n",
    "        ans=findele(child,k)\n",
    "        if ans:\n",
    "            return True\n",
    "    return False\n",
    "findele(gentree,140)"
   ]
  },
  {
   "cell_type": "code",
   "execution_count": 50,
   "metadata": {},
   "outputs": [
    {
     "name": "stdout",
     "output_type": "stream",
     "text": [
      "[110, 80, 30, 10]\n",
      "[50, 20, 10]\n"
     ]
    }
   ],
   "source": [
    "def findpath(root,k):\n",
    "    if root.data==k:\n",
    "        return [root.data]\n",
    "    for child in root.children:\n",
    "        ans=findpath(child,k)\n",
    "        if len(ans)>0:\n",
    "            ans.append(root.data)\n",
    "            return ans\n",
    "    return []\n",
    "print(findpath(gentree,110))\n",
    "print(findpath(gentree,50))"
   ]
  },
  {
   "cell_type": "code",
   "execution_count": 65,
   "metadata": {},
   "outputs": [],
   "source": [
    "def mirrorTree(root):\n",
    "    for child in root.children:\n",
    "        mirrorTree(child)\n",
    "    root.children=reversed(root.children)\n",
    "    return root\n",
    "mtree=mirrorTree(gentree)"
   ]
  },
  {
   "cell_type": "markdown",
   "metadata": {},
   "source": [
    "# Predecessor and successor"
   ]
  },
  {
   "cell_type": "code",
   "execution_count": 71,
   "metadata": {},
   "outputs": [
    {
     "name": "stdout",
     "output_type": "stream",
     "text": [
      "70 110\n"
     ]
    }
   ],
   "source": [
    "sucess=None\n",
    "pred=None\n",
    "state=0\n",
    "def predAndsucc(root,k):\n",
    "    global sucess,pred,state\n",
    "    if root.data==k:\n",
    "        state+=1\n",
    "    else:\n",
    "        if state==1:\n",
    "            sucess=root.data\n",
    "            state+=1\n",
    "        elif state==0:\n",
    "            pred=root.data\n",
    "    \n",
    "    for child in root.children:\n",
    "        predAndsucc(child,k)\n",
    "predAndsucc(gentree,80)\n",
    "print(pred,sucess)"
   ]
  },
  {
   "cell_type": "code",
   "execution_count": null,
   "metadata": {},
   "outputs": [],
   "source": []
  },
  {
   "cell_type": "code",
   "execution_count": null,
   "metadata": {},
   "outputs": [],
   "source": []
  }
 ],
 "metadata": {
  "kernelspec": {
   "display_name": "Python 3",
   "language": "python",
   "name": "python3"
  },
  "language_info": {
   "codemirror_mode": {
    "name": "ipython",
    "version": 3
   },
   "file_extension": ".py",
   "mimetype": "text/x-python",
   "name": "python",
   "nbconvert_exporter": "python",
   "pygments_lexer": "ipython3",
   "version": "3.6.8"
  }
 },
 "nbformat": 4,
 "nbformat_minor": 2
}
