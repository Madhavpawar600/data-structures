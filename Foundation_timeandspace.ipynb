{
 "cells": [
  {
   "cell_type": "markdown",
   "metadata": {},
   "source": [
    "# find pivot in sorted rotated array "
   ]
  },
  {
   "cell_type": "code",
   "execution_count": 1,
   "metadata": {},
   "outputs": [
    {
     "data": {
      "text/plain": [
       "1"
      ]
     },
     "execution_count": 1,
     "metadata": {},
     "output_type": "execute_result"
    }
   ],
   "source": [
    "def findpivot(arr):\n",
    "    low=0\n",
    "    high=len(arr)-1\n",
    "    while(low<high):\n",
    "        mid=(high+low)//2\n",
    "        if arr[mid]<arr[high]:\n",
    "            high=mid\n",
    "        else:\n",
    "            low=mid+1\n",
    "    return arr[high]\n",
    "findpivot([3,4,5,1,2])\n",
    "    "
   ]
  },
  {
   "cell_type": "markdown",
   "metadata": {},
   "source": [
    "# Merge two sorted array "
   ]
  },
  {
   "cell_type": "code",
   "execution_count": 9,
   "metadata": {},
   "outputs": [],
   "source": [
    "arr1=[1,3,5,7,9]\n",
    "arr2=[2,4,6,8,10]"
   ]
  },
  {
   "cell_type": "code",
   "execution_count": 14,
   "metadata": {},
   "outputs": [],
   "source": [
    "def mergetwosortedarray(arr1,arr2):\n",
    "    start1=0\n",
    "    start2=0\n",
    "    \n",
    "    sortedlist=[]\n",
    "    while start1<len(arr1) and start2<len(arr2):\n",
    "        if arr1[start1]<arr2[start2]:\n",
    "            sortedlist.append(arr1[start1])\n",
    "            start1+=1\n",
    "        else:\n",
    "            sortedlist.append(arr2[start2])\n",
    "            start2+=1\n",
    "    \n",
    "    while start1!=len(arr1):\n",
    "        sortedlist.append(arr1[start1])\n",
    "        start1+=1\n",
    "    while start2!=len(arr2):\n",
    "        sortedlist.append(arr2[start2])\n",
    "        start2+=1\n",
    "        \n",
    "    return sortedlist"
   ]
  },
  {
   "cell_type": "code",
   "execution_count": 15,
   "metadata": {},
   "outputs": [
    {
     "data": {
      "text/plain": [
       "[1, 2, 3, 4, 5, 6, 7, 8, 9, 10]"
      ]
     },
     "execution_count": 15,
     "metadata": {},
     "output_type": "execute_result"
    }
   ],
   "source": [
    "mergetwosortedarray(arr1,arr2)"
   ]
  },
  {
   "cell_type": "markdown",
   "metadata": {},
   "source": [
    "# merge sort "
   ]
  },
  {
   "cell_type": "code",
   "execution_count": 18,
   "metadata": {},
   "outputs": [],
   "source": [
    "def mergesort(arr,low,high):\n",
    "    if low>high:\n",
    "        return\n",
    "    if low==high:\n",
    "        return [arr[low]]\n",
    "    \n",
    "    mid=(low+high)//2\n",
    "    first=mergesort(arr,low,mid)\n",
    "    second=mergesort(arr,mid+1,high)\n",
    "    sortedlist=mergetwosortedarray(first,second)\n",
    "    return sortedlist"
   ]
  },
  {
   "cell_type": "code",
   "execution_count": 20,
   "metadata": {},
   "outputs": [
    {
     "data": {
      "text/plain": [
       "[1, 2, 3, 4, 5, 6, 8, 9, 10, 11, 12, 91, 455]"
      ]
     },
     "execution_count": 20,
     "metadata": {},
     "output_type": "execute_result"
    }
   ],
   "source": [
    "mergesort([2,4,1,3,5,8,6,9,12,11,10,91,455],0,12)"
   ]
  },
  {
   "cell_type": "markdown",
   "metadata": {},
   "source": [
    "# Partition an array with pivot "
   ]
  },
  {
   "cell_type": "code",
   "execution_count": 7,
   "metadata": {},
   "outputs": [],
   "source": [
    "def partition(arr,pivot,lo,hi):\n",
    "    i=lo\n",
    "    j=lo\n",
    "    while i<=hi:\n",
    "        if arr[i]>pivot:\n",
    "            i+=1\n",
    "        else:\n",
    "            #swap\n",
    "            temp=arr[i]\n",
    "            arr[i]=arr[j]\n",
    "            arr[j]=temp\n",
    "            i+=1\n",
    "            j+=1\n",
    "    return j-1"
   ]
  },
  {
   "cell_type": "code",
   "execution_count": 2,
   "metadata": {},
   "outputs": [
    {
     "data": {
      "text/plain": [
       "3"
      ]
     },
     "execution_count": 2,
     "metadata": {},
     "output_type": "execute_result"
    }
   ],
   "source": [
    "partition([0,2,1,3],3,0,3)"
   ]
  },
  {
   "cell_type": "markdown",
   "metadata": {},
   "source": [
    "# Quick sort"
   ]
  },
  {
   "cell_type": "code",
   "execution_count": 3,
   "metadata": {},
   "outputs": [],
   "source": [
    "def quicksort(arr,lo,hi):\n",
    "    if lo>hi:\n",
    "        return\n",
    "    pivot=arr[hi]\n",
    "    pi=partition(arr,pivot,lo,hi)\n",
    "    quicksort(arr,lo,pi-1)\n",
    "    quicksort(arr,pi+1,hi)"
   ]
  },
  {
   "cell_type": "code",
   "execution_count": 4,
   "metadata": {},
   "outputs": [],
   "source": [
    "unsorted=[12,34,11,1,4,3,98,90,7,3]"
   ]
  },
  {
   "cell_type": "code",
   "execution_count": 5,
   "metadata": {},
   "outputs": [],
   "source": [
    "quicksort(unsorted,0,len(unsorted)-1)"
   ]
  },
  {
   "cell_type": "code",
   "execution_count": 6,
   "metadata": {},
   "outputs": [
    {
     "data": {
      "text/plain": [
       "[1, 3, 3, 4, 7, 11, 12, 34, 90, 98]"
      ]
     },
     "execution_count": 6,
     "metadata": {},
     "output_type": "execute_result"
    }
   ],
   "source": [
    "unsorted"
   ]
  },
  {
   "cell_type": "markdown",
   "metadata": {},
   "source": [
    "# Quickselect \n",
    "find kth element in unsorted list"
   ]
  },
  {
   "cell_type": "code",
   "execution_count": 42,
   "metadata": {},
   "outputs": [],
   "source": [
    "def quickselect(arr,k,lo,hi):\n",
    "    pivot=arr[hi]\n",
    "    pi=partition(arr,pivot,lo,hi)\n",
    "    if pi==k-1:\n",
    "        return arr[pi]\n",
    "    elif pi<k-1:\n",
    "        return quickselect(arr,k,pi+1,hi)\n",
    "    else:\n",
    "        return quickselect(arr,k,0,pi-1)\n",
    "    return None\n",
    "        "
   ]
  },
  {
   "cell_type": "code",
   "execution_count": 43,
   "metadata": {},
   "outputs": [],
   "source": [
    "arr=[2,5,1,34,56,78,9]"
   ]
  },
  {
   "cell_type": "code",
   "execution_count": 45,
   "metadata": {},
   "outputs": [
    {
     "data": {
      "text/plain": [
       "1"
      ]
     },
     "execution_count": 45,
     "metadata": {},
     "output_type": "execute_result"
    }
   ],
   "source": [
    "quickselect(arr,1,0,6)"
   ]
  },
  {
   "cell_type": "markdown",
   "metadata": {},
   "source": [
    "# sort 0 1 "
   ]
  },
  {
   "cell_type": "code",
   "execution_count": 91,
   "metadata": {},
   "outputs": [],
   "source": [
    "def sort_01(arr):\n",
    "    i=0\n",
    "    j=0\n",
    "    while i<len(arr):\n",
    "        if arr[i]>0:\n",
    "            i+=1\n",
    "        else:\n",
    "            #swap\n",
    "            temp=arr[i]\n",
    "            arr[i]=arr[j]\n",
    "            arr[j]=temp\n",
    "            i+=1\n",
    "            j+=1\n",
    "    return arr"
   ]
  },
  {
   "cell_type": "code",
   "execution_count": 92,
   "metadata": {},
   "outputs": [
    {
     "data": {
      "text/plain": [
       "[0, 0, 0, 0, 0, 1, 1, 1, 1, 1]"
      ]
     },
     "execution_count": 92,
     "metadata": {},
     "output_type": "execute_result"
    }
   ],
   "source": [
    "sort_01([0,1,1,0,0,0,1,1,0,1])"
   ]
  },
  {
   "cell_type": "markdown",
   "metadata": {},
   "source": [
    "# Sort 0 1 2 "
   ]
  },
  {
   "cell_type": "code",
   "execution_count": 99,
   "metadata": {},
   "outputs": [],
   "source": [
    "def sort012(arr):\n",
    "    i=0\n",
    "    j=0\n",
    "    k=len(arr)-1\n",
    "    \n",
    "    while i<=k:\n",
    "        if arr[i]==0:\n",
    "            #swap with j and inc i,j\n",
    "            temp=arr[i]\n",
    "            arr[i]=arr[j]\n",
    "            arr[j]=temp\n",
    "            i+=1\n",
    "            j+=1\n",
    "            \n",
    "        elif arr[i]==1:\n",
    "            i+=1\n",
    "        else:\n",
    "            #swap with k and dec k\n",
    "            temp=arr[i]\n",
    "            arr[i]=arr[k]\n",
    "            arr[k]=temp\n",
    "            k-=1\n",
    "\n",
    "    return arr"
   ]
  },
  {
   "cell_type": "code",
   "execution_count": 100,
   "metadata": {},
   "outputs": [
    {
     "data": {
      "text/plain": [
       "[0, 0, 0, 0, 1, 1, 1, 2, 2, 2, 2]"
      ]
     },
     "execution_count": 100,
     "metadata": {},
     "output_type": "execute_result"
    }
   ],
   "source": [
    "sort012([1,2,0,2,1,2,0,1,2,0,0])"
   ]
  },
  {
   "cell_type": "markdown",
   "metadata": {},
   "source": [
    "# Bubble sort "
   ]
  },
  {
   "cell_type": "code",
   "execution_count": 110,
   "metadata": {},
   "outputs": [],
   "source": [
    "def bubblesort(arr):\n",
    "    n=len(arr)\n",
    "    for i in range(0,n-1):\n",
    "        for j in range(0,n-i-1):\n",
    "            if arr[j]>arr[j+1]:\n",
    "                temp=arr[j]\n",
    "                arr[j]=arr[j+1]\n",
    "                arr[j+1]=temp\n",
    "\n",
    "    return arr"
   ]
  },
  {
   "cell_type": "code",
   "execution_count": 112,
   "metadata": {},
   "outputs": [
    {
     "data": {
      "text/plain": [
       "[-12, 0, 2, 4, 6, 11]"
      ]
     },
     "execution_count": 112,
     "metadata": {},
     "output_type": "execute_result"
    }
   ],
   "source": [
    "bubblesort([0,11,4,-12,2,6])"
   ]
  },
  {
   "cell_type": "markdown",
   "metadata": {},
   "source": [
    "# Selection sort \n",
    "select minimum and swap with ith value"
   ]
  },
  {
   "cell_type": "code",
   "execution_count": 114,
   "metadata": {},
   "outputs": [],
   "source": [
    "def selection_sort(arr):\n",
    "    for i in range(0,len(arr)-1):\n",
    "        _min=i\n",
    "        for j in range(i+1,len(arr)):\n",
    "            if arr[_min]>arr[j]:\n",
    "                _min=j\n",
    "        #swap min with arr[i]\n",
    "        temp=arr[i]\n",
    "        arr[i]=arr[_min]\n",
    "        arr[_min]=temp\n",
    "    return arr"
   ]
  },
  {
   "cell_type": "code",
   "execution_count": 116,
   "metadata": {},
   "outputs": [
    {
     "data": {
      "text/plain": [
       "[-9, 0, 1, 2, 4, 6, 7]"
      ]
     },
     "execution_count": 116,
     "metadata": {},
     "output_type": "execute_result"
    }
   ],
   "source": [
    "selection_sort([4,2,1,6,7,-9,0])"
   ]
  },
  {
   "cell_type": "markdown",
   "metadata": {},
   "source": [
    "# Insertion sort\n",
    "select the ith value and find its sorted position and insert their "
   ]
  },
  {
   "cell_type": "code",
   "execution_count": 8,
   "metadata": {},
   "outputs": [],
   "source": [
    "def insertion_sort(arr):\n",
    "    for i in range(1,len(arr)):\n",
    "        pos=i\n",
    "        curr_val=arr[i]\n",
    "        while pos>0 and arr[pos-1]>curr_val:\n",
    "            arr[pos]=arr[pos-1]\n",
    "            pos=pos-1\n",
    "        arr[pos]=curr_val\n",
    "    return arr\n",
    "            "
   ]
  },
  {
   "cell_type": "code",
   "execution_count": 9,
   "metadata": {},
   "outputs": [
    {
     "data": {
      "text/plain": [
       "[-1, 0, 2, 3, 5, 8, 9]"
      ]
     },
     "execution_count": 9,
     "metadata": {},
     "output_type": "execute_result"
    }
   ],
   "source": [
    "insertion_sort([3,2,0,8,5,9,-1])"
   ]
  },
  {
   "cell_type": "markdown",
   "metadata": {},
   "source": [
    "# count SOrt or frequency sort "
   ]
  },
  {
   "cell_type": "code",
   "execution_count": 142,
   "metadata": {},
   "outputs": [],
   "source": [
    "def countsort(arr,_min,_max):\n",
    "    _range=_max-_min+1\n",
    "    freq=[0 for x in range(_range)]\n",
    "    for i in range(0,len(arr)):\n",
    "        idx=arr[i]-_min\n",
    "        freq[idx]=freq[idx]+1\n",
    "    \n",
    "    for i in range(1,len(freq)):\n",
    "        freq[i]=freq[i-1]+freq[i]\n",
    "    ans=[0 for x in range(0,len(arr))]\n",
    "    for x in range(len(arr)-1,-1,-1):\n",
    "        val=arr[x]\n",
    "        pos=freq[val-_min]\n",
    "        freq[val-_min]=freq[val-_min]-1\n",
    "        idx=pos-1\n",
    "        ans[idx]=val\n",
    "    return ans"
   ]
  },
  {
   "cell_type": "code",
   "execution_count": 143,
   "metadata": {},
   "outputs": [
    {
     "data": {
      "text/plain": [
       "[4, 4, 4, 4, 5, 6, 6, 6, 7, 8, 8]"
      ]
     },
     "execution_count": 143,
     "metadata": {},
     "output_type": "execute_result"
    }
   ],
   "source": [
    "countsort([4,5,8,6,7,8,4,4,4,6,6],4,8)"
   ]
  },
  {
   "cell_type": "markdown",
   "metadata": {},
   "source": [
    "# Radix sort"
   ]
  },
  {
   "cell_type": "code",
   "execution_count": 173,
   "metadata": {},
   "outputs": [],
   "source": [
    "def countsortR(arr,exp):\n",
    "    freq=[0 for x in range(10)]\n",
    "    for i in range(0,len(arr)):\n",
    "        idx=arr[i]//exp %10\n",
    "        freq[idx]=freq[idx]+1\n",
    "    \n",
    "    for i in range(1,len(freq)):\n",
    "        freq[i]=freq[i-1]+freq[i]\n",
    "    ans=[0 for x in range(0,len(arr))]\n",
    "    for x in range(len(arr)-1,-1,-1):\n",
    "        val=arr[x]//exp%10\n",
    "        pos=freq[val]\n",
    "        freq[val]=freq[val]-1\n",
    "        idx=pos-1\n",
    "        ans[idx]=arr[x]\n",
    "    for i in range(0,len(arr)):\n",
    "        arr[i]=ans[i]"
   ]
  },
  {
   "cell_type": "code",
   "execution_count": 174,
   "metadata": {},
   "outputs": [],
   "source": [
    "import sys\n",
    "def radixsort(arr):\n",
    "    _max=-sys.maxsize\n",
    "    for i in range(0,len(arr)):\n",
    "        _max=max(arr[i],_max)\n",
    "    exp=1\n",
    "    while exp<=_max:\n",
    "        countsortR(arr,exp)\n",
    "        exp=exp*10\n",
    "    \n",
    "    return arr"
   ]
  },
  {
   "cell_type": "code",
   "execution_count": 175,
   "metadata": {},
   "outputs": [
    {
     "data": {
      "text/plain": [
       "[257, 267, 345, 351]"
      ]
     },
     "execution_count": 175,
     "metadata": {},
     "output_type": "execute_result"
    }
   ],
   "source": [
    "radixsort([345,267,351,257])"
   ]
  },
  {
   "cell_type": "code",
   "execution_count": 11,
   "metadata": {},
   "outputs": [],
   "source": [
    "a='erfc'"
   ]
  },
  {
   "cell_type": "code",
   "execution_count": 14,
   "metadata": {},
   "outputs": [
    {
     "data": {
      "text/plain": [
       "['e', 'r', 'f', 'c']"
      ]
     },
     "execution_count": 14,
     "metadata": {},
     "output_type": "execute_result"
    }
   ],
   "source": [
    "list(a)"
   ]
  },
  {
   "cell_type": "code",
   "execution_count": 15,
   "metadata": {},
   "outputs": [],
   "source": [
    "import sys"
   ]
  },
  {
   "cell_type": "code",
   "execution_count": 16,
   "metadata": {},
   "outputs": [
    {
     "data": {
      "text/plain": [
       "9223372036854775807"
      ]
     },
     "execution_count": 16,
     "metadata": {},
     "output_type": "execute_result"
    }
   ],
   "source": [
    "sys.maxsize"
   ]
  },
  {
   "cell_type": "code",
   "execution_count": null,
   "metadata": {},
   "outputs": [],
   "source": []
  }
 ],
 "metadata": {
  "kernelspec": {
   "display_name": "Python 3",
   "language": "python",
   "name": "python3"
  },
  "language_info": {
   "codemirror_mode": {
    "name": "ipython",
    "version": 3
   },
   "file_extension": ".py",
   "mimetype": "text/x-python",
   "name": "python",
   "nbconvert_exporter": "python",
   "pygments_lexer": "ipython3",
   "version": "3.6.8"
  }
 },
 "nbformat": 4,
 "nbformat_minor": 2
}
