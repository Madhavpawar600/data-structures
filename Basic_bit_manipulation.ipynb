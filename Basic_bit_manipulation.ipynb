{
 "cells": [
  {
   "cell_type": "markdown",
   "metadata": {},
   "source": [
    "# Basic bitwise operators"
   ]
  },
  {
   "cell_type": "code",
   "execution_count": 8,
   "metadata": {},
   "outputs": [
    {
     "name": "stdout",
     "output_type": "stream",
     "text": [
      "a and b 0\n",
      "a or b 14\n",
      "a xor b 14\n",
      "a left shift 20\n",
      "b left shift 8\n",
      "a right shift 5\n",
      "b right shift 2\n",
      "complement a -11\n",
      "complement b -5\n"
     ]
    }
   ],
   "source": [
    "a=10\n",
    "b=4\n",
    "print('a and b',a & b)\n",
    "print('a or b',a | b)\n",
    "print('a xor b',a ^ b)\n",
    "print('a left shift',a<<1)\n",
    "print('b left shift',b<<1)\n",
    "print('a right shift',a>>1)\n",
    "print('b right shift',b>>1)\n",
    "print('complement a',~a)\n",
    "print(\"complement b\",~b)"
   ]
  },
  {
   "cell_type": "code",
   "execution_count": 10,
   "metadata": {},
   "outputs": [
    {
     "data": {
      "text/plain": [
       "18"
      ]
     },
     "execution_count": 10,
     "metadata": {},
     "output_type": "execute_result"
    }
   ],
   "source": [
    "int('10010',2)"
   ]
  },
  {
   "cell_type": "code",
   "execution_count": 15,
   "metadata": {},
   "outputs": [
    {
     "data": {
      "text/plain": [
       "'1011001'"
      ]
     },
     "execution_count": 15,
     "metadata": {},
     "output_type": "execute_result"
    }
   ],
   "source": [
    "bin(89).replace('0b','')"
   ]
  },
  {
   "cell_type": "markdown",
   "metadata": {},
   "source": [
    "# decimal to binary"
   ]
  },
  {
   "cell_type": "code",
   "execution_count": 52,
   "metadata": {},
   "outputs": [],
   "source": [
    "def decimaltobinary(n):\n",
    "    if n>1:\n",
    "        decimaltobinary(n//2)\n",
    "    print(n%2,end='')"
   ]
  },
  {
   "cell_type": "code",
   "execution_count": 60,
   "metadata": {},
   "outputs": [
    {
     "name": "stdout",
     "output_type": "stream",
     "text": [
      "1100\n",
      "1000011\n",
      "1011010"
     ]
    }
   ],
   "source": [
    "decimaltobinary(12)\n",
    "print('')\n",
    "decimaltobinary(67)\n",
    "print('')\n",
    "decimaltobinary(90)"
   ]
  },
  {
   "cell_type": "code",
   "execution_count": 26,
   "metadata": {},
   "outputs": [],
   "source": [
    "#with helpof inbuilt func bin\n",
    "def dectobin(n):\n",
    "    return bin(n).replace('0b','')"
   ]
  },
  {
   "cell_type": "code",
   "execution_count": 31,
   "metadata": {},
   "outputs": [
    {
     "name": "stdout",
     "output_type": "stream",
     "text": [
      "1100\n",
      "1000011\n",
      "1011010\n"
     ]
    }
   ],
   "source": [
    "print(dectobin(12))\n",
    "print(dectobin(67))\n",
    "print(dectobin(90))"
   ]
  },
  {
   "cell_type": "markdown",
   "metadata": {},
   "source": [
    "# Binary to decimal"
   ]
  },
  {
   "cell_type": "code",
   "execution_count": 44,
   "metadata": {},
   "outputs": [],
   "source": [
    "def binarytodecimal(binary):\n",
    "    counter=0\n",
    "    ans=0\n",
    "    while binary!=0:\n",
    "        ls=binary%10\n",
    "        if ls!=0:\n",
    "            ans+=pow(2,counter)\n",
    "        binary=binary//10\n",
    "        counter+=1\n",
    "    return ans"
   ]
  },
  {
   "cell_type": "code",
   "execution_count": 45,
   "metadata": {},
   "outputs": [
    {
     "name": "stdout",
     "output_type": "stream",
     "text": [
      "25\n",
      "2\n",
      "1642\n"
     ]
    }
   ],
   "source": [
    "print(binarytodecimal(11001))\n",
    "print(binarytodecimal(10))\n",
    "print(binarytodecimal(11001101010))"
   ]
  },
  {
   "cell_type": "markdown",
   "metadata": {},
   "source": [
    "# Binary to decimal using builtin int fun\n",
    "in this we need binary value in string"
   ]
  },
  {
   "cell_type": "code",
   "execution_count": 46,
   "metadata": {},
   "outputs": [],
   "source": [
    "def bin2dec(binary):\n",
    "    binary=str(binary)\n",
    "    return int(binary,2)\n",
    "    "
   ]
  },
  {
   "cell_type": "code",
   "execution_count": 48,
   "metadata": {},
   "outputs": [
    {
     "name": "stdout",
     "output_type": "stream",
     "text": [
      "12\n",
      "2\n"
     ]
    }
   ],
   "source": [
    "print(bin2dec(1100))\n",
    "print(bin2dec(10))"
   ]
  },
  {
   "cell_type": "markdown",
   "metadata": {},
   "source": [
    "# 2's Compliment"
   ]
  },
  {
   "cell_type": "code",
   "execution_count": 72,
   "metadata": {},
   "outputs": [],
   "source": [
    "def compliment2(number):\n",
    "    deci=dectobin(number)\n",
    "    deci=int(deci)\n",
    "    comp=~deci\n",
    "    print(deci)\n",
    "    print(comp)\n",
    "    return comp+1"
   ]
  },
  {
   "cell_type": "code",
   "execution_count": 76,
   "metadata": {},
   "outputs": [
    {
     "name": "stdout",
     "output_type": "stream",
     "text": [
      "101101\n",
      "-101102\n"
     ]
    },
    {
     "data": {
      "text/plain": [
       "-101101"
      ]
     },
     "execution_count": 76,
     "metadata": {},
     "output_type": "execute_result"
    }
   ],
   "source": [
    "compliment2(45)"
   ]
  },
  {
   "cell_type": "markdown",
   "metadata": {},
   "source": []
  },
  {
   "cell_type": "code",
   "execution_count": null,
   "metadata": {},
   "outputs": [],
   "source": []
  }
 ],
 "metadata": {
  "kernelspec": {
   "display_name": "Python 3",
   "language": "python",
   "name": "python3"
  },
  "language_info": {
   "codemirror_mode": {
    "name": "ipython",
    "version": 3
   },
   "file_extension": ".py",
   "mimetype": "text/x-python",
   "name": "python",
   "nbconvert_exporter": "python",
   "pygments_lexer": "ipython3",
   "version": "3.6.8"
  }
 },
 "nbformat": 4,
 "nbformat_minor": 2
}
