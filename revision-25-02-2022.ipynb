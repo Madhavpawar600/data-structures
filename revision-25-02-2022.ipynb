{
 "cells": [
  {
   "cell_type": "code",
   "execution_count": 4,
   "metadata": {},
   "outputs": [],
   "source": [
    "import sys"
   ]
  },
  {
   "cell_type": "code",
   "execution_count": 33,
   "metadata": {},
   "outputs": [],
   "source": [
    "graph = {\n",
    "    '1':['3', '6'],\n",
    "    '2':['4', '5', '6'],\n",
    "    '3':['1', '4'],\n",
    "    '4':['2', '3'],\n",
    "    '5':['2', '6'],\n",
    "    '6':['2', '5', '1']\n",
    "}\n",
    "\n",
    "\n",
    "graph2 = {\n",
    "    'a': [('b', 20), ('g', 90)],\n",
    "    'b': [('f', 10)],\n",
    "    'c': [('d', 10), ('f', 50)],\n",
    "    'd': [('c', 5), ('g', 20)],\n",
    "    'e': [('b', 50), ('g', 30)],\n",
    "    'f': [('c', 10), ('d', 3)],\n",
    "    'g': [('a', 20)],\n",
    "}\n",
    "\n",
    "graph3 = {\n",
    "    '0': [],\n",
    "    '1': [],\n",
    "    '2': ['3'],\n",
    "    '3': ['1'],\n",
    "    '4': ['1', '0'],\n",
    "    '5': ['2', '0']\n",
    "}"
   ]
  },
  {
   "cell_type": "markdown",
   "metadata": {},
   "source": [
    "### Min & Max with their path "
   ]
  },
  {
   "cell_type": "code",
   "execution_count": 34,
   "metadata": {},
   "outputs": [
    {
     "name": "stdout",
     "output_type": "stream",
     "text": [
      "minimum 1 @ 1->3\n",
      "maximum 5 @ 1->6->5->2->4->3\n"
     ]
    }
   ],
   "source": [
    "def minMax(graph, src, dest, visited, val, path):\n",
    "    \n",
    "    global minPath, maxPath, minValue, maxValue\n",
    "    \n",
    "    if src == dest:\n",
    "        if val < minValue:\n",
    "            minValue = val\n",
    "            minPath = path\n",
    "        if val > maxValue:\n",
    "            maxValue = val\n",
    "            maxPath = path\n",
    "        return\n",
    "    \n",
    "    if src not in visited:\n",
    "        visited.add(src)\n",
    "        for nbr in graph[src]:\n",
    "            if nbr not in visited:\n",
    "                minMax(graph, nbr, dest, visited, val + 1, path + '->' + nbr)\n",
    "        visited.remove(src)\n",
    "\n",
    "minPath = None\n",
    "maxPath = None\n",
    "minValue = sys.maxsize\n",
    "maxValue = -sys.maxsize\n",
    "visited = set()\n",
    "minMax(graph, '1', '3', visited, 0, '1')\n",
    "print('minimum', minValue, '@', minPath)\n",
    "print('maximum', maxValue, '@', maxPath)"
   ]
  },
  {
   "cell_type": "markdown",
   "metadata": {},
   "source": [
    "### Spread Infection "
   ]
  },
  {
   "cell_type": "code",
   "execution_count": 24,
   "metadata": {},
   "outputs": [
    {
     "data": {
      "text/plain": [
       "2"
      ]
     },
     "execution_count": 24,
     "metadata": {},
     "output_type": "execute_result"
    }
   ],
   "source": [
    "def spreadInfection(graph, src):\n",
    "    \n",
    "    time = 0\n",
    "    queue = [(src, time)]\n",
    "    visited = set()\n",
    "    visited.add(src)\n",
    "    while queue:\n",
    "        ls = list()\n",
    "        for _ in range(len(queue)):\n",
    "            node, time = queue.pop(0)\n",
    "            for nbr in graph[node]:\n",
    "                if nbr not in visited:\n",
    "                    ls.append((nbr, time+1))\n",
    "                    visited.add(nbr)\n",
    "        queue = ls\n",
    "    return time\n",
    "visited = set()\n",
    "spreadInfection(graph, '1')"
   ]
  },
  {
   "cell_type": "markdown",
   "metadata": {},
   "source": [
    "### dijkstra Algorithm "
   ]
  },
  {
   "cell_type": "code",
   "execution_count": 31,
   "metadata": {},
   "outputs": [
    {
     "name": "stdout",
     "output_type": "stream",
     "text": [
      "shortest:- 38 @ a->b->f->d->c\n"
     ]
    }
   ],
   "source": [
    "from heapq import *\n",
    "def shortestPath(graph, src, dest):\n",
    "    visited = set()\n",
    "    queue = []\n",
    "    heappush(queue, (0, src, src)) #weight, node, path \n",
    "    \n",
    "    while queue:\n",
    "        cwt, node, path = heappop(queue)\n",
    "        if node not in visited:\n",
    "            visited.add(node)\n",
    "            if node == dest:\n",
    "                break\n",
    "            for nbr, wt in graph[node]:\n",
    "                if nbr not in visited:\n",
    "                    heappush(queue, (cwt+wt, nbr, path + '->' + nbr))\n",
    "    print(\"shortest:-\", cwt, '@', path)\n",
    "    \n",
    "shortestPath(graph2, 'a', 'c')"
   ]
  },
  {
   "cell_type": "markdown",
   "metadata": {},
   "source": [
    "### Topological sort "
   ]
  },
  {
   "cell_type": "code",
   "execution_count": 35,
   "metadata": {},
   "outputs": [
    {
     "name": "stdout",
     "output_type": "stream",
     "text": [
      "5 4 2 3 1 0 "
     ]
    }
   ],
   "source": [
    "def topoHelper(graph, src, stack, visited):\n",
    "    visited.add(src)\n",
    "    for nbr in graph[src]:\n",
    "        if nbr not in visited:\n",
    "            topoHelper(graph, nbr, stack, visited)\n",
    "    stack.append(src)\n",
    "\n",
    "def topologicalSort(graph):\n",
    "    visited = set()\n",
    "    stack = []\n",
    "    for src in graph.keys():\n",
    "        if src not in visited:\n",
    "            topoHelper(graph, src, stack, visited)\n",
    "    while stack:\n",
    "        print(stack.pop(), end=' ')\n",
    "\n",
    "topologicalSort(graph3)"
   ]
  },
  {
   "cell_type": "code",
   "execution_count": 36,
   "metadata": {},
   "outputs": [],
   "source": [
    "from collections import defaultdict"
   ]
  },
  {
   "cell_type": "code",
   "execution_count": 39,
   "metadata": {},
   "outputs": [],
   "source": [
    "graph4 = {\n",
    "    0:[1,2,3],\n",
    "    1:[0],\n",
    "    2:[0],\n",
    "    3:[0]\n",
    "}"
   ]
  },
  {
   "cell_type": "code",
   "execution_count": null,
   "metadata": {},
   "outputs": [],
   "source": [
    "def shelper(graph, src, visited, path):\n",
    "    if len(visited)\n",
    "    \n",
    "def shortestPathLength(graph): # leetcode 847\n",
    "    minlength = 999\n",
    "    for src in graph.keys():\n",
    "        shelper(graph, src, visited, str(src))\n",
    "shortestPathLength(graph4)"
   ]
  },
  {
   "cell_type": "code",
   "execution_count": 44,
   "metadata": {},
   "outputs": [
    {
     "data": {
      "text/plain": [
       "'bca'"
      ]
     },
     "execution_count": 44,
     "metadata": {},
     "output_type": "execute_result"
    }
   ],
   "source": [
    "\"abca\".replace('a', '', 1)"
   ]
  },
  {
   "cell_type": "code",
   "execution_count": null,
   "metadata": {},
   "outputs": [],
   "source": []
  }
 ],
 "metadata": {
  "kernelspec": {
   "display_name": "Python 3",
   "language": "python",
   "name": "python3"
  },
  "language_info": {
   "codemirror_mode": {
    "name": "ipython",
    "version": 3
   },
   "file_extension": ".py",
   "mimetype": "text/x-python",
   "name": "python",
   "nbconvert_exporter": "python",
   "pygments_lexer": "ipython3",
   "version": "3.8.10"
  }
 },
 "nbformat": 4,
 "nbformat_minor": 4
}
