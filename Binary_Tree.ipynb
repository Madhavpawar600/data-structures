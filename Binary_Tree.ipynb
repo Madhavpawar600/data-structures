{
 "cells": [
  {
   "cell_type": "markdown",
   "metadata": {},
   "source": [
    "# Binary tree intialization or creation from an array"
   ]
  },
  {
   "cell_type": "code",
   "execution_count": 2,
   "metadata": {},
   "outputs": [],
   "source": [
    "class Tree:\n",
    "    def __init__(self,data):\n",
    "        self.data=data\n",
    "        self.left=None\n",
    "        self.right=None\n",
    "        \n",
    "class Pair:\n",
    "    def __init__(self,data,state):\n",
    "        self.state=state\n",
    "        self.node=data\n",
    "        \n",
    "def create_tree(arr):\n",
    "    stack=[]\n",
    "    root=Tree(arr[0])\n",
    "    p1=Pair(root,1)\n",
    "    stack.append(p1)\n",
    "    idx=0\n",
    "    while len(stack)!=0:\n",
    "        top=stack[-1]\n",
    "        if top.state==1:\n",
    "            idx+=1\n",
    "            if arr[idx]!=None:\n",
    "                new_node=Tree(arr[idx])\n",
    "                top.node.left=new_node\n",
    "                p1=Pair(top.node.left,1)\n",
    "                stack.append(p1)\n",
    "            else:\n",
    "                top.node.right=None\n",
    "            top.state+=1\n",
    "        elif top.state==2:\n",
    "            idx+=1\n",
    "            if arr[idx]!=None:\n",
    "                new_node=Tree(arr[idx])\n",
    "                top.node.right=new_node\n",
    "                p1=Pair(top.node.right,1)\n",
    "                stack.append(p1)\n",
    "            else:\n",
    "                top.node.right=None\n",
    "            top.state+=1\n",
    "        elif top.state==3:\n",
    "            stack.pop()        \n",
    "    return root\n",
    "\n",
    "arr=[50,25,12,None,None,37,30,None,None,None,75,62,None,70,None,None,87,None,None]\n",
    "arr2=[25,12,40,None,None,30,15,None,None,20,None,None,36,29,26,None,None,31,None,None,40,37,None,None,45,None,None]\n",
    "tree1=create_tree(arr)\n",
    "tree2=create_tree(arr2)"
   ]
  },
  {
   "cell_type": "markdown",
   "metadata": {},
   "source": [
    "# Insert Binary tree"
   ]
  },
  {
   "cell_type": "code",
   "execution_count": 1,
   "metadata": {},
   "outputs": [],
   "source": [
    "def insert(tree,data):\n",
    "    if tree.data==None:\n",
    "        return\n",
    "    q=[tree]\n",
    "    while len(q)!=0:\n",
    "        root=q.pop(0)\n",
    "        if root.left is None:\n",
    "            root.left=Tree(data)\n",
    "        else:\n",
    "            q.append(root.left)\n",
    "            \n",
    "        if root.right is None:\n",
    "            root.right=Tree(data)\n",
    "        else:\n",
    "            q.append(root.right)\n",
    "            \n",
    "    return tree"
   ]
  },
  {
   "cell_type": "markdown",
   "metadata": {},
   "source": [
    "# Recursive Traversals (inorder,preorder,postorder) "
   ]
  },
  {
   "cell_type": "code",
   "execution_count": 5,
   "metadata": {},
   "outputs": [
    {
     "name": "stdout",
     "output_type": "stream",
     "text": [
      "inorder traversal:\n",
      "12 25 30 37 50 62 70 75 87 \n",
      "preorder traversal:\n",
      "50 25 12 37 30 75 62 70 87 \n",
      "postorder traversal:\n",
      "12 30 37 25 70 62 87 75 50 "
     ]
    }
   ],
   "source": [
    "def inorder(root):\n",
    "    if root==None:\n",
    "        return\n",
    "    if root.left:\n",
    "        inorder(root.left)\n",
    "    print(root.data,end=' ')\n",
    "    if root.right:\n",
    "        inorder(root.right)  \n",
    "print('inorder traversal:')\n",
    "inorder(tree1)\n",
    "\n",
    "def preorder(root):\n",
    "    if root==None:\n",
    "        return\n",
    "    print(root.data,end=' ')\n",
    "    if root.left:\n",
    "        preorder(root.left)\n",
    "    if root.right:\n",
    "        preorder(root.right)\n",
    "print('\\npreorder traversal:')\n",
    "preorder(tree1)\n",
    "\n",
    "def postorder(root):\n",
    "    if root==None:\n",
    "        return\n",
    "    if root.left:\n",
    "        postorder(root.left)\n",
    "    if root.right:\n",
    "        postorder(root.right)\n",
    "    print(root.data,end=' ')\n",
    "print('\\npostorder traversal:')\n",
    "postorder(tree1)"
   ]
  },
  {
   "cell_type": "code",
   "execution_count": 6,
   "metadata": {},
   "outputs": [
    {
     "name": "stdout",
     "output_type": "stream",
     "text": [
      "25 12 40 30 15 20 36 29 26 31 40 37 45 preorder: None\n",
      "40 12 15 30 20 25 26 29 31 36 37 40 45 inorder: None\n",
      "40 15 20 30 12 26 31 29 37 45 40 36 25 postorder: None\n"
     ]
    }
   ],
   "source": [
    "print('preorder:',preorder(tree2))\n",
    "print('inorder:',inorder(tree2))\n",
    "print('postorder:',postorder(tree2))"
   ]
  },
  {
   "cell_type": "markdown",
   "metadata": {},
   "source": [
    "# Level Order"
   ]
  },
  {
   "cell_type": "code",
   "execution_count": 9,
   "metadata": {},
   "outputs": [
    {
     "name": "stdout",
     "output_type": "stream",
     "text": [
      "50 \n",
      "\n",
      "25 75 \n",
      "\n",
      "12 37 62 87 \n",
      "\n",
      "30 70 \n",
      "\n"
     ]
    }
   ],
   "source": [
    "def level_order(root):\n",
    "    queue=[root]\n",
    "    while len(queue)!=0:\n",
    "        count=len(queue)\n",
    "        for i in range(0,count):\n",
    "            root=queue.pop(0)\n",
    "            print(root.data,end=' ')\n",
    "        \n",
    "            if root.left:\n",
    "                queue.append(root.left)\n",
    "            if root.right:\n",
    "                queue.append(root.right)\n",
    "        print('\\n')\n",
    "level_order(tree1)"
   ]
  },
  {
   "cell_type": "markdown",
   "metadata": {},
   "source": [
    "# Size, Sum, Max, Height of tree"
   ]
  },
  {
   "cell_type": "code",
   "execution_count": 48,
   "metadata": {},
   "outputs": [
    {
     "name": "stdout",
     "output_type": "stream",
     "text": [
      "sizeof tree: 9\n",
      "\n",
      "sumof tree: 448\n",
      "\n",
      "maxof tree: 87\n",
      "heightof tree: 4\n"
     ]
    }
   ],
   "source": [
    "def size(root):\n",
    "    if root == None:\n",
    "        return 0\n",
    "    ls=size(root.left)\n",
    "    rs=size(root.right)\n",
    "    ts=ls+rs+1\n",
    "    return ts\n",
    "print('sizeof tree:',size(tree1))\n",
    "\n",
    "def t_sum(root):\n",
    "    if root==None:\n",
    "        return 0\n",
    "    ls=t_sum(root.left)\n",
    "    rs=t_sum(root.right)\n",
    "    ts=rs+ls+root.data\n",
    "    return ts\n",
    "print('\\nsumof tree:',t_sum(tree1))\n",
    "\n",
    "def t_max(root):\n",
    "    if root==None:\n",
    "        return -sys.maxsize\n",
    "    ls=t_max(root.left)\n",
    "    rs=t_max(root.right)\n",
    "    ts=max(root.data,ls,rs)\n",
    "    return ts\n",
    "print('\\nmaxof tree:',t_max(tree1))\n",
    "\n",
    "def height(root):\n",
    "    if root==None:\n",
    "        return 0 #for edge=-1 or node=0\n",
    "    ls=height(root.left)\n",
    "    rs=height(root.right)\n",
    "    ts=max(ls,rs)+1\n",
    "    return ts\n",
    "print('heightof tree:',height(tree1))"
   ]
  },
  {
   "cell_type": "code",
   "execution_count": 58,
   "metadata": {},
   "outputs": [
    {
     "data": {
      "text/plain": [
       "6"
      ]
     },
     "execution_count": 58,
     "metadata": {},
     "output_type": "execute_result"
    }
   ],
   "source": [
    "#diameter=left_height of deepest child+right_height_of deepest child\n",
    "def diameter(root):\n",
    "    if root==None:\n",
    "        return 0\n",
    "    lh=height(root.left)\n",
    "    rh=height(root.right)\n",
    "    ld=diameter(root.left)\n",
    "    rd=diameter(root.right)\n",
    "    \n",
    "    return max(max(ld,rd),(lh+rh))\n",
    "\n",
    "diameter(tree1)"
   ]
  },
  {
   "cell_type": "markdown",
   "metadata": {},
   "source": [
    "# Width of binary tree "
   ]
  },
  {
   "cell_type": "code",
   "execution_count": 114,
   "metadata": {},
   "outputs": [
    {
     "name": "stdout",
     "output_type": "stream",
     "text": [
      "width: 5\n",
      "min -2\n",
      "max 2\n"
     ]
    }
   ],
   "source": [
    "leftmin=0\n",
    "rightmax=0\n",
    "def width(root,curr_level):\n",
    "    global leftmin,rightmax\n",
    "    if root==None:\n",
    "        return \n",
    "    leftmin=min(leftmin,curr_level)\n",
    "    rightmax=max(rightmax,curr_level)\n",
    "    \n",
    "    width(root.left,curr_level-1)\n",
    "    width(root.left,curr_level+1)\n",
    "width(tree1,0)\n",
    "print('width:',rightmax-leftmin+1)\n",
    "print('min',leftmin)\n",
    "print('max',rightmax)"
   ]
  },
  {
   "cell_type": "markdown",
   "metadata": {},
   "source": [
    "# Find Node and Node Path"
   ]
  },
  {
   "cell_type": "code",
   "execution_count": 7,
   "metadata": {},
   "outputs": [
    {
     "name": "stdout",
     "output_type": "stream",
     "text": [
      "find node: True\n",
      "find_node: False\n",
      "[<__main__.Tree object at 0x7f9aec0de080>, <__main__.Tree object at 0x7f9aec0de0b8>, <__main__.Tree object at 0x7f9aec0c2f28>, <__main__.Tree object at 0x7f9aec0c2f60>]\n"
     ]
    }
   ],
   "source": [
    "def find_node(root,data):\n",
    "    if root==None:\n",
    "        return False\n",
    "    if root.data==data:\n",
    "        return True\n",
    "    left=find_node(root.left,data)\n",
    "    if left:\n",
    "        return True\n",
    "    right=find_node(root.right,data)\n",
    "    if right:\n",
    "        return True\n",
    "    return False\n",
    "print('find node:',find_node(tree1,25))\n",
    "print('find_node:',find_node(tree1,36))\n",
    "\n",
    "#IT IS USED IN K FAR QUESTION THATS WHY WE APPEND ROOT NOT ROOT.DATA\n",
    "def node_path(root,data):\n",
    "    if root==None:\n",
    "        return []\n",
    "    if root.data==data:\n",
    "        return [root]\n",
    "    l_path=node_path(root.left,data)\n",
    "    if len(l_path)!=0:\n",
    "        l_path.append(root)\n",
    "        return l_path\n",
    "    r_path=node_path(root.right,data)\n",
    "    if len(r_path)!=0:\n",
    "        r_path.append(root)\n",
    "        return r_path\n",
    "    return []\n",
    "print(node_path(tree1,30))"
   ]
  },
  {
   "cell_type": "markdown",
   "metadata": {},
   "source": [
    "# Print K levels down"
   ]
  },
  {
   "cell_type": "code",
   "execution_count": 24,
   "metadata": {},
   "outputs": [
    {
     "name": "stdout",
     "output_type": "stream",
     "text": [
      "12 37 62 87 "
     ]
    }
   ],
   "source": [
    "def printklevelsdown(root,k):\n",
    "    if root==None or k<0:\n",
    "        return\n",
    "    if k==0:\n",
    "        print(root.data,end=' ')\n",
    "    printklevelsdown(root.left,k-1)\n",
    "    printklevelsdown(root.right,k-1)\n",
    "printklevelsdown(tree1,2)"
   ]
  },
  {
   "cell_type": "markdown",
   "metadata": {},
   "source": [
    "# Print K nodes away"
   ]
  },
  {
   "cell_type": "code",
   "execution_count": 34,
   "metadata": {},
   "outputs": [
    {
     "name": "stdout",
     "output_type": "stream",
     "text": [
      "12 50 "
     ]
    }
   ],
   "source": [
    "#modification for this question add blocker node\n",
    "def printklevelsdown(root,k,blocker):\n",
    "    if root==None or k<0 or root==blocker:\n",
    "        return\n",
    "    if k==0:\n",
    "        print(root.data,end=' ')\n",
    "    printklevelsdown(root.left,k-1,blocker)\n",
    "    printklevelsdown(root.right,k-1,blocker)\n",
    "def printknodesaway(root,data,k):\n",
    "    path=node_path(root,data)\n",
    "    for i in range(0,len(path)):\n",
    "        if i==0:\n",
    "            printklevelsdown(path[i],k-i,None)\n",
    "        else:\n",
    "            printklevelsdown(path[i],k-i,path[i-1])\n",
    "printknodesaway(tree1,37,2)"
   ]
  },
  {
   "cell_type": "markdown",
   "metadata": {},
   "source": [
    "# Print leaf to root"
   ]
  },
  {
   "cell_type": "code",
   "execution_count": 37,
   "metadata": {},
   "outputs": [
    {
     "name": "stdout",
     "output_type": "stream",
     "text": [
      "path: 50,25,12\n",
      "sum: 87\n",
      "path: 50,25,37,30\n",
      "sum: 142\n",
      "path: 50,75,62,70\n",
      "sum: 257\n",
      "path: 50,75,87\n",
      "sum: 212\n"
     ]
    }
   ],
   "source": [
    "def printleaftoroot(root,_sum,path):\n",
    "    if root==None:\n",
    "        return\n",
    "    if root.left==None and root.right==None:\n",
    "        _sum+=root.data\n",
    "        path+=str(root.data)\n",
    "        print(\"path:\",path)\n",
    "        print(\"sum:\",_sum)\n",
    "        return\n",
    "    printleaftoroot(root.left,_sum+root.data,path+str(root.data)+',')\n",
    "    printleaftoroot(root.right,_sum+root.data,path+str(root.data)+',')\n",
    "    \n",
    "printleaftoroot(tree1,0,'')"
   ]
  },
  {
   "cell_type": "markdown",
   "metadata": {},
   "source": [
    "# Path Sum "
   ]
  },
  {
   "cell_type": "code",
   "execution_count": 41,
   "metadata": {},
   "outputs": [],
   "source": [
    "def leafpathsum(root,_sum,path):\n",
    "    if root == None:\n",
    "        return\n",
    "    if root.left==None and root.right==None:\n",
    "        _sum-=root.data\n",
    "        path+=str(root.data)\n",
    "        if _sum==0:\n",
    "            print(path,'@',_sum)\n",
    "    \n",
    "    leafpathsum(root.left,_sum-root.data,path+str(root.data)+',')\n",
    "    leafpathsum(root.right,_sum-root.data,path+str(root.data)+',')"
   ]
  },
  {
   "cell_type": "code",
   "execution_count": 44,
   "metadata": {},
   "outputs": [
    {
     "name": "stdout",
     "output_type": "stream",
     "text": [
      "50,25,37,30 @ 0\n"
     ]
    }
   ],
   "source": [
    "leafpathsum(tree1,142,'')"
   ]
  },
  {
   "cell_type": "code",
   "execution_count": 13,
   "metadata": {},
   "outputs": [
    {
     "data": {
      "text/plain": [
       "[30, 37, 25, 50]"
      ]
     },
     "execution_count": 13,
     "metadata": {},
     "output_type": "execute_result"
    }
   ],
   "source": [
    "def leafpathsum(root,_sum):\n",
    "    if root == None:\n",
    "        return []\n",
    "    if root.left==None and root.right==None:\n",
    "        _sum-=root.data\n",
    "        if _sum==0:\n",
    "            return [root.data]\n",
    "    \n",
    "    ls=leafpathsum(root.left,_sum-root.data)\n",
    "    rs=leafpathsum(root.right,_sum-root.data)\n",
    "    if len(ls)!=0:\n",
    "        ls.append(root.data)\n",
    "        return ls\n",
    "    if len(rs)!=0:\n",
    "        rs.append(root.data)\n",
    "        return rs\n",
    "    return []\n",
    "leafpathsum(tree1,142)\n",
    "    "
   ]
  },
  {
   "cell_type": "code",
   "execution_count": 8,
   "metadata": {},
   "outputs": [
    {
     "name": "stdout",
     "output_type": "stream",
     "text": [
      "50 \n",
      "\n",
      "25 75 \n",
      "\n",
      "12 37 62 87 \n",
      "\n",
      "30 70 \n",
      "\n"
     ]
    }
   ],
   "source": [
    "level_order(tree1)"
   ]
  },
  {
   "cell_type": "markdown",
   "metadata": {},
   "source": [
    "# Maximum Path sum from leaf to root"
   ]
  },
  {
   "cell_type": "code",
   "execution_count": 39,
   "metadata": {},
   "outputs": [
    {
     "name": "stdout",
     "output_type": "stream",
     "text": [
      "257\n"
     ]
    }
   ],
   "source": [
    "import sys\n",
    "_max=-sys.maxsize\n",
    "def sumpath(root,_sum):\n",
    "    global _max\n",
    "    if root ==None:\n",
    "        return\n",
    "    if root.left==None and root.right==None:\n",
    "        _sum+=root.data\n",
    "        _max=max(_sum,_max)\n",
    "    sumpath(root.left,_sum+root.data)\n",
    "    sumpath(root.right,_sum+root.data)\n",
    "sumpath(tree1,0)\n",
    "print(_max)"
   ]
  },
  {
   "cell_type": "markdown",
   "metadata": {},
   "source": [
    "# Print single child Node"
   ]
  },
  {
   "cell_type": "code",
   "execution_count": 51,
   "metadata": {},
   "outputs": [
    {
     "name": "stdout",
     "output_type": "stream",
     "text": [
      "single child nodes:\n",
      "30 70 "
     ]
    }
   ],
   "source": [
    "def singlechildNode(root,parent):\n",
    "    if root==None:\n",
    "        return\n",
    "    if parent!=None and parent.left==root and parent.right==None:\n",
    "        print(root.data,end=' ')\n",
    "    elif parent!=None and parent.left==None and parent.right==root:\n",
    "        print(root.data,end=' ')\n",
    "    elif root.left==None and root.right==None:\n",
    "        return\n",
    "    singlechildNode(root.left,root)\n",
    "    singlechildNode(root.right,root)\n",
    "print('single child nodes:')\n",
    "singlechildNode(tree1,None)"
   ]
  },
  {
   "cell_type": "markdown",
   "metadata": {},
   "source": [
    "# Print leaf Nodes"
   ]
  },
  {
   "cell_type": "code",
   "execution_count": 54,
   "metadata": {},
   "outputs": [
    {
     "name": "stdout",
     "output_type": "stream",
     "text": [
      "12 30 70 87 "
     ]
    }
   ],
   "source": [
    "def leaves(root):\n",
    "    if root==None:\n",
    "        return\n",
    "    if root.left==None and root.right==None:\n",
    "        print(root.data,end=' ')\n",
    "    leaves(root.left)\n",
    "    leaves(root.right)\n",
    "leaves(tree1)"
   ]
  },
  {
   "cell_type": "markdown",
   "metadata": {},
   "source": [
    "# Remove leaves "
   ]
  },
  {
   "cell_type": "code",
   "execution_count": 64,
   "metadata": {},
   "outputs": [],
   "source": [
    "def remove_leaves(root):\n",
    "    if root==None:\n",
    "        return \n",
    "    if root.left==None and root.right==None:\n",
    "        return None\n",
    "    root.left=remove_leaves(root.left)\n",
    "    root.right=remove_leaves(root.right)\n",
    "    \n",
    "    return root"
   ]
  },
  {
   "cell_type": "code",
   "execution_count": 65,
   "metadata": {},
   "outputs": [
    {
     "name": "stdout",
     "output_type": "stream",
     "text": [
      "12 25 30 37 50 62 70 75 87 "
     ]
    }
   ],
   "source": [
    "inorder(tree1)"
   ]
  },
  {
   "cell_type": "code",
   "execution_count": 66,
   "metadata": {},
   "outputs": [
    {
     "data": {
      "text/plain": [
       "<__main__.Tree at 0x7f800c30c588>"
      ]
     },
     "execution_count": 66,
     "metadata": {},
     "output_type": "execute_result"
    }
   ],
   "source": [
    "remove_leaves(tree1)"
   ]
  },
  {
   "cell_type": "code",
   "execution_count": 67,
   "metadata": {},
   "outputs": [
    {
     "name": "stdout",
     "output_type": "stream",
     "text": [
      "25 37 50 62 75 "
     ]
    }
   ],
   "source": [
    "inorder(tree1)"
   ]
  },
  {
   "cell_type": "markdown",
   "metadata": {},
   "source": [
    "# Tilt of binary tree"
   ]
  },
  {
   "cell_type": "code",
   "execution_count": 71,
   "metadata": {},
   "outputs": [
    {
     "name": "stdout",
     "output_type": "stream",
     "text": [
      "390\n"
     ]
    }
   ],
   "source": [
    "#travel and change startegy\n",
    "tilt=0\n",
    "def tilt_tree(root):\n",
    "    global tilt\n",
    "    if root==None:\n",
    "        return 0 \n",
    "    ls=tilt_tree(root.left)\n",
    "    rs=tilt_tree(root.right)\n",
    "    l_tilt=abs(ls-rs)\n",
    "    tilt+=l_tilt\n",
    "    ts=ls+rs+root.data\n",
    "    return ts\n",
    "tilt_tree(tree1)\n",
    "print(tilt)"
   ]
  },
  {
   "cell_type": "markdown",
   "metadata": {},
   "source": [
    "# Is Binary search tree "
   ]
  },
  {
   "cell_type": "code",
   "execution_count": 74,
   "metadata": {},
   "outputs": [],
   "source": [
    "def is_bst(root):\n",
    "    if root==None:\n",
    "        return True\n",
    "    if root.left.data<=root.data and root.right.data>=root.data:\n",
    "        return True\n",
    "    elif root.left==None and root.right.data>=root.data:\n",
    "        return True\n",
    "    elif root.left.data<=root and root.right==None:\n",
    "        return True\n",
    "    else:\n",
    "        return False\n",
    "    \n",
    "    ls=is_bst(root.left)\n",
    "    rs=is_bst(root.right)\n",
    "    if ls and rs:\n",
    "        return True\n",
    "    return False"
   ]
  },
  {
   "cell_type": "code",
   "execution_count": 75,
   "metadata": {},
   "outputs": [
    {
     "data": {
      "text/plain": [
       "True"
      ]
     },
     "execution_count": 75,
     "metadata": {},
     "output_type": "execute_result"
    }
   ],
   "source": [
    "is_bst(tree1)"
   ]
  },
  {
   "cell_type": "code",
   "execution_count": 76,
   "metadata": {},
   "outputs": [
    {
     "name": "stdout",
     "output_type": "stream",
     "text": [
      "12 25 30 37 50 62 70 75 87 "
     ]
    }
   ],
   "source": [
    "inorder(tree1)"
   ]
  },
  {
   "cell_type": "markdown",
   "metadata": {},
   "source": [
    "# Is BST another approach "
   ]
  },
  {
   "cell_type": "code",
   "execution_count": 113,
   "metadata": {},
   "outputs": [
    {
     "name": "stdout",
     "output_type": "stream",
     "text": [
      "True\n",
      "False\n"
     ]
    }
   ],
   "source": [
    "mini=-sys.maxsize\n",
    "maxi=sys.maxsize\n",
    "\n",
    "def is_bst(root):\n",
    "    return bst_utils(root,mini,maxi)\n",
    "def bst_utils(root,mini,maxi):\n",
    "    \n",
    "    if root==None:\n",
    "        return True\n",
    "    if root.data<mini or root.data>maxi:\n",
    "        return False\n",
    "    ls=bst_utils(root.left,mini,root.data-1)\n",
    "    rs=bst_utils(root.right,root.data+1,maxi)\n",
    "    if ls and rs:\n",
    "        return True\n",
    "    return False\n",
    "print(is_bst(tree1))\n",
    "print(is_bst(tree2))"
   ]
  },
  {
   "cell_type": "markdown",
   "metadata": {},
   "source": [
    "# Largest subtree bst in binary tree"
   ]
  },
  {
   "cell_type": "code",
   "execution_count": null,
   "metadata": {},
   "outputs": [],
   "source": [
    "bst_node=None\n",
    "size=0\n",
    "def sub_bst(root):\n",
    "    if root==None:\n",
    "        return 0\n",
    "    "
   ]
  },
  {
   "cell_type": "markdown",
   "metadata": {},
   "source": [
    "# is balanced tree "
   ]
  },
  {
   "cell_type": "code",
   "execution_count": 77,
   "metadata": {},
   "outputs": [],
   "source": [
    "isbal=True\n",
    "def is_balanced(root):\n",
    "    global isbal\n",
    "    if root==None:\n",
    "        return 0\n",
    "    \n",
    "    lh=is_balanced(root.left)\n",
    "    rh=is_balanced(root.right)\n",
    "    lisbal=abs(lh-rh)\n",
    "    if lisbal>1:\n",
    "        isbal=False\n",
    "    th=max(lh,rh)+1\n",
    "    return th"
   ]
  },
  {
   "cell_type": "code",
   "execution_count": 81,
   "metadata": {},
   "outputs": [
    {
     "name": "stdout",
     "output_type": "stream",
     "text": [
      "True\n"
     ]
    }
   ],
   "source": [
    "is_balanced(tree1)\n",
    "print(isbal)"
   ]
  },
  {
   "cell_type": "markdown",
   "metadata": {},
   "source": [
    "# transformed to left clonned tree "
   ]
  },
  {
   "cell_type": "code",
   "execution_count": 83,
   "metadata": {},
   "outputs": [],
   "source": [
    "def transformtoleftclonned(root):\n",
    "    if root==None:\n",
    "        return\n",
    "    lcr=transformtoleftclonned(root.left)\n",
    "    rcr=transformtoleftclonned(root.right)\n",
    "    \n",
    "    new_node=Tree(root.data)\n",
    "    new_node.left=lcr\n",
    "    root.left=new_node\n",
    "    root.right=rcr\n",
    "    return root\n",
    "tree2=transformtoleftclonned(tree1)"
   ]
  },
  {
   "cell_type": "code",
   "execution_count": 84,
   "metadata": {},
   "outputs": [
    {
     "name": "stdout",
     "output_type": "stream",
     "text": [
      "12 12 25 25 30 30 37 37 50 50 62 62 70 70 75 75 87 87 "
     ]
    }
   ],
   "source": [
    "inorder(tree2)"
   ]
  },
  {
   "cell_type": "markdown",
   "metadata": {},
   "source": [
    "# transformed back from left clonned tree "
   ]
  },
  {
   "cell_type": "code",
   "execution_count": 85,
   "metadata": {},
   "outputs": [],
   "source": [
    "def transformback(root):\n",
    "    if root == None:\n",
    "        return\n",
    "    ln=transformback(root.left.left)\n",
    "    rn=transformback(root.right)\n",
    "    root.left=ln\n",
    "    root.right=rn\n",
    "    return root"
   ]
  },
  {
   "cell_type": "code",
   "execution_count": 86,
   "metadata": {},
   "outputs": [
    {
     "name": "stdout",
     "output_type": "stream",
     "text": [
      "12 12 25 25 30 30 37 37 50 50 62 62 70 70 75 75 87 87 "
     ]
    }
   ],
   "source": [
    "inorder(tree2)"
   ]
  },
  {
   "cell_type": "code",
   "execution_count": 87,
   "metadata": {},
   "outputs": [
    {
     "name": "stdout",
     "output_type": "stream",
     "text": [
      "12 25 30 37 50 62 70 75 87 "
     ]
    }
   ],
   "source": [
    "tree2=transformback(tree2)\n",
    "inorder(tree2)"
   ]
  },
  {
   "cell_type": "markdown",
   "metadata": {},
   "source": [
    "# Invert a binary tree "
   ]
  },
  {
   "cell_type": "code",
   "execution_count": 14,
   "metadata": {},
   "outputs": [],
   "source": [
    "def invert_tree(root):\n",
    "    if root==None:\n",
    "        return\n",
    "#     temp=root.left\n",
    "#     root.left=root.right\n",
    "#     root.right=temp\n",
    "    root.left,root.right=root.right,root.left\n",
    "    \n",
    "    invert_tree(root.left)\n",
    "    invert_tree(root.right)\n",
    "invert_tree(tree1)"
   ]
  },
  {
   "cell_type": "code",
   "execution_count": 15,
   "metadata": {},
   "outputs": [
    {
     "name": "stdout",
     "output_type": "stream",
     "text": [
      "50 \n",
      "\n",
      "75 25 \n",
      "\n",
      "87 62 37 12 \n",
      "\n",
      "70 30 \n",
      "\n"
     ]
    }
   ],
   "source": [
    "level_order(tree1)"
   ]
  },
  {
   "cell_type": "code",
   "execution_count": 20,
   "metadata": {},
   "outputs": [
    {
     "name": "stdout",
     "output_type": "stream",
     "text": [
      "50 \n",
      "\n",
      "75 25 \n",
      "\n",
      "87 62 37 12 \n",
      "\n",
      "70 30 \n",
      "\n"
     ]
    }
   ],
   "source": [
    "level_order(tree1)"
   ]
  },
  {
   "cell_type": "markdown",
   "metadata": {},
   "source": [
    "# Serializer binary tree"
   ]
  },
  {
   "cell_type": "code",
   "execution_count": 27,
   "metadata": {},
   "outputs": [],
   "source": [
    "ls=list()\n",
    "def serial(root):\n",
    "    global ls\n",
    "    if root == None:\n",
    "        ls.append(None)\n",
    "        return\n",
    "    ls.append(root.data)\n",
    "    serial(root.left)\n",
    "    serial(root.right)\n",
    "    \n",
    "serial(tree1)"
   ]
  },
  {
   "cell_type": "markdown",
   "metadata": {},
   "source": [
    "# Deserialize binary tree"
   ]
  },
  {
   "cell_type": "code",
   "execution_count": 30,
   "metadata": {},
   "outputs": [],
   "source": [
    "def deserialize(arr):\n",
    "    stack=[]\n",
    "    root=Tree(arr[0])\n",
    "    p1=Pair(root,1)\n",
    "    stack.append(p1)\n",
    "    idx=0\n",
    "    while len(stack)!=0:\n",
    "        top=stack[-1]\n",
    "        if top.state==1:\n",
    "            idx+=1\n",
    "            if arr[idx]!=None:\n",
    "                new_node=Tree(arr[idx])\n",
    "                top.node.left=new_node\n",
    "                p1=Pair(top.node.left,1)\n",
    "                stack.append(p1)\n",
    "            else:\n",
    "                top.node.right=None\n",
    "            top.state+=1\n",
    "        elif top.state==2:\n",
    "            idx+=1\n",
    "            if arr[idx]!=None:\n",
    "                new_node=Tree(arr[idx])\n",
    "                top.node.right=new_node\n",
    "                p1=Pair(top.node.right,1)\n",
    "                stack.append(p1)\n",
    "            else:\n",
    "                top.node.right=None\n",
    "            top.state+=1\n",
    "        elif top.state==3:\n",
    "            stack.pop()        \n",
    "    return root"
   ]
  },
  {
   "cell_type": "code",
   "execution_count": 31,
   "metadata": {},
   "outputs": [],
   "source": [
    "newtree=deserialize(ls)"
   ]
  },
  {
   "cell_type": "code",
   "execution_count": 32,
   "metadata": {},
   "outputs": [
    {
     "name": "stdout",
     "output_type": "stream",
     "text": [
      "50 \n",
      "\n",
      "25 75 \n",
      "\n",
      "12 37 62 87 \n",
      "\n",
      "30 70 \n",
      "\n"
     ]
    }
   ],
   "source": [
    "level_order(newtree)"
   ]
  },
  {
   "cell_type": "code",
   "execution_count": 48,
   "metadata": {},
   "outputs": [
    {
     "name": "stdout",
     "output_type": "stream",
     "text": [
      "12 25 30 37 50 62 70 75 87 "
     ]
    }
   ],
   "source": [
    "inorder(newtree)"
   ]
  },
  {
   "cell_type": "markdown",
   "metadata": {},
   "source": [
    "# Replace sum of larger in BST"
   ]
  },
  {
   "cell_type": "code",
   "execution_count": 49,
   "metadata": {},
   "outputs": [],
   "source": [
    "_sum=0\n",
    "def sumofl(root):\n",
    "    global _sum\n",
    "    \n",
    "    if root==None:\n",
    "        return\n",
    "    sumofl(root.right)\n",
    "    temp=root.data\n",
    "    root.data=_sum\n",
    "    _sum+=temp\n",
    "    sumofl(root.left)\n",
    "sumofl(newtree)"
   ]
  },
  {
   "cell_type": "code",
   "execution_count": 51,
   "metadata": {},
   "outputs": [
    {
     "name": "stdout",
     "output_type": "stream",
     "text": [
      "294 \n",
      "\n",
      "411 87 \n",
      "\n",
      "436 344 232 0 \n",
      "\n",
      "381 162 \n",
      "\n"
     ]
    }
   ],
   "source": [
    "level_order(newtree)"
   ]
  },
  {
   "cell_type": "markdown",
   "metadata": {},
   "source": [
    "# Lowest common ancesstor binary tree "
   ]
  },
  {
   "cell_type": "code",
   "execution_count": 6,
   "metadata": {},
   "outputs": [],
   "source": [
    "#naive approach is find path and store of p and q\n",
    "#then traverse from top find last equal element from both list.\n",
    "def LCA_BT(root,p,q):\n",
    "    if root==None:\n",
    "        return\n",
    "    if root.data==p or root.data==q:\n",
    "        return root.data\n",
    "    \n",
    "    left=LCA_BT(root.left,p,q)\n",
    "    right=LCA_BT(root.right,p,q)\n",
    "    \n",
    "    if left==None and right==None:\n",
    "        return None\n",
    "    if left!=None and right!=None:\n",
    "        return root.data\n",
    "    if left==None:\n",
    "        return right\n",
    "    return left"
   ]
  },
  {
   "cell_type": "code",
   "execution_count": 5,
   "metadata": {},
   "outputs": [
    {
     "data": {
      "text/plain": [
       "25"
      ]
     },
     "execution_count": 5,
     "metadata": {},
     "output_type": "execute_result"
    }
   ],
   "source": [
    "LCA_BT(tree1,12,30)"
   ]
  },
  {
   "cell_type": "markdown",
   "metadata": {},
   "source": [
    "# LCA binary search Tree"
   ]
  },
  {
   "cell_type": "code",
   "execution_count": 7,
   "metadata": {},
   "outputs": [],
   "source": [
    "def LCA_BST(root,p,q):\n",
    "    if root==None:\n",
    "        return\n",
    "    if p<root.data and q<root.data:\n",
    "        return LCA_BST(root.left,p,q)\n",
    "    if p>root.data and q>root.data:\n",
    "        return LCA_BST(root.right,p,q)\n",
    "    return root.data"
   ]
  },
  {
   "cell_type": "markdown",
   "metadata": {},
   "source": [
    "# kth smallest element in bst "
   ]
  },
  {
   "cell_type": "code",
   "execution_count": 26,
   "metadata": {},
   "outputs": [],
   "source": [
    "def helper(root):\n",
    "    if root==None:\n",
    "        return\n",
    "    helper(root.left)\n",
    "    smallest.k-=1\n",
    "    if smallest.k==0:\n",
    "        smallest.ans=root.data\n",
    "        return smallest.ans\n",
    "    helper(root.right)\n",
    "def smallest(root,k):\n",
    "    smallest.k=k\n",
    "    smallest.ans=None\n",
    "    helper(root)\n",
    "    return smallest.ans"
   ]
  },
  {
   "cell_type": "code",
   "execution_count": 31,
   "metadata": {},
   "outputs": [
    {
     "data": {
      "text/plain": [
       "37"
      ]
     },
     "execution_count": 31,
     "metadata": {},
     "output_type": "execute_result"
    }
   ],
   "source": [
    "smallest(tree1,4)"
   ]
  },
  {
   "cell_type": "code",
   "execution_count": null,
   "metadata": {},
   "outputs": [],
   "source": []
  },
  {
   "cell_type": "code",
   "execution_count": null,
   "metadata": {},
   "outputs": [],
   "source": []
  }
 ],
 "metadata": {
  "kernelspec": {
   "display_name": "Python 3",
   "language": "python",
   "name": "python3"
  },
  "language_info": {
   "codemirror_mode": {
    "name": "ipython",
    "version": 3
   },
   "file_extension": ".py",
   "mimetype": "text/x-python",
   "name": "python",
   "nbconvert_exporter": "python",
   "pygments_lexer": "ipython3",
   "version": "3.8.10"
  }
 },
 "nbformat": 4,
 "nbformat_minor": 2
}
