{
 "cells": [
  {
   "cell_type": "markdown",
   "metadata": {},
   "source": [
    "# Serialize deserialize binary tree"
   ]
  },
  {
   "cell_type": "code",
   "execution_count": 1,
   "metadata": {},
   "outputs": [],
   "source": [
    "class pair:\n",
    "    def __init__(self,data,state):\n",
    "        self.node=data\n",
    "        self.state=state\n",
    "class tree:\n",
    "    def __init__(self,data):\n",
    "        self.data=data\n",
    "        self.left=None\n",
    "        self.right=None"
   ]
  },
  {
   "cell_type": "code",
   "execution_count": 4,
   "metadata": {},
   "outputs": [],
   "source": [
    "t1=tree(1)\n",
    "t1.left=tree(2)\n",
    "t1.right=tree(3)\n",
    "t1.right.left=tree(4)\n",
    "t1.right.right=tree(5)"
   ]
  },
  {
   "cell_type": "code",
   "execution_count": 2,
   "metadata": {},
   "outputs": [],
   "source": [
    "def derserialize(arr):\n",
    "    root=tree(arr[0])\n",
    "    p1=pair(root,1)\n",
    "    stack=[]\n",
    "    stack.append(p1)\n",
    "    idx=0\n",
    "    while len(stack)!=0:\n",
    "        top=stack[-1]\n",
    "        if top.state==1:\n",
    "            idx+=1\n",
    "            if arr[idx]!=None:\n",
    "                new_node=tree(arr[idx])\n",
    "                top.node.left=new_node\n",
    "                p1=pair(top.node.left,1)\n",
    "                stack.append(p1)\n",
    "            else:\n",
    "                top.left=None\n",
    "            top.state+=1\n",
    "        elif top.state==2:\n",
    "            idx+=1\n",
    "            if arr[idx]!=None:\n",
    "                new_node=tree(arr[idx])\n",
    "                top.node.right=new_node\n",
    "                p1=pair(top.node.right,1)\n",
    "                stack.append(p1)\n",
    "            top.state+=1\n",
    "        elif top.state==3:\n",
    "            stack.pop()\n",
    "    return root\n",
    "\n",
    "ls=[]\n",
    "def serialize(root,ls):\n",
    "    if root==None:\n",
    "        ls.append(None)\n",
    "        return\n",
    "    \n",
    "    ls.append(root.data)\n",
    "    serialize(root.left,ls)\n",
    "    serialize(root.right,ls)"
   ]
  },
  {
   "cell_type": "code",
   "execution_count": 16,
   "metadata": {},
   "outputs": [],
   "source": [
    "serialize(t1,ls)\n",
    "root=derserialize(ls)"
   ]
  },
  {
   "cell_type": "code",
   "execution_count": 31,
   "metadata": {},
   "outputs": [],
   "source": [
    "t2=derserialize([-10,9,None,None,20,15,None,None,7,None,None])"
   ]
  },
  {
   "cell_type": "markdown",
   "metadata": {},
   "source": [
    "### Binary tree level order traversal "
   ]
  },
  {
   "cell_type": "code",
   "execution_count": 20,
   "metadata": {},
   "outputs": [],
   "source": [
    "def levelorder(root): #remove print append\n",
    "    queue=[]\n",
    "    queue.append(root)\n",
    "    while len(queue)!=0:\n",
    "        count=len(queue)\n",
    "        \n",
    "        for x in range(0,count):\n",
    "            node=queue.pop(0)\n",
    "            print(node.data,end=' ')\n",
    "            \n",
    "            if node.left:\n",
    "                queue.append(node.left)\n",
    "            if node.right:\n",
    "                queue.append(node.right)\n",
    "        print('\\n')"
   ]
  },
  {
   "cell_type": "code",
   "execution_count": 21,
   "metadata": {},
   "outputs": [
    {
     "name": "stdout",
     "output_type": "stream",
     "text": [
      "1 \n",
      "\n",
      "2 3 \n",
      "\n",
      "4 5 \n",
      "\n"
     ]
    }
   ],
   "source": [
    "levelorder(root)"
   ]
  },
  {
   "cell_type": "markdown",
   "metadata": {},
   "source": [
    "###  Binary Tree Zigzag Level Order Traversal"
   ]
  },
  {
   "cell_type": "code",
   "execution_count": null,
   "metadata": {},
   "outputs": [],
   "source": [
    "def zigzag(root):\n",
    "    if root==None:\n",
    "        return []\n",
    "    "
   ]
  },
  {
   "cell_type": "markdown",
   "metadata": {},
   "source": [
    "### Add two numbers of linked list "
   ]
  },
  {
   "cell_type": "code",
   "execution_count": 22,
   "metadata": {},
   "outputs": [],
   "source": [
    "class Solution(object):\n",
    "    def addTwoNumbers(self, l1, l2):\n",
    "        carry=0\n",
    "        _sum=0\n",
    "        if l1!=None:\n",
    "            _sum+=l1.val\n",
    "            l1=l1.next\n",
    "        if l2!=None:\n",
    "            _sum+=l2.val\n",
    "            l2=l2.next\n",
    "        carry=int(_sum/10)\n",
    "        head=ListNode(_sum%10)\n",
    "        ptr=head\n",
    "        while l1!=None or l2!=None:\n",
    "            _sum=carry\n",
    "            \n",
    "            if l1!=None:\n",
    "                _sum+=l1.val\n",
    "                l1=l1.next\n",
    "            if l2!=None:\n",
    "                _sum+=l2.val\n",
    "                l2=l2.next\n",
    "            carry=int(_sum/10)\n",
    "            ptr.next=ListNode(_sum%10)\n",
    "            ptr=ptr.next\n",
    "        \n",
    "        if carry>0:\n",
    "            ptr.next=ListNode(carry)\n",
    "            \n",
    "        return head"
   ]
  },
  {
   "cell_type": "markdown",
   "metadata": {},
   "source": [
    "# Binary Tree max path"
   ]
  },
  {
   "cell_type": "code",
   "execution_count": 55,
   "metadata": {},
   "outputs": [],
   "source": [
    "class Solution(object):\n",
    "    _max=float('-inf')\n",
    "    def pathhelper(self,root):\n",
    "        if root==None:\n",
    "            return 0\n",
    "        \n",
    "        left=self.pathhelper(root.left)\n",
    "        right=self.pathhelper(root.right)\n",
    "        \n",
    "        sidesum=max(root.val,max(left,right)+root.val)\n",
    "        nodesum=max(sidesum,left+right+root.val)\n",
    "        self._max=max(nodesum,self._max)\n",
    "        return sidesum\n",
    "        \n",
    "    def maxPathSum(self, root):\n",
    "        \"\"\"\n",
    "        :type root: TreeNode\n",
    "        :rtype: int\n",
    "        \"\"\"\n",
    "        self.pathhelper(root)\n",
    "        return self._max"
   ]
  },
  {
   "cell_type": "markdown",
   "metadata": {},
   "source": [
    "### find first and last position of last element in sorted array"
   ]
  },
  {
   "cell_type": "code",
   "execution_count": 56,
   "metadata": {},
   "outputs": [],
   "source": [
    "class Solution(object):\n",
    "    def leftindex(self,nums,target):\n",
    "        start=0\n",
    "        end=len(nums)-1\n",
    "        while start<=end:\n",
    "            mid=(start+end)//2\n",
    "            if nums[mid]==target:\n",
    "                if mid-1>=0 and nums[mid-1]!=target or mid==0 :\n",
    "                    return mid\n",
    "                end=mid-1\n",
    "            elif target<nums[mid]:\n",
    "                end=mid-1\n",
    "            elif target>nums[mid]:\n",
    "                start=mid+1\n",
    "        return -1\n",
    "    \n",
    "    def rightindex(self,nums,target):\n",
    "        start=0\n",
    "        end=len(nums)-1\n",
    "        while start<=end:\n",
    "            mid=(start+end)/2\n",
    "            if nums[mid]==target:\n",
    "                if mid==len(nums)-1 and nums[mid+1]!=target or mid+1<len(nums):\n",
    "                    return mid\n",
    "                start=mid+1\n",
    "            elif target<nums[mid]:\n",
    "                end=mid-1\n",
    "            elif target>nums[mid]:\n",
    "                start=mid+1\n",
    "        return -1\n",
    "    \n",
    "    def searchRange(self, nums, target):\n",
    "\n",
    "        if len(nums)==1:\n",
    "            if target!=nums[0]:\n",
    "                return [-1,-1]\n",
    "            else:\n",
    "                return [0,0]\n",
    "        \n",
    "        left=self.leftindex(nums,target)\n",
    "        right=self.rightindex(nums,target)\n",
    "        return [left,right]"
   ]
  },
  {
   "cell_type": "markdown",
   "metadata": {},
   "source": [
    "### Boats to Save People"
   ]
  },
  {
   "cell_type": "code",
   "execution_count": 58,
   "metadata": {},
   "outputs": [],
   "source": [
    "class Solution(object):\n",
    "    def numRescueBoats(self, people, limit):\n",
    "\n",
    "        people.sort()\n",
    "        \n",
    "        left=0\n",
    "        right=len(people)-1\n",
    "        boats_num=0\n",
    "        while left<=right:\n",
    "            if left==right:\n",
    "                boats_num+=1\n",
    "                break\n",
    "            if people[left]+people[right]<=limit:\n",
    "                left+=1\n",
    "            \n",
    "            right-=1\n",
    "            boats_num+=1\n",
    "        return boats_num"
   ]
  },
  {
   "cell_type": "markdown",
   "metadata": {},
   "source": [
    "## Valid Mountain array"
   ]
  },
  {
   "cell_type": "code",
   "execution_count": 71,
   "metadata": {},
   "outputs": [],
   "source": [
    "#algo apan check krenge uske peek tak k ith value bdi honi chahiye i-1 se then after\n",
    "#peek ith value choti honi chahiye peek se\n",
    "class Solution:\n",
    "    def validMountainArray(self, A):\n",
    "        if len(A)<3:\n",
    "            return False\n",
    "        i=1\n",
    "        while i<len(A) and A[i]>A[i-1]:\n",
    "            i+=1\n",
    "        if i==1 or i==len(A):\n",
    "            return False\n",
    "        while i<len(A) and A[i]<A[i-1]:\n",
    "            i+=1\n",
    "        return i==len(A)"
   ]
  },
  {
   "cell_type": "markdown",
   "metadata": {},
   "source": [
    "##  Letter Combinations of a Phone Number \n",
    "Keypad question of pepcoding"
   ]
  },
  {
   "cell_type": "code",
   "execution_count": 93,
   "metadata": {},
   "outputs": [],
   "source": [
    "class Solution(object):\n",
    "    keypad={'1':'','2':'abc','3':'def','4':'ghi','5':'jkl','6':'mno','7':'pqrs','8':'tuv','9':'wxyz','0':''}\n",
    "    \n",
    "    def helpercomb(self,digit):\n",
    "        if digit=='':\n",
    "            return ['']\n",
    "        ch=digit[0]\n",
    "        ros=digit[1:]\n",
    "        getcomb=self.helpercomb(ros)\n",
    "        combination=[]\n",
    "        for word in self.keypad[ch]:\n",
    "            for x in getcomb:\n",
    "                combination.append(word+x)\n",
    "        return combination\n",
    "        \n",
    "    def letterCombinations(self, digits):\n",
    "        if len(digits)==0:\n",
    "            return []\n",
    "        comb=self.helpercomb(digits)\n",
    "        return comb"
   ]
  },
  {
   "cell_type": "markdown",
   "metadata": {},
   "source": [
    "# Lowest common anncesstor of binary tree \n",
    "naive approach is find path and store of p and q the traverse from top find last equal element from both list."
   ]
  },
  {
   "cell_type": "code",
   "execution_count": 94,
   "metadata": {},
   "outputs": [],
   "source": [
    "class Solution(object):\n",
    "        \n",
    "    def lowestCommonAncestor(self, root, p, q):\n",
    "        \n",
    "        if root==None:\n",
    "            return\n",
    "        if root.val==p.val or root.val==q.val:\n",
    "            return root\n",
    "        left=self.lowestCommonAncestor(root.left,p,q)\n",
    "        right=self.lowestCommonAncestor(root.right,p,q)\n",
    "        if left==None and right==None:\n",
    "            return None\n",
    "        if left!=None and right!=None:\n",
    "            return root\n",
    "        if left==None:\n",
    "            return right\n",
    "        return left"
   ]
  },
  {
   "cell_type": "markdown",
   "metadata": {},
   "source": [
    "# Lowest common anncesstor of binary Search tree"
   ]
  },
  {
   "cell_type": "code",
   "execution_count": 95,
   "metadata": {},
   "outputs": [],
   "source": [
    "class Solution(object):\n",
    "    def lowestCommonAncestor(self, root, p, q):\n",
    "        \n",
    "        if root==None:\n",
    "            return\n",
    "        \n",
    "        if p.val<root.val and q.val<root.val:\n",
    "            return self.lowestCommonAncestor(root.left,p,q)\n",
    "            \n",
    "        if p.val>root.val and q.val>root.val:\n",
    "            return self.lowestCommonAncestor(root.right,p,q)\n",
    "        \n",
    "        return root"
   ]
  },
  {
   "cell_type": "markdown",
   "metadata": {},
   "source": [
    "# Kth smallest in Binary search tree "
   ]
  },
  {
   "cell_type": "code",
   "execution_count": 97,
   "metadata": {},
   "outputs": [],
   "source": [
    "class Solution(object):\n",
    "    \n",
    "    def helper(self,root):\n",
    "        if root==None:\n",
    "            return\n",
    "        self.helper(root.left)\n",
    "        self.k-=1\n",
    "        if self.k==0:\n",
    "            self.ans=root.val\n",
    "            return\n",
    "        self.helper(root.right)\n",
    "    \n",
    "    def kthSmallest(self, root, k):\n",
    "        self.k=k\n",
    "        self.ans=None\n",
    "        self.helper(root)\n",
    "        return self.ans"
   ]
  },
  {
   "cell_type": "markdown",
   "metadata": {},
   "source": [
    "# Container with most water\n",
    "Area = length of shorter vertical line * distance between lines"
   ]
  },
  {
   "cell_type": "code",
   "execution_count": 112,
   "metadata": {},
   "outputs": [],
   "source": [
    "def maxArea(height):\n",
    "    maxarea=0\n",
    "    l=0\n",
    "    r=len(height)-1\n",
    "    while l<r:\n",
    "        dis=r-l\n",
    "        minheight=min(height[l],height[r])\n",
    "        maxarea=max(maxarea,minheight*dis)\n",
    "        if height[l]<height[r]:\n",
    "            l+=1\n",
    "        else:\n",
    "            r-=1\n",
    "    return maxarea"
   ]
  },
  {
   "cell_type": "code",
   "execution_count": 113,
   "metadata": {},
   "outputs": [
    {
     "data": {
      "text/plain": [
       "2"
      ]
     },
     "execution_count": 113,
     "metadata": {},
     "output_type": "execute_result"
    }
   ],
   "source": [
    "maxArea([1,2,1])"
   ]
  },
  {
   "cell_type": "markdown",
   "metadata": {},
   "source": [
    "# Linked list Cycle"
   ]
  },
  {
   "cell_type": "code",
   "execution_count": 114,
   "metadata": {},
   "outputs": [],
   "source": [
    "def hasCycle(self, head):\n",
    "    if head==None:\n",
    "        return False\n",
    "        \n",
    "    slow=head\n",
    "    fast=head\n",
    "        \n",
    "    while slow and fast and fast.next:\n",
    "        slow=slow.next\n",
    "        fast=fast.next.next\n",
    "        if slow==fast:\n",
    "            return True\n",
    "    return False"
   ]
  },
  {
   "cell_type": "markdown",
   "metadata": {},
   "source": [
    "# House robber "
   ]
  },
  {
   "cell_type": "code",
   "execution_count": 117,
   "metadata": {},
   "outputs": [],
   "source": [
    "def house_robber(arr):\n",
    "    if len(nums)==0:\n",
    "        return 0\n",
    "    if len(nums)==1:\n",
    "        return nums[0]\n",
    "    if len(nums)==2:\n",
    "        return max(nums)\n",
    "    inc=nums[0]\n",
    "    exc=0\n",
    "    for i in range(1,len(nums)):\n",
    "        n_inc=exc+nums[i]\n",
    "        n_exc=max(inc,exc)\n",
    "        inc=n_inc\n",
    "        exc=n_exc\n",
    "    return max(inc,exc)"
   ]
  },
  {
   "cell_type": "markdown",
   "metadata": {},
   "source": [
    "# Move Zeroes"
   ]
  },
  {
   "cell_type": "code",
   "execution_count": 3,
   "metadata": {},
   "outputs": [],
   "source": [
    "def move_zeros(nums):\n",
    "    i=0\n",
    "    j=0\n",
    "    while i<len(nums):\n",
    "        if nums[i]!=0:\n",
    "            temp=nums[j]\n",
    "            nums[j]=nums[i]\n",
    "            nums[i]=temp\n",
    "            i+=1\n",
    "            j+=1\n",
    "        else:\n",
    "            i+=1\n",
    "    return nums"
   ]
  },
  {
   "cell_type": "code",
   "execution_count": 4,
   "metadata": {},
   "outputs": [
    {
     "data": {
      "text/plain": [
       "[1, 1, 0, 0, 0]"
      ]
     },
     "execution_count": 4,
     "metadata": {},
     "output_type": "execute_result"
    }
   ],
   "source": [
    "move_zeros([0,1,0,0,1])"
   ]
  },
  {
   "cell_type": "markdown",
   "metadata": {},
   "source": [
    "# First Bad Version "
   ]
  },
  {
   "cell_type": "code",
   "execution_count": 124,
   "metadata": {},
   "outputs": [],
   "source": [
    "#version Api given\n",
    "def firstBadVersion(self, n):\n",
    "    left=1\n",
    "    right=n    \n",
    "    while left<right:\n",
    "        mid=(left+right)//2\n",
    "        if isBadVersion(mid):\n",
    "            right=mid\n",
    "        else:\n",
    "            left=mid+1\n",
    "    return left"
   ]
  },
  {
   "cell_type": "markdown",
   "metadata": {},
   "source": [
    "# Max depth binary tree "
   ]
  },
  {
   "cell_type": "code",
   "execution_count": 125,
   "metadata": {},
   "outputs": [],
   "source": [
    "class Solution(object):\n",
    "    def maxDepth(self, root):\n",
    "        if root==None:\n",
    "            return 0\n",
    "        l=self.maxDepth(root.left)\n",
    "        h=self.maxDepth(root.right)\n",
    "        return max(l,h)+1"
   ]
  },
  {
   "cell_type": "markdown",
   "metadata": {},
   "source": [
    "# Min Depth Binary tree"
   ]
  },
  {
   "cell_type": "code",
   "execution_count": 126,
   "metadata": {},
   "outputs": [],
   "source": [
    "class Solution(object):\n",
    "    def minDepth(self, root):\n",
    "        \n",
    "        if root==None:\n",
    "            return 0\n",
    "        if root.left==None and root.right==None:\n",
    "            return 1\n",
    "        if root.left is None:\n",
    "            return minDepth(root.right)+1\n",
    "        if root.right is None:\n",
    "            return minDepth(root.left)+1\n",
    "        l=self.minDepth(root.left)\n",
    "        r=self.minDepth(root.right)\n",
    "        return min(l,r)+1"
   ]
  },
  {
   "cell_type": "markdown",
   "metadata": {},
   "source": [
    "# Missing no "
   ]
  },
  {
   "cell_type": "code",
   "execution_count": 7,
   "metadata": {},
   "outputs": [],
   "source": [
    "def missing_no(nums):\n",
    "    _sum=sum(nums)\n",
    "    n=len(nums)\n",
    "    print(n,_sum)\n",
    "    miss_no=((n*(n+1))//2)-_sum\n",
    "    return miss_no"
   ]
  },
  {
   "cell_type": "code",
   "execution_count": 8,
   "metadata": {},
   "outputs": [
    {
     "name": "stdout",
     "output_type": "stream",
     "text": [
      "9 37\n"
     ]
    },
    {
     "data": {
      "text/plain": [
       "8"
      ]
     },
     "execution_count": 8,
     "metadata": {},
     "output_type": "execute_result"
    }
   ],
   "source": [
    "missing_no([0,1,2,3,4,5,6,7,9])"
   ]
  },
  {
   "cell_type": "markdown",
   "metadata": {},
   "source": [
    "# Symmetric Binary Tree"
   ]
  },
  {
   "cell_type": "code",
   "execution_count": 139,
   "metadata": {},
   "outputs": [],
   "source": [
    "class Solution(object):\n",
    "    def ismirror(self,root1,root2):\n",
    "        if (root1==None and root2==None):\n",
    "            return True\n",
    "        if (root1==None or root2==None):\n",
    "            return False\n",
    "        \n",
    "        return (root1.val==root2.val) and self.ismirror(root1.left,root2.right) and self.ismirror(root1.right,root2.left)\n",
    "    \n",
    "    def isSymmetric(self, root):\n",
    "        if root==None:\n",
    "            return True\n",
    "        return self.ismirror(root,root)"
   ]
  },
  {
   "cell_type": "markdown",
   "metadata": {},
   "source": [
    "# Subsets"
   ]
  },
  {
   "cell_type": "code",
   "execution_count": 7,
   "metadata": {},
   "outputs": [
    {
     "data": {
      "text/plain": [
       "[[1, 2, 3], [1, 2], [1, 3], [1], [2, 3], [2], [3], []]"
      ]
     },
     "execution_count": 7,
     "metadata": {},
     "output_type": "execute_result"
    }
   ],
   "source": [
    "def subset(arr,sub):\n",
    "    global result\n",
    "    if len(arr)==0:\n",
    "        result.append(sub)\n",
    "        return\n",
    "    \n",
    "    inc=sub.copy()\n",
    "    exc=sub.copy()\n",
    "    inc.append(arr[0])\n",
    "    subset(arr[1:],inc)\n",
    "    subset(arr[1:],exc)\n",
    "result=[]\n",
    "subset([1,2,3],[])\n",
    "result "
   ]
  },
  {
   "cell_type": "code",
   "execution_count": 13,
   "metadata": {},
   "outputs": [
    {
     "data": {
      "text/plain": [
       "[[], [1], [1, 2], [1, 2, 3], [1, 3], [2], [2, 3], [3]]"
      ]
     },
     "execution_count": 13,
     "metadata": {},
     "output_type": "execute_result"
    }
   ],
   "source": [
    "#leetcode sol\n",
    "def solution(nums,idx,sub,ans):\n",
    "    if idx==len(nums):\n",
    "        return\n",
    "    ans.append(sub[:])\n",
    "    for i in range(idx,len(nums)):\n",
    "        if nums[i] not in sub:\n",
    "            sub.append(nums[i])\n",
    "            solution(nums,i,sub,ans)\n",
    "            sub.pop()\n",
    "def subset(nums):\n",
    "    ans=[]\n",
    "    sub=[]\n",
    "    solution(nums,0,sub,ans)\n",
    "    return ans\n",
    "subset([1,2,3])"
   ]
  },
  {
   "cell_type": "markdown",
   "metadata": {},
   "source": [
    "# Word Search"
   ]
  },
  {
   "cell_type": "code",
   "execution_count": 48,
   "metadata": {},
   "outputs": [
    {
     "data": {
      "text/plain": [
       "True"
      ]
     },
     "execution_count": 48,
     "metadata": {},
     "output_type": "execute_result"
    }
   ],
   "source": [
    "def wordsearchhelper(board,i,j,visited,word,idx):\n",
    "    if idx==len(word):\n",
    "        return True\n",
    "    if i<0 or j<0 or i==len(board) or j==len(board[0]) or board[i][j]!=word[idx] or (i,j) in  visited:\n",
    "        return False\n",
    "    \n",
    "    visited.add((i,j))\n",
    "    t=wordsearchhelper(board,i-1,j,visited,word,idx+1)#top\n",
    "    if t:\n",
    "        return True\n",
    "    b=wordsearchhelper(board,i+1,j,visited,word,idx+1)#bottom\n",
    "    if b:\n",
    "        return True\n",
    "    l=wordsearchhelper(board,i,j-1,visited,word,idx+1)#left\n",
    "    if l:\n",
    "        return True\n",
    "    r=wordsearchhelper(board,i,j+1,visited,word,idx+1)#right\n",
    "    if r:\n",
    "        return True\n",
    "    visited.remove((i,j))\n",
    "    return False\n",
    "\n",
    "def wordsearch(board,word):\n",
    "    visited=set()\n",
    "    for i in range(0,len(board)):\n",
    "        for j in range(0,len(board[0])):\n",
    "            if board[i][j]==word[0]:\n",
    "                if (wordsearchhelper(board,i,j,visited,word,0))==True:\n",
    "                    return True\n",
    "    return False\n",
    "board =[['A','B','C','E'],['S','F','C','S'],['A','D','E','E']]\n",
    "word=\"ABFS\"\n",
    "wordsearch(board,word)\n",
    "    "
   ]
  },
  {
   "cell_type": "markdown",
   "metadata": {},
   "source": [
    "# Best time to buy and sell stock "
   ]
  },
  {
   "cell_type": "code",
   "execution_count": 49,
   "metadata": {},
   "outputs": [],
   "source": [
    "class Solution(object):\n",
    "    def maxProfit(self, prices):\n",
    "        if len(prices)==0:\n",
    "            return 0\n",
    "        gprofit=-9999\n",
    "        min_=prices[0]\n",
    "        for i in range(1,len(prices)):\n",
    "            if min_>prices[i]:\n",
    "                min_=prices[i]\n",
    "            profit=prices[i]-min_\n",
    "            gprofit=max(gprofit,profit)\n",
    "        return gprofit\n",
    "        "
   ]
  },
  {
   "cell_type": "markdown",
   "metadata": {},
   "source": [
    "# House Robber"
   ]
  },
  {
   "cell_type": "code",
   "execution_count": 50,
   "metadata": {},
   "outputs": [],
   "source": [
    "class Solution(object):\n",
    "    def rob(self, nums):\n",
    "        if len(nums)==0:\n",
    "            return 0\n",
    "        inc=nums[0]\n",
    "        exc=0\n",
    "        for i in range(1,len(nums)):\n",
    "            ninc=exc+nums[i]\n",
    "            nexc=max(inc,exc)\n",
    "            inc=ninc\n",
    "            exc=nexc\n",
    "        return max(inc,exc)"
   ]
  },
  {
   "cell_type": "markdown",
   "metadata": {},
   "source": [
    "# Check weather  two strings are anagram"
   ]
  },
  {
   "cell_type": "code",
   "execution_count": 56,
   "metadata": {},
   "outputs": [
    {
     "data": {
      "text/plain": [
       "True"
      ]
     },
     "execution_count": 56,
     "metadata": {},
     "output_type": "execute_result"
    }
   ],
   "source": [
    "def anagram(s1,s2):\n",
    "    \n",
    "    if len(s1)!=len(s2):\n",
    "        return False\n",
    "    s1=sorted(s1)\n",
    "    s2=sorted(s2)\n",
    "    j=0\n",
    "    while j<len(s1):\n",
    "        if s1[j]!=s2[j]:\n",
    "            return False\n",
    "        j+=1\n",
    "    return True\n",
    "anagram('listen','silent')"
   ]
  },
  {
   "cell_type": "markdown",
   "metadata": {},
   "source": [
    "# Group Anagram"
   ]
  },
  {
   "cell_type": "code",
   "execution_count": 60,
   "metadata": {},
   "outputs": [
    {
     "data": {
      "text/plain": [
       "[['eat', 'tea', 'ate'], ['tan', 'nat'], ['bat']]"
      ]
     },
     "execution_count": 60,
     "metadata": {},
     "output_type": "execute_result"
    }
   ],
   "source": [
    "def groupAnagram(strs):\n",
    "    dictionary={}\n",
    "    result=[]\n",
    "    \n",
    "    for s in strs:\n",
    "        hashed=''.join(sorted(s))\n",
    "        if hashed not in dictionary:\n",
    "            dictionary[hashed]=[]\n",
    "        dictionary[hashed].append(s)\n",
    "        \n",
    "    for v in dictionary.values():\n",
    "        result.append(v)\n",
    "    return result\n",
    "groupAnagram([\"eat\",\"tea\",\"tan\",\"ate\",\"nat\",\"bat\"])"
   ]
  },
  {
   "cell_type": "markdown",
   "metadata": {},
   "source": [
    "# Find all Anangrams in string "
   ]
  },
  {
   "cell_type": "code",
   "execution_count": 61,
   "metadata": {},
   "outputs": [
    {
     "data": {
      "text/plain": [
       "[0, 9, 14]"
      ]
     },
     "execution_count": 61,
     "metadata": {},
     "output_type": "execute_result"
    }
   ],
   "source": [
    "class Solution(object):\n",
    "    def findAnagrams(self, s, p):\n",
    "        if len(s)==len(p):\n",
    "            if ''.join(sorted(s)) ==''.join(sorted(p)):\n",
    "                return[0]\n",
    "            else:\n",
    "                return []\n",
    "        \n",
    "        result=list()\n",
    "        k=len(p)\n",
    "        p=''.join(sorted(p))\n",
    "        for i in range(0,len(s)-k+1):\n",
    "            news=''.join(sorted(s[i:i+k]))\n",
    "            if news == p:\n",
    "                result.append(i)\n",
    "        return result\n",
    "s1=Solution()\n",
    "s1.findAnagrams('asdfghjklasdhjasd','asd')"
   ]
  },
  {
   "cell_type": "markdown",
   "metadata": {},
   "source": [
    "# Coin change "
   ]
  },
  {
   "cell_type": "code",
   "execution_count": 19,
   "metadata": {},
   "outputs": [
    {
     "data": {
      "text/plain": [
       "0"
      ]
     },
     "execution_count": 19,
     "metadata": {},
     "output_type": "execute_result"
    }
   ],
   "source": [
    "import sys\n",
    "def coinchange(coins,amt):\n",
    "    dp=[sys.maxsize for i in range(0,amt+1)]\n",
    "    dp[0]=0\n",
    "    for i in range(1,amt+1):\n",
    "        for c in coins:\n",
    "            if c<=i:\n",
    "                dp[i]=min(dp[i-c]+1,dp[i])\n",
    "    return dp[amt] if dp[amt]!=sys.maxsize else -1\n",
    "coinchange([1,2],0)"
   ]
  },
  {
   "cell_type": "markdown",
   "metadata": {},
   "source": [
    "# Longest substring without repeating character"
   ]
  },
  {
   "cell_type": "code",
   "execution_count": 27,
   "metadata": {},
   "outputs": [
    {
     "data": {
      "text/plain": [
       "3"
      ]
     },
     "execution_count": 27,
     "metadata": {},
     "output_type": "execute_result"
    }
   ],
   "source": [
    "def lsub(string):\n",
    "    m={}\n",
    "    max_count=0\n",
    "    left=0\n",
    "    right=0\n",
    "    while left<len(string) and right<len(string):\n",
    "        e1=string[right]\n",
    "        if e1 in m:\n",
    "            left=max(left,m[e1]+1)\n",
    "        m[e1]=right\n",
    "        max_count=max(max_count,right-left+1)\n",
    "        right+=1       \n",
    "    return max_count\n",
    "lsub('abcabcbb')"
   ]
  },
  {
   "cell_type": "markdown",
   "metadata": {},
   "source": [
    "# Count primes \n",
    "jo bhi i k multiples h unko 0 krdo "
   ]
  },
  {
   "cell_type": "code",
   "execution_count": 38,
   "metadata": {},
   "outputs": [
    {
     "data": {
      "text/plain": [
       "4"
      ]
     },
     "execution_count": 38,
     "metadata": {},
     "output_type": "execute_result"
    }
   ],
   "source": [
    "class Solution(object):\n",
    "    def countPrimes(self, n):\n",
    "        dp=[1]*n\n",
    "        count=0\n",
    "        dp[0]=dp[1]=0\n",
    "        \n",
    "        for i in range(2,n):\n",
    "            for j in range(i*i,n,i):\n",
    "                dp[j]=0 \n",
    "        return sum(dp)\n",
    "s1=Solution()\n",
    "s1.countPrimes(10)"
   ]
  },
  {
   "cell_type": "markdown",
   "metadata": {},
   "source": [
    "# Single number\n",
    "2*sum of unique no - sum of no"
   ]
  },
  {
   "cell_type": "code",
   "execution_count": 40,
   "metadata": {},
   "outputs": [],
   "source": [
    "class Solution(object):\n",
    "    def singleNumber(self, nums):\n",
    "        return 2 * sum(set(nums)) - sum(nums)"
   ]
  },
  {
   "cell_type": "markdown",
   "metadata": {},
   "source": [
    "# Add Binary "
   ]
  },
  {
   "cell_type": "code",
   "execution_count": 55,
   "metadata": {},
   "outputs": [
    {
     "data": {
      "text/plain": [
       "'100'"
      ]
     },
     "execution_count": 55,
     "metadata": {},
     "output_type": "execute_result"
    }
   ],
   "source": [
    "def addBinary(a,b): #naive approach\n",
    "    result=[]\n",
    "    i=len(a)-1\n",
    "    j=len(b)-1\n",
    "    carry=0\n",
    "    while i>=0 or j>=0 or carry:\n",
    "        total=carry\n",
    "        if i>=0:\n",
    "            total+=int(a[i])\n",
    "            i-=1\n",
    "        if j>=0:\n",
    "            total+=int(a[j])\n",
    "            j-=1\n",
    "        result.append(str(total%2))\n",
    "        carry=total//2\n",
    "    return ''.join(reversed(result))\n",
    "addBinary('11','1')"
   ]
  },
  {
   "cell_type": "code",
   "execution_count": 48,
   "metadata": {},
   "outputs": [
    {
     "data": {
      "text/plain": [
       "'100'"
      ]
     },
     "execution_count": 48,
     "metadata": {},
     "output_type": "execute_result"
    }
   ],
   "source": [
    "def addBinary(a,b): #bits manipulation approach\n",
    "    return bin(int(a,2)+int(b,2)).replace('0b','')\n",
    "addBinary('11','1')"
   ]
  },
  {
   "cell_type": "markdown",
   "metadata": {},
   "source": [
    "# Palindrome number "
   ]
  },
  {
   "cell_type": "code",
   "execution_count": 56,
   "metadata": {},
   "outputs": [],
   "source": [
    "class Solution(object):\n",
    "    def isPalindrome(self, x):\n",
    "        oldx=x\n",
    "        rev=0\n",
    "        while x>0:\n",
    "            rev=rev*10+x%10\n",
    "            x=x//10\n",
    "        print(rev,x)\n",
    "        return oldx==rev"
   ]
  },
  {
   "cell_type": "markdown",
   "metadata": {},
   "source": [
    "# Robot return to origin "
   ]
  },
  {
   "cell_type": "code",
   "execution_count": 59,
   "metadata": {},
   "outputs": [
    {
     "data": {
      "text/plain": [
       "False"
      ]
     },
     "execution_count": 59,
     "metadata": {},
     "output_type": "execute_result"
    }
   ],
   "source": [
    "def robotorigin(moves):\n",
    "    row=0\n",
    "    col=0\n",
    "    for i in moves:\n",
    "        if i=='L':\n",
    "            col-=1\n",
    "        elif i=='R':\n",
    "            col+=1\n",
    "        elif i=='U':\n",
    "            row-=1\n",
    "        elif i=='D':\n",
    "            row+=1\n",
    "    return row==0 and col==0\n",
    "robotorigin('UDD')"
   ]
  },
  {
   "cell_type": "markdown",
   "metadata": {},
   "source": [
    "# Two sum"
   ]
  },
  {
   "cell_type": "code",
   "execution_count": 71,
   "metadata": {},
   "outputs": [
    {
     "name": "stdout",
     "output_type": "stream",
     "text": [
      "[0, 1]\n",
      "[0, 2]\n"
     ]
    }
   ],
   "source": [
    "#two sum with hashmap\n",
    "def hashtwosum(arr,k):\n",
    "    m={}\n",
    "    n=len(arr)\n",
    "    for i in range(0,n):\n",
    "        goal=k-arr[i]\n",
    "        if goal in m:\n",
    "            return [m[goal],i]\n",
    "        m[arr[i]]=i\n",
    "print(hashtwosum([2,7,11,15],9))\n",
    "print(hashtwosum([3,0,3],6))"
   ]
  },
  {
   "cell_type": "code",
   "execution_count": 70,
   "metadata": {},
   "outputs": [
    {
     "name": "stdout",
     "output_type": "stream",
     "text": [
      "[0, 1]\n",
      "[1, 2]\n"
     ]
    }
   ],
   "source": [
    "def twosum(arr,k): #wrong trick because after sorting indexes are changed use hash technique\n",
    "    arr.sort()\n",
    "    left=0\n",
    "    right=len(arr)-1\n",
    "    while left<right:\n",
    "        val=arr[left]+arr[right]\n",
    "        if val==k:\n",
    "            return [left,right]\n",
    "        elif val<k:\n",
    "            left+=1\n",
    "        elif val>k:\n",
    "            right-=1\n",
    "    return -1\n",
    "print(twosum([2,7,11,15],9)) \n",
    "print(twosum([3,0,3],6))"
   ]
  },
  {
   "cell_type": "markdown",
   "metadata": {},
   "source": [
    "# Majority element "
   ]
  },
  {
   "cell_type": "code",
   "execution_count": 78,
   "metadata": {},
   "outputs": [],
   "source": [
    "from collections import Counter\n",
    "class Solution(object):\n",
    "    def majorityElement(self, nums):\n",
    "        hashmap=Counter(nums)\n",
    "        for val in hashmap.keys():\n",
    "            if hashmap[val]>len(nums)//2:\n",
    "                return val"
   ]
  },
  {
   "cell_type": "markdown",
   "metadata": {},
   "source": [
    "# 4 sum || "
   ]
  },
  {
   "cell_type": "code",
   "execution_count": 86,
   "metadata": {},
   "outputs": [
    {
     "name": "stdout",
     "output_type": "stream",
     "text": [
      "0\n",
      "{0: 1}\n"
     ]
    }
   ],
   "source": [
    "def sum4(a,b,c,d):\n",
    "    m={}\n",
    "    ans=0\n",
    "    for i in range(len(a)):\n",
    "        x=a[i]\n",
    "        for j in range(len(b)):\n",
    "            y=b[j]\n",
    "            if x+y not in m:\n",
    "                m[x+y]=0\n",
    "            m[x+y]+=1\n",
    "    for i in range(len(c)):\n",
    "        x=c[i]\n",
    "        for j in range(len(d)):\n",
    "            y=d[j]\n",
    "            target=-(x+y)\n",
    "            if target in m:\n",
    "                ans+=m[target]\n",
    "    print(ans)\n",
    "    print(m)\n",
    "sum4([1],[-1],[1],[0])\n",
    "        "
   ]
  },
  {
   "cell_type": "markdown",
   "metadata": {},
   "source": [
    "# Remove nth node from end of list "
   ]
  },
  {
   "cell_type": "code",
   "execution_count": 87,
   "metadata": {},
   "outputs": [],
   "source": [
    "class Solution(object):\n",
    "    def removeNthFromEnd(self, head, n):\n",
    "        ans=ListNode(0)\n",
    "        ans.next=head\n",
    "        first=ans\n",
    "        sec=ans\n",
    "        for i in range(1,n+2):\n",
    "            first=first.next\n",
    "        \n",
    "        while first is not None:\n",
    "            first=first.next\n",
    "            sec=sec.next\n",
    "            \n",
    "        sec.next=sec.next.next\n",
    "        return ans.next"
   ]
  },
  {
   "cell_type": "markdown",
   "metadata": {},
   "source": [
    "# Odd Even Linked list"
   ]
  },
  {
   "cell_type": "code",
   "execution_count": null,
   "metadata": {},
   "outputs": [],
   "source": []
  },
  {
   "cell_type": "markdown",
   "metadata": {},
   "source": [
    "# Palindromic Partioning "
   ]
  },
  {
   "cell_type": "code",
   "execution_count": 88,
   "metadata": {},
   "outputs": [],
   "source": [
    "class Solution(object):\n",
    "    def palindrome(self,s):\n",
    "        i=0\n",
    "        j=len(s)-1\n",
    "        while i<j:\n",
    "            if s[i]!=s[j]:\n",
    "                return False\n",
    "            i+=1\n",
    "            j-=1\n",
    "        return True\n",
    "    def helper(self,s,sub,arr):\n",
    "        if len(s)==0:\n",
    "            print(sub)\n",
    "            arr.append(sub[:])\n",
    "            return \n",
    "        \n",
    "        for i in range(len(s)):\n",
    "            left=s[:i+1]\n",
    "            ros=s[i+1:]\n",
    "            if self.palindrome(left)==True:\n",
    "                sub.append(left)\n",
    "                self.helper(ros,sub,arr)\n",
    "                sub.pop()\n",
    "    \n",
    "    def partition(self, s):\n",
    "        arr=[]\n",
    "        self.helper(s,[],arr)\n",
    "        print(arr)\n",
    "        return arr\n",
    "        "
   ]
  },
  {
   "cell_type": "markdown",
   "metadata": {},
   "source": [
    "# Path Sum "
   ]
  },
  {
   "cell_type": "code",
   "execution_count": 1,
   "metadata": {},
   "outputs": [],
   "source": [
    "class Solution(object):\n",
    "    \n",
    "    def helper(self,root,sum,curr):\n",
    "        if root==None:\n",
    "            return False\n",
    "        if root.left==None and root.right==None and curr+root.val==sum:\n",
    "            return True\n",
    "        \n",
    "        if self.helper(root.left,sum,curr+root.val):\n",
    "            return True\n",
    "        if self.helper(root.right,sum,curr+root.val):\n",
    "            return True\n",
    "    \n",
    "    def hasPathSum(self, root, sum):\n",
    "        \n",
    "        if root==None:\n",
    "            return False\n",
    "        return self.helper(root,sum,0)"
   ]
  },
  {
   "cell_type": "markdown",
   "metadata": {},
   "source": [
    "# Min Stack "
   ]
  },
  {
   "cell_type": "code",
   "execution_count": 2,
   "metadata": {},
   "outputs": [],
   "source": [
    "class MinStack(object):\n",
    "\n",
    "    def __init__(self):\n",
    "        self.st=[]\n",
    "\n",
    "    def push(self, x):\n",
    "        currmin=self.getMin()\n",
    "        if currmin==None or x<currmin :\n",
    "            currmin=x\n",
    "        self.st.append((x,currmin))\n",
    "        \n",
    "    def pop(self):\n",
    "        self.st.pop()\n",
    "        \n",
    "    def top(self):\n",
    "        return self.st[-1][0] if self.st else None\n",
    "\n",
    "    def getMin(self):\n",
    "        return self.st[-1][1] if self.st else None\n",
    "        "
   ]
  },
  {
   "cell_type": "markdown",
   "metadata": {},
   "source": [
    "# Valid Paranthesis"
   ]
  },
  {
   "cell_type": "code",
   "execution_count": 4,
   "metadata": {},
   "outputs": [],
   "source": [
    "class Solution(object):\n",
    "    def isequal(self,c1,c2):\n",
    "        if c1=='(' and c2==')':\n",
    "            return True\n",
    "        if c1=='{' and c2=='}':\n",
    "            return True\n",
    "        if c1=='[' and c2==']':\n",
    "            return True\n",
    "        return False\n",
    "    def isValid(self, s):\n",
    "        stack=[]\n",
    "        for i in range(0,len(s)):\n",
    "            if s[i]=='{' or s[i]=='(' or s[i]=='[':\n",
    "                stack.append(s[i])\n",
    "            else:\n",
    "                if len(stack)!=0:\n",
    "                    peek=stack[-1]\n",
    "                else:\n",
    "                    return False \n",
    "                if self.isequal(peek,s[i]):\n",
    "                    stack.pop()\n",
    "                else:\n",
    "                    return False                \n",
    "        return len(stack)==0"
   ]
  },
  {
   "cell_type": "markdown",
   "metadata": {},
   "source": [
    "# Merge two Sorted  Linked List"
   ]
  },
  {
   "cell_type": "code",
   "execution_count": 1,
   "metadata": {},
   "outputs": [],
   "source": [
    "class Solution(object):\n",
    "    def mergeTwoLists(self, l1, l2):\n",
    "        head=ListNode(0)\n",
    "        sortedlist=head\n",
    "        temp1=l1\n",
    "        temp2=l2\n",
    "        \n",
    "        while temp1 is not None and temp2 is not None:\n",
    "            if temp1.val < temp2.val:\n",
    "                sortedlist.next=ListNode(temp1.val)\n",
    "                temp1=temp1.next\n",
    "            else:\n",
    "                sortedlist.next=ListNode(temp2.val)\n",
    "                temp2=temp2.next\n",
    "            sortedlist=sortedlist.next\n",
    "            \n",
    "        while temp1 is not None:\n",
    "            sortedlist.next=ListNode(temp1.val)\n",
    "            temp1=temp1.next\n",
    "            sortedlist=sortedlist.next\n",
    "        \n",
    "        while temp2 is not None:\n",
    "            sortedlist.next=ListNode(temp2.val)\n",
    "            temp2=temp2.next\n",
    "            sortedlist=sortedlist.next\n",
    "        return head.next\n",
    "        "
   ]
  },
  {
   "cell_type": "markdown",
   "metadata": {},
   "source": [
    "# Permutation of s1 exist in s2"
   ]
  },
  {
   "cell_type": "code",
   "execution_count": 1,
   "metadata": {},
   "outputs": [],
   "source": [
    "#rolling hashtable with sliding window\n",
    "class Solution(object):\n",
    "        \n",
    "    def checkInclusion(self, s1, s2):\n",
    "        k=len(s1)\n",
    "        from collections import Counter\n",
    "        d1=Counter(s1)\n",
    "        d2=Counter(s2[:k])\n",
    "        \n",
    "        if d1==d2:\n",
    "            return True\n",
    "        \n",
    "        for i in range(len(s2)-k):\n",
    "            \n",
    "            if d2[s2[i]]==1:\n",
    "                del d2[s2[i]]\n",
    "            elif d2[s2[i]]>1:\n",
    "                d2[s2[i]]-=1\n",
    "                \n",
    "            if s2[i+k] in d2:\n",
    "                d2[s2[i+k]]+=1\n",
    "            else:\n",
    "                d2[s2[i+1]]=1\n",
    "                \n",
    "            if d1==d2:\n",
    "                return True\n",
    "            \n",
    "        return False"
   ]
  },
  {
   "cell_type": "markdown",
   "metadata": {},
   "source": [
    "# Subarray product less than k "
   ]
  },
  {
   "cell_type": "code",
   "execution_count": 9,
   "metadata": {},
   "outputs": [],
   "source": [
    "class Solution(object):\n",
    "    def numSubarrayProductLessThanK(self, nums, k):\n",
    "        if k<=1:\n",
    "            return 0\n",
    "        prod=1\n",
    "        ans=left=0\n",
    "        \n",
    "        for right,val in enumerate(nums):\n",
    "            prod*=val\n",
    "            while prod>=k:\n",
    "                prod/=nums[left]\n",
    "                left+=1\n",
    "            ans+=right-left+1\n",
    "        return ans\n",
    "            "
   ]
  },
  {
   "cell_type": "code",
   "execution_count": 10,
   "metadata": {},
   "outputs": [
    {
     "name": "stdout",
     "output_type": "stream",
     "text": [
      "0 2\n",
      "1 5\n",
      "2 7\n",
      "3 8\n"
     ]
    }
   ],
   "source": [
    "for i,j in enumerate([2,5,7,8]):\n",
    "    print(i,j)"
   ]
  },
  {
   "cell_type": "markdown",
   "metadata": {},
   "source": [
    "# Next greater node in linked list "
   ]
  },
  {
   "cell_type": "code",
   "execution_count": 1,
   "metadata": {},
   "outputs": [],
   "source": [
    "class Solution(object):\n",
    "    def nextLargerNodes(self, head):\n",
    "        curr=head\n",
    "        ls=list()\n",
    "        stack=list()\n",
    "        pos=-1\n",
    "        while curr:\n",
    "            pos+=1\n",
    "            ls.append(0)\n",
    "            \n",
    "            while stack and stack[-1][1]<curr.val:\n",
    "                idx,_=stack.pop()\n",
    "                ls[idx]=curr.val\n",
    "            \n",
    "            stack.append((pos,curr.val))\n",
    "            curr=curr.next\n",
    "        return ls"
   ]
  },
  {
   "cell_type": "markdown",
   "metadata": {},
   "source": [
    "# Count and say "
   ]
  },
  {
   "cell_type": "code",
   "execution_count": 4,
   "metadata": {},
   "outputs": [
    {
     "name": "stdout",
     "output_type": "stream",
     "text": [
      "11\n",
      "21\n",
      "1211\n"
     ]
    },
    {
     "data": {
      "text/plain": [
       "'1211'"
      ]
     },
     "execution_count": 4,
     "metadata": {},
     "output_type": "execute_result"
    }
   ],
   "source": [
    "from collections import Counter\n",
    "def countAndSay(n):\n",
    "    val='1'\n",
    "    for i in range(n-1):\n",
    "        count=Counter(val)\n",
    "        val=''.join(str(count[x])+x for x in count)\n",
    "        print(val)\n",
    "    return val\n",
    "countAndSay(4)"
   ]
  },
  {
   "cell_type": "markdown",
   "metadata": {},
   "source": [
    "# Longest prefix"
   ]
  },
  {
   "cell_type": "code",
   "execution_count": 5,
   "metadata": {},
   "outputs": [],
   "source": [
    "class Solution(object):\n",
    "    def longestCommonPrefix(self, strs):\n",
    "        s=''\n",
    "        if len(strs)==0:\n",
    "            return s\n",
    "        elif len(strs)==1:\n",
    "            return strs[0]\n",
    "        for i in range(len(min(strs))):\n",
    "            for j in range(1,len(strs)):\n",
    "                if strs[0][i]==strs[j][i]:\n",
    "                    if j==len(strs)-1:\n",
    "                        s+=strs[0][i]\n",
    "                else:\n",
    "                    return s\n",
    "        return s"
   ]
  },
  {
   "cell_type": "markdown",
   "metadata": {},
   "source": [
    "# Generate Paranthesis "
   ]
  },
  {
   "cell_type": "code",
   "execution_count": 6,
   "metadata": {},
   "outputs": [],
   "source": [
    "class Solution(object):\n",
    "    def generateParenthesis(self, n):\n",
    "        ls=[]\n",
    "        def generate(ans,l,r):\n",
    "            if len(ans)==2*n:\n",
    "                ls.append(ans)\n",
    "                return\n",
    "            if l<n:\n",
    "                generate(ans+'(',l+1,r)\n",
    "            if r<l:\n",
    "                generate(ans+')',l,r+1)\n",
    "        generate('',0,0)\n",
    "        return ls"
   ]
  },
  {
   "cell_type": "markdown",
   "metadata": {},
   "source": [
    "# Network Delayed Time\n",
    "dijkstra algorithm if weights are not given then use bfs algorithm"
   ]
  },
  {
   "cell_type": "code",
   "execution_count": 2,
   "metadata": {},
   "outputs": [],
   "source": [
    "from collections import defaultdict\n",
    "from heapq import *\n",
    "import sys\n",
    "class Solution(object):\n",
    "    def networkDelayTime(self, times, N, K):\n",
    "        graph=defaultdict(set)        \n",
    "        for t in times:\n",
    "            u,v,w=t[0],t[1],t[2]\n",
    "            graph[u].add((v,w))\n",
    "        visited=defaultdict()\n",
    "        queue=[]\n",
    "        heappush(queue,(0,K))\n",
    "        while len(queue)!=0:\n",
    "            weight,node=heappop(queue)\n",
    "            if node not in visited:\n",
    "                visited[node]=weight\n",
    "                for nbr,w in graph[node]:\n",
    "                    if nbr not in visited:\n",
    "                        nw=w+weight\n",
    "                        heappush(queue,(nw,nbr))\n",
    "            \n",
    "        return max(visited.values()) if len(visited)==N else -1"
   ]
  },
  {
   "cell_type": "markdown",
   "metadata": {},
   "source": [
    "# Course Schedule\n",
    "cycle detection in directed graph"
   ]
  },
  {
   "cell_type": "code",
   "execution_count": 3,
   "metadata": {},
   "outputs": [],
   "source": [
    "from collections import defaultdict\n",
    "class Solution(object):\n",
    "    def cycleutil(self,graph,src,visited):\n",
    "        visited.add(src)\n",
    "        for nbr in graph[src]:\n",
    "            if nbr in visited:\n",
    "                return True\n",
    "            else:\n",
    "                ans=self.cycleutil(graph,nbr,visited)\n",
    "                if ans:\n",
    "                    return True\n",
    "        visited.remove(src)\n",
    "        return False\n",
    "    \n",
    "    def canFinish(self, numCourses, prerequisites):\n",
    "        graph=defaultdict(set)\n",
    "        for ts in prerequisites:\n",
    "            u,v=ts[0],ts[1]\n",
    "            graph[u].add(v)\n",
    "        \n",
    "        visited=set()\n",
    "        for src in graph.keys():\n",
    "            if src not in visited:\n",
    "                if self.cycleutil(graph,src,visited):\n",
    "                    return False\n",
    "        return True"
   ]
  },
  {
   "cell_type": "markdown",
   "metadata": {},
   "source": [
    "# Longest Consecutive Subsequece"
   ]
  },
  {
   "cell_type": "code",
   "execution_count": 2,
   "metadata": {},
   "outputs": [],
   "source": [
    "#set in python use O(1) lookup\n",
    "class Solution(object):\n",
    "    def longestConsecutive(self, nums):\n",
    "        longest=0\n",
    "        numSet=set(nums)\n",
    "        for num in numSet:\n",
    "            if num-1 not in numSet:\n",
    "                curr=num\n",
    "                currlen=1\n",
    "                \n",
    "                while curr+1 in numSet:\n",
    "                    curr+=1\n",
    "                    currlen+=1\n",
    "                longest=max(longest,currlen)\n",
    "        return longest"
   ]
  },
  {
   "cell_type": "markdown",
   "metadata": {},
   "source": [
    "# Contigeous array submission "
   ]
  },
  {
   "cell_type": "code",
   "execution_count": 3,
   "metadata": {},
   "outputs": [],
   "source": [
    "class Solution(object):\n",
    "    def findMaxLength(self, nums):\n",
    "        maxlen=0\n",
    "        count=0\n",
    "        hashmap={0:-1}\n",
    "        for i in range(0,len(nums)):\n",
    "            if nums[i]==0:\n",
    "                count-=1\n",
    "            elif nums[i]==1:\n",
    "                count+=1\n",
    "                \n",
    "            if count in hashmap:\n",
    "                maxlen=max(maxlen,i-hashmap[count])\n",
    "            else:\n",
    "                hashmap[count]=i\n",
    "        print(hashmap)\n",
    "        return maxlen"
   ]
  },
  {
   "cell_type": "markdown",
   "metadata": {},
   "source": [
    "# Subarry div by k"
   ]
  },
  {
   "cell_type": "code",
   "execution_count": 7,
   "metadata": {},
   "outputs": [
    {
     "name": "stdout",
     "output_type": "stream",
     "text": [
      "[0, 4, 4, 4, 2, 4, 0]\n",
      "Counter({4: 4, 0: 2, 2: 1})\n",
      "7.0\n"
     ]
    }
   ],
   "source": [
    "from collections import Counter\n",
    "def subdivk(arr,k):\n",
    "    p=[0]\n",
    "    for x in arr:\n",
    "        p.append((p[-1]+x)%k)\n",
    "    print(p)\n",
    "    count=Counter(p)\n",
    "    print(count)\n",
    "    print(sum(v*(v-1)/2 for v in count.values()))\n",
    "subdivk([4,5,0,-2,-3,1],5)"
   ]
  },
  {
   "cell_type": "markdown",
   "metadata": {},
   "source": [
    "# Maximum diff btw a node and ancesstor"
   ]
  },
  {
   "cell_type": "code",
   "execution_count": 14,
   "metadata": {},
   "outputs": [],
   "source": [
    "#normal recursion\n",
    "class Solution:\n",
    "    def maxAncestorDiff(self, root):\n",
    "        if not root:\n",
    "            return 0\n",
    "        # record the required maximum difference\n",
    "        self.result = 0\n",
    "\n",
    "        def helper(node, cur_max, cur_min):\n",
    "            if not node:\n",
    "                return\n",
    "            # update `result`\n",
    "            self.result = max(self.result, abs(cur_max-node.val),\n",
    "                              abs(cur_min-node.val))\n",
    "            # update the max and min\n",
    "            cur_max = max(cur_max, node.val)\n",
    "            cur_min = min(cur_min, node.val)\n",
    "            helper(node.left, cur_max, cur_min)\n",
    "            helper(node.right, cur_max, cur_min)\n",
    "\n",
    "        helper(root, root.val, root.val)\n",
    "        return self.result"
   ]
  },
  {
   "cell_type": "code",
   "execution_count": 12,
   "metadata": {},
   "outputs": [],
   "source": [
    "#max - min approach\n",
    "class Solution(object):\n",
    "    def maxAncestorDiff(self, root):\n",
    "        if root==None:\n",
    "            return\n",
    "        def helper(root,currmin,currmax):\n",
    "            if root==None:\n",
    "                return currmax-currmin\n",
    "            \n",
    "            currmax=max(currmax,root.val)\n",
    "            currmin=min(currmin,root.val)\n",
    "            \n",
    "            left=helper(root.left,currmin,currmax)\n",
    "            right=helper(root.right,currmin,currmax)\n",
    "            return max(left,right)\n",
    "        return helper(root,root.val,root.val)"
   ]
  },
  {
   "cell_type": "code",
   "execution_count": 16,
   "metadata": {},
   "outputs": [
    {
     "data": {
      "text/plain": [
       "'\\x7f'"
      ]
     },
     "execution_count": 16,
     "metadata": {},
     "output_type": "execute_result"
    }
   ],
   "source": [
    "chr(127)"
   ]
  },
  {
   "cell_type": "markdown",
   "metadata": {},
   "source": [
    "# Maximum length of repeated subarray "
   ]
  },
  {
   "cell_type": "code",
   "execution_count": 18,
   "metadata": {},
   "outputs": [],
   "source": [
    "class Solution(object):\n",
    "    def findLength(self, A, B):\n",
    "        result=0\n",
    "        dp=[[0 for x in range(len(B)+1)]for x in range(len(A)+1)]\n",
    "        for i in range(1,len(dp)):\n",
    "            for j in range(1,len(dp[0])):\n",
    "                if A[i-1]==B[j-1]:\n",
    "                    dp[i][j]=dp[i-1][j-1]+1\n",
    "                    result=max(result,dp[i][j])\n",
    "        return result"
   ]
  },
  {
   "cell_type": "code",
   "execution_count": 5,
   "metadata": {},
   "outputs": [],
   "source": [
    "from collections import Counter"
   ]
  },
  {
   "cell_type": "code",
   "execution_count": 9,
   "metadata": {},
   "outputs": [
    {
     "data": {
      "text/plain": [
       "Counter({1: 4, 2: 2, 3: 3})"
      ]
     },
     "execution_count": 9,
     "metadata": {},
     "output_type": "execute_result"
    }
   ],
   "source": [
    "Counter([1,1,1,1,2,2,3,3,3])"
   ]
  },
  {
   "cell_type": "code",
   "execution_count": 29,
   "metadata": {},
   "outputs": [],
   "source": [
    "a=[\"900 google.mail.com\", \"50 yahoo.com\", \"1 intel.mail.com\", \"5 wiki.org\"]"
   ]
  },
  {
   "cell_type": "code",
   "execution_count": 30,
   "metadata": {},
   "outputs": [],
   "source": [
    "for i in range(0,len(a)):\n",
    "    a[i]=a[i].split(' ')\n",
    "    a[i][1]=a[i][1].split('.')"
   ]
  },
  {
   "cell_type": "code",
   "execution_count": 31,
   "metadata": {},
   "outputs": [
    {
     "data": {
      "text/plain": [
       "[['900', ['google', 'mail', 'com']],\n",
       " ['50', ['yahoo', 'com']],\n",
       " ['1', ['intel', 'mail', 'com']],\n",
       " ['5', ['wiki', 'org']]]"
      ]
     },
     "execution_count": 31,
     "metadata": {},
     "output_type": "execute_result"
    }
   ],
   "source": [
    "a"
   ]
  },
  {
   "cell_type": "code",
   "execution_count": 38,
   "metadata": {},
   "outputs": [
    {
     "data": {
      "text/plain": [
       "'com'"
      ]
     },
     "execution_count": 38,
     "metadata": {},
     "output_type": "execute_result"
    }
   ],
   "source": [
    "'.'.join(a[0][1][2:])"
   ]
  },
  {
   "cell_type": "code",
   "execution_count": 39,
   "metadata": {},
   "outputs": [
    {
     "data": {
      "text/plain": [
       "3"
      ]
     },
     "execution_count": 39,
     "metadata": {},
     "output_type": "execute_result"
    }
   ],
   "source": [
    "len(a[0][1])"
   ]
  },
  {
   "cell_type": "code",
   "execution_count": 42,
   "metadata": {},
   "outputs": [],
   "source": [
    "hashmap={}\n",
    "for i in range(0,len(a)):\n",
    "    cnt=len(a[i][1])\n",
    "    j=0\n",
    "    while j<cnt:\n",
    "        key='.'.join(a[i][1][j:])\n",
    "        if key not in hashmap:\n",
    "            hashmap[key]=int(a[i][0])\n",
    "        else:\n",
    "            hashmap[key]+=int(a[i][0])\n",
    "        j+=1"
   ]
  },
  {
   "cell_type": "code",
   "execution_count": 43,
   "metadata": {},
   "outputs": [
    {
     "data": {
      "text/plain": [
       "{'google.mail.com': 900,\n",
       " 'mail.com': 901,\n",
       " 'com': 951,\n",
       " 'yahoo.com': 50,\n",
       " 'intel.mail.com': 1,\n",
       " 'wiki.org': 5,\n",
       " 'org': 5}"
      ]
     },
     "execution_count": 43,
     "metadata": {},
     "output_type": "execute_result"
    }
   ],
   "source": [
    "hashmap"
   ]
  },
  {
   "cell_type": "code",
   "execution_count": 44,
   "metadata": {},
   "outputs": [],
   "source": [
    "result=[]\n",
    "for x in hashmap.keys():\n",
    "    newS=''\n",
    "    newS+=str(hashmap[x])+\" \"+x\n",
    "    result.append(newS)"
   ]
  },
  {
   "cell_type": "code",
   "execution_count": 45,
   "metadata": {},
   "outputs": [
    {
     "data": {
      "text/plain": [
       "['900 google.mail.com',\n",
       " '901 mail.com',\n",
       " '951 com',\n",
       " '50 yahoo.com',\n",
       " '1 intel.mail.com',\n",
       " '5 wiki.org',\n",
       " '5 org']"
      ]
     },
     "execution_count": 45,
     "metadata": {},
     "output_type": "execute_result"
    }
   ],
   "source": [
    "result"
   ]
  },
  {
   "cell_type": "code",
   "execution_count": null,
   "metadata": {},
   "outputs": [],
   "source": []
  }
 ],
 "metadata": {
  "kernelspec": {
   "display_name": "Python 3",
   "language": "python",
   "name": "python3"
  },
  "language_info": {
   "codemirror_mode": {
    "name": "ipython",
    "version": 3
   },
   "file_extension": ".py",
   "mimetype": "text/x-python",
   "name": "python",
   "nbconvert_exporter": "python",
   "pygments_lexer": "ipython3",
   "version": "3.8.5"
  }
 },
 "nbformat": 4,
 "nbformat_minor": 2
}
