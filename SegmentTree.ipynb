{
 "cells": [
  {
   "cell_type": "markdown",
   "metadata": {},
   "source": [
    "# Efficient approach\n",
    "query-> O(q)\n",
    "update-> O(n)"
   ]
  },
  {
   "cell_type": "code",
   "execution_count": 3,
   "metadata": {},
   "outputs": [
    {
     "name": "stdout",
     "output_type": "stream",
     "text": [
      "(2, 3):16\n",
      "(1, 4):30\n",
      "(3, 4):19\n"
     ]
    }
   ],
   "source": [
    "def rangeSUM(arr,query):\n",
    "    x=0\n",
    "    for i in range(0,len(arr)):\n",
    "        x+=arr[i]\n",
    "        arr[i]=x\n",
    "    for q in query:\n",
    "        l,r=q[0],q[1]\n",
    "        print(str(q)+':'+str(arr[r]-arr[l-1]))\n",
    "rangeSUM([1,4,7,9,10],[(2,3),(1,4),(3,4)])"
   ]
  },
  {
   "cell_type": "markdown",
   "metadata": {},
   "source": [
    "# Segment Tree "
   ]
  },
  {
   "cell_type": "code",
   "execution_count": 43,
   "metadata": {},
   "outputs": [],
   "source": [
    "def construct(st,si,arr,l,r):\n",
    "    if l> r:\n",
    "        return\n",
    "    \n",
    "    if l==r:\n",
    "        st[si]=arr[l]\n",
    "        return st[si]\n",
    "    mid=(l+r)//2\n",
    "    a=construct(st,2*si+1,arr,l,mid)\n",
    "    b=construct(st,2*si+2,arr,mid+1,r)\n",
    "    st[si]=a+b\n",
    "    return st[si]"
   ]
  },
  {
   "cell_type": "code",
   "execution_count": 64,
   "metadata": {},
   "outputs": [
    {
     "name": "stdout",
     "output_type": "stream",
     "text": [
      "[0, 0, 0, 0, 0, 0, 0, 0, 0, 0, 0, 0, 0, 0, 0]\n",
      "[31, 12, 19, 5, 7, 9, 10, 1, 4, 0, 0, 0, 0, 0, 0]\n"
     ]
    }
   ],
   "source": [
    "from math import ceil,log2\n",
    "def build(arr,n):\n",
    "    tnodes=2*(2**ceil(log2(n)))-1\n",
    "    st=[0]*tnodes\n",
    "    print(st)\n",
    "    construct(st,0,arr,0,n-1) #params -> st, stidx,arr,lidx,ridx\n",
    "    print(st)\n",
    "    return st\n",
    "arr=[1,4,7,9,10]\n",
    "n=len(arr)\n",
    "st=build(arr,n)"
   ]
  },
  {
   "cell_type": "code",
   "execution_count": 73,
   "metadata": {},
   "outputs": [
    {
     "name": "stdout",
     "output_type": "stream",
     "text": [
      "2\n",
      "1\n"
     ]
    },
    {
     "data": {
      "text/plain": [
       "26"
      ]
     },
     "execution_count": 73,
     "metadata": {},
     "output_type": "execute_result"
    }
   ],
   "source": [
    "def getRangeSum(st,si,sl,sr,l,r):\n",
    "    if si>len(st):\n",
    "        return 0\n",
    "    if l<=sl and r>=sr:\n",
    "        return st[si]\n",
    "    if sr<l or sl>r:\n",
    "        return 0\n",
    "    mid=(sl+sr)//2\n",
    "    print(mid)\n",
    "    return getRangeSum(st,2*si+1,sl,mid,l,r)+getRangeSum(st,2*si+2,mid+1,sr,l,r)\n",
    "getRangeSum(st,0,0,4,2,4)"
   ]
  },
  {
   "cell_type": "code",
   "execution_count": 78,
   "metadata": {},
   "outputs": [
    {
     "name": "stdout",
     "output_type": "stream",
     "text": [
      "9\n",
      "[31, 12, 19, 5, 7, 9, 10, 1, 4, 0, 0, 0, 0, 0, 0]\n",
      "[27, 12, 15, 5, 7, 5, 10, 1, 4, 0, 0, 0, 0, 0, 0]\n"
     ]
    }
   ],
   "source": [
    "def updateST(st,si,sl,sr,pos,diff):\n",
    "    if sl>pos or sr<pos:\n",
    "        return\n",
    "    st[si]+=diff\n",
    "    if sl!=sr:\n",
    "        mid=(sl+sr)//2\n",
    "        updateST(st,2*si+1,sl,mid,pos,diff)\n",
    "        updateST(st,2*si+2,mid+1,sr,pos,diff)\n",
    "print(arr[3])\n",
    "#update arr[3] which is 9 to 5\n",
    "diff=5-arr[3]\n",
    "print(st)\n",
    "updateST(st,0,0,len(arr)-1,3,diff)\n",
    "print(st)"
   ]
  },
  {
   "cell_type": "code",
   "execution_count": 79,
   "metadata": {},
   "outputs": [
    {
     "data": {
      "text/plain": [
       "-1"
      ]
     },
     "execution_count": 79,
     "metadata": {},
     "output_type": "execute_result"
    }
   ],
   "source": [
    "-1"
   ]
  },
  {
   "cell_type": "markdown",
   "metadata": {},
   "source": [
    "# Fenwick tree "
   ]
  },
  {
   "cell_type": "code",
   "execution_count": 93,
   "metadata": {},
   "outputs": [],
   "source": [
    "#build tree\n",
    "def ftBuild(arr):\n",
    "    ft=[0]*(len(arr)+1)\n",
    "    for i in range(len(arr)):\n",
    "        x=i+1\n",
    "        while x<=len(arr):\n",
    "            ft[x]+=arr[i]\n",
    "            x+=x&-x\n",
    "    return ft\n",
    "ftree=ftBuild(arr)"
   ]
  },
  {
   "cell_type": "code",
   "execution_count": 94,
   "metadata": {},
   "outputs": [
    {
     "data": {
      "text/plain": [
       "19"
      ]
     },
     "execution_count": 94,
     "metadata": {},
     "output_type": "execute_result"
    }
   ],
   "source": [
    "#sum Range\n",
    "def ftRange(arr,i,j):\n",
    "    resi=0\n",
    "    resj=0\n",
    "    j=j+1\n",
    "    while i>0:\n",
    "        resi+=arr[i]\n",
    "        i-=i&-i\n",
    "    \n",
    "    while j>0:\n",
    "        resj+=arr[j]\n",
    "        j-=j&-j\n",
    "    \n",
    "    return resj-resi\n",
    "ftRange(ftree,3,4)"
   ]
  },
  {
   "cell_type": "code",
   "execution_count": 96,
   "metadata": {},
   "outputs": [
    {
     "name": "stdout",
     "output_type": "stream",
     "text": [
      "[1, 4, 7, 5, 10]\n",
      "[0, 1, 5, 7, 17, 10]\n"
     ]
    }
   ],
   "source": [
    "#update tree\n",
    "def ftupdate(ftree,arr,i,val):\n",
    "    diff=val-arr[i]\n",
    "    arr[i]=val\n",
    "    x=i+1\n",
    "    while x<=len(ftree):\n",
    "        ftree[x]+=diff\n",
    "        x+=x&-x\n",
    "    print(arr)\n",
    "    print(ftree)\n",
    "    \n",
    "ftupdate(ftree,arr,3,5)"
   ]
  },
  {
   "cell_type": "code",
   "execution_count": 97,
   "metadata": {},
   "outputs": [],
   "source": [
    "#leetcode soln\n",
    "class NumArray:\n",
    "    def __init__(self,nums):\n",
    "        self.sumarray=[0]*(len(nums)+1)\n",
    "        self.nums=nums\n",
    "        self.n=len(nums)\n",
    "        for i in range(len(nums)):\n",
    "            self.add(i+1,nums[i])\n",
    "    \n",
    "    def add(self,x,val):\n",
    "        while x<=self.n:\n",
    "            self.sumarray[x]+=val\n",
    "            x+=self.lowbit(x)\n",
    "            \n",
    "    def lowbit(self,x):\n",
    "        return x & -x\n",
    "    \n",
    "    def sum(self,x):\n",
    "        res=0\n",
    "        while x>0:\n",
    "            res+=self.sumarray[x]\n",
    "            x-=self.lowbit(x)\n",
    "        return res\n",
    "    \n",
    "    def update(self,i,val):\n",
    "        self.add(i+1,val-self.nums[i])\n",
    "        self.nums[i]=val\n",
    "        \n",
    "    def sumRange(self,i,j):\n",
    "        if not self.nums:\n",
    "            return 0\n",
    "        return self.sum(j+1) - self.sum(i)\n",
    "        "
   ]
  },
  {
   "cell_type": "code",
   "execution_count": null,
   "metadata": {},
   "outputs": [],
   "source": []
  }
 ],
 "metadata": {
  "kernelspec": {
   "display_name": "Python 3",
   "language": "python",
   "name": "python3"
  },
  "language_info": {
   "codemirror_mode": {
    "name": "ipython",
    "version": 3
   },
   "file_extension": ".py",
   "mimetype": "text/x-python",
   "name": "python",
   "nbconvert_exporter": "python",
   "pygments_lexer": "ipython3",
   "version": "3.6.8"
  }
 },
 "nbformat": 4,
 "nbformat_minor": 2
}
