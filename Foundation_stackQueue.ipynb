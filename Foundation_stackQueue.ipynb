{
 "cells": [
  {
   "cell_type": "markdown",
   "metadata": {},
   "source": [
    "# Duplicate Brackets"
   ]
  },
  {
   "cell_type": "code",
   "execution_count": 64,
   "metadata": {},
   "outputs": [
    {
     "data": {
      "text/plain": [
       "False"
      ]
     },
     "execution_count": 64,
     "metadata": {},
     "output_type": "execute_result"
    }
   ],
   "source": [
    "def duplicatebracket(string):\n",
    "    stack=[]\n",
    "    for x in string:\n",
    "        if x!=')':\n",
    "            stack.append(x)\n",
    "        else:\n",
    "            count=0\n",
    "            element=stack.pop()\n",
    "            while len(stack)!=0 and element!='(':\n",
    "                element=stack.pop()\n",
    "                count+=1\n",
    "            if count==0:\n",
    "                return False\n",
    "    return True\n",
    "duplicatebracket('(a+b)+((c+d))')"
   ]
  },
  {
   "cell_type": "markdown",
   "metadata": {},
   "source": [
    "# Next Greater element"
   ]
  },
  {
   "cell_type": "code",
   "execution_count": 17,
   "metadata": {},
   "outputs": [
    {
     "name": "stdout",
     "output_type": "stream",
     "text": [
      "[4, 7, 7, 12, -1, 3, 8, -1]\n",
      "[2, 3, 4, 5, 6, 7, -1]\n",
      "[-1, -1, -1, -1]\n"
     ]
    }
   ],
   "source": [
    "def NGE(arr):\n",
    "    stack=[]\n",
    "    store=[]\n",
    "    stack.append(arr[-1])\n",
    "    store.append(-1)\n",
    "    for idx in range(len(arr)-2,-1,-1):\n",
    "        element=stack[-1]\n",
    "        if element>arr[idx]:\n",
    "            store.append(element)\n",
    "            stack.append(arr[idx])\n",
    "        else:\n",
    "            while len(stack)!=0 and element<arr[idx]:\n",
    "                stack.pop()\n",
    "                if len(stack)!=0:\n",
    "                    element=stack[-1]\n",
    "            if len(stack)==0:\n",
    "                store.append(-1)\n",
    "            else:\n",
    "                store.append(element)\n",
    "            stack.append(arr[idx])\n",
    "    return store[::-1]\n",
    "print(NGE([2,4,0,7,12,1,3,8]))\n",
    "print(NGE([1,2,3,4,5,6,7]))\n",
    "print(NGE([4,3,2,1]))"
   ]
  },
  {
   "cell_type": "markdown",
   "metadata": {},
   "source": [
    "# Last greater element"
   ]
  },
  {
   "cell_type": "code",
   "execution_count": 19,
   "metadata": {},
   "outputs": [
    {
     "name": "stdout",
     "output_type": "stream",
     "text": [
      "[-1, 12, 12, -1, 21, 21, 21]\n",
      "[-1, -1, -1, -1, -1, -1, -1]\n",
      "[-1, 7, 6, 5, 4]\n"
     ]
    }
   ],
   "source": [
    "def LGE(arr):\n",
    "    stack=[]\n",
    "    store=[]\n",
    "    stack.append(arr[0])\n",
    "    store.append(-1)\n",
    "    for i in range(1,len(arr)):\n",
    "        element=stack[-1]\n",
    "        if element>arr[i]:\n",
    "            store.append(element)\n",
    "            stack.append(arr[i])\n",
    "        else:\n",
    "            while len(stack)!=0 and element<arr[i]:\n",
    "                stack.pop()\n",
    "                if len(stack)!=0:\n",
    "                    element=stack[-1]\n",
    "            if len(stack)==0:\n",
    "                store.append(-1)\n",
    "            else:\n",
    "                store.append(element)\n",
    "            stack.append(arr[i])\n",
    "    return store\n",
    "print(LGE([12,3,5,21,7,8,9]))\n",
    "print(LGE([1,2,3,4,5,6,7]))\n",
    "print(LGE([7,6,5,4,3]))"
   ]
  },
  {
   "cell_type": "markdown",
   "metadata": {},
   "source": [
    "# Infix conversion "
   ]
  },
  {
   "cell_type": "code",
   "execution_count": 39,
   "metadata": {},
   "outputs": [],
   "source": [
    "def priority(exp):\n",
    "    if exp=='+' or exp=='-':\n",
    "        return 1\n",
    "    else:\n",
    "        return 2\n",
    "def operation(v1,v2,op):\n",
    "    if op=='+':\n",
    "        return v1+v2\n",
    "    elif op=='-':\n",
    "        return v1-v2\n",
    "    elif op=='*':\n",
    "        return v1*v2\n",
    "    elif op=='/':\n",
    "        return v1/v2\n",
    "\n",
    "def infix_conversion(expression):\n",
    "    operator=[] #stack\n",
    "    operand=[] #stack\n",
    "    \n",
    "    for i in range(0,len(expression)):\n",
    "        if expression[i]=='(':\n",
    "            operator.append(expression[i])\n",
    "        elif expression[i].isdigit():\n",
    "            operand.append(expression[i])\n",
    "        elif expression[i]==')':\n",
    "            while len(operator) != 0 and operator[-1]!='(':\n",
    "                op=operator.pop()\n",
    "                v2=int(operand.pop())\n",
    "                v1=int(operand.pop())\n",
    "                result=operation(v1,v2,op)\n",
    "                operand.append(result)\n",
    "            operator.pop()\n",
    "                \n",
    "        elif expression[i]=='+' or expression[i]=='-' or expression[i]=='*' or expression[i]=='/':\n",
    "            \n",
    "            while len(operator)!=0 and operator[-1]!='(' and priority(expression[i])<=priority(expression[-1]):\n",
    "                op=operator.pop()\n",
    "                v2=int(operand.pop())\n",
    "                v1=int(operand.pop())\n",
    "                result=operation(v1,v2,op)\n",
    "                operand.append(result)\n",
    "            operator.append(expression[i])\n",
    "    while len(operator)!=0:\n",
    "        op=operator.pop()\n",
    "        v2=int(operand.pop())\n",
    "        v1=int(operand.pop())\n",
    "        result=operation(v1,v2,op)\n",
    "        operand.append(result)\n",
    "    return operand[-1]\n",
    "    "
   ]
  },
  {
   "cell_type": "code",
   "execution_count": 40,
   "metadata": {},
   "outputs": [
    {
     "data": {
      "text/plain": [
       "8"
      ]
     },
     "execution_count": 40,
     "metadata": {},
     "output_type": "execute_result"
    }
   ],
   "source": [
    "infix_conversion(\"(2*3+6)/4+5\")"
   ]
  },
  {
   "cell_type": "markdown",
   "metadata": {},
   "source": [
    "# Prefix Conversion "
   ]
  },
  {
   "cell_type": "code",
   "execution_count": 62,
   "metadata": {},
   "outputs": [
    {
     "name": "stdout",
     "output_type": "stream",
     "text": [
      "value: 30\n",
      "infix ((2+3)*6)\n",
      "postfix 23+6*\n"
     ]
    }
   ],
   "source": [
    "def operation(v1,v2,op):\n",
    "    if op=='+':\n",
    "        return v1+v2\n",
    "    elif op=='-':\n",
    "        return v1-v2\n",
    "    elif op=='*':\n",
    "        return v1*v2\n",
    "    elif op=='/':\n",
    "        return v1/v2\n",
    "def prefix(expression):\n",
    "    value=[]\n",
    "    infix=[]\n",
    "    postfix=[]\n",
    "    for i in range(len(expression)-1,-1,-1):\n",
    "        if expression[i].isdigit():\n",
    "            value.append(expression[i])\n",
    "            infix.append(expression[i])\n",
    "            postfix.append(expression[i])\n",
    "        elif expression[i]=='+' or expression[i]=='-' or expression[i]=='*' or expression[i]=='/':\n",
    "            #value\n",
    "            v1=value.pop()\n",
    "            v2=value.pop()\n",
    "            result=operation(int(v1),int(v2),expression[i])\n",
    "            value.append(result)\n",
    "            #infix\n",
    "            v1=infix.pop()\n",
    "            v2=infix.pop()\n",
    "            result='('+v1+expression[i]+v2+')'\n",
    "            infix.append(result)\n",
    "            #postfix\n",
    "            v1=postfix.pop()\n",
    "            v2=postfix.pop()\n",
    "            result=v1+v2+expression[i]\n",
    "            postfix.append(result)\n",
    "    print('value:',value[-1])\n",
    "    print('infix',infix[-1])\n",
    "    print('postfix',postfix[-1])\n",
    "    return \n",
    "            \n",
    "prefix('*+236')"
   ]
  },
  {
   "cell_type": "markdown",
   "metadata": {},
   "source": [
    "# Postfix conversion "
   ]
  },
  {
   "cell_type": "code",
   "execution_count": 60,
   "metadata": {},
   "outputs": [
    {
     "name": "stdout",
     "output_type": "stream",
     "text": [
      "value: 30\n",
      "infix: ((2+3)*6)\n",
      "prefix: *+236\n"
     ]
    }
   ],
   "source": [
    "def postfix(expression):\n",
    "    value=[]\n",
    "    prefix=[]\n",
    "    infix=[]\n",
    "    for i in range(0,len(expression)):\n",
    "        if expression[i].isdigit():\n",
    "            value.append(expression[i])\n",
    "            prefix.append(expression[i])\n",
    "            infix.append(expression[i])\n",
    "        elif expression[i]=='+' or expression[i]=='-' or expression[i]=='*' or expression[i]=='/':\n",
    "            #value\n",
    "            v2=value.pop()\n",
    "            v1=value.pop()\n",
    "            result=operation(int(v1),int(v2),expression[i])\n",
    "            value.append(result)\n",
    "            #prefix\n",
    "            v2=prefix.pop()\n",
    "            v1=prefix.pop()\n",
    "            result=expression[i]+v1+v2\n",
    "            prefix.append(result)\n",
    "            #infix\n",
    "            v2=infix.pop()\n",
    "            v1=infix.pop()\n",
    "            result='('+v1+expression[i]+v2+')'\n",
    "            infix.append(result)\n",
    "    print('value:',value[-1])\n",
    "    print('infix:',infix[-1])\n",
    "    print('prefix:',prefix[-1]) \n",
    "    return \n",
    "postfix('23+6*')"
   ]
  },
  {
   "cell_type": "markdown",
   "metadata": {},
   "source": [
    "# Sliding window "
   ]
  },
  {
   "cell_type": "code",
   "execution_count": 83,
   "metadata": {},
   "outputs": [
    {
     "name": "stdout",
     "output_type": "stream",
     "text": [
      "[7, 9, 9, 10, 5, 10, 10]\n",
      "7 7 9 9 5 10 "
     ]
    }
   ],
   "source": [
    "#find NGE\n",
    "def nge(arr):\n",
    "    stack=[]\n",
    "    store=[]\n",
    "    store.append(arr[-1])\n",
    "    stack.append(arr[-1])\n",
    "    \n",
    "    for i in range(len(arr)-2,-1,-1):\n",
    "        peek=stack[-1]\n",
    "        if peek>arr[i]:\n",
    "            store.append(peek)\n",
    "            stack.append(arr[i])\n",
    "        else:\n",
    "            \n",
    "            while len(stack)!=0 and peek<arr[i]:\n",
    "                stack.pop()\n",
    "                if len(stack)!=0:\n",
    "                    peek=stack[-1]\n",
    "            if len(stack)==0:\n",
    "                store.append(arr[i])\n",
    "            else:\n",
    "                store.append(peek)\n",
    "            stack.append(arr[i])\n",
    "    return store[::-1]\n",
    "def slidingwindow(arr,k):\n",
    "    nextgreat=nge(arr)\n",
    "    print(nextgreat)\n",
    "    for i in range(0,len(arr)-k+1):\n",
    "        j=i\n",
    "        sub=arr[i:i+k]\n",
    "        while j <len(arr)-1 and nextgreat[j] in sub :\n",
    "            j+=1\n",
    "        print(arr[j],end=' ')\n",
    "slidingwindow([4,7,2,9,1,5,10],2)"
   ]
  },
  {
   "cell_type": "markdown",
   "metadata": {},
   "source": [
    "# stock span\n",
    "Stock span is defined as the number of days passed between the current day and the first day before today when price was higher than today."
   ]
  },
  {
   "cell_type": "code",
   "execution_count": 86,
   "metadata": {},
   "outputs": [
    {
     "data": {
      "text/plain": [
       "[1, 2, 3, 1, 1, 6, 1, 2, 1]"
      ]
     },
     "execution_count": 86,
     "metadata": {},
     "output_type": "execute_result"
    }
   ],
   "source": [
    "def stockspan(arr):\n",
    "    stack=[]\n",
    "    store=[]\n",
    "    stack.append(0)\n",
    "    store.append(1)\n",
    "    \n",
    "    for i in range(1,len(arr)):\n",
    "        peek=stack[-1]\n",
    "        if arr[peek]>arr[i]:\n",
    "            store.append(i-peek)\n",
    "            stack.append(i)\n",
    "        else:\n",
    "            while len(stack)!=0 and arr[peek]<arr[i]:\n",
    "                stack.pop()\n",
    "                if len(stack)!=0:\n",
    "                    peek=stack[-1]\n",
    "            if len(stack)==0:\n",
    "                store.append(i+1)\n",
    "            else:\n",
    "                store.append(i-peek)\n",
    "            stack.append(i)\n",
    "    return store\n",
    "stockspan([2,5,9, 3, 1, 12, 6, 8, 7])"
   ]
  },
  {
   "cell_type": "markdown",
   "metadata": {},
   "source": [
    "# Largest Area histogram\n",
    "find left smallest and right smallest and width= right-left-1"
   ]
  },
  {
   "cell_type": "code",
   "execution_count": 89,
   "metadata": {},
   "outputs": [
    {
     "data": {
      "text/plain": [
       "12"
      ]
     },
     "execution_count": 89,
     "metadata": {},
     "output_type": "execute_result"
    }
   ],
   "source": [
    "def leftsmallest(arr):\n",
    "    stack=[]\n",
    "    store=[]\n",
    "    stack.append(0)\n",
    "    store.append(-1)\n",
    "    for i in range(1,len(arr)):\n",
    "        peek=stack[-1]\n",
    "        if arr[peek]<arr[i]:\n",
    "            stack.append(i)\n",
    "            store.append(peek)\n",
    "        else:\n",
    "            while len(stack)!=0 and arr[peek]>arr[i]:\n",
    "                stack.pop()\n",
    "                if len(stack)!=0:\n",
    "                    peek=stack[-1]\n",
    "            if len(stack)==0:\n",
    "                store.append(-1)\n",
    "            else:\n",
    "                store.append(peek)\n",
    "            stack.append(i)\n",
    "    return store\n",
    "def rightsmallest(arr):\n",
    "    stack=[]\n",
    "    store=[]\n",
    "    stack.append(len(arr)-1)\n",
    "    store.append(len(arr))\n",
    "    for i in range(len(arr)-2,-1,-1):\n",
    "        peek=stack[-1]\n",
    "        if arr[peek]<arr[i]:\n",
    "            store.append(peek)\n",
    "            stack.append(i)\n",
    "        else:\n",
    "            while len(stack)!=0 and arr[peek]>arr[i]:\n",
    "                stack.pop()\n",
    "                if len(stack)!=0:\n",
    "                    peek=stack[-1]\n",
    "            if len(stack)==0:\n",
    "                store.append(len(arr))\n",
    "            else:\n",
    "                store.append(peek)\n",
    "            stack.append(i)\n",
    "    return store[::-1]\n",
    "def largestareahistogram(arr):\n",
    "    ls=leftsmallest(arr)\n",
    "    rs=rightsmallest(arr)\n",
    "    max_=0\n",
    "    for i in range(len(arr)):\n",
    "        width=rs[i]-ls[i]-1\n",
    "        area=arr[i]*width\n",
    "        max_=max(area,max_)\n",
    "    return max_\n",
    "largestareahistogram([6, 2, 5, 4, 5, 1, 6])"
   ]
  },
  {
   "cell_type": "markdown",
   "metadata": {},
   "source": [
    "# merge intervals "
   ]
  },
  {
   "cell_type": "code",
   "execution_count": null,
   "metadata": {},
   "outputs": [],
   "source": []
  }
 ],
 "metadata": {
  "kernelspec": {
   "display_name": "Python 3",
   "language": "python",
   "name": "python3"
  },
  "language_info": {
   "codemirror_mode": {
    "name": "ipython",
    "version": 3
   },
   "file_extension": ".py",
   "mimetype": "text/x-python",
   "name": "python",
   "nbconvert_exporter": "python",
   "pygments_lexer": "ipython3",
   "version": "3.8.5"
  }
 },
 "nbformat": 4,
 "nbformat_minor": 2
}
