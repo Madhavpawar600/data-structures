{
 "cells": [
  {
   "cell_type": "markdown",
   "metadata": {},
   "source": [
    "# Right Most set bit "
   ]
  },
  {
   "cell_type": "code",
   "execution_count": 13,
   "metadata": {},
   "outputs": [],
   "source": [
    "def rsb(num):\n",
    "    ans=num & -num\n",
    "    return int(bin(ans).replace('0b',''))"
   ]
  },
  {
   "cell_type": "code",
   "execution_count": 17,
   "metadata": {},
   "outputs": [
    {
     "data": {
      "text/plain": [
       "10"
      ]
     },
     "execution_count": 17,
     "metadata": {},
     "output_type": "execute_result"
    }
   ],
   "source": [
    "rsb(122)"
   ]
  },
  {
   "cell_type": "markdown",
   "metadata": {},
   "source": [
    "# kernighan's Algorithm \n",
    "total on (1) bits"
   ]
  },
  {
   "cell_type": "code",
   "execution_count": 18,
   "metadata": {},
   "outputs": [],
   "source": [
    "def kernighan(num):\n",
    "    counter=0\n",
    "    while num!=0:\n",
    "        rsbm=num & -num\n",
    "        num-=rsbm\n",
    "        counter+=1\n",
    "    print('bits on:',counter)"
   ]
  },
  {
   "cell_type": "code",
   "execution_count": 20,
   "metadata": {},
   "outputs": [
    {
     "name": "stdout",
     "output_type": "stream",
     "text": [
      "bits on: 3\n"
     ]
    }
   ],
   "source": [
    "kernighan(13)"
   ]
  },
  {
   "cell_type": "markdown",
   "metadata": {},
   "source": [
    "# Josephus Problem"
   ]
  },
  {
   "cell_type": "code",
   "execution_count": 40,
   "metadata": {},
   "outputs": [],
   "source": [
    "def powerof2(n):\n",
    "    i=1\n",
    "    while i*2<=n:\n",
    "        i=i*2\n",
    "    return i\n",
    "def josephus(n):\n",
    "    pow2=powerof2(n)\n",
    "    l=n-pow2\n",
    "    return 2*l+1"
   ]
  },
  {
   "cell_type": "code",
   "execution_count": 45,
   "metadata": {},
   "outputs": [
    {
     "data": {
      "text/plain": [
       "9"
      ]
     },
     "execution_count": 45,
     "metadata": {},
     "output_type": "execute_result"
    }
   ],
   "source": [
    "josephus(12)"
   ]
  },
  {
   "cell_type": "markdown",
   "metadata": {},
   "source": [
    "# N bits grey code "
   ]
  },
  {
   "cell_type": "code",
   "execution_count": 23,
   "metadata": {},
   "outputs": [],
   "source": [
    "def greycode(n):\n",
    "    if n==1:\n",
    "        return ['0','1']\n",
    "    ros=greycode(n-1)\n",
    "    result=[]\n",
    "    for i in range(0,len(ros)):\n",
    "        result.append('0'+ros[i])\n",
    "    for i in range(len(ros)-1,-1,-1):\n",
    "        result.append('1'+ros[i])\n",
    "    return result"
   ]
  },
  {
   "cell_type": "code",
   "execution_count": 24,
   "metadata": {},
   "outputs": [
    {
     "data": {
      "text/plain": [
       "['000', '001', '011', '010', '110', '111', '101', '100']"
      ]
     },
     "execution_count": 24,
     "metadata": {},
     "output_type": "execute_result"
    }
   ],
   "source": [
    "greycode(3)"
   ]
  },
  {
   "cell_type": "markdown",
   "metadata": {},
   "source": [
    "# Minimum no of Software developers \n",
    "given n skills and k software developers with thier skills tell how many developers need to have all skills"
   ]
  },
  {
   "cell_type": "code",
   "execution_count": 86,
   "metadata": {},
   "outputs": [],
   "source": [
    "skills=['java','python','nodejs','cpp','marketing']\n",
    "skillmap={skills[i]:i for i in range(0,len(skills))}\n",
    "person=[i for i in range(4)]\n",
    "personskill={0:['java','python'],1:['cpp'],2:['marketing','nodejs','cpp'],3:['java','nodejs'],4:['marketing']}\n",
    "for i in person:\n",
    "    for skill in personskill[i]:\n",
    "        person[i]=person[i]| (1<<skillmap[skill])\n",
    "sol=[]\n",
    "def solution(people,nskills,cp,onsol,smask):\n",
    "    global sol\n",
    "    if cp==len(people):\n",
    "        if smask == ((1<<nskills)-1):\n",
    "            if len(sol)==0 or len(onsol)<len(sol):\n",
    "                sol=onsol\n",
    "        return\n",
    "    solution(people,nskills,cp+1,onsol,smask)\n",
    "    \n",
    "    onsol.append(cp)\n",
    "    solution(people,nskills,cp+1,onsol,(smask|people[cp]))\n",
    "    onsol.pop()\n",
    "solution(person,5,0,[],0)"
   ]
  },
  {
   "cell_type": "markdown",
   "metadata": {},
   "source": [
    "# All repeating except two "
   ]
  },
  {
   "cell_type": "code",
   "execution_count": 14,
   "metadata": {},
   "outputs": [],
   "source": [
    "def repeating(arr):\n",
    "    xxor=0\n",
    "    for val in arr:\n",
    "        xxor=xxor^val\n",
    "    \n",
    "    rmsb=xxor&-xxor\n",
    "    x=0\n",
    "    y=0\n",
    "    for val in arr:\n",
    "        if val & rmsb==0:\n",
    "            x=x^val\n",
    "        else:\n",
    "            y=y^val\n",
    "    if x<y:\n",
    "        print(x)\n",
    "        print(y)\n",
    "    else:\n",
    "        print(y)\n",
    "        print(x)"
   ]
  },
  {
   "cell_type": "code",
   "execution_count": 17,
   "metadata": {},
   "outputs": [
    {
     "name": "stdout",
     "output_type": "stream",
     "text": [
      "6\n",
      "9\n"
     ]
    }
   ],
   "source": [
    "repeating([1,1,2,2,3,3,9,4,4,5,5,6])"
   ]
  },
  {
   "cell_type": "markdown",
   "metadata": {},
   "source": [
    "# Find duplicate No. and Missing No from 1 to n "
   ]
  },
  {
   "cell_type": "code",
   "execution_count": 26,
   "metadata": {},
   "outputs": [
    {
     "name": "stdout",
     "output_type": "stream",
     "text": [
      "2 3\n",
      "missing no-> 3\n",
      "duplicate no-> 2\n"
     ]
    }
   ],
   "source": [
    "def dupandmiss(arr):\n",
    "    xor=0\n",
    "    for val in arr:\n",
    "        xor^=val\n",
    "    for i in range(1,len(arr)+1):\n",
    "        xor^=val\n",
    "        \n",
    "    rmsb=xor&-xor\n",
    "    x=0\n",
    "    y=0\n",
    "    for val in arr:\n",
    "        if rmsb&val==0:\n",
    "            x^=val\n",
    "        else:\n",
    "            y^=val\n",
    "    \n",
    "    for i in range(1,len(arr)+1):\n",
    "        if rmsb&i==0:\n",
    "            x^=i\n",
    "        else:\n",
    "            y^=i\n",
    "    print(x,y)\n",
    "    for val in arr:\n",
    "        if val==x:\n",
    "            print('missing no->',y)\n",
    "            print('duplicate no->',x)\n",
    "            break\n",
    "        elif val==y:\n",
    "            print('missing no->',x)\n",
    "            print('duplicate no->',y)\n",
    "            break\n",
    "dupandmiss([1,2,2,4,5])"
   ]
  },
  {
   "cell_type": "markdown",
   "metadata": {},
   "source": [
    "# find element that appear once "
   ]
  },
  {
   "cell_type": "code",
   "execution_count": 27,
   "metadata": {},
   "outputs": [],
   "source": [
    "def unique(arr):\n",
    "    xor=0\n",
    "    for val in arr:\n",
    "        xor^=val\n",
    "    return xor"
   ]
  },
  {
   "cell_type": "code",
   "execution_count": 28,
   "metadata": {},
   "outputs": [
    {
     "data": {
      "text/plain": [
       "3"
      ]
     },
     "execution_count": 28,
     "metadata": {},
     "output_type": "execute_result"
    }
   ],
   "source": [
    "unique([1,1,2,2,3,4,4,5,5])"
   ]
  },
  {
   "cell_type": "markdown",
   "metadata": {},
   "source": [
    "# Xor of sum of all pairs "
   ]
  },
  {
   "cell_type": "code",
   "execution_count": 29,
   "metadata": {},
   "outputs": [
    {
     "data": {
      "text/plain": [
       "8"
      ]
     },
     "execution_count": 29,
     "metadata": {},
     "output_type": "execute_result"
    }
   ],
   "source": [
    "def xorsum(arr):\n",
    "    xor=0\n",
    "    for val in arr:\n",
    "        xor=xor^2*val\n",
    "    return xor\n",
    "xorsum([1,2,3,4])"
   ]
  },
  {
   "cell_type": "markdown",
   "metadata": {},
   "source": [
    "# Reduce N to 1 \n",
    "minimum operations to reduce n to 1 "
   ]
  },
  {
   "cell_type": "code",
   "execution_count": 35,
   "metadata": {},
   "outputs": [
    {
     "data": {
      "text/plain": [
       "3"
      ]
     },
     "execution_count": 35,
     "metadata": {},
     "output_type": "execute_result"
    }
   ],
   "source": [
    "def reduce1(num):\n",
    "    res=0\n",
    "    while num!=1:\n",
    "        if num%2==0:\n",
    "            num=num//2\n",
    "        elif num==3:\n",
    "            num=num-1\n",
    "        elif num%4==1:\n",
    "            num=num-1\n",
    "        elif num%4==3:\n",
    "            num=num+1\n",
    "        res+=1\n",
    "    return res\n",
    "reduce1(8)"
   ]
  },
  {
   "cell_type": "markdown",
   "metadata": {},
   "source": [
    "# find no of triplets "
   ]
  },
  {
   "cell_type": "code",
   "execution_count": null,
   "metadata": {},
   "outputs": [],
   "source": []
  },
  {
   "cell_type": "markdown",
   "metadata": {},
   "source": [
    "# Print Abbrevation "
   ]
  },
  {
   "cell_type": "code",
   "execution_count": 43,
   "metadata": {},
   "outputs": [],
   "source": [
    "def printabbrevation(string):\n",
    "    for i in range(0,1<<len(string)):\n",
    "        newstr=''\n",
    "        count=0\n",
    "        for j in range(0,len(string)):\n",
    "            ch=string[j]\n",
    "            b=len(string)-1-j\n",
    "            if i&(1<<b)==0:\n",
    "                if count==0:\n",
    "                    newstr+=ch\n",
    "                else:\n",
    "                    newstr+=str(count)\n",
    "                    newstr+=ch\n",
    "                    count=0\n",
    "            else:\n",
    "                count+=1\n",
    "        if count>0:\n",
    "            newstr+=str(count)\n",
    "        print(newstr,end='')\n",
    "        print('')"
   ]
  },
  {
   "cell_type": "code",
   "execution_count": 47,
   "metadata": {},
   "outputs": [
    {
     "name": "stdout",
     "output_type": "stream",
     "text": [
      "pep\n",
      "pe1\n",
      "p1p\n",
      "p2\n",
      "1ep\n",
      "1e1\n",
      "2p\n",
      "3\n"
     ]
    }
   ],
   "source": [
    "printabbrevation('pep')"
   ]
  },
  {
   "cell_type": "markdown",
   "metadata": {},
   "source": [
    "# Sudoku using bit manipulation "
   ]
  },
  {
   "cell_type": "code",
   "execution_count": 56,
   "metadata": {},
   "outputs": [
    {
     "name": "stdout",
     "output_type": "stream",
     "text": [
      "0\n",
      "0\n",
      "8\n",
      "0\n",
      "0\n",
      "0\n",
      "3\n",
      "0\n",
      "0\n",
      "1\n",
      "0\n",
      "0\n",
      "0\n",
      "0\n",
      "3\n",
      "0\n",
      "0\n",
      "2\n",
      "3\n",
      "0\n",
      "0\n",
      "9\n",
      "0\n",
      "0\n",
      "7\n",
      "8\n",
      "0\n",
      "0\n",
      "0\n",
      "4\n",
      "5\n",
      "9\n",
      "0\n",
      "2\n",
      "6\n",
      "0\n",
      "0\n",
      "0\n",
      "0\n",
      "1\n",
      "3\n",
      "2\n",
      "9\n",
      "0\n",
      "4\n",
      "0\n",
      "1\n",
      "0\n",
      "7\n",
      "6\n",
      "0\n",
      "0\n",
      "0\n",
      "0\n",
      "9\n",
      "2\n",
      "6\n",
      "0\n",
      "0\n",
      "0\n",
      "5\n",
      "4\n",
      "0\n",
      "0\n",
      "0\n",
      "0\n",
      "0\n",
      "5\n",
      "0\n",
      "0\n",
      "0\n",
      "0\n",
      "0\n",
      "5\n",
      "1\n",
      "0\n",
      "0\n",
      "0\n",
      "0\n",
      "0\n",
      "0\n"
     ]
    }
   ],
   "source": [
    "row=[0 for x in range(9)]\n",
    "col=[0 for x in range(9)]\n",
    "arr=[[0 for x in range(9)] for x in range(9)]\n",
    "grid=[[0 for x in range(3)] for x in range(3)]\n",
    "for i in range(9):\n",
    "    for j in range(9):\n",
    "        digit=int(input())\n",
    "        arr[i][j]=digit\n",
    "        row[i]|=(1<<digit)\n",
    "        col[j]|=(1<<digit)\n",
    "        grid[i//3][j//3]|=(1<<digit)"
   ]
  },
  {
   "cell_type": "code",
   "execution_count": 61,
   "metadata": {},
   "outputs": [],
   "source": [
    "row=[0 for x in range(9)]\n",
    "col=[0 for x in range(9)]\n",
    "grid=[[0 for x in range(3)] for x in range(3)]\n",
    "for i in range(0,len(arr)):\n",
    "    for j in range(0,len(arr[0])):\n",
    "        digit=arr[i][j]\n",
    "        row[i]|=(1<<digit)\n",
    "        col[j]|=(1<<digit)\n",
    "        grid[i//3][j//3]|=(1<<digit)"
   ]
  },
  {
   "cell_type": "code",
   "execution_count": 68,
   "metadata": {},
   "outputs": [],
   "source": [
    "def solvesudoku(arr,row,col,grid,i,j):\n",
    "    if i==len(arr):\n",
    "        for i in range(0,len(arr)):\n",
    "            for j in range(0,len(arr[0])):\n",
    "                print(arr[i][j],end=' ')\n",
    "            print('')\n",
    "        return\n",
    "    \n",
    "    ni=0\n",
    "    nj=0\n",
    "    if j==len(arr[0])-1:\n",
    "        ni=i+1\n",
    "        nj=0\n",
    "    else:\n",
    "        ni=i\n",
    "        nj=j+1\n",
    "    if arr[i][j]>0:\n",
    "        solvesudoku(arr,row,col,grid,ni,nj)\n",
    "    else:\n",
    "        for num in range(1,10):\n",
    "            if (row[i]& 1<<num)==0 and (col[j]& 1<<num)==0 and (grid[i//3][j//3]&1<<num)==0:\n",
    "                arr[i][j]=num\n",
    "                row[i]^=(1<<num)\n",
    "                col[j]^=(1<<num)\n",
    "                grid[i//3][j//3]^=(1<<num)\n",
    "                solvesudoku(arr,row,col,grid,ni,nj)\n",
    "                arr[i][j]=0\n",
    "                row[i]^=(1<<num)\n",
    "                col[j]^=(1<<num)\n",
    "                grid[i//3][j//3]^=(1<<num)"
   ]
  },
  {
   "cell_type": "code",
   "execution_count": 69,
   "metadata": {},
   "outputs": [
    {
     "name": "stdout",
     "output_type": "stream",
     "text": [
      "5 6 8 4 2 7 3 1 9 \n",
      "1 9 7 6 8 3 4 5 2 \n",
      "3 4 2 9 1 5 7 8 6 \n",
      "7 3 4 5 9 8 2 6 1 \n",
      "6 8 5 1 3 2 9 7 4 \n",
      "2 1 9 7 6 4 8 3 5 \n",
      "9 2 6 8 7 1 5 4 3 \n",
      "4 7 3 2 5 6 1 9 8 \n",
      "8 5 1 3 4 9 6 2 7 \n"
     ]
    }
   ],
   "source": [
    "solvesudoku(arr,row,col,grid,0,0)"
   ]
  },
  {
   "cell_type": "code",
   "execution_count": 70,
   "metadata": {},
   "outputs": [
    {
     "data": {
      "text/plain": [
       "0"
      ]
     },
     "execution_count": 70,
     "metadata": {},
     "output_type": "execute_result"
    }
   ],
   "source": [
    "0b0"
   ]
  },
  {
   "cell_type": "markdown",
   "metadata": {},
   "source": [
    "# UTF Ecoding \n",
    "1byte start from 10------\n",
    "2byte start from 110----- 10------\n",
    "3byte start from 1110--- 10----- 10-----\n",
    "4byte start from 11110-- 10---- 10--- 10----"
   ]
  },
  {
   "cell_type": "code",
   "execution_count": 77,
   "metadata": {},
   "outputs": [
    {
     "data": {
      "text/plain": [
       "True"
      ]
     },
     "execution_count": 77,
     "metadata": {},
     "output_type": "execute_result"
    }
   ],
   "source": [
    "def checkutf(arr):\n",
    "    rbyte=0\n",
    "    for val in arr:\n",
    "        if rbyte==0:\n",
    "            if val>>7==0b0:\n",
    "                rbyte=0\n",
    "            elif val>>5==0b110:\n",
    "                rbyte=1\n",
    "            elif val>>4==0b1110:\n",
    "                rbyte=2\n",
    "            elif val>>3==0b11110:\n",
    "                rbyte=3\n",
    "            \n",
    "        else:\n",
    "            if val>>6==0b10:\n",
    "                rbytes-=1\n",
    "            else:\n",
    "                return False\n",
    "        return rbyte==0\n",
    "checkutf([-2,-7,-5])"
   ]
  },
  {
   "cell_type": "markdown",
   "metadata": {},
   "source": [
    "# Flip bits to convert A and B count"
   ]
  },
  {
   "cell_type": "code",
   "execution_count": 80,
   "metadata": {},
   "outputs": [
    {
     "data": {
      "text/plain": [
       "3"
      ]
     },
     "execution_count": 80,
     "metadata": {},
     "output_type": "execute_result"
    }
   ],
   "source": [
    "def flipbitscount(a,b):\n",
    "    xorab=a^b\n",
    "    #apply kernighan algo to count bits\n",
    "    counter=0\n",
    "    while xorab!=0:\n",
    "        rsbm=xorab & -xorab\n",
    "        xorab-=rsbm\n",
    "        counter+=1\n",
    "    return counter\n",
    "flipbitscount(4,15)"
   ]
  },
  {
   "cell_type": "markdown",
   "metadata": {},
   "source": [
    "# copy set bits in range "
   ]
  },
  {
   "cell_type": "code",
   "execution_count": 84,
   "metadata": {},
   "outputs": [
    {
     "name": "stdout",
     "output_type": "stream",
     "text": [
      "7\n"
     ]
    }
   ],
   "source": [
    "def copyset(a,b,left,right):\n",
    "    m1=(1<<(right-left+1))\n",
    "    m1=m1-1\n",
    "    m1=m1<<(left-1)\n",
    "    m1=m1&a\n",
    "    b=b|m1\n",
    "    print(b)\n",
    "copyset(7,5,2,4)"
   ]
  },
  {
   "cell_type": "markdown",
   "metadata": {},
   "source": [
    "# Power of 2 "
   ]
  },
  {
   "cell_type": "code",
   "execution_count": 93,
   "metadata": {},
   "outputs": [
    {
     "data": {
      "text/plain": [
       "True"
      ]
     },
     "execution_count": 93,
     "metadata": {},
     "output_type": "execute_result"
    }
   ],
   "source": [
    "#1<<x =2**x\n",
    "#multiply n<<1 and divide n>>1\n",
    "def power2(n):\n",
    "    val=n&(n-1)\n",
    "    return val==0\n",
    "power2(16)    "
   ]
  },
  {
   "cell_type": "markdown",
   "metadata": {},
   "source": [
    "# Solve 7n by 8 "
   ]
  },
  {
   "cell_type": "code",
   "execution_count": 96,
   "metadata": {},
   "outputs": [
    {
     "name": "stdout",
     "output_type": "stream",
     "text": [
      "4\n"
     ]
    }
   ],
   "source": [
    "def solve7n(n):\n",
    "    print(((n<<3)-n)>>3)\n",
    "    return\n",
    "solve7n(5)"
   ]
  },
  {
   "cell_type": "markdown",
   "metadata": {},
   "source": [
    "# swap all odd & even bits"
   ]
  },
  {
   "cell_type": "code",
   "execution_count": 107,
   "metadata": {},
   "outputs": [],
   "source": [
    "def swapevenoddbits(num):\n",
    "    evmask=0xAAAAAAAA\n",
    "    odmask=0x55555555\n",
    "    odd=num&odmask\n",
    "    even=num&evmask\n",
    "    odd<<=1\n",
    "    even>>=1\n",
    "    num=odd|even\n",
    "    print(num)"
   ]
  },
  {
   "cell_type": "code",
   "execution_count": 109,
   "metadata": {},
   "outputs": [
    {
     "name": "stdout",
     "output_type": "stream",
     "text": [
      "10\n"
     ]
    }
   ],
   "source": [
    "swapevenoddbits(5)"
   ]
  },
  {
   "cell_type": "markdown",
   "metadata": {},
   "source": [
    "# Sum of bit difference among all pairs "
   ]
  },
  {
   "cell_type": "code",
   "execution_count": 110,
   "metadata": {},
   "outputs": [],
   "source": [
    "def sumbitdiff(arr):\n",
    "    res=0\n",
    "    for i in range(0,32):\n",
    "        counton=0\n",
    "        for val in arr:\n",
    "            if val&(i<<1)!=0:\n",
    "                counton+=1\n",
    "        countof=len(arr)-counton\n",
    "        diff=countof * counton *2\n",
    "        res+=diff\n",
    "    return res"
   ]
  },
  {
   "cell_type": "code",
   "execution_count": 111,
   "metadata": {},
   "outputs": [
    {
     "data": {
      "text/plain": [
       "108"
      ]
     },
     "execution_count": 111,
     "metadata": {},
     "output_type": "execute_result"
    }
   ],
   "source": [
    "sumbitdiff([12,34,56,7])"
   ]
  },
  {
   "cell_type": "markdown",
   "metadata": {},
   "source": [
    "# Count Bits on in first N Natural Number"
   ]
  },
  {
   "cell_type": "code",
   "execution_count": 118,
   "metadata": {},
   "outputs": [],
   "source": [
    "def largestpowerofx(n):\n",
    "    x=0\n",
    "    while(1<<x)<=n:\n",
    "        x+=1\n",
    "    return x-1\n",
    "def countonbit(n):\n",
    "    if n==0:\n",
    "        return 0\n",
    "    x=largestpowerofx(n)\n",
    "    bitsupto=x*(1<<(x-1))\n",
    "    msb=n-(1<<x)+1\n",
    "    ans=bitsupto+msb+countonbit(n-(1<<x))\n",
    "    return ans"
   ]
  },
  {
   "cell_type": "code",
   "execution_count": 120,
   "metadata": {},
   "outputs": [
    {
     "data": {
      "text/plain": [
       "37"
      ]
     },
     "execution_count": 120,
     "metadata": {},
     "output_type": "execute_result"
    }
   ],
   "source": [
    "countonbit(18)"
   ]
  },
  {
   "cell_type": "markdown",
   "metadata": {},
   "source": [
    "# Reverse Bits  "
   ]
  },
  {
   "cell_type": "code",
   "execution_count": 3,
   "metadata": {},
   "outputs": [],
   "source": [
    "def reversebits(n):\n",
    "    j=0\n",
    "    rev=0\n",
    "    flag=False\n",
    "    for i in range(31,-1,-1):\n",
    "        mask=(1<<i)\n",
    "        if flag==True:\n",
    "            if n&mask!=0:\n",
    "                print(\"1\",end=' ')\n",
    "                rev|=(1<<j)\n",
    "            else:\n",
    "                print(\"0\",end=' ')\n",
    "            j+=1\n",
    "        else:\n",
    "            if n&mask!=0:\n",
    "                flag=True\n",
    "                print(\"1\",end=' ')\n",
    "                smask=(1<<j)\n",
    "                rev|=smask\n",
    "                j+=1\n",
    "    print('reverse bit:',rev)"
   ]
  },
  {
   "cell_type": "code",
   "execution_count": 4,
   "metadata": {},
   "outputs": [
    {
     "name": "stdout",
     "output_type": "stream",
     "text": [
      "1 0 1 1 reverse bit: 13\n"
     ]
    }
   ],
   "source": [
    "reversebits(11)"
   ]
  },
  {
   "cell_type": "markdown",
   "metadata": {},
   "source": [
    "# Min Xor pair "
   ]
  },
  {
   "cell_type": "code",
   "execution_count": 15,
   "metadata": {},
   "outputs": [],
   "source": [
    "def minxorpair(arr):\n",
    "    arr.sort()\n",
    "    _min=100000\n",
    "    ls=[]\n",
    "    for i in range(1,len(arr)):\n",
    "        pair=arr[i-1]^arr[i]\n",
    "        \n",
    "        if pair<_min:\n",
    "            _min=pair\n",
    "            ls=[]\n",
    "            ls.append(['min xor pair:'+str(arr[i-1])+' and '+str(arr[i])])\n",
    "        elif pair==_min:\n",
    "            ls.append(['min xor pair:'+str(arr[i-1])+' and '+str(arr[i])])\n",
    "        \n",
    "    for x in ls:\n",
    "        print(x)"
   ]
  },
  {
   "cell_type": "code",
   "execution_count": 16,
   "metadata": {},
   "outputs": [
    {
     "name": "stdout",
     "output_type": "stream",
     "text": [
      "['min xor pair:1 and 3']\n"
     ]
    }
   ],
   "source": [
    "minxorpair([3,6,1,8,5])"
   ]
  },
  {
   "cell_type": "code",
   "execution_count": null,
   "metadata": {},
   "outputs": [],
   "source": []
  }
 ],
 "metadata": {
  "kernelspec": {
   "display_name": "Python 3",
   "language": "python",
   "name": "python3"
  },
  "language_info": {
   "codemirror_mode": {
    "name": "ipython",
    "version": 3
   },
   "file_extension": ".py",
   "mimetype": "text/x-python",
   "name": "python",
   "nbconvert_exporter": "python",
   "pygments_lexer": "ipython3",
   "version": "3.6.8"
  }
 },
 "nbformat": 4,
 "nbformat_minor": 2
}
