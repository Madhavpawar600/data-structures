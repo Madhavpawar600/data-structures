{
 "cells": [
  {
   "cell_type": "markdown",
   "metadata": {},
   "source": [
    "# Longest Increasing subsequence "
   ]
  },
  {
   "cell_type": "code",
   "execution_count": 5,
   "metadata": {},
   "outputs": [
    {
     "data": {
      "text/plain": [
       "5"
      ]
     },
     "execution_count": 5,
     "metadata": {},
     "output_type": "execute_result"
    }
   ],
   "source": [
    "def lis(arr):\n",
    "    dp=[0 for x in range(len(arr))]\n",
    "    dp[0]=1\n",
    "    for i in range(1,len(arr)):\n",
    "        max_=0\n",
    "        for j in range(0,i):\n",
    "            if arr[i]>=arr[j]:\n",
    "                max_=max(dp[j],max_)\n",
    "        dp[i]=max_+1\n",
    "    return max(dp)\n",
    "lis([7,1,4,8,11,2,14,3])"
   ]
  },
  {
   "cell_type": "markdown",
   "metadata": {},
   "source": [
    "# Maximium sum Increasing susbequence "
   ]
  },
  {
   "cell_type": "code",
   "execution_count": 51,
   "metadata": {},
   "outputs": [
    {
     "data": {
      "text/plain": [
       "38"
      ]
     },
     "execution_count": 51,
     "metadata": {},
     "output_type": "execute_result"
    }
   ],
   "source": [
    "import sys\n",
    "def mis(arr):\n",
    "    dp=[0 for x in range(len(arr))]\n",
    "    dp[0]=1\n",
    "    max_g=-sys.maxsize\n",
    "    for i in range(1,len(arr)):\n",
    "        max_=-sys.maxsize\n",
    "        for j in range(0,i):\n",
    "            if arr[i]>=arr[j]:\n",
    "                max_=max(dp[j],max_)\n",
    "        if max_==-sys.maxsize:\n",
    "            dp[i]=arr[i]\n",
    "        else:\n",
    "            dp[i]=max_+arr[i]\n",
    "        \n",
    "        max_g=max(max_g,dp[i])\n",
    "    return max_g\n",
    "mis([7,1,4,8,11,2,14,3])"
   ]
  },
  {
   "cell_type": "markdown",
   "metadata": {},
   "source": [
    "# Longest Bitonic subsequence"
   ]
  },
  {
   "cell_type": "code",
   "execution_count": 22,
   "metadata": {},
   "outputs": [],
   "source": [
    "def lbs(arr):\n",
    "    lis=[0 for x in range(len(arr))]\n",
    "    lds=[0 for x in range(len(arr))]\n",
    "    lis[0]=1\n",
    "    lds[len(arr)-1]=1\n",
    "    \n",
    "    #lis\n",
    "    for i in range(1,len(arr)):\n",
    "        max_=0\n",
    "        for j in range(0,i):\n",
    "            if arr[i]>=arr[j]:\n",
    "                max_=max(lis[j],max_)\n",
    "        lis[i]=max_+1\n",
    "    \n",
    "    #lds\n",
    "    for i in range(len(arr)-2,-1,-1):\n",
    "        max_=0\n",
    "        for j in range(i+1,len(arr)):\n",
    "            if arr[i]>=arr[j]:\n",
    "                max_=max(lds[j],max_)\n",
    "        lds[i]=max_+1\n",
    "    max_lbs=0\n",
    "    for i in range(0,len(arr)):\n",
    "        max_lbs=max(max_lbs,lis[i]+lds[i]-1)\n",
    "    return max_lbs"
   ]
  },
  {
   "cell_type": "code",
   "execution_count": 23,
   "metadata": {},
   "outputs": [
    {
     "data": {
      "text/plain": [
       "5"
      ]
     },
     "execution_count": 23,
     "metadata": {},
     "output_type": "execute_result"
    }
   ],
   "source": [
    "lbs([7,1,4,8,11,2])"
   ]
  },
  {
   "cell_type": "markdown",
   "metadata": {},
   "source": [
    "# Count Longest Palindromic substring "
   ]
  },
  {
   "cell_type": "code",
   "execution_count": 3,
   "metadata": {},
   "outputs": [],
   "source": [
    "def CLPS(string):\n",
    "    dp=[[False for x in range(0,len(string))] for x in range(0,len(string))]\n",
    "    count=0\n",
    "    for gap in range(0,len(string)):\n",
    "        col=gap\n",
    "        row=0\n",
    "        while col <len(string) and row<len(string):\n",
    "            if gap==0:\n",
    "                dp[row][col]=True\n",
    "                count+=1\n",
    "            elif gap==1:\n",
    "                if string[row]==string[col]:\n",
    "                    dp[row][col]=True\n",
    "                    count+=1\n",
    "            else:\n",
    "                if string[row]==string[col] and dp[row+1][col-1]==True:\n",
    "                    dp[row][col]=True\n",
    "                    count+=1\n",
    "            col+=1\n",
    "            row+=1\n",
    "    return count\n",
    "                    "
   ]
  },
  {
   "cell_type": "code",
   "execution_count": 4,
   "metadata": {},
   "outputs": [
    {
     "data": {
      "text/plain": [
       "10"
      ]
     },
     "execution_count": 4,
     "metadata": {},
     "output_type": "execute_result"
    }
   ],
   "source": [
    "CLPS('abbcbb')"
   ]
  },
  {
   "cell_type": "markdown",
   "metadata": {},
   "source": [
    "# Longest Palindromic substring "
   ]
  },
  {
   "cell_type": "code",
   "execution_count": 1,
   "metadata": {},
   "outputs": [],
   "source": [
    "def LPSub(string):\n",
    "    maxlps=0\n",
    "    dp=[[False for x in range(0,len(string))] for x in range(0,len(string))]\n",
    "    \n",
    "    for gap in range(0,len(string)):\n",
    "        col=gap\n",
    "        row=0\n",
    "        while col <len(string) and row<len(string):\n",
    "            if gap==0:\n",
    "                dp[row][col]=True\n",
    "            elif gap==1:\n",
    "                if string[row]==string[col]:\n",
    "                    dp[row][col]=True\n",
    "            else:\n",
    "                if string[row]==string[col] and dp[row+1][col-1]==True:\n",
    "                    dp[row][col]=True\n",
    "            if dp[row][col]==True:\n",
    "                maxlps=max(gap+1,maxlps)\n",
    "            col+=1\n",
    "            row+=1\n",
    "        \n",
    "        \n",
    "    return maxlps"
   ]
  },
  {
   "cell_type": "code",
   "execution_count": 2,
   "metadata": {},
   "outputs": [
    {
     "data": {
      "text/plain": [
       "4"
      ]
     },
     "execution_count": 2,
     "metadata": {},
     "output_type": "execute_result"
    }
   ],
   "source": [
    "LPSub('abccbba')"
   ]
  },
  {
   "cell_type": "markdown",
   "metadata": {},
   "source": [
    "# Print path of min jumps to reach till end"
   ]
  },
  {
   "cell_type": "code",
   "execution_count": 11,
   "metadata": {},
   "outputs": [
    {
     "name": "stdout",
     "output_type": "stream",
     "text": [
      "0->3->5->6->9.\n",
      "0->3->5->7->9.\n"
     ]
    },
    {
     "data": {
      "text/plain": [
       "[4, 4, None, 3, 3, 2, 1, 1, None, 0]"
      ]
     },
     "execution_count": 11,
     "metadata": {},
     "output_type": "execute_result"
    }
   ],
   "source": [
    "import sys\n",
    "class pair:\n",
    "    def __init__(self,i,jl,val,path):\n",
    "        self.i=i\n",
    "        self.jl=jl\n",
    "        self.val=val\n",
    "        self.path=path\n",
    "def printpathjumps(arr):\n",
    "    dp=[None]*(len(arr))\n",
    "    dp[len(arr)-1]=0\n",
    "    for i in range(len(arr)-2,-1,-1):\n",
    "        min_=sys.maxsize\n",
    "        j=1\n",
    "        while j<=arr[i] and j+i<len(dp):\n",
    "            if dp[i+j]!=None:\n",
    "                min_=min(min_,dp[i+j])\n",
    "            if min_!=sys.maxsize:\n",
    "                dp[i]=min_+1\n",
    "            j+=1\n",
    "    queue=[pair(0,dp[0],arr[0],str(0))]\n",
    "    \n",
    "    while len(queue)!=0:\n",
    "        \n",
    "        rem=queue.pop(0)\n",
    "        \n",
    "        if rem.jl==0:\n",
    "            print(rem.path+'.')\n",
    "        else: #append its child\n",
    "            step=rem.val\n",
    "            j=1\n",
    "            while j<=step and rem.i+j<len(arr):\n",
    "                ci=rem.i+j #current index\n",
    "                if dp[ci]!=None and dp[ci]==rem.jl-1:\n",
    "                    queue.append(pair(ci,dp[ci],arr[ci],rem.path+\"->\"+str(ci)))\n",
    "                j+=1\n",
    "    return dp\n",
    "    \n",
    "printpathjumps([3,3,0,2,1,2,4,2,0,0])"
   ]
  },
  {
   "cell_type": "markdown",
   "metadata": {},
   "source": [
    "# Print minimum cost path "
   ]
  },
  {
   "cell_type": "code",
   "execution_count": 56,
   "metadata": {},
   "outputs": [
    {
     "data": {
      "text/plain": [
       "[[2, 5, 3, 6],\n",
       " [2, 0, 7, 4],\n",
       " [5, 8, 2, 6],\n",
       " [2, 0, 4, 1],\n",
       " [3, 6, 1, 9],\n",
       " [9, 0, 8, 2]]"
      ]
     },
     "execution_count": 56,
     "metadata": {},
     "output_type": "execute_result"
    }
   ],
   "source": [
    "arr=[[2,5,3,6],[2,0,7,4],[5,8,2,6],[2,0,4,1],[3,6,1,9],[9,0,8,2]]\n",
    "arr"
   ]
  },
  {
   "cell_type": "code",
   "execution_count": 86,
   "metadata": {},
   "outputs": [],
   "source": [
    "def printminipath(arr):\n",
    "    dp=[[0 for x in range(len(arr[0]))] for x in range(len(arr))]\n",
    "    \n",
    "    for i in range(len(arr)-1,-1,-1):\n",
    "        for j in range(len(arr[0])-1,-1,-1):\n",
    "            if i==len(arr)-1 and j==len(arr[0])-1:\n",
    "                dp[i][j]=arr[i][j]\n",
    "            elif i==len(arr)-1:\n",
    "                dp[i][j]=dp[i][j+1]+arr[i][j]\n",
    "            elif j==len(arr[0])-1:\n",
    "                dp[i][j]=dp[i+1][j]+arr[i][j]\n",
    "            else:\n",
    "                vert=dp[i+1][j]\n",
    "                horiz=dp[i][j]\n",
    "                dp[i][j]=max(vert,horiz)+arr[i][j]\n",
    "    print(dp[0][0])     \n",
    "    class pair:\n",
    "        def __init__(self,r,c,path):\n",
    "            self.r=r\n",
    "            self.c=c\n",
    "            self.path=path\n",
    "        \n",
    "    f1=pair(0,0,'')\n",
    "    queue=[f1]\n",
    "    \n",
    "    while len(queue)!=0:\n",
    "        f1=queue.pop(0)\n",
    "        \n",
    "        if f1.r==len(dp)-1 and f1.c==len(dp[0])-1:\n",
    "            print(f1.path)\n",
    "        \n",
    "        elif f1.r==len(dp)-1:\n",
    "            queue.append(pair(f1.r,f1.c+1,f1.path+'h'))\n",
    "            \n",
    "        elif f1.c==len(dp[0])-1:\n",
    "            queue.append(pair(f1.r+1,f1.c,f1.path+'v'))\n",
    "            \n",
    "        else:\n",
    "            horizontal=dp[f1.r][f1.c+1]\n",
    "            vertical=dp[f1.r+1][f1.c]\n",
    "            \n",
    "            if horizontal<vertical:\n",
    "                queue.append(pair(f1.r,f1.c+1,f1.path+'h'))\n",
    "                \n",
    "            elif horizontal>vertical:\n",
    "                queue.append(pair(f1.r+1,f1.c,f1.path+'v'))\n",
    "                \n",
    "            else:\n",
    "                queue.append(pair(f1.r,f1.c+1,f1.path+'h'))\n",
    "                queue.append(pair(f1.r+1,f1.c,f1.path+'v'))\n",
    "    return               "
   ]
  },
  {
   "cell_type": "code",
   "execution_count": 87,
   "metadata": {},
   "outputs": [
    {
     "name": "stdout",
     "output_type": "stream",
     "text": [
      "33\n",
      "hvhvvvvh\n",
      "hvvvhvvh\n"
     ]
    }
   ],
   "source": [
    "printminipath(arr)"
   ]
  },
  {
   "cell_type": "markdown",
   "metadata": {},
   "source": [
    "# Print path max gold mining problem "
   ]
  },
  {
   "cell_type": "code",
   "execution_count": 103,
   "metadata": {},
   "outputs": [
    {
     "name": "stdout",
     "output_type": "stream",
     "text": [
      "2-d2-d1-d3-\n",
      "2-d2-d1-d1-\n",
      "5-d2-d2-d1-\n"
     ]
    },
    {
     "data": {
      "text/plain": [
       "[[16, 14, 9, 6],\n",
       " [16, 13, 13, 4],\n",
       " [26, 21, 8, 6],\n",
       " [23, 10, 10, 1],\n",
       " [19, 16, 10, 9],\n",
       " [26, 17, 17, 2]]"
      ]
     },
     "execution_count": 103,
     "metadata": {},
     "output_type": "execute_result"
    }
   ],
   "source": [
    "def printgoldpath(arr):\n",
    "    dp=[[0 for x in range(len(arr[0]))] for x in range(len(arr))]\n",
    "    for i in range(0,len(arr)):\n",
    "        for j in range(len(arr[0])-1,-1,-1):\n",
    "            if j==len(arr[0])-1:\n",
    "                dp[i][j]=arr[i][j]\n",
    "            elif i==0:\n",
    "                dp[i][j]=max(dp[i+1][j+1],dp[i][j+1])+arr[i][j]\n",
    "            elif i==len(arr)-1:\n",
    "                dp[i][j]=max(dp[i][j+1],dp[i-1][j+1])+arr[i][j]\n",
    "            else:\n",
    "                dp[i][j]=max(dp[i+1][j+1],dp[i][j+1],dp[i-1][j+1])+arr[i][j]\n",
    "                \n",
    "    _max=0\n",
    "    class pair:\n",
    "        def __init__(self,i,j,path):\n",
    "            self.i=i\n",
    "            self.j=j\n",
    "            self.path=path\n",
    "    for i in range(0,len(arr)):\n",
    "        if dp[i][0] > _max:\n",
    "            _max=dp[i][0]\n",
    "            cnt=1\n",
    "        elif dp[i][0]==_max:\n",
    "            cnt+=1\n",
    "    queue=[]\n",
    "    for i in range(0,len(arr)):\n",
    "        if dp[i][0]==_max:\n",
    "            queue.append(pair(i,0,str(i)+'-'))\n",
    "    \n",
    "    while len(queue)!=0:\n",
    "        \n",
    "        rem=queue.pop(0)\n",
    "        \n",
    "        if rem.j==len(arr[0])-1:\n",
    "            print(rem.path)\n",
    "        elif rem.i == 0:\n",
    "            _max=max(dp[rem.i+1][rem.j+1],dp[rem.i][rem.j+1])\n",
    "            if _max==dp[rem.i+1][rem.j+1]:\n",
    "                queue.append(pair(rem.i+1,rem.j+1,rem.path+'d3-'))\n",
    "            if _max==dp[rem.i][rem.j+1]:\n",
    "                queue.append(pair(rem.i,rem.j+1,rem.path+'d2-'))\n",
    "            \n",
    "        elif rem.i==len(arr)-1:\n",
    "            _max=max(dp[rem.i][rem.j+1],dp[rem.i-1][rem.j+1])\n",
    "            if _max==dp[rem.i][rem.j+1]:\n",
    "                queue.append(pair(rem.i,rem.j+1,rem.path+'d2-'))\n",
    "            if _max==dp[rem.i-1][rem.j+1]:\n",
    "                queue.append(pair(rem.i-1,rem.j+1,rem.path+'d1-'))\n",
    "            \n",
    "        else:\n",
    "            _max=max(dp[rem.i+1][rem.j+1],dp[rem.i][rem.j+1],dp[rem.i-1][rem.j+1])\n",
    "            if _max==dp[rem.i+1][rem.j+1]:\n",
    "                queue.append(pair(rem.i+1,rem.j+1,rem.path+'d3-'))\n",
    "            if _max==dp[rem.i][rem.j+1]:\n",
    "                queue.append(pair(rem.i,rem.j+1,rem.path+'d2-'))\n",
    "            if _max==dp[rem.i-1][rem.j+1]:\n",
    "                queue.append(pair(rem.i-1,rem.j+1,rem.path+'d1-'))\n",
    "    \n",
    "    return dp\n",
    "printgoldpath(arr)      "
   ]
  },
  {
   "cell_type": "markdown",
   "metadata": {},
   "source": [
    "# count distinct subsequence of string "
   ]
  },
  {
   "cell_type": "code",
   "execution_count": 115,
   "metadata": {},
   "outputs": [
    {
     "name": "stdout",
     "output_type": "stream",
     "text": [
      "49\n"
     ]
    }
   ],
   "source": [
    "def countsub(string):\n",
    "    hashmap={x:-1 for x in string}\n",
    "    dp=[0 for x in range(0,len(string)+1)]\n",
    "    dp[0]=1\n",
    "    \n",
    "    for i in range(1,len(dp)):\n",
    "        dp[i]= 2 * dp[i-1]\n",
    "        ch=string[i-1]\n",
    "        \n",
    "        if hashmap[ch]!=-1:\n",
    "            locc=hashmap[ch]\n",
    "            dp[i]=dp[i]-dp[locc-1]\n",
    "        hashmap[ch]=i\n",
    "    print(dp[-1]-1)\n",
    "countsub('abcbac')"
   ]
  },
  {
   "cell_type": "markdown",
   "metadata": {},
   "source": [
    "# Print all Longest Increasing subsequence "
   ]
  },
  {
   "cell_type": "code",
   "execution_count": 121,
   "metadata": {},
   "outputs": [
    {
     "name": "stdout",
     "output_type": "stream",
     "text": [
      "80-60-50-33-22-10\n",
      "80-60-41-33-22-10\n"
     ]
    },
    {
     "data": {
      "text/plain": [
       "[1, 2, 1, 3, 2, 4, 4, 5, 6, 1, 2, 2]"
      ]
     },
     "execution_count": 121,
     "metadata": {},
     "output_type": "execute_result"
    }
   ],
   "source": [
    "def printLIS(arr):\n",
    "    dp=[0 for x in range(len(arr))]\n",
    "    dp[0]=1\n",
    "    lmax=0\n",
    "    imax=0\n",
    "    for i in range(1,len(dp)):\n",
    "        _max=0\n",
    "        for j in range(0,i):\n",
    "            if arr[i]>=arr[j]:\n",
    "                _max=max(dp[j],_max)\n",
    "        dp[i]=_max+1\n",
    "        if dp[i]>lmax:\n",
    "            lmax=dp[i]\n",
    "            imax=i\n",
    "    class pair:\n",
    "        def __init__(self,lmax,imax,val,path):\n",
    "            self.lmax=lmax\n",
    "            self.imax=imax\n",
    "            self.val=val\n",
    "            self.path=path\n",
    "    queue=[pair(lmax,imax,arr[imax],str(arr[imax]))]\n",
    "    \n",
    "    while len(queue)!=0:\n",
    "        rem=queue.pop(0)\n",
    "        \n",
    "        if rem.lmax==1:\n",
    "            print(rem.path)\n",
    "        \n",
    "        for j in range(0,rem.imax):\n",
    "            if dp[j]==rem.lmax-1 and arr[j]<=rem.val:\n",
    "                queue.append(pair(dp[j],j,arr[j],rem.path+'-'+str(arr[j])))\n",
    "    \n",
    "    return dp\n",
    "    \n",
    "printLIS([10,22,9,33,21,50,41,60,80,7,16,8])"
   ]
  },
  {
   "cell_type": "markdown",
   "metadata": {},
   "source": [
    "# Print target sum "
   ]
  },
  {
   "cell_type": "code",
   "execution_count": 135,
   "metadata": {},
   "outputs": [
    {
     "name": "stdout",
     "output_type": "stream",
     "text": [
      "2 4 \n",
      "1 2 3 \n"
     ]
    }
   ],
   "source": [
    "class pair:\n",
    "    def __init__(self,i,tar,path):\n",
    "        self.i=i\n",
    "        self.path=path\n",
    "        self.tar=tar\n",
    "def printtarget(arr,k):\n",
    "    dp=[[False for i in range(k+1)] for i in range(len(arr)+1)]\n",
    "    for i in range(0,len(dp)):\n",
    "        for j in range(0,len(dp[0])):\n",
    "            if i==0 and j==0:\n",
    "                dp[i][j]=True\n",
    "            elif j==0:\n",
    "                dp[i][j]=True\n",
    "            elif dp[i]==0:\n",
    "                dp[i][j]=False\n",
    "            else:\n",
    "                if dp[i-1][j]==True:\n",
    "                    dp[i][j]=True\n",
    "                elif (j>=arr[i-1]):\n",
    "                    if dp[i-1][j-arr[i-1]]==True:\n",
    "                        dp[i][j]=True\n",
    "    queue=[pair(len(arr),k,'')]\n",
    "    \n",
    "    while len(queue)!=0:\n",
    "        rem=queue.pop(0)\n",
    "        \n",
    "        if rem.i==0 or rem.tar==0:\n",
    "            print(rem.path)\n",
    "        else: #append child\n",
    "            exc=dp[rem.i-1][rem.tar-1]\n",
    "            if exc==True:\n",
    "                queue.append(pair(rem.i-1,rem.tar,rem.path))\n",
    "            if rem.tar>=arr[rem.i-1]:\n",
    "                inc=dp[rem.i-1][rem.tar-arr[rem.i-1]]\n",
    "                if inc==True:\n",
    "                    queue.append(pair(rem.i-1,rem.tar-arr[rem.i-1],str(rem.i-1)+\" \"+rem.path))\n",
    "    \n",
    "\n",
    "printtarget([4,2,7,1,3],10)"
   ]
  },
  {
   "cell_type": "markdown",
   "metadata": {},
   "source": [
    "# Print 0-1 knapsack "
   ]
  },
  {
   "cell_type": "code",
   "execution_count": 26,
   "metadata": {},
   "outputs": [
    {
     "name": "stdout",
     "output_type": "stream",
     "text": [
      "Max Value: 75\n",
      "3 4 \n"
     ]
    },
    {
     "data": {
      "text/plain": [
       "[[0, 0, 0, 0, 30, 30, 30, 30],\n",
       " [0, 0, 15, 15, 30, 30, 45, 45],\n",
       " [0, 0, 0, 0, 0, 30, 45, 45],\n",
       " [0, 10, 10, 10, 10, 30, 45, 55],\n",
       " [0, 0, 0, 45, 55, 55, 55, 55],\n",
       " [0, 0, 0, 0, 55, 55, 55, 75]]"
      ]
     },
     "execution_count": 26,
     "metadata": {},
     "output_type": "execute_result"
    }
   ],
   "source": [
    "class pair:\n",
    "    def __init__(self,i,j,path):\n",
    "        self.i=i\n",
    "        self.j=j\n",
    "        self.path=path\n",
    "def printknaspsack(w,v,capacity):\n",
    "    dp=[[0 for x in range(capacity+1)] for x in range(len(w)+1)]\n",
    "    \n",
    "    for i in range(0,len(dp)):\n",
    "        for j in range(0,len(dp[0])):\n",
    "            if j>=w[i-1]:\n",
    "                rcap=j-w[i-1]\n",
    "                dp[i][j]=max(dp[i-1][j],dp[i-1][rcap]+v[i-1])\n",
    "    queue=[pair(len(dp)-1,len(dp[0])-1,'')]\n",
    "    print('Max Value:',dp[len(dp)-1][len(dp[0])-1])\n",
    "    while len(queue)!=0:\n",
    "        rem=queue.pop(0)\n",
    "        if rem.i ==0 or rem.j==0:\n",
    "            print(rem.path)\n",
    "        else: # add child\n",
    "            exc=dp[rem.i-1][rem.j]\n",
    "            inc=dp[rem.i-1][rem.j-w[rem.i-1]]+v[rem.i-1]\n",
    "            \n",
    "            if dp[rem.i][rem.j]==inc:\n",
    "                queue.append(pair(rem.i-1,rem.j-w[rem.i-1],str(rem.i-1)+\" \"+rem.path))\n",
    "            \n",
    "            if dp[rem.i][rem.j]==exc:\n",
    "                queue.append(pair(rem.i-1,rem.j,rem.path))\n",
    "    \n",
    "    return dp\n",
    "printknaspsack([2,5,1,3,4],[15,14,10,45,30],7)"
   ]
  },
  {
   "cell_type": "markdown",
   "metadata": {},
   "source": [
    "# Catlan Number "
   ]
  },
  {
   "cell_type": "code",
   "execution_count": 2,
   "metadata": {},
   "outputs": [
    {
     "name": "stdout",
     "output_type": "stream",
     "text": [
      "14\n"
     ]
    }
   ],
   "source": [
    "def catlannumber(n):\n",
    "    dp=[0]*(n+1)\n",
    "    dp[0]=1\n",
    "    dp[1]=1\n",
    "    for i in range(2,len(dp)):\n",
    "        for j in range(0,i):\n",
    "            dp[i]+=dp[j]*dp[i-j-1]\n",
    "    print(dp[n])\n",
    "catlannumber(4)"
   ]
  },
  {
   "cell_type": "markdown",
   "metadata": {},
   "source": [
    "# Number of bst's \n",
    "(catlan number)"
   ]
  },
  {
   "cell_type": "code",
   "execution_count": 4,
   "metadata": {},
   "outputs": [
    {
     "name": "stdout",
     "output_type": "stream",
     "text": [
      "5\n"
     ]
    }
   ],
   "source": [
    "def numbsts(n):\n",
    "    dp=[0]*(n+1)\n",
    "    dp[0]=1\n",
    "    dp[1]=1\n",
    "    for i in range(2,len(dp)):\n",
    "        left=0\n",
    "        right=i-1\n",
    "        while left<i:\n",
    "            dp[i]+=dp[left]*dp[right]\n",
    "            left+=1\n",
    "            right-=1\n",
    "    print(dp[n])\n",
    "numbsts(3)"
   ]
  },
  {
   "cell_type": "markdown",
   "metadata": {},
   "source": [
    "# Valley and Mountains \n",
    "(catlan number)"
   ]
  },
  {
   "cell_type": "code",
   "execution_count": 9,
   "metadata": {},
   "outputs": [
    {
     "name": "stdout",
     "output_type": "stream",
     "text": [
      "14\n"
     ]
    }
   ],
   "source": [
    "def valleyMountain(n):\n",
    "    dp=[0]*(n+1)\n",
    "    dp[0]=1\n",
    "    dp[1]=1\n",
    "    for i in range(2,len(dp)):\n",
    "        inside=i-1\n",
    "        outside=0\n",
    "        while outside<i:\n",
    "            dp[i]+=dp[inside]*dp[outside]\n",
    "            inside-=1\n",
    "            outside+=1\n",
    "    print(dp[n])\n",
    "valleyMountain(4)"
   ]
  },
  {
   "cell_type": "markdown",
   "metadata": {},
   "source": [
    "# Count Brackets (arrangement)\n",
    "(catlan)"
   ]
  },
  {
   "cell_type": "code",
   "execution_count": 13,
   "metadata": {},
   "outputs": [
    {
     "name": "stdout",
     "output_type": "stream",
     "text": [
      "5\n"
     ]
    }
   ],
   "source": [
    "def countBracket(n):\n",
    "    dp=[0]*(n+1)\n",
    "    dp[0]=1\n",
    "    dp[1]=1\n",
    "    for i in range(2,len(dp)):\n",
    "        inside=i-1\n",
    "        outside=0\n",
    "        while outside<i:\n",
    "            dp[i]+=dp[inside]*dp[outside]\n",
    "            inside-=1\n",
    "            outside+=1\n",
    "    print(dp[n])\n",
    "countBracket(3)"
   ]
  },
  {
   "cell_type": "markdown",
   "metadata": {},
   "source": [
    "# Buy and sell stock with transaction fee"
   ]
  },
  {
   "cell_type": "code",
   "execution_count": 2,
   "metadata": {},
   "outputs": [],
   "source": [
    "def maxProfit(prices, fee):\n",
    "    bsp,ssp=-prices[0],0\n",
    "    for i in range(1,len(prices)):\n",
    "        ssp=max(ssp,bsp+prices[i]-fee)\n",
    "        bsp=max(bsp,ssp-prices[i])\n",
    "    return ssp"
   ]
  },
  {
   "cell_type": "markdown",
   "metadata": {},
   "source": [
    "# Buy and sell stock infinite transactions "
   ]
  },
  {
   "cell_type": "code",
   "execution_count": 3,
   "metadata": {},
   "outputs": [],
   "source": [
    "def buyandsellInfinite(prices):\n",
    "    bd,sd,profit=0,0,0\n",
    "    for i in range(1,len(prices)):\n",
    "        if prices[i]>=prices[i-1]:\n",
    "            sd+=1\n",
    "        else:\n",
    "            profit+=prices[sd]-prices[bd]\n",
    "            bd=sd=i\n",
    "    if sd==len(prices)-1:\n",
    "        profit+=prices[sd]-prices[bd]\n",
    "    return profit"
   ]
  },
  {
   "cell_type": "markdown",
   "metadata": {},
   "source": [
    "# Numeric keypad\n",
    "how many words can be made with n no of characters"
   ]
  },
  {
   "cell_type": "code",
   "execution_count": 7,
   "metadata": {},
   "outputs": [
    {
     "data": {
      "text/plain": [
       "138"
      ]
     },
     "execution_count": 7,
     "metadata": {},
     "output_type": "execute_result"
    }
   ],
   "source": [
    "def NumericKeypad(n):\n",
    "    dp=[[0 for x in range(0,10)] for x in range(0,n+1)]\n",
    "    \n",
    "    allowed=[[] for x in range(0,10)]\n",
    "    allowed[0]=[0,8]\n",
    "    allowed[1]=[1,2,4]\n",
    "    allowed[2]=[1,2,5,3]\n",
    "    allowed[3]=[2,3,6]\n",
    "    allowed[4]=[1,4,5,7]\n",
    "    allowed[5]=[2,5,8,4,6]\n",
    "    allowed[6]=[3,5,6,9]\n",
    "    allowed[7]=[4,7,8]\n",
    "    allowed[8]=[0,7,8,9,5]\n",
    "    allowed[9]=[8,6,9]\n",
    "\n",
    "    for i in range(1,len(dp)):\n",
    "        for j in range(0,len(dp[0])):\n",
    "            if i==1:\n",
    "                dp[i][j]=1\n",
    "            else:\n",
    "                for prev in allowed[j]:\n",
    "                    dp[i][j]+=dp[i-1][prev]\n",
    "    summ=0\n",
    "    for i in range(0,len(dp[0])):\n",
    "        summ+=dp[n][i]\n",
    "    return summ\n",
    "NumericKeypad(3)"
   ]
  },
  {
   "cell_type": "markdown",
   "metadata": {},
   "source": [
    "# Matrix chain Multiplication "
   ]
  },
  {
   "cell_type": "code",
   "execution_count": 13,
   "metadata": {},
   "outputs": [
    {
     "name": "stdout",
     "output_type": "stream",
     "text": [
      "[[0, 6000, 18000, 30000, 36000], [0, 0, 24000, 20000, 24000], [0, 0, 0, 60000, 36000], [0, 0, 0, 0, 120000], [0, 0, 0, 0, 0], [0, 0, 0, 0, 0]]\n"
     ]
    },
    {
     "data": {
      "text/plain": [
       "36000"
      ]
     },
     "execution_count": 13,
     "metadata": {},
     "output_type": "execute_result"
    }
   ],
   "source": [
    "import sys\n",
    "def matMulti(arr):\n",
    "    dp=[[0 for x in range(0,len(arr)-1)]for x in range(0,len(arr))]\n",
    "    \n",
    "    for gap in range(0,len(dp)):\n",
    "        i=0\n",
    "        j=gap\n",
    "        while i < len(dp) and j < len(dp[0]):\n",
    "            if gap==0:\n",
    "                dp[i][j]=0\n",
    "            elif gap==1:\n",
    "                dp[i][j]=arr[i]*arr[j]*arr[j+1]\n",
    "            else:\n",
    "                cost=sys.maxsize\n",
    "                for k in range(0,j):\n",
    "                    #i,k lefthalf and k+1,j right half\n",
    "                    lc=dp[i][k]\n",
    "                    rc=dp[k+1][j]\n",
    "                    mc=arr[i]*arr[k+1]*arr[j+1]\n",
    "                    tc=lc+rc+mc\n",
    "                    cost=min(cost,tc)\n",
    "                dp[i][j]=cost\n",
    "            i+=1\n",
    "            j+=1\n",
    "    print(dp)\n",
    "    return dp[0][-1]\n",
    "matMulti([10,20,30,40,50,60])"
   ]
  },
  {
   "cell_type": "markdown",
   "metadata": {},
   "source": [
    "# Ballon burst problem "
   ]
  },
  {
   "cell_type": "code",
   "execution_count": 7,
   "metadata": {},
   "outputs": [
    {
     "name": "stdout",
     "output_type": "stream",
     "text": [
      "[[3, 30, 159, 167], [0, 15, 135, 159], [0, 0, 40, 48], [0, 0, 0, 40]]\n"
     ]
    },
    {
     "data": {
      "text/plain": [
       "167"
      ]
     },
     "execution_count": 7,
     "metadata": {},
     "output_type": "execute_result"
    }
   ],
   "source": [
    "import sys\n",
    "def BallonBurst(arr):\n",
    "    dp=[[0 for x in range(len(arr))] for x in range(len(arr))]\n",
    "    for gap in range(0,len(arr)):\n",
    "        i=0\n",
    "        j=gap\n",
    "        while i < len(arr) and j < len(arr):\n",
    "            _max=-sys.maxsize\n",
    "            for k in range(i,j+1):\n",
    "                left=0 if k==i else dp[i][k-1]\n",
    "                right=0 if k==j else dp[k+1][j]\n",
    "                val=(1 if i==0 else arr[i-1]) * arr[k] * (1 if j==len(arr)-1 else arr[j+1])\n",
    "                tc=left + right + val\n",
    "                _max=max(tc,_max)\n",
    "            dp[i][j]=_max\n",
    "            i+=1\n",
    "            j+=1\n",
    "    print(dp)\n",
    "    return dp[0][-1]\n",
    "BallonBurst([3,1,5,8])\n"
   ]
  },
  {
   "cell_type": "markdown",
   "metadata": {},
   "source": [
    "# Wildcard Matching\n",
    "*-means no char or any n times char and ? means any 1 char"
   ]
  },
  {
   "cell_type": "code",
   "execution_count": 8,
   "metadata": {},
   "outputs": [
    {
     "name": "stdout",
     "output_type": "stream",
     "text": [
      "[[True, False, False, True, False, False, False, False], [False, True, False, False, True, False, False, False], [True, True, True, True, True, True, False, False], [False, False, False, False, False, True, False, False], [False, False, False, False, False, False, True, False], [False, False, False, False, False, False, False, True]]\n"
     ]
    },
    {
     "data": {
      "text/plain": [
       "True"
      ]
     },
     "execution_count": 8,
     "metadata": {},
     "output_type": "execute_result"
    }
   ],
   "source": [
    "def wildcardPattern(string,pattern):\n",
    "    dp=[[False for x in range(len(string)+1)] for x in range(len(pattern)+1)]\n",
    "    \n",
    "    for i in range(len(dp)-1,-1,-1):\n",
    "        for j in range(len(dp[0])-1,-1,-1):\n",
    "            if i==len(dp)-1 and j==len(dp[0])-1:\n",
    "                dp[i][j]=True\n",
    "            elif i==len(dp)-1:\n",
    "                dp[i][j]=False\n",
    "            elif j==len(dp[0])-1:\n",
    "                dp[i][j]=dp[i+1][j] if pattern[i]==\"*\" else False\n",
    "            else:\n",
    "                if pattern[i]=='?':\n",
    "                    dp[i][j]=dp[i+1][j+1]\n",
    "                elif pattern[i]=='*':\n",
    "                    dp[i][j]=dp[i][j+1] | dp[i+1][j]\n",
    "                elif pattern[i]==string[j]:\n",
    "                    dp[i][j]=dp[i+1][j+1]\n",
    "                else:\n",
    "                    dp[i][j]=False\n",
    "    print(dp)\n",
    "    return dp[0][0]\n",
    "wildcardPattern('abaabab','ab*a?')"
   ]
  },
  {
   "cell_type": "markdown",
   "metadata": {},
   "source": [
    "# Regular Expression\n",
    "https://leetcode.com/problems/regular-expression-matching/submissions/"
   ]
  },
  {
   "cell_type": "code",
   "execution_count": 8,
   "metadata": {},
   "outputs": [
    {
     "name": "stdout",
     "output_type": "stream",
     "text": [
      "[[True, False, False, False, False, False, False], [False, True, False, False, False, False, False], [False, False, True, False, False, False, False], [False, False, False, True, False, False, False], [False, False, True, True, True, False, False], [False, False, False, True, True, True, False], [False, False, True, True, True, True, True]]\n"
     ]
    },
    {
     "data": {
      "text/plain": [
       "True"
      ]
     },
     "execution_count": 8,
     "metadata": {},
     "output_type": "execute_result"
    }
   ],
   "source": [
    "#approach if pattern ch and str ch is equal and pattern ch is '.' then chech prev diagnal\n",
    "#if * then check if pattern prev ch is equal str ch then 2 rows above or 1 col prev else 2 row above.\n",
    "\n",
    "def regularExpression(s,p):\n",
    "    dp=[[False for _ in range(0,len(s)+1)] for _ in range(0,len(p)+1)]\n",
    "    for i in range(0,len(dp)):\n",
    "        for j in range(0,len(dp[0])):\n",
    "            if i==0 and j==0:\n",
    "                dp[i][j]=True\n",
    "            elif i==0:\n",
    "                dp[i][j]=False\n",
    "            elif j==0:\n",
    "                if p[i-1]=='*':\n",
    "                    dp[i][j]=dp[i-2][j]\n",
    "                else:\n",
    "                    dp[i][j]=False\n",
    "            else:\n",
    "                if p[i-1]=='.' or p[i-1]==s[j-1]:\n",
    "                    dp[i][j]=dp[i-1][j-1]\n",
    "                elif p[i-1]=='*':\n",
    "                    if p[i-2]==s[j-1] or p[i-2]=='.':\n",
    "                        dp[i][j]=dp[i-2][j] | dp[i][j-1]\n",
    "                    else:\n",
    "                        dp[i][j]=dp[i-2][j]\n",
    "    print(dp)\n",
    "    return dp[-1][-1]\n",
    "regularExpression(\"missis\",\"mis*.*\")"
   ]
  },
  {
   "cell_type": "markdown",
   "metadata": {},
   "source": [
    "# Minimum Palindromic Cut"
   ]
  },
  {
   "cell_type": "code",
   "execution_count": 22,
   "metadata": {},
   "outputs": [
    {
     "name": "stdout",
     "output_type": "stream",
     "text": [
      "[[True, False, False, False, False, False], [False, True, False, False, True, False], [False, False, True, True, False, False], [False, False, False, True, False, False], [False, False, False, False, True, False], [False, False, False, False, False, True]]\n",
      "[0, 1, 2, 2, 1, 2]\n"
     ]
    },
    {
     "data": {
      "text/plain": [
       "2"
      ]
     },
     "execution_count": 22,
     "metadata": {},
     "output_type": "execute_result"
    }
   ],
   "source": [
    "import sys\n",
    "def MinPalindromicCut(string):\n",
    "    \n",
    "    dp=[[False for x in range(len(string))] for x in range(len(string))]\n",
    "    \n",
    "    for gap in range(0,len(string)):\n",
    "        for i,j in zip(range(0,len(dp)),range(gap,len(dp))):\n",
    "            if gap==0:\n",
    "                dp[i][j]=True\n",
    "            elif gap==1:\n",
    "                if string[i]==string[j]:\n",
    "                    dp[i][j]=True\n",
    "            else:\n",
    "                if string[i]==string[j]:\n",
    "                    dp[i][j]=dp[i+1][j-1]\n",
    "    print(dp)\n",
    "    strg=[0] * len(string)\n",
    "    for j in range(1,len(string)):\n",
    "        _min=sys.maxsize\n",
    "        if dp[0][j]==True:\n",
    "            strg[j]=0\n",
    "        else:\n",
    "            for i in range(j,0,-1):\n",
    "                if dp[i][j]==True:\n",
    "                    _min=min(strg[i-1],_min)\n",
    "            strg[j]=_min+1\n",
    "    print(strg)\n",
    "    return strg[-1]\n",
    "MinPalindromicCut('abccbx')"
   ]
  },
  {
   "cell_type": "markdown",
   "metadata": {},
   "source": [
    "# Word break dp 1"
   ]
  },
  {
   "cell_type": "code",
   "execution_count": 49,
   "metadata": {},
   "outputs": [],
   "source": [
    "class Solution(object):\n",
    "    def wordBreak(self, s, wordDict):\n",
    "        dp=[True] + [False] * len(s)\n",
    "        for i in range(len(dp)):\n",
    "            if dp[i]!=True:\n",
    "                continue\n",
    "            \n",
    "            for w in wordDict:\n",
    "                if len(w) <= len(s[i:]):\n",
    "                    if w==s[i:i + len(w)]:\n",
    "                        dp[i+len(w)]=True\n",
    "        return dp[-1]"
   ]
  },
  {
   "cell_type": "markdown",
   "metadata": {},
   "source": [
    "# Word Break DP 2"
   ]
  },
  {
   "cell_type": "code",
   "execution_count": 50,
   "metadata": {},
   "outputs": [
    {
     "name": "stdout",
     "output_type": "stream",
     "text": [
      "[0, 0, 1, 0, 0, 0, 0, 0, 2, 0, 0, 0, 0, 2, 0, 0, 2, 0, 4, 0, 0, 4, 0, 0, 0, 0, 8]\n"
     ]
    }
   ],
   "source": [
    "def wordBreak(string,ls):\n",
    "    dp=[0]*len(string)\n",
    "    for i in range(0,len(string)):\n",
    "        for j in range(0,i+1):\n",
    "            if string[j:i+1] in ls:\n",
    "                if j>0:\n",
    "                    dp[i]+=dp[j-1]\n",
    "                else:\n",
    "                    dp[i]+=1\n",
    "    print(dp)\n",
    "    \n",
    "ls=['loves','pep','coding','pepcoding','loves','man','go','mango','ice','cream','icecream']\n",
    "wordBreak('pepcodinglovesmangoicecream',ls)"
   ]
  },
  {
   "cell_type": "code",
   "execution_count": 51,
   "metadata": {},
   "outputs": [
    {
     "name": "stdout",
     "output_type": "stream",
     "text": [
      "[0, 0, 1, 1, 0, 0, 2, 0, 0, 2]\n"
     ]
    }
   ],
   "source": [
    "wordBreak('catsanddog',['sand','and','dog','cat','cats'])"
   ]
  },
  {
   "cell_type": "markdown",
   "metadata": {},
   "source": [
    "# Min Cost to make string identical"
   ]
  },
  {
   "cell_type": "code",
   "execution_count": 3,
   "metadata": {},
   "outputs": [
    {
     "data": {
      "text/plain": [
       "6"
      ]
     },
     "execution_count": 3,
     "metadata": {},
     "output_type": "execute_result"
    }
   ],
   "source": [
    "def minCost(s1,s2,c1,c2):\n",
    "    dp=[[0 for x in range(0,len(s2)+1)] for x in range(0,len(s1)+1)]\n",
    "    \n",
    "    for i in range(1,len(dp)):\n",
    "        for j in range(1,len(dp[0])):\n",
    "            if s1[i-1]==s2[j-1]:\n",
    "                dp[i][j]=dp[i-1][j-1]+1\n",
    "            else:\n",
    "                dp[i][j]=max(dp[i-1][j],dp[i][j-1])\n",
    "    lcs=dp[-1][-1]\n",
    "    l1=len(s1)-lcs\n",
    "    l2=len(s2)-lcs\n",
    "    cost=(l1 * c1) + (l2 * c2)\n",
    "    return cost\n",
    "minCost('abdea','aba',3,4)"
   ]
  },
  {
   "cell_type": "markdown",
   "metadata": {},
   "source": [
    "# Maximum Palindromic substring"
   ]
  },
  {
   "cell_type": "code",
   "execution_count": 10,
   "metadata": {},
   "outputs": [],
   "source": [
    "#TLE approach\n",
    "class Solution(object):\n",
    "    def longestPalindrome(self, s):\n",
    "        dp=[[False for _ in range(len(s))] for _ in range(len(s))]\n",
    "        maxlps=0\n",
    "        lps=None\n",
    "        for gap in range(0,len(s)):\n",
    "            for i,j in zip(range(0,len(s)),range(gap,len(s))):\n",
    "                if gap==0:\n",
    "                    dp[i][j]=True\n",
    "                    maxlps=1\n",
    "                    lps=s[i:j+1]\n",
    "                elif gap==1:\n",
    "                    dp[i][j]=True if s[i]==s[j] else False\n",
    "                    if dp[i][j]==True:\n",
    "                        if maxlps<j-i+1:\n",
    "                            maxlps=j-i+1\n",
    "                            lps=s[i:j+1]\n",
    "                else:\n",
    "                    dp[i][j]=dp[i+1][j-1] if s[i]==s[j] else False\n",
    "                    if dp[i][j]==True:\n",
    "                        if maxlps<j-i+1:\n",
    "                            maxlps=j-i+1\n",
    "                            lps=s[i:j+1]\n",
    "        print(maxlps)\n",
    "        return lps\n",
    "#successfull\n",
    "class Solution(object):\n",
    "    def longestPalindrome(self, s):\n",
    "        dp=[[False for _ in range(len(s))] for _ in range(len(s))]\n",
    "        for i in range(0,len(s)):\n",
    "            dp[i][i]=True\n",
    "            lps=s[i]\n",
    "            \n",
    "        for i in range(len(s)-1,-1,-1):\n",
    "            for j in range(i+1,len(s)):\n",
    "                if s[i]==s[j]:\n",
    "                    if j-i == 1 or dp[i+1][j-1] is True:\n",
    "                        dp[i][j]=True\n",
    "                        if len(lps)< len(s[i:j+1]):\n",
    "                            lps=s[i:j+1]\n",
    "        return lps"
   ]
  },
  {
   "cell_type": "markdown",
   "metadata": {},
   "source": [
    "# Count Palindromic Substring "
   ]
  },
  {
   "cell_type": "code",
   "execution_count": 39,
   "metadata": {},
   "outputs": [
    {
     "data": {
      "text/plain": [
       "12"
      ]
     },
     "execution_count": 39,
     "metadata": {},
     "output_type": "execute_result"
    }
   ],
   "source": [
    "def CountPalindromicSub(s):\n",
    "    dp=[[False for _ in range(len(s))] for _ in range(len(s))]\n",
    "    res=0\n",
    "    for i in range(len(s)):\n",
    "        dp[i][i]=True\n",
    "        res+=1\n",
    "    \n",
    "    for i in range(len(s)-2,-1,-1):\n",
    "        for j in range(i+1,len(s)):\n",
    "            if s[i]==s[j]:\n",
    "                if j-i == 1 or dp[i+1][j-1]==True:\n",
    "                    dp[i][j]=True\n",
    "                    res+=1\n",
    "    return res\n",
    "CountPalindromicSub('abbabbc')"
   ]
  },
  {
   "cell_type": "code",
   "execution_count": 40,
   "metadata": {},
   "outputs": [],
   "source": [
    "a='abc'"
   ]
  },
  {
   "cell_type": "code",
   "execution_count": null,
   "metadata": {},
   "outputs": [],
   "source": []
  },
  {
   "cell_type": "code",
   "execution_count": null,
   "metadata": {},
   "outputs": [],
   "source": []
  }
 ],
 "metadata": {
  "kernelspec": {
   "display_name": "Python 3",
   "language": "python",
   "name": "python3"
  },
  "language_info": {
   "codemirror_mode": {
    "name": "ipython",
    "version": 3
   },
   "file_extension": ".py",
   "mimetype": "text/x-python",
   "name": "python",
   "nbconvert_exporter": "python",
   "pygments_lexer": "ipython3",
   "version": "3.8.5"
  }
 },
 "nbformat": 4,
 "nbformat_minor": 2
}
