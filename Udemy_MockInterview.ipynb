{
 "cells": [
  {
   "cell_type": "markdown",
   "metadata": {},
   "source": [
    "### You've been given a list of historical stock prices for a single day for Amazon stock. The index of the list represents the timestamp, so the element at index of 0 is the initial price of the stock, the element at index 1 is the next recorded price of the stock for that day, etc. Your task is to write a function that will return the maximum profit possible from the purchase and sale of a single share of Amazon stock on that day. Keep in mind to try to make this as efficient as possible."
   ]
  },
  {
   "cell_type": "code",
   "execution_count": 12,
   "metadata": {},
   "outputs": [],
   "source": [
    "def max_profit(stock):\n",
    "    _min=stock[0]\n",
    "    maxprofit=0\n",
    "    i=1\n",
    "    while i<len(stock):\n",
    "        if stock[i]<_min:\n",
    "            _min=stock[i]\n",
    "        profit=stock[i]-_min\n",
    "        maxprofit=max(maxprofit,profit)\n",
    "        i+=1\n",
    "    return maxprofit"
   ]
  },
  {
   "cell_type": "code",
   "execution_count": 14,
   "metadata": {},
   "outputs": [
    {
     "data": {
      "text/plain": [
       "7"
      ]
     },
     "execution_count": 14,
     "metadata": {},
     "output_type": "execute_result"
    }
   ],
   "source": [
    "max_profit([12,11,15,3,10])"
   ]
  },
  {
   "cell_type": "markdown",
   "metadata": {},
   "source": [
    "### Given a list of integers, write a function that will return a list, in which for each index the element will be the product of all the integers except for the element at that index\n",
    "\n",
    "For example, an input of [1,2,3,4] would return [24,12,8,6] by performing [2×3×4,1×3×4,1×2×4,1×2×3]"
   ]
  },
  {
   "cell_type": "code",
   "execution_count": 21,
   "metadata": {},
   "outputs": [],
   "source": [
    "def product(arr):\n",
    "    prod=1\n",
    "    for i in range(0,len(arr)):\n",
    "        prod*=arr[i]\n",
    "    \n",
    "    for i in range(0,len(arr)):\n",
    "        arr[i]=prod//arr[i]\n",
    "    return arr\n",
    "    "
   ]
  },
  {
   "cell_type": "code",
   "execution_count": 22,
   "metadata": {},
   "outputs": [
    {
     "data": {
      "text/plain": [
       "[24, 12, 8, 6]"
      ]
     },
     "execution_count": 22,
     "metadata": {},
     "output_type": "execute_result"
    }
   ],
   "source": [
    "product([1,2,3,4])"
   ]
  },
  {
   "cell_type": "markdown",
   "metadata": {},
   "source": [
    "### Given two rectangles, determine if they overlap. The rectangles are defined as a Dictionary, for example:"
   ]
  },
  {
   "cell_type": "raw",
   "metadata": {},
   "source": [
    "r1 = {   # x and y coordinates of the bottom-left corner of the rectangle\n",
    "         'x': 2 , 'y': 4,\n",
    "         \n",
    "         # Width and Height of rectangle\n",
    "         'w':5,'h':12}\n"
   ]
  },
  {
   "cell_type": "markdown",
   "metadata": {},
   "source": [
    "##### If the rectangles do overlap, return the dictionary which describes the overlapping section"
   ]
  },
  {
   "cell_type": "code",
   "execution_count": 27,
   "metadata": {},
   "outputs": [],
   "source": [
    "def overlap(c1,c2,d1,d2):\n",
    "    greater=max(c1,c2)\n",
    "    lower=min(c1+d1,c2+d2)\n",
    "    # if greater > lower no overlap\n",
    "    if greater>lower:\n",
    "        return None,None\n",
    "    overlap=lower-greater\n",
    "    return greater,overlap\n",
    "    \n",
    "\n",
    "def rectangle_overlap(r1,r2):\n",
    "    overlap_x,overlap_width=overlap(r1['x'],r2['x'],r1['w'],r2['w'])\n",
    "    overlap_y,overlap_height=overlap(r1['y'],r2['y'],r1['h'],r2['h'])\n",
    "    return {'x':overlap_x,'y':overlap_y,'w':overlap_width,'h':overlap_height}"
   ]
  },
  {
   "cell_type": "code",
   "execution_count": 28,
   "metadata": {},
   "outputs": [
    {
     "data": {
      "text/plain": [
       "{'x': 2, 'y': 5, 'w': 5, 'h': 11}"
      ]
     },
     "execution_count": 28,
     "metadata": {},
     "output_type": "execute_result"
    }
   ],
   "source": [
    "r1 = {'x': 2 , 'y': 4,'w':5,'h':12}\n",
    "r2 = {'x': 1 , 'y': 5,'w':7,'h':14}\n",
    "rectangle_overlap(r1,r2)"
   ]
  },
  {
   "cell_type": "markdown",
   "metadata": {},
   "source": [
    "### Given a string, write a function that uses recursion to reverse it"
   ]
  },
  {
   "cell_type": "code",
   "execution_count": 31,
   "metadata": {},
   "outputs": [],
   "source": [
    "def rev_string(string):\n",
    "    if len(string)==0:\n",
    "        return ''\n",
    "    return rev_string(string[1:])+string[0]"
   ]
  },
  {
   "cell_type": "code",
   "execution_count": 32,
   "metadata": {},
   "outputs": [
    {
     "data": {
      "text/plain": [
       "'VAHDam'"
      ]
     },
     "execution_count": 32,
     "metadata": {},
     "output_type": "execute_result"
    }
   ],
   "source": [
    "rev_string('maDHAV')"
   ]
  },
  {
   "cell_type": "markdown",
   "metadata": {},
   "source": [
    "### Write a function that given a target amount of money and a list of possible coin denominations, returns the number of ways to make change for the target amount using the coin denominations"
   ]
  },
  {
   "cell_type": "code",
   "execution_count": 48,
   "metadata": {},
   "outputs": [],
   "source": [
    "def coin_denominations(amount,coins):\n",
    "    dp=[0]*(amount+1)\n",
    "    dp[0]=1\n",
    "    for c in coins:\n",
    "        for amt in range(c,len(dp)):\n",
    "            dp[amt]=dp[amt]+dp[amt-c]\n",
    "    return dp[-1]\n",
    "        \n",
    "\n",
    "    "
   ]
  },
  {
   "cell_type": "code",
   "execution_count": 49,
   "metadata": {},
   "outputs": [
    {
     "data": {
      "text/plain": [
       "884"
      ]
     },
     "execution_count": 49,
     "metadata": {},
     "output_type": "execute_result"
    }
   ],
   "source": [
    "coin_denominations(100,[1,2,3])"
   ]
  },
  {
   "cell_type": "markdown",
   "metadata": {},
   "source": [
    "### Given a binary tree, check whether it’s a binary search tree or not."
   ]
  },
  {
   "cell_type": "raw",
   "metadata": {},
   "source": [
    "naive approach is take inorder traversal of binary tree and check weather list is sorted or not."
   ]
  },
  {
   "cell_type": "code",
   "execution_count": 67,
   "metadata": {},
   "outputs": [],
   "source": [
    "class Tree:\n",
    "    def __init__(self,data):\n",
    "        self.data=data\n",
    "        self.left=None\n",
    "        self.right=None\n",
    "class Pair:\n",
    "    def __init__(self,data,state):\n",
    "        self.node=data\n",
    "        self.state=state"
   ]
  },
  {
   "cell_type": "code",
   "execution_count": 68,
   "metadata": {},
   "outputs": [],
   "source": [
    "def create_tree(arr):\n",
    "    stack=[]\n",
    "    root=Tree(arr[0])\n",
    "    p1=Pair(root,1)\n",
    "    stack.append(p1)\n",
    "    idx=0\n",
    "    while len(stack)!=0:\n",
    "        top=stack[-1]\n",
    "        if top.state==1:\n",
    "            idx+=1\n",
    "            if arr[idx]!=None:\n",
    "                new_node=Tree(arr[idx])\n",
    "                top.node.left=new_node\n",
    "                p1=Pair(top.node.left,1)\n",
    "                stack.append(p1)\n",
    "            else:\n",
    "                top.node.right=None\n",
    "            top.state+=1\n",
    "        elif top.state==2:\n",
    "            idx+=1\n",
    "            if arr[idx]!=None:\n",
    "                new_node=Tree(arr[idx])\n",
    "                top.node.right=new_node\n",
    "                p1=Pair(top.node.right,1)\n",
    "                stack.append(p1)\n",
    "            else:\n",
    "                top.node.right=None\n",
    "            top.state+=1\n",
    "        elif top.state==3:\n",
    "            stack.pop()        \n",
    "    return root"
   ]
  },
  {
   "cell_type": "code",
   "execution_count": 73,
   "metadata": {},
   "outputs": [],
   "source": [
    "arr=[50,25,12,None,None,37,30,None,None,None,75,62,None,70,None,None,87,None,None]\n",
    "root=create_tree(arr)"
   ]
  },
  {
   "cell_type": "code",
   "execution_count": 71,
   "metadata": {},
   "outputs": [],
   "source": [
    "def inorder(root):\n",
    "    if root==None:\n",
    "        return\n",
    "    if root.left:\n",
    "        inorder(root.left)\n",
    "    print(root.data,end=' ')\n",
    "    if root.right:\n",
    "        inorder(root.right)"
   ]
  },
  {
   "cell_type": "code",
   "execution_count": 72,
   "metadata": {},
   "outputs": [
    {
     "name": "stdout",
     "output_type": "stream",
     "text": [
      "12 25 30 37 50 62 70 75 87 "
     ]
    }
   ],
   "source": [
    "inorder(root)"
   ]
  },
  {
   "cell_type": "code",
   "execution_count": null,
   "metadata": {},
   "outputs": [],
   "source": []
  },
  {
   "cell_type": "code",
   "execution_count": null,
   "metadata": {},
   "outputs": [],
   "source": []
  }
 ],
 "metadata": {
  "kernelspec": {
   "display_name": "Python 3",
   "language": "python",
   "name": "python3"
  },
  "language_info": {
   "codemirror_mode": {
    "name": "ipython",
    "version": 3
   },
   "file_extension": ".py",
   "mimetype": "text/x-python",
   "name": "python",
   "nbconvert_exporter": "python",
   "pygments_lexer": "ipython3",
   "version": "3.6.8"
  }
 },
 "nbformat": 4,
 "nbformat_minor": 2
}
