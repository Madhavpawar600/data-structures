{
 "cells": [
  {
   "cell_type": "markdown",
   "metadata": {},
   "source": [
    "# LinkedList declaration"
   ]
  },
  {
   "cell_type": "code",
   "execution_count": 1,
   "metadata": {},
   "outputs": [],
   "source": [
    "class Node:\n",
    "    def __init__(self,data):\n",
    "        self.data=data\n",
    "        self.next=None\n",
    "class Linkedlist:\n",
    "    def __init__(self):\n",
    "        self.head=None\n",
    "        self.tail=None\n",
    "        self.size=0\n",
    "    \n",
    "    def addfirst(self,data):\n",
    "        newNode=Node(data)\n",
    "        if self.head==None:\n",
    "            self.head=newNode\n",
    "            self.tail=newNode\n",
    "            self.size+=1\n",
    "        else:\n",
    "            newNode.next=self.head\n",
    "            self.head=newNode\n",
    "            self.size+=1\n",
    "    \n",
    "    def addlast(self,data):\n",
    "        newNode=Node(data)\n",
    "        if self.head==None:\n",
    "            self.head=newNode\n",
    "            self.tail=newNode\n",
    "            self.size+=1\n",
    "        else:\n",
    "            self.tail.next=newNode\n",
    "            self.tail=newNode\n",
    "            self.size+=1\n",
    "    \n",
    "    def removeLast(self):\n",
    "        if self.size==0:\n",
    "            print('Please Create LL first--UNDERFLOW')\n",
    "        elif self.size==1:\n",
    "            self.head=None\n",
    "            self.tail=None\n",
    "            self.size-=1\n",
    "        else:\n",
    "            curr=self.head\n",
    "            while curr.next!=self.tail:\n",
    "                curr=curr.next\n",
    "            self.tail=curr\n",
    "            curr.next=None\n",
    "            self.size-=1\n",
    "            \n",
    "    def removeFirst(self):\n",
    "        if self.size==0:\n",
    "            print('Please Create LL first--UNDERFLOW')\n",
    "        elif self.size==1:\n",
    "            self.head=None\n",
    "            self.tail=None\n",
    "            self.size-=1\n",
    "        else:\n",
    "            self.head=self.head.next\n",
    "            self.size-=1\n",
    "    \n",
    "    def display(self):\n",
    "        curr=self.head\n",
    "        while curr:\n",
    "            print(curr.data,end=' ')\n",
    "            curr=curr.next\n"
   ]
  },
  {
   "cell_type": "code",
   "execution_count": 2,
   "metadata": {},
   "outputs": [
    {
     "name": "stdout",
     "output_type": "stream",
     "text": [
      "1 2 3 \n",
      "0 1 2 3 4 5 6 7 8 9 \n",
      "1 2 3 4 5 6 7 8 9 \n",
      "1 2 3 4 5 6 7 8 "
     ]
    }
   ],
   "source": [
    "list1=Linkedlist()\n",
    "list1.addfirst(3)\n",
    "list1.addfirst(2)\n",
    "list1.addfirst(1)\n",
    "list1.display()\n",
    "print('')\n",
    "list1.addlast(4)\n",
    "list1.addlast(5)\n",
    "list1.addlast(6)\n",
    "list1.addlast(7)\n",
    "list1.addlast(8)\n",
    "list1.addlast(9)\n",
    "list1.addfirst(0)\n",
    "list1.display()\n",
    "print('')\n",
    "list1.removeFirst()\n",
    "list1.display()\n",
    "print('')\n",
    "list1.removeLast()\n",
    "list1.display()"
   ]
  },
  {
   "cell_type": "code",
   "execution_count": 3,
   "metadata": {},
   "outputs": [],
   "source": [
    "def createList(arr):\n",
    "    head=Linkedlist()\n",
    "    for data in arr:\n",
    "        head.addlast(data)\n",
    "    return head"
   ]
  },
  {
   "cell_type": "code",
   "execution_count": 4,
   "metadata": {},
   "outputs": [],
   "source": [
    "duplist=createList([1,2,2,2,3,3,4,4,5])"
   ]
  },
  {
   "cell_type": "markdown",
   "metadata": {},
   "source": [
    "# Fold linkedlist"
   ]
  },
  {
   "cell_type": "code",
   "execution_count": 5,
   "metadata": {},
   "outputs": [
    {
     "name": "stdout",
     "output_type": "stream",
     "text": [
      "1 8 2 7 3 6 4 5 "
     ]
    }
   ],
   "source": [
    "def foldList(head):\n",
    "    fast=head\n",
    "    slow=head\n",
    "    while fast.next and fast.next.next:\n",
    "        fast=fast.next.next\n",
    "        slow=slow.next\n",
    "    second=slow.next\n",
    "    slow.next=None\n",
    "    #reverse secondlist\n",
    "    prev=None\n",
    "    next=None\n",
    "    curr=second\n",
    "    while curr:\n",
    "        next=curr.next\n",
    "        curr.next=prev\n",
    "        prev=curr\n",
    "        curr=next\n",
    "    second=prev\n",
    "    first=head\n",
    "    while first!=None and second!=None:\n",
    "        next1=first.next\n",
    "        next2=second.next\n",
    "        first.next=second\n",
    "        second.next=next1\n",
    "        first=next1\n",
    "        second=next2\n",
    "    temp=head\n",
    "    while temp:\n",
    "        print(temp.data,end=' ')\n",
    "        temp=temp.next\n",
    "    return head\n",
    "        \n",
    "foldhead=foldList(list1.head)"
   ]
  },
  {
   "cell_type": "code",
   "execution_count": 6,
   "metadata": {},
   "outputs": [
    {
     "name": "stdout",
     "output_type": "stream",
     "text": [
      "1 8 2 7 3 6 4 5 "
     ]
    }
   ],
   "source": [
    "temp=foldhead\n",
    "while temp:\n",
    "    print(temp.data,end=' ')\n",
    "    temp=temp.next"
   ]
  },
  {
   "cell_type": "markdown",
   "metadata": {},
   "source": [
    "# Unfold linkedlist"
   ]
  },
  {
   "cell_type": "code",
   "execution_count": 74,
   "metadata": {},
   "outputs": [
    {
     "name": "stdout",
     "output_type": "stream",
     "text": [
      "1 8 2 7 3 6 1 2 3 4 5 6 7 8 "
     ]
    }
   ],
   "source": [
    "def unfoldList(head):\n",
    "    first=head\n",
    "    second=head.next\n",
    "    head1=head\n",
    "    head2=head.next\n",
    "    while first and second.next:\n",
    "        print(first.data,second.data,end=' ')\n",
    "        first.next=first.next.next\n",
    "        second.next=second.next.next\n",
    "        first=first.next\n",
    "        second=second.next\n",
    "    first.next=None\n",
    "    #reverse second list\n",
    "    curr=head2\n",
    "    prev=None\n",
    "    next=None\n",
    "    while curr:\n",
    "        next=curr.next\n",
    "        curr.next=prev\n",
    "        prev=curr\n",
    "        curr=next\n",
    "    first.next=prev\n",
    "    #print new list and return head\n",
    "    temp=head1\n",
    "    while temp:\n",
    "        print(temp.data,end=' ')\n",
    "        temp=temp.next\n",
    "    return head1\n",
    "unlist=unfoldList(foldhead)"
   ]
  },
  {
   "cell_type": "markdown",
   "metadata": {},
   "source": [
    "# reverse linked list in group of k "
   ]
  },
  {
   "cell_type": "code",
   "execution_count": 83,
   "metadata": {},
   "outputs": [],
   "source": [
    "def reverseK(head,k):\n",
    "    curr=head\n",
    "    prev=None\n",
    "    count=0\n",
    "    while curr:\n",
    "        stack=[]\n",
    "        while curr and count<k:\n",
    "            stack.append(curr)\n",
    "            curr=curr.next\n",
    "            count+=1\n",
    "        \n",
    "        while len(stack)!=0:\n",
    "            if prev==None:\n",
    "                prev=stack[-1]\n",
    "                head=prev\n",
    "                stack.pop()\n",
    "            else:\n",
    "                prev.next=stack[-1]\n",
    "                prev=prev.next\n",
    "                stack.pop()\n",
    "            count-=1\n",
    "        prev.next=None\n",
    "    return head\n",
    "revlist=reverseK(revlist,3)            \n"
   ]
  },
  {
   "cell_type": "code",
   "execution_count": 88,
   "metadata": {},
   "outputs": [
    {
     "name": "stdout",
     "output_type": "stream",
     "text": [
      "1 2 5 4 3 6 7 8 "
     ]
    }
   ],
   "source": [
    "temp=revlist\n",
    "while temp:\n",
    "    print(temp.data,end=' ')\n",
    "    temp=temp.next"
   ]
  },
  {
   "cell_type": "markdown",
   "metadata": {},
   "source": [
    "# reverse linked list m to n "
   ]
  },
  {
   "cell_type": "code",
   "execution_count": 93,
   "metadata": {},
   "outputs": [
    {
     "name": "stdout",
     "output_type": "stream",
     "text": [
      "2 5\n",
      "1 2 3 4 5 6 7 8 "
     ]
    },
    {
     "data": {
      "text/plain": [
       "<__main__.Node at 0x7f1fb03fc198>"
      ]
     },
     "execution_count": 93,
     "metadata": {},
     "output_type": "execute_result"
    }
   ],
   "source": [
    "#approach use k as counter take join1 and join2 ptr join1 m-1 join2 m then reverse join2\n",
    "#join1.next=prev and join2.next=curr means  m ka next and m-1 ka next bdlega\n",
    "def reverseMtoN(head,m,n):\n",
    "    k=0\n",
    "    curr=head\n",
    "    prev=None\n",
    "    while k<m:\n",
    "        prev=curr\n",
    "        curr=curr.next\n",
    "        k+=1\n",
    "    join1=prev\n",
    "    join2=curr\n",
    "    print(join1.data,join2.data)\n",
    "    while k<=n:\n",
    "        next=curr.next\n",
    "        curr.next=prev\n",
    "        prev=curr\n",
    "        curr=next\n",
    "        k+=1\n",
    "    join1.next=prev\n",
    "    join2.next=curr\n",
    "    temp=head\n",
    "    while temp:\n",
    "        print(temp.data,end=' ')\n",
    "        temp=temp.next\n",
    "    return join1\n",
    "reverseMtoN(revlist,2,4)"
   ]
  },
  {
   "cell_type": "code",
   "execution_count": 112,
   "metadata": {},
   "outputs": [],
   "source": [
    "numList=createList([9,9,9])"
   ]
  },
  {
   "cell_type": "markdown",
   "metadata": {},
   "source": [
    "# Add 1 in linkedlist "
   ]
  },
  {
   "cell_type": "code",
   "execution_count": 113,
   "metadata": {},
   "outputs": [
    {
     "name": "stdout",
     "output_type": "stream",
     "text": [
      "1 0 0 0 "
     ]
    }
   ],
   "source": [
    "def addOne(head):\n",
    "    temp=head\n",
    "    #reverse linkedlist\n",
    "    prev=None\n",
    "    while temp:\n",
    "        next=temp.next\n",
    "        temp.next=prev\n",
    "        prev=temp\n",
    "        temp=next\n",
    "    head=prev\n",
    "    n=1\n",
    "    temp=head\n",
    "    carry=0\n",
    "    while temp:\n",
    "        sum1=temp.data+n+carry\n",
    "        temp.data=sum1%10\n",
    "        carry=sum1//10\n",
    "        n=0\n",
    "        prev=temp\n",
    "        temp=temp.next\n",
    "    if carry!=0:\n",
    "        newNode=Node(carry)\n",
    "        prev.next=newNode\n",
    "    temp=head\n",
    "    prev=None\n",
    "    while temp:\n",
    "        next=temp.next\n",
    "        temp.next=prev\n",
    "        prev=temp\n",
    "        temp=next\n",
    "    head=prev\n",
    "    temp=head\n",
    "    while temp:\n",
    "        print(temp.data,end=' ')\n",
    "        temp=temp.next\n",
    "addOne(numList.head)\n",
    "    "
   ]
  },
  {
   "cell_type": "markdown",
   "metadata": {},
   "source": [
    "# Add 2 linked list"
   ]
  },
  {
   "cell_type": "code",
   "execution_count": 117,
   "metadata": {},
   "outputs": [
    {
     "name": "stdout",
     "output_type": "stream",
     "text": [
      "1 0 0 2 "
     ]
    },
    {
     "data": {
      "text/plain": [
       "<__main__.Node at 0x7f1fb0439a20>"
      ]
     },
     "execution_count": 117,
     "metadata": {},
     "output_type": "execute_result"
    }
   ],
   "source": [
    "def add2List(head1,head2):\n",
    "    n1=0\n",
    "    temp=head1\n",
    "    prev=None\n",
    "    while temp:\n",
    "        next=temp.next\n",
    "        temp.next=prev\n",
    "        prev=temp\n",
    "        temp=next\n",
    "        n1+=1\n",
    "    head1=prev\n",
    "    n2=0\n",
    "    temp=head2\n",
    "    prev=None\n",
    "    while temp:\n",
    "        next=temp.next\n",
    "        temp.next=prev\n",
    "        prev=temp\n",
    "        temp=next\n",
    "        n2+=1\n",
    "    head2=prev\n",
    "    carry=0\n",
    "    prev=None\n",
    "    if n1>n2:\n",
    "        temp1=head1\n",
    "        temp2=head2\n",
    "    else:\n",
    "        temp1=head2\n",
    "        temp2=head1\n",
    "    temp=temp1\n",
    "    while temp1:\n",
    "        if temp2:\n",
    "            sum1=temp1.data+temp2.data+carry\n",
    "            temp2=temp2.next\n",
    "        else:\n",
    "            sum1=temp1.data+carry\n",
    "        carry=sum1//10\n",
    "        temp1.data=sum1%10\n",
    "        prev=temp1\n",
    "        temp1=temp1.next\n",
    "    \n",
    "    if carry!=0:\n",
    "        newNode=Node(carry)\n",
    "        prev.next=newNode\n",
    "    \n",
    "    #reverse the list\n",
    "    prev=None\n",
    "    while temp:\n",
    "        next=temp.next\n",
    "        temp.next=prev\n",
    "        prev=temp\n",
    "        temp=next\n",
    "    head=prev\n",
    "    temp=head\n",
    "    while temp:\n",
    "        print(temp.data,end=' ')\n",
    "        temp=temp.next\n",
    "    return head\n",
    "l1=createList([9,9,1])\n",
    "l2=createList([1,1])\n",
    "add2List(l1.head,l2.head)"
   ]
  },
  {
   "cell_type": "markdown",
   "metadata": {},
   "source": [
    "# Given ptr to a node to be deleted, don't know the head ptr\n",
    "https://www.geeksforgeeks.org/given-only-a-pointer-to-a-node-to-be-deleted-in-a-singly-linked-list-how-do-you-delete-it/"
   ]
  },
  {
   "cell_type": "code",
   "execution_count": 136,
   "metadata": {},
   "outputs": [],
   "source": [
    "#approach we just change the node data ie node.data=node.next.data in end node.next=None\n",
    "def deleteNodeWithouthead(node):\n",
    "    temp=node\n",
    "    if temp.next==None:\n",
    "        return\n",
    "    while temp.next:\n",
    "        temp.data=temp.next.data\n",
    "        prev=temp\n",
    "        temp=temp.next\n",
    "    prev.next=None\n",
    "\n",
    "l1=createList([1,2,3,4,5])\n",
    "deleteNodeWithouthead(l1.head.next)"
   ]
  },
  {
   "cell_type": "code",
   "execution_count": 137,
   "metadata": {},
   "outputs": [
    {
     "name": "stdout",
     "output_type": "stream",
     "text": [
      "1 3 4 5 "
     ]
    }
   ],
   "source": [
    "l1.display()"
   ]
  },
  {
   "cell_type": "markdown",
   "metadata": {},
   "source": [
    "# Nth node from end of LL\n",
    "https://www.geeksforgeeks.org/nth-node-from-the-end-of-a-linked-list/"
   ]
  },
  {
   "cell_type": "code",
   "execution_count": 146,
   "metadata": {},
   "outputs": [
    {
     "name": "stdout",
     "output_type": "stream",
     "text": [
      "2\n"
     ]
    }
   ],
   "source": [
    "def Nthnode(head,n):\n",
    "    ptr1=head\n",
    "    ptr2=head\n",
    "    k=0\n",
    "    if n==0:\n",
    "        return 'N cannot be 0'\n",
    "    if head==None:\n",
    "        return -1\n",
    "    while k<n and ptr1:\n",
    "        ptr1=ptr1.next\n",
    "        k+=1\n",
    "    if k!=n:\n",
    "        print('N is greater')\n",
    "        return\n",
    "    if ptr1==None:\n",
    "        print(ptr2.data)\n",
    "        return\n",
    "    while ptr1:\n",
    "        ptr1=ptr1.next\n",
    "        ptr2=ptr2.next\n",
    "    print(ptr2.data)\n",
    "l1=createList([1,2,3,4,5])\n",
    "Nthnode(l1.head,4)"
   ]
  },
  {
   "cell_type": "markdown",
   "metadata": {},
   "source": [
    "# Intersection of LL\n",
    "https://www.geeksforgeeks.org/write-a-function-to-get-the-intersection-point-of-two-linked-lists/"
   ]
  },
  {
   "cell_type": "code",
   "execution_count": 188,
   "metadata": {},
   "outputs": [
    {
     "name": "stdout",
     "output_type": "stream",
     "text": [
      "1 2 3 4 5 \n",
      "2 3 3 4 5 7 3 4 5 5\n",
      "intersectn pts: 3\n"
     ]
    }
   ],
   "source": [
    "def intersection(list1,list2):\n",
    "    n1=list1.size\n",
    "    n2=list2.size\n",
    "    l1.display()\n",
    "    print('')\n",
    "    l2.display()\n",
    "    d=abs(n1-n2)\n",
    "    if d ==0:\n",
    "        temp1=list1.head\n",
    "        temp2=list2.head\n",
    "        while temp1 and temp2:\n",
    "            if temp1==temp2:\n",
    "                print('intersectn pts:',temp1.data)\n",
    "                return\n",
    "            temp1=temp1.next\n",
    "            temp2=temp2.next\n",
    "        print('no intersection pts')\n",
    "        return\n",
    "    if n1>n2:\n",
    "        temp1=list1.head\n",
    "        temp2=list2.head\n",
    "    else:\n",
    "        temp1=list2.head\n",
    "        temp2=list1.head\n",
    "    k=0\n",
    "    while k<d and temp1.next:\n",
    "        temp1=temp1.next\n",
    "        k+=1\n",
    "    print(temp1.data)\n",
    "    while temp1 and temp2:\n",
    "        if temp1==temp2:\n",
    "            print('intersectn pts:',temp1.data)\n",
    "            return\n",
    "        temp1=temp1.next\n",
    "        temp2=temp2.next\n",
    "    print('no instruction pts')\n",
    "    return\n",
    "l1=createList([1,2,3,4,5])\n",
    "l2=createList([2,3,3,4,5,7])\n",
    "l2.tail.next=l1.head.next.next\n",
    "l2.size=9\n",
    "intersection(l1,l2)"
   ]
  },
  {
   "cell_type": "markdown",
   "metadata": {},
   "source": [
    "# Remove dup from unsorted LL\n",
    "https://www.geeksforgeeks.org/remove-duplicates-from-an-unsorted-linked-list/"
   ]
  },
  {
   "cell_type": "code",
   "execution_count": 193,
   "metadata": {},
   "outputs": [
    {
     "name": "stdout",
     "output_type": "stream",
     "text": [
      "1 2 3 5 4 "
     ]
    }
   ],
   "source": [
    "#2 nlogn+n with help of sorting\n",
    "# N time and N space with help of set\n",
    "def removeDup(head):\n",
    "    hashset=set()\n",
    "    temp=head\n",
    "    prev=None\n",
    "    while temp:\n",
    "        if temp.data not in hashset:\n",
    "            hashset.add(temp.data)\n",
    "            prev=temp\n",
    "            temp=temp.next\n",
    "        else:\n",
    "            prev.next=None\n",
    "            prev.next=temp.next\n",
    "            temp=temp.next\n",
    "    temp=head\n",
    "    while temp:\n",
    "        print(temp.data,end=' ')\n",
    "        temp=temp.next\n",
    "dup=createList([1,2,3,1,5,1,1,1,1,3,2,1,4])\n",
    "removeDup(dup.head)"
   ]
  },
  {
   "cell_type": "markdown",
   "metadata": {},
   "source": [
    "# Delete nodes which has greater value on right side \n",
    "https://www.geeksforgeeks.org/delete-nodes-which-have-a-greater-value-on-right-side/"
   ]
  },
  {
   "cell_type": "code",
   "execution_count": 207,
   "metadata": {},
   "outputs": [
    {
     "name": "stdout",
     "output_type": "stream",
     "text": [
      "15 11 6 3 "
     ]
    }
   ],
   "source": [
    "#approach reverse the ll then if next value is less than max then delete it\n",
    "def delRNodes(head):\n",
    "    temp=head\n",
    "    prev=None\n",
    "    while temp:\n",
    "        next=temp.next\n",
    "        temp.next=prev\n",
    "        prev=temp\n",
    "        temp=next\n",
    "    head=prev\n",
    "    temp=head\n",
    "    #main logic for this question\n",
    "    while temp:\n",
    "        if temp.next.data<temp.data:######\n",
    "            temp.next=temp.next.next\n",
    "        maxx=temp.data\n",
    "        temp=temp.next\n",
    "    \n",
    "    temp=head\n",
    "    prev=None\n",
    "    while temp:\n",
    "        next=temp.next\n",
    "        temp.next=prev\n",
    "        prev=temp\n",
    "        temp=next\n",
    "    head=prev\n",
    "    temp=head\n",
    "    while temp: #printing data\n",
    "        print(temp.data,end=' ')\n",
    "        temp=temp.next\n",
    "c1=createList([12,15,10,11,5,6,2,3])\n",
    "delRNodes(c1.head)"
   ]
  },
  {
   "cell_type": "code",
   "execution_count": 46,
   "metadata": {},
   "outputs": [],
   "source": [
    "class FNode:\n",
    "    def __init__(self,data):\n",
    "        self.data=data\n",
    "        self.next=None\n",
    "        self.down=None\n",
    "n1=FNode(2)\n",
    "n1.next=FNode(4)\n",
    "n1.down=FNode(8)\n",
    "n1.down.down=FNode(10)\n",
    "n1.next.down=FNode(6)\n",
    "n1.next.down.down=FNode(9)\n",
    "n1.next.next=FNode(20)\n",
    "n1.next.next.down=FNode(30)\n",
    "n1.next.next.down.down=FNode(40)"
   ]
  },
  {
   "cell_type": "markdown",
   "metadata": {},
   "source": [
    "# Flatten a Linked List\n",
    "https://www.geeksforgeeks.org/flattening-a-linked-list/"
   ]
  },
  {
   "cell_type": "code",
   "execution_count": 48,
   "metadata": {},
   "outputs": [],
   "source": [
    "#you are given sorted linked list which has two ptrs next and down flat in single list\n",
    "def mergeFlat(head1,head2):\n",
    "    result=None\n",
    "    if head1==None:\n",
    "        return head2\n",
    "    if head2==None:\n",
    "        return head1\n",
    "    if head1.data<head2.data:\n",
    "        result=head1\n",
    "        result.down=mergeFlat(head1.down,head2)\n",
    "    else:\n",
    "        result=head2\n",
    "        result.down=mergeFlat(head1,head2.down)\n",
    "    result.next=None\n",
    "    return result\n",
    "\n",
    "def flattenlist(head):\n",
    "    if head==None or head.next==None:\n",
    "        return head\n",
    "    return mergeFlat(head,flattenlist(head.next))\n",
    "flist=flattenlist(n1)"
   ]
  },
  {
   "cell_type": "code",
   "execution_count": 49,
   "metadata": {},
   "outputs": [
    {
     "name": "stdout",
     "output_type": "stream",
     "text": [
      "2 4 6 8 9 10 20 30 40 "
     ]
    }
   ],
   "source": [
    "temp=flist\n",
    "while temp:\n",
    "    print(temp.data,end=' ')\n",
    "    temp=temp.down"
   ]
  },
  {
   "cell_type": "markdown",
   "metadata": {},
   "source": [
    "# Select random Node from LL\n",
    "https://www.geeksforgeeks.org/select-a-random-node-from-a-singly-linked-list/"
   ]
  },
  {
   "cell_type": "code",
   "execution_count": 234,
   "metadata": {},
   "outputs": [
    {
     "name": "stdout",
     "output_type": "stream",
     "text": [
      "random node data: 5\n"
     ]
    }
   ],
   "source": [
    "import random\n",
    "def RandomNode(head):\n",
    "    if head==None:\n",
    "        return -1\n",
    "    if head and not head.next:\n",
    "        print('random node data:',head.data)\n",
    "        return\n",
    "    result=head.data\n",
    "    curr=head\n",
    "    while curr:\n",
    "        if random.randrange(2)==0:\n",
    "            result=curr.data\n",
    "        curr=curr.next\n",
    "    print('random node data:',result)\n",
    "RandomNode(l1.head)"
   ]
  },
  {
   "cell_type": "code",
   "execution_count": 36,
   "metadata": {},
   "outputs": [],
   "source": [
    "class LLNode:\n",
    "    def __init__(self,data):\n",
    "        self.data=data\n",
    "        self.next=None\n",
    "        self.random=None\n",
    "cllist=LLNode(1)\n",
    "cllist.next=LLNode(2)\n",
    "cllist.next.next=LLNode(3)\n",
    "cllist.next.next.next=LLNode(4)\n",
    "cllist.random=cllist.next.next\n",
    "cllist.next.random=cllist.next.next.next\n",
    "cllist.next.next.random=cllist.next"
   ]
  },
  {
   "cell_type": "code",
   "execution_count": 37,
   "metadata": {},
   "outputs": [
    {
     "name": "stdout",
     "output_type": "stream",
     "text": [
      "1 2 3 4 "
     ]
    }
   ],
   "source": [
    "temp=cllist\n",
    "while temp:\n",
    "    print(temp.data,end=' ')\n",
    "    temp=temp.next"
   ]
  },
  {
   "cell_type": "markdown",
   "metadata": {},
   "source": [
    "# Clone a linked list which has two ptr random and next"
   ]
  },
  {
   "cell_type": "code",
   "execution_count": 7,
   "metadata": {},
   "outputs": [],
   "source": [
    "#approach 1 add new node to the next of original node\n",
    "#set new node random ptr as prev node random ptr's next\n",
    "#then alter the new node\n",
    "\n",
    "#approach 2 (hashmap)\n",
    "#create hashmap and newnode set hashmap key as newNode element and value as refrence\n",
    "#traverse the ll and check the data of random ptr then search data on hashmap and assign it into new LL"
   ]
  },
  {
   "cell_type": "code",
   "execution_count": 13,
   "metadata": {},
   "outputs": [
    {
     "name": "stdout",
     "output_type": "stream",
     "text": [
      "{1: <__main__.LLNode object at 0x7fbe443064a8>, 2: <__main__.LLNode object at 0x7fbe44306630>, 3: <__main__.LLNode object at 0x7fbe443067f0>, 4: <__main__.LLNode object at 0x7fbe44306828>}\n",
      "1 3 2 4 "
     ]
    }
   ],
   "source": [
    "#approach Hashmap\n",
    "def cloneListHashmap(head):\n",
    "    hashmap={}\n",
    "    curr=head\n",
    "    copyhead=LLNode(0)\n",
    "    copylist=copyhead\n",
    "    while curr:\n",
    "        newNode=LLNode(curr.data)\n",
    "        copylist.next=newNode\n",
    "        hashmap[curr.data]=newNode\n",
    "        copylist=copylist.next\n",
    "        curr=curr.next\n",
    "    print(hashmap)\n",
    "    copyhead=copyhead.next\n",
    "    curr=head\n",
    "    curr2=copyhead\n",
    "    while curr:\n",
    "        if curr.random:\n",
    "            curr2.random=hashmap[curr.random.data]\n",
    "        curr=curr.next\n",
    "        curr2=curr2.next\n",
    "    temp=copyhead\n",
    "    while temp:\n",
    "        print(temp.data,end=' ')\n",
    "        temp=temp.random\n",
    "cloneListHashmap(cllist)"
   ]
  },
  {
   "cell_type": "code",
   "execution_count": 38,
   "metadata": {},
   "outputs": [
    {
     "name": "stdout",
     "output_type": "stream",
     "text": [
      "1\n",
      "2\n",
      "3\n",
      "4\n",
      "1 2 3 4 1 3 2 4 "
     ]
    }
   ],
   "source": [
    "#approach add new node to next of original node\n",
    "def cloneList(head):\n",
    "    temp=head\n",
    "    while temp:\n",
    "        newNode=LLNode(temp.data)\n",
    "        next=temp.next\n",
    "        temp.next=newNode\n",
    "        newNode.next=next\n",
    "        temp=next\n",
    "    temp=head\n",
    "    while temp!=None:\n",
    "        if temp and temp.random!=None and temp.next.random==None:\n",
    "            temp.next.random=temp.random.next\n",
    "        temp=temp.next.next\n",
    "    head=head.next\n",
    "    temp=head\n",
    "    while temp.next:\n",
    "        temp.next=temp.next.next\n",
    "        temp=temp.next\n",
    "    temp=head\n",
    "    while temp:\n",
    "        print(temp.data,end=' ')\n",
    "        temp=temp.next\n",
    "    temp=head\n",
    "    while temp:\n",
    "        print(temp.data,end=' ')\n",
    "        temp=temp.random\n",
    "cloneList(cllist)"
   ]
  },
  {
   "cell_type": "markdown",
   "metadata": {},
   "source": [
    "# Reverse Linked Lists pointer Recursive "
   ]
  },
  {
   "cell_type": "code",
   "execution_count": 62,
   "metadata": {},
   "outputs": [],
   "source": [
    "#call head.next if head.next==None return then apne next ka next khud p dlwalo\n",
    "#head.next.next=head\n",
    "def rec_reverse_helper(head):\n",
    "    if head.next==None:\n",
    "        return\n",
    "    rec_reverse_helper(head.next)\n",
    "    head.next.next=head\n",
    "        \n",
    "def revRecursive(llist):\n",
    "    rec_reverse_helper(llist.head)\n",
    "    llist.head.next=None\n",
    "    temp=llist.head\n",
    "    llist.head=llist.tail\n",
    "    llist.tail=temp\n",
    "revRecursive(list1)"
   ]
  },
  {
   "cell_type": "markdown",
   "metadata": {},
   "source": [
    "# Reverse LL data Recursive"
   ]
  },
  {
   "cell_type": "code",
   "execution_count": 82,
   "metadata": {},
   "outputs": [
    {
     "name": "stdout",
     "output_type": "stream",
     "text": [
      "aya 6 5\n",
      "aya 2 1\n",
      "aya 3 8\n",
      "aya 4 7\n"
     ]
    }
   ],
   "source": [
    "def revDataRec(right,currsize):\n",
    "    global left,totalsize\n",
    "    if right==None:\n",
    "        return\n",
    "    revDataRec(right.next,currsize+1)\n",
    "    if currsize>totalsize/2:\n",
    "        print('aya',left.data,right.data)\n",
    "        temp=left.data\n",
    "        left.data=right.data\n",
    "        right.data=temp\n",
    "        left=left.next\n",
    "left=list1.head\n",
    "totalsize=list1.size\n",
    "revDataRec(list1.head,1)"
   ]
  },
  {
   "cell_type": "markdown",
   "metadata": {},
   "source": [
    "# Palindrome Linked List"
   ]
  },
  {
   "cell_type": "raw",
   "metadata": {},
   "source": [
    "Approaches->\n",
    "1)navie approach store in str then reverse if match then true.\n",
    "2)split LL from middle then reverse the second the traverse again if list1 ==list2 then true\n",
    "3)Efficient-> use recursion params are head and currsize and add var which are outside the funct left and totalsize if currsize>totalsize//2 then check left and right if match then true "
   ]
  },
  {
   "cell_type": "code",
   "execution_count": 104,
   "metadata": {},
   "outputs": [
    {
     "data": {
      "text/plain": [
       "True"
      ]
     },
     "execution_count": 104,
     "metadata": {},
     "output_type": "execute_result"
    }
   ],
   "source": [
    "#recursive approach\n",
    "def palindromeLL(right,currsize):\n",
    "    global left,size\n",
    "    if right==None:\n",
    "        return True\n",
    "    res=palindromeLL(right.next,currsize+1)\n",
    "    if res==False:\n",
    "        return False\n",
    "    else:\n",
    "        if currsize>(size//2)-1:\n",
    "            if left.data!=right.data:\n",
    "                return False\n",
    "            left=left.next\n",
    "        return True\n",
    "        \n",
    "plist=createList([1,2,3,4,3,2,1])\n",
    "left=plist.head\n",
    "size=plist.size\n",
    "palindromeLL(plist.head,0)"
   ]
  },
  {
   "cell_type": "markdown",
   "metadata": {},
   "source": [
    "# Segregate Even and odd Nodes\n",
    "https://www.geeksforgeeks.org/segregate-even-and-odd-elements-in-a-linked-list/"
   ]
  },
  {
   "cell_type": "raw",
   "metadata": {},
   "source": [
    "Two approaches one is operation of existing list\n",
    "and another is 4 ptr approach\n",
    "- in existing first we find the last node then append odd values at end\n",
    "- in 4 ptr we make even start, even end, odd start, odd end then we append element on these lists. after append odd at end of even list"
   ]
  },
  {
   "cell_type": "code",
   "execution_count": 105,
   "metadata": {},
   "outputs": [
    {
     "name": "stdout",
     "output_type": "stream",
     "text": [
      "8 4 2 6 5 1 7 3 "
     ]
    }
   ],
   "source": [
    "#approach 4 ptrs\n",
    "def EvenOddSegerate(head):\n",
    "    evenHead=None\n",
    "    evenEnd=None\n",
    "    oddHead=None\n",
    "    oddEnd=None\n",
    "    temp=head\n",
    "    while temp:\n",
    "        val=temp.data\n",
    "        if val%2==0:\n",
    "            if evenHead==None:\n",
    "                evenHead=temp\n",
    "                evenEnd=evenHead\n",
    "            else:\n",
    "                evenEnd.next=temp\n",
    "                evenEnd=evenEnd.next\n",
    "        else:\n",
    "            if oddHead==None:\n",
    "                oddHead=temp\n",
    "                oddEnd=oddHead\n",
    "            else:\n",
    "                oddEnd.next=temp\n",
    "                oddEnd=oddEnd.next\n",
    "        temp=temp.next\n",
    "    if evenHead==None or oddHead==None:\n",
    "        return \n",
    "    evenEnd.next=oddHead\n",
    "    oddEnd.next=None\n",
    "    head=evenHead\n",
    "    temp=head\n",
    "    while temp:\n",
    "        print(temp.data,end=' ')\n",
    "        temp=temp.next\n",
    "EvenOddSegerate(list1.head)"
   ]
  },
  {
   "cell_type": "code",
   "execution_count": 106,
   "metadata": {},
   "outputs": [],
   "source": [
    "#approach 1 existing list\n",
    "def evenOddSeg(head):\n",
    "    temp=head\n",
    "    end=None\n",
    "    while temp.next:\n",
    "        temp=temp.next\n",
    "    end=temp\n",
    "    currend=temp\n",
    "    temp=head\n",
    "    while temp.data%2!=0 and temp!=end:\n",
    "        currend.next=temp\n",
    "        temp=temp.next\n",
    "        currend.next.next=None\n",
    "        currend=currend.next\n",
    "    if temp.data%2==0:\n",
    "        head=temp\n",
    "        pass\n",
    "        "
   ]
  },
  {
   "cell_type": "markdown",
   "metadata": {},
   "source": [
    "# Sort 0 1 2\n",
    "https://www.geeksforgeeks.org/sort-a-linked-list-of-0s-1s-or-2s/"
   ]
  },
  {
   "cell_type": "code",
   "execution_count": 108,
   "metadata": {},
   "outputs": [
    {
     "name": "stdout",
     "output_type": "stream",
     "text": [
      "0 0 0 1 1 1 2 2 "
     ]
    }
   ],
   "source": [
    "def sortOnetwo(head):\n",
    "    count=[0,0,0]\n",
    "    temp=head\n",
    "    while temp:\n",
    "        count[temp.data]+=1\n",
    "        temp=temp.next\n",
    "    i=0\n",
    "    temp=head\n",
    "    while temp:\n",
    "        if count[i]==0:\n",
    "            i+=1\n",
    "        else:\n",
    "            temp.data=i\n",
    "            count[i]-=1\n",
    "            temp=temp.next\n",
    "    temp=head\n",
    "    while temp:\n",
    "        print(temp.data,end=' ')\n",
    "        temp=temp.next\n",
    "slist=createList([0,2,1,1,1,2,0,0])\n",
    "sortOnetwo(slist.head)"
   ]
  },
  {
   "cell_type": "markdown",
   "metadata": {},
   "source": [
    "# Rearrange a  LL inplace\n",
    "https://www.geeksforgeeks.org/rearrange-a-given-linked-list-in-place/"
   ]
  },
  {
   "cell_type": "markdown",
   "metadata": {},
   "source": [
    "Same Approach as Fold a LL "
   ]
  },
  {
   "cell_type": "markdown",
   "metadata": {},
   "source": [
    "# Sort Linked list which is already sorted as absolute value\n",
    "https://www.geeksforgeeks.org/sort-linked-list-already-sorted-absolute-values/"
   ]
  },
  {
   "cell_type": "code",
   "execution_count": 113,
   "metadata": {},
   "outputs": [
    {
     "name": "stdout",
     "output_type": "stream",
     "text": [
      "-5 -3 1 2 4 "
     ]
    }
   ],
   "source": [
    "def SortAbsLL(head):\n",
    "    prev=head\n",
    "    curr=head.next\n",
    "    while curr:\n",
    "        if prev.data>curr.data:\n",
    "            prev.next=curr.next\n",
    "            curr.next=head\n",
    "            head=curr\n",
    "            curr=prev\n",
    "        else:\n",
    "            prev=curr\n",
    "        curr=curr.next\n",
    "    temp=head\n",
    "    while temp:\n",
    "        print(temp.data,end=' ')\n",
    "        temp=temp.next\n",
    "    return head\n",
    "c1=createList([1,2,-3,4,-5])\n",
    "c1=SortAbsLL(c1.head)"
   ]
  },
  {
   "cell_type": "markdown",
   "metadata": {},
   "source": [
    "# Merge Two Sorted List "
   ]
  },
  {
   "cell_type": "code",
   "execution_count": 11,
   "metadata": {},
   "outputs": [
    {
     "name": "stdout",
     "output_type": "stream",
     "text": [
      "1 2 3 4 5 "
     ]
    }
   ],
   "source": [
    "def mergeTwoList(head1,head2):\n",
    "    if head1==None:\n",
    "        return head2\n",
    "    if head2==None:\n",
    "        return head1\n",
    "    newS=None\n",
    "    newE=None\n",
    "    temp1=head1\n",
    "    temp2=head2\n",
    "    while temp1 and temp2:\n",
    "        if temp1.data<temp2.data:\n",
    "            if newS==None:\n",
    "                newS=temp1\n",
    "                newE=newS\n",
    "            else:\n",
    "                newE.next=temp1\n",
    "                newE=newE.next\n",
    "            temp1=temp1.next\n",
    "        else:\n",
    "            if newS==None:\n",
    "                newS=temp2\n",
    "                newE=newS\n",
    "            else:\n",
    "                newE.next=temp2\n",
    "                newE=newE.next\n",
    "            temp2=temp2.next\n",
    "    \n",
    "    while temp1!=None:\n",
    "        newE.next=temp1\n",
    "        newE=newE.next\n",
    "        temp1=temp1.next\n",
    "    while temp2:\n",
    "        newE.next=temp2\n",
    "        newE=newE.next\n",
    "        temp2=temp2.next\n",
    "    temp=newS\n",
    "    while temp:\n",
    "        print(temp.data,end=' ')\n",
    "        temp=temp.next\n",
    "    return newS\n",
    "l11=createList([4,5])\n",
    "l22=createList([1,2,3])\n",
    "mergelist=mergeTwoList(l11.head,l22.head)"
   ]
  },
  {
   "cell_type": "code",
   "execution_count": 12,
   "metadata": {},
   "outputs": [
    {
     "name": "stdout",
     "output_type": "stream",
     "text": [
      "1 2 3 4 5 "
     ]
    }
   ],
   "source": [
    "temp=mergelist\n",
    "while temp:\n",
    "    print(temp.data,end=' ')\n",
    "    temp=temp.next"
   ]
  },
  {
   "cell_type": "code",
   "execution_count": 39,
   "metadata": {},
   "outputs": [],
   "source": [
    "#merge list recursion\n",
    "def merge(head1,head2):\n",
    "    result=None\n",
    "    if head1==None:\n",
    "        return head2\n",
    "    if head2==None:\n",
    "        return head1\n",
    "    if head1.data<head2.data:\n",
    "        result=head1\n",
    "        result.next=merge(head1.next,head2)\n",
    "    else:\n",
    "        result=head2\n",
    "        result.next=merge(head1,head2.next)\n",
    "    return result\n",
    "c1=createList([1,4,5])\n",
    "c2=createList([2,3])\n",
    "ls=merge(c1.head,c2.head)"
   ]
  },
  {
   "cell_type": "code",
   "execution_count": 40,
   "metadata": {},
   "outputs": [
    {
     "name": "stdout",
     "output_type": "stream",
     "text": [
      "12345"
     ]
    }
   ],
   "source": [
    "temp=ls\n",
    "while temp:\n",
    "    print(temp.data,end='')\n",
    "    temp=temp.next"
   ]
  },
  {
   "cell_type": "code",
   "execution_count": 33,
   "metadata": {},
   "outputs": [],
   "source": [
    "#middle of list\n",
    "def middle(head):\n",
    "    slow=head\n",
    "    fast=head.next\n",
    "    while fast and fast.next:\n",
    "        slow=slow.next\n",
    "        fast=fast.next.next\n",
    "    return slow"
   ]
  },
  {
   "cell_type": "code",
   "execution_count": 34,
   "metadata": {},
   "outputs": [
    {
     "data": {
      "text/plain": [
       "4"
      ]
     },
     "execution_count": 34,
     "metadata": {},
     "output_type": "execute_result"
    }
   ],
   "source": [
    "c1=createList([4])\n",
    "middle(c1.head).data"
   ]
  },
  {
   "cell_type": "markdown",
   "metadata": {},
   "source": [
    "# Merge Sort\n",
    "https://www.geeksforgeeks.org/merge-sort-for-linked-list/"
   ]
  },
  {
   "cell_type": "code",
   "execution_count": 41,
   "metadata": {},
   "outputs": [],
   "source": [
    "def MergeSort(head):\n",
    "    if head==None or head.next==None:\n",
    "        return head\n",
    "    \n",
    "    mid=middle(head)\n",
    "    nexttomid=mid.next\n",
    "    mid.next=None\n",
    "\n",
    "    first=MergeSort(head)\n",
    "    second=MergeSort(nexttomid)\n",
    "    sortedlist=merge(first,second)\n",
    "    return sortedlist\n",
    "l1=createList([4,1,2,5])\n",
    "sl1=MergeSort(l1.head)"
   ]
  },
  {
   "cell_type": "markdown",
   "metadata": {},
   "source": [
    "# Two ptr Linked List -> Random pts to higher  value \n",
    "https://www.geeksforgeeks.org/point-to-next-higher-value-node-in-a-linked-list-with-an-arbitrary-pointer/"
   ]
  },
  {
   "cell_type": "code",
   "execution_count": 72,
   "metadata": {},
   "outputs": [],
   "source": [
    "class Rnode:\n",
    "    def __init__(self,data):\n",
    "        self.data=data\n",
    "        self.next=None\n",
    "        self.random=None\n",
    "Rlist=Rnode(2)\n",
    "Rlist.next=Rnode(44)\n",
    "Rlist.next.next=Rnode(6)\n",
    "Rlist.next.next.next=Rnode(118)\n",
    "Rlist.next.next.next.next=Rnode(12)"
   ]
  },
  {
   "cell_type": "code",
   "execution_count": 73,
   "metadata": {},
   "outputs": [],
   "source": [
    "def middleR(head):\n",
    "    slow=head\n",
    "    fast=head.random\n",
    "    while fast and fast.random:\n",
    "        slow=slow.random\n",
    "        fast=fast.random.random\n",
    "    return slow\n",
    "def mergeR(a,b):\n",
    "    if a==None:\n",
    "        return b\n",
    "    if b==None:\n",
    "        return a\n",
    "    res=None\n",
    "    if a.data<b.data:\n",
    "        res=a\n",
    "        res.random=mergeR(a.random,b)\n",
    "    else:\n",
    "        res=b\n",
    "        res.random=mergeR(a,b.random)\n",
    "    return res\n",
    "def mergeSortR(head):\n",
    "    if head==None or head.random==None:\n",
    "        return head\n",
    "    mid=middleR(head)\n",
    "    nexttomid=mid.random\n",
    "    mid.random=None\n",
    "    \n",
    "    first=mergeSortR(head)\n",
    "    second=mergeSortR(nexttomid)\n",
    "    sortlist=mergeR(first,second)\n",
    "    return sortlist\n",
    "    \n",
    "def randomPtrHigh(head):\n",
    "    #copy next ptr to random ptr then apply mergesort to random\n",
    "    temp=head\n",
    "    while temp:\n",
    "        temp.random=temp.next\n",
    "        temp=temp.next\n",
    "        \n",
    "    head=mergeSortR(head)\n",
    "    #head=MergeSort(head)\n",
    "    return head\n",
    "testlist=randomPtrHigh(Rlist)    "
   ]
  },
  {
   "cell_type": "code",
   "execution_count": 76,
   "metadata": {},
   "outputs": [
    {
     "name": "stdout",
     "output_type": "stream",
     "text": [
      "2 6 12 44 118 "
     ]
    }
   ],
   "source": [
    "temp=testlist\n",
    "while temp:\n",
    "    print(temp.data,end=' ')\n",
    "    temp=temp.random"
   ]
  },
  {
   "cell_type": "markdown",
   "metadata": {},
   "source": [
    "# Flatten a MultiLevel Linked List"
   ]
  },
  {
   "cell_type": "code",
   "execution_count": 100,
   "metadata": {},
   "outputs": [],
   "source": [
    "class Mlnode:\n",
    "    def __init__(self,data):\n",
    "        self.data=data\n",
    "        self.next=None\n",
    "        self.down=None\n",
    "a1=Mlnode(1)\n",
    "a1.next=Mlnode(2)\n",
    "a1.next.down=Mlnode(7)\n",
    "a1.next.down.down=Mlnode(9)\n",
    "a1.next.down.down.down=Mlnode(14)\n",
    "a1.next.down.down.down.next=Mlnode(23)\n",
    "a1.next.down.down.down.next.down=Mlnode(24)\n",
    "a1.next.down.next=Mlnode(8)\n",
    "a1.next.down.next.down=Mlnode(16)\n",
    "a1.next.down.next.next=Mlnode(10)\n",
    "a1.next.next=Mlnode(3)\n",
    "a1.next.next.next=Mlnode(4)"
   ]
  },
  {
   "cell_type": "raw",
   "metadata": {},
   "source": [
    "The idea is to use Recursion. We can recursively flatten a linked list by recursively flattening the down list first, followed by the next list. The flattened down list for a node is linked to the next pointer of that node, while the flattened next list for a node is linked to the next pointer of the last seen node."
   ]
  },
  {
   "cell_type": "code",
   "execution_count": 101,
   "metadata": {},
   "outputs": [
    {
     "name": "stdout",
     "output_type": "stream",
     "text": [
      "23 9 14 23 7 9 14 23 8 2 7 9 14 23 24 8 16 "
     ]
    }
   ],
   "source": [
    "def multilevelFlatten(head):\n",
    "    if head==None:\n",
    "        return None\n",
    "    next=head.next\n",
    "    head.next=multilevelFlatten(head.down)\n",
    "    #go to last node\n",
    "    tail=head\n",
    "    while tail.next:\n",
    "        print(tail.data,end=' ')\n",
    "        tail=tail.next\n",
    "    tail.next=multilevelFlatten(next)\n",
    "    return head\n",
    "fflist=multilevelFlatten(a1)"
   ]
  },
  {
   "cell_type": "code",
   "execution_count": null,
   "metadata": {},
   "outputs": [],
   "source": [
    "        "
   ]
  },
  {
   "cell_type": "code",
   "execution_count": 102,
   "metadata": {},
   "outputs": [
    {
     "name": "stdout",
     "output_type": "stream",
     "text": [
      "1 2 7 9 14 23 24 8 16 10 3 4 "
     ]
    }
   ],
   "source": [
    "temp=fflist\n",
    "while temp:\n",
    "    print(temp.data,end=' ')\n",
    "    temp=temp.next"
   ]
  },
  {
   "cell_type": "code",
   "execution_count": null,
   "metadata": {},
   "outputs": [],
   "source": []
  }
 ],
 "metadata": {
  "kernelspec": {
   "display_name": "Python 3",
   "language": "python",
   "name": "python3"
  },
  "language_info": {
   "codemirror_mode": {
    "name": "ipython",
    "version": 3
   },
   "file_extension": ".py",
   "mimetype": "text/x-python",
   "name": "python",
   "nbconvert_exporter": "python",
   "pygments_lexer": "ipython3",
   "version": "3.8.5"
  }
 },
 "nbformat": 4,
 "nbformat_minor": 2
}
