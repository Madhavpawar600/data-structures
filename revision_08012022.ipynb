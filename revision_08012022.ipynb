{
 "cells": [
  {
   "cell_type": "markdown",
   "metadata": {},
   "source": [
    "# Sort 01"
   ]
  },
  {
   "cell_type": "code",
   "execution_count": 4,
   "metadata": {},
   "outputs": [
    {
     "data": {
      "text/plain": [
       "[0, 0, 0, 0, 0, 1, 1]"
      ]
     },
     "execution_count": 4,
     "metadata": {},
     "output_type": "execute_result"
    }
   ],
   "source": [
    "def solution(arr):\n",
    "    zcount = 0\n",
    "    for x in arr:\n",
    "        if x == 0:\n",
    "            zcount += 1\n",
    "    \n",
    "    for i in range(0, len(arr)):\n",
    "        if zcount > 0:\n",
    "            arr[i] = 0\n",
    "            zcount -= 1\n",
    "        else:\n",
    "            arr[i] = 1\n",
    "    return arr\n",
    "solution([1,0,0,0,1,0,0])"
   ]
  },
  {
   "cell_type": "code",
   "execution_count": 5,
   "metadata": {},
   "outputs": [
    {
     "data": {
      "text/plain": [
       "[0, 0, 0, 0, 0, 1, 1]"
      ]
     },
     "execution_count": 5,
     "metadata": {},
     "output_type": "execute_result"
    }
   ],
   "source": [
    "def solution2(arr):\n",
    "    ptr1 = 0\n",
    "    ptr2 = 0 \n",
    "    \n",
    "    while ptr1 < len(arr):\n",
    "        if arr[ptr1] > 0:\n",
    "            ptr1 += 1\n",
    "        else:\n",
    "            arr[ptr1], arr[ptr2] = arr[ptr2], arr[ptr1]\n",
    "            ptr1 += 1\n",
    "            ptr2 += 1\n",
    "    return arr\n",
    "solution2([1,0,0,0,1,0,0])"
   ]
  },
  {
   "cell_type": "markdown",
   "metadata": {},
   "source": [
    "# Sort 0, 1, 2"
   ]
  },
  {
   "cell_type": "code",
   "execution_count": 6,
   "metadata": {},
   "outputs": [
    {
     "data": {
      "text/plain": [
       "[0, 0, 0, 1, 1, 1, 2, 2, 2]"
      ]
     },
     "execution_count": 6,
     "metadata": {},
     "output_type": "execute_result"
    }
   ],
   "source": [
    "def solution(arr):\n",
    "    \n",
    "    ptr1 = 0\n",
    "    ptr2 = 0\n",
    "    ptr3 = len(arr) - 1\n",
    "    \n",
    "    while ptr1 < ptr3:\n",
    "        if arr[ptr1] == 2:\n",
    "            arr[ptr1], arr[ptr3] = arr[ptr3], arr[ptr1]\n",
    "            ptr3 -= 1\n",
    "        elif arr[ptr1] == 0:\n",
    "            arr[ptr1], arr[ptr2] = arr[ptr2], arr[ptr1]\n",
    "            ptr2 += 1\n",
    "            ptr1 += 1\n",
    "        else:\n",
    "            ptr1 += 1\n",
    "    return arr\n",
    "solution([0,1,2,2,0,2,1,1,0])"
   ]
  },
  {
   "cell_type": "markdown",
   "metadata": {},
   "source": [
    "# Merge K sorted list in an arr"
   ]
  },
  {
   "cell_type": "code",
   "execution_count": 18,
   "metadata": {},
   "outputs": [
    {
     "name": "stdout",
     "output_type": "stream",
     "text": [
      "[(1, 0, 1)]\n",
      "[(1, 0, 1), (1, 1, 1)]\n",
      "[(1, 0, 1), (1, 1, 1), (5, 2, 1)]\n"
     ]
    },
    {
     "data": {
      "text/plain": [
       "[1, 1, 2, 3, 4, 5, 7, 8, 9, 9, 10, 10]"
      ]
     },
     "execution_count": 18,
     "metadata": {},
     "output_type": "execute_result"
    }
   ],
   "source": [
    "import heapq\n",
    "arr1=[1,9,10]\n",
    "arr2=[1,2,3,4]\n",
    "arr3=[5,7,8,9,10]\n",
    "arrlist=[arr1,arr2,arr3]\n",
    "def mergeKsort(arrlist):\n",
    "    ls=[]\n",
    "    result=[]\n",
    "    for i,l in enumerate(arrlist):\n",
    "        heapq.heappush(ls,(l[0],i,1))\n",
    "        print(ls)\n",
    "        \n",
    "    while len(ls)!=0:\n",
    "        val,lno,idx=heapq.heappop(ls)\n",
    "        result.append(val)\n",
    "        if idx<len(arrlist[lno]):\n",
    "            heapq.heappush(ls,(arrlist[lno][idx],lno,idx+1))\n",
    "        \n",
    "    return result\n",
    "mergeKsort(arrlist)"
   ]
  },
  {
   "cell_type": "code",
   "execution_count": null,
   "metadata": {},
   "outputs": [],
   "source": []
  },
  {
   "cell_type": "code",
   "execution_count": null,
   "metadata": {},
   "outputs": [],
   "source": []
  },
  {
   "cell_type": "markdown",
   "metadata": {},
   "source": [
    "# Longest substring without repeating chars "
   ]
  },
  {
   "cell_type": "code",
   "execution_count": 27,
   "metadata": {},
   "outputs": [
    {
     "data": {
      "text/plain": [
       "3"
      ]
     },
     "execution_count": 27,
     "metadata": {},
     "output_type": "execute_result"
    }
   ],
   "source": [
    "def solution(string):\n",
    "    ans = 0\n",
    "    hashmap = dict()\n",
    "    j = -1\n",
    "    for i in range(0, len(string)):\n",
    "        ch = string[i]\n",
    "        if ch not in hashmap:\n",
    "            hashmap[ch] = 0\n",
    "        hashmap[ch] += 1\n",
    "        \n",
    "        if hashmap[ch] > 1:\n",
    "            while j < i:\n",
    "                j += 1\n",
    "                ch = string[j]\n",
    "                hashmap[ch] -= 1\n",
    "                if hashmap[ch] == 1:\n",
    "                    break\n",
    "        else:\n",
    "            length = i - j\n",
    "            ans = max(length, ans)\n",
    "    return ans\n",
    "solution(\"bbabcbb\")"
   ]
  },
  {
   "cell_type": "markdown",
   "metadata": {},
   "source": [
    "# Largest subarray with sum 0 "
   ]
  },
  {
   "cell_type": "code",
   "execution_count": 33,
   "metadata": {},
   "outputs": [
    {
     "name": "stdout",
     "output_type": "stream",
     "text": [
      "3 0 2 3\n",
      "5 -1 0 6\n",
      "7 2 7 5\n",
      "9 1 10 8\n",
      "10 2 7 8\n",
      "{0: -1, 2: 0, 10: 1, 7: 2, 4: 4, 6: 6, 9: 8, 11: 11}\n"
     ]
    },
    {
     "data": {
      "text/plain": [
       "8"
      ]
     },
     "execution_count": 33,
     "metadata": {},
     "output_type": "execute_result"
    }
   ],
   "source": [
    "def solution(arr):\n",
    "    hashmap = {0 : -1}\n",
    "    cumsum = 0\n",
    "    ans = 0\n",
    "    for i in range(0, len(arr)):\n",
    "        cumsum += arr[i]\n",
    "        if cumsum not in hashmap:\n",
    "            hashmap[cumsum] = i\n",
    "        else:\n",
    "            length = i - hashmap[cumsum]\n",
    "            print(i, hashmap[cumsum], cumsum, length)\n",
    "            ans = max(ans, length)\n",
    "    print(hashmap)\n",
    "    return ans\n",
    "solution([2,8, -3 ,-5, 2,-4, 6, 1, 2, 1, -3 ,4])"
   ]
  },
  {
   "cell_type": "code",
   "execution_count": 51,
   "metadata": {},
   "outputs": [],
   "source": [
    "def reverselist(s):\n",
    "    reverselist.lidx = 0\n",
    "    print(\"before\", s)\n",
    "    reverse(s, 0)\n",
    "    print(\"after\", s)\n",
    "    \n",
    "def reverse(s, ridx):\n",
    "    if ridx > len(s) - 1:\n",
    "        return\n",
    "    reverse(s, ridx + 1)\n",
    "    if reverselist.lidx < ridx:\n",
    "        s[reverselist.lidx], s[ridx] = s[ridx], s[reverselist.lidx]\n",
    "    reverselist.lidx += 1\n"
   ]
  },
  {
   "cell_type": "code",
   "execution_count": 52,
   "metadata": {},
   "outputs": [
    {
     "name": "stdout",
     "output_type": "stream",
     "text": [
      "before ['h', 'e', 'l', 'l', 'o']\n",
      "after ['o', 'l', 'l', 'e', 'h']\n"
     ]
    }
   ],
   "source": [
    "reverselist([\"h\", \"e\", \"l\", \"l\", \"o\"])"
   ]
  },
  {
   "cell_type": "code",
   "execution_count": null,
   "metadata": {},
   "outputs": [],
   "source": []
  },
  {
   "cell_type": "code",
   "execution_count": null,
   "metadata": {},
   "outputs": [],
   "source": []
  }
 ],
 "metadata": {
  "kernelspec": {
   "display_name": "Python 3",
   "language": "python",
   "name": "python3"
  },
  "language_info": {
   "codemirror_mode": {
    "name": "ipython",
    "version": 3
   },
   "file_extension": ".py",
   "mimetype": "text/x-python",
   "name": "python",
   "nbconvert_exporter": "python",
   "pygments_lexer": "ipython3",
   "version": "3.8.10"
  }
 },
 "nbformat": 4,
 "nbformat_minor": 4
}
