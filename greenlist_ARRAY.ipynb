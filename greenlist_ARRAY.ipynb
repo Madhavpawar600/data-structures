{
 "cells": [
  {
   "cell_type": "markdown",
   "metadata": {},
   "source": [
    "# KConcatenation codechef"
   ]
  },
  {
   "cell_type": "code",
   "execution_count": 41,
   "metadata": {},
   "outputs": [],
   "source": [
    "def kcon(arr,b):\n",
    "    arr=arr*b\n",
    "    print(arr)\n",
    "    # max contigeous subarr\n",
    "    g_max=arr[0]\n",
    "    currmax=arr[0]    \n",
    "    for i in range(1,len(arr)):\n",
    "        currmax=max(arr[i],currmax+arr[i])\n",
    "        g_max=max(g_max,currmax)\n",
    "    return g_max"
   ]
  },
  {
   "cell_type": "code",
   "execution_count": 44,
   "metadata": {},
   "outputs": [
    {
     "name": "stdout",
     "output_type": "stream",
     "text": [
      "[1, -2, 1, 1, -2, 1]\n"
     ]
    },
    {
     "data": {
      "text/plain": [
       "2"
      ]
     },
     "execution_count": 44,
     "metadata": {},
     "output_type": "execute_result"
    }
   ],
   "source": [
    "kcon([1,-2,1],2)"
   ]
  },
  {
   "cell_type": "markdown",
   "metadata": {},
   "source": [
    "### Given an unsorted array of nonnegative integers, find a continuous subarray which adds to a given number."
   ]
  },
  {
   "cell_type": "code",
   "execution_count": 51,
   "metadata": {},
   "outputs": [
    {
     "name": "stdout",
     "output_type": "stream",
     "text": [
      "sum found between 2 4\n",
      "sum found between 1 4\n",
      "not found\n",
      "sum found between 0 0\n",
      "sum found between 6 6\n",
      "sum found between 5 6\n"
     ]
    }
   ],
   "source": [
    "def unsorted_sum(arr,k):\n",
    "    start=0\n",
    "    end=0\n",
    "    currsum=arr[0]\n",
    "    while start<len(arr):\n",
    "        if currsum==k:\n",
    "            print('sum found between',start,end)\n",
    "            return\n",
    "        elif currsum<k:\n",
    "            end+=1\n",
    "            if end!=len(arr):\n",
    "                currsum+=arr[end]\n",
    "            else:\n",
    "                print('not found')\n",
    "                return\n",
    "            \n",
    "        elif currsum>k:\n",
    "            currsum-=arr[start]\n",
    "            start+=1\n",
    "        \n",
    "    print('not found')\n",
    "    return\n",
    "unsorted_sum([1, 4, 20, 3, 10, 5],33)\n",
    "unsorted_sum([1, 4, 0, 0, 3, 10, 5],7)\n",
    "unsorted_sum([1, 4, 0, 0, 3, 10, 5],77)\n",
    "unsorted_sum([1, 4, 0, 0, 3, 10, 5],1)\n",
    "unsorted_sum([1, 4, 0, 0, 3, 10, 6],6)\n",
    "unsorted_sum([1, 4, 0, 0, 3, 10, 6],16)"
   ]
  },
  {
   "cell_type": "markdown",
   "metadata": {},
   "source": [
    "## Find a pair with the given difference "
   ]
  },
  {
   "cell_type": "code",
   "execution_count": 55,
   "metadata": {},
   "outputs": [
    {
     "name": "stdout",
     "output_type": "stream",
     "text": [
      "found pair: 2 80\n",
      "no such pair\n"
     ]
    }
   ],
   "source": [
    "def findpair(arr,k):\n",
    "    arr.sort()\n",
    "    start=0\n",
    "    end=1\n",
    "    while start<len(arr) and end<len(arr):\n",
    "        \n",
    "        if start!=end and arr[end]-arr[start]==k:\n",
    "            print('found pair:',arr[start],arr[end])\n",
    "            return\n",
    "        if arr[end]-arr[start]<k:\n",
    "            end+=1\n",
    "        else:\n",
    "            start+=1\n",
    "    print('no such pair')\n",
    "    return\n",
    "findpair([5, 20, 3, 2, 50, 80],78)\n",
    "findpair([90, 70, 20, 80, 50],45)"
   ]
  },
  {
   "cell_type": "markdown",
   "metadata": {},
   "source": [
    "###### Minimum number required for platform railway station"
   ]
  },
  {
   "cell_type": "code",
   "execution_count": 59,
   "metadata": {},
   "outputs": [
    {
     "data": {
      "text/plain": [
       "3"
      ]
     },
     "execution_count": 59,
     "metadata": {},
     "output_type": "execute_result"
    }
   ],
   "source": [
    "def miniplatform(arr,dep):\n",
    "    arr.sort()\n",
    "    dep.sort()\n",
    "    reqplatform=1\n",
    "    count=1\n",
    "    arridx=1\n",
    "    depidx=0\n",
    "    while arridx<len(arr) and depidx<len(dep):\n",
    "        if arr[arridx]>dep[depidx]:\n",
    "            count-=1\n",
    "            depidx+=1\n",
    "        elif arr[arridx]<=dep[depidx]:\n",
    "            arridx+=1\n",
    "            count+=1\n",
    "        reqplatform=max(reqplatform,count)\n",
    "    return reqplatform\n",
    "miniplatform([900,940,950,1100,1500,1800],[910,1200,1120,1130,2000,1900])      "
   ]
  },
  {
   "cell_type": "markdown",
   "metadata": {},
   "source": [
    "# Convert array into zigzag fashion\n",
    "https://www.geeksforgeeks.org/convert-array-into-zig-zag-fashion/"
   ]
  },
  {
   "cell_type": "code",
   "execution_count": 1,
   "metadata": {},
   "outputs": [
    {
     "data": {
      "text/plain": [
       "[1, 3, 2, 6, 4, 8, 7]"
      ]
     },
     "execution_count": 1,
     "metadata": {},
     "output_type": "execute_result"
    }
   ],
   "source": [
    "#method 1 is sort arr then exclude arr[0] swap arr[1] to arr[2] and arr[3] to arr[4] so on\n",
    "#nlogn complexity\n",
    "def method1zigzag(arr):\n",
    "    arr.sort()\n",
    "    for i in range(1,len(arr),2):\n",
    "        arr[i],arr[i+1]=arr[i+1],arr[i]\n",
    "    return arr\n",
    "method1zigzag([4,3,7,8,6,2,1])"
   ]
  },
  {
   "cell_type": "code",
   "execution_count": 4,
   "metadata": {},
   "outputs": [
    {
     "data": {
      "text/plain": [
       "[3, 7, 4, 8, 2, 6, 1]"
      ]
     },
     "execution_count": 4,
     "metadata": {},
     "output_type": "execute_result"
    }
   ],
   "source": [
    "#method 2 intialize flag=True when flag True and arr[i]>arr[i+1] then swap\n",
    "#flag = False and arr[i]<arr[i+1] then swap\n",
    "#O(n)\n",
    "def zigzag(arr):\n",
    "    flag=True\n",
    "    for i in range(0,len(arr)-1):\n",
    "        if flag==True and arr[i]>arr[i+1]:\n",
    "            arr[i],arr[i+1]=arr[i+1],arr[i]\n",
    "        elif flag==False and arr[i]<arr[i+1]:\n",
    "            arr[i],arr[i+1]=arr[i+1],arr[i]\n",
    "        flag=not flag\n",
    "    return arr\n",
    "zigzag([4,3,7,8,6,2,1])            "
   ]
  },
  {
   "cell_type": "markdown",
   "metadata": {},
   "source": [
    "# Chocolate distribution\n",
    "https://www.geeksforgeeks.org/chocolate-distribution-problem/"
   ]
  },
  {
   "cell_type": "code",
   "execution_count": 8,
   "metadata": {},
   "outputs": [
    {
     "data": {
      "text/plain": [
       "2"
      ]
     },
     "execution_count": 8,
     "metadata": {},
     "output_type": "execute_result"
    }
   ],
   "source": [
    "#simple soln is create subsets of arr of size m and find diff of min and max\n",
    "#efficient soln sort arr then check diff of arr[i+m-1]-arr[i] \n",
    "import sys\n",
    "def chocolateDistribution(arr,n,m):\n",
    "    arr.sort()\n",
    "    if n==0 and m==0:\n",
    "        return 0\n",
    "    if n<m:\n",
    "        return -1\n",
    "    min_=sys.maxsize\n",
    "    i=0\n",
    "    while i+m-1<n:\n",
    "        min_=min(arr[i+m-1]-arr[i],min_)\n",
    "        i+=1\n",
    "    return min_\n",
    "chocolateDistribution([7,3,2,4,9,12,56],7,3)"
   ]
  },
  {
   "cell_type": "markdown",
   "metadata": {},
   "source": [
    "# Equilibrium Index of an array\n",
    "Equilibrium index of an array is an index such that the sum of elements at lower indexes is equal to the sum of elements at higher indexes"
   ]
  },
  {
   "cell_type": "code",
   "execution_count": 9,
   "metadata": {},
   "outputs": [
    {
     "data": {
      "text/plain": [
       "3"
      ]
     },
     "execution_count": 9,
     "metadata": {},
     "output_type": "execute_result"
    }
   ],
   "source": [
    "#simple solution is use two loops O(n**2)\n",
    "#efficent soln first calculate total sum then compare with left\n",
    "def equilibrium(arr):\n",
    "    arrsum=0\n",
    "    for i in range(0,len(arr)):\n",
    "        arrsum+=arr[i]\n",
    "    left=0\n",
    "    for i in range(0,len(arr)):\n",
    "        num=arr[i]\n",
    "        arrsum-=num\n",
    "        if arrsum==left:\n",
    "            return i\n",
    "        left+=num\n",
    "    return -1\n",
    "equilibrium([-7, 1, 5, 2, -4, 3, 0])"
   ]
  },
  {
   "cell_type": "markdown",
   "metadata": {},
   "source": [
    "# maximum increasing subsequence\n",
    "https://www.geeksforgeeks.org/dynamic-programming-set-14-maximum-sum-increasing-subsequence/"
   ]
  },
  {
   "cell_type": "code",
   "execution_count": 10,
   "metadata": {},
   "outputs": [
    {
     "data": {
      "text/plain": [
       "38"
      ]
     },
     "execution_count": 10,
     "metadata": {},
     "output_type": "execute_result"
    }
   ],
   "source": [
    "import sys\n",
    "def mis(arr):\n",
    "    dp=[0 for x in range(len(arr))]\n",
    "    dp[0]=1\n",
    "    max_g=-sys.maxsize\n",
    "    for i in range(1,len(arr)):\n",
    "        max_=-sys.maxsize\n",
    "        for j in range(0,i):\n",
    "            if arr[i]>=arr[j]:\n",
    "                max_=max(dp[j],max_)\n",
    "        if max_==-sys.maxsize:\n",
    "            dp[i]=arr[i]\n",
    "        else:\n",
    "            dp[i]=max_+arr[i]\n",
    "        max_g=max(max_g,dp[i])\n",
    "    return max_g\n",
    "mis([7,1,4,8,11,2,14,3])"
   ]
  },
  {
   "cell_type": "markdown",
   "metadata": {},
   "source": [
    "# Longest Bitonic Sequence\n",
    "https://www.geeksforgeeks.org/maximum-length-bitonic-subarray/"
   ]
  },
  {
   "cell_type": "code",
   "execution_count": 11,
   "metadata": {},
   "outputs": [],
   "source": [
    "def lbs(arr):\n",
    "    lis=[0 for x in range(len(arr))]\n",
    "    lds=[0 for x in range(len(arr))]\n",
    "    lis[0]=1\n",
    "    lds[len(arr)-1]=1\n",
    "    \n",
    "    #lis\n",
    "    for i in range(1,len(arr)):\n",
    "        max_=0\n",
    "        for j in range(0,i):\n",
    "            if arr[i]>=arr[j]:\n",
    "                max_=max(lis[j],max_)\n",
    "        lis[i]=max_+1\n",
    "    \n",
    "    #lds\n",
    "    for i in range(len(arr)-2,-1,-1):\n",
    "        max_=0\n",
    "        for j in range(i+1,len(arr)):\n",
    "            if arr[i]>=arr[j]:\n",
    "                max_=max(lds[j],max_)\n",
    "        lds[i]=max_+1\n",
    "    max_lbs=0\n",
    "    for i in range(0,len(arr)):\n",
    "        max_lbs=max(max_lbs,lis[i]+lds[i]-1)\n",
    "    return max_lbs"
   ]
  },
  {
   "cell_type": "markdown",
   "metadata": {},
   "source": [
    "# Three way partition of array\n",
    "https://www.geeksforgeeks.org/three-way-partitioning-of-an-array-around-a-given-range/"
   ]
  },
  {
   "cell_type": "code",
   "execution_count": 25,
   "metadata": {},
   "outputs": [
    {
     "data": {
      "text/plain": [
       "[1, 5, 4, 2, 1, 3, 14, 20, 20, 98, 87, 32, 54]"
      ]
     },
     "execution_count": 25,
     "metadata": {},
     "output_type": "execute_result"
    }
   ],
   "source": [
    "def threeway(arr,l,h):\n",
    "    start=0\n",
    "    end=len(arr)-1\n",
    "    i=0\n",
    "    while i<=end:\n",
    "        if arr[i]<l:\n",
    "            arr[start],arr[i]=arr[i],arr[start]\n",
    "            i+=1\n",
    "            start+=1        \n",
    "        elif arr[i]>h:\n",
    "            arr[end],arr[i]=arr[i],arr[end]\n",
    "            end-=1\n",
    "        else:\n",
    "            i+=1\n",
    "    return arr\n",
    "threeway([1, 14, 5, 20, 4, 2, 54, 20, 87, 98, 3, 1, 32] ,14,20)"
   ]
  },
  {
   "cell_type": "markdown",
   "metadata": {},
   "source": [
    "# Buy and sell stock "
   ]
  },
  {
   "cell_type": "code",
   "execution_count": 26,
   "metadata": {},
   "outputs": [],
   "source": [
    "def maxProfit(self, prices):\n",
    "    if len(prices)==0:\n",
    "        return 0\n",
    "    gprofit=-9999\n",
    "    min_=prices[0]\n",
    "    for i in range(1,len(prices)):\n",
    "        if min_>prices[i]:\n",
    "            min_=prices[i]\n",
    "        profit=prices[i]-min_\n",
    "        gprofit=max(gprofit,profit)\n",
    "    return gprofit   "
   ]
  },
  {
   "cell_type": "markdown",
   "metadata": {},
   "source": [
    "# Trapping rain Water\n",
    "https://www.geeksforgeeks.org/trapping-rain-water/"
   ]
  },
  {
   "cell_type": "code",
   "execution_count": null,
   "metadata": {},
   "outputs": [],
   "source": []
  },
  {
   "cell_type": "markdown",
   "metadata": {},
   "source": [
    "# Largest sub array with equal number of 1 and 0\n",
    "https://www.geeksforgeeks.org/largest-subarray-with-equal-number-of-0s-and-1s/"
   ]
  },
  {
   "cell_type": "code",
   "execution_count": 14,
   "metadata": {},
   "outputs": [
    {
     "name": "stdout",
     "output_type": "stream",
     "text": [
      "startingindex: 0 ,endingindex: 5\n"
     ]
    },
    {
     "data": {
      "text/plain": [
       "[-1, -1, 1, 1, 1, -1, -1]"
      ]
     },
     "execution_count": 14,
     "metadata": {},
     "output_type": "execute_result"
    }
   ],
   "source": [
    "def largestsubarr(arr):\n",
    "    for i in range(0,len(arr)):\n",
    "        if arr[i]==0:\n",
    "            arr[i]=-1     \n",
    "    cumsum=0\n",
    "    maxlen=0\n",
    "    m={}\n",
    "    for i in range(0,len(arr)):\n",
    "        cumsum+=arr[i]\n",
    "        if cumsum==0:\n",
    "            maxlen=i+1\n",
    "            endingindex=i\n",
    "            m[cumsum]=i\n",
    "        if cumsum in  m:\n",
    "            if maxlen<i-m[cumsum]:\n",
    "                maxlen=i-m[cumsum]\n",
    "                endingindex=i\n",
    "        else:\n",
    "            m[cumsum]=i\n",
    "            \n",
    "    print('startingindex:',endingindex-maxlen+1,',endingindex:',endingindex)\n",
    "    return arr\n",
    "largestsubarr([0,0,1,1,1,0,0])"
   ]
  },
  {
   "cell_type": "markdown",
   "metadata": {},
   "source": [
    "# Maximum product subarray\n",
    "https://www.geeksforgeeks.org/maximum-product-subarray/"
   ]
  },
  {
   "cell_type": "code",
   "execution_count": 24,
   "metadata": {},
   "outputs": [
    {
     "data": {
      "text/plain": [
       "80"
      ]
     },
     "execution_count": 24,
     "metadata": {},
     "output_type": "execute_result"
    }
   ],
   "source": [
    "def maxproduct(arr):\n",
    "    maxending=1 #1 or +ve num\n",
    "    minending=1 #1 or -ve num\n",
    "    maxsofar=1\n",
    "    flag=0\n",
    "    \n",
    "    for i in range(0,len(arr)):\n",
    "        if arr[i]>0:\n",
    "            maxending=arr[i]*maxending\n",
    "            minending=min(1,minending*arr[i])\n",
    "            flag=1\n",
    "            \n",
    "        elif arr[i]==0:\n",
    "            maxending=1\n",
    "            minending=1\n",
    "    \n",
    "        else:\n",
    "            temp=maxending\n",
    "            maxending=max(1,minending*arr[i])\n",
    "            minending=temp*arr[i]\n",
    "            \n",
    "        maxsofar=max(maxsofar,maxending)\n",
    "    if flag==0 and maxsofar==1:\n",
    "        return 0\n",
    "    return maxsofar\n",
    "maxproduct([-2, -3, 0, -2, -40])"
   ]
  },
  {
   "cell_type": "markdown",
   "metadata": {},
   "source": [
    "# sort 0 1"
   ]
  },
  {
   "cell_type": "code",
   "execution_count": 26,
   "metadata": {},
   "outputs": [],
   "source": [
    "def sort_01(arr):\n",
    "    i=0\n",
    "    j=0\n",
    "    while i<len(arr):\n",
    "        if arr[i]>0:\n",
    "            i+=1\n",
    "        else:\n",
    "            #swap\n",
    "            temp=arr[i]\n",
    "            arr[i]=arr[j]\n",
    "            arr[j]=temp\n",
    "            i+=1\n",
    "            j+=1\n",
    "    return arr"
   ]
  },
  {
   "cell_type": "markdown",
   "metadata": {},
   "source": [
    "# Sort 012\n"
   ]
  },
  {
   "cell_type": "code",
   "execution_count": 25,
   "metadata": {},
   "outputs": [],
   "source": [
    "def sort012(arr):\n",
    "    i=0\n",
    "    j=0\n",
    "    k=len(arr)-1\n",
    "    \n",
    "    while i<=k:\n",
    "        if arr[i]==0:\n",
    "            #swap with j and inc i,j\n",
    "            temp=arr[i]\n",
    "            arr[i]=arr[j]\n",
    "            arr[j]=temp\n",
    "            i+=1\n",
    "            j+=1\n",
    "            \n",
    "        elif arr[i]==1:\n",
    "            i+=1\n",
    "        else:\n",
    "            #swap with k and dec k\n",
    "            temp=arr[i]\n",
    "            arr[i]=arr[k]\n",
    "            arr[k]=temp\n",
    "            k-=1\n",
    "\n",
    "    return arr"
   ]
  },
  {
   "cell_type": "markdown",
   "metadata": {},
   "source": [
    "# Merge intervals\n",
    "https://www.geeksforgeeks.org/merging-intervals/"
   ]
  },
  {
   "cell_type": "code",
   "execution_count": 32,
   "metadata": {},
   "outputs": [
    {
     "data": {
      "text/plain": [
       "[[1, 9]]"
      ]
     },
     "execution_count": 32,
     "metadata": {},
     "output_type": "execute_result"
    }
   ],
   "source": [
    "def mergeintervals(arr):\n",
    "    arr.sort(key =lambda x: x[0])\n",
    "    result=[]\n",
    "    starttime=arr[0][0]\n",
    "    endtime=arr[0][1]\n",
    "    for i in range(1,len(arr)):\n",
    "        if arr[i][0]<endtime:\n",
    "            endtime=max(endtime,arr[i][1])\n",
    "        elif arr[i][0]>=endtime:\n",
    "            result.append([starttime,endtime])\n",
    "            starttime=arr[i][0]\n",
    "            endtime=arr[i][1]\n",
    "    result.append([starttime,endtime])\n",
    "    \n",
    "    return result\n",
    "mergeintervals([[6, 8], [1, 9], [2, 4], [4, 7]])"
   ]
  },
  {
   "cell_type": "code",
   "execution_count": 36,
   "metadata": {},
   "outputs": [
    {
     "data": {
      "text/plain": [
       "[[1, 9], [2, 4], [4, 7], [6, 8]]"
      ]
     },
     "execution_count": 36,
     "metadata": {},
     "output_type": "execute_result"
    }
   ],
   "source": [
    "#with the help of stack \n",
    "def mergeintervalstack(arr):\n",
    "    arr.sort(key=lambda x:x[0])\n",
    "    stack=[]\n",
    "    stack.append(arr[0])\n",
    "    for i in range(1,len(arr)):\n",
    "        element=stack.pop()\n",
    "        if element[1]>=arr[i][0]:\n",
    "            if element[1]<arr[i][0]: #WRONG ANSWER PLEASE REFER SOLN\n",
    "                element[1]=arr[i][1]\n",
    "                stack.append(element)\n",
    "            else:\n",
    "                stack.append(element)\n",
    "                stack.append(arr[i])\n",
    "    return stack\n",
    "mergeintervalstack([[6, 8], [1, 9], [2, 4], [4, 7]])"
   ]
  },
  {
   "cell_type": "markdown",
   "metadata": {},
   "source": [
    "# Difference btw 2 elements\n",
    "https://www.geeksforgeeks.org/maximum-difference-between-two-elements/"
   ]
  },
  {
   "cell_type": "code",
   "execution_count": 29,
   "metadata": {},
   "outputs": [
    {
     "data": {
      "text/plain": [
       "99"
      ]
     },
     "execution_count": 29,
     "metadata": {},
     "output_type": "execute_result"
    }
   ],
   "source": [
    "#brute force technique use two loops\n",
    "def maxdifference(arr):\n",
    "    maxdiff=arr[1]-arr[0]\n",
    "    minele=arr[0]\n",
    "    \n",
    "    for i in range(1,len(arr)):\n",
    "        if arr[i]-minele>maxdiff:\n",
    "            maxdiff=arr[i]-minele\n",
    "        \n",
    "        if arr[i]<minele:\n",
    "            minele=arr[i]\n",
    "    return maxdiff\n",
    "maxdifference([1, 2, 6, 80, 100])"
   ]
  },
  {
   "cell_type": "markdown",
   "metadata": {},
   "source": [
    "# Move zeros end arr\n",
    "https://www.geeksforgeeks.org/move-zeroes-end-array/"
   ]
  },
  {
   "cell_type": "code",
   "execution_count": 30,
   "metadata": {},
   "outputs": [
    {
     "data": {
      "text/plain": [
       "[3, 2, 1, 5, 2, 0, 0, 0]"
      ]
     },
     "execution_count": 30,
     "metadata": {},
     "output_type": "execute_result"
    }
   ],
   "source": [
    "def movezero(arr):\n",
    "    count=0\n",
    "    for i in range(0,len(arr)):\n",
    "        if arr[i]!=0:\n",
    "            arr[count]=arr[i]\n",
    "            count+=1\n",
    "    while count<len(arr):\n",
    "        arr[count]=0\n",
    "        count+=1\n",
    "    return arr\n",
    "movezero([0,3,2,1,0,5,0,2])"
   ]
  },
  {
   "cell_type": "markdown",
   "metadata": {},
   "source": [
    "# Minimum number from given sequence (stack)\n",
    "https://www.geeksforgeeks.org/form-minimum-number-from-given-sequence/"
   ]
  },
  {
   "cell_type": "code",
   "execution_count": null,
   "metadata": {},
   "outputs": [],
   "source": [
    "`"
   ]
  },
  {
   "cell_type": "markdown",
   "metadata": {},
   "source": [
    "# Largest sum subarray at least k number\n",
    "https://www.geeksforgeeks.org/largest-sum-subarray-least-k-numbers/"
   ]
  },
  {
   "cell_type": "code",
   "execution_count": 35,
   "metadata": {},
   "outputs": [
    {
     "name": "stdout",
     "output_type": "stream",
     "text": [
      "6\n"
     ]
    }
   ],
   "source": [
    "#recursive soln find all possible subsets of k\n",
    "def largestsum(arr,idx,sub,sos,k):\n",
    "    global maxsum\n",
    "    if sub>=k and idx==len(arr):\n",
    "        maxsum=max(maxsum,sos)\n",
    "        return\n",
    "    if idx==len(arr):\n",
    "        return\n",
    "    #include\n",
    "    largestsum(arr,idx+1,sub+1,sos+arr[idx],k)\n",
    "    #exclude\n",
    "    largestsum(arr,idx+1,sub,sos,k)\n",
    "        \n",
    "maxsum=-9999\n",
    "largestsum([1, 1, 1, 1, 1, 1],0,0,0,2)\n",
    "print(maxsum)\n",
    "    "
   ]
  },
  {
   "cell_type": "code",
   "execution_count": 41,
   "metadata": {},
   "outputs": [
    {
     "data": {
      "text/plain": [
       "21"
      ]
     },
     "execution_count": 41,
     "metadata": {},
     "output_type": "execute_result"
    }
   ],
   "source": [
    "#efficient solution\n",
    "def maxsumwithk(arr,k):\n",
    "    \n",
    "    maxsum=[0] *(len(arr))\n",
    "    maxsum[0]=arr[0]\n",
    "    currsum=arr[0]\n",
    "    #kandane algo\n",
    "    for i in range(1,len(arr)):\n",
    "        currsum=max(currsum,currsum+arr[i])\n",
    "        maxsum[i]=currsum\n",
    "        \n",
    "    sum_=0\n",
    "    for i in range(k):\n",
    "        sum_+=arr[i]\n",
    "    result=sum_\n",
    "    for i in range(k,len(arr)):\n",
    "        sum_=sum_+arr[i]-arr[i-k]\n",
    "        result=max(result,sum_)\n",
    "        result=max(result,maxsum[i-k]+sum_)\n",
    "    return result\n",
    "maxsumwithk([2,4,-1,3,12],2)"
   ]
  },
  {
   "cell_type": "markdown",
   "metadata": {},
   "source": [
    "# Minimum swaps required to bring elements less equal k together\n",
    "https://www.geeksforgeeks.org/minimum-swaps-required-bring-elements-less-equal-k-together/"
   ]
  },
  {
   "cell_type": "code",
   "execution_count": 54,
   "metadata": {},
   "outputs": [
    {
     "name": "stdout",
     "output_type": "stream",
     "text": [
      "2\n"
     ]
    },
    {
     "data": {
      "text/plain": [
       "[2, 4, 5, 9, 8, 7, 7]"
      ]
     },
     "execution_count": 54,
     "metadata": {},
     "output_type": "execute_result"
    }
   ],
   "source": [
    "def minimumswaps(arr,k):\n",
    "    end=len(arr)-1\n",
    "    i=0\n",
    "    swaps=0\n",
    "    while i<len(arr) and i<end:\n",
    "        if arr[i]>k:\n",
    "            if arr[end]<=k:\n",
    "                arr[i],arr[end]=arr[end],arr[i]\n",
    "                swaps+=1\n",
    "            end-=1\n",
    "        else:\n",
    "            i+=1\n",
    "    print(swaps)\n",
    "    return arr\n",
    "minimumswaps([2, 7, 9, 5, 8, 7, 4],5)\n",
    "            "
   ]
  },
  {
   "cell_type": "markdown",
   "metadata": {},
   "source": [
    "# Rotate matrix with 90 degree "
   ]
  },
  {
   "cell_type": "code",
   "execution_count": 9,
   "metadata": {},
   "outputs": [
    {
     "data": {
      "text/plain": [
       "[[7, 4, 1], [8, 5, 2], [9, 6, 3]]"
      ]
     },
     "execution_count": 9,
     "metadata": {},
     "output_type": "execute_result"
    }
   ],
   "source": [
    "def rotatematrix(arr):\n",
    "    #transpose\n",
    "    for i in range(0,len(arr)):\n",
    "        for j in range(i,len(arr[0])):\n",
    "            arr[i][j],arr[j][i]=arr[j][i],arr[i][j]\n",
    "    \n",
    "    for i in range(0,len(arr)):\n",
    "        start=0\n",
    "        end=len(arr)-1\n",
    "        while start<end:\n",
    "            arr[i][start],arr[i][end]=arr[i][end],arr[i][start]\n",
    "            start+=1\n",
    "            end-=1\n",
    "    return arr\n",
    "arr=[[1,2,3],[4,5,6],[7,8,9]]\n",
    "rotatematrix(arr)"
   ]
  },
  {
   "cell_type": "markdown",
   "metadata": {},
   "source": [
    "# K pairs with smallest sum in 2 array\n",
    "https://www.geeksforgeeks.org/find-k-pairs-smallest-sums-two-arrays/"
   ]
  },
  {
   "cell_type": "code",
   "execution_count": null,
   "metadata": {},
   "outputs": [],
   "source": []
  },
  {
   "cell_type": "markdown",
   "metadata": {},
   "source": [
    "# sMALLEST VALUE\n",
    "https://www.geeksforgeeks.org/find-smallest-value-represented-sum-subset-given-array/"
   ]
  },
  {
   "cell_type": "code",
   "execution_count": 10,
   "metadata": {},
   "outputs": [
    {
     "data": {
      "text/plain": [
       "2"
      ]
     },
     "execution_count": 10,
     "metadata": {},
     "output_type": "execute_result"
    }
   ],
   "source": [
    "def smallestvalue(arr): #given array is in sorted order\n",
    "    res=1\n",
    "    for i in range(0,len(arr)):\n",
    "        if arr[i]<=res:\n",
    "            res=res+arr[i]\n",
    "        else:\n",
    "            break\n",
    "    return res\n",
    "smallestvalue([1,5,8,9])"
   ]
  },
  {
   "cell_type": "markdown",
   "metadata": {},
   "source": [
    "# Form biggest number\n",
    "https://www.geeksforgeeks.org/given-an-array-of-numbers-arrange-the-numbers-to-form-the-biggest-number/"
   ]
  },
  {
   "cell_type": "code",
   "execution_count": 17,
   "metadata": {},
   "outputs": [
    {
     "data": {
      "text/plain": [
       "'6054854654'"
      ]
     },
     "execution_count": 17,
     "metadata": {},
     "output_type": "execute_result"
    }
   ],
   "source": [
    "def biggestnumber(arr):\n",
    "    for i in range(0,len(arr)):\n",
    "        for j in range(0,len(arr)-1-i):\n",
    "            ab=str(arr[j])+str(arr[j+1])\n",
    "            ba=str(arr[j+1])+str(arr[j])\n",
    "            if int(ba)>int(ab): #swap j,j+1\n",
    "                arr[j],arr[j+1]=arr[j+1],arr[j]\n",
    "    \n",
    "    return \"\".join([str(i) for i in arr]) \n",
    "biggestnumber([54, 546, 548, 60])"
   ]
  },
  {
   "cell_type": "markdown",
   "metadata": {},
   "source": [
    "# Generate all possible sorted arrays from alternate elements of two given sorted arrays\n",
    "https://www.geeksforgeeks.org/generate-all-possible-sorted-arrays-from-alternate-elements-of-two-given-arrays/"
   ]
  },
  {
   "cell_type": "code",
   "execution_count": 15,
   "metadata": {},
   "outputs": [
    {
     "name": "stdout",
     "output_type": "stream",
     "text": [
      "10 20 \n",
      "10 15 30 \n",
      "10 25 30 \n",
      "10 30 \n",
      "15 20 \n",
      "15 25 30 \n",
      "15 30 \n",
      "25 30 \n"
     ]
    }
   ],
   "source": [
    "def printarr(arr,n):\n",
    "    for i in range(0,n):\n",
    "        print(arr[i],end=' ')\n",
    "    print('')\n",
    "    \n",
    "def generateuntil(a,b,c,i,j,m,n,cl,flag):\n",
    "    \n",
    "    if flag:\n",
    "        if cl>0:\n",
    "            printarr(c,cl+1)\n",
    "        \n",
    "        for idx in range(i,m):\n",
    "            if cl>0:\n",
    "                c[cl]=a[idx]\n",
    "                generateuntil(a,b,c,idx+1,j,m,n,cl,False)\n",
    "            else:\n",
    "                if a[idx]>c[cl]:\n",
    "                    c[cl+1]=a[idx]\n",
    "                    generateuntil(a,b,c,idx+1,j,m,n,cl+1,False)\n",
    "        \n",
    "    else:\n",
    "        for idx in range(j,n):\n",
    "            if b[idx]>c[cl]:\n",
    "                c[cl+1]=b[idx]\n",
    "                generateuntil(a,b,c,i,idx+1,m,n,cl+1,True)\n",
    "\n",
    "a=[10,15,25]\n",
    "b=[5,20,30]\n",
    "m=len(a)\n",
    "n=len(b)\n",
    "c=[0]*(m+n)\n",
    "generateuntil(a,b,c,0,0,m,n,-1,True)"
   ]
  },
  {
   "cell_type": "code",
   "execution_count": 41,
   "metadata": {},
   "outputs": [
    {
     "name": "stdout",
     "output_type": "stream",
     "text": [
      "\n",
      "10,\n",
      "10,\n",
      "10,15,\n",
      "10,15,\n",
      "10,15,25,\n",
      "10,15,25,\n",
      "10,15,\n",
      "10,15,20,\n",
      "10,15,\n",
      "10,\n",
      "10,\n",
      "10,25,\n",
      "10,25,\n",
      "10,\n",
      "10,20,\n",
      "10,\n",
      "\n"
     ]
    }
   ],
   "source": [
    "def generatearr(a,b,aidx,bidx,sub,le,flag):\n",
    "    global result\n",
    "    print(sub)\n",
    "    if flag and aidx==len(a):\n",
    "        return\n",
    "    \n",
    "    if bidx==len(b):\n",
    "        print(sub)\n",
    "        return\n",
    "    if flag:#operation on A\n",
    "        if le==0:\n",
    "            generatearr(a,b,aidx+1,bidx,sub+str(a[aidx])+',',a[aidx],flag=False)\n",
    "            generatearr(a,b,aidx+1,bidx,sub,le,flag=False)\n",
    "        else:\n",
    "            if a[aidx]>le:\n",
    "                generatearr(a,b,aidx+1,bidx,sub+str(a[aidx])+',',a[aidx],flag=False)\n",
    "            generatearr(a,b,aidx+1,bidx,sub,le,flag=False)\n",
    "    \n",
    "    else: #operation on b\n",
    "        if le!=0:\n",
    "            if b[bidx]>le:\n",
    "                generatearr(a,b,aidx,bidx+1,sub+str(b[bidx])+',',b[bidx],flag=True)\n",
    "            generatearr(a,b,aidx,bidx+1,sub,le,flag=True)\n",
    "result=[]\n",
    "generatearr([10,15,25],[1,5,20,30],0,0,'',0,True)"
   ]
  },
  {
   "cell_type": "markdown",
   "metadata": {},
   "source": [
    "# Next Permutation\n",
    "https://leetcode.com/problems/next-permutation/"
   ]
  },
  {
   "cell_type": "code",
   "execution_count": 74,
   "metadata": {},
   "outputs": [
    {
     "name": "stdout",
     "output_type": "stream",
     "text": [
      "[7, 8, 2, 9, 6, 1, 4]\n",
      "[1, 2, 3]\n",
      "[3, 1, 2]\n",
      "[1, 2, 3, 4, 5, 6, 7, 8, 9, 10]\n"
     ]
    }
   ],
   "source": [
    "#naive approach generate all possible permutations and select just greater than that number\n",
    "#n! complexity\n",
    "#efficient soln- from end find first decreasing ele then find from end big number from des\n",
    "#number then swap then reverse n+1 arr\n",
    "\n",
    "def nextPermutation(arr):\n",
    "    dec=0\n",
    "    inc=len(arr)-1\n",
    "    revindex=-1\n",
    "    for i in range(len(arr)-1,0,-1):\n",
    "        if arr[i]>arr[i-1]:\n",
    "            revindex=i\n",
    "            dec=i-1\n",
    "            break\n",
    "    \n",
    "    for i in range(len(arr)-1,0,-1):\n",
    "        if arr[i]>arr[dec]:\n",
    "            inc=i\n",
    "            break\n",
    "    # swap\n",
    "    #print(arr[dec],arr[inc],dec,inc)\n",
    "    arr[dec],arr[inc]=arr[inc],arr[dec]\n",
    "    #print(arr,revindex)\n",
    "    if revindex!=-1:\n",
    "        start=revindex\n",
    "        end=len(arr)-1\n",
    "        while start<end:\n",
    "            arr[start],arr[end]=arr[end],arr[start]\n",
    "            start+=1\n",
    "            end-=1\n",
    "    else:\n",
    "        start=dec+1\n",
    "        end=len(arr)-2\n",
    "        while start<end:\n",
    "            arr[start],arr[end]=arr[end],arr[start]\n",
    "            start+=1\n",
    "            end-=1\n",
    "    return arr\n",
    "    \n",
    "print(nextPermutation([7,8,2,9,4,6,1]))\n",
    "print(nextPermutation([3,2,1]))\n",
    "print(nextPermutation([2,3,1]))\n",
    "print(nextPermutation([10,9,8,7,6,5,4,3,2,1]))"
   ]
  },
  {
   "cell_type": "markdown",
   "metadata": {},
   "source": [
    "# Minimum merge operation to make number palindrome\n",
    "https://www.geeksforgeeks.org/find-minimum-number-of-merge-operations-to-make-an-array-palindrome/"
   ]
  },
  {
   "cell_type": "code",
   "execution_count": 79,
   "metadata": {},
   "outputs": [
    {
     "name": "stdout",
     "output_type": "stream",
     "text": [
      "[191, 180, 165, 151]\n"
     ]
    },
    {
     "data": {
      "text/plain": [
       "3"
      ]
     },
     "execution_count": 79,
     "metadata": {},
     "output_type": "execute_result"
    }
   ],
   "source": [
    "def makepalindrome(arr):\n",
    "    mergeop=0\n",
    "    i=0\n",
    "    j=len(arr)-1\n",
    "    while i<j:\n",
    "        if arr[i]==arr[j]:\n",
    "            i+=1\n",
    "            j-=1\n",
    "        elif arr[i]>arr[j]:\n",
    "            i+=1\n",
    "            arr[i]+=arr[i-1]\n",
    "            mergeop+=1\n",
    "        else:\n",
    "            j-=1\n",
    "            arr[j]+=arr[j+1]\n",
    "            mergeop+=1\n",
    "    print(arr)\n",
    "    return mergeop\n",
    "makepalindrome([11,15,14,151])"
   ]
  },
  {
   "cell_type": "markdown",
   "metadata": {},
   "source": [
    "# Subarray max value given range\n",
    "https://www.geeksforgeeks.org/number-subarrays-maximum-value-given-range/"
   ]
  },
  {
   "cell_type": "code",
   "execution_count": 88,
   "metadata": {},
   "outputs": [
    {
     "data": {
      "text/plain": [
       "5"
      ]
     },
     "execution_count": 88,
     "metadata": {},
     "output_type": "execute_result"
    }
   ],
   "source": [
    "def countSubarr(n):\n",
    "    return n* (n+1)//2\n",
    "\n",
    "def countSumsubarr(arr,l,r):\n",
    "    res=0\n",
    "    inc=0\n",
    "    exc=0\n",
    "    for i in range(0,len(arr)):\n",
    "        if arr[i]>r:\n",
    "            res=res+countSubarr(inc)-countSubarr(exc)\n",
    "            inc=0\n",
    "            exc=0\n",
    "        elif arr[i]<l:\n",
    "            inc+=1\n",
    "            exc+=1\n",
    "        else:\n",
    "            res=res-countSubarr(exc)\n",
    "            exc=0\n",
    "            inc+=1\n",
    "    res=res+countSubarr(inc)-countSubarr(exc)\n",
    "    return res\n",
    "countSumsubarr([ 3, 4, 1],2,4)"
   ]
  },
  {
   "cell_type": "markdown",
   "metadata": {},
   "source": [
    "# Combinations Of R elements\n",
    "https://www.geeksforgeeks.org/print-all-possible-combinations-of-r-elements-in-a-given-array-of-size-n/"
   ]
  },
  {
   "cell_type": "code",
   "execution_count": 22,
   "metadata": {},
   "outputs": [
    {
     "name": "stdout",
     "output_type": "stream",
     "text": [
      "1 2 \n",
      "1 3 \n",
      "1 4 \n",
      "2 3 \n",
      "2 4 \n",
      "3 4 \n"
     ]
    }
   ],
   "source": [
    "#include exclude trick\n",
    "def printcomb(arr,idx,k,lastocc,asf):\n",
    "    if lastocc==k:\n",
    "        print(asf)\n",
    "        return\n",
    "    if idx==len(arr):\n",
    "        return    \n",
    "    printcomb(arr,idx+1,k,lastocc+1,asf+str(arr[idx])+' ')\n",
    "    printcomb(arr,idx+1,k,lastocc,asf)\n",
    "printcomb([1,2,3,4],0,2,0,'')"
   ]
  },
  {
   "cell_type": "markdown",
   "metadata": {},
   "source": [
    "# Reorder array\n",
    "https://www.geeksforgeeks.org/reorder-a-array-according-to-given-indexes/"
   ]
  },
  {
   "cell_type": "code",
   "execution_count": 26,
   "metadata": {},
   "outputs": [
    {
     "data": {
      "text/plain": [
       "[40, 60, 90, 50, 70]"
      ]
     },
     "execution_count": 26,
     "metadata": {},
     "output_type": "execute_result"
    }
   ],
   "source": [
    "#naive approach is use auxillary arr and store based on index\n",
    "def reorder(arr,index,n):\n",
    "    #fix all elements one by one\n",
    "    for i in range(0,n):\n",
    "        if index[i]!=i:\n",
    "            actv=arr[index[i]]\n",
    "            acti=index[index[i]]\n",
    "            \n",
    "            arr[index[i]]=arr[i]\n",
    "            index[index[i]]=index[i]\n",
    "            \n",
    "            arr[i]=actv\n",
    "            index[i]=acti\n",
    "            \n",
    "    return arr\n",
    "arr=[50,40,70,60,90]\n",
    "index=[3,0,4,1,2]\n",
    "reorder(arr,index,len(arr))        "
   ]
  },
  {
   "cell_type": "markdown",
   "metadata": {},
   "source": [
    "# Rearrange array in Max or Min form \n",
    "https://www.geeksforgeeks.org/rearrange-array-maximum-minimum-form-set-2-o1-extra-space/"
   ]
  },
  {
   "cell_type": "code",
   "execution_count": 35,
   "metadata": {},
   "outputs": [
    {
     "name": "stdout",
     "output_type": "stream",
     "text": [
      "[43, 9, 38, 18, 33, 27]\n",
      "6 1 5 2 4 3 "
     ]
    }
   ],
   "source": [
    "#“arr[i] += arr[max_index] % max_element * max_element” \n",
    "#create arr with 2 element\n",
    "def rearrange(arr):\n",
    "    maxidx=len(arr)-1\n",
    "    minidx=0\n",
    "    maxele=arr[maxidx]+1\n",
    "    \n",
    "    for i in range(0,len(arr)):\n",
    "        if i%2==0:\n",
    "            arr[i]+=(arr[maxidx]%maxele)*maxele\n",
    "            maxidx-=1\n",
    "        else:\n",
    "            arr[i]+=(arr[minidx]%maxele)*maxele\n",
    "            minidx+=1\n",
    "    print(arr)\n",
    "    for i in range(0,len(arr)):\n",
    "        print(arr[i]//maxele,end=' ')\n",
    "rearrange([1,2,3,4,5,6])"
   ]
  },
  {
   "cell_type": "markdown",
   "metadata": {},
   "source": [
    "# Longest subarray sum divisible by k\n",
    "https://www.geeksforgeeks.org/longest-subarray-sum-divisible-k/"
   ]
  },
  {
   "cell_type": "code",
   "execution_count": null,
   "metadata": {},
   "outputs": [],
   "source": []
  },
  {
   "cell_type": "markdown",
   "metadata": {},
   "source": [
    "# Maximum contiguous circular sum\n",
    "https://www.geeksforgeeks.org/maximum-contiguous-circular-sum/"
   ]
  },
  {
   "cell_type": "code",
   "execution_count": 10,
   "metadata": {},
   "outputs": [
    {
     "data": {
      "text/plain": [
       "31"
      ]
     },
     "execution_count": 10,
     "metadata": {},
     "output_type": "execute_result"
    }
   ],
   "source": [
    "import sys\n",
    "def kandane(arr):\n",
    "    gmax=arr[0]\n",
    "    currmax=arr[0]\n",
    "    \n",
    "    for i in range(1,len(arr)):\n",
    "        currmax=max(arr[i],currmax+arr[i])\n",
    "        gmax=max(gmax,currmax)\n",
    "    return gmax\n",
    "def maxcircularsum(arr):\n",
    "    \n",
    "    #case 1 when we get sum by simple kandane\n",
    "    gmax=kandane(arr)\n",
    "    wrapmax=0 #element those are not contributing\n",
    "    for i in range(0,len(arr)):\n",
    "        wrapmax+=arr[i]\n",
    "        arr[i]=-arr[i]\n",
    "        \n",
    "    gwrap=wrapmax+kandane(arr)\n",
    "    return max(gwrap,gmax)\n",
    "maxcircularsum([11, 10, -20, 5, -3, -5, 8, -13, 10])\n",
    "    "
   ]
  },
  {
   "cell_type": "code",
   "execution_count": 12,
   "metadata": {},
   "outputs": [
    {
     "data": {
      "text/plain": [
       "21"
      ]
     },
     "execution_count": 12,
     "metadata": {},
     "output_type": "execute_result"
    }
   ],
   "source": [
    "kandane([11, 10, -20, 5, -3, -5, 8, -13, 10])"
   ]
  },
  {
   "cell_type": "code",
   "execution_count": 13,
   "metadata": {},
   "outputs": [
    {
     "data": {
      "text/plain": [
       "3"
      ]
     },
     "execution_count": 13,
     "metadata": {},
     "output_type": "execute_result"
    }
   ],
   "source": [
    "sum([11, 10, -20, 5, -3, -5, 8, -13, 10])"
   ]
  },
  {
   "cell_type": "code",
   "execution_count": 15,
   "metadata": {},
   "outputs": [
    {
     "data": {
      "text/plain": [
       "28"
      ]
     },
     "execution_count": 15,
     "metadata": {},
     "output_type": "execute_result"
    }
   ],
   "source": [
    "kandane([-11, -10, 20, -5, 3, 5, -8, 13, -10])"
   ]
  },
  {
   "cell_type": "code",
   "execution_count": null,
   "metadata": {},
   "outputs": [],
   "source": []
  }
 ],
 "metadata": {
  "kernelspec": {
   "display_name": "Python 3",
   "language": "python",
   "name": "python3"
  },
  "language_info": {
   "codemirror_mode": {
    "name": "ipython",
    "version": 3
   },
   "file_extension": ".py",
   "mimetype": "text/x-python",
   "name": "python",
   "nbconvert_exporter": "python",
   "pygments_lexer": "ipython3",
   "version": "3.8.5"
  }
 },
 "nbformat": 4,
 "nbformat_minor": 2
}
