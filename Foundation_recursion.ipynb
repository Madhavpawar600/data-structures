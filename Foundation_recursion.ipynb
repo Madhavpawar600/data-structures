{
 "cells": [
  {
   "cell_type": "markdown",
   "metadata": {},
   "source": [
    "# Get subsequence"
   ]
  },
  {
   "cell_type": "code",
   "execution_count": 3,
   "metadata": {},
   "outputs": [],
   "source": [
    "def gsubs(string):\n",
    "    if len(string)==0:\n",
    "        return ['']\n",
    "    ch=string[0]\n",
    "    ros=string[1:]\n",
    "    gros=gsubs(ros)\n",
    "    sublist=[]\n",
    "    for x in gros:\n",
    "        sublist.append(ch+x)\n",
    "        sublist.append(''+x)\n",
    "    return sublist"
   ]
  },
  {
   "cell_type": "code",
   "execution_count": 4,
   "metadata": {},
   "outputs": [
    {
     "name": "stdout",
     "output_type": "stream",
     "text": [
      "['abc', 'bc', 'ac', 'c', 'ab', 'b', 'a', '']\n"
     ]
    }
   ],
   "source": [
    "print(gsubs('abc'))"
   ]
  },
  {
   "cell_type": "markdown",
   "metadata": {},
   "source": [
    "# Print subsequence "
   ]
  },
  {
   "cell_type": "code",
   "execution_count": 11,
   "metadata": {},
   "outputs": [
    {
     "name": "stdout",
     "output_type": "stream",
     "text": [
      "abc ab ac a bc b c  "
     ]
    }
   ],
   "source": [
    "def psub(string,sub):\n",
    "    if len(string)==0:\n",
    "        print(sub,end=' ')\n",
    "        return\n",
    "    \n",
    "    ch=string[0]\n",
    "    ros=string[1:]\n",
    "    psub(ros,sub+ch)\n",
    "    psub(ros,sub+'')\n",
    "    \n",
    "psub('abc','')"
   ]
  },
  {
   "cell_type": "markdown",
   "metadata": {},
   "source": [
    "# Get Keypad Combination "
   ]
  },
  {
   "cell_type": "code",
   "execution_count": 16,
   "metadata": {},
   "outputs": [
    {
     "name": "stdout",
     "output_type": "stream",
     "text": [
      "['dga', 'dgb', 'dgc', 'dha', 'dhb', 'dhc', 'dia', 'dib', 'dic', 'ega', 'egb', 'egc', 'eha', 'ehb', 'ehc', 'eia', 'eib', 'eic', 'fga', 'fgb', 'fgc', 'fha', 'fhb', 'fhc', 'fia', 'fib', 'fic']\n",
      "['pt', 'pu', 'pv', 'qt', 'qu', 'qv', 'rt', 'ru', 'rv', 'st', 'su', 'sv']\n"
     ]
    }
   ],
   "source": [
    "codes={'1':'./*','2':'abc','3':'def','4':'ghi','5':'jkl','6':'mno','7':'pqrs','8':'tuv','9':'wxyz'}\n",
    "def keypad(string):\n",
    "    if string=='':\n",
    "        bres=['']\n",
    "        return bres\n",
    "    ch=string[0]\n",
    "    ros=string[1:]\n",
    "    rres=keypad(ros)\n",
    "    result=[]\n",
    "    for x in codes[ch]:\n",
    "        for j in range(0,len(rres)):\n",
    "            #print(x+rres[j])\n",
    "            result.append(x+rres[j])\n",
    "    return result\n",
    "print(keypad('342'))\n",
    "print(keypad('78'))"
   ]
  },
  {
   "cell_type": "markdown",
   "metadata": {},
   "source": [
    "# Print Keypad "
   ]
  },
  {
   "cell_type": "code",
   "execution_count": 19,
   "metadata": {},
   "outputs": [
    {
     "name": "stdout",
     "output_type": "stream",
     "text": [
      "jd kd ld je ke le jf kf lf "
     ]
    }
   ],
   "source": [
    "codes={'1':'./*','2':'abc','3':'def','4':'ghi','5':'jkl','6':'mno','7':'pqrs','8':'tuv','9':'wxyz'}\n",
    "def printkeypad(string,ans):\n",
    "    if string=='':\n",
    "        print(ans,end=' ')\n",
    "        return\n",
    "    ch=string[0]\n",
    "    ros=string[1:]\n",
    "    \n",
    "    for x in codes[ch]:\n",
    "        printkeypad(ros,x+ans)\n",
    "        \n",
    "printkeypad('35','')"
   ]
  },
  {
   "cell_type": "markdown",
   "metadata": {},
   "source": [
    "# Get Stairs Path"
   ]
  },
  {
   "cell_type": "code",
   "execution_count": 22,
   "metadata": {},
   "outputs": [
    {
     "data": {
      "text/plain": [
       "['1111', '112', '121', '13', '211', '22', '31']"
      ]
     },
     "execution_count": 22,
     "metadata": {},
     "output_type": "execute_result"
    }
   ],
   "source": [
    "def getstairspath(num):\n",
    "    if num==0:\n",
    "        return ['']\n",
    "    if num< 0:\n",
    "        return []\n",
    "    \n",
    "    fpath=getstairspath(num-1)\n",
    "    spath=getstairspath(num-2)\n",
    "    tpath=getstairspath(num-3)\n",
    "    result=[]\n",
    "    for x in fpath:\n",
    "        result.append(str(1)+x)\n",
    "        \n",
    "    for x in spath:\n",
    "        result.append(str(2)+x)\n",
    "        \n",
    "    for x in tpath:\n",
    "        result.append(str(3)+x)\n",
    "        \n",
    "    return result\n",
    "getstairspath(4)\n",
    "        \n",
    "    "
   ]
  },
  {
   "cell_type": "markdown",
   "metadata": {},
   "source": [
    "# Print Stairs Path"
   ]
  },
  {
   "cell_type": "code",
   "execution_count": 23,
   "metadata": {},
   "outputs": [
    {
     "name": "stdout",
     "output_type": "stream",
     "text": [
      "1111 112 121 13 211 22 31 "
     ]
    }
   ],
   "source": [
    "def pstairspath(num,path):\n",
    "    \n",
    "    if num==0:\n",
    "        print(path,end=' ')\n",
    "        return\n",
    "    if num<0:\n",
    "        return\n",
    "    pstairspath(num-1,path+str(1))\n",
    "    pstairspath(num-2,path+str(2))\n",
    "    pstairspath(num-3,path+str(3))\n",
    "    \n",
    "pstairspath(4,'')"
   ]
  },
  {
   "cell_type": "markdown",
   "metadata": {},
   "source": [
    "# Get maze path"
   ]
  },
  {
   "cell_type": "code",
   "execution_count": 3,
   "metadata": {},
   "outputs": [
    {
     "name": "stdout",
     "output_type": "stream",
     "text": [
      "['hhvv', 'hvhv', 'hvvh', 'vhhv', 'vhvh', 'vvhh']\n",
      "['hvv', 'vhv', 'vvh']\n"
     ]
    }
   ],
   "source": [
    "def getmazepath(sr,sc,dr,dc):\n",
    "    if sr==dr and sc==dc:\n",
    "        return ['']\n",
    "    \n",
    "    hpath,vpath=[],[]\n",
    "    #horizontal\n",
    "    if sc<dc:\n",
    "        hpath=getmazepath(sr,sc+1,dr,dc)\n",
    "    if sr<dr:\n",
    "        vpath=getmazepath(sr+1,sc,dr,dc)\n",
    "    paths=[]\n",
    "    for x in hpath:\n",
    "        paths.append('h'+x)\n",
    "    for x in vpath:\n",
    "        paths.append('v'+x)\n",
    "    return paths\n",
    "print(getmazepath(1,1,3,3)) #hack\n",
    "print(getmazepath(0,0,2,1))"
   ]
  },
  {
   "cell_type": "markdown",
   "metadata": {},
   "source": [
    "# Print Maze path"
   ]
  },
  {
   "cell_type": "code",
   "execution_count": 32,
   "metadata": {},
   "outputs": [
    {
     "name": "stdout",
     "output_type": "stream",
     "text": [
      "hhvv hvhv hvvh vhhv vhvh vvhh "
     ]
    }
   ],
   "source": [
    "def printmazepath(sr,sc,dr,dc,path):\n",
    "    if sr>dr or sc>dc:\n",
    "        return \n",
    "    if sr==dr and sc==dc:\n",
    "        print(path,end=' ')\n",
    "        return    \n",
    "    printmazepath(sr,sc+1,dr,dc,path+'h')\n",
    "    printmazepath(sr+1,sc,dr,dc,path+'v')\n",
    "printmazepath(1,1,3,3,'')"
   ]
  },
  {
   "cell_type": "markdown",
   "metadata": {},
   "source": [
    "# Get maze path jump "
   ]
  },
  {
   "cell_type": "code",
   "execution_count": 40,
   "metadata": {},
   "outputs": [
    {
     "data": {
      "text/plain": [
       "['h1v1d1', 'h1d1v', 'v1h1d1', 'v1d1h', 'd1hv', 'd1vh', 'd2']"
      ]
     },
     "execution_count": 40,
     "metadata": {},
     "output_type": "execute_result"
    }
   ],
   "source": [
    "def getmazepathjump(sr,sc,dr,dc):\n",
    "    if sr>dr or sc>dc:\n",
    "        return\n",
    "    if sr==dr and sc==dc:\n",
    "        return ['']\n",
    "    paths=[]\n",
    "    #horizontal move\n",
    "    for i in range(1,dc-sc):\n",
    "        hpath=getmazepathjump(sr,sc+i,dr,dc)\n",
    "        for x in hpath:\n",
    "            paths.append('h'+str(i)+x)\n",
    "    #vertical move\n",
    "    for i in range(1,dr-sr):\n",
    "        vpath=getmazepathjump(sr+i,sc,dr,dc)\n",
    "        for x in vpath:\n",
    "            paths.append('v'+str(i)+x)\n",
    "    #diagonal move\n",
    "    i=1\n",
    "    while i<=dr-sr and i<=dc-sc:\n",
    "        dpath=getmazepath(sr+i,sc+i,dr,dc)\n",
    "        for x in dpath:\n",
    "            paths.append('d'+str(i)+x)\n",
    "        i+=1\n",
    "        \n",
    "    return paths\n",
    "getmazepathjump(1,1,3,3)"
   ]
  },
  {
   "cell_type": "markdown",
   "metadata": {},
   "source": [
    "# Print maze path jump"
   ]
  },
  {
   "cell_type": "code",
   "execution_count": 43,
   "metadata": {},
   "outputs": [
    {
     "name": "stdout",
     "output_type": "stream",
     "text": [
      "h1v1d1 v1h1d1 d1d1 d2 "
     ]
    }
   ],
   "source": [
    "def printmazepathjump(sr,sc,dr,dc,path):\n",
    "    if sr>dr or sc>dc:\n",
    "        return\n",
    "    \n",
    "    if dr==sr and dc==sc:\n",
    "        print(path,end=' ')\n",
    "        return\n",
    "    \n",
    "    #horizontal\n",
    "    for i in range(1,dc-sc):\n",
    "        printmazepathjump(sr,sc+i,dr,dc,path+'h'+str(i))\n",
    "    \n",
    "    #vertical\n",
    "    for i in range(1,dr-sr):\n",
    "        printmazepathjump(sr+i,sc,dr,dc,path+'v'+str(i))\n",
    "    \n",
    "    #diagonal\n",
    "    i=1\n",
    "    while i<=dr-sr and i<=dc-sc:\n",
    "        printmazepathjump(sr+i,sc+i,dr,dc,path+'d'+str(i))\n",
    "        i+=1\n",
    "printmazepathjump(1,1,3,3,'')"
   ]
  },
  {
   "cell_type": "markdown",
   "metadata": {},
   "source": [
    "# Print permutations"
   ]
  },
  {
   "cell_type": "code",
   "execution_count": 2,
   "metadata": {},
   "outputs": [
    {
     "name": "stdout",
     "output_type": "stream",
     "text": [
      "abc acb bac bca cab cba "
     ]
    }
   ],
   "source": [
    "def printpermutation(string,ans):\n",
    "    if len(string)==0:\n",
    "        print(ans,end=' ')\n",
    "        return\n",
    "    \n",
    "    for i in range(0,len(string)):\n",
    "        ch=string[i]\n",
    "        ros=string[:i]+string[i+1:]\n",
    "        printpermutation(ros,ans+ch)\n",
    "printpermutation('abc','')"
   ]
  },
  {
   "cell_type": "markdown",
   "metadata": {},
   "source": [
    "# Recursion and backtracking "
   ]
  },
  {
   "cell_type": "markdown",
   "metadata": {},
   "source": [
    "### FloodFill "
   ]
  },
  {
   "cell_type": "code",
   "execution_count": 18,
   "metadata": {},
   "outputs": [
    {
     "name": "stdout",
     "output_type": "stream",
     "text": [
      "RBBRBRBR\n",
      "RBBRBRRB\n",
      "RBRBBRBR\n",
      "RBRBBRRB\n"
     ]
    }
   ],
   "source": [
    "def floodfill_helper(arr,row,col,path,visited):\n",
    "    if row<0 or col<0 or row==len(arr) or col==len(arr[0]) or arr[row][col]==1 or (row,col) in  visited:\n",
    "        return\n",
    "    elif row==len(arr)-1 and col==len(arr[0])-1:\n",
    "        print(path)\n",
    "        return\n",
    "    \n",
    "    visited.add((row,col))\n",
    "    floodfill_helper(arr,row-1,col,path+'T',visited)#top\n",
    "    floodfill_helper(arr,row+1,col,path+'B',visited)#bottom\n",
    "    floodfill_helper(arr,row,col-1,path+'L',visited)#left\n",
    "    floodfill_helper(arr,row,col+1,path+'R',visited)#right\n",
    "    visited.remove((row,col))\n",
    "    \n",
    "def floodfill(arr):\n",
    "    visited=set()\n",
    "    floodfill_helper(arr,0,0,'',visited)\n",
    "    \n",
    "arr=[[0,0,1,0,1],[1,0,0,0,0],[0,0,0,1,1],[0,1,0,0,0],[1,1,1,0,0]]\n",
    "floodfill(arr)"
   ]
  },
  {
   "cell_type": "markdown",
   "metadata": {},
   "source": [
    "### Target sum subset"
   ]
  },
  {
   "cell_type": "code",
   "execution_count": 20,
   "metadata": {},
   "outputs": [
    {
     "name": "stdout",
     "output_type": "stream",
     "text": [
      "102030\n",
      "1050\n",
      "2040\n"
     ]
    }
   ],
   "source": [
    "#print\n",
    "def targetsum(arr,k,_sum,subset):\n",
    "    if len(arr)==0:\n",
    "        if _sum==k:\n",
    "            print(subset)\n",
    "            return\n",
    "        return\n",
    "    \n",
    "    targetsum(arr[1:],k,_sum+arr[0],subset+str(arr[0]))\n",
    "    targetsum(arr[1:],k,_sum,subset)\n",
    "    \n",
    "targetsum([10,20,30,40,50],60,0,'')"
   ]
  },
  {
   "cell_type": "code",
   "execution_count": 11,
   "metadata": {},
   "outputs": [
    {
     "name": "stdout",
     "output_type": "stream",
     "text": [
      "[1]\n",
      "[1, 2]\n",
      "[1, 2, 3]\n",
      "[2]\n",
      "[2, 3]\n",
      "[3]\n"
     ]
    }
   ],
   "source": [
    "arr=[1,2,3]\n",
    "arrlist=[]\n",
    "arrlist.append([])\n",
    "for i in range(0,len(arr)):\n",
    "    ls=[]\n",
    "    for j in range(i,len(arr)):\n",
    "        ls.append(arr[j])\n",
    "        print(ls)\n",
    "        arrlist.append(ls[:])"
   ]
  },
  {
   "cell_type": "markdown",
   "metadata": {},
   "source": [
    "# Longest Common subsequence "
   ]
  },
  {
   "cell_type": "code",
   "execution_count": 23,
   "metadata": {},
   "outputs": [
    {
     "data": {
      "text/plain": [
       "3"
      ]
     },
     "execution_count": 23,
     "metadata": {},
     "output_type": "execute_result"
    }
   ],
   "source": [
    "def lCS(s1,s2,l1,l2):\n",
    "    if l1==0 or l2==0:\n",
    "        return 0\n",
    "    \n",
    "    if s1[l1-1]==s2[l2-1]:\n",
    "        return 1+lCS(s1,s2,l1-1,l2-1)\n",
    "    return max(lCS(s1,s2,l1-1,l2),lCS(s1,s2,l1,l2-1))\n",
    "lCS('abde','acbef',4,5)"
   ]
  },
  {
   "cell_type": "markdown",
   "metadata": {},
   "source": [
    "# Longest Common substring "
   ]
  },
  {
   "cell_type": "code",
   "execution_count": 35,
   "metadata": {},
   "outputs": [
    {
     "data": {
      "text/plain": [
       "5"
      ]
     },
     "execution_count": 35,
     "metadata": {},
     "output_type": "execute_result"
    }
   ],
   "source": [
    "def lcsub(s1,s2,l1,l2,countoflcs):\n",
    "    if l1==0 or l2==0:\n",
    "        return countoflcs\n",
    "    if s1[l1-1]==s2[l2-1]:\n",
    "        countoflcs=lcsub(s1,s2,l1-1,l2-1,countoflcs+1)\n",
    "    count1=lcsub(s1,s2,l1-1,l2,0)\n",
    "    count2=lcsub(s1,s2,l1,l2-1,0)\n",
    "    return max(countoflcs,max(count1,count2))\n",
    "s1='acbdfe'\n",
    "s2='acbdf'\n",
    "l1=len(s1)\n",
    "l2=len(s2)\n",
    "lcsub(s1,s2,l1,l2,0)"
   ]
  },
  {
   "cell_type": "code",
   "execution_count": null,
   "metadata": {},
   "outputs": [],
   "source": []
  }
 ],
 "metadata": {
  "kernelspec": {
   "display_name": "Python 3",
   "language": "python",
   "name": "python3"
  },
  "language_info": {
   "codemirror_mode": {
    "name": "ipython",
    "version": 3
   },
   "file_extension": ".py",
   "mimetype": "text/x-python",
   "name": "python",
   "nbconvert_exporter": "python",
   "pygments_lexer": "ipython3",
   "version": "3.8.10"
  }
 },
 "nbformat": 4,
 "nbformat_minor": 2
}
