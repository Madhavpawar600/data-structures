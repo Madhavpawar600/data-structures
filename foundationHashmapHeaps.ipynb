{
 "cells": [
  {
   "cell_type": "code",
   "execution_count": 1,
   "metadata": {},
   "outputs": [],
   "source": [
    "import heapq"
   ]
  },
  {
   "cell_type": "markdown",
   "metadata": {},
   "source": [
    "# Kth largest element "
   ]
  },
  {
   "cell_type": "code",
   "execution_count": 2,
   "metadata": {},
   "outputs": [
    {
     "data": {
      "text/plain": [
       "7"
      ]
     },
     "execution_count": 2,
     "metadata": {},
     "output_type": "execute_result"
    }
   ],
   "source": [
    "def kthlargest(arr,k):\n",
    "    ls=arr[:k]\n",
    "    heapq.heapify(ls)\n",
    "    for i in range(k,len(arr)):\n",
    "        if ls[0]<arr[i]:\n",
    "            heapq.heapreplace(ls,arr[i]) #first pop and insert\n",
    "    return ls[0]\n",
    "kthlargest([3,6,1,4,7,9,11],3)"
   ]
  },
  {
   "cell_type": "markdown",
   "metadata": {},
   "source": [
    "# Kth smallest element "
   ]
  },
  {
   "cell_type": "code",
   "execution_count": 17,
   "metadata": {},
   "outputs": [
    {
     "data": {
      "text/plain": [
       "4"
      ]
     },
     "execution_count": 17,
     "metadata": {},
     "output_type": "execute_result"
    }
   ],
   "source": [
    "def kthsmallest(arr,k):\n",
    "    arr=[-x for x in arr]\n",
    "    ls=arr[:k]\n",
    "    heapq.heapify(ls)\n",
    "    for i in range(k,len(arr)):\n",
    "        if ls[0]<arr[i]:\n",
    "            heapq.heapreplace(ls,arr[i])\n",
    "    return -ls[0]\n",
    "kthsmallest([3,6,1,4,7,9,11],3)"
   ]
  },
  {
   "cell_type": "markdown",
   "metadata": {},
   "source": [
    "# Last stone weight "
   ]
  },
  {
   "cell_type": "code",
   "execution_count": 14,
   "metadata": {},
   "outputs": [
    {
     "name": "stdout",
     "output_type": "stream",
     "text": [
      "[-4, -2, -1, -1, -1]\n",
      "[-2, -1, -1, -1]\n",
      "[-1, -1, -1]\n",
      "[-1, 0]\n",
      "[-1]\n"
     ]
    },
    {
     "data": {
      "text/plain": [
       "1"
      ]
     },
     "execution_count": 14,
     "metadata": {},
     "output_type": "execute_result"
    }
   ],
   "source": [
    "def laststoneweight(arr):\n",
    "    arr=[-x for x in arr]\n",
    "    heapq.heapify(arr)\n",
    "    while len(arr)>1 and arr[0]!=0:\n",
    "        heapq.heappush(arr, heapq.heappop(arr) - heapq.heappop(arr))\n",
    "        print(arr)\n",
    "    return -arr[0]\n",
    "laststoneweight([2,7,4,1,8,1])"
   ]
  },
  {
   "cell_type": "markdown",
   "metadata": {},
   "source": [
    "# Median data stream\n",
    "(leetcode)"
   ]
  },
  {
   "cell_type": "code",
   "execution_count": 18,
   "metadata": {},
   "outputs": [],
   "source": [
    "class MedianFinder:\n",
    "    \n",
    "    def __init__(self):\n",
    "        self.left=[] #maxheap\n",
    "        self.right=[] #minheap\n",
    "        \n",
    "    def add(self,data):\n",
    "        heapq.heappush(self.left,-data)\n",
    "        heapq.heappush(self.right,-self.left[0])\n",
    "        heapq.heappop(self.left)\n",
    "        \n",
    "        if len(self.left)<len(self.right):\n",
    "            heapq.heappush(self.left,-self.right[0])\n",
    "            heapq.heappop(self.right)\n",
    "    \n",
    "    def findmedian(self):\n",
    "        if len(self.left)>len(self.right):\n",
    "            return -self.left[0]\n",
    "        else:\n",
    "            return (-self.left[0]+self.right[0])/2"
   ]
  },
  {
   "cell_type": "code",
   "execution_count": 20,
   "metadata": {},
   "outputs": [
    {
     "name": "stdout",
     "output_type": "stream",
     "text": [
      "3\n",
      "3.5\n",
      "3\n"
     ]
    }
   ],
   "source": [
    "m1=MedianFinder()\n",
    "m1.add(3)\n",
    "m1.add(4)\n",
    "m1.add(1)\n",
    "print(m1.findmedian())\n",
    "m1.add(8)\n",
    "print(m1.findmedian())\n",
    "m1.add(9)\n",
    "m1.add(2)\n",
    "m1.add(0)\n",
    "print(m1.findmedian())"
   ]
  },
  {
   "cell_type": "markdown",
   "metadata": {},
   "source": [
    "# Merge k sorted LL "
   ]
  },
  {
   "cell_type": "code",
   "execution_count": 1,
   "metadata": {},
   "outputs": [],
   "source": [
    "class ll:\n",
    "    def __init__(self,val=0):\n",
    "        self.val=val\n",
    "        self.next=None"
   ]
  },
  {
   "cell_type": "code",
   "execution_count": 2,
   "metadata": {},
   "outputs": [],
   "source": [
    "a=ll(1)\n",
    "a.next=ll(2)\n",
    "a.next.next=ll(3)\n",
    "\n",
    "b=ll(4)\n",
    "b.next=ll(5)\n",
    "b.next.next=ll(6)\n",
    "b.next.next.next=ll(8)\n",
    "b.next.next.next.next=ll(9)\n",
    "\n",
    "c=ll(3)\n",
    "c.next=ll(7)\n",
    "c.next.next=ll(9)\n",
    "c.next.next.next=ll(10)"
   ]
  },
  {
   "cell_type": "code",
   "execution_count": 3,
   "metadata": {},
   "outputs": [
    {
     "name": "stdout",
     "output_type": "stream",
     "text": [
      "3\n",
      "7\n",
      "9\n",
      "10\n"
     ]
    }
   ],
   "source": [
    "head=c\n",
    "while head:\n",
    "    print(head.val)\n",
    "    head=head.next"
   ]
  },
  {
   "cell_type": "code",
   "execution_count": 4,
   "metadata": {},
   "outputs": [],
   "source": [
    "llst=[a,b,c]"
   ]
  },
  {
   "cell_type": "code",
   "execution_count": 5,
   "metadata": {},
   "outputs": [],
   "source": [
    "import heapq\n",
    "class Solution:\n",
    "    def mergeKLists(self, lists):\n",
    "        q = []\n",
    "        head = tmp = ll(0)\n",
    "        for i, l in enumerate(lists):\n",
    "            if l:\n",
    "                heapq.heappush(q, (l.val, i, l))\n",
    "        while q:\n",
    "            val, _, node = heapq.heappop(q)\n",
    "            head.next = node\n",
    "            head = head.next\n",
    "            node = node.next\n",
    "            if node:\n",
    "                i += 1\n",
    "                heapq.heappush(q, (node.val, i, node))\n",
    "        return tmp.next\n",
    "s1=Solution()\n",
    "nh=s1.mergeKLists(llst)"
   ]
  },
  {
   "cell_type": "code",
   "execution_count": 6,
   "metadata": {},
   "outputs": [
    {
     "name": "stdout",
     "output_type": "stream",
     "text": [
      "1\n",
      "2\n",
      "3\n",
      "3\n",
      "4\n",
      "5\n",
      "6\n",
      "7\n",
      "8\n",
      "9\n",
      "9\n",
      "10\n"
     ]
    }
   ],
   "source": [
    "head=nh\n",
    "while head:\n",
    "    print(head.val)\n",
    "    head=head.next"
   ]
  },
  {
   "cell_type": "markdown",
   "metadata": {},
   "source": [
    "# Merge k sorted list in array "
   ]
  },
  {
   "cell_type": "code",
   "execution_count": 7,
   "metadata": {},
   "outputs": [
    {
     "data": {
      "text/plain": [
       "[1, 2, 3, 4, 5, 5, 7, 8, 9, 9, 10, 10]"
      ]
     },
     "execution_count": 7,
     "metadata": {},
     "output_type": "execute_result"
    }
   ],
   "source": [
    "arr1=[5,9,10]\n",
    "arr2=[1,2,3,4]\n",
    "arr3=[5,7,8,9,10]\n",
    "arrlist=[arr1,arr2,arr3]\n",
    "def mergeKsort(arrlist):\n",
    "    ls=[]\n",
    "    result=[]\n",
    "    for i,l in enumerate(arrlist):\n",
    "        heapq.heappush(ls,(l[0],i,1))\n",
    "        \n",
    "    while len(ls)!=0:\n",
    "        val,lno,idx=heapq.heappop(ls)\n",
    "        result.append(val)\n",
    "        if idx<len(arrlist[lno]):\n",
    "            heapq.heappush(ls,(arrlist[lno][idx],lno,idx+1))\n",
    "        \n",
    "    return result\n",
    "mergeKsort(arrlist)"
   ]
  },
  {
   "cell_type": "code",
   "execution_count": null,
   "metadata": {},
   "outputs": [],
   "source": []
  },
  {
   "cell_type": "markdown",
   "metadata": {},
   "source": [
    "# Maximum Consecutive  one's 1 "
   ]
  },
  {
   "cell_type": "code",
   "execution_count": 2,
   "metadata": {},
   "outputs": [
    {
     "data": {
      "text/plain": [
       "7"
      ]
     },
     "execution_count": 2,
     "metadata": {},
     "output_type": "execute_result"
    }
   ],
   "source": [
    "#you are allowed to flip k zeros need to return max no of consecutive ones\n",
    "#acquire and release strategy\n",
    "def MaxConswithK(arr,k):\n",
    "    count=0\n",
    "    ans=0\n",
    "    j=-1\n",
    "    for i in range(0,len(arr)):\n",
    "        if arr[i]==0:\n",
    "            count+=1\n",
    "        while count>k:\n",
    "            j+=1\n",
    "            if arr[j]==0:\n",
    "                count-=1\n",
    "        length=i-j\n",
    "        ans=max(ans,length)\n",
    "    return ans\n",
    "        \n",
    "MaxConswithK([1,1,0,1,0,0,1,1,0,1,0,1,1],2)"
   ]
  },
  {
   "cell_type": "markdown",
   "metadata": {},
   "source": [
    "# MaxConsecutive one's 2 "
   ]
  },
  {
   "cell_type": "code",
   "execution_count": 6,
   "metadata": {},
   "outputs": [
    {
     "data": {
      "text/plain": [
       "4"
      ]
     },
     "execution_count": 6,
     "metadata": {},
     "output_type": "execute_result"
    }
   ],
   "source": [
    "#you are allowed to flip zero only one time\n",
    "#aquire and release strategy\n",
    "def MaxCons(arr):\n",
    "    count=0\n",
    "    ans=0\n",
    "    j=-1\n",
    "    for i in range(0,len(arr)):\n",
    "        if arr[i]==0:\n",
    "            count+=1\n",
    "        while count>1:\n",
    "            j+=1\n",
    "            if arr[j]==0:\n",
    "                count-=1\n",
    "        length=i-j\n",
    "        ans=max(ans,length)\n",
    "    return ans\n",
    "MaxCons([1,1,0,1,0,0,1,1,0,1,0,1,1])"
   ]
  },
  {
   "cell_type": "markdown",
   "metadata": {},
   "source": [
    "# Longest Substring without repeating characters "
   ]
  },
  {
   "cell_type": "code",
   "execution_count": 21,
   "metadata": {},
   "outputs": [
    {
     "data": {
      "text/plain": [
       "3"
      ]
     },
     "execution_count": 21,
     "metadata": {},
     "output_type": "execute_result"
    }
   ],
   "source": [
    "def LSubWC(string):\n",
    "    ans=0\n",
    "    i=-1\n",
    "    j=-1\n",
    "    hashmap={}\n",
    "    while True:\n",
    "        f1=False\n",
    "        f2=False\n",
    "        \n",
    "        #acquire\n",
    "        while i<len(string)-1:\n",
    "            f1=True\n",
    "            i+=1\n",
    "            ch=string[i]\n",
    "            if ch not in hashmap:\n",
    "                hashmap[ch]=1\n",
    "            else:\n",
    "                hashmap[ch]+=1\n",
    "            if hashmap[ch]==2:\n",
    "                break\n",
    "            else:\n",
    "                length=i-j\n",
    "                ans=max(ans,length)\n",
    "        \n",
    "        #release\n",
    "        while j<i:\n",
    "            f2=True\n",
    "            j+=1\n",
    "            ch=string[j]\n",
    "            hashmap[ch]-=1\n",
    "            if hashmap[ch]==1:\n",
    "                break\n",
    "\n",
    "        if f1==False and f2==False:\n",
    "            break\n",
    "    \n",
    "    return ans\n",
    "        \n",
    "LSubWC(\"bbacbb\")"
   ]
  },
  {
   "cell_type": "markdown",
   "metadata": {},
   "source": [
    "# String contains all binary codes of k size  "
   ]
  },
  {
   "cell_type": "code",
   "execution_count": 47,
   "metadata": {},
   "outputs": [
    {
     "data": {
      "text/plain": [
       "True"
      ]
     },
     "execution_count": 47,
     "metadata": {},
     "output_type": "execute_result"
    }
   ],
   "source": [
    "def hasAllCodes(s, k):\n",
    "    total=2**k\n",
    "    visited=set()\n",
    "    count=0\n",
    "    for i in range(0,len(s)-k+1):\n",
    "        ch=s[i:i+k]\n",
    "        #print(ch)\n",
    "        if ch not in visited:\n",
    "            visited.add(ch)\n",
    "            count+=1\n",
    "        if total==count:\n",
    "            return True\n",
    "    print(count,total)\n",
    "    return False\n",
    "hasAllCodes(\"00000000001011100\",3)"
   ]
  },
  {
   "cell_type": "markdown",
   "metadata": {},
   "source": [
    "# Largest subarray with zero sum"
   ]
  },
  {
   "cell_type": "code",
   "execution_count": 4,
   "metadata": {},
   "outputs": [
    {
     "data": {
      "text/plain": [
       "8"
      ]
     },
     "execution_count": 4,
     "metadata": {},
     "output_type": "execute_result"
    }
   ],
   "source": [
    "#create hashmap and store cumsum with their index\n",
    "#if cumsum already present in hashmap then i-cumsum index\n",
    "def maxSubwithSum0(arr):\n",
    "    hashmap={0:-1}\n",
    "    cumsum=0\n",
    "    ans=0\n",
    "    for i in range(0,len(arr)):\n",
    "        cumsum+=arr[i]\n",
    "        if cumsum not in hashmap:\n",
    "            hashmap[cumsum]=i\n",
    "        else:\n",
    "            length=i-hashmap[cumsum]\n",
    "            ans=max(ans,length)\n",
    "    return ans\n",
    "maxSubwithSum0([2,8,-3,-5,2,-4,6,1,2,1,-3,4])"
   ]
  },
  {
   "cell_type": "markdown",
   "metadata": {},
   "source": [
    "# Count of zero sum subarray\n",
    "same as above question but in this we add occ of no instead of index"
   ]
  },
  {
   "cell_type": "code",
   "execution_count": 7,
   "metadata": {},
   "outputs": [
    {
     "data": {
      "text/plain": [
       "8"
      ]
     },
     "execution_count": 7,
     "metadata": {},
     "output_type": "execute_result"
    }
   ],
   "source": [
    "def countSubsum0(arr):\n",
    "    ans=0\n",
    "    cumsum=0\n",
    "    hashmap={0:1}\n",
    "    for i in range(len(arr)):\n",
    "        cumsum+=arr[i]\n",
    "        if cumsum not in hashmap:\n",
    "            hashmap[cumsum]=1\n",
    "        else:\n",
    "            ans+=hashmap[cumsum]\n",
    "            hashmap[cumsum]+=1\n",
    "    return ans\n",
    "countSubsum0([2,8,-3,-5,2,-4,6,1,2,1,-3,4,-1,-2])"
   ]
  },
  {
   "cell_type": "markdown",
   "metadata": {},
   "source": [
    "# Equivalant subarray\n",
    "count distinct values sub array"
   ]
  },
  {
   "cell_type": "code",
   "execution_count": 8,
   "metadata": {},
   "outputs": [
    {
     "name": "stdout",
     "output_type": "stream",
     "text": [
      "15\n"
     ]
    }
   ],
   "source": [
    "def equivSubarray(arr):\n",
    "    n=len(arr)\n",
    "    ans=0\n",
    "    hashmap={} #key=arr[value] and value=count\n",
    "    for i in arr:\n",
    "        if i not in hashmap:\n",
    "            hashmap[i]=0\n",
    "    distint=len(hashmap)\n",
    "    j=-1\n",
    "    i=-1\n",
    "    count=0\n",
    "    while i<len(arr)-1:\n",
    "        i+=1\n",
    "        if count<distint:\n",
    "            if hashmap[arr[i]]==0:\n",
    "                count+=1\n",
    "            hashmap[arr[i]]+=1\n",
    "        \n",
    "        while j<i and count==distint:\n",
    "            j+=1\n",
    "            ans+=n-i\n",
    "            hashmap[arr[j]]-=1\n",
    "            if hashmap[arr[j]]==0:\n",
    "                count-=1\n",
    "    print(ans)\n",
    "equivSubarray([2,5,3,5,2,4,1,3,1,4])\n",
    "        "
   ]
  },
  {
   "cell_type": "markdown",
   "metadata": {},
   "source": [
    "# Check if array pair is divisible by k "
   ]
  },
  {
   "cell_type": "code",
   "execution_count": 14,
   "metadata": {},
   "outputs": [
    {
     "name": "stdout",
     "output_type": "stream",
     "text": [
      "{4: 1, 6: 1, 5: 2, 9: 1, 1: 1, 2: 1, 8: 1, 0: 2}\n"
     ]
    },
    {
     "data": {
      "text/plain": [
       "True"
      ]
     },
     "execution_count": 14,
     "metadata": {},
     "output_type": "execute_result"
    }
   ],
   "source": [
    "#we need to check that all the array pairs of two can be divisible by k\n",
    "#if x + k-x if divisble by k where x is mod of arr[i]\n",
    "#if x==0 and its not even ie we can cannot make pair\n",
    "def checkDiv(arr,k):\n",
    "    hashmap={}\n",
    "    for i in range(0,len(arr)):\n",
    "        rem=arr[i]%k\n",
    "        if rem not in hashmap:\n",
    "            hashmap[rem]=1\n",
    "        else:\n",
    "            hashmap[rem]+=1\n",
    "    print(hashmap)\n",
    "    for i in range(0,len(arr)):\n",
    "        rem=arr[i]%k\n",
    "        if rem==0:\n",
    "            fq=hashmap[rem]\n",
    "            if fq%2!=0:\n",
    "                return False\n",
    "        elif 2*rem==k:\n",
    "            fq=hashmap[rem]\n",
    "            if fq%2!=0:\n",
    "                return False\n",
    "        else:\n",
    "            fq=hashmap[rem]\n",
    "            ofq=hashmap[k-rem]\n",
    "            if fq!=ofq:\n",
    "                return False\n",
    "    return True\n",
    "    \n",
    "checkDiv([64,26,55,45,89,11,32,18,60,70],10)"
   ]
  },
  {
   "cell_type": "markdown",
   "metadata": {},
   "source": [
    "# Length of largest subarray with Contiguous element"
   ]
  },
  {
   "cell_type": "code",
   "execution_count": 6,
   "metadata": {},
   "outputs": [
    {
     "data": {
      "text/plain": [
       "3"
      ]
     },
     "execution_count": 6,
     "metadata": {},
     "output_type": "execute_result"
    }
   ],
   "source": [
    "#approach when our elements are in contiguous ie or max - min element = len(subarray)(i-j)\n",
    "#example[1,2,3,4,5] min=1, max=5 ,i=4,j=-1 ie max-min=i-j\n",
    "#n2 approach\n",
    "def largestSub(arr):\n",
    "    ans=0\n",
    "    for i in range(0,len(arr)-1):\n",
    "        j=i+1\n",
    "        min1=arr[i]\n",
    "        max1=arr[i]\n",
    "        hashset=set()\n",
    "        hashset.add(arr[i])\n",
    "        while j<len(arr):\n",
    "            if arr[j] in hashset:\n",
    "                break\n",
    "            hashset.add(arr[j])\n",
    "            min1=min(min1,arr[j])\n",
    "            max1=max(max1,arr[j])\n",
    "            if max1-min1==j-i:\n",
    "                len1=j-i+1\n",
    "                ans=max(ans,len1)\n",
    "            j+=1\n",
    "    return ans\n",
    "largestSub([9,8,7,1,6,5,4,23,22])"
   ]
  },
  {
   "cell_type": "markdown",
   "metadata": {},
   "source": [
    "# Longest substring with exactly k Distinct char"
   ]
  },
  {
   "cell_type": "code",
   "execution_count": 20,
   "metadata": {},
   "outputs": [
    {
     "data": {
      "text/plain": [
       "('cbcbcbcbcbcb', 12)"
      ]
     },
     "execution_count": 20,
     "metadata": {},
     "output_type": "execute_result"
    }
   ],
   "source": [
    "#approach aquire release strategy\n",
    "def subStrK(string,k):\n",
    "    hashmap={}\n",
    "    maxlen=0\n",
    "    prevStr=''\n",
    "    i=0\n",
    "    j=-1\n",
    "    while True:\n",
    "        f1=False\n",
    "        f2=False\n",
    "        while i<len(string):\n",
    "            ch=string[i]\n",
    "            if ch not in hashmap:\n",
    "                hashmap[ch]=1\n",
    "            else:\n",
    "                hashmap[ch]+=1\n",
    "            if len(hashmap)==k:\n",
    "                length=i-j\n",
    "                maxlen=max(maxlen,length)\n",
    "                prevStr=string[j+1:i+1]\n",
    "            elif len(hashmap)>k:\n",
    "                break\n",
    "            f1=True\n",
    "            i+=1\n",
    "            \n",
    "        while j<i and len(hashmap)>=k:\n",
    "            j+=1\n",
    "            ch=string[j]\n",
    "            if hashmap[ch]==1:\n",
    "                del hashmap[ch]\n",
    "            else:\n",
    "                hashmap[ch]-=1\n",
    "#             if len(hashmap)<k:\n",
    "#                 break\n",
    "            f2=True\n",
    "        \n",
    "        if f1==False and f2==False:\n",
    "            break\n",
    "    return prevStr,maxlen\n",
    "\n",
    "subStrK('abbaaaacbcbcbcbcbcb',2)"
   ]
  },
  {
   "cell_type": "markdown",
   "metadata": {},
   "source": [
    "# Longest substring at most k unique chars"
   ]
  },
  {
   "cell_type": "code",
   "execution_count": 28,
   "metadata": {},
   "outputs": [
    {
     "data": {
      "text/plain": [
       "('aaabaaaaaaaaaaaaaaaaaaaaa', 25)"
      ]
     },
     "execution_count": 28,
     "metadata": {},
     "output_type": "execute_result"
    }
   ],
   "source": [
    "#approach aquire release\n",
    "def subStrKmost(string,k):\n",
    "    prevStr=''\n",
    "    maxlen=0\n",
    "    hashmap={}\n",
    "    i=0\n",
    "    j=-1\n",
    "    while True:\n",
    "        f1=False\n",
    "        f2=False\n",
    "        while i<len(string):\n",
    "            ch=string[i]\n",
    "            if ch not in hashmap:\n",
    "                hashmap[ch]=1\n",
    "            else:\n",
    "                hashmap[ch]+=1\n",
    "            if len(hashmap)<=k:\n",
    "                length=i-j\n",
    "                if maxlen<length:\n",
    "                    maxlen=length\n",
    "                    prevStr=string[j+1:i+1]\n",
    "            else:\n",
    "                break\n",
    "            i+=1\n",
    "            f1=True\n",
    "            \n",
    "        while j<i and len(hashmap)>k:\n",
    "            j+=1\n",
    "            ch=string[j]\n",
    "            if hashmap[ch]==1:\n",
    "                del hashmap[ch]\n",
    "            else:\n",
    "                hashmap[ch]-=1\n",
    "            f2=True\n",
    "        if f1==False and f2==False:\n",
    "            break\n",
    "    return prevStr,maxlen\n",
    "subStrKmost('aaabaaaaaaaaaaaaaaaaaaaaacbcbcbcbcbcb',2)"
   ]
  },
  {
   "cell_type": "markdown",
   "metadata": {},
   "source": [
    "# Max no of chars btw 2 same char"
   ]
  },
  {
   "cell_type": "code",
   "execution_count": 30,
   "metadata": {},
   "outputs": [
    {
     "data": {
      "text/plain": [
       "10"
      ]
     },
     "execution_count": 30,
     "metadata": {},
     "output_type": "execute_result"
    }
   ],
   "source": [
    "#approach hashmap of char:index \n",
    "def maxCharbtw(string):\n",
    "    hashmap={}\n",
    "    i=0\n",
    "    maxlen=0\n",
    "    for i in range(0,len(string)):\n",
    "        ch=string[i]\n",
    "        if ch not in hashmap:\n",
    "            hashmap[ch]=i\n",
    "        else:\n",
    "            length=i-hashmap[ch]+1\n",
    "            maxlen=max(maxlen,length)\n",
    "    return maxlen\n",
    "maxCharbtw('abccrfgakljc')"
   ]
  },
  {
   "cell_type": "markdown",
   "metadata": {},
   "source": [
    "# Count substring with similar first and last char"
   ]
  },
  {
   "cell_type": "code",
   "execution_count": 31,
   "metadata": {},
   "outputs": [
    {
     "data": {
      "text/plain": [
       "21"
      ]
     },
     "execution_count": 31,
     "metadata": {},
     "output_type": "execute_result"
    }
   ],
   "source": [
    "def countFirstLast(string):\n",
    "    hashmap={}\n",
    "    count=0\n",
    "    for i in range(0,len(string)):\n",
    "        ch=string[i]\n",
    "        if ch not in hashmap:\n",
    "            hashmap[ch]=1\n",
    "        else:\n",
    "            hashmap[ch]+=1\n",
    "        count+=hashmap[ch]\n",
    "    return count\n",
    "countFirstLast('abcbdacdbca')"
   ]
  },
  {
   "cell_type": "markdown",
   "metadata": {},
   "source": [
    "# Reconstruct Itenary"
   ]
  },
  {
   "cell_type": "code",
   "execution_count": null,
   "metadata": {},
   "outputs": [],
   "source": [
    "#2 approaches one is topological sort and another is hashmap\n",
    "#hashmap Approach\n",
    "def itenary(arr):\n",
    "    "
   ]
  },
  {
   "cell_type": "markdown",
   "metadata": {},
   "source": [
    "# Largest Subarray of  0,1 "
   ]
  },
  {
   "cell_type": "code",
   "execution_count": 2,
   "metadata": {},
   "outputs": [
    {
     "data": {
      "text/plain": [
       "8"
      ]
     },
     "execution_count": 2,
     "metadata": {},
     "output_type": "execute_result"
    }
   ],
   "source": [
    "#approach assume 0 as -1, calculate sum then in hashmap store sum:index\n",
    "def LargestSub01(arr):\n",
    "    hashmap={0:-1}\n",
    "    ans=0\n",
    "    cumsum=0\n",
    "    for i in range(0,len(arr)):\n",
    "        if arr[i]==0:\n",
    "            cumsum+=-1\n",
    "        else:\n",
    "            cumsum+=1\n",
    "        if cumsum not in hashmap:\n",
    "            hashmap[cumsum]=i\n",
    "        else:\n",
    "            length=i-hashmap[cumsum]\n",
    "            ans=max(length,ans)\n",
    "    return ans\n",
    "LargestSub01([0,1,1,1,0,0,1,1,1,0,1,0])"
   ]
  },
  {
   "cell_type": "markdown",
   "metadata": {},
   "source": [
    "# Largest Subarray of 0,1,2 "
   ]
  },
  {
   "cell_type": "code",
   "execution_count": 8,
   "metadata": {},
   "outputs": [
    {
     "data": {
      "text/plain": [
       "6"
      ]
     },
     "execution_count": 8,
     "metadata": {},
     "output_type": "execute_result"
    }
   ],
   "source": [
    "#approach make a hashmap of sum(1)-sum(0)#sum(2)-sum(1)(key):index\n",
    "def largestSub012(arr):\n",
    "    hashmap={'0*0':-1}\n",
    "    ones=0\n",
    "    zeros=0\n",
    "    twos=0\n",
    "    ans=0\n",
    "    for i,val in enumerate(arr):\n",
    "        if val==0:\n",
    "            zeros+=1\n",
    "        elif val==1:\n",
    "            ones+=1\n",
    "        elif val==2:\n",
    "            twos+=1\n",
    "        onediff=ones-zeros\n",
    "        twodiff=twos-ones\n",
    "        hashkey=str(onediff)+'*'+str(twodiff)\n",
    "        if hashkey not in hashmap:\n",
    "            hashmap[hashkey]=i\n",
    "        else:\n",
    "            length=i-hashmap[hashkey]\n",
    "            ans=max(length,ans)\n",
    "    return ans\n",
    "largestSub012([0,1,2,1,0,2,1,0])"
   ]
  },
  {
   "cell_type": "markdown",
   "metadata": {},
   "source": [
    "# Count Subarray 0,1 "
   ]
  },
  {
   "cell_type": "code",
   "execution_count": 19,
   "metadata": {},
   "outputs": [
    {
     "name": "stdout",
     "output_type": "stream",
     "text": [
      "{0: 3, -1: 6, -2: 4, 1: 1}\n"
     ]
    },
    {
     "data": {
      "text/plain": [
       "24"
      ]
     },
     "execution_count": 19,
     "metadata": {},
     "output_type": "execute_result"
    }
   ],
   "source": [
    "def CountSub01(arr):\n",
    "    count=0\n",
    "    hashmap={0:1}\n",
    "    cumsum=0\n",
    "    for i,val in enumerate(arr):\n",
    "        if val==0:\n",
    "            cumsum+=-1\n",
    "        elif val==1:\n",
    "            cumsum+=1\n",
    "        if cumsum not in hashmap:\n",
    "            hashmap[cumsum]=1\n",
    "        else:\n",
    "            count+=hashmap[cumsum]\n",
    "            hashmap[cumsum]+=1\n",
    "    print(hashmap)\n",
    "    return count\n",
    "\n",
    "CountSub01([0,0,1,0,1,0,1,1,0,0,1,1,1])"
   ]
  },
  {
   "cell_type": "markdown",
   "metadata": {},
   "source": [
    "# Count subarray 0,1,2"
   ]
  },
  {
   "cell_type": "code",
   "execution_count": 25,
   "metadata": {},
   "outputs": [
    {
     "data": {
      "text/plain": [
       "3"
      ]
     },
     "execution_count": 25,
     "metadata": {},
     "output_type": "execute_result"
    }
   ],
   "source": [
    "def CountSub012(arr):\n",
    "    hashmap={'0*0':1}\n",
    "    count=0\n",
    "    zero=0\n",
    "    one=0\n",
    "    two=0\n",
    "    for i,val in enumerate(arr):\n",
    "        if val==0:\n",
    "            zero+=1\n",
    "        elif val==1:\n",
    "            one+=1\n",
    "        elif val==2:\n",
    "            two+=1\n",
    "        onediff=one-zero\n",
    "        twodiff=two-one\n",
    "        hashkey=str(onediff)+'*'+str(twodiff)\n",
    "        if hashkey not in hashmap:\n",
    "            hashmap[hashkey]=1\n",
    "        else:\n",
    "            count+=hashmap[hashkey]\n",
    "            hashmap[hashkey]+=1\n",
    "    return count\n",
    "CountSub012([0,1,2,2,1,0])\n"
   ]
  },
  {
   "cell_type": "markdown",
   "metadata": {},
   "source": [
    "# Word Pattern"
   ]
  },
  {
   "cell_type": "code",
   "execution_count": 28,
   "metadata": {},
   "outputs": [
    {
     "data": {
      "text/plain": [
       "True"
      ]
     },
     "execution_count": 28,
     "metadata": {},
     "output_type": "execute_result"
    }
   ],
   "source": [
    "def wordPattern(s,pattern):\n",
    "    s=s.split(' ')\n",
    "    hashmap={}\n",
    "    pused=set()\n",
    "    for i in range(len(s)):\n",
    "        if pattern[i] not in hashmap:\n",
    "            if s[i] in pused:\n",
    "                return False\n",
    "            else:\n",
    "                hashmap[pattern[i]]=s[i]\n",
    "                pused.add(s[i])\n",
    "        else:\n",
    "            if hashmap[pattern[i]]!=s[i]:\n",
    "                return False\n",
    "    return True\n",
    "wordPattern('the pep pep coding the','abbca')"
   ]
  },
  {
   "cell_type": "markdown",
   "metadata": {},
   "source": [
    "# Isomorphic Strings"
   ]
  },
  {
   "cell_type": "code",
   "execution_count": null,
   "metadata": {},
   "outputs": [],
   "source": [
    "#two strings called isomorphic when one string character maps other string char\n",
    "def IsomorphicString(str1,str2):\n",
    "    psued=set()#str2\n",
    "    hashmap={} #str1\n",
    "    for i in range(len(str1)):\n",
    "        ch1=str1[i]\n",
    "        ch2=str2[i]\n",
    "        if ch1 not in hashmap:\n",
    "            if ch2 \n",
    "    return True\n",
    "IsomorphicString('abacba','xyxzyx')"
   ]
  },
  {
   "cell_type": "markdown",
   "metadata": {},
   "source": [
    "# Group anagrams "
   ]
  },
  {
   "cell_type": "code",
   "execution_count": 4,
   "metadata": {},
   "outputs": [
    {
     "name": "stdout",
     "output_type": "stream",
     "text": [
      "{'aabb': ['abba', 'abab'], 'aet': ['eat', 'ate', 'tea']}\n"
     ]
    },
    {
     "data": {
      "text/plain": [
       "[['abba', 'abab'], ['eat', 'ate', 'tea']]"
      ]
     },
     "execution_count": 4,
     "metadata": {},
     "output_type": "execute_result"
    }
   ],
   "source": [
    "def groupAnagram(arr):\n",
    "    if len(arr)==0:\n",
    "        return\n",
    "    res=[]\n",
    "    hashmap={}\n",
    "    for x in arr:\n",
    "        val=''.join(sorted(x))\n",
    "        if val in hashmap:\n",
    "            hashmap[val].append(x)\n",
    "        else:\n",
    "            hashmap[val]=[x]\n",
    "    print(hashmap)\n",
    "    for x in hashmap.keys():\n",
    "        res.append(hashmap[x])\n",
    "    return res\n",
    "groupAnagram(['abba','abab','eat','ate','tea'])"
   ]
  },
  {
   "cell_type": "markdown",
   "metadata": {},
   "source": [
    "# Group shifted "
   ]
  },
  {
   "cell_type": "code",
   "execution_count": 9,
   "metadata": {},
   "outputs": [
    {
     "data": {
      "text/plain": [
       "[['acd', 'dfg', 'wyz', 'yab', 'mop'], ['bdfh', 'moqs'], ['a', 'x']]"
      ]
     },
     "execution_count": 9,
     "metadata": {},
     "output_type": "execute_result"
    }
   ],
   "source": [
    "def groupShifted(arr):\n",
    "    if len(arr)==0:\n",
    "        return\n",
    "    hashmap={}\n",
    "    for word in arr:\n",
    "        key=''\n",
    "        for i in range(1,len(word)):\n",
    "            x=ord(word[i].lower())-ord(word[i-1].lower())\n",
    "            if x < 0:\n",
    "                x+=26\n",
    "            key+=str(x)+'-'\n",
    "        if key in hashmap:\n",
    "            hashmap[key].append(word)\n",
    "        else:\n",
    "            hashmap[key]=[word]\n",
    "    result=[]\n",
    "    for x in hashmap.keys():\n",
    "        result.append(hashmap[x])\n",
    "    return result\n",
    "groupShifted(['acd','dfg','wyz','yab','mop','bdfh','a','x','moqs'])"
   ]
  },
  {
   "cell_type": "markdown",
   "metadata": {},
   "source": [
    "# Top k frequent words\n",
    "https://leetcode.com/problems/top-k-frequent-words/submissions/"
   ]
  },
  {
   "cell_type": "code",
   "execution_count": 2,
   "metadata": {},
   "outputs": [],
   "source": [
    "from collections import Counter\n",
    "import heapq\n",
    "class Solution(object):\n",
    "    def topKFrequent(self, words, k):\n",
    "        \"\"\"\n",
    "        :type words: List[str]\n",
    "        :type k: int\n",
    "        :rtype: List[str]\n",
    "        \"\"\"\n",
    "        hashmap=Counter(words)\n",
    "        print(hashmap)\n",
    "        res=[(-freq,word) for word, freq in hashmap.items()]\n",
    "        heapq.heapify(res)\n",
    "        return [heapq.heappop(res)[1] for _ in range(k)]\n",
    "    \n",
    "#sorting algo\n",
    "class Solution(object):\n",
    "    def topKFrequent(self, words, k):\n",
    "        count = collections.Counter(words)\n",
    "        candidates = count.keys()\n",
    "        candidates.sort(key = lambda w: (-count[w], w))\n",
    "        return candidates[:k]"
   ]
  },
  {
   "cell_type": "markdown",
   "metadata": {},
   "source": [
    "# find pascal triangle value of given spot "
   ]
  },
  {
   "cell_type": "code",
   "execution_count": 4,
   "metadata": {},
   "outputs": [
    {
     "data": {
      "text/plain": [
       "6"
      ]
     },
     "execution_count": 4,
     "metadata": {},
     "output_type": "execute_result"
    }
   ],
   "source": [
    "def pascalvalue(x, y, cache):\n",
    "    if str(x)+'_'+str(y) in cache:\n",
    "        return cache[str(x)+'_'+str(y)]\n",
    "    \n",
    "    if x == y or y == 1:\n",
    "        return 1\n",
    "    v1 = pascalvalue(x - 1, y - 1, cache)\n",
    "    v2 = pascalvalue(x - 1, y, cache)\n",
    "    ans = v1 + v2\n",
    "    cache[str(x)+'_'+str(y)] = ans\n",
    "    return ans\n",
    "pascalvalue(5, 3, {})"
   ]
  },
  {
   "cell_type": "code",
   "execution_count": null,
   "metadata": {},
   "outputs": [],
   "source": []
  }
 ],
 "metadata": {
  "kernelspec": {
   "display_name": "Python 3",
   "language": "python",
   "name": "python3"
  },
  "language_info": {
   "codemirror_mode": {
    "name": "ipython",
    "version": 3
   },
   "file_extension": ".py",
   "mimetype": "text/x-python",
   "name": "python",
   "nbconvert_exporter": "python",
   "pygments_lexer": "ipython3",
   "version": "3.8.10"
  }
 },
 "nbformat": 4,
 "nbformat_minor": 2
}
