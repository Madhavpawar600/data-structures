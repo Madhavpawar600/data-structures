{
 "cells": [
  {
   "cell_type": "markdown",
   "metadata": {},
   "source": [
    "# Program for array rotation "
   ]
  },
  {
   "cell_type": "code",
   "execution_count": 9,
   "metadata": {},
   "outputs": [
    {
     "data": {
      "text/plain": [
       "[4, 5, 1, 2, 3]"
      ]
     },
     "execution_count": 9,
     "metadata": {},
     "output_type": "execute_result"
    }
   ],
   "source": [
    "#method 1 by using temp variable (space O(d))\n",
    "#method 2 move 1 by 1 element\n",
    "def leftRotate(arr):\n",
    "    temp=arr[0]\n",
    "    for i in range(0,len(arr)-1):\n",
    "        arr[i]=arr[i+1]\n",
    "    arr[len(arr)-1]=temp\n",
    "    return arr\n",
    "\n",
    "def rightRotate(arr):\n",
    "    n=len(arr)-1\n",
    "    temp=arr[n]\n",
    "    for i in range(len(arr)-1,0,-1):\n",
    "        arr[i]=arr[i-1]\n",
    "    arr[0]=temp\n",
    "    return arr\n",
    "\n",
    "def rotate(arr,k,direction):\n",
    "    for i in range(k):\n",
    "        if direction=='left':\n",
    "            arr=leftRotate(arr)\n",
    "        else:\n",
    "            arr=rightRotate(arr)\n",
    "    return arr\n",
    "rotate([1,2,3,4,5],3,'left')"
   ]
  },
  {
   "cell_type": "markdown",
   "metadata": {},
   "source": [
    "# Reversal Algorithm\n",
    "rotate(arr[], d, n)\n",
    "  reverse(arr[], 1, d) ;\n",
    "  reverse(arr[], d + 1, n);\n",
    "  reverse(arr[], 1, n);"
   ]
  },
  {
   "cell_type": "code",
   "execution_count": 17,
   "metadata": {},
   "outputs": [
    {
     "data": {
      "text/plain": [
       "[2, 3, 4, 5, 1]"
      ]
     },
     "execution_count": 17,
     "metadata": {},
     "output_type": "execute_result"
    }
   ],
   "source": [
    "def reverse(arr,start,end):\n",
    "    i=start\n",
    "    j=end\n",
    "    while i<j:\n",
    "        arr[i],arr[j]=arr[j],arr[i]\n",
    "        i+=1\n",
    "        j-=1\n",
    "    \n",
    "def rotate(arr,k):\n",
    "    n=len(arr)-1\n",
    "    reverse(arr,0,k-1)\n",
    "    reverse(arr,k,n)\n",
    "    reverse(arr,0,n)\n",
    "    \n",
    "    return arr\n",
    "rotate([1,2,3,4,5],1)"
   ]
  }
 ],
 "metadata": {
  "kernelspec": {
   "display_name": "Python 3",
   "language": "python",
   "name": "python3"
  },
  "language_info": {
   "codemirror_mode": {
    "name": "ipython",
    "version": 3
   },
   "file_extension": ".py",
   "mimetype": "text/x-python",
   "name": "python",
   "nbconvert_exporter": "python",
   "pygments_lexer": "ipython3",
   "version": "3.6.8"
  }
 },
 "nbformat": 4,
 "nbformat_minor": 2
}
