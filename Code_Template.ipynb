{
 "cells": [
  {
   "cell_type": "markdown",
   "id": "4b7a74b6",
   "metadata": {},
   "source": [
    "# 1. two pointer: one input, opposite ends "
   ]
  },
  {
   "cell_type": "code",
   "execution_count": 1,
   "id": "185bf362",
   "metadata": {},
   "outputs": [],
   "source": [
    "def fn(arr):\n",
    "    left = ans = 0\n",
    "    right = len(arr) - 1\n",
    "    \n",
    "    while left < right:\n",
    "        # do some logic here for left and right\n",
    "        if condition:\n",
    "            left += 1\n",
    "        else:\n",
    "            right -= 1\n",
    "            \n",
    "    return ans"
   ]
  },
  {
   "cell_type": "markdown",
   "id": "24c11ae3",
   "metadata": {},
   "source": [
    "# 2. two pointer: two inputs, exhaust both "
   ]
  },
  {
   "cell_type": "code",
   "execution_count": 2,
   "id": "ec77c665",
   "metadata": {},
   "outputs": [],
   "source": [
    "def fn(arr1, arr2):\n",
    "    i = j = ans = 0\n",
    "    \n",
    "    while i<len(arr1) and j<len(arr2):\n",
    "        # do logic here\n",
    "        if condition:\n",
    "            i += 1\n",
    "        else:\n",
    "            j += 1\n",
    "        \n",
    "    while i < len(arr1):\n",
    "        # do logic here\n",
    "        i += 1\n",
    "    \n",
    "    while j < len(arr2):\n",
    "        # do logic here\n",
    "        j += 1\n",
    "    \n",
    "    return ans"
   ]
  },
  {
   "cell_type": "markdown",
   "id": "1f049844",
   "metadata": {},
   "source": [
    "# 3. sliding window "
   ]
  },
  {
   "cell_type": "code",
   "execution_count": 3,
   "id": "08e2871d",
   "metadata": {},
   "outputs": [],
   "source": [
    "def fn(arr):\n",
    "    left = ans = 0\n",
    "    \n",
    "    for right in range(len(arr)):\n",
    "        # do logic here to add arr[right] to curr\n",
    "        \n",
    "        while WINDOW_CONDITION_BROKEN:\n",
    "            # remove arr[left] from curr\n",
    "            left += 1\n",
    "            \n",
    "        # update ans\n",
    "    return ans"
   ]
  },
  {
   "cell_type": "markdown",
   "id": "5642d8fd",
   "metadata": {},
   "source": [
    "# 4. Build a prefix sum "
   ]
  },
  {
   "cell_type": "code",
   "execution_count": 4,
   "id": "eb09a437",
   "metadata": {},
   "outputs": [],
   "source": [
    "def fn(arr):\n",
    "    prefix = [arr[0]]\n",
    "    for i in range(1, len(arr)):\n",
    "        prefix.append(prefix[-1] + arr[i])\n",
    "    \n",
    "    return prefix"
   ]
  },
  {
   "cell_type": "markdown",
   "id": "3037d9d1",
   "metadata": {},
   "source": [
    "# 5. Efficient string building "
   ]
  },
  {
   "cell_type": "code",
   "execution_count": 5,
   "id": "e8b2c3aa",
   "metadata": {},
   "outputs": [],
   "source": [
    "# arr is a list of characters\n",
    "def fn(arr):\n",
    "    ans = []\n",
    "    for c in arr:\n",
    "        ans.append(c)\n",
    "    \n",
    "    return ''.join(ans)"
   ]
  },
  {
   "cell_type": "markdown",
   "id": "539fa96b",
   "metadata": {},
   "source": [
    "# 6. Linked List: fast and slow pointer "
   ]
  },
  {
   "cell_type": "code",
   "execution_count": 6,
   "id": "fece049d",
   "metadata": {},
   "outputs": [],
   "source": [
    "def fn(head):\n",
    "    slow = head\n",
    "    fast = head\n",
    "    ans = 0\n",
    "    \n",
    "    while fast and fast.next:\n",
    "        # do logic\n",
    "        slow = slow.next\n",
    "        fast = fast.next.next\n",
    "    return ans\n"
   ]
  },
  {
   "cell_type": "markdown",
   "id": "8abf413b",
   "metadata": {},
   "source": [
    "# 7. reverse a linked list"
   ]
  },
  {
   "cell_type": "code",
   "execution_count": 8,
   "id": "8db2b722",
   "metadata": {},
   "outputs": [],
   "source": [
    "def fn(head):\n",
    "    temp = head\n",
    "    prev = None\n",
    "    while temp:\n",
    "        next_ = temp.next\n",
    "        temp.next = prev\n",
    "        prev = temp\n",
    "        temp = next_\n",
    "    head = prev\n",
    "    return head\n"
   ]
  },
  {
   "cell_type": "markdown",
   "id": "1c1707df",
   "metadata": {},
   "source": [
    "# 8. find the number of subarray that fit an exact criteria"
   ]
  },
  {
   "cell_type": "code",
   "execution_count": 9,
   "id": "0f2fd370",
   "metadata": {},
   "outputs": [],
   "source": [
    "from collections import defaultdict\n",
    "\n",
    "def fn(arr, k):\n",
    "    counts = defaultdict(int)\n",
    "    counts[0] = 1\n",
    "    ans = curr = 0\n",
    "    \n",
    "    for num in arr:\n",
    "        # do logic to change curr\n",
    "        ans += counts[curr - k]\n",
    "        counts[curr] += 1\n",
    "    \n",
    "    return ans"
   ]
  },
  {
   "cell_type": "markdown",
   "id": "ae87b81b",
   "metadata": {},
   "source": [
    "# 9. Monotonic increasing stack\n",
    "same logic can be applied to maintain a monotonic queue"
   ]
  },
  {
   "cell_type": "code",
   "execution_count": 10,
   "id": "17ec9208",
   "metadata": {},
   "outputs": [],
   "source": [
    "def fn(arr):\n",
    "    stack = []\n",
    "    ans = 0\n",
    "    \n",
    "    for num in arr:\n",
    "        # for monotonic decreasing, just flip the > to <\n",
    "        while stack and stack[-1] > num:\n",
    "            # do logic\n",
    "            stack.pop()\n",
    "        stack.append(num)\n",
    "    \n",
    "    return ans"
   ]
  },
  {
   "cell_type": "markdown",
   "id": "a5658bb9",
   "metadata": {},
   "source": [
    "# 10. Binary Tree: dfs(recursive) "
   ]
  },
  {
   "cell_type": "code",
   "execution_count": 11,
   "id": "34251026",
   "metadata": {},
   "outputs": [],
   "source": [
    "def dfs(root):\n",
    "    if not root:\n",
    "        return root\n",
    "    \n",
    "    ans = 0\n",
    "    \n",
    "    # do logic\n",
    "    dfs(root.left)\n",
    "    dfs(root.right)\n",
    "    return ans"
   ]
  },
  {
   "cell_type": "markdown",
   "id": "bf3318db",
   "metadata": {},
   "source": [
    "# 11. Binary Tree: dfs(iterative) "
   ]
  },
  {
   "cell_type": "code",
   "execution_count": 12,
   "id": "c3a4c7a8",
   "metadata": {},
   "outputs": [],
   "source": [
    "def dfs(root):\n",
    "    if not root:\n",
    "        return\n",
    "    \n",
    "    stack = [root]\n",
    "    ans = 0\n",
    "    \n",
    "    while stack:\n",
    "        node = stack.pop()\n",
    "        # do logic\n",
    "        if node.left:\n",
    "            stack.append(node.left)\n",
    "        \n",
    "        if node.right:\n",
    "            stack.append(node.right)\n",
    "    return ans"
   ]
  },
  {
   "cell_type": "markdown",
   "id": "8b93659a",
   "metadata": {},
   "source": [
    "#  12. Binary Tree: BFS"
   ]
  },
  {
   "cell_type": "code",
   "execution_count": 13,
   "id": "81c7295d",
   "metadata": {},
   "outputs": [],
   "source": [
    "from collections import deque\n",
    "\n",
    "def bfs(root):\n",
    "    queue = deque([root])\n",
    "    ans = 0\n",
    "    \n",
    "    while queue:\n",
    "        curr_len = len(queue)\n",
    "        # do logic for current level\n",
    "        \n",
    "        for _ in range(curr_len):\n",
    "            node = queue.popleft()\n",
    "            # do logic\n",
    "            if node.left:\n",
    "                queue.append(node.left)\n",
    "            if node.right:\n",
    "                queue.append(node.right)\n",
    "            \n",
    "    return ans\n"
   ]
  },
  {
   "cell_type": "markdown",
   "id": "64eb4d4a",
   "metadata": {},
   "source": [
    "# 13. DFS recursive"
   ]
  },
  {
   "cell_type": "code",
   "execution_count": 14,
   "id": "4e602a9f",
   "metadata": {},
   "outputs": [],
   "source": [
    "def fn(graph):\n",
    "    def dfs(graph):\n",
    "        ans = 0\n",
    "        # do some logic\n",
    "        for neighbor in graph[node]:\n",
    "            if neighbor not in seen:\n",
    "                seen.add(neighbor)\n",
    "                ans += dfs(neighbor)\n",
    "                \n",
    "        return ans\n",
    "    seen = {START_NODE}\n",
    "    return dfs(START_NODE)\n"
   ]
  },
  {
   "cell_type": "markdown",
   "id": "033c037d",
   "metadata": {},
   "source": [
    "# 14. DFS iterative "
   ]
  },
  {
   "cell_type": "code",
   "execution_count": 15,
   "id": "d1b74eb1",
   "metadata": {},
   "outputs": [],
   "source": [
    "def fn(graph):\n",
    "    stack = [START_NODE]\n",
    "    seen = {START_NODE}\n",
    "    ans = 0\n",
    "    \n",
    "    while stack:\n",
    "        node = stack.pop()\n",
    "        # do some logic\n",
    "        for nbr in graph[node]:\n",
    "            if nbr not in seen:\n",
    "                seen.add(nbr)\n",
    "                stack.append(nbr)\n",
    "    return ans"
   ]
  },
  {
   "cell_type": "markdown",
   "id": "addc31c0",
   "metadata": {},
   "source": [
    "# 15. BFS "
   ]
  },
  {
   "cell_type": "code",
   "execution_count": 16,
   "id": "de24a78c",
   "metadata": {},
   "outputs": [],
   "source": [
    "from collections import deque\n",
    "\n",
    "def fn(graph):\n",
    "    queue = deque([START_NODE])\n",
    "    seen = {START_NODE}\n",
    "    ans = 0\n",
    "    \n",
    "    while queue:\n",
    "        node = queue.popleft()\n",
    "        # do some logic\n",
    "        for nbr in graph[node]:\n",
    "            if nbr not in seen:\n",
    "                seen.add(neigbhor)\n",
    "                queue.append(neighbor)\n",
    "    return ans\n",
    "    \n",
    "    "
   ]
  },
  {
   "cell_type": "markdown",
   "id": "ffd19f76",
   "metadata": {},
   "source": [
    "# 16. Find top k element in the heap "
   ]
  },
  {
   "cell_type": "code",
   "execution_count": 17,
   "id": "c68df84f",
   "metadata": {},
   "outputs": [],
   "source": [
    "import heapq\n",
    "\n",
    "def fn(arr, k):\n",
    "    heap = []\n",
    "    for num in arr:\n",
    "        # do some logic to push onto heap according to the problem's criteria\n",
    "        heapq.heappush(heap, (CRITERIA, num))\n",
    "        if len(heap) > k:\n",
    "            heapq.heappop(heap)\n",
    "    return [num for num in heap]"
   ]
  },
  {
   "cell_type": "markdown",
   "id": "7196e0df",
   "metadata": {},
   "source": [
    "# 17. BinarySearch "
   ]
  },
  {
   "cell_type": "code",
   "execution_count": 18,
   "id": "acbfca10",
   "metadata": {},
   "outputs": [],
   "source": [
    "def fn(arr, target):\n",
    "    left = 0\n",
    "    right = len(arr) - 1\n",
    "    \n",
    "    while left <= right:\n",
    "        mid = (left + right)//2\n",
    "        if arr[mid] == target:\n",
    "            # do something\n",
    "            return\n",
    "        if arr[mid] > target:\n",
    "            right = mid - 1\n",
    "        else:\n",
    "            left = mid + 1\n",
    "    # left is the insertion point\n",
    "    return left\n",
    "\n",
    "    "
   ]
  },
  {
   "cell_type": "markdown",
   "id": "5a13f7bb",
   "metadata": {},
   "source": [
    "# 18. Binary Search: duplicate elements, left-most insertion point "
   ]
  },
  {
   "cell_type": "code",
   "execution_count": 34,
   "id": "e894d882",
   "metadata": {},
   "outputs": [],
   "source": [
    "def fn(arr, target):\n",
    "    left = 0\n",
    "    right = len(arr) - 1\n",
    "    \n",
    "    while left < right:\n",
    "        mid = (left + right) // 2\n",
    "        if arr[mid]>= target:\n",
    "            right = mid\n",
    "        else:\n",
    "            left = mid + 1\n",
    "#         print(right, left)\n",
    "    return left"
   ]
  },
  {
   "cell_type": "markdown",
   "id": "e7b8ccae",
   "metadata": {},
   "source": [
    "# 19. Binary search: duplicate elements, right-most insertion point "
   ]
  },
  {
   "cell_type": "code",
   "execution_count": 39,
   "id": "68f3fb58",
   "metadata": {},
   "outputs": [],
   "source": [
    "def fn(arr, target):\n",
    "    left = 0\n",
    "    right = len(arr) - 1\n",
    "    \n",
    "    while left < right:\n",
    "        mid = (left + right) // 2\n",
    "        if arr[mid] > target:\n",
    "            right = mid\n",
    "        else:\n",
    "            left = mid + 1\n",
    "    return left"
   ]
  },
  {
   "cell_type": "code",
   "execution_count": 40,
   "id": "fbba9891",
   "metadata": {},
   "outputs": [
    {
     "data": {
      "text/plain": [
       "3"
      ]
     },
     "execution_count": 40,
     "metadata": {},
     "output_type": "execute_result"
    }
   ],
   "source": [
    "fn([1,2,2,3,4], 2)"
   ]
  },
  {
   "cell_type": "markdown",
   "id": "4ae6746f",
   "metadata": {},
   "source": [
    "# 20. Binary search: for greedy problem \n",
    "if looking for a minimum"
   ]
  },
  {
   "cell_type": "code",
   "execution_count": 26,
   "id": "c5134ad8",
   "metadata": {},
   "outputs": [],
   "source": [
    "def fn(arr):\n",
    "    def check(x):\n",
    "        # check this function is implemented depending on the problem\n",
    "        return BOOLEAN\n",
    "    \n",
    "    left = MINIMUM_POSSIBLE_ANSWER\n",
    "    right = MAXIMUM_POSSIBLE_ANSWER\n",
    "    \n",
    "    while left <= right:\n",
    "        mid = (left+right) // 2\n",
    "        if check(mid):\n",
    "            right = mid - 1\n",
    "        else:\n",
    "            left = mid + 1\n",
    "    return left"
   ]
  },
  {
   "cell_type": "markdown",
   "id": "8ae88bb7",
   "metadata": {},
   "source": [
    "# 22. Binary search: for greedy problem\n",
    "if looking for maximum"
   ]
  },
  {
   "cell_type": "code",
   "execution_count": 27,
   "id": "a21ecd91",
   "metadata": {},
   "outputs": [],
   "source": [
    "def fn(arr):\n",
    "    def check(x):\n",
    "        # check this function is implemented depending on the problem\n",
    "        return BOOLEAN\n",
    "    \n",
    "    left = MINIMUM_POSSIBLE_ANSWER\n",
    "    right = MAXIMUM_POSSIBLE_ANSWER\n",
    "    \n",
    "    while left <= right:\n",
    "        mid = (left+right) // 2\n",
    "        if check(mid):\n",
    "            left = mid + 1\n",
    "        else:\n",
    "            right = mid - 1\n",
    "    return right"
   ]
  },
  {
   "cell_type": "markdown",
   "id": "5a804f77",
   "metadata": {},
   "source": [
    "# 23. Backtracking "
   ]
  },
  {
   "cell_type": "code",
   "execution_count": 20,
   "id": "de1469ba",
   "metadata": {},
   "outputs": [],
   "source": [
    "def bracktrack(curr, OTHER_ARGUMENT):\n",
    "    if (BASE_CASE):\n",
    "        # modify the ans \n",
    "        return\n",
    "    \n",
    "    ans = 0\n",
    "    for x in (ITERATE_OVER_INPUT):\n",
    "        # modify the current state\n",
    "        ans += backtrack(curr, OTHER_ARGUMENT)\n",
    "        # undo the modification of the current state\n",
    "    return ans"
   ]
  },
  {
   "cell_type": "markdown",
   "id": "2ecf917b",
   "metadata": {},
   "source": [
    "# 24. Dynamic Programing: top-down memoization "
   ]
  },
  {
   "cell_type": "code",
   "execution_count": 21,
   "id": "09b9d7d8",
   "metadata": {},
   "outputs": [],
   "source": [
    "def fn(arr):\n",
    "    def dp(STATE):\n",
    "        if BASE_CASE:\n",
    "            return 0\n",
    "        \n",
    "        if STATE in memo:\n",
    "            return memo[STATE]\n",
    "        ans = RECURRENCE_RELATION(STATE)\n",
    "        memo[STATE] = ans\n",
    "        return ans\n",
    "    memo = {}\n",
    "    return dp(STATE_FOR_THE_WHOLE_INPUT)\n",
    "        "
   ]
  },
  {
   "cell_type": "markdown",
   "id": "856672de",
   "metadata": {},
   "source": [
    "# 25. Build Trie "
   ]
  },
  {
   "cell_type": "code",
   "execution_count": 22,
   "id": "83011c3c",
   "metadata": {},
   "outputs": [],
   "source": [
    "# note using class is only necessary if you want to store the data on every node\n",
    "# otherwise you can implement trie with hashmaps only\n",
    "\n",
    "class TrieNode:\n",
    "    def __init__(self):\n",
    "        # you can store data at nodes if you wish\n",
    "        self.data = None\n",
    "        self.children = {}\n",
    "        \n",
    "def fn(words):\n",
    "    root=TrieNode()\n",
    "    for word in words:\n",
    "        curr = root\n",
    "        for c in word:\n",
    "            if c not in curr.children:\n",
    "                curr.children[c] = TrieNode()\n",
    "            curr = curr.children[c]\n",
    "        # at this point you have a full word at curr\n",
    "        # you can perform more logic here to give curr an attribute if you want\n",
    "    return root\n"
   ]
  },
  {
   "cell_type": "code",
   "execution_count": null,
   "id": "99b26a00",
   "metadata": {},
   "outputs": [],
   "source": []
  }
 ],
 "metadata": {
  "kernelspec": {
   "display_name": "Python 3 (ipykernel)",
   "language": "python",
   "name": "python3"
  },
  "language_info": {
   "codemirror_mode": {
    "name": "ipython",
    "version": 3
   },
   "file_extension": ".py",
   "mimetype": "text/x-python",
   "name": "python",
   "nbconvert_exporter": "python",
   "pygments_lexer": "ipython3",
   "version": "3.8.10"
  }
 },
 "nbformat": 4,
 "nbformat_minor": 5
}
