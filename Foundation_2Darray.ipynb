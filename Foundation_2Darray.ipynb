{
 "cells": [
  {
   "cell_type": "code",
   "execution_count": 1,
   "metadata": {},
   "outputs": [],
   "source": [
    "arr=[[1,2,3,4,5,26],[6,7,8,9,10,27],[11,12,13,14,15,28],[16,17,18,19,20,29],[21,22,23,24,25,30],[31,32,33,34,35,36]]"
   ]
  },
  {
   "cell_type": "code",
   "execution_count": 2,
   "metadata": {},
   "outputs": [
    {
     "data": {
      "text/plain": [
       "[[1, 2, 3, 4, 5, 26],\n",
       " [6, 7, 8, 9, 10, 27],\n",
       " [11, 12, 13, 14, 15, 28],\n",
       " [16, 17, 18, 19, 20, 29],\n",
       " [21, 22, 23, 24, 25, 30],\n",
       " [31, 32, 33, 34, 35, 36]]"
      ]
     },
     "execution_count": 2,
     "metadata": {},
     "output_type": "execute_result"
    }
   ],
   "source": [
    "arr"
   ]
  },
  {
   "cell_type": "markdown",
   "metadata": {},
   "source": [
    "# Wave traversal"
   ]
  },
  {
   "cell_type": "code",
   "execution_count": 3,
   "metadata": {},
   "outputs": [
    {
     "name": "stdout",
     "output_type": "stream",
     "text": [
      "1 6 11 16 21 31 32 22 17 12 7 2 3 8 13 18 23 33 34 24 19 14 9 4 5 10 15 20 25 35 36 30 29 28 27 26 "
     ]
    }
   ],
   "source": [
    "for col in range(0,len(arr[0])):\n",
    "    if col %2==0:\n",
    "        for row in range(0,len(arr)):\n",
    "            print(arr[row][col],end=' ')\n",
    "    else:\n",
    "        for row in range(len(arr)-1,-1,-1):\n",
    "            print(arr[row][col],end=' ')"
   ]
  },
  {
   "cell_type": "markdown",
   "metadata": {},
   "source": [
    "# spiral traversal "
   ]
  },
  {
   "cell_type": "code",
   "execution_count": 10,
   "metadata": {},
   "outputs": [
    {
     "name": "stdout",
     "output_type": "stream",
     "text": [
      "1 2 3 4 5 10 15 20 25 24 23 22 21 16 11 6 \n",
      "\n",
      "7 8 9 14 19 18 17 12 \n",
      "\n",
      "13 \n",
      "\n"
     ]
    }
   ],
   "source": [
    "row_start=0\n",
    "col_start=0\n",
    "row_end=len(arr)\n",
    "col_end=len(arr[0])\n",
    "while row_start<row_end and col_start<col_end:\n",
    "    \n",
    "    #upperrow\n",
    "    for x in range(col_start,col_end):\n",
    "        print(arr[row_start][x],end=' ')\n",
    "    row_start+=1\n",
    "    #lastcol\n",
    "    for x in range(row_start,row_end):\n",
    "        print(arr[x][col_end-1],end=' ')\n",
    "    col_end-=1\n",
    "    #lowerrow\n",
    "    for x in range(col_end-1,col_start-1,-1):\n",
    "        print(arr[row_end-1][x],end=' ')\n",
    "    row_end-=1\n",
    "    #startcol\n",
    "    for x in range(row_end-1,row_start-1,-1):\n",
    "        print(arr[x][col_start],end=' ')\n",
    "    col_start+=1\n",
    "    print('\\n')"
   ]
  },
  {
   "cell_type": "markdown",
   "metadata": {},
   "source": [
    "# Saddle Point\n",
    "min in row and max in col. there is only one saddle point in matrix"
   ]
  },
  {
   "cell_type": "code",
   "execution_count": 30,
   "metadata": {},
   "outputs": [],
   "source": [
    "arr=[[1,8,9],[0,5,4],[2,18,90]]"
   ]
  },
  {
   "cell_type": "code",
   "execution_count": 31,
   "metadata": {},
   "outputs": [],
   "source": [
    "for row in range(0,len(arr)):\n",
    "    _min=arr[row][0]\n",
    "    mincol=0\n",
    "    for col in range(1,len(arr[0])):\n",
    "        if _min>arr[row][col]:\n",
    "            _min=arr[row][col]\n",
    "            mincol=col\n",
    "    _max=arr[0][mincol]\n",
    "    for _row in range(1,len(arr)):\n",
    "        _max=max(_max,arr[_row][mincol])\n",
    "    if _min==_max:\n",
    "        saddlepoint=_min\n",
    "        break"
   ]
  },
  {
   "cell_type": "markdown",
   "metadata": {},
   "source": [
    "# Exit point of matrix \n",
    "There is given 1 and 0 maze in which if 1 comes then 90 degree right"
   ]
  },
  {
   "cell_type": "code",
   "execution_count": 41,
   "metadata": {},
   "outputs": [],
   "source": [
    "maze=[[0,0,1,0,0],[1,0,0,0,0],[0,0,0,0,1],[0,1,0,1,1],[1,0,1,0,1]]"
   ]
  },
  {
   "cell_type": "code",
   "execution_count": 42,
   "metadata": {},
   "outputs": [
    {
     "data": {
      "text/plain": [
       "[[0, 0, 1, 0, 0],\n",
       " [1, 0, 0, 0, 0],\n",
       " [0, 0, 0, 0, 1],\n",
       " [0, 1, 0, 1, 1],\n",
       " [1, 0, 1, 0, 1]]"
      ]
     },
     "execution_count": 42,
     "metadata": {},
     "output_type": "execute_result"
    }
   ],
   "source": [
    "maze"
   ]
  },
  {
   "cell_type": "code",
   "execution_count": 47,
   "metadata": {},
   "outputs": [
    {
     "name": "stdout",
     "output_type": "stream",
     "text": [
      "right right right bottom bottom bottom bottom left left top top top right right right right "
     ]
    }
   ],
   "source": [
    "row=0\n",
    "col=0\n",
    "traverse='Right'\n",
    "while row>=0 and col>=0 and row<len(maze) and col<len(maze[0]):\n",
    "    if maze[row][col]==1:\n",
    "        if traverse=='Left':\n",
    "            print('left',end=' ')\n",
    "            traverse='Top'\n",
    "            row-=1\n",
    "        elif traverse=='Right':\n",
    "            print('right',end=' ')\n",
    "            traverse='Bottom'\n",
    "            row+=1\n",
    "        elif traverse=='Bottom':\n",
    "            print('bottom',end=' ')\n",
    "            traverse='Left'\n",
    "            col-=1\n",
    "        elif traverse=='Top':\n",
    "            print('top',end=' ')\n",
    "            traverse='Right'\n",
    "            col+=1\n",
    "    else:\n",
    "        if traverse=='Left':\n",
    "            print('left',end=' ')\n",
    "            col-=1\n",
    "        elif traverse=='Right':\n",
    "            print('right',end=' ')\n",
    "            col+=1\n",
    "        elif traverse=='Bottom':\n",
    "            print('bottom',end=' ')\n",
    "            row+=1\n",
    "        elif traverse=='Top':\n",
    "            print('top',end=' ')\n",
    "            row-=1\n"
   ]
  },
  {
   "cell_type": "markdown",
   "metadata": {},
   "source": [
    "# Diagonal traversal"
   ]
  },
  {
   "cell_type": "code",
   "execution_count": 12,
   "metadata": {},
   "outputs": [
    {
     "name": "stdout",
     "output_type": "stream",
     "text": [
      "1 7 13 19 25 36 \n",
      "6 12 18 24 35 \n",
      "11 17 23 34 \n",
      "16 22 33 \n",
      "21 32 \n",
      "31 \n"
     ]
    }
   ],
   "source": [
    "#lower\n",
    "for row in range(0,len(arr)):\n",
    "    i=row\n",
    "    j=0\n",
    "    while i<len(arr) and j<len(arr[0])-row:\n",
    "        print(arr[i][j],end=' ')\n",
    "        i+=1\n",
    "        j+=1\n",
    "    print('')"
   ]
  },
  {
   "cell_type": "code",
   "execution_count": 13,
   "metadata": {},
   "outputs": [
    {
     "name": "stdout",
     "output_type": "stream",
     "text": [
      "1 7 13 19 25 36 \n",
      "\n",
      "2 8 14 20 30 \n",
      "\n",
      "3 9 15 29 \n",
      "\n",
      "4 10 28 \n",
      "\n",
      "5 27 \n",
      "\n",
      "26 \n",
      "\n"
     ]
    }
   ],
   "source": [
    "#upper\n",
    "for col in range(0,len(arr[0])):\n",
    "    i=0\n",
    "    j=col\n",
    "    while i<len(arr)-col and j<len(arr[0]):\n",
    "        print(arr[i][j],end=' ')\n",
    "        i+=1\n",
    "        j+=1\n",
    "    print('\\n')"
   ]
  },
  {
   "cell_type": "code",
   "execution_count": 4,
   "metadata": {},
   "outputs": [
    {
     "data": {
      "text/plain": [
       "[[1, 2, 3, 4, 5, 26],\n",
       " [6, 7, 8, 9, 10, 27],\n",
       " [11, 12, 13, 14, 15, 28],\n",
       " [16, 17, 18, 19, 20, 29],\n",
       " [21, 22, 23, 24, 25, 30],\n",
       " [31, 32, 33, 34, 35, 36]]"
      ]
     },
     "execution_count": 4,
     "metadata": {},
     "output_type": "execute_result"
    }
   ],
   "source": [
    "arr"
   ]
  },
  {
   "cell_type": "markdown",
   "metadata": {},
   "source": [
    "# Search in sorted matrix"
   ]
  },
  {
   "cell_type": "code",
   "execution_count": 62,
   "metadata": {},
   "outputs": [
    {
     "name": "stdout",
     "output_type": "stream",
     "text": [
      "22 found at: 4 1\n"
     ]
    }
   ],
   "source": [
    "#my soln\n",
    "def search(arr,x):\n",
    "    _row=None\n",
    "    for row in range(0,len(arr)):\n",
    "        if x==arr[row][len(arr[0])-1]:\n",
    "            print(x,'found at:',row,len(arr[0])-1)\n",
    "            return\n",
    "        elif x<arr[row][len(arr[0])-1]:\n",
    "            _row=row\n",
    "            break\n",
    "    if _row==None:\n",
    "        return 'Not found'\n",
    "    else:\n",
    "        for col in range(0,len(arr)):\n",
    "            if x==arr[_row][col]:\n",
    "                print(x,'found at:',_row,col)\n",
    "                return\n",
    "    return 'Not found'\n",
    "search(arr,22)\n",
    "                "
   ]
  },
  {
   "cell_type": "code",
   "execution_count": 66,
   "metadata": {},
   "outputs": [
    {
     "data": {
      "text/plain": [
       "'notfound'"
      ]
     },
     "execution_count": 66,
     "metadata": {},
     "output_type": "execute_result"
    }
   ],
   "source": [
    "#pepcoder soln\n",
    "def search(arr,x):\n",
    "    i=0\n",
    "    j=len(arr[0])-1\n",
    "    while i< len(arr) and j>=0:\n",
    "        if arr[i][j]==x:\n",
    "            print(x,'found at:',i,j)\n",
    "            return\n",
    "        elif x<arr[i][j]:\n",
    "            j-=1\n",
    "        else:\n",
    "            i+=1\n",
    "    return 'not found'\n",
    "search(arr,55)"
   ]
  },
  {
   "cell_type": "markdown",
   "metadata": {},
   "source": [
    "# Rotate 90 degree clock wise\n",
    "first transpose the matrix ie a[i][j]=a[j][i] then reverse all the rows"
   ]
  },
  {
   "cell_type": "code",
   "execution_count": 14,
   "metadata": {},
   "outputs": [],
   "source": [
    "def rotate_mat(arr):\n",
    "    for i in range(0,len(arr)):\n",
    "        for j in range(i,len(arr[0])):\n",
    "            temp=arr[i][j]\n",
    "            arr[i][j]=arr[j][i]\n",
    "            arr[j][i]=temp\n",
    "    \n",
    "     ##reverse the rows\n",
    "    for x in range(0,len(arr)):\n",
    "        start=0\n",
    "        end=len(arr[0])-1\n",
    "        while start<end:\n",
    "            temp=arr[x][start]\n",
    "            arr[x][start]=arr[x][end]\n",
    "            arr[x][end]=temp\n",
    "            \n",
    "            start+=1\n",
    "            end-=1\n",
    "    return arr"
   ]
  },
  {
   "cell_type": "code",
   "execution_count": 15,
   "metadata": {},
   "outputs": [
    {
     "data": {
      "text/plain": [
       "[[31, 21, 16, 11, 6, 1],\n",
       " [32, 22, 17, 12, 7, 2],\n",
       " [33, 23, 18, 13, 8, 3],\n",
       " [34, 24, 19, 14, 9, 4],\n",
       " [35, 25, 20, 15, 10, 5],\n",
       " [36, 30, 29, 28, 27, 26]]"
      ]
     },
     "execution_count": 15,
     "metadata": {},
     "output_type": "execute_result"
    }
   ],
   "source": [
    "rotate_mat(arr)"
   ]
  },
  {
   "cell_type": "code",
   "execution_count": null,
   "metadata": {},
   "outputs": [],
   "source": []
  },
  {
   "cell_type": "markdown",
   "metadata": {},
   "source": [
    "# Rotate s shell by r rotation\n",
    "first take sth shell in 1d arr then rotate arr the add it to shell again"
   ]
  },
  {
   "cell_type": "code",
   "execution_count": null,
   "metadata": {},
   "outputs": [],
   "source": [
    " def onedrotate(arr,r):\n",
    "    r=r%len(arr)\n",
    "    if r<0:\n",
    "        r=r+len(arr)\n",
    "    reverse(arr,0,len(arr)-r-1)\n",
    "    reverse(arr,len(arr)-r,len(arr)-1)\n",
    "    reverse(arr,0,len(arr)-1)\n",
    "    return arr\n",
    "\n",
    "def reverse(arr,start,end):\n",
    "    while start<end:\n",
    "        temp=arr[start]\n",
    "        arr[start]=arr[end]\n",
    "        arr[end]=temp\n",
    "        start+=1\n",
    "        end-=1\n",
    "    return arr\n",
    "\n",
    "def shelltoarr(matrix,s):\n",
    "    startr=s-1\n",
    "    startc=s-1\n",
    "    endr=len(matrix)-s\n",
    "    endc=len(matrix[0])-s\n",
    "    arr=list()\n",
    "    #right\n",
    "    for c in range(startc,endc+1):\n",
    "        arr.append(matrix[startr][c])\n",
    "    startr+=1\n",
    "    #bottom\n",
    "    for r in range(startr,endr+1):\n",
    "        arr.append(matrix[r][endc])\n",
    "    endc-=1\n",
    "    #left\n",
    "    for c in range(endc,startc-1,-1):\n",
    "        arr.append(matrix[endr][c])\n",
    "    endr-=1\n",
    "    #up\n",
    "    for r in range(endr,startr-1,-1):\n",
    "        arr.append(matrix[r][startc])\n",
    "    startc+=1\n",
    "    \n",
    "    return arr\n",
    "    \n",
    "def fillshell(matrix,s,arr):\n",
    "    startr=s-1\n",
    "    startc=s-1\n",
    "    endr=len(matrix)-s\n",
    "    endc=len(matrix[0])-s\n",
    "    i=0\n",
    "    #right\n",
    "    for c in range(startc,endc+1):\n",
    "        matrix[startr][c]=arr[i]\n",
    "        i+=1\n",
    "    startr+=1\n",
    "    #bottom\n",
    "    for r in range(startr,endr+1):\n",
    "        matrix[r][endc]=arr[i]\n",
    "        i+=1\n",
    "    endc-=1\n",
    "    #left\n",
    "    for c in range(endc,startc-1,-1):\n",
    "        matrix[endr][c]=arr[i]\n",
    "        i+=1\n",
    "    endr-=1\n",
    "    #up\n",
    "    for r in range(endr,startr-1,-1):\n",
    "        matrix[r][startc]=arr[i]\n",
    "        i+=1\n",
    "    startc+=1\n",
    "    return matrix\n",
    "    \n",
    "def rotateshell(matrix,s,r):\n",
    "    arr=shelltoarr(matrix,s)\n",
    "    arr=onedrotate(arr,r)\n",
    "    matrix=fillshell(matrix,s,arr)\n",
    "    return matrix\n",
    "    "
   ]
  },
  {
   "cell_type": "code",
   "execution_count": 134,
   "metadata": {},
   "outputs": [
    {
     "data": {
      "text/plain": [
       "[[1, 2, 3, 4, 5, 26],\n",
       " [6, 8, 9, 10, 15, 27],\n",
       " [11, 7, 13, 14, 20, 28],\n",
       " [16, 12, 18, 19, 25, 29],\n",
       " [21, 17, 22, 23, 24, 30],\n",
       " [31, 32, 33, 34, 35, 36]]"
      ]
     },
     "execution_count": 134,
     "metadata": {},
     "output_type": "execute_result"
    }
   ],
   "source": [
    "rotateshell(arr,2,-1)"
   ]
  },
  {
   "cell_type": "code",
   "execution_count": 131,
   "metadata": {},
   "outputs": [
    {
     "data": {
      "text/plain": [
       "[[1, 2, 3, 4, 5, 26],\n",
       " [6, 7, 8, 9, 10, 27],\n",
       " [11, 12, 13, 14, 15, 28],\n",
       " [16, 17, 18, 19, 20, 29],\n",
       " [21, 22, 23, 24, 25, 30],\n",
       " [31, 32, 33, 34, 35, 36]]"
      ]
     },
     "execution_count": 131,
     "metadata": {},
     "output_type": "execute_result"
    }
   ],
   "source": [
    "arr"
   ]
  }
 ],
 "metadata": {
  "kernelspec": {
   "display_name": "Python 3",
   "language": "python",
   "name": "python3"
  },
  "language_info": {
   "codemirror_mode": {
    "name": "ipython",
    "version": 3
   },
   "file_extension": ".py",
   "mimetype": "text/x-python",
   "name": "python",
   "nbconvert_exporter": "python",
   "pygments_lexer": "ipython3",
   "version": "3.8.5"
  }
 },
 "nbformat": 4,
 "nbformat_minor": 2
}
