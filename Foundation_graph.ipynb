{
 "cells": [
  {
   "cell_type": "code",
   "execution_count": 1,
   "metadata": {},
   "outputs": [],
   "source": [
    "class Edge:\n",
    "    def __init__(self,node,nbr,weight):\n",
    "        self.node=node\n",
    "        self.weight=weight\n",
    "        self.nbr=nbr\n",
    "def create_graph():\n",
    "    n=int(input('No of nodes'))\n",
    "    graph={x:set() for x in range(0,n)}\n",
    "    for i in range(0,n):\n",
    "        ls=input('enter node,nbr,weight').split(',')\n",
    "        v1=int(ls[0])\n",
    "        v2=int(ls[1])\n",
    "        w=int(ls[2])\n",
    "        graph[v1].add(Edge(v1,v2,w))\n",
    "        graph[v2].add(Edge(v2,v1,w))\n",
    "    return graph"
   ]
  },
  {
   "cell_type": "code",
   "execution_count": 4,
   "metadata": {},
   "outputs": [
    {
     "name": "stdout",
     "output_type": "stream",
     "text": [
      "No of nodes3\n",
      "enter node,nbr,weight1,2,3\n",
      "enter node,nbr,weight0,2,4\n",
      "enter node,nbr,weight0,1,1\n"
     ]
    }
   ],
   "source": [
    "g1=create_graph()"
   ]
  },
  {
   "cell_type": "code",
   "execution_count": 6,
   "metadata": {},
   "outputs": [
    {
     "name": "stdout",
     "output_type": "stream",
     "text": [
      "2 to 2 @ 2->\n",
      "2 to 1 @ 2->1->\n",
      "2 to 0 @ 2->0->\n"
     ]
    }
   ],
   "source": [
    "class pair:\n",
    "    def __init__(self,node,path):\n",
    "        self.node=node\n",
    "        self.path=path\n",
    "def haspath(graph,src):\n",
    "    visited={x:False for x in range(0,len(graph))}\n",
    "    queue=[]\n",
    "    queue.append(pair(src,''+str(src)+'->'))\n",
    "    while len(queue)!=0:\n",
    "        p1=queue.pop(0)\n",
    "        if visited[p1.node]==False:\n",
    "            visited[p1.node]=True\n",
    "            print(src,'to',p1.node,'@',p1.path)\n",
    "            for edge in graph[p1.node]:\n",
    "                if visited[edge.nbr]==False:\n",
    "                    queue.append(pair(edge.nbr,p1.path+str(edge.nbr)+'->'))\n",
    "haspath(g1,2)\n",
    "        "
   ]
  },
  {
   "cell_type": "markdown",
   "metadata": {},
   "source": [
    "# Min and Max with their path "
   ]
  },
  {
   "cell_type": "code",
   "execution_count": 1,
   "metadata": {},
   "outputs": [
    {
     "name": "stdout",
     "output_type": "stream",
     "text": [
      "minimum cost: 9223372036854775807 @ \n",
      "maximum cost: -9223372036854775807 @ \n"
     ]
    }
   ],
   "source": [
    "import sys\n",
    "def maxMin(graph,src,dest,visited,cost,path):\n",
    "    global min_,max_,min_path,max_path\n",
    "    if src==dest:\n",
    "        if cost<min_:\n",
    "            min_=cost\n",
    "            min_path=path\n",
    "        if cost>max_:\n",
    "            max_=cost\n",
    "            max_path=path\n",
    "    if src not in visited:\n",
    "        visited.add(src)\n",
    "        for edge in graph[src]:\n",
    "            if edge.nbr not in visited:\n",
    "                maxMin(graph,edge.nbr,dest,visited,cost+edge.weight,path+'-'+edge.nbr)\n",
    "        visited.remove(src)\n",
    "        \n",
    "min_=sys.maxsize\n",
    "min_path,max_path='',''\n",
    "max_=-sys.maxsize\n",
    "visited=set()\n",
    "maxMin(graph,'1','5',visited,0,'1')\n",
    "print('minimum cost:',min_,'@',min_path)\n",
    "print('maximum cost:',max_,'@',max_path)"
   ]
  },
  {
   "cell_type": "markdown",
   "metadata": {},
   "source": [
    "# Spread Infection "
   ]
  },
  {
   "cell_type": "code",
   "execution_count": 2,
   "metadata": {},
   "outputs": [],
   "source": [
    "def spreadInfection(graph,src):\n",
    "    queue=[(src,0)]\n",
    "    count=0\n",
    "    visited={x:0 for x in graph.keys()}\n",
    "    \n",
    "    while len(queue)!=0:\n",
    "        node,time=queue.pop(0)\n",
    "        if visited[node]==0:\n",
    "            visited[node]=time\n",
    "            for edge in graph[node]:\n",
    "                if visited[edge.nbr]==0:\n",
    "                    queue.append((edge.nbr,time+1))\n",
    "    print(visited)\n",
    "#spreadInfection(graph,'1')"
   ]
  },
  {
   "cell_type": "markdown",
   "metadata": {},
   "source": [
    "# Dijkstra Algorithm "
   ]
  },
  {
   "cell_type": "code",
   "execution_count": 3,
   "metadata": {},
   "outputs": [],
   "source": [
    "#dijkastra algorithm uses priority queue\n",
    "from heapq import *\n",
    "def dijkastra(graph,src):\n",
    "    queue=[] #weight, accquired node, path\n",
    "    heappush(queue,(0,src,src))\n",
    "    visited=set()\n",
    "    while len(queue)!=0:\n",
    "        wt,node,path=heappop(queue)\n",
    "        if node not in visited:\n",
    "            visited.add(node)\n",
    "            print(src,'to',node,'cost:-',wt,'@',path)\n",
    "            for edge in graph[node]:\n",
    "                if edge.nbr not in visited:\n",
    "                    heappush(queue,(wt+edge.weight,edge.nbr,path+'-'+edge.nbr))\n",
    "#dijkastra(graph,'1')"
   ]
  },
  {
   "cell_type": "raw",
   "metadata": {},
   "source": [
    "Cover all vertices with min possible edges is called spanning tree.\n",
    "Properties->\n",
    "1)ST is subset of graph.\n",
    "2)ST cannot be disconnected.\n",
    "3)Graph should be single-component to find ST.\n",
    "4)in ST if v no of vertices then v-1 edges.\n",
    "\n",
    "A ST with min cost in a weighted graph is called minimum spanning tree.\n",
    "\n",
    "applications->\n",
    "-Design network cable network route for cities using mini cable.\n",
    "-Design water Supply N/w, Transportation network etc."
   ]
  },
  {
   "cell_type": "markdown",
   "metadata": {},
   "source": [
    "# Min Spanning Tree Prims  "
   ]
  },
  {
   "cell_type": "code",
   "execution_count": 4,
   "metadata": {},
   "outputs": [],
   "source": [
    "def prism(graph,src):\n",
    "    queue=[]\n",
    "    heappush(queue,(0,-1,src)) #wt,acnode,node\n",
    "    visited=set()\n",
    "    while len(queue)!=0:\n",
    "        wt,accnode,node=heappop(queue)\n",
    "        if node not in visited:\n",
    "            visited.add(node)\n",
    "            if accnode!=-1:\n",
    "                print(node,' accquire ',accnode,'@',wt)\n",
    "            for edge in graph[node]:\n",
    "                if edge.nbr not in visited:\n",
    "                    heappush(queue,(edge.weight,node,edge.nbr))\n",
    "#prism(graph,'1')"
   ]
  },
  {
   "cell_type": "markdown",
   "metadata": {},
   "source": [
    "# MST Kruskal Algo "
   ]
  },
  {
   "cell_type": "raw",
   "metadata": {},
   "source": [
    "steps->\n",
    "1)sort the weights of edges in ascending order.\n",
    "2)then add edges and check cycle."
   ]
  },
  {
   "cell_type": "code",
   "execution_count": null,
   "metadata": {},
   "outputs": [],
   "source": [
    "def kruskal(graph):"
   ]
  },
  {
   "cell_type": "markdown",
   "metadata": {},
   "source": [
    "# Topological Sort "
   ]
  },
  {
   "cell_type": "code",
   "execution_count": 5,
   "metadata": {},
   "outputs": [],
   "source": [
    "def tsortHelper(graph,src,visited,stack):\n",
    "    visited.add(src)\n",
    "    for edge in graph[src]:\n",
    "        if edge.nbr not in visited:\n",
    "            tsortHelper(graph,edge.nbr,visited,stack)\n",
    "    stack.append(src)\n",
    "    \n",
    "def topologicalSort(graph):\n",
    "    stack=[]\n",
    "    visited=set()\n",
    "    for src in graph.keys():\n",
    "        if src not in visited:\n",
    "            tsortHelper(graph,src,visited,stack)\n",
    "    while len(stack)!=0:\n",
    "        print(stack.pop(),end=' ')\n",
    "#topologicalSort(gdag)"
   ]
  },
  {
   "cell_type": "markdown",
   "metadata": {},
   "source": [
    "# No of cycles in graph "
   ]
  },
  {
   "cell_type": "code",
   "execution_count": 12,
   "metadata": {},
   "outputs": [],
   "source": [
    "#undirected graph\n",
    "def iscycle(graph,src):\n",
    "    queue=[(src,src)]\n",
    "    visited=set()\n",
    "    count=0\n",
    "    \n",
    "    while len(queue)!=0:\n",
    "        node,path=queue.pop(0)\n",
    "        if node in visited:\n",
    "            count+=1\n",
    "            print(path)\n",
    "        else:\n",
    "            visited.add(node)\n",
    "            for edge in graph[node]:\n",
    "                if edge.nbr not in visited:\n",
    "                    queue.append((edge.nbr,path+'-'+edge.nbr))\n",
    "    return count\n",
    "#iscycle(graph,'1')    "
   ]
  },
  {
   "cell_type": "markdown",
   "metadata": {},
   "source": [
    "## Bipartion\n",
    "a bigraph is graph whose vertice can be divided into 2 disjoint & independent sets u & v such that every edge connects a vertex in U to a vertex in v.\n",
    "A bipartite graph can only have even edge length cycle.\n",
    "odd cycle will only be possible if there is an edge btw 2 vertices in a set but then graph will no longer be bipartite"
   ]
  },
  {
   "cell_type": "code",
   "execution_count": 6,
   "metadata": {},
   "outputs": [
    {
     "name": "stdout",
     "output_type": "stream",
     "text": [
      "{1, 3, 4} {2, 5}\n"
     ]
    },
    {
     "data": {
      "text/plain": [
       "True"
      ]
     },
     "execution_count": 6,
     "metadata": {},
     "output_type": "execute_result"
    }
   ],
   "source": [
    "#naive approach by using 2 sets check g(u,v) check u in sets if its in first set,\n",
    "#then put v in another set or if both u and v present in same set then return False \n",
    "def bipartNaive(nodelist):\n",
    "    s1=set()\n",
    "    s2=set()\n",
    "    for node in nodelist:\n",
    "        u,v=node[0],node[1]\n",
    "        uflag=False\n",
    "        vflag=False\n",
    "        if u in s1 and v in s1 or u in s2 and v in s2:\n",
    "            return False\n",
    "        elif u not in s1 and u not in s2 and v not in s2 and v not in s1:\n",
    "            s1.add(u)\n",
    "            s2.add(v)\n",
    "        \n",
    "        elif u in s1 and v not in s2:\n",
    "            s2.add(v)\n",
    "        elif u not in s1 and v in s2:\n",
    "            s1.add(u)\n",
    "        elif u in s2 and v not in s1:\n",
    "            s1.add(v)\n",
    "        elif u not in s2 and v in s1:\n",
    "            s2.add(u)\n",
    "    print(s1,s2)\n",
    "    return True   \n",
    "bipartNaive([[1,2],[2,3],[2,4],[3,5],[4,5]])"
   ]
  },
  {
   "cell_type": "code",
   "execution_count": 8,
   "metadata": {},
   "outputs": [],
   "source": [
    "#graph coloring approach to check the odd length cycle\n",
    "def bipartiteHelper(graph,src,colorarr):\n",
    "    #colorarr={x:-1 for x in graph.keys()}\n",
    "    queue=[src]\n",
    "    colorarr[src]=1\n",
    "    \n",
    "    while len(queue)!=0:\n",
    "        node=queue.pop(0)\n",
    "        \n",
    "        for edge in graph[node]:\n",
    "            if colorarr[edge.nbr]==colorarr[node]:\n",
    "                return False\n",
    "            elif colorarr[edge.nbr]==-1:\n",
    "                colorarr[edge.nbr]=1-colorarr[node]\n",
    "                queue.append(edge.nbr)\n",
    "    return True\n",
    "def bipartite(graph):\n",
    "    colorarr={x:-1 for x in graph.keys()}\n",
    "    for src in graph.keys():\n",
    "        if colorarr[src]==-1:\n",
    "            if bipartiteHelper(graph,src,colorarr)==False:\n",
    "                print('not bipartite')\n",
    "                return False\n",
    "    print('bipartite')\n",
    "    return True\n",
    "#print(bipartite(graph2))\n",
    "#print(bipartite(graph))"
   ]
  },
  {
   "cell_type": "markdown",
   "metadata": {},
   "source": [
    "# Kahn's algo for topological sort "
   ]
  },
  {
   "cell_type": "raw",
   "metadata": {},
   "source": [
    "*bfs+queue\n",
    "*find indegree of all vertices ie all incoming nodes\n",
    "*push all nodes in queue whose indegree with 0\n",
    "*pop the queue and decrement its neighbor's indegree value "
   ]
  },
  {
   "cell_type": "code",
   "execution_count": 10,
   "metadata": {},
   "outputs": [],
   "source": [
    "def kahnsAlgo(graph,n):#n=len(nodes)\n",
    "    indegree={str(x):0 for x in range(n)}\n",
    "    for node in gdag.keys():\n",
    "        for edge in gdag[node]:\n",
    "            indegree[edge.nbr]+=1\n",
    "    queue=[]\n",
    "    for x in indegree:\n",
    "        if indegree[x]==0:\n",
    "            queue.append(x)\n",
    "    count=0\n",
    "    result=[]\n",
    "    while len(queue)!=0:\n",
    "        node=queue.pop(0)\n",
    "        result.append(node)\n",
    "        for edge in gdag[node]:\n",
    "            indegree[edge.nbr]-=1\n",
    "            if indegree[edge.nbr]==0:\n",
    "                queue.append(edge.nbr)\n",
    "        count+=1\n",
    "    if count!=7:\n",
    "        print('graph is not acyclic')\n",
    "    else:\n",
    "        print(result)"
   ]
  },
  {
   "cell_type": "markdown",
   "metadata": {},
   "source": [
    "# Network Delayed Time "
   ]
  },
  {
   "cell_type": "code",
   "execution_count": 11,
   "metadata": {},
   "outputs": [],
   "source": [
    "from collections import defaultdict\n",
    "from heapq import *\n",
    "import sys\n",
    "class Solution(object):\n",
    "    def networkDelayTime(self, times, N, K):\n",
    "        graph=defaultdict(set)        \n",
    "        for t in times:\n",
    "            u,v,w=t[0],t[1],t[2]\n",
    "            graph[u].add((v,w))\n",
    "        visited=defaultdict()\n",
    "        queue=[]\n",
    "        heappush(queue,(0,K))\n",
    "        while len(queue)!=0:\n",
    "            weight,node=heappop(queue)\n",
    "            if node not in visited:\n",
    "                visited[node]=weight\n",
    "                for nbr,w in graph[node]:\n",
    "                    if nbr not in visited:\n",
    "                        nw=w+weight\n",
    "                        heappush(queue,(nw,nbr))\n",
    "            \n",
    "        return max(visited.values()) if len(visited)==N else -1"
   ]
  },
  {
   "cell_type": "markdown",
   "metadata": {},
   "source": [
    "# Cycle detection in Directed graph "
   ]
  },
  {
   "cell_type": "code",
   "execution_count": 15,
   "metadata": {},
   "outputs": [],
   "source": [
    "from collections import defaultdict\n",
    "class Solution(object):\n",
    "    def cycleutil(self,graph,src,visited):\n",
    "        visited.add(src)\n",
    "        for nbr in graph[src]:\n",
    "            if nbr in visited:\n",
    "                return True\n",
    "            else:\n",
    "                ans=self.cycleutil(graph,nbr,visited)\n",
    "                if ans:\n",
    "                    return True\n",
    "        visited.remove(src)\n",
    "        return False\n",
    "    \n",
    "    def canFinish(self, numCourses, prerequisites):\n",
    "        graph=defaultdict(set)\n",
    "        for ts in prerequisites:\n",
    "            u,v=ts[0],ts[1]\n",
    "            graph[u].add(v)\n",
    "        \n",
    "        visited=set()\n",
    "        for src in graph.keys():\n",
    "            if src not in visited:\n",
    "                if self.cycleutil(graph,src,visited):\n",
    "                    return False            \n",
    "        return True"
   ]
  },
  {
   "cell_type": "markdown",
   "metadata": {},
   "source": [
    "# Kosaraju algorithm (Strongly Connected Components) "
   ]
  },
  {
   "cell_type": "code",
   "execution_count": 17,
   "metadata": {},
   "outputs": [],
   "source": [
    "def dfsHelper(graph,node,visited,stack):\n",
    "    if node in visited:\n",
    "        return\n",
    "    visited.add(node)\n",
    "    for edge in graph[node]:\n",
    "        if edge.nbr not in visited:\n",
    "            dfsHelper(graph,edge.nbr,visited,stack)\n",
    "    stack.append(node)\n",
    "def inverseGraph(graph):\n",
    "    inv=defaultdict(set)\n",
    "    for node in graph.keys():\n",
    "        for x in graph[node]:\n",
    "            inv[x.nbr].add(edge(x.nbr,node))\n",
    "    return inv\n",
    "\n",
    "def dfs2(graph,node,visited):\n",
    "    visited.add(node)\n",
    "    print(node,end=' ')\n",
    "    for edge in graph[node]:\n",
    "        if edge.nbr not in visited:\n",
    "            dfs2(graph,edge.nbr,visited)\n",
    "            \n",
    "def kosaraju(graph):\n",
    "    stack=[]\n",
    "    visited=set()\n",
    "    for src in graph.keys():\n",
    "        if src not in visited:\n",
    "            dfsHelper(graph,src,visited,stack)\n",
    "    invgraph=inverseGraph(graph)\n",
    "    visited=set()\n",
    "    while len(stack)!=0:\n",
    "        node=stack.pop()\n",
    "        if node not in visited:\n",
    "            print('Strongly Components are:-')\n",
    "            dfs2(invgraph,node,visited)\n",
    "            print('')              \n",
    "#kosaraju(compgraph)"
   ]
  },
  {
   "cell_type": "markdown",
   "metadata": {},
   "source": [
    "# Reconstruct Itineray"
   ]
  },
  {
   "cell_type": "code",
   "execution_count": 1,
   "metadata": {},
   "outputs": [],
   "source": [
    "#reconstruct itenary \n",
    "#ds used dict, sorted(list) and stack\n",
    "def findItinerary(tickets):\n",
    "    graph=defaultdict(list)\n",
    "    for path in tickets:\n",
    "        graph[path[0]].append(path[1])\n",
    "        graph[path[0]].sort()\n",
    "    print(graph)\n",
    "    visited=set()\n",
    "    src='JFK'\n",
    "    stack=[src]\n",
    "    result=[]\n",
    "    while len(stack)!=0:\n",
    "        node=stack[-1]\n",
    "        if len(graph[node])==0:\n",
    "            element=stack.pop()\n",
    "            result.append(element)\n",
    "        else:\n",
    "            stack.append(graph[node].pop(0))\n",
    "    return result[::-1]\n",
    "input2=[[\"JFK\",\"SFO\"],[\"JFK\",\"ATL\"],[\"SFO\",\"ATL\"],[\"ATL\",\"JFK\"],[\"ATL\",\"SFO\"]]\n",
    "#findItinerary(input2)"
   ]
  },
  {
   "cell_type": "markdown",
   "metadata": {},
   "source": [
    "# Cheapest flight within k stops\n",
    "optimize Dfs approach and Dijkstra algorithm"
   ]
  },
  {
   "cell_type": "code",
   "execution_count": 24,
   "metadata": {},
   "outputs": [
    {
     "data": {
      "text/plain": [
       "200"
      ]
     },
     "execution_count": 24,
     "metadata": {},
     "output_type": "execute_result"
    }
   ],
   "source": [
    "#optimize dfs approach\n",
    "import sys\n",
    "from collections import defaultdict\n",
    "def flightdfs(graph,src,dest,i,k,cost):\n",
    "    if i>k+1:\n",
    "        return\n",
    "    if src!=dest and cost>findCheapestPrice.minimumcost:\n",
    "        return\n",
    "    if src==dest:\n",
    "        if i<=k+1:\n",
    "            findCheapestPrice.minimumcost=min(findCheapestPrice.minimumcost,cost)\n",
    "        return\n",
    "    for nbr,weight in graph[src]:\n",
    "        flightdfs(graph,nbr,dest,i+1,k,cost+weight)\n",
    "    return\n",
    "        \n",
    "def findCheapestPrice(flights,src,dest,k):\n",
    "    graph=defaultdict(list)\n",
    "    for u,v,w in flights:\n",
    "        graph[u].append((v,w))\n",
    "    findCheapestPrice.minimumcost=sys.maxsize\n",
    "    flightdfs(graph,src,dest,0,k,0)\n",
    "    return findCheapestPrice.minimumcost\n",
    "\n",
    "findCheapestPrice([[0,1,100],[1,2,100],[0,2,500]],0,2,1)"
   ]
  },
  {
   "cell_type": "code",
   "execution_count": 28,
   "metadata": {},
   "outputs": [
    {
     "data": {
      "text/plain": [
       "200"
      ]
     },
     "execution_count": 28,
     "metadata": {},
     "output_type": "execute_result"
    }
   ],
   "source": [
    "#dijkstra algorithm\n",
    "from heapq import *\n",
    "def cheapestPrice(flights,src,dest,k):\n",
    "    graph=defaultdict(list)\n",
    "    for u,v,w in flights:\n",
    "        graph[u].append((v,w))\n",
    "    heap=[(0,0,src)] #cost,stop,src if two cost same then pop whose stops are minimum\n",
    "    while len(heap)!=0:\n",
    "        cost,stop,src=heappop(heap)\n",
    "        \n",
    "        if src==dest:\n",
    "            return cost\n",
    "        for nbr,weight in graph[src]:\n",
    "            if stop<=k:\n",
    "                heappush(heap,(cost+weight,stop+1,nbr))\n",
    "    return -1\n",
    "    \n",
    "cheapestPrice([[0,1,100],[1,2,100],[0,2,500]],0,2,1)"
   ]
  },
  {
   "cell_type": "markdown",
   "metadata": {},
   "source": [
    "# time needed to inform all employees"
   ]
  },
  {
   "cell_type": "code",
   "execution_count": 30,
   "metadata": {},
   "outputs": [],
   "source": [
    "#dfs approach\n",
    "class Solution:\n",
    "    def numOfMinutes(self, n: int, headID: int, manager, informTime):\n",
    "        subordinates = collections.defaultdict(list)\n",
    "        self.res = 0\n",
    "        for i, v in enumerate(manager):\n",
    "            subordinates[v].append(i)\n",
    "        \n",
    "        def dfs(manager, time):\n",
    "            self.res = max(self.res, time)\n",
    "            for subordinate in subordinates[manager]:\n",
    "                dfs(subordinate, time + informTime[manager])\n",
    "        dfs(headID, 0)        \n",
    "        return self.res"
   ]
  },
  {
   "cell_type": "code",
   "execution_count": 31,
   "metadata": {},
   "outputs": [],
   "source": [
    "#bfs approach\n",
    "from collections import defaultdict\n",
    "class Solution(object):\n",
    "    def numOfMinutes(self, n, headID, manager, informTime):\n",
    "        tree=defaultdict(set)\n",
    "        \n",
    "        for i,m in enumerate(manager):\n",
    "            if m!=-1:\n",
    "                tree[m].add(i)\n",
    "        if len(tree)==0:\n",
    "            return 0\n",
    "        print(tree)\n",
    "        queue=[(headID,0)]\n",
    "        timetaken=0\n",
    "        while len(queue)!=0:\n",
    "            node,time=queue.pop(0)\n",
    "            timetaken=max(timetaken,time)\n",
    "            for nbr in tree[node]:\n",
    "                queue.append((nbr,time+informTime[node]))\n",
    "        return timetaken\n",
    "#s1=Solution()\n",
    "#s1.numOfMinutes(15,0,[-1,0,0,1,1,2,2,3,3,4,4,5,5,6,6],[1,1,1,1,1,1,1,0,0,0,0,0,0,0,0])"
   ]
  },
  {
   "cell_type": "code",
   "execution_count": null,
   "metadata": {},
   "outputs": [],
   "source": []
  }
 ],
 "metadata": {
  "kernelspec": {
   "display_name": "Python 3",
   "language": "python",
   "name": "python3"
  },
  "language_info": {
   "codemirror_mode": {
    "name": "ipython",
    "version": 3
   },
   "file_extension": ".py",
   "mimetype": "text/x-python",
   "name": "python",
   "nbconvert_exporter": "python",
   "pygments_lexer": "ipython3",
   "version": "3.8.10"
  }
 },
 "nbformat": 4,
 "nbformat_minor": 2
}
